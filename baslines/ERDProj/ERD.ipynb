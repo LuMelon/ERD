{
 "cells": [
  {
   "cell_type": "markdown",
   "metadata": {
    "heading_collapsed": true
   },
   "source": [
    "#### 导入库"
   ]
  },
  {
   "cell_type": "code",
   "execution_count": 1,
   "metadata": {
    "hidden": true
   },
   "outputs": [],
   "source": [
    "import torch\n",
    "import importlib\n",
    "from tensorboardX import SummaryWriter\n",
    "import torch.nn.utils.rnn as rnn_utils\n",
    "import pickle\n",
    "import tqdm\n",
    "import os\n",
    "import torch.nn as nn\n",
    "import sys"
   ]
  },
  {
   "cell_type": "code",
   "execution_count": 2,
   "metadata": {
    "hidden": true
   },
   "outputs": [],
   "source": [
    "sys.path.append(\".\")"
   ]
  },
  {
   "cell_type": "code",
   "execution_count": 3,
   "metadata": {
    "hidden": true
   },
   "outputs": [
    {
     "name": "stdout",
     "output_type": "stream",
     "text": [
      "load glove finished\n"
     ]
    }
   ],
   "source": [
    "from dataUtilsV0 import *"
   ]
  },
  {
   "cell_type": "code",
   "execution_count": 4,
   "metadata": {
    "hidden": true
   },
   "outputs": [],
   "source": [
    "import json"
   ]
  },
  {
   "cell_type": "code",
   "execution_count": 5,
   "metadata": {
    "hidden": true
   },
   "outputs": [],
   "source": [
    "from collections import deque"
   ]
  },
  {
   "cell_type": "code",
   "execution_count": 6,
   "metadata": {
    "hidden": true
   },
   "outputs": [],
   "source": [
    "import torch.nn as nn\n",
    "import torch.nn.functional as F\n",
    "from torch.autograd import Variable"
   ]
  },
  {
   "cell_type": "markdown",
   "metadata": {
    "heading_collapsed": true
   },
   "source": [
    "### 数据集分析"
   ]
  },
  {
   "cell_type": "code",
   "execution_count": 9,
   "metadata": {
    "hidden": true
   },
   "outputs": [],
   "source": [
    "with open(\"../../config.json\", \"r\") as cr:\n",
    "    dic = json.load(cr)\n",
    "\n",
    "class adict(dict):\n",
    "    ''' Attribute dictionary - a convenience data structure, similar to SimpleNamespace in python 3.3\n",
    "        One can use attributes to read/write dictionary content.\n",
    "    '''\n",
    "    def __init__(self, *av, **kav):\n",
    "        dict.__init__(self, *av, **kav)\n",
    "        self.__dict__ = self\n",
    "\n",
    "FLAGS = adict(dic)"
   ]
  },
  {
   "cell_type": "code",
   "execution_count": 10,
   "metadata": {
    "hidden": true
   },
   "outputs": [
    {
     "name": "stdout",
     "output_type": "stream",
     "text": [
      "max_sent: 308 ,  max_seq_len: 346\n",
      "5802 data loaded\n"
     ]
    }
   ],
   "source": [
    "load_data_fast()"
   ]
  },
  {
   "cell_type": "code",
   "execution_count": 10,
   "metadata": {
    "collapsed": true,
    "hidden": true
   },
   "outputs": [
    {
     "ename": "KeyboardInterrupt",
     "evalue": "",
     "output_type": "error",
     "traceback": [
      "\u001b[0;31m---------------------------------------------------------------------------\u001b[0m",
      "\u001b[0;31mKeyboardInterrupt\u001b[0m                         Traceback (most recent call last)",
      "\u001b[0;32m<ipython-input-10-74443e5ca22f>\u001b[0m in \u001b[0;36m<module>\u001b[0;34m\u001b[0m\n\u001b[0;32m----> 1\u001b[0;31m \u001b[0mload_data\u001b[0m\u001b[0;34m(\u001b[0m\u001b[0;34m\"/home/hadoop/pheme-rnr-dataset/\"\u001b[0m\u001b[0;34m,\u001b[0m \u001b[0mFLAGS\u001b[0m\u001b[0;34m)\u001b[0m\u001b[0;34m\u001b[0m\u001b[0m\n\u001b[0m",
      "\u001b[0;32m~/ERD/baslines/ERDProj/dataUtils.py\u001b[0m in \u001b[0;36mload_data\u001b[0;34m(data_path, FLAGS)\u001b[0m\n\u001b[1;32m    134\u001b[0m     \u001b[0;31m# load data to json\u001b[0m\u001b[0;34m\u001b[0m\u001b[0;34m\u001b[0m\u001b[0m\n\u001b[1;32m    135\u001b[0m     \u001b[0;32mfor\u001b[0m \u001b[0mfile\u001b[0m \u001b[0;32min\u001b[0m \u001b[0mfiles\u001b[0m\u001b[0;34m:\u001b[0m\u001b[0;34m\u001b[0m\u001b[0m\n\u001b[0;32m--> 136\u001b[0;31m         \u001b[0mtd\u001b[0m \u001b[0;34m=\u001b[0m \u001b[0mdata_process\u001b[0m\u001b[0;34m(\u001b[0m\u001b[0mfile\u001b[0m\u001b[0;34m)\u001b[0m \u001b[0;31m# read out the information from json file, and organized it as {dataID:{'key':val}}\u001b[0m\u001b[0;34m\u001b[0m\u001b[0m\n\u001b[0m\u001b[1;32m    137\u001b[0m         \u001b[0;32mfor\u001b[0m \u001b[0mkey\u001b[0m \u001b[0;32min\u001b[0m \u001b[0mtd\u001b[0m\u001b[0;34m.\u001b[0m\u001b[0mkeys\u001b[0m\u001b[0;34m(\u001b[0m\u001b[0;34m)\u001b[0m\u001b[0;34m:\u001b[0m \u001b[0;31m# use temporary data to organize the final whole data\u001b[0m\u001b[0;34m\u001b[0m\u001b[0m\n\u001b[1;32m    138\u001b[0m             \u001b[0;32mif\u001b[0m \u001b[0mkey\u001b[0m \u001b[0;32min\u001b[0m \u001b[0mdata\u001b[0m\u001b[0;34m:\u001b[0m\u001b[0;34m\u001b[0m\u001b[0m\n",
      "\u001b[0;32m~/ERD/baslines/ERDProj/dataUtils.py\u001b[0m in \u001b[0;36mdata_process\u001b[0;34m(file_path)\u001b[0m\n\u001b[1;32m     67\u001b[0m     \u001b[0mret\u001b[0m \u001b[0;34m=\u001b[0m \u001b[0;34m{\u001b[0m\u001b[0;34m}\u001b[0m\u001b[0;34m\u001b[0m\u001b[0m\n\u001b[1;32m     68\u001b[0m     \u001b[0mss\u001b[0m \u001b[0;34m=\u001b[0m \u001b[0mfile_path\u001b[0m\u001b[0;34m.\u001b[0m\u001b[0msplit\u001b[0m\u001b[0;34m(\u001b[0m\u001b[0;34m\"/\"\u001b[0m\u001b[0;34m)\u001b[0m\u001b[0;34m\u001b[0m\u001b[0m\n\u001b[0;32m---> 69\u001b[0;31m     \u001b[0mdata\u001b[0m \u001b[0;34m=\u001b[0m \u001b[0mjson\u001b[0m\u001b[0;34m.\u001b[0m\u001b[0mload\u001b[0m\u001b[0;34m(\u001b[0m\u001b[0mopen\u001b[0m\u001b[0;34m(\u001b[0m\u001b[0mfile_path\u001b[0m\u001b[0;34m,\u001b[0m \u001b[0mmode\u001b[0m\u001b[0;34m=\u001b[0m\u001b[0;34m\"r\"\u001b[0m\u001b[0;34m,\u001b[0m \u001b[0mencoding\u001b[0m\u001b[0;34m=\u001b[0m\u001b[0;34m\"utf-8\"\u001b[0m\u001b[0;34m)\u001b[0m\u001b[0;34m)\u001b[0m\u001b[0;34m\u001b[0m\u001b[0m\n\u001b[0m\u001b[1;32m     70\u001b[0m     \u001b[0;31m# 'Wed Jan 07 11:14:08 +0000 2015'\u001b[0m\u001b[0;34m\u001b[0m\u001b[0;34m\u001b[0m\u001b[0m\n\u001b[1;32m     71\u001b[0m     \u001b[0;31m# print(\"SS:\", ss)\u001b[0m\u001b[0;34m\u001b[0m\u001b[0;34m\u001b[0m\u001b[0m\n",
      "\u001b[0;32m~/.conda/envs/torch_B/lib/python3.6/json/__init__.py\u001b[0m in \u001b[0;36mload\u001b[0;34m(fp, cls, object_hook, parse_float, parse_int, parse_constant, object_pairs_hook, **kw)\u001b[0m\n\u001b[1;32m    297\u001b[0m         \u001b[0mcls\u001b[0m\u001b[0;34m=\u001b[0m\u001b[0mcls\u001b[0m\u001b[0;34m,\u001b[0m \u001b[0mobject_hook\u001b[0m\u001b[0;34m=\u001b[0m\u001b[0mobject_hook\u001b[0m\u001b[0;34m,\u001b[0m\u001b[0;34m\u001b[0m\u001b[0m\n\u001b[1;32m    298\u001b[0m         \u001b[0mparse_float\u001b[0m\u001b[0;34m=\u001b[0m\u001b[0mparse_float\u001b[0m\u001b[0;34m,\u001b[0m \u001b[0mparse_int\u001b[0m\u001b[0;34m=\u001b[0m\u001b[0mparse_int\u001b[0m\u001b[0;34m,\u001b[0m\u001b[0;34m\u001b[0m\u001b[0m\n\u001b[0;32m--> 299\u001b[0;31m         parse_constant=parse_constant, object_pairs_hook=object_pairs_hook, **kw)\n\u001b[0m\u001b[1;32m    300\u001b[0m \u001b[0;34m\u001b[0m\u001b[0m\n\u001b[1;32m    301\u001b[0m \u001b[0;34m\u001b[0m\u001b[0m\n",
      "\u001b[0;32m~/.conda/envs/torch_B/lib/python3.6/json/__init__.py\u001b[0m in \u001b[0;36mloads\u001b[0;34m(s, encoding, cls, object_hook, parse_float, parse_int, parse_constant, object_pairs_hook, **kw)\u001b[0m\n\u001b[1;32m    352\u001b[0m             \u001b[0mparse_int\u001b[0m \u001b[0;32mis\u001b[0m \u001b[0;32mNone\u001b[0m \u001b[0;32mand\u001b[0m \u001b[0mparse_float\u001b[0m \u001b[0;32mis\u001b[0m \u001b[0;32mNone\u001b[0m \u001b[0;32mand\u001b[0m\u001b[0;34m\u001b[0m\u001b[0m\n\u001b[1;32m    353\u001b[0m             parse_constant is None and object_pairs_hook is None and not kw):\n\u001b[0;32m--> 354\u001b[0;31m         \u001b[0;32mreturn\u001b[0m \u001b[0m_default_decoder\u001b[0m\u001b[0;34m.\u001b[0m\u001b[0mdecode\u001b[0m\u001b[0;34m(\u001b[0m\u001b[0ms\u001b[0m\u001b[0;34m)\u001b[0m\u001b[0;34m\u001b[0m\u001b[0m\n\u001b[0m\u001b[1;32m    355\u001b[0m     \u001b[0;32mif\u001b[0m \u001b[0mcls\u001b[0m \u001b[0;32mis\u001b[0m \u001b[0;32mNone\u001b[0m\u001b[0;34m:\u001b[0m\u001b[0;34m\u001b[0m\u001b[0m\n\u001b[1;32m    356\u001b[0m         \u001b[0mcls\u001b[0m \u001b[0;34m=\u001b[0m \u001b[0mJSONDecoder\u001b[0m\u001b[0;34m\u001b[0m\u001b[0m\n",
      "\u001b[0;32m~/.conda/envs/torch_B/lib/python3.6/json/decoder.py\u001b[0m in \u001b[0;36mdecode\u001b[0;34m(self, s, _w)\u001b[0m\n\u001b[1;32m    337\u001b[0m \u001b[0;34m\u001b[0m\u001b[0m\n\u001b[1;32m    338\u001b[0m         \"\"\"\n\u001b[0;32m--> 339\u001b[0;31m         \u001b[0mobj\u001b[0m\u001b[0;34m,\u001b[0m \u001b[0mend\u001b[0m \u001b[0;34m=\u001b[0m \u001b[0mself\u001b[0m\u001b[0;34m.\u001b[0m\u001b[0mraw_decode\u001b[0m\u001b[0;34m(\u001b[0m\u001b[0ms\u001b[0m\u001b[0;34m,\u001b[0m \u001b[0midx\u001b[0m\u001b[0;34m=\u001b[0m\u001b[0m_w\u001b[0m\u001b[0;34m(\u001b[0m\u001b[0ms\u001b[0m\u001b[0;34m,\u001b[0m \u001b[0;36m0\u001b[0m\u001b[0;34m)\u001b[0m\u001b[0;34m.\u001b[0m\u001b[0mend\u001b[0m\u001b[0;34m(\u001b[0m\u001b[0;34m)\u001b[0m\u001b[0;34m)\u001b[0m\u001b[0;34m\u001b[0m\u001b[0m\n\u001b[0m\u001b[1;32m    340\u001b[0m         \u001b[0mend\u001b[0m \u001b[0;34m=\u001b[0m \u001b[0m_w\u001b[0m\u001b[0;34m(\u001b[0m\u001b[0ms\u001b[0m\u001b[0;34m,\u001b[0m \u001b[0mend\u001b[0m\u001b[0;34m)\u001b[0m\u001b[0;34m.\u001b[0m\u001b[0mend\u001b[0m\u001b[0;34m(\u001b[0m\u001b[0;34m)\u001b[0m\u001b[0;34m\u001b[0m\u001b[0m\n\u001b[1;32m    341\u001b[0m         \u001b[0;32mif\u001b[0m \u001b[0mend\u001b[0m \u001b[0;34m!=\u001b[0m \u001b[0mlen\u001b[0m\u001b[0;34m(\u001b[0m\u001b[0ms\u001b[0m\u001b[0;34m)\u001b[0m\u001b[0;34m:\u001b[0m\u001b[0;34m\u001b[0m\u001b[0m\n",
      "\u001b[0;32m~/.conda/envs/torch_B/lib/python3.6/json/decoder.py\u001b[0m in \u001b[0;36mraw_decode\u001b[0;34m(self, s, idx)\u001b[0m\n\u001b[1;32m    353\u001b[0m         \"\"\"\n\u001b[1;32m    354\u001b[0m         \u001b[0;32mtry\u001b[0m\u001b[0;34m:\u001b[0m\u001b[0;34m\u001b[0m\u001b[0m\n\u001b[0;32m--> 355\u001b[0;31m             \u001b[0mobj\u001b[0m\u001b[0;34m,\u001b[0m \u001b[0mend\u001b[0m \u001b[0;34m=\u001b[0m \u001b[0mself\u001b[0m\u001b[0;34m.\u001b[0m\u001b[0mscan_once\u001b[0m\u001b[0;34m(\u001b[0m\u001b[0ms\u001b[0m\u001b[0;34m,\u001b[0m \u001b[0midx\u001b[0m\u001b[0;34m)\u001b[0m\u001b[0;34m\u001b[0m\u001b[0m\n\u001b[0m\u001b[1;32m    356\u001b[0m         \u001b[0;32mexcept\u001b[0m \u001b[0mStopIteration\u001b[0m \u001b[0;32mas\u001b[0m \u001b[0merr\u001b[0m\u001b[0;34m:\u001b[0m\u001b[0;34m\u001b[0m\u001b[0m\n\u001b[1;32m    357\u001b[0m             \u001b[0;32mraise\u001b[0m \u001b[0mJSONDecodeError\u001b[0m\u001b[0;34m(\u001b[0m\u001b[0;34m\"Expecting value\"\u001b[0m\u001b[0;34m,\u001b[0m \u001b[0ms\u001b[0m\u001b[0;34m,\u001b[0m \u001b[0merr\u001b[0m\u001b[0;34m.\u001b[0m\u001b[0mvalue\u001b[0m\u001b[0;34m)\u001b[0m \u001b[0;32mfrom\u001b[0m \u001b[0;32mNone\u001b[0m\u001b[0;34m\u001b[0m\u001b[0m\n",
      "\u001b[0;31mKeyboardInterrupt\u001b[0m: "
     ]
    }
   ],
   "source": [
    "load_data(\"/home/hadoop/pheme-rnr-dataset/\", FLAGS)"
   ]
  },
  {
   "cell_type": "code",
   "execution_count": 11,
   "metadata": {
    "hidden": true
   },
   "outputs": [],
   "source": [
    "del data\n",
    "del data_ID\n",
    "del data_y\n",
    "del data_len\n",
    "from dataUtils import data\n",
    "from dataUtils import data_ID\n",
    "from dataUtils import data_y\n",
    "from dataUtils import data_len"
   ]
  },
  {
   "cell_type": "code",
   "execution_count": 12,
   "metadata": {
    "hidden": true
   },
   "outputs": [],
   "source": [
    "import time"
   ]
  },
  {
   "cell_type": "code",
   "execution_count": 13,
   "metadata": {
    "hidden": true
   },
   "outputs": [],
   "source": [
    "t_hour = [(data[data_ID[i]]['created_at'][-1]-data[data_ID[i]]['created_at'][0])/3600.0 for i in range(len(data_ID))] "
   ]
  },
  {
   "cell_type": "code",
   "execution_count": 14,
   "metadata": {
    "hidden": true
   },
   "outputs": [],
   "source": [
    "import seaborn as sns"
   ]
  },
  {
   "cell_type": "code",
   "execution_count": 41,
   "metadata": {
    "hidden": true
   },
   "outputs": [],
   "source": [
    "def plot_hist(x_tuples, bins, xlabel, ylabel, legends, title):\n",
    "    colors = [(1, 0, 0), (1, 1, 0), (0, 1, 0,), (0, 0, 1)]\n",
    "    def normfun(x,mu,sigma):\n",
    "        pdf = np.exp(-((x - mu)**2)/(2*sigma**2)) / (sigma * np.sqrt(2*np.pi))\n",
    "        return pdf\n",
    "    plt.xlabel(xlabel)\n",
    "    plt.ylabel(ylabel)\n",
    "    plt.title(title)\n",
    "#     plt.xlim(0, 200)\n",
    "    for i in range(len(x_tuples)):\n",
    "        sns.distplot(x_tuples[i], bins=bins, rug=False, kde=True, hist=True, norm_hist=True, label=legends[i], hist_kws={\"histtype\": \"step\", \"linewidth\": 2,\n",
    "        \"alpha\": 1}, kde_kws={\"color\": colors[0], \"lw\": 0, \"label\": \"\"})"
   ]
  },
  {
   "cell_type": "code",
   "execution_count": 16,
   "metadata": {
    "hidden": true
   },
   "outputs": [],
   "source": [
    "import matplotlib.pyplot as plt"
   ]
  },
  {
   "cell_type": "code",
   "execution_count": 28,
   "metadata": {
    "hidden": true
   },
   "outputs": [
    {
     "data": {
      "text/plain": [
       "(5802, 728.7561111111111, 0.0)"
      ]
     },
     "execution_count": 28,
     "metadata": {},
     "output_type": "execute_result"
    }
   ],
   "source": [
    "len(t_hour), max(t_hour), min(t_hour)"
   ]
  },
  {
   "cell_type": "code",
   "execution_count": 38,
   "metadata": {
    "hidden": true
   },
   "outputs": [
    {
     "data": {
      "text/plain": [
       "(346, 1)"
      ]
     },
     "execution_count": 38,
     "metadata": {},
     "output_type": "execute_result"
    }
   ],
   "source": [
    "max(data_len), min(data_len)"
   ]
  },
  {
   "cell_type": "code",
   "execution_count": 42,
   "metadata": {
    "hidden": true
   },
   "outputs": [
    {
     "data": {
      "image/png": "[encoded data removed]",
      "text/plain": [
       "<Figure size 432x288 with 1 Axes>"
      ]
     },
     "metadata": {
      "needs_background": "light"
     },
     "output_type": "display_data"
    }
   ],
   "source": [
    "plot_hist([data_len], 1000, \"tweets\", \"percentage\", [\"\"], \"statics of the dataset\")"
   ]
  },
  {
   "cell_type": "markdown",
   "metadata": {
    "heading_collapsed": true
   },
   "source": [
    "### 切割数据集"
   ]
  },
  {
   "cell_type": "code",
   "execution_count": 43,
   "metadata": {
    "hidden": true
   },
   "outputs": [
    {
     "data": {
      "text/plain": [
       "(5802, 5802, 5802)"
      ]
     },
     "execution_count": 43,
     "metadata": {},
     "output_type": "execute_result"
    }
   ],
   "source": [
    "len(data_ID), len(data_y), len(data_len)"
   ]
  },
  {
   "cell_type": "code",
   "execution_count": 52,
   "metadata": {
    "hidden": true
   },
   "outputs": [],
   "source": [
    "new_y =[]\n",
    "new_ID = []\n",
    "new_len = []\n",
    "\n",
    "for l, ID, y in zip(data_len, data_ID, data_y):\n",
    "    if l > 5:\n",
    "        new_len.append(l)\n",
    "        new_ID.append(ID)\n",
    "        new_y.append(y)"
   ]
  },
  {
   "cell_type": "code",
   "execution_count": 53,
   "metadata": {
    "hidden": true
   },
   "outputs": [
    {
     "data": {
      "text/plain": [
       "(4604, 4604, 4604)"
      ]
     },
     "execution_count": 53,
     "metadata": {},
     "output_type": "execute_result"
    }
   ],
   "source": [
    "len(new_ID), len(new_len), len(new_y)"
   ]
  },
  {
   "cell_type": "code",
   "execution_count": 62,
   "metadata": {
    "hidden": true
   },
   "outputs": [],
   "source": [
    "with open('data/data_dict.txt', 'wb') as handle:\n",
    "    pickle.dump(data, handle, protocol=pickle.HIGHEST_PROTOCOL)\n",
    "np.save(\"data/data_ID.npy\", np.array(new_ID)[:-500])\n",
    "np.save(\"data/data_len.npy\", np.array(new_len)[:-500])\n",
    "np.save(\"data/data_y.npy\", np.array(new_y)[:-500])\n",
    "\n",
    "np.save(\"data/test_data_ID.npy\", np.array(new_ID)[-500:])\n",
    "np.save(\"data/test_data_len.npy\", np.array(new_len)[-500:])\n",
    "np.save(\"data/test_data_y.npy\", np.array(new_y)[-500:])"
   ]
  },
  {
   "cell_type": "markdown",
   "metadata": {
    "heading_collapsed": true
   },
   "source": [
    "### 模型训练与测试"
   ]
  },
  {
   "cell_type": "code",
   "execution_count": 10,
   "metadata": {
    "hidden": true
   },
   "outputs": [],
   "source": [
    "\n",
    "class LayerNormLSTMCell(nn.LSTMCell):\n",
    "    def __init__(self, input_size, hidden_size, dropout=0.0, bias=True, use_layer_norm=True):\n",
    "        super().__init__(input_size, hidden_size, bias)\n",
    "        self.use_layer_norm = use_layer_norm\n",
    "        if self.use_layer_norm:\n",
    "            self.ln_ih = nn.LayerNorm(4 * hidden_size)\n",
    "            self.ln_hh = nn.LayerNorm(4 * hidden_size)\n",
    "            self.ln_ho = nn.LayerNorm(hidden_size)\n",
    "        # DropConnect on the recurrent hidden to hidden weight\n",
    "        self.dropout = dropout\n",
    "\n",
    "    def forward(self, input, hidden=None):\n",
    "        self.check_forward_input(input)\n",
    "        if hidden is None:\n",
    "            hx = input.new_zeros(input.size(0), self.hidden_size, requires_grad=False)\n",
    "            cx = input.new_zeros(input.size(0), self.hidden_size, requires_grad=False)\n",
    "        else:\n",
    "            hx, cx = hidden\n",
    "        self.check_forward_hidden(input, hx, '[0]')\n",
    "        self.check_forward_hidden(input, cx, '[1]')\n",
    "\n",
    "        weight_hh = nn.functional.dropout(self.weight_hh, p=self.dropout, training=self.training)\n",
    "        if self.use_layer_norm:\n",
    "            gates = self.ln_ih(F.linear(input, self.weight_ih, self.bias_ih)) \\\n",
    "                     + self.ln_hh(F.linear(hx, weight_hh, self.bias_hh))\n",
    "        else:\n",
    "            gates = F.linear(input, self.weight_ih, self.bias_ih) \\\n",
    "                    + F.linear(hx, weight_hh, self.bias_hh)\n",
    "\n",
    "        i, f, c, o = gates.chunk(4, 1)\n",
    "        i_ = torch.sigmoid(i)\n",
    "        f_ = torch.sigmoid(f)\n",
    "        c_ = torch.tanh(c)\n",
    "        o_ = torch.sigmoid(o)\n",
    "        cy = (f_ * cx) + (i_ * c_)\n",
    "        if self.use_layer_norm:\n",
    "            hy = o_ * self.ln_ho(torch.tanh(cy))\n",
    "        else:\n",
    "            hy = o_ * torch.tanh(cy)\n",
    "        return hy, cy\n",
    "\n",
    "class LayerNormLSTM(nn.Module):\n",
    "    def __init__(self,\n",
    "                 input_size,\n",
    "                 hidden_size,\n",
    "                 num_layers=1,\n",
    "                 dropout=0.0,\n",
    "                 weight_dropout=0.0,\n",
    "                 bias=True,\n",
    "                 bidirectional=False,\n",
    "                 use_layer_norm=True):\n",
    "        super().__init__()\n",
    "        self.input_size = input_size\n",
    "        self.hidden_size = hidden_size\n",
    "        self.num_layers = num_layers\n",
    "        # using variational dropout\n",
    "        self.dropout = dropout\n",
    "        self.bidirectional = bidirectional\n",
    "\n",
    "        num_directions = 2 if bidirectional else 1\n",
    "        self.hidden0 = nn.ModuleList([\n",
    "            LayerNormLSTMCell(input_size=(input_size if layer == 0 else hidden_size * num_directions),\n",
    "                              hidden_size=hidden_size, dropout=weight_dropout, bias=bias, use_layer_norm=use_layer_norm)\n",
    "            for layer in range(num_layers)\n",
    "        ])\n",
    "\n",
    "        if self.bidirectional:\n",
    "            self.hidden1 = nn.ModuleList([\n",
    "                LayerNormLSTMCell(input_size=(input_size if layer == 0 else hidden_size * num_directions),\n",
    "                                  hidden_size=hidden_size, dropout=weight_dropout, bias=bias, use_layer_norm=use_layer_norm)\n",
    "                for layer in range(num_layers)\n",
    "            ])\n",
    "\n",
    "    def copy_parameters(self, rnn_old):\n",
    "        for param in rnn_old.named_parameters():\n",
    "            name_ = param[0].split(\"_\")\n",
    "            layer = int(name_[2].replace(\"l\", \"\"))\n",
    "            sub_name = \"_\".join(name_[:2])\n",
    "            if len(name_) > 3:\n",
    "                self.hidden1[layer].register_parameter(sub_name, param[1])\n",
    "            else:\n",
    "                self.hidden0[layer].register_parameter(sub_name, param[1])\n",
    "\n",
    "    def forward(self, input, hidden=None, seq_lens=None):\n",
    "        seq_len, batch_size, _ = input.size()\n",
    "        num_directions = 2 if self.bidirectional else 1\n",
    "        if hidden is None:\n",
    "            hx = input.new_zeros(self.num_layers * num_directions, batch_size, self.hidden_size, requires_grad=False)\n",
    "            cx = input.new_zeros(self.num_layers * num_directions, batch_size, self.hidden_size, requires_grad=False)\n",
    "        else:\n",
    "            hx, cx = hidden\n",
    "\n",
    "        ht = []\n",
    "        for i in range(seq_len):\n",
    "            ht.append([None] * (self.num_layers * num_directions))\n",
    "        ct = []\n",
    "        for i in range(seq_len):\n",
    "            ct.append([None] * (self.num_layers * num_directions))\n",
    "\n",
    "        seq_len_mask = input.new_ones(batch_size, seq_len, self.hidden_size, requires_grad=False)\n",
    "        if seq_lens != None:\n",
    "            for i, l in enumerate(seq_lens):\n",
    "                seq_len_mask[i, l:, :] = 0\n",
    "        seq_len_mask = seq_len_mask.transpose(0, 1)\n",
    "\n",
    "        if self.bidirectional:\n",
    "            # if use cuda, change 'torch.LongTensor' to 'torch.cuda.LongTensor'\n",
    "            indices_ = (torch.LongTensor(seq_lens) - 1).unsqueeze(1).unsqueeze(0).unsqueeze(0).repeat(\n",
    "                [1, 1, 1, self.hidden_size])\n",
    "            # if use cuda, change 'torch.LongTensor' to 'torch.cuda.LongTensor'\n",
    "            indices_reverse = torch.LongTensor([0] * batch_size).unsqueeze(1).unsqueeze(0).unsqueeze(0).repeat(\n",
    "                [1, 1, 1, self.hidden_size])\n",
    "            indices = torch.cat((indices_, indices_reverse), dim=1)\n",
    "            hy = []\n",
    "            cy = []\n",
    "            xs = input\n",
    "            # Variational Dropout\n",
    "            if not self.training or self.dropout == 0:\n",
    "                dropout_mask = input.new_ones(self.num_layers, 2, batch_size, self.hidden_size)\n",
    "            else:\n",
    "                dropout_mask = input.new(self.num_layers, 2, batch_size, self.hidden_size).bernoulli_(1 - self.dropout)\n",
    "                dropout_mask = Variable(dropout_mask, requires_grad=False) / (1 - self.dropout)\n",
    "\n",
    "            for l, (layer0, layer1) in enumerate(zip(self.hidden0, self.hidden1)):\n",
    "                l0, l1 = 2 * l, 2 * l + 1\n",
    "                h0, c0, h1, c1 = hx[l0], cx[l0], hx[l1], cx[l1]\n",
    "                for t, (x0, x1) in enumerate(zip(xs, reversed(xs))):\n",
    "                    ht_, ct_ = layer0(x0, (h0, c0))\n",
    "                    ht[t][l0] = ht_ * seq_len_mask[t]\n",
    "                    ct[t][l0] = ct_ * seq_len_mask[t]\n",
    "                    h0, c0 = ht[t][l0], ct[t][l0]\n",
    "                    t = seq_len - 1 - t\n",
    "                    ht_, ct_ = layer1(x1, (h1, c1))\n",
    "                    ht[t][l1] = ht_ * seq_len_mask[t]\n",
    "                    ct[t][l1] = ct_ * seq_len_mask[t]\n",
    "                    h1, c1 = ht[t][l1], ct[t][l1]\n",
    "\n",
    "                xs = [torch.cat((h[l0]*dropout_mask[l][0], h[l1]*dropout_mask[l][1]), dim=1) for h in ht]\n",
    "                ht_temp = torch.stack([torch.stack([h[l0], h[l1]]) for h in ht])\n",
    "                ct_temp = torch.stack([torch.stack([c[l0], c[l1]]) for c in ct])\n",
    "                if len(hy) == 0:\n",
    "                    hy = torch.stack(list(ht_temp.gather(dim=0, index=indices).squeeze(0)))\n",
    "                else:\n",
    "                    hy = torch.cat((hy, torch.stack(list(ht_temp.gather(dim=0, index=indices).squeeze(0)))), dim=0)\n",
    "                if len(cy) == 0:\n",
    "                    cy = torch.stack(list(ct_temp.gather(dim=0, index=indices).squeeze(0)))\n",
    "                else:\n",
    "                    cy = torch.cat((cy, torch.stack(list(ct_temp.gather(dim=0, index=indices).squeeze(0)))), dim=0)\n",
    "            y  = torch.stack(xs)\n",
    "        else:\n",
    "            # if use cuda, change 'torch.LongTensor' to 'torch.cuda.LongTensor'\n",
    "            indices = (torch.cuda.LongTensor(seq_lens) - 1).unsqueeze(1).unsqueeze(0).unsqueeze(0).repeat(\n",
    "                [1, self.num_layers, 1, self.hidden_size])\n",
    "            h, c = hx, cx\n",
    "            # Variational Dropout\n",
    "            if not self.training or self.dropout == 0:\n",
    "                dropout_mask = input.new_ones(self.num_layers, batch_size, self.hidden_size)\n",
    "            else:\n",
    "                dropout_mask = input.new(self.num_layers, batch_size, self.hidden_size).bernoulli_(1 - self.dropout)\n",
    "                dropout_mask = Variable(dropout_mask, requires_grad=False) / (1 - self.dropout)\n",
    "\n",
    "            for t, x in enumerate(input):\n",
    "                for l, layer in enumerate(self.hidden0):\n",
    "                    ht_, ct_ = layer(x, (h[l], c[l]))\n",
    "                    ht[t][l] = ht_ * seq_len_mask[t]\n",
    "                    ct[t][l] = ct_ * seq_len_mask[t]\n",
    "                    x = ht[t][l] * dropout_mask[l]\n",
    "                ht[t] = torch.stack(ht[t])\n",
    "                ct[t] = torch.stack(ct[t])\n",
    "                h, c = ht[t], ct[t]\n",
    "            y = torch.stack([h[-1]*dropout_mask[-1] for h in ht])\n",
    "            hy = torch.stack(list(torch.stack(ht).gather(dim=0, index=indices).squeeze(0)))\n",
    "            cy = torch.stack(list(torch.stack(ct).gather(dim=0, index=indices).squeeze(0)))\n",
    "\n",
    "        return y, (hy, cy)"
   ]
  },
  {
   "cell_type": "code",
   "execution_count": 11,
   "metadata": {
    "hidden": true
   },
   "outputs": [],
   "source": [
    "class RDM_Model_V1(nn.Module):\n",
    "    def __init__(self, word_embedding_dim, sent_embedding_dim, hidden_dim, dropout_prob):\n",
    "        super(RDM_Model_V1, self).__init__()\n",
    "        self.embedding_dim = sent_embedding_dim\n",
    "        self.hidden_dim = hidden_dim\n",
    "        self.gru_model = LayerNormLSTM(word_embedding_dim, \n",
    "                                self.hidden_dim, \n",
    "                                dropout=dropout_prob\n",
    "                            )\n",
    "\n",
    "    def forward(self, input_x, seq_lens): \n",
    "        \"\"\"\n",
    "        input_x: [batchsize, max_seq_len, sentence_embedding_dim] \n",
    "        x_len: [batchsize]\n",
    "        init_states: [batchsize, hidden_dim]\n",
    "        \"\"\"\n",
    "        batchsize, max_seq_len, emb_dim = input_x.shape\n",
    "        h0 = torch.zeros([1, batchsize, self.hidden_dim], dtype=torch.float32).cuda()\n",
    "        c0 = torch.zeros([1, batchsize, self.hidden_dim], dtype=torch.float32).cuda()\n",
    "        df_outputs, (df_last_state, df_last_cell) = self.gru_model(input_x.transpose(0, 1), (h0, c0), seq_lens)\n",
    "        return df_outputs.transpose(0, 1), df_last_state.transpose(0, 1), df_last_cell.transpose(0, 1)"
   ]
  },
  {
   "cell_type": "code",
   "execution_count": 12,
   "metadata": {
    "hidden": true
   },
   "outputs": [],
   "source": [
    "class pooling_layer(nn.Module):\n",
    "    def __init__(self, input_dim, output_dim):\n",
    "        super(pooling_layer, self).__init__()\n",
    "        self.linear = nn.Linear(input_dim, output_dim)\n",
    "        self.input_dim = input_dim\n",
    "        self.output_dim = output_dim\n",
    "        \n",
    "    def forward(self, inputs, cuda=True):\n",
    "        # [batchsize, max_seq_len, max_word_num, input_dim] \n",
    "#         batch_size, max_seq_len, max_word_num, input_dim = inputs.shape\n",
    "#         assert(input_dim == self.input_dim)\n",
    "#         t_inputs = inputs.reshape([-1, self.input_dim])\n",
    "#         return self.linear(t_inputs).reshape(\n",
    "            \n",
    "#             [-1, max_word_num, self.output_dim]\n",
    "        \n",
    "#         ).max(axis=1)[0].reshape(\n",
    "        \n",
    "#             [-1, max_seq_len, self.output_dim]\n",
    "        \n",
    "#         )\n",
    "        inputs_sent = [torch.cat([self.linear(sent_tensor.cuda() if cuda else sent_tensor).max(axis=0)[0].unsqueeze(0) for sent_tensor in seq]) for seq in inputs]\n",
    "        seqs = torch.nn.utils.rnn.pad_sequence(inputs_sent, batch_first=True)\n",
    "        return seqs\n",
    "\n",
    "class RDM_Model(nn.Module):\n",
    "    def __init__(self, word_embedding_dim, sent_embedding_dim, hidden_dim, dropout_prob):\n",
    "        super(RDM_Model, self).__init__()\n",
    "        self.embedding_dim = sent_embedding_dim\n",
    "        self.hidden_dim = hidden_dim\n",
    "        self.gru_model = nn.GRU(word_embedding_dim, \n",
    "                                self.hidden_dim, \n",
    "                                batch_first=True, \n",
    "                                dropout=dropout_prob\n",
    "                            )\n",
    "        self.DropLayer = nn.Dropout(dropout_prob)\n",
    "\n",
    "    def forward(self, input_x): \n",
    "        \"\"\"\n",
    "        input_x: [batchsize, max_seq_len, sentence_embedding_dim] \n",
    "        x_len: [batchsize]\n",
    "        init_states: [batchsize, hidden_dim]\n",
    "        \"\"\"\n",
    "        batchsize, max_seq_len, emb_dim = input_x.shape\n",
    "        init_states = torch.zeros([1, batchsize, self.hidden_dim], dtype=torch.float32).cuda()\n",
    "        try:\n",
    "            df_outputs, df_last_state = self.gru_model(input_x, init_states)\n",
    "        except:\n",
    "            print(\"Error:\", pool_feature.shape, init_states.shape)\n",
    "            raise\n",
    "        # hidden_outs = [df_outputs[i][:x_len[i]] for i in range(batchsize)]\n",
    "        # final_outs = [df_outputs[i][x_len[i]-1] for i in range(batchsize)]\n",
    "        # return hidden_outs, final_outs\n",
    "        return df_outputs"
   ]
  },
  {
   "cell_type": "code",
   "execution_count": 13,
   "metadata": {
    "hidden": true
   },
   "outputs": [],
   "source": [
    "def Count_Accs(ylabel, preds):\n",
    "    correct_preds = np.array(\n",
    "        [1 if y1==y2 else 0 \n",
    "        for (y1, y2) in zip(ylabel, preds)]\n",
    "    )\n",
    "    y_idxs = [idx if yl >0 else idx - len(ylabel) \n",
    "            for (idx, yl) in enumerate(ylabel)]\n",
    "    pos_idxs = list(filter(lambda x: x >= 0, y_idxs))\n",
    "    neg_idxs = list(filter(lambda x: x < 0, y_idxs))\n",
    "    acc = sum(correct_preds) / (1.0 * len(ylabel))\n",
    "    if len(pos_idxs) > 0:\n",
    "        pos_acc = sum(correct_preds[pos_idxs])/(1.0*len(pos_idxs))\n",
    "    else:\n",
    "        pos_acc = 0\n",
    "    if len(neg_idxs) > 0:\n",
    "        neg_acc = sum(correct_preds[neg_idxs])/(1.0*len(neg_idxs))\n",
    "    else:\n",
    "        neg_acc = 0\n",
    "    return acc, pos_acc, neg_acc, y_idxs, pos_idxs, neg_idxs, correct_preds\n"
   ]
  },
  {
   "cell_type": "code",
   "execution_count": 14,
   "metadata": {
    "hidden": true
   },
   "outputs": [],
   "source": [
    "def TrainRDMModel(rdm_model, sent_pooler, rdm_classifier, \n",
    "                    t_steps=100, stage=0, new_data_len=[], valid_new_len=[], logger=None, \n",
    "                        log_dir=\"RDMBertTrain\", cuda=True):\n",
    "    batch_size = 40\n",
    "    sum_loss = 0.0\n",
    "    sum_acc = 0.0\n",
    "    t_acc = 0.9\n",
    "    ret_acc = 0.0\n",
    "    init_states = torch.zeros([1, batch_size, rdm_model.hidden_dim], dtype=torch.float32).cuda()\n",
    "    weight = torch.tensor([2.0, 1.0], dtype=torch.float32).cuda()\n",
    "    loss_fn = nn.CrossEntropyLoss(weight=weight)\n",
    "    optim = torch.optim.Adagrad([\n",
    "                                {'params': sent_pooler.parameters(), 'lr': 5e-3},\n",
    "                                {'params': rdm_model.parameters(), 'lr': 5e-3},\n",
    "                                {'params': rdm_classifier.parameters(), 'lr': 5e-3}\n",
    "                             ]\n",
    "    )\n",
    "    \n",
    "    writer = SummaryWriter(log_dir, filename_suffix=\"_ERD_CM_stage_%3d\"%stage)\n",
    "    best_valid_acc = 0.0\n",
    "    for step in range(t_steps):\n",
    "        optim.zero_grad()\n",
    "        try:\n",
    "            x, x_len, y = get_df_batch(step*batch_size, batch_size)\n",
    "            seq = sent_pooler(x)\n",
    "            rdm_hiddens = rdm_model(seq)\n",
    "            batchsize, _, _ = rdm_hiddens.shape\n",
    "            rdm_outs = torch.cat(\n",
    "                [ rdm_hiddens[i][x_len[i]-1].unsqueeze(0) for i in range(batchsize)] \n",
    "                # a list of tensor, where the ndim of tensor is 1 and the shape of tensor is [hidden_size]\n",
    "            )\n",
    "            rdm_scores = rdm_classifier(\n",
    "                rdm_outs\n",
    "            )\n",
    "            rdm_preds = rdm_scores.argmax(axis=1)\n",
    "            y_label = torch.tensor(y).argmax(axis=1).cuda() if cuda else torch.tensor(y).argmax(axis=1)\n",
    "            acc, _, _, _, _, _, _ = Count_Accs(y_label, rdm_preds)\n",
    "            loss = loss_fn(rdm_scores, y_label)\n",
    "            loss.backward()\n",
    "            torch.cuda.empty_cache()\n",
    "#                 print(\"%d, %d | x_len:\"%(step, j), x_len)\n",
    "        except RuntimeError as exception:\n",
    "            if \"out of memory\" in str(exception):\n",
    "                print(\"WARNING: out of memory\")\n",
    "                print(\"%d, %d | x_len:\"%(step, j), x_len)\n",
    "                if hasattr(torch.cuda, 'empty_cache'):\n",
    "                    torch.cuda.empty_cache()\n",
    "#                     time.sleep(5)\n",
    "                raise exception\n",
    "            else:   \n",
    "                raise exception\n",
    "\n",
    "        optim.step()        \n",
    "        writer.add_scalar('Train Loss', loss, step)\n",
    "        writer.add_scalar('Train Accuracy', acc, step)\n",
    "\n",
    "        sum_loss += loss\n",
    "        sum_acc += acc\n",
    "        \n",
    "        torch.cuda.empty_cache()\n",
    "        \n",
    "        if step % 10 == 9:\n",
    "            sum_loss = sum_loss / 10\n",
    "            sum_acc = sum_acc / 10\n",
    "            print('%3d | %d , train_loss/accuracy = %6.8f/%6.7f'             % (step, t_steps, \n",
    "                sum_loss, sum_acc,\n",
    "                ))\n",
    "            if step%100 == 99:\n",
    "                valid_acc = accuracy_on_valid_data(rdm_model, sent_pooler, rdm_classifier)\n",
    "                if valid_acc > best_valid_acc:\n",
    "                    print(\"valid_acc:\", valid_acc)\n",
    "                    writer.add_scalar('Valid Accuracy', valid_acc, step)\n",
    "                    best_valid_acc = valid_acc\n",
    "                    rdm_save_as = '%s/ERD_best.pkl'% (log_dir)\n",
    "                    torch.save(\n",
    "                        {\n",
    "                            \"rmdModel\":rdm_model.state_dict(),\n",
    "                            \"bert\":sent_pooler.state_dict(),\n",
    "                            \"rdm_classifier\": rdm_classifier.state_dict()\n",
    "                        },\n",
    "                        rdm_save_as\n",
    "                    )\n",
    "            sum_acc = 0.0\n",
    "            sum_loss = 0.0\n",
    "    print(get_curtime() + \" Train df Model End.\")\n",
    "    return ret_acc\n"
   ]
  },
  {
   "cell_type": "code",
   "execution_count": 15,
   "metadata": {
    "hidden": true
   },
   "outputs": [
    {
     "name": "stdout",
     "output_type": "stream",
     "text": [
      "max_sent: 308 ,  max_seq_len: 346\n",
      "5802 data loaded\n"
     ]
    }
   ],
   "source": [
    "load_data_fast()"
   ]
  },
  {
   "cell_type": "code",
   "execution_count": 16,
   "metadata": {
    "hidden": true
   },
   "outputs": [],
   "source": [
    "rdm_model = RDM_Model_V1(300, 300, 256, 0.2).cuda()\n",
    "sent_pooler = pooling_layer(300, 300).cuda()"
   ]
  },
  {
   "cell_type": "code",
   "execution_count": 17,
   "metadata": {
    "hidden": true
   },
   "outputs": [],
   "source": [
    "rdm_classifier = nn.Linear(256, 2).cuda()"
   ]
  },
  {
   "cell_type": "code",
   "execution_count": 38,
   "metadata": {
    "collapsed": true,
    "hidden": true
   },
   "outputs": [
    {
     "name": "stdout",
     "output_type": "stream",
     "text": [
      "  9 | 10000 , train_loss/accuracy = 0.70586604/0.7450000\n",
      " 19 | 10000 , train_loss/accuracy = 0.50099939/0.7250000\n",
      " 29 | 10000 , train_loss/accuracy = 0.47239873/0.7850000\n",
      " 39 | 10000 , train_loss/accuracy = 0.48011208/0.7625000\n",
      " 49 | 10000 , train_loss/accuracy = 0.46047130/0.7850000\n"
     ]
    },
    {
     "ename": "KeyboardInterrupt",
     "evalue": "",
     "output_type": "error",
     "traceback": [
      "\u001b[0;31m---------------------------------------------------------------------------\u001b[0m",
      "\u001b[0;31mKeyboardInterrupt\u001b[0m                         Traceback (most recent call last)",
      "\u001b[0;32m<ipython-input-38-36e065aa5f0e>\u001b[0m in \u001b[0;36m<module>\u001b[0;34m\u001b[0m\n\u001b[1;32m      1\u001b[0m TrainRDMModel(rdm_model, sent_pooler, rdm_classifier, \n\u001b[1;32m      2\u001b[0m                     \u001b[0mt_steps\u001b[0m\u001b[0;34m=\u001b[0m\u001b[0;36m10000\u001b[0m\u001b[0;34m,\u001b[0m \u001b[0mstage\u001b[0m\u001b[0;34m=\u001b[0m\u001b[0;36m0\u001b[0m\u001b[0;34m,\u001b[0m \u001b[0mnew_data_len\u001b[0m\u001b[0;34m=\u001b[0m\u001b[0;34m[\u001b[0m\u001b[0;34m]\u001b[0m\u001b[0;34m,\u001b[0m \u001b[0mvalid_new_len\u001b[0m\u001b[0;34m=\u001b[0m\u001b[0;34m[\u001b[0m\u001b[0;34m]\u001b[0m\u001b[0;34m,\u001b[0m \u001b[0mlogger\u001b[0m\u001b[0;34m=\u001b[0m\u001b[0;32mNone\u001b[0m\u001b[0;34m,\u001b[0m\u001b[0;34m\u001b[0m\u001b[0m\n\u001b[0;32m----> 3\u001b[0;31m                         log_dir=\"RDMBertTrain\", cuda=True)\n\u001b[0m",
      "\u001b[0;32m<ipython-input-37-90d31b4bbf58>\u001b[0m in \u001b[0;36mTrainRDMModel\u001b[0;34m(rdm_model, sent_pooler, rdm_classifier, t_steps, stage, new_data_len, valid_new_len, logger, log_dir, cuda)\u001b[0m\n\u001b[1;32m     22\u001b[0m         \u001b[0moptim\u001b[0m\u001b[0;34m.\u001b[0m\u001b[0mzero_grad\u001b[0m\u001b[0;34m(\u001b[0m\u001b[0;34m)\u001b[0m\u001b[0;34m\u001b[0m\u001b[0m\n\u001b[1;32m     23\u001b[0m         \u001b[0;32mtry\u001b[0m\u001b[0;34m:\u001b[0m\u001b[0;34m\u001b[0m\u001b[0m\n\u001b[0;32m---> 24\u001b[0;31m             \u001b[0mx\u001b[0m\u001b[0;34m,\u001b[0m \u001b[0mx_len\u001b[0m\u001b[0;34m,\u001b[0m \u001b[0my\u001b[0m \u001b[0;34m=\u001b[0m \u001b[0mget_df_batch\u001b[0m\u001b[0;34m(\u001b[0m\u001b[0mstep\u001b[0m\u001b[0;34m*\u001b[0m\u001b[0mbatch_size\u001b[0m\u001b[0;34m,\u001b[0m \u001b[0mbatch_size\u001b[0m\u001b[0;34m)\u001b[0m\u001b[0;34m\u001b[0m\u001b[0m\n\u001b[0m\u001b[1;32m     25\u001b[0m             \u001b[0mseq\u001b[0m \u001b[0;34m=\u001b[0m \u001b[0msent_pooler\u001b[0m\u001b[0;34m(\u001b[0m\u001b[0mx\u001b[0m\u001b[0;34m)\u001b[0m\u001b[0;34m\u001b[0m\u001b[0m\n\u001b[1;32m     26\u001b[0m             \u001b[0mrdm_hiddens\u001b[0m \u001b[0;34m=\u001b[0m \u001b[0mrdm_model\u001b[0m\u001b[0;34m(\u001b[0m\u001b[0mseq\u001b[0m\u001b[0;34m)\u001b[0m\u001b[0;34m\u001b[0m\u001b[0m\n",
      "\u001b[0;32m~/ERD/baslines/ERDProj/dataUtils.py\u001b[0m in \u001b[0;36mget_df_batch\u001b[0;34m(start, batch_size, new_data_len, cuda)\u001b[0m\n\u001b[1;32m    206\u001b[0m                 \u001b[0mm_word\u001b[0m \u001b[0;34m=\u001b[0m \u001b[0mt_words\u001b[0m\u001b[0;34m[\u001b[0m\u001b[0mk\u001b[0m\u001b[0;34m]\u001b[0m\u001b[0;34m\u001b[0m\u001b[0m\n\u001b[1;32m    207\u001b[0m                 \u001b[0;32mtry\u001b[0m\u001b[0;34m:\u001b[0m\u001b[0;34m\u001b[0m\u001b[0m\n\u001b[0;32m--> 208\u001b[0;31m                     \u001b[0msent\u001b[0m\u001b[0;34m.\u001b[0m\u001b[0mappend\u001b[0m\u001b[0;34m(\u001b[0m \u001b[0mtorch\u001b[0m\u001b[0;34m.\u001b[0m\u001b[0mtensor\u001b[0m\u001b[0;34m(\u001b[0m\u001b[0;34m[\u001b[0m\u001b[0mword2vec\u001b[0m\u001b[0;34m[\u001b[0m\u001b[0mm_word\u001b[0m\u001b[0;34m]\u001b[0m\u001b[0;34m]\u001b[0m\u001b[0;34m,\u001b[0m \u001b[0mdtype\u001b[0m\u001b[0;34m=\u001b[0m\u001b[0mtorch\u001b[0m\u001b[0;34m.\u001b[0m\u001b[0mfloat32\u001b[0m\u001b[0;34m)\u001b[0m \u001b[0;34m)\u001b[0m\u001b[0;34m\u001b[0m\u001b[0m\n\u001b[0m\u001b[1;32m    209\u001b[0m                 \u001b[0;32mexcept\u001b[0m \u001b[0mKeyError\u001b[0m\u001b[0;34m:\u001b[0m\u001b[0;34m\u001b[0m\u001b[0m\n\u001b[1;32m    210\u001b[0m                     \u001b[0mmiss_vec\u001b[0m \u001b[0;34m+=\u001b[0m \u001b[0;36m1\u001b[0m\u001b[0;34m\u001b[0m\u001b[0m\n",
      "\u001b[0;31mKeyboardInterrupt\u001b[0m: "
     ]
    }
   ],
   "source": [
    "TrainRDMModel(rdm_model, sent_pooler, rdm_classifier, \n",
    "                    t_steps=10000, stage=0, new_data_len=[], valid_new_len=[], logger=None, \n",
    "                        log_dir=\"RDMBertTrain\", cuda=True)"
   ]
  },
  {
   "cell_type": "markdown",
   "metadata": {
    "heading_collapsed": true,
    "hidden": true
   },
   "source": [
    "#### 测试预训练好的模型"
   ]
  },
  {
   "cell_type": "code",
   "execution_count": 18,
   "metadata": {
    "hidden": true
   },
   "outputs": [],
   "source": [
    "log_dir = os.path.join(\".\", \"ERD/\")"
   ]
  },
  {
   "cell_type": "code",
   "execution_count": 19,
   "metadata": {
    "hidden": true
   },
   "outputs": [],
   "source": [
    "\n",
    "class CM_Model_V1(nn.Module):\n",
    "    def __init__(self, hidden_dim, action_num):\n",
    "        super(CM_Model_V1, self).__init__()\n",
    "        self.hidden_dim = hidden_dim\n",
    "        self.action_num = action_num\n",
    "        self.DenseLayer = nn.Linear(self.hidden_dim, 64)\n",
    "        self.Classifier = nn.Linear(64, self.action_num)\n",
    "        \n",
    "    def forward(self, rdm_state):\n",
    "        \"\"\"\n",
    "        rdm_state: [batchsize, hidden_dim]\n",
    "        \"\"\"\n",
    "        batchsize, hidden_dim = rdm_state.shape\n",
    "        rl_h1 = nn.functional.relu(\n",
    "            self.DenseLayer(\n",
    "                rdm_state\n",
    "            )\n",
    "        )\n",
    "        stopScore = self.Classifier(rl_h1)\n",
    "        isStop = stopScore.argmax(axis=1)\n",
    "        return stopScore, isStop"
   ]
  },
  {
   "cell_type": "code",
   "execution_count": 20,
   "metadata": {
    "hidden": true
   },
   "outputs": [],
   "source": [
    "with open(\"../../config.json\", \"r\") as cr:\n",
    "    dic = json.load(cr)\n",
    "\n",
    "class adict(dict):\n",
    "    ''' Attribute dictionary - a convenience data structure, similar to SimpleNamespace in python 3.3\n",
    "        One can use attributes to read/write dictionary content.\n",
    "    '''\n",
    "    def __init__(self, *av, **kav):\n",
    "        dict.__init__(self, *av, **kav)\n",
    "        self.__dict__ = self\n",
    "\n",
    "FLAGS = adict(dic)"
   ]
  },
  {
   "cell_type": "code",
   "execution_count": 21,
   "metadata": {
    "hidden": true
   },
   "outputs": [],
   "source": [
    "from CM_Model import *"
   ]
  },
  {
   "cell_type": "code",
   "execution_count": 22,
   "metadata": {
    "hidden": true
   },
   "outputs": [
    {
     "name": "stderr",
     "output_type": "stream",
     "text": [
      "/home/hadoop/.conda/envs/torch_B/lib/python3.6/site-packages/torch/nn/modules/rnn.py:51: UserWarning: dropout option adds dropout after all but last recurrent layer, so non-zero dropout expects num_layers greater than 1, but got dropout=0.2 and num_layers=1\n",
      "  \"num_layers={}\".format(dropout, num_layers))\n"
     ]
    }
   ],
   "source": [
    "rdm_model = RDM_Model(300, 300, 256, 0.2).cuda()"
   ]
  },
  {
   "cell_type": "code",
   "execution_count": 23,
   "metadata": {
    "hidden": true
   },
   "outputs": [],
   "source": [
    "cm_model = CM_Model_V1(256, 2).cuda()"
   ]
  },
  {
   "cell_type": "code",
   "execution_count": 24,
   "metadata": {
    "hidden": true
   },
   "outputs": [],
   "source": [
    "pretrained_file = \"%s/erdModel_epoch001.pkl\"%log_dir\n",
    "if os.path.exists(pretrained_file):\n",
    "    checkpoint = torch.load(pretrained_file)\n",
    "    sent_pooler.load_state_dict(checkpoint['sent_pooler'])\n",
    "    rdm_model.load_state_dict(checkpoint[\"rmdModel\"])\n",
    "    rdm_classifier.load_state_dict(checkpoint[\"rdm_classifier\"])\n",
    "    cm_model.load_state_dict(checkpoint[\"cm_model\"])"
   ]
  },
  {
   "cell_type": "code",
   "execution_count": 25,
   "metadata": {
    "hidden": true
   },
   "outputs": [],
   "source": [
    "del valid_data_ID\n",
    "del valid_data_len\n",
    "del valid_data_y\n",
    "del data\n",
    "from dataUtilsV0 import data\n",
    "from dataUtilsV0 import valid_data_ID\n",
    "from dataUtilsV0 import valid_data_len\n",
    "from dataUtilsV0 import valid_data_y"
   ]
  },
  {
   "cell_type": "code",
   "execution_count": 26,
   "metadata": {
    "hidden": true
   },
   "outputs": [],
   "source": [
    "del accuracy_on_valid_data"
   ]
  },
  {
   "cell_type": "code",
   "execution_count": 27,
   "metadata": {
    "hidden": true
   },
   "outputs": [],
   "source": [
    "from sklearn.metrics import accuracy_score, precision_score, recall_score"
   ]
  },
  {
   "cell_type": "code",
   "execution_count": 28,
   "metadata": {
    "hidden": true
   },
   "outputs": [],
   "source": [
    "def accuracy_on_valid_data(rdm_model = None, sent_pooler = None, rdm_classifier=None, new_data_len=[], cuda=True):\n",
    "    batch_size = 20\n",
    "    t_steps = int(len(valid_data_ID)/batch_size)\n",
    "    \n",
    "    sum_acc = 0.0\n",
    "    sum_pres = 0.0\n",
    "    sum_recall = 0.0\n",
    "    \n",
    "    miss_vec = 0\n",
    "    mts = 0\n",
    "    hit_vec = 0\n",
    "    if len(new_data_len) > 0:\n",
    "        t_data_len = new_data_len\n",
    "    else:\n",
    "        t_data_len = valid_data_len\n",
    "    \n",
    "    for step in range(t_steps):\n",
    "        data_x = []\n",
    "        m_data_y = np.zeros([batch_size, 2], dtype=np.int32)\n",
    "        m_data_len = np.zeros([batch_size], dtype=np.int32)\n",
    "        for i in range(batch_size):\n",
    "            m_data_y[i] = valid_data_y[mts]\n",
    "            m_data_len[i] = t_data_len[mts]\n",
    "            seq = []\n",
    "            for j in range(t_data_len[mts]):\n",
    "                sent = []\n",
    "                t_words = transIrregularWord(data[valid_data_ID[mts]]['text'][j]).split(\" \")\n",
    "                for k in range(len(t_words)):\n",
    "                    m_word = t_words[k]\n",
    "                    try:\n",
    "                        sent.append( torch.tensor([word2vec[m_word]], dtype=torch.float32))\n",
    "                    except KeyError:\n",
    "                        miss_vec += 1\n",
    "                        sent.append( torch.tensor([word2vec['{'] +word2vec['an'] +  word2vec['unknown'] + word2vec['word'] + word2vec['}'] ], dtype=torch.float32) )\n",
    "                    except IndexError:\n",
    "                        raise\n",
    "                    else:\n",
    "                        hit_vec += 1\n",
    "                if len(sent) != 0 :\n",
    "                    sent_tensor = torch.cat(sent)\n",
    "                else:\n",
    "                    print(\"empty sentence:\", t_words)\n",
    "                seq.append(sent_tensor)\n",
    "            data_x.append(seq)\n",
    "            mts += 1\n",
    "            if mts >= len(valid_data_ID): # read data looply\n",
    "                mts = mts % len(valid_data_ID)\n",
    "        \n",
    "        \n",
    "        if rdm_model is not None and sent_pooler is not None and rdm_classifier is not None:\n",
    "            with torch.no_grad():\n",
    "                seq = sent_pooler(data_x)\n",
    "                rdm_hiddens = rdm_model(seq[:, 1:, :])\n",
    "                batchsize, max_seq_len, hidden_dim = rdm_hiddens.shape\n",
    "#                 rdm_outs = torch.cat(\n",
    "#                     [ rdm_hiddens[i][m_data_len[i]-1].unsqueeze(0) for i in range(batchsize)] \n",
    "#                     # a list of tensor, where the ndim of tensor is 1 and the shape of tensor is [hidden_size]\n",
    "#                 )\n",
    "                rdm_scores = rdm_classifier(\n",
    "                    rdm_hiddens.reshape([-1, hidden_dim])\n",
    "                ).reshape(batchsize, max_seq_len, -1)\n",
    "#                 rdm_preds = torch.stack([rdm_scores[j][0] for j in range(batchsize)]).argmax(axis=1)\n",
    "                rdm_preds = torch.stack([rdm_scores[j][m_data_len[j]-2] for j in range(batchsize)]).argmax(axis=1)\n",
    "#                 rdm_preds = rdm_scores.argmax(axis=1)\n",
    "                y_label = torch.tensor(m_data_y).argmax(axis=1)\n",
    "                if cuda:\n",
    "                    acc = accuracy_score(y_true=y_label.cpu().numpy(), y_pred=rdm_preds.cpu().numpy())\n",
    "                    pres = precision_score(y_true=y_label.cpu().numpy(), y_pred=rdm_preds.cpu().numpy())\n",
    "                    rcl = recall_score(y_true=y_label.cpu().numpy(), y_pred=rdm_preds.cpu().numpy())\n",
    "                else:\n",
    "                    acc = accuracy_score(y_true=y_label.numpy(), y_pred=rdm_preds.numpy())\n",
    "                    pres = precision_score(y_true=y_label.numpy(), y_pred=rdm_preds.numpy())\n",
    "                    rcl = precision_score(y_true=y_label.numpy(), y_pred=rdm_preds.numpy())\n",
    "        sum_acc += acc\n",
    "        sum_pres += pres\n",
    "        sum_recall += rcl    \n",
    "    mean_acc = sum_acc / (1.0*t_steps)\n",
    "    mean_pres = sum_pres / (1.0*t_steps)\n",
    "    mean_recall = sum_recall / (1.0*t_steps)\n",
    "    return mean_acc, mean_pres, mean_recall"
   ]
  },
  {
   "cell_type": "code",
   "execution_count": 29,
   "metadata": {
    "hidden": true
   },
   "outputs": [],
   "source": [
    "from sklearn.manifold import TSNE\n",
    "import matplotlib.pyplot as plt"
   ]
  },
  {
   "cell_type": "code",
   "execution_count": 30,
   "metadata": {
    "hidden": true
   },
   "outputs": [
    {
     "name": "stderr",
     "output_type": "stream",
     "text": [
      "/home/hadoop/.conda/envs/torch_B/lib/python3.6/site-packages/sklearn/metrics/classification.py:1437: UndefinedMetricWarning: Precision is ill-defined and being set to 0.0 due to no predicted samples.\n",
      "  'precision', 'predicted', average, warn_for)\n"
     ]
    },
    {
     "data": {
      "text/plain": [
       "(0.336, 0.0, 0.0)"
      ]
     },
     "execution_count": 30,
     "metadata": {},
     "output_type": "execute_result"
    }
   ],
   "source": [
    "accuracy_on_valid_data(rdm_model, sent_pooler, rdm_classifier, new_data_len=[], cuda=True)"
   ]
  },
  {
   "cell_type": "code",
   "execution_count": 43,
   "metadata": {
    "hidden": true
   },
   "outputs": [
    {
     "data": {
      "text/plain": [
       "(0.872, 0.8839395114689234, 0.9195970695970694)"
      ]
     },
     "execution_count": 43,
     "metadata": {},
     "output_type": "execute_result"
    }
   ],
   "source": [
    "accuracy_on_valid_data(rdm_model, sent_pooler, rdm_classifier, new_data_len=[], cuda=True)"
   ]
  },
  {
   "cell_type": "code",
   "execution_count": 46,
   "metadata": {
    "hidden": true
   },
   "outputs": [
    {
     "data": {
      "text/plain": [
       "(0.858, 0.8800553074376605, 0.9034236156000861)"
      ]
     },
     "execution_count": 46,
     "metadata": {},
     "output_type": "execute_result"
    }
   ],
   "source": [
    "accuracy_on_valid_data(rdm_model, sent_pooler, rdm_classifier, new_data_len=[], cuda=True)"
   ]
  },
  {
   "cell_type": "code",
   "execution_count": 48,
   "metadata": {
    "hidden": true
   },
   "outputs": [
    {
     "data": {
      "text/plain": [
       "(0.8500000000000001, 0.8519554269260152, 0.9359443007972418)"
      ]
     },
     "execution_count": 48,
     "metadata": {},
     "output_type": "execute_result"
    }
   ],
   "source": [
    "accuracy_on_valid_data(rdm_model, sent_pooler, rdm_classifier, new_data_len=[], cuda=True)"
   ]
  },
  {
   "cell_type": "code",
   "execution_count": 30,
   "metadata": {
    "hidden": true
   },
   "outputs": [],
   "source": [
    "x, x_len, y = get_df_batch(0, 20)"
   ]
  },
  {
   "cell_type": "code",
   "execution_count": 31,
   "metadata": {
    "hidden": true
   },
   "outputs": [],
   "source": [
    "seq = sent_pooler(x)"
   ]
  },
  {
   "cell_type": "code",
   "execution_count": 32,
   "metadata": {
    "hidden": true
   },
   "outputs": [],
   "source": [
    "rdm_hiddens = rdm_model(seq)"
   ]
  },
  {
   "cell_type": "code",
   "execution_count": 33,
   "metadata": {
    "hidden": true
   },
   "outputs": [],
   "source": [
    "rdm_hiddens, rdm_out, rdm_cell = rdm_model(seq, x_len.tolist())"
   ]
  },
  {
   "cell_type": "code",
   "execution_count": 33,
   "metadata": {
    "hidden": true
   },
   "outputs": [],
   "source": [
    "t_list = [rdm_hiddens[i][:x_len[i]] for i in range(len(x_len))]"
   ]
  },
  {
   "cell_type": "code",
   "execution_count": 34,
   "metadata": {
    "hidden": true
   },
   "outputs": [],
   "source": [
    "arr0 = t_list[3].cpu().detach().numpy()"
   ]
  },
  {
   "cell_type": "code",
   "execution_count": 90,
   "metadata": {
    "hidden": true
   },
   "outputs": [],
   "source": [
    "def cosine(vec1, vec2):\n",
    "    cos=np.dot(vec1,vec2)/(np.linalg.norm(vec1)*(np.linalg.norm(vec2)))\n",
    "    return cos"
   ]
  },
  {
   "cell_type": "code",
   "execution_count": 102,
   "metadata": {
    "hidden": true
   },
   "outputs": [],
   "source": [
    "cos0 = [cosine(arr0[max(0, i-1)], arr0[i]) for i in range(len(arr0))]"
   ]
  },
  {
   "cell_type": "code",
   "execution_count": 103,
   "metadata": {
    "hidden": true
   },
   "outputs": [
    {
     "data": {
      "text/plain": [
       "[<matplotlib.lines.Line2D at 0x7fc37ddb00f0>]"
      ]
     },
     "execution_count": 103,
     "metadata": {},
     "output_type": "execute_result"
    },
    {
     "data": {
      "image/png": "[encoded data removed]",
      "text/plain": [
       "<Figure size 432x288 with 1 Axes>"
      ]
     },
     "metadata": {
      "needs_background": "light"
     },
     "output_type": "display_data"
    }
   ],
   "source": [
    "plt.plot(list(range(len(arr0))), cos0)"
   ]
  },
  {
   "cell_type": "markdown",
   "metadata": {
    "heading_collapsed": true,
    "hidden": true
   },
   "source": [
    "###### 画t-sne"
   ]
  },
  {
   "cell_type": "code",
   "execution_count": 68,
   "metadata": {
    "hidden": true
   },
   "outputs": [],
   "source": [
    "from time import time\n",
    "import matplotlib.pyplot as plt\n",
    "from mpl_toolkits.mplot3d import Axes3D\n",
    "from matplotlib.ticker import NullFormatter"
   ]
  },
  {
   "cell_type": "code",
   "execution_count": 85,
   "metadata": {
    "hidden": true
   },
   "outputs": [
    {
     "name": "stdout",
     "output_type": "stream",
     "text": [
      "t-SNE: 0.1 sec\n"
     ]
    },
    {
     "data": {
      "image/png": "[encoded data removed]",
      "text/plain": [
       "<Figure size 576x576 with 1 Axes>"
      ]
     },
     "metadata": {
      "needs_background": "light"
     },
     "output_type": "display_data"
    }
   ],
   "source": [
    "n_neighbors = 5\n",
    "n_components = 2\n",
    "\n",
    "t0 = time()\n",
    "tsne = TSNE(n_components=n_components, init='pca', random_state=0)\n",
    "Y = tsne.fit_transform(arr0)  # 转换后的输出\n",
    "t1 = time()\n",
    "print(\"t-SNE: %.2g sec\" % (t1 - t0))  # 算法用时\n",
    "\n",
    "fig = plt.figure(figsize=(8, 8))\n",
    "# 创建了一个figure，标题为\"Manifold Learning with 1000 points, 10 neighbors\"\n",
    "plt.suptitle(\"Manifold Learning with %i points, %i neighbors\"\n",
    "             % (70, n_neighbors), fontsize=14)\n",
    "\n",
    "ax = fig.add_subplot(211, projection='3d')\n",
    "\n",
    "ax.scatter(list(range(len(arr0))), Y[:, 0], Y[:, 1], cmap=plt.cm.Spectral)\n",
    "ax.view_init(4, -72)  # 初始化视角\n",
    "# plt.axis('tight')\n",
    "plt.show()"
   ]
  },
  {
   "cell_type": "code",
   "execution_count": 88,
   "metadata": {
    "hidden": true
   },
   "outputs": [
    {
     "data": {
      "text/plain": [
       "<matplotlib.collections.PathCollection at 0x7fc3695bdc18>"
      ]
     },
     "execution_count": 88,
     "metadata": {},
     "output_type": "execute_result"
    },
    {
     "data": {
      "image/png": "[encoded data removed]",
      "text/plain": [
       "<Figure size 432x288 with 1 Axes>"
      ]
     },
     "metadata": {
      "needs_background": "light"
     },
     "output_type": "display_data"
    }
   ],
   "source": [
    "plt.scatter(Y[:, 0], Y[:, 1])"
   ]
  },
  {
   "cell_type": "code",
   "execution_count": 89,
   "metadata": {
    "hidden": true
   },
   "outputs": [
    {
     "data": {
      "text/plain": [
       "[<matplotlib.lines.Line2D at 0x7fc3684bbc50>]"
      ]
     },
     "execution_count": 89,
     "metadata": {},
     "output_type": "execute_result"
    },
    {
     "data": {
      "image/png": "[encoded data removed]",
      "text/plain": [
       "<Figure size 432x288 with 1 Axes>"
      ]
     },
     "metadata": {
      "needs_background": "light"
     },
     "output_type": "display_data"
    }
   ],
   "source": [
    "plt.plot(Y[:, 0], Y[:, 1])"
   ]
  },
  {
   "cell_type": "markdown",
   "metadata": {
    "heading_collapsed": true,
    "hidden": true
   },
   "source": [
    "#### 开发调试模型"
   ]
  },
  {
   "cell_type": "code",
   "execution_count": 43,
   "metadata": {
    "hidden": true
   },
   "outputs": [],
   "source": [
    "import matplotlib.pyplot as plt"
   ]
  },
  {
   "cell_type": "code",
   "execution_count": 62,
   "metadata": {
    "hidden": true
   },
   "outputs": [
    {
     "data": {
      "text/plain": [
       "[<matplotlib.lines.Line2D at 0x7f5b3e870748>]"
      ]
     },
     "execution_count": 62,
     "metadata": {},
     "output_type": "execute_result"
    },
    {
     "data": {
      "image/png": "[encoded data removed]",
      "text/plain": [
       "<Figure size 432x288 with 1 Axes>"
      ]
     },
     "metadata": {
      "needs_background": "light"
     },
     "output_type": "display_data"
    }
   ],
   "source": [
    "plt.plot(x, -1*y1)"
   ]
  },
  {
   "cell_type": "markdown",
   "metadata": {
    "hidden": true
   },
   "source": [
    "> log 曲线和　log_sum曲线的变化是一致的，只是数值更小了，所以更换的意义也不大，不如换成曲线"
   ]
  },
  {
   "cell_type": "code",
   "execution_count": 61,
   "metadata": {
    "hidden": true
   },
   "outputs": [
    {
     "data": {
      "text/plain": [
       "[<matplotlib.lines.Line2D at 0x7f5af46b2710>]"
      ]
     },
     "execution_count": 61,
     "metadata": {},
     "output_type": "execute_result"
    },
    {
     "data": {
      "image/png": "[encoded data removed]",
      "text/plain": [
       "<Figure size 432x288 with 1 Axes>"
      ]
     },
     "metadata": {
      "needs_background": "light"
     },
     "output_type": "display_data"
    }
   ],
   "source": [
    "plt.plot(x, y2)"
   ]
  },
  {
   "cell_type": "markdown",
   "metadata": {
    "hidden": true
   },
   "source": [
    "> 越靠近终点，得到的奖励值就越大，但是会趋近于平缓，所以会选择观察分类错误的值。但是在太前面了，又无法做到正确分类，分类误差占据主要，因此还是难以得到理想的折中结果。"
   ]
  },
  {
   "cell_type": "code",
   "execution_count": 18,
   "metadata": {
    "hidden": true
   },
   "outputs": [],
   "source": [
    "t_steps=10000, \n",
    "stage=0\n",
    "new_data_len=[] \n",
    "valid_new_len=[]\n",
    "logger=None\n",
    "log_dir=\"RDMBertTrain\"\n",
    "cuda=True"
   ]
  },
  {
   "cell_type": "code",
   "execution_count": 32,
   "metadata": {
    "hidden": true
   },
   "outputs": [],
   "source": [
    "batch_size = 20\n",
    "sum_loss = 0.0\n",
    "sum_acc = 0.0\n",
    "t_acc = 0.9\n",
    "ret_acc = 0.0\n",
    "init_states = torch.zeros([1, batch_size, rdm_model.hidden_dim], dtype=torch.float32).cuda()\n",
    "weight = torch.tensor([2.0, 1.0], dtype=torch.float32).cuda()\n",
    "loss_fn = nn.CrossEntropyLoss(weight=weight)"
   ]
  },
  {
   "cell_type": "code",
   "execution_count": 37,
   "metadata": {
    "hidden": true
   },
   "outputs": [],
   "source": [
    "x, x_len, y = get_df_batch(0, 20)"
   ]
  },
  {
   "cell_type": "code",
   "execution_count": 38,
   "metadata": {
    "hidden": true
   },
   "outputs": [],
   "source": [
    "seq = sent_pooler(x)\n",
    "rdm_hiddens = rdm_model(seq)\n",
    "# rdm_hiddens, rdm_out, rdm_cell = rdm_model(seq, x_len.tolist())\n",
    "batchsize, max_seq_len, hidden_dim = rdm_hiddens.shape"
   ]
  },
  {
   "cell_type": "code",
   "execution_count": 39,
   "metadata": {
    "hidden": true
   },
   "outputs": [],
   "source": [
    "stopScore, isStop = cm_model(rdm_hiddens.reshape(-1, 256))\n",
    "isStop = isStop.reshape([batchsize, max_seq_len, -1])\n",
    "stopProb = stopScore.reshape([batchsize, max_seq_len, -1]).softmax(axis=-1)         "
   ]
  },
  {
   "cell_type": "code",
   "execution_count": 69,
   "metadata": {
    "hidden": true
   },
   "outputs": [
    {
     "data": {
      "text/plain": [
       "tensor(-1.2506, device='cuda:0', grad_fn=<SumBackward0>)"
      ]
     },
     "execution_count": 69,
     "metadata": {},
     "output_type": "execute_result"
    }
   ],
   "source": [
    "(stopProb[0][5:10,1] - 0.60).sum()"
   ]
  },
  {
   "cell_type": "code",
   "execution_count": 62,
   "metadata": {
    "hidden": true
   },
   "outputs": [],
   "source": [
    "s1 = torch.stack([stopProb[j][x_len[j]-1] for j in range(len(x_len))])"
   ]
  },
  {
   "cell_type": "code",
   "execution_count": null,
   "metadata": {
    "hidden": true
   },
   "outputs": [],
   "source": []
  },
  {
   "cell_type": "code",
   "execution_count": 40,
   "metadata": {
    "hidden": true
   },
   "outputs": [],
   "source": [
    "cls_rst = rdm_classifier(rdm_hiddens.reshape(-1, hidden_dim)).reshape([batchsize, max_seq_len, -1])"
   ]
  },
  {
   "cell_type": "code",
   "execution_count": 41,
   "metadata": {
    "hidden": true
   },
   "outputs": [
    {
     "data": {
      "text/plain": [
       "array([0, 1], dtype=int32)"
      ]
     },
     "execution_count": 41,
     "metadata": {},
     "output_type": "execute_result"
    }
   ],
   "source": [
    "y[2]"
   ]
  },
  {
   "cell_type": "code",
   "execution_count": 42,
   "metadata": {
    "collapsed": true,
    "hidden": true
   },
   "outputs": [
    {
     "data": {
      "text/plain": [
       "[(0, [-0.9198921322822571, 0.4010252356529236]),\n",
       " (1, [-1.6395022869110107, 0.872894287109375]),\n",
       " (2, [-2.094587564468384, 1.2539931535720825]),\n",
       " (3, [-2.9889392852783203, 2.109062910079956]),\n",
       " (4, [-3.650022029876709, 2.771613597869873]),\n",
       " (5, [-4.069356441497803, 3.2355637550354004]),\n",
       " (6, [-4.214232921600342, 3.4247078895568848]),\n",
       " (7, [-4.047580242156982, 3.2036712169647217]),\n",
       " (8, [-4.1708221435546875, 3.312376022338867]),\n",
       " (9, [-4.416569232940674, 3.557356834411621]),\n",
       " (10, [-4.4399800300598145, 3.506744384765625]),\n",
       " (11, [-4.201022148132324, 3.3456838130950928]),\n",
       " (12, [-4.09346342086792, 3.2183890342712402]),\n",
       " (13, [-4.089611053466797, 3.2429821491241455]),\n",
       " (14, [-4.0455217361450195, 3.2066378593444824]),\n",
       " (15, [-4.175084114074707, 3.3041985034942627]),\n",
       " (16, [-3.9259774684906006, 3.0843892097473145]),\n",
       " (17, [-3.8927388191223145, 3.0498080253601074]),\n",
       " (18, [-4.036046981811523, 3.2023465633392334]),\n",
       " (19, [-4.149847507476807, 3.2340102195739746]),\n",
       " (20, [-4.059919834136963, 3.1211369037628174]),\n",
       " (21, [-4.066588878631592, 3.1532952785491943]),\n",
       " (22, [-4.047573089599609, 3.1826658248901367]),\n",
       " (23, [-4.124689102172852, 3.1725165843963623]),\n",
       " (24, [-4.08764123916626, 3.1584200859069824]),\n",
       " (25, [-4.195789337158203, 3.222414970397949]),\n",
       " (26, [-4.270406246185303, 3.2829885482788086]),\n",
       " (27, [-4.147247791290283, 3.2033166885375977]),\n",
       " (28, [-3.9760818481445312, 3.083354949951172]),\n",
       " (29, [-3.966676950454712, 3.0597329139709473]),\n",
       " (30, [-3.9626693725585938, 3.073141098022461]),\n",
       " (31, [-3.941194534301758, 3.039689302444458]),\n",
       " (32, [-4.014975070953369, 3.163702964782715]),\n",
       " (33, [-3.8530163764953613, 3.0309276580810547]),\n",
       " (34, [-3.866753101348877, 2.971278190612793]),\n",
       " (35, [-3.8811123371124268, 3.003296375274658]),\n",
       " (36, [-4.088882923126221, 3.131985664367676]),\n",
       " (37, [-4.098464488983154, 3.1668143272399902]),\n",
       " (38, [-4.058770656585693, 3.1766061782836914]),\n",
       " (39, [-3.9304590225219727, 3.032381534576416]),\n",
       " (40, [-4.0470805168151855, 3.1448159217834473]),\n",
       " (41, [-4.1595048904418945, 3.210308074951172]),\n",
       " (42, [-4.306878566741943, 3.360590934753418]),\n",
       " (43, [-4.277825832366943, 3.34006929397583]),\n",
       " (44, [-4.30239725112915, 3.3737244606018066]),\n",
       " (45, [-4.16367769241333, 3.2180845737457275]),\n",
       " (46, [-3.9916396141052246, 3.062624454498291]),\n",
       " (47, [-4.041026592254639, 3.141378402709961]),\n",
       " (48, [-3.8927509784698486, 3.073652505874634]),\n",
       " (49, [-3.9351227283477783, 3.0507216453552246]),\n",
       " (50, [-3.885802745819092, 2.956859827041626]),\n",
       " (51, [-4.00884485244751, 3.157559394836426]),\n",
       " (52, [-3.88124418258667, 3.0453929901123047]),\n",
       " (53, [-3.878483533859253, 3.023801326751709]),\n",
       " (54, [-3.8804821968078613, 2.890321731567383]),\n",
       " (55, [-3.8383615016937256, 2.8818235397338867]),\n",
       " (56, [-3.9641366004943848, 2.910013198852539]),\n",
       " (57, [-4.01141357421875, 3.0526857376098633]),\n",
       " (58, [-3.8846168518066406, 2.9771482944488525]),\n",
       " (59, [-3.979295492172241, 3.0550098419189453]),\n",
       " (60, [-3.9992411136627197, 3.021976947784424]),\n",
       " (61, [-4.120202541351318, 3.1351068019866943]),\n",
       " (62, [-4.196191310882568, 3.234869956970215]),\n",
       " (63, [-4.068188190460205, 3.165081024169922]),\n",
       " (64, [-4.147528171539307, 3.1503639221191406]),\n",
       " (65, [-4.113121509552002, 3.174543857574463]),\n",
       " (66, [-3.9469046592712402, 3.0420658588409424]),\n",
       " (67, [-4.021058559417725, 3.077923059463501]),\n",
       " (68, [-3.877148389816284, 2.9835615158081055]),\n",
       " (69, [-3.853426456451416, 2.9257359504699707])]"
      ]
     },
     "execution_count": 42,
     "metadata": {},
     "output_type": "execute_result"
    }
   ],
   "source": [
    "[(idx, l) for idx, l in enumerate(cls_rst.tolist()[0][:x_len[0]])]"
   ]
  },
  {
   "cell_type": "code",
   "execution_count": 43,
   "metadata": {
    "collapsed": true,
    "hidden": true
   },
   "outputs": [
    {
     "data": {
      "text/plain": [
       "[(0, [0.6712271571159363, 0.3287728726863861]),\n",
       " (1, [0.702727198600769, 0.2972727417945862]),\n",
       " (2, [0.7010159492492676, 0.29898402094841003]),\n",
       " (3, [0.6861575245857239, 0.31384241580963135]),\n",
       " (4, [0.6787883639335632, 0.32121166586875916]),\n",
       " (5, [0.6611488461494446, 0.3388511538505554]),\n",
       " (6, [0.6303197741508484, 0.3696802854537964]),\n",
       " (7, [0.6430903673171997, 0.3569096624851227]),\n",
       " (8, [0.6667971611022949, 0.3332028090953827]),\n",
       " (9, [0.6492486596107483, 0.3507513999938965]),\n",
       " (10, [0.6633690595626831, 0.33663100004196167]),\n",
       " (11, [0.6694027185440063, 0.3305973410606384]),\n",
       " (12, [0.6796047687530518, 0.32039520144462585]),\n",
       " (13, [0.677090048789978, 0.3229099214076996]),\n",
       " (14, [0.6740487217903137, 0.32595130801200867]),\n",
       " (15, [0.6616612076759338, 0.3383387625217438]),\n",
       " (16, [0.6502946019172668, 0.3497053384780884]),\n",
       " (17, [0.6481865644454956, 0.3518134355545044]),\n",
       " (18, [0.6494060754776001, 0.3505939841270447]),\n",
       " (19, [0.6450322270393372, 0.35496780276298523]),\n",
       " (20, [0.6571367383003235, 0.3428632616996765]),\n",
       " (21, [0.66058748960495, 0.33941254019737244]),\n",
       " (22, [0.6620493531227112, 0.3379506766796112]),\n",
       " (23, [0.6704733967781067, 0.3295265734195709]),\n",
       " (24, [0.6700963377952576, 0.3299036920070648]),\n",
       " (25, [0.6778043508529663, 0.32219570875167847]),\n",
       " (26, [0.6857461333274841, 0.31425386667251587]),\n",
       " (27, [0.6805390119552612, 0.31946098804473877]),\n",
       " (28, [0.6799209713935852, 0.3200790584087372]),\n",
       " (29, [0.6883895993232727, 0.3116104304790497]),\n",
       " (30, [0.6878095269203186, 0.3121905028820038]),\n",
       " (31, [0.6973049640655518, 0.30269500613212585]),\n",
       " (32, [0.6874201893806458, 0.31257981061935425]),\n",
       " (33, [0.666427493095398, 0.3335725665092468]),\n",
       " (34, [0.6811330914497375, 0.31886687874794006]),\n",
       " (35, [0.6903615593910217, 0.30963844060897827]),\n",
       " (36, [0.6998913288116455, 0.3001086413860321]),\n",
       " (37, [0.6892887353897095, 0.3107113242149353]),\n",
       " (38, [0.6915467381477356, 0.3084532618522644]),\n",
       " (39, [0.7049239873886108, 0.29507604241371155]),\n",
       " (40, [0.7014450430870056, 0.2985549569129944]),\n",
       " (41, [0.6994176506996155, 0.3005823791027069]),\n",
       " (42, [0.6932069659233093, 0.3067930042743683]),\n",
       " (43, [0.6978323459625244, 0.3021676242351532]),\n",
       " (44, [0.7001506686210632, 0.29984933137893677]),\n",
       " (45, [0.7106238603591919, 0.2893761396408081]),\n",
       " (46, [0.6967006325721741, 0.30329933762550354]),\n",
       " (47, [0.6899983286857605, 0.3100016415119171]),\n",
       " (48, [0.6906089782714844, 0.30939096212387085]),\n",
       " (49, [0.6894782185554504, 0.3105217516422272]),\n",
       " (50, [0.715679943561554, 0.28432005643844604]),\n",
       " (51, [0.6836910247802734, 0.31630897521972656]),\n",
       " (52, [0.6805099248886108, 0.31949010491371155]),\n",
       " (53, [0.6778339147567749, 0.3221661150455475]),\n",
       " (54, [0.700008749961853, 0.299991250038147]),\n",
       " (55, [0.7076071500778198, 0.2923928499221802]),\n",
       " (56, [0.7245239615440369, 0.27547600865364075]),\n",
       " (57, [0.724847137928009, 0.27515292167663574]),\n",
       " (58, [0.7083887457847595, 0.2916112244129181]),\n",
       " (59, [0.699607789516449, 0.3003922402858734]),\n",
       " (60, [0.718473494052887, 0.28152644634246826]),\n",
       " (61, [0.7063776850700378, 0.29362228512763977]),\n",
       " (62, [0.7103836536407471, 0.2896163761615753]),\n",
       " (63, [0.7060917019844055, 0.2939082980155945]),\n",
       " (64, [0.6986528635025024, 0.30134713649749756]),\n",
       " (65, [0.6875945329666138, 0.3124054968357086]),\n",
       " (66, [0.6867678761482239, 0.31323209404945374]),\n",
       " (67, [0.6979841589927673, 0.30201584100723267]),\n",
       " (68, [0.7080206871032715, 0.29197925329208374]),\n",
       " (69, [0.728256106376648, 0.27174386382102966])]"
      ]
     },
     "execution_count": 43,
     "metadata": {},
     "output_type": "execute_result"
    }
   ],
   "source": [
    "[(idx, l) for idx, l in enumerate(stopProb.tolist()[0][:x_len[0]])]"
   ]
  },
  {
   "cell_type": "markdown",
   "metadata": {
    "heading_collapsed": true
   },
   "source": [
    "### 原始CM模型"
   ]
  },
  {
   "cell_type": "code",
   "execution_count": 20,
   "metadata": {
    "hidden": true
   },
   "outputs": [],
   "source": [
    "class CM_Model_V1(nn.Module):\n",
    "    def __init__(self, hidden_dim, action_num):\n",
    "        super(CM_Model_V1, self).__init__()\n",
    "        self.hidden_dim = hidden_dim\n",
    "        self.action_num = action_num\n",
    "        self.DenseLayer = nn.Linear(self.hidden_dim, 64)\n",
    "        self.Classifier = nn.Linear(64, self.action_num)\n",
    "        \n",
    "    def forward(self, rdm_state):\n",
    "        \"\"\"\n",
    "        rdm_state: [batchsize, hidden_dim]\n",
    "        \"\"\"\n",
    "        batchsize, hidden_dim = rdm_state.shape\n",
    "        rl_h1 = nn.functional.relu(\n",
    "            self.DenseLayer(\n",
    "                rdm_state\n",
    "            )\n",
    "        )\n",
    "        stopScore = self.Classifier(rl_h1)\n",
    "        isStop = stopScore.argmax(axis=1)\n",
    "        return stopScore, isStop\n",
    "\n",
    "class CM_Model(nn.Module):\n",
    "    def __init__(self, sentence_embedding_dim, hidden_dim, action_num):\n",
    "        super(CM_Model, self).__init__()\n",
    "        self.sentence_embedding_dim = sentence_embedding_dim\n",
    "        self.hidden_dim = hidden_dim\n",
    "        self.action_num = action_num\n",
    "#         self.PoolLayer = pooling_layer(self.embedding_dim, \n",
    "#                                             self.hidden_dim)\n",
    "        self.DenseLayer = nn.Linear(self.hidden_dim, 64)\n",
    "        self.Classifier = nn.Linear(64, self.action_num)\n",
    "        \n",
    "    def forward(self, rdm_model, rl_input, rl_state):\n",
    "        \"\"\"\n",
    "        rl_input: [batchsize, max_word_num, sentence_embedding_dim]\n",
    "        rl_state: [1, batchsize, hidden_dim]\n",
    "        \"\"\"\n",
    "        assert(rl_input.ndim==3)\n",
    "        batchsize, max_word_num, embedding_dim = rl_input.shape\n",
    "        rl_output, rl_new_state = rdm_model.gru_model(\n",
    "                                            rl_input, \n",
    "                                            rl_state\n",
    "                                        )\n",
    "        rl_h1 = nn.functional.relu(\n",
    "            self.DenseLayer(\n",
    "#                 rl_state.reshape([len(rl_input), self.hidden_dim]) #it is not sure to take rl_state , rather than rl_output, as the feature\n",
    "                rl_output.reshape(\n",
    "                    [len(rl_input), self.hidden_dim]\n",
    "                )\n",
    "            )\n",
    "        )\n",
    "        stopScore = self.Classifier(rl_h1)\n",
    "        isStop = stopScore.argmax(axis=1)\n",
    "        return stopScore, isStop, rl_new_state"
   ]
  },
  {
   "cell_type": "code",
   "execution_count": 21,
   "metadata": {
    "hidden": true
   },
   "outputs": [],
   "source": [
    "def TrainCMModel(sent_pooler, rdm_model, rdm_classifier, cm_model, stage, t_rw, t_steps, log_dir, logger, FLAGS, cuda=True):\n",
    "    batch_size = 20\n",
    "    t_acc = 0.9\n",
    "    ids = np.array(range(batch_size), dtype=np.int32)\n",
    "    seq_states = np.zeros([batch_size], dtype=np.int32)\n",
    "    isStop = np.zeros([batch_size], dtype=np.int32)\n",
    "    max_id = batch_size\n",
    "    df_init_states = torch.zeros([1, batch_size, rdm_model.hidden_dim], dtype=torch.float32).cuda()\n",
    "    writer = SummaryWriter(log_dir, filename_suffix=\"_ERD_CM_stage_%3d\"%stage)\n",
    "    state = df_init_states\n",
    "    D = deque()\n",
    "    ssq = []\n",
    "    print(\"in RL the begining\")\n",
    "    rl_optim = torch.optim.Adam([{'params':cm_model.parameters(), 'lr':1e-5}])\n",
    "    # get_new_len(sess, mm)\n",
    "    data_ID = get_data_ID()\n",
    "\n",
    "    if len(data_ID) % batch_size == 0: # the total number of events\n",
    "            flags = int(len(data_ID) / FLAGS.batch_size)\n",
    "    else:\n",
    "        flags = int(len(data_ID) / FLAGS.batch_size) + 1\n",
    "\n",
    "    rdm_hiddens_seq = []\n",
    "    for i in range(flags):\n",
    "        with torch.no_grad():\n",
    "            x, x_len, y = get_df_batch(i, batch_size)\n",
    "            seq = sent_pooler(x)\n",
    "            rdm_hiddens = rdm_model(seq)\n",
    "            batchsize, _, _ = rdm_hiddens.shape\n",
    "            tmp_hiddens = [ rdm_hiddens[i][:x_len[i]] for i in range(batchsize)] \n",
    "\n",
    "            rdm_hiddens_seq.extend(tmp_hiddens)\n",
    "            print(\"batch %d\"%i)\n",
    "            if len(ssq) > 0:\n",
    "                ssq.extend([rdm_classifier(h) for h in tmp_hiddens])\n",
    "            else:\n",
    "                ssq = [rdm_classifier(h) for h in tmp_hiddens]\n",
    "            torch.cuda.empty_cache()\n",
    "    del rdm_hiddens, tmp_hiddens\n",
    "\n",
    "    print(get_curtime() + \" Now Start RL training ...\")\n",
    "\n",
    "    counter = 0\n",
    "    sum_rw = 0.0 # sum of rewards\n",
    "    data_len = get_data_len()\n",
    "\n",
    "    while True:\n",
    "    #         if counter > FLAGS.OBSERVE:\n",
    "        if counter > 1000:\n",
    "            if counter > t_steps:\n",
    "                print(\"Retch The Target Steps\")\n",
    "                break\n",
    "            rdm_state, s_ids, s_seq_states = get_RL_Train_batch_V1(D, FLAGS, batch_size, cuda)\n",
    "            print(\"s_seq_states:\", s_seq_states)\n",
    "            with torch.no_grad():\n",
    "                s_stopScore, s_isStop = cm_model(rdm_state)                \n",
    "                rw, q_val = get_reward_0(s_isStop, s_stopScore, ssq, s_ids, s_seq_states)\n",
    "\n",
    "            s_isStop = s_stopScore.argsort()\n",
    "            for j in range(batch_size):\n",
    "                if random.random() < FLAGS.random_rate:\n",
    "                    s_isStop[j][int(torch.rand(2).argmax())] = 1 # 设置了一个随机的干扰。\n",
    "                if seq_states[j] == data_len[s_ids[j]]:\n",
    "                    s_isStop[j] = 1\n",
    "\n",
    "            t_stopScore, t_isStop = cm_model(rdm_state)\n",
    "            out_action = (t_stopScore*s_isStop.float()).sum(axis=1)\n",
    "            rl_cost = torch.mean((q_val.cuda() - out_action)*(q_val.cuda() - out_action))\n",
    "            rl_cost.backward()\n",
    "            torch.cuda.empty_cache()\n",
    "            rl_optim.step()\n",
    "            print(\"RL Cost:\", rl_cost)\n",
    "            writer.add_scalar('RL Cost', rl_cost, counter - FLAGS.OBSERVE)\n",
    "\n",
    "        ids, seq_states, max_id = get_rl_batch(ids, seq_states, max_id, 0, FLAGS)\n",
    "        if counter > FLAGS.OBSERVE:\n",
    "            print(\"step:\", counter - FLAGS.OBSERVE, \", reward:\", rw.mean())\n",
    "            print(\"step:\", counter - FLAGS.OBSERVE, \", reward:\", q_val.mean())\n",
    "            writer.add_scalar('reward', rw.mean(), counter - FLAGS.OBSERVE)\n",
    "        for j in range(batch_size):\n",
    "            D.append((rdm_hiddens_seq[ids[j]][seq_states[j]-1], ids[j], seq_states[j]))\n",
    "            if len(D) > FLAGS.max_memory:\n",
    "                D.popleft()\n",
    "        counter += 1"
   ]
  },
  {
   "cell_type": "code",
   "execution_count": 22,
   "metadata": {
    "hidden": true
   },
   "outputs": [],
   "source": [
    "cm_model = CM_Model_V1(256, 2).cuda()"
   ]
  },
  {
   "cell_type": "code",
   "execution_count": 23,
   "metadata": {
    "hidden": true
   },
   "outputs": [],
   "source": [
    "with open(\"../../config.json\", \"r\") as cr:\n",
    "    dic = json.load(cr)\n",
    "\n",
    "class adict(dict):\n",
    "    ''' Attribute dictionary - a convenience data structure, similar to SimpleNamespace in python 3.3\n",
    "        One can use attributes to read/write dictionary content.\n",
    "    '''\n",
    "    def __init__(self, *av, **kav):\n",
    "        dict.__init__(self, *av, **kav)\n",
    "        self.__dict__ = self\n",
    "\n",
    "FLAGS = adict(dic)"
   ]
  },
  {
   "cell_type": "code",
   "execution_count": 24,
   "metadata": {
    "hidden": true
   },
   "outputs": [],
   "source": [
    "del data_ID\n",
    "del data_len\n",
    "del data_y\n",
    "del data\n",
    "\n",
    "from dataUtils import data_ID\n",
    "from dataUtils import data_len\n",
    "from dataUtils import data_y\n",
    "from dataUtils import data"
   ]
  },
  {
   "cell_type": "code",
   "execution_count": 27,
   "metadata": {
    "hidden": true
   },
   "outputs": [],
   "source": [
    "cuda = True"
   ]
  },
  {
   "cell_type": "code",
   "execution_count": 112,
   "metadata": {
    "hidden": true
   },
   "outputs": [],
   "source": [
    "x, x_len, y = get_df_batch(0, 20)\n",
    "seq = sent_pooler(x)\n",
    "rdm_hiddens = rdm_model(seq)\n",
    "batchsize, _, _ = rdm_hiddens.shape\n",
    "rdm_outs = torch.cat(\n",
    "    [ rdm_hiddens[i][x_len[i]-1].unsqueeze(0) for i in range(batchsize)] \n",
    "    # a list of tensor, where the ndim of tensor is 1 and the shape of tensor is [hidden_size]\n",
    ")\n",
    "rdm_scores = rdm_classifier(\n",
    "    rdm_outs\n",
    ")\n",
    "rdm_preds = rdm_scores.argmax(axis=1)\n",
    "y_label = torch.tensor(y).argmax(axis=1).cuda() if cuda else torch.tensor(y).argmax(axis=1)"
   ]
  },
  {
   "cell_type": "code",
   "execution_count": 113,
   "metadata": {
    "hidden": true
   },
   "outputs": [],
   "source": [
    "batchsize, max_seq_len, _ = rdm_hiddens.shape\n",
    "\n",
    "stopScore, isStop = cm_model(rdm_hiddens.reshape(-1, 256))\n",
    "\n",
    "isStop = isStop.reshape([batchsize, max_seq_len, -1])\n",
    "stopScore = stopScore.reshape([batchsize, max_seq_len, -1]).softmax(axis=-1)"
   ]
  },
  {
   "cell_type": "markdown",
   "metadata": {
    "heading_collapsed": true,
    "hidden": true
   },
   "source": [
    "##### 计算奖励值\n",
    "$P_{s_ts_{t+1}}^{stop} = 0.2$, $P_{s_ts_{t+1}}^{continue} = 1.0$"
   ]
  },
  {
   "cell_type": "code",
   "execution_count": 89,
   "metadata": {
    "hidden": true
   },
   "outputs": [],
   "source": [
    "import random"
   ]
  },
  {
   "cell_type": "code",
   "execution_count": 114,
   "metadata": {
    "hidden": true
   },
   "outputs": [],
   "source": [
    "\n",
    "E_rw = torch.zeros(len(x_len)).cuda()\n",
    "prob = torch.ones(len(x_len)).cuda()\n",
    "for j in range(len(x_len)):\n",
    "    sum_rw = 0.0\n",
    "    for t in range(x_len[j]):\n",
    "        if random.random() < stopScore[j][t][0]:\n",
    "            rw = -2.0/x_len[j]\n",
    "            sum_rw += pow(gamma, t)*rw\n",
    "            prob[j] *= stopScore[j][t][0]            \n",
    "        else:\n",
    "            if y[t][1] == 1:\n",
    "                rw = 1.0\n",
    "            else:\n",
    "                rw = -1.0\n",
    "            sum_rw += pow(gamma, t)*rw\n",
    "            prob[j] *= stopScore[j][t][1]\n",
    "            if random.random() > stopScore[j][t][0]*0.8:\n",
    "                prob[j] *= 0.2\n",
    "                continue\n",
    "            else:\n",
    "                prob[j] *= 0.8\n",
    "                break\n",
    "    E_rw[j] = prob[j]*sum_rw"
   ]
  },
  {
   "cell_type": "code",
   "execution_count": 115,
   "metadata": {
    "hidden": true
   },
   "outputs": [
    {
     "data": {
      "text/plain": [
       "tensor(0.0480, device='cuda:0', grad_fn=<MeanBackward0>)"
      ]
     },
     "execution_count": 115,
     "metadata": {},
     "output_type": "execute_result"
    }
   ],
   "source": [
    "E_rw.mean()"
   ]
  },
  {
   "cell_type": "code",
   "execution_count": 116,
   "metadata": {
    "hidden": true
   },
   "outputs": [],
   "source": [
    "E_rw.mean().backward()"
   ]
  },
  {
   "cell_type": "code",
   "execution_count": 135,
   "metadata": {
    "hidden": true
   },
   "outputs": [
    {
     "data": {
      "text/plain": [
       "tensor([-0.1501,  0.1501], device='cuda:0')"
      ]
     },
     "execution_count": 135,
     "metadata": {},
     "output_type": "execute_result"
    }
   ],
   "source": [
    "cm_model.Classifier.bias.grad"
   ]
  },
  {
   "cell_type": "code",
   "execution_count": 124,
   "metadata": {
    "hidden": true
   },
   "outputs": [
    {
     "data": {
      "text/plain": [
       "<bound method Module.parameters of CM_Model_V1(\n",
       "  (DenseLayer): Linear(in_features=256, out_features=64, bias=True)\n",
       "  (Classifier): Linear(in_features=64, out_features=2, bias=True)\n",
       ")>"
      ]
     },
     "execution_count": 124,
     "metadata": {},
     "output_type": "execute_result"
    }
   ],
   "source": [
    "cm_model.parameters"
   ]
  },
  {
   "cell_type": "code",
   "execution_count": 128,
   "metadata": {
    "hidden": true
   },
   "outputs": [
    {
     "data": {
      "text/plain": [
       "tensor([ 2.3243e-03, -3.7346e-03, -2.2496e-03,  2.0127e-04, -7.0226e-07,\n",
       "        -1.2231e-06,  3.0092e-03,  1.0209e-04,  5.1023e-04,  5.8671e-04,\n",
       "        -3.3503e-03,  2.3306e-04, -1.0836e-03,  1.2252e-04,  1.2734e-06,\n",
       "         1.7792e-03, -3.6655e-04,  1.1308e-03,  1.3898e-04, -2.3393e-04,\n",
       "         7.9612e-05,  1.0782e-03,  2.8988e-03, -2.0485e-03,  0.0000e+00,\n",
       "         1.4991e-05, -1.3598e-03,  2.5439e-03,  0.0000e+00,  2.6299e-03,\n",
       "         0.0000e+00,  7.8712e-04, -2.0296e-04,  1.1501e-03,  0.0000e+00,\n",
       "        -3.3561e-06, -2.4082e-03, -3.2616e-03,  1.3546e-03, -2.5670e-03,\n",
       "         2.5143e-04,  1.2142e-04,  3.6075e-03, -1.6696e-03, -3.6478e-03,\n",
       "         3.9861e-04, -6.5540e-04, -2.1520e-05, -3.7279e-04, -3.0819e-03,\n",
       "        -1.5073e-03, -1.4589e-03,  1.0510e-03, -8.2171e-04,  1.2041e-03,\n",
       "        -2.9462e-04,  0.0000e+00,  2.3378e-03,  2.4727e-03,  2.6905e-03,\n",
       "        -2.4922e-09,  1.2005e-03,  2.3503e-03, -2.8909e-03], device='cuda:0')"
      ]
     },
     "execution_count": 128,
     "metadata": {},
     "output_type": "execute_result"
    }
   ],
   "source": [
    "cm_model.DenseLayer.weight.grad[:, 2]"
   ]
  },
  {
   "cell_type": "code",
   "execution_count": 111,
   "metadata": {
    "hidden": true
   },
   "outputs": [
    {
     "data": {
      "text/plain": [
       "array([[0, 1],\n",
       "       [0, 1],\n",
       "       [0, 1],\n",
       "       [1, 0],\n",
       "       [0, 1],\n",
       "       [1, 0],\n",
       "       [0, 1],\n",
       "       [0, 1],\n",
       "       [0, 1],\n",
       "       [0, 1],\n",
       "       [0, 1],\n",
       "       [0, 1],\n",
       "       [1, 0],\n",
       "       [0, 1],\n",
       "       [0, 1],\n",
       "       [0, 1],\n",
       "       [1, 0],\n",
       "       [0, 1],\n",
       "       [1, 0],\n",
       "       [1, 0]], dtype=int32)"
      ]
     },
     "execution_count": 111,
     "metadata": {},
     "output_type": "execute_result"
    }
   ],
   "source": [
    "y"
   ]
  },
  {
   "cell_type": "code",
   "execution_count": 109,
   "metadata": {
    "hidden": true
   },
   "outputs": [
    {
     "data": {
      "text/plain": [
       "9"
      ]
     },
     "execution_count": 109,
     "metadata": {},
     "output_type": "execute_result"
    }
   ],
   "source": [
    "random.randint(0, 10)"
   ]
  },
  {
   "cell_type": "code",
   "execution_count": 110,
   "metadata": {
    "hidden": true
   },
   "outputs": [
    {
     "name": "stdout",
     "output_type": "stream",
     "text": [
      "in RL the begining\n",
      "batch 0\n",
      "batch 1\n",
      "batch 2\n",
      "batch 3\n",
      "batch 4\n",
      "batch 5\n",
      "batch 6\n",
      "batch 7\n",
      "batch 8\n"
     ]
    },
    {
     "ename": "KeyboardInterrupt",
     "evalue": "",
     "output_type": "error",
     "traceback": [
      "\u001b[0;31m---------------------------------------------------------------------------\u001b[0m",
      "\u001b[0;31mKeyboardInterrupt\u001b[0m                         Traceback (most recent call last)",
      "\u001b[0;32m<ipython-input-110-40699f352dce>\u001b[0m in \u001b[0;36m<module>\u001b[0;34m\u001b[0m\n\u001b[0;32m----> 1\u001b[0;31m \u001b[0mTrainCMModel\u001b[0m\u001b[0;34m(\u001b[0m\u001b[0msent_pooler\u001b[0m\u001b[0;34m,\u001b[0m \u001b[0mrdm_model\u001b[0m\u001b[0;34m,\u001b[0m \u001b[0mrdm_classifier\u001b[0m\u001b[0;34m,\u001b[0m \u001b[0mcm_model\u001b[0m\u001b[0;34m,\u001b[0m \u001b[0;36m0\u001b[0m\u001b[0;34m,\u001b[0m \u001b[0;36m0.5\u001b[0m\u001b[0;34m,\u001b[0m \u001b[0;36m20000\u001b[0m\u001b[0;34m,\u001b[0m \u001b[0;34m\"ERD/\"\u001b[0m\u001b[0;34m,\u001b[0m \u001b[0;32mNone\u001b[0m\u001b[0;34m,\u001b[0m \u001b[0mFLAGS\u001b[0m\u001b[0;34m,\u001b[0m \u001b[0mcuda\u001b[0m\u001b[0;34m=\u001b[0m\u001b[0;32mTrue\u001b[0m\u001b[0;34m)\u001b[0m\u001b[0;34m\u001b[0m\u001b[0m\n\u001b[0m",
      "\u001b[0;32m<ipython-input-21-585f97ef7082>\u001b[0m in \u001b[0;36mTrainCMModel\u001b[0;34m(sent_pooler, rdm_model, rdm_classifier, cm_model, stage, t_rw, t_steps, log_dir, logger, FLAGS, cuda)\u001b[0m\n\u001b[1;32m     25\u001b[0m         \u001b[0;32mwith\u001b[0m \u001b[0mtorch\u001b[0m\u001b[0;34m.\u001b[0m\u001b[0mno_grad\u001b[0m\u001b[0;34m(\u001b[0m\u001b[0;34m)\u001b[0m\u001b[0;34m:\u001b[0m\u001b[0;34m\u001b[0m\u001b[0m\n\u001b[1;32m     26\u001b[0m             \u001b[0mx\u001b[0m\u001b[0;34m,\u001b[0m \u001b[0mx_len\u001b[0m\u001b[0;34m,\u001b[0m \u001b[0my\u001b[0m \u001b[0;34m=\u001b[0m \u001b[0mget_df_batch\u001b[0m\u001b[0;34m(\u001b[0m\u001b[0mi\u001b[0m\u001b[0;34m,\u001b[0m \u001b[0mbatch_size\u001b[0m\u001b[0;34m)\u001b[0m\u001b[0;34m\u001b[0m\u001b[0m\n\u001b[0;32m---> 27\u001b[0;31m             \u001b[0mseq\u001b[0m \u001b[0;34m=\u001b[0m \u001b[0msent_pooler\u001b[0m\u001b[0;34m(\u001b[0m\u001b[0mx\u001b[0m\u001b[0;34m)\u001b[0m\u001b[0;34m\u001b[0m\u001b[0m\n\u001b[0m\u001b[1;32m     28\u001b[0m             \u001b[0mrdm_hiddens\u001b[0m \u001b[0;34m=\u001b[0m \u001b[0mrdm_model\u001b[0m\u001b[0;34m(\u001b[0m\u001b[0mseq\u001b[0m\u001b[0;34m)\u001b[0m\u001b[0;34m\u001b[0m\u001b[0m\n\u001b[1;32m     29\u001b[0m             \u001b[0mbatchsize\u001b[0m\u001b[0;34m,\u001b[0m \u001b[0m_\u001b[0m\u001b[0;34m,\u001b[0m \u001b[0m_\u001b[0m \u001b[0;34m=\u001b[0m \u001b[0mrdm_hiddens\u001b[0m\u001b[0;34m.\u001b[0m\u001b[0mshape\u001b[0m\u001b[0;34m\u001b[0m\u001b[0m\n",
      "\u001b[0;32m~/.conda/envs/torch_B/lib/python3.6/site-packages/torch/nn/modules/module.py\u001b[0m in \u001b[0;36m__call__\u001b[0;34m(self, *input, **kwargs)\u001b[0m\n\u001b[1;32m    545\u001b[0m             \u001b[0mresult\u001b[0m \u001b[0;34m=\u001b[0m \u001b[0mself\u001b[0m\u001b[0;34m.\u001b[0m\u001b[0m_slow_forward\u001b[0m\u001b[0;34m(\u001b[0m\u001b[0;34m*\u001b[0m\u001b[0minput\u001b[0m\u001b[0;34m,\u001b[0m \u001b[0;34m**\u001b[0m\u001b[0mkwargs\u001b[0m\u001b[0;34m)\u001b[0m\u001b[0;34m\u001b[0m\u001b[0m\n\u001b[1;32m    546\u001b[0m         \u001b[0;32melse\u001b[0m\u001b[0;34m:\u001b[0m\u001b[0;34m\u001b[0m\u001b[0m\n\u001b[0;32m--> 547\u001b[0;31m             \u001b[0mresult\u001b[0m \u001b[0;34m=\u001b[0m \u001b[0mself\u001b[0m\u001b[0;34m.\u001b[0m\u001b[0mforward\u001b[0m\u001b[0;34m(\u001b[0m\u001b[0;34m*\u001b[0m\u001b[0minput\u001b[0m\u001b[0;34m,\u001b[0m \u001b[0;34m**\u001b[0m\u001b[0mkwargs\u001b[0m\u001b[0;34m)\u001b[0m\u001b[0;34m\u001b[0m\u001b[0m\n\u001b[0m\u001b[1;32m    548\u001b[0m         \u001b[0;32mfor\u001b[0m \u001b[0mhook\u001b[0m \u001b[0;32min\u001b[0m \u001b[0mself\u001b[0m\u001b[0;34m.\u001b[0m\u001b[0m_forward_hooks\u001b[0m\u001b[0;34m.\u001b[0m\u001b[0mvalues\u001b[0m\u001b[0;34m(\u001b[0m\u001b[0;34m)\u001b[0m\u001b[0;34m:\u001b[0m\u001b[0;34m\u001b[0m\u001b[0m\n\u001b[1;32m    549\u001b[0m             \u001b[0mhook_result\u001b[0m \u001b[0;34m=\u001b[0m \u001b[0mhook\u001b[0m\u001b[0;34m(\u001b[0m\u001b[0mself\u001b[0m\u001b[0;34m,\u001b[0m \u001b[0minput\u001b[0m\u001b[0;34m,\u001b[0m \u001b[0mresult\u001b[0m\u001b[0;34m)\u001b[0m\u001b[0;34m\u001b[0m\u001b[0m\n",
      "\u001b[0;32m<ipython-input-14-6367cc0e6c0a>\u001b[0m in \u001b[0;36mforward\u001b[0;34m(self, inputs, cuda)\u001b[0m\n\u001b[1;32m     20\u001b[0m \u001b[0;34m\u001b[0m\u001b[0m\n\u001b[1;32m     21\u001b[0m \u001b[0;31m#         )\u001b[0m\u001b[0;34m\u001b[0m\u001b[0;34m\u001b[0m\u001b[0m\n\u001b[0;32m---> 22\u001b[0;31m         \u001b[0minputs_sent\u001b[0m \u001b[0;34m=\u001b[0m \u001b[0;34m[\u001b[0m\u001b[0mtorch\u001b[0m\u001b[0;34m.\u001b[0m\u001b[0mcat\u001b[0m\u001b[0;34m(\u001b[0m\u001b[0;34m[\u001b[0m\u001b[0mself\u001b[0m\u001b[0;34m.\u001b[0m\u001b[0mlinear\u001b[0m\u001b[0;34m(\u001b[0m\u001b[0msent_tensor\u001b[0m\u001b[0;34m.\u001b[0m\u001b[0mcuda\u001b[0m\u001b[0;34m(\u001b[0m\u001b[0;34m)\u001b[0m \u001b[0;32mif\u001b[0m \u001b[0mcuda\u001b[0m \u001b[0;32melse\u001b[0m \u001b[0msent_tensor\u001b[0m\u001b[0;34m)\u001b[0m\u001b[0;34m.\u001b[0m\u001b[0mmax\u001b[0m\u001b[0;34m(\u001b[0m\u001b[0maxis\u001b[0m\u001b[0;34m=\u001b[0m\u001b[0;36m0\u001b[0m\u001b[0;34m)\u001b[0m\u001b[0;34m[\u001b[0m\u001b[0;36m0\u001b[0m\u001b[0;34m]\u001b[0m\u001b[0;34m.\u001b[0m\u001b[0munsqueeze\u001b[0m\u001b[0;34m(\u001b[0m\u001b[0;36m0\u001b[0m\u001b[0;34m)\u001b[0m \u001b[0;32mfor\u001b[0m \u001b[0msent_tensor\u001b[0m \u001b[0;32min\u001b[0m \u001b[0mseq\u001b[0m\u001b[0;34m]\u001b[0m\u001b[0;34m)\u001b[0m \u001b[0;32mfor\u001b[0m \u001b[0mseq\u001b[0m \u001b[0;32min\u001b[0m \u001b[0minputs\u001b[0m\u001b[0;34m]\u001b[0m\u001b[0;34m\u001b[0m\u001b[0m\n\u001b[0m\u001b[1;32m     23\u001b[0m         \u001b[0mseqs\u001b[0m \u001b[0;34m=\u001b[0m \u001b[0mtorch\u001b[0m\u001b[0;34m.\u001b[0m\u001b[0mnn\u001b[0m\u001b[0;34m.\u001b[0m\u001b[0mutils\u001b[0m\u001b[0;34m.\u001b[0m\u001b[0mrnn\u001b[0m\u001b[0;34m.\u001b[0m\u001b[0mpad_sequence\u001b[0m\u001b[0;34m(\u001b[0m\u001b[0minputs_sent\u001b[0m\u001b[0;34m,\u001b[0m \u001b[0mbatch_first\u001b[0m\u001b[0;34m=\u001b[0m\u001b[0;32mTrue\u001b[0m\u001b[0;34m)\u001b[0m\u001b[0;34m\u001b[0m\u001b[0m\n\u001b[1;32m     24\u001b[0m         \u001b[0;32mreturn\u001b[0m \u001b[0mseqs\u001b[0m\u001b[0;34m\u001b[0m\u001b[0m\n",
      "\u001b[0;32m<ipython-input-14-6367cc0e6c0a>\u001b[0m in \u001b[0;36m<listcomp>\u001b[0;34m(.0)\u001b[0m\n\u001b[1;32m     20\u001b[0m \u001b[0;34m\u001b[0m\u001b[0m\n\u001b[1;32m     21\u001b[0m \u001b[0;31m#         )\u001b[0m\u001b[0;34m\u001b[0m\u001b[0;34m\u001b[0m\u001b[0m\n\u001b[0;32m---> 22\u001b[0;31m         \u001b[0minputs_sent\u001b[0m \u001b[0;34m=\u001b[0m \u001b[0;34m[\u001b[0m\u001b[0mtorch\u001b[0m\u001b[0;34m.\u001b[0m\u001b[0mcat\u001b[0m\u001b[0;34m(\u001b[0m\u001b[0;34m[\u001b[0m\u001b[0mself\u001b[0m\u001b[0;34m.\u001b[0m\u001b[0mlinear\u001b[0m\u001b[0;34m(\u001b[0m\u001b[0msent_tensor\u001b[0m\u001b[0;34m.\u001b[0m\u001b[0mcuda\u001b[0m\u001b[0;34m(\u001b[0m\u001b[0;34m)\u001b[0m \u001b[0;32mif\u001b[0m \u001b[0mcuda\u001b[0m \u001b[0;32melse\u001b[0m \u001b[0msent_tensor\u001b[0m\u001b[0;34m)\u001b[0m\u001b[0;34m.\u001b[0m\u001b[0mmax\u001b[0m\u001b[0;34m(\u001b[0m\u001b[0maxis\u001b[0m\u001b[0;34m=\u001b[0m\u001b[0;36m0\u001b[0m\u001b[0;34m)\u001b[0m\u001b[0;34m[\u001b[0m\u001b[0;36m0\u001b[0m\u001b[0;34m]\u001b[0m\u001b[0;34m.\u001b[0m\u001b[0munsqueeze\u001b[0m\u001b[0;34m(\u001b[0m\u001b[0;36m0\u001b[0m\u001b[0;34m)\u001b[0m \u001b[0;32mfor\u001b[0m \u001b[0msent_tensor\u001b[0m \u001b[0;32min\u001b[0m \u001b[0mseq\u001b[0m\u001b[0;34m]\u001b[0m\u001b[0;34m)\u001b[0m \u001b[0;32mfor\u001b[0m \u001b[0mseq\u001b[0m \u001b[0;32min\u001b[0m \u001b[0minputs\u001b[0m\u001b[0;34m]\u001b[0m\u001b[0;34m\u001b[0m\u001b[0m\n\u001b[0m\u001b[1;32m     23\u001b[0m         \u001b[0mseqs\u001b[0m \u001b[0;34m=\u001b[0m \u001b[0mtorch\u001b[0m\u001b[0;34m.\u001b[0m\u001b[0mnn\u001b[0m\u001b[0;34m.\u001b[0m\u001b[0mutils\u001b[0m\u001b[0;34m.\u001b[0m\u001b[0mrnn\u001b[0m\u001b[0;34m.\u001b[0m\u001b[0mpad_sequence\u001b[0m\u001b[0;34m(\u001b[0m\u001b[0minputs_sent\u001b[0m\u001b[0;34m,\u001b[0m \u001b[0mbatch_first\u001b[0m\u001b[0;34m=\u001b[0m\u001b[0;32mTrue\u001b[0m\u001b[0;34m)\u001b[0m\u001b[0;34m\u001b[0m\u001b[0m\n\u001b[1;32m     24\u001b[0m         \u001b[0;32mreturn\u001b[0m \u001b[0mseqs\u001b[0m\u001b[0;34m\u001b[0m\u001b[0m\n",
      "\u001b[0;32m<ipython-input-14-6367cc0e6c0a>\u001b[0m in \u001b[0;36m<listcomp>\u001b[0;34m(.0)\u001b[0m\n\u001b[1;32m     20\u001b[0m \u001b[0;34m\u001b[0m\u001b[0m\n\u001b[1;32m     21\u001b[0m \u001b[0;31m#         )\u001b[0m\u001b[0;34m\u001b[0m\u001b[0;34m\u001b[0m\u001b[0m\n\u001b[0;32m---> 22\u001b[0;31m         \u001b[0minputs_sent\u001b[0m \u001b[0;34m=\u001b[0m \u001b[0;34m[\u001b[0m\u001b[0mtorch\u001b[0m\u001b[0;34m.\u001b[0m\u001b[0mcat\u001b[0m\u001b[0;34m(\u001b[0m\u001b[0;34m[\u001b[0m\u001b[0mself\u001b[0m\u001b[0;34m.\u001b[0m\u001b[0mlinear\u001b[0m\u001b[0;34m(\u001b[0m\u001b[0msent_tensor\u001b[0m\u001b[0;34m.\u001b[0m\u001b[0mcuda\u001b[0m\u001b[0;34m(\u001b[0m\u001b[0;34m)\u001b[0m \u001b[0;32mif\u001b[0m \u001b[0mcuda\u001b[0m \u001b[0;32melse\u001b[0m \u001b[0msent_tensor\u001b[0m\u001b[0;34m)\u001b[0m\u001b[0;34m.\u001b[0m\u001b[0mmax\u001b[0m\u001b[0;34m(\u001b[0m\u001b[0maxis\u001b[0m\u001b[0;34m=\u001b[0m\u001b[0;36m0\u001b[0m\u001b[0;34m)\u001b[0m\u001b[0;34m[\u001b[0m\u001b[0;36m0\u001b[0m\u001b[0;34m]\u001b[0m\u001b[0;34m.\u001b[0m\u001b[0munsqueeze\u001b[0m\u001b[0;34m(\u001b[0m\u001b[0;36m0\u001b[0m\u001b[0;34m)\u001b[0m \u001b[0;32mfor\u001b[0m \u001b[0msent_tensor\u001b[0m \u001b[0;32min\u001b[0m \u001b[0mseq\u001b[0m\u001b[0;34m]\u001b[0m\u001b[0;34m)\u001b[0m \u001b[0;32mfor\u001b[0m \u001b[0mseq\u001b[0m \u001b[0;32min\u001b[0m \u001b[0minputs\u001b[0m\u001b[0;34m]\u001b[0m\u001b[0;34m\u001b[0m\u001b[0m\n\u001b[0m\u001b[1;32m     23\u001b[0m         \u001b[0mseqs\u001b[0m \u001b[0;34m=\u001b[0m \u001b[0mtorch\u001b[0m\u001b[0;34m.\u001b[0m\u001b[0mnn\u001b[0m\u001b[0;34m.\u001b[0m\u001b[0mutils\u001b[0m\u001b[0;34m.\u001b[0m\u001b[0mrnn\u001b[0m\u001b[0;34m.\u001b[0m\u001b[0mpad_sequence\u001b[0m\u001b[0;34m(\u001b[0m\u001b[0minputs_sent\u001b[0m\u001b[0;34m,\u001b[0m \u001b[0mbatch_first\u001b[0m\u001b[0;34m=\u001b[0m\u001b[0;32mTrue\u001b[0m\u001b[0;34m)\u001b[0m\u001b[0;34m\u001b[0m\u001b[0m\n\u001b[1;32m     24\u001b[0m         \u001b[0;32mreturn\u001b[0m \u001b[0mseqs\u001b[0m\u001b[0;34m\u001b[0m\u001b[0m\n",
      "\u001b[0;32m~/.conda/envs/torch_B/lib/python3.6/site-packages/torch/nn/modules/module.py\u001b[0m in \u001b[0;36m__call__\u001b[0;34m(self, *input, **kwargs)\u001b[0m\n\u001b[1;32m    545\u001b[0m             \u001b[0mresult\u001b[0m \u001b[0;34m=\u001b[0m \u001b[0mself\u001b[0m\u001b[0;34m.\u001b[0m\u001b[0m_slow_forward\u001b[0m\u001b[0;34m(\u001b[0m\u001b[0;34m*\u001b[0m\u001b[0minput\u001b[0m\u001b[0;34m,\u001b[0m \u001b[0;34m**\u001b[0m\u001b[0mkwargs\u001b[0m\u001b[0;34m)\u001b[0m\u001b[0;34m\u001b[0m\u001b[0m\n\u001b[1;32m    546\u001b[0m         \u001b[0;32melse\u001b[0m\u001b[0;34m:\u001b[0m\u001b[0;34m\u001b[0m\u001b[0m\n\u001b[0;32m--> 547\u001b[0;31m             \u001b[0mresult\u001b[0m \u001b[0;34m=\u001b[0m \u001b[0mself\u001b[0m\u001b[0;34m.\u001b[0m\u001b[0mforward\u001b[0m\u001b[0;34m(\u001b[0m\u001b[0;34m*\u001b[0m\u001b[0minput\u001b[0m\u001b[0;34m,\u001b[0m \u001b[0;34m**\u001b[0m\u001b[0mkwargs\u001b[0m\u001b[0;34m)\u001b[0m\u001b[0;34m\u001b[0m\u001b[0m\n\u001b[0m\u001b[1;32m    548\u001b[0m         \u001b[0;32mfor\u001b[0m \u001b[0mhook\u001b[0m \u001b[0;32min\u001b[0m \u001b[0mself\u001b[0m\u001b[0;34m.\u001b[0m\u001b[0m_forward_hooks\u001b[0m\u001b[0;34m.\u001b[0m\u001b[0mvalues\u001b[0m\u001b[0;34m(\u001b[0m\u001b[0;34m)\u001b[0m\u001b[0;34m:\u001b[0m\u001b[0;34m\u001b[0m\u001b[0m\n\u001b[1;32m    549\u001b[0m             \u001b[0mhook_result\u001b[0m \u001b[0;34m=\u001b[0m \u001b[0mhook\u001b[0m\u001b[0;34m(\u001b[0m\u001b[0mself\u001b[0m\u001b[0;34m,\u001b[0m \u001b[0minput\u001b[0m\u001b[0;34m,\u001b[0m \u001b[0mresult\u001b[0m\u001b[0;34m)\u001b[0m\u001b[0;34m\u001b[0m\u001b[0m\n",
      "\u001b[0;32m~/.conda/envs/torch_B/lib/python3.6/site-packages/torch/nn/modules/linear.py\u001b[0m in \u001b[0;36mforward\u001b[0;34m(self, input)\u001b[0m\n\u001b[1;32m     85\u001b[0m \u001b[0;34m\u001b[0m\u001b[0m\n\u001b[1;32m     86\u001b[0m     \u001b[0;32mdef\u001b[0m \u001b[0mforward\u001b[0m\u001b[0;34m(\u001b[0m\u001b[0mself\u001b[0m\u001b[0;34m,\u001b[0m \u001b[0minput\u001b[0m\u001b[0;34m)\u001b[0m\u001b[0;34m:\u001b[0m\u001b[0;34m\u001b[0m\u001b[0m\n\u001b[0;32m---> 87\u001b[0;31m         \u001b[0;32mreturn\u001b[0m \u001b[0mF\u001b[0m\u001b[0;34m.\u001b[0m\u001b[0mlinear\u001b[0m\u001b[0;34m(\u001b[0m\u001b[0minput\u001b[0m\u001b[0;34m,\u001b[0m \u001b[0mself\u001b[0m\u001b[0;34m.\u001b[0m\u001b[0mweight\u001b[0m\u001b[0;34m,\u001b[0m \u001b[0mself\u001b[0m\u001b[0;34m.\u001b[0m\u001b[0mbias\u001b[0m\u001b[0;34m)\u001b[0m\u001b[0;34m\u001b[0m\u001b[0m\n\u001b[0m\u001b[1;32m     88\u001b[0m \u001b[0;34m\u001b[0m\u001b[0m\n\u001b[1;32m     89\u001b[0m     \u001b[0;32mdef\u001b[0m \u001b[0mextra_repr\u001b[0m\u001b[0;34m(\u001b[0m\u001b[0mself\u001b[0m\u001b[0;34m)\u001b[0m\u001b[0;34m:\u001b[0m\u001b[0;34m\u001b[0m\u001b[0m\n",
      "\u001b[0;32m~/.conda/envs/torch_B/lib/python3.6/site-packages/torch/nn/functional.py\u001b[0m in \u001b[0;36mlinear\u001b[0;34m(input, weight, bias)\u001b[0m\n\u001b[1;32m   1367\u001b[0m     \u001b[0;32mif\u001b[0m \u001b[0minput\u001b[0m\u001b[0;34m.\u001b[0m\u001b[0mdim\u001b[0m\u001b[0;34m(\u001b[0m\u001b[0;34m)\u001b[0m \u001b[0;34m==\u001b[0m \u001b[0;36m2\u001b[0m \u001b[0;32mand\u001b[0m \u001b[0mbias\u001b[0m \u001b[0;32mis\u001b[0m \u001b[0;32mnot\u001b[0m \u001b[0;32mNone\u001b[0m\u001b[0;34m:\u001b[0m\u001b[0;34m\u001b[0m\u001b[0m\n\u001b[1;32m   1368\u001b[0m         \u001b[0;31m# fused op is marginally faster\u001b[0m\u001b[0;34m\u001b[0m\u001b[0;34m\u001b[0m\u001b[0m\n\u001b[0;32m-> 1369\u001b[0;31m         \u001b[0mret\u001b[0m \u001b[0;34m=\u001b[0m \u001b[0mtorch\u001b[0m\u001b[0;34m.\u001b[0m\u001b[0maddmm\u001b[0m\u001b[0;34m(\u001b[0m\u001b[0mbias\u001b[0m\u001b[0;34m,\u001b[0m \u001b[0minput\u001b[0m\u001b[0;34m,\u001b[0m \u001b[0mweight\u001b[0m\u001b[0;34m.\u001b[0m\u001b[0mt\u001b[0m\u001b[0;34m(\u001b[0m\u001b[0;34m)\u001b[0m\u001b[0;34m)\u001b[0m\u001b[0;34m\u001b[0m\u001b[0m\n\u001b[0m\u001b[1;32m   1370\u001b[0m     \u001b[0;32melse\u001b[0m\u001b[0;34m:\u001b[0m\u001b[0;34m\u001b[0m\u001b[0m\n\u001b[1;32m   1371\u001b[0m         \u001b[0moutput\u001b[0m \u001b[0;34m=\u001b[0m \u001b[0minput\u001b[0m\u001b[0;34m.\u001b[0m\u001b[0mmatmul\u001b[0m\u001b[0;34m(\u001b[0m\u001b[0mweight\u001b[0m\u001b[0;34m.\u001b[0m\u001b[0mt\u001b[0m\u001b[0;34m(\u001b[0m\u001b[0;34m)\u001b[0m\u001b[0;34m)\u001b[0m\u001b[0;34m\u001b[0m\u001b[0m\n",
      "\u001b[0;31mKeyboardInterrupt\u001b[0m: "
     ]
    }
   ],
   "source": [
    "TrainCMModel(sent_pooler, rdm_model, rdm_classifier, cm_model, 0, 0.5, 20000, \"ERD/\", None, FLAGS, cuda=True)"
   ]
  },
  {
   "cell_type": "code",
   "execution_count": 102,
   "metadata": {
    "hidden": true
   },
   "outputs": [],
   "source": [
    "from dataUtils import valid_data_ID\n",
    "from dataUtils import valid_data_len\n",
    "from dataUtils import valid_data_y"
   ]
  },
  {
   "cell_type": "code",
   "execution_count": 116,
   "metadata": {
    "hidden": true
   },
   "outputs": [
    {
     "ename": "NameError",
     "evalue": "name 'new_len' is not defined",
     "output_type": "error",
     "traceback": [
      "\u001b[0;31m---------------------------------------------------------------------------\u001b[0m",
      "\u001b[0;31mNameError\u001b[0m                                 Traceback (most recent call last)",
      "\u001b[0;32m<ipython-input-116-8d4107937cc6>\u001b[0m in \u001b[0;36m<module>\u001b[0;34m\u001b[0m\n\u001b[0;32m----> 1\u001b[0;31m \u001b[0mrst\u001b[0m \u001b[0;34m=\u001b[0m \u001b[0mget_new_len\u001b[0m\u001b[0;34m(\u001b[0m\u001b[0msent_pooler\u001b[0m\u001b[0;34m,\u001b[0m \u001b[0mrdm_model\u001b[0m\u001b[0;34m,\u001b[0m \u001b[0mcm_model\u001b[0m\u001b[0;34m,\u001b[0m \u001b[0mFLAGS\u001b[0m\u001b[0;34m,\u001b[0m \u001b[0mcuda\u001b[0m\u001b[0;34m)\u001b[0m\u001b[0;34m\u001b[0m\u001b[0m\n\u001b[0m",
      "\u001b[0;32m<ipython-input-115-ef2308a338bf>\u001b[0m in \u001b[0;36mget_new_len\u001b[0;34m(sent_pooler, rdm_model, cm_model, FLAGS, cuda)\u001b[0m\n\u001b[1;32m    114\u001b[0m \u001b[0;34m\u001b[0m\u001b[0m\n\u001b[1;32m    115\u001b[0m \u001b[0;34m\u001b[0m\u001b[0m\n\u001b[0;32m--> 116\u001b[0;31m     \u001b[0mprint\u001b[0m\u001b[0;34m(\u001b[0m\u001b[0;34m\"max_new_len:\"\u001b[0m\u001b[0;34m,\u001b[0m \u001b[0mmax\u001b[0m\u001b[0;34m(\u001b[0m\u001b[0mnew_len\u001b[0m\u001b[0;34m)\u001b[0m\u001b[0;34m)\u001b[0m\u001b[0;34m\u001b[0m\u001b[0m\n\u001b[0m\u001b[1;32m    117\u001b[0m     \u001b[0mprint\u001b[0m\u001b[0;34m(\u001b[0m\u001b[0;34m\"mean_new_len:\"\u001b[0m\u001b[0;34m,\u001b[0m \u001b[0msum\u001b[0m\u001b[0;34m(\u001b[0m\u001b[0mnew_len\u001b[0m\u001b[0;34m)\u001b[0m\u001b[0;34m*\u001b[0m\u001b[0;36m1.0\u001b[0m\u001b[0;34m/\u001b[0m\u001b[0mlen\u001b[0m\u001b[0;34m(\u001b[0m\u001b[0mnew_len\u001b[0m\u001b[0;34m)\u001b[0m\u001b[0;34m)\u001b[0m\u001b[0;34m\u001b[0m\u001b[0m\n\u001b[1;32m    118\u001b[0m     \u001b[0;32mreturn\u001b[0m \u001b[0mnew_len\u001b[0m\u001b[0;34m[\u001b[0m\u001b[0;34m:\u001b[0m\u001b[0mlen\u001b[0m\u001b[0;34m(\u001b[0m\u001b[0mdata_len\u001b[0m\u001b[0;34m)\u001b[0m\u001b[0;34m]\u001b[0m\u001b[0;34m,\u001b[0m \u001b[0mvalid_new_len\u001b[0m\u001b[0;34m[\u001b[0m\u001b[0;34m:\u001b[0m\u001b[0mlen\u001b[0m\u001b[0;34m(\u001b[0m\u001b[0mvalid_data_len\u001b[0m\u001b[0;34m)\u001b[0m\u001b[0;34m]\u001b[0m\u001b[0;34m\u001b[0m\u001b[0m\n",
      "\u001b[0;31mNameError\u001b[0m: name 'new_len' is not defined"
     ]
    }
   ],
   "source": [
    "rst = get_new_len(sent_pooler, rdm_model, cm_model, FLAGS, cuda)"
   ]
  },
  {
   "cell_type": "code",
   "execution_count": 117,
   "metadata": {
    "hidden": true
   },
   "outputs": [],
   "source": [
    "log_dir = os.path.join(sys.path[0], \"ERD/\")"
   ]
  },
  {
   "cell_type": "markdown",
   "metadata": {},
   "source": [
    "## ERD_Torch"
   ]
  },
  {
   "cell_type": "code",
   "execution_count": 1,
   "metadata": {},
   "outputs": [
    {
     "name": "stdout",
     "output_type": "stream",
     "text": [
      "load glove finished\n"
     ]
    }
   ],
   "source": [
    "import sys\n",
    "import random\n",
    "import torch\n",
    "import importlib\n",
    "from tensorboardX import SummaryWriter\n",
    "import torch.nn.utils.rnn as rnn_utils\n",
    "import pickle\n",
    "import tqdm\n",
    "import os\n",
    "import torch.nn as nn\n",
    "import torch.nn.functional as F\n",
    "from torch.autograd import Variable\n",
    "from collections import deque\n",
    "sys.path.append(\".\")\n",
    "from dataUtilsV0 import *\n",
    "import json\n",
    "from RDM_Model import *\n",
    "from CM_Model import *"
   ]
  },
  {
   "cell_type": "code",
   "execution_count": 2,
   "metadata": {},
   "outputs": [],
   "source": [
    "del data\n",
    "del data_ID\n",
    "del data_len\n",
    "del data_y\n",
    "del valid_data_ID\n",
    "del valid_data_len\n",
    "del valid_data_y\n",
    "from dataUtilsV0 import data\n",
    "from dataUtilsV0 import data_ID\n",
    "from dataUtilsV0 import data_len\n",
    "from dataUtilsV0 import data_y\n",
    "from dataUtilsV0 import valid_data_ID\n",
    "from dataUtilsV0 import valid_data_len\n",
    "from dataUtilsV0 import valid_data_y"
   ]
  },
  {
   "cell_type": "code",
   "execution_count": 3,
   "metadata": {},
   "outputs": [],
   "source": [
    "class pooling_layer(nn.Module):\n",
    "    def __init__(self, input_dim, output_dim):\n",
    "        super(pooling_layer, self).__init__()\n",
    "        self.linear = nn.Linear(input_dim, output_dim)\n",
    "        self.input_dim = input_dim\n",
    "        self.output_dim = output_dim\n",
    "        \n",
    "    def forward(self, inputs, cuda=True):\n",
    "        inputs_sent = [torch.cat([self.linear(sent_tensor.cuda() if cuda else sent_tensor).max(axis=0)[0].unsqueeze(0) for sent_tensor in seq]) for seq in inputs]\n",
    "        seqs = torch.nn.utils.rnn.pad_sequence(inputs_sent, batch_first=True)\n",
    "        return seqs\n",
    "\n",
    "class RDM_Model(nn.Module):\n",
    "    def __init__(self, word_embedding_dim, sent_embedding_dim, hidden_dim, dropout_prob):\n",
    "        super(RDM_Model, self).__init__()\n",
    "        self.embedding_dim = sent_embedding_dim\n",
    "        self.hidden_dim = hidden_dim\n",
    "        self.gru_model = nn.GRU(word_embedding_dim, \n",
    "                                self.hidden_dim, \n",
    "                                batch_first=True, \n",
    "                                dropout=dropout_prob\n",
    "                            )\n",
    "        self.DropLayer = nn.Dropout(dropout_prob)\n",
    "\n",
    "    def forward(self, input_x): \n",
    "        \"\"\"\n",
    "        input_x: [batchsize, max_seq_len, sentence_embedding_dim] \n",
    "        x_len: [batchsize]\n",
    "        init_states: [batchsize, hidden_dim]\n",
    "        \"\"\"\n",
    "        batchsize, max_seq_len, emb_dim = input_x.shape\n",
    "        init_states = torch.zeros([1, batchsize, self.hidden_dim], dtype=torch.float32).cuda()\n",
    "        try:\n",
    "            df_outputs, df_last_state = self.gru_model(input_x, init_states)\n",
    "        except:\n",
    "            print(\"Error:\", pool_feature.shape, init_states.shape)\n",
    "            raise\n",
    "        return df_outputs\n",
    "\n",
    "class RDM_Model_V1(nn.Module):\n",
    "    def __init__(self, word_embedding_dim, sent_embedding_dim, hidden_dim, dropout_prob):\n",
    "        super(RDM_Model_V1, self).__init__()\n",
    "        self.embedding_dim = sent_embedding_dim\n",
    "        self.hidden_dim = hidden_dim\n",
    "        self.gru_model = LayerNormLSTM(word_embedding_dim, \n",
    "                                self.hidden_dim, \n",
    "                                dropout=dropout_prob\n",
    "                            )\n",
    "\n",
    "    def forward(self, input_x, seq_lens): \n",
    "        \"\"\"\n",
    "        input_x: [batchsize, max_seq_len, sentence_embedding_dim] \n",
    "        x_len: [batchsize]\n",
    "        init_states: [batchsize, hidden_dim]\n",
    "        \"\"\"\n",
    "        batchsize, max_seq_len, emb_dim = input_x.shape\n",
    "        h0 = torch.zeros([1, batchsize, self.hidden_dim], dtype=torch.float32).cuda()\n",
    "        c0 = torch.zeros([1, batchsize, self.hidden_dim], dtype=torch.float32).cuda()\n",
    "        df_outputs, (df_last_state, df_last_cell) = self.gru_model(input_x.transpose(0, 1), (h0, c0), seq_lens)\n",
    "        return df_outputs.transpose(0, 1), df_last_state.transpose(0, 1), df_last_cell.transpose(0, 1)\n",
    "\n",
    "class CM_Model_V1(nn.Module):\n",
    "    def __init__(self, hidden_dim, action_num):\n",
    "        super(CM_Model_V1, self).__init__()\n",
    "        self.hidden_dim = hidden_dim\n",
    "        self.action_num = action_num\n",
    "        self.DenseLayer = nn.Linear(self.hidden_dim, 64)\n",
    "        self.Classifier = nn.Linear(64, self.action_num)\n",
    "        \n",
    "    def forward(self, rdm_state):\n",
    "        \"\"\"\n",
    "        rdm_state: [batchsize, hidden_dim]\n",
    "        \"\"\"\n",
    "        batchsize, hidden_dim = rdm_state.shape\n",
    "        rl_h1 = nn.functional.relu(\n",
    "            self.DenseLayer(\n",
    "                rdm_state\n",
    "            )\n",
    "        )\n",
    "        stopScore = self.Classifier(rl_h1)\n",
    "        isStop = stopScore.argmax(axis=1)\n",
    "        return stopScore, isStop\n",
    "\n",
    "class CM_Model(nn.Module):\n",
    "    def __init__(self, sentence_embedding_dim, hidden_dim, action_num):\n",
    "        super(CM_Model, self).__init__()\n",
    "        self.sentence_embedding_dim = sentence_embedding_dim\n",
    "        self.hidden_dim = hidden_dim\n",
    "        self.action_num = action_num\n",
    "#         self.PoolLayer = pooling_layer(self.embedding_dim, \n",
    "#                                             self.hidden_dim)\n",
    "        self.DenseLayer = nn.Linear(self.hidden_dim, 64)\n",
    "        self.Classifier = nn.Linear(64, self.action_num)\n",
    "        \n",
    "    def forward(self, rdm_model, rl_input, rl_state):\n",
    "        \"\"\"\n",
    "        rl_input: [batchsize, max_word_num, sentence_embedding_dim]\n",
    "        rl_state: [1, batchsize, hidden_dim]\n",
    "        \"\"\"\n",
    "        assert(rl_input.ndim==3)\n",
    "        batchsize, max_word_num, embedding_dim = rl_input.shape\n",
    "        rl_output, rl_new_state = rdm_model.gru_model(\n",
    "                                            rl_input, \n",
    "                                            rl_state\n",
    "                                        )\n",
    "        rl_h1 = nn.functional.relu(\n",
    "            self.DenseLayer(\n",
    "#                 rl_state.reshape([len(rl_input), self.hidden_dim]) #it is not sure to take rl_state , rather than rl_output, as the feature\n",
    "                rl_output.reshape(\n",
    "                    [len(rl_input), self.hidden_dim]\n",
    "                )\n",
    "            )\n",
    "        )\n",
    "        stopScore = self.Classifier(rl_h1)\n",
    "        isStop = stopScore.argmax(axis=1)\n",
    "        return stopScore, isStop, rl_new_state"
   ]
  },
  {
   "cell_type": "code",
   "execution_count": 4,
   "metadata": {},
   "outputs": [
    {
     "name": "stdout",
     "output_type": "stream",
     "text": [
      "max_sent: 64 ,  max_seq_len: 346\n",
      "5802 data loaded\n"
     ]
    },
    {
     "name": "stderr",
     "output_type": "stream",
     "text": [
      "/home/hadoop/.conda/envs/torch_B/lib/python3.6/site-packages/torch/nn/modules/rnn.py:51: UserWarning: dropout option adds dropout after all but last recurrent layer, so non-zero dropout expects num_layers greater than 1, but got dropout=0.2 and num_layers=1\n",
      "  \"num_layers={}\".format(dropout, num_layers))\n"
     ]
    }
   ],
   "source": [
    "load_data_fast()\n",
    "\n",
    "rdm_model = RDM_Model(300, 300, 256, 0.2).cuda()\n",
    "sent_pooler = pooling_layer(300, 300).cuda()\n",
    "rdm_classifier = nn.Linear(256, 2).cuda()\n",
    "cm_model = CM_Model_V1(256, 2).cuda()\n",
    "\n",
    "log_dir = os.path.join(sys.path[0], \"ERDV4/\")"
   ]
  },
  {
   "cell_type": "code",
   "execution_count": 17,
   "metadata": {},
   "outputs": [],
   "source": [
    "pretrained_file = \"ERDV4/ERD_best.pkl\"\n",
    "if os.path.exists(pretrained_file):\n",
    "    checkpoint = torch.load(pretrained_file)\n",
    "    sent_pooler.load_state_dict(checkpoint['sent_pooler'])\n",
    "    rdm_model.load_state_dict(checkpoint[\"rmdModel\"])\n",
    "    rdm_classifier.load_state_dict(checkpoint[\"rdm_classifier\"])"
   ]
  },
  {
   "cell_type": "code",
   "execution_count": 5,
   "metadata": {},
   "outputs": [],
   "source": [
    "pretrained_file = '%s/erdModel_epoch%03d.pkl'% (\"ERDV4\" , 0)\n",
    "if os.path.exists(pretrained_file):\n",
    "    checkpoint = torch.load(pretrained_file)\n",
    "    sent_pooler.load_state_dict(checkpoint['sent_pooler'])\n",
    "    rdm_model.load_state_dict(checkpoint[\"rmdModel\"])\n",
    "    rdm_classifier.load_state_dict(checkpoint[\"rdm_classifier\"])\n",
    "    cm_model.load_state_dict(checkpoint[\"cm_model\"])"
   ]
  },
  {
   "cell_type": "code",
   "execution_count": null,
   "metadata": {},
   "outputs": [],
   "source": [
    "TrainCMModel_V0(sent_pooler, rdm_model, rdm_classifier, cm_model, 0, 0, 20000, 'ERD', None, FLAGS, cuda=True)"
   ]
  },
  {
   "cell_type": "code",
   "execution_count": 6,
   "metadata": {},
   "outputs": [],
   "source": [
    "valid_new_len = get_new_len_on_valid_data(sent_pooler, rdm_model, cm_model, FLAGS, cuda=True)"
   ]
  },
  {
   "cell_type": "code",
   "execution_count": 7,
   "metadata": {},
   "outputs": [
    {
     "data": {
      "text/plain": [
       "[1,\n",
       " 2,\n",
       " 1,\n",
       " 1,\n",
       " 1,\n",
       " 2,\n",
       " 1,\n",
       " 1,\n",
       " 1,\n",
       " 1,\n",
       " 1,\n",
       " 1,\n",
       " 1,\n",
       " 2,\n",
       " 1,\n",
       " 1,\n",
       " 1,\n",
       " 1,\n",
       " 23,\n",
       " 1,\n",
       " 2,\n",
       " 1,\n",
       " 1,\n",
       " 1,\n",
       " 3,\n",
       " 1,\n",
       " 1,\n",
       " 1,\n",
       " 1,\n",
       " 1,\n",
       " 3,\n",
       " 1,\n",
       " 1,\n",
       " 1,\n",
       " 3,\n",
       " 4,\n",
       " 1,\n",
       " 1,\n",
       " 1,\n",
       " 1,\n",
       " 19,\n",
       " 1,\n",
       " 2,\n",
       " 1,\n",
       " 1,\n",
       " 2,\n",
       " 1,\n",
       " 1,\n",
       " 1,\n",
       " 1,\n",
       " 1,\n",
       " 16,\n",
       " 1,\n",
       " 1,\n",
       " 1,\n",
       " 1,\n",
       " 2,\n",
       " 3,\n",
       " 1,\n",
       " 1,\n",
       " 1,\n",
       " 5,\n",
       " 1,\n",
       " 2,\n",
       " 1,\n",
       " 2,\n",
       " 1,\n",
       " 1,\n",
       " 1,\n",
       " 2,\n",
       " 1,\n",
       " 1,\n",
       " 1,\n",
       " 1,\n",
       " 1,\n",
       " 1,\n",
       " 1,\n",
       " 6,\n",
       " 4,\n",
       " 10,\n",
       " 1,\n",
       " 1,\n",
       " 1,\n",
       " 1,\n",
       " 2,\n",
       " 1,\n",
       " 1,\n",
       " 1,\n",
       " 1,\n",
       " 1,\n",
       " 6,\n",
       " 1,\n",
       " 1,\n",
       " 5,\n",
       " 1,\n",
       " 1,\n",
       " 2,\n",
       " 1,\n",
       " 1,\n",
       " 1,\n",
       " 1,\n",
       " 6,\n",
       " 1,\n",
       " 1,\n",
       " 1,\n",
       " 1,\n",
       " 2,\n",
       " 1,\n",
       " 1,\n",
       " 3,\n",
       " 1,\n",
       " 1,\n",
       " 1,\n",
       " 1,\n",
       " 1,\n",
       " 1,\n",
       " 1,\n",
       " 2,\n",
       " 1,\n",
       " 1,\n",
       " 1,\n",
       " 4,\n",
       " 2,\n",
       " 1,\n",
       " 3,\n",
       " 1,\n",
       " 1,\n",
       " 1,\n",
       " 4,\n",
       " 1,\n",
       " 2,\n",
       " 1,\n",
       " 1,\n",
       " 1,\n",
       " 2,\n",
       " 1,\n",
       " 4,\n",
       " 1,\n",
       " 1,\n",
       " 2,\n",
       " 1,\n",
       " 3,\n",
       " 1,\n",
       " 1,\n",
       " 1,\n",
       " 1,\n",
       " 1,\n",
       " 1,\n",
       " 1,\n",
       " 2,\n",
       " 2,\n",
       " 1,\n",
       " 1,\n",
       " 1,\n",
       " 1,\n",
       " 1,\n",
       " 1,\n",
       " 1,\n",
       " 1,\n",
       " 2,\n",
       " 1,\n",
       " 1,\n",
       " 1,\n",
       " 1,\n",
       " 1,\n",
       " 1,\n",
       " 2,\n",
       " 1,\n",
       " 1,\n",
       " 1,\n",
       " 1,\n",
       " 1,\n",
       " 1,\n",
       " 1,\n",
       " 39,\n",
       " 2,\n",
       " 1,\n",
       " 1,\n",
       " 1,\n",
       " 1,\n",
       " 4,\n",
       " 1,\n",
       " 1,\n",
       " 3,\n",
       " 8,\n",
       " 1,\n",
       " 1,\n",
       " 1,\n",
       " 1,\n",
       " 1,\n",
       " 1,\n",
       " 1,\n",
       " 2,\n",
       " 1,\n",
       " 1,\n",
       " 1,\n",
       " 2,\n",
       " 1,\n",
       " 1,\n",
       " 1,\n",
       " 5,\n",
       " 1,\n",
       " 1,\n",
       " 17,\n",
       " 2,\n",
       " 1,\n",
       " 1,\n",
       " 1,\n",
       " 1,\n",
       " 1,\n",
       " 1,\n",
       " 1,\n",
       " 1,\n",
       " 1,\n",
       " 2,\n",
       " 1,\n",
       " 1,\n",
       " 1,\n",
       " 1,\n",
       " 2,\n",
       " 4,\n",
       " 1,\n",
       " 1,\n",
       " 1,\n",
       " 1,\n",
       " 3,\n",
       " 4,\n",
       " 1,\n",
       " 1,\n",
       " 1,\n",
       " 1,\n",
       " 1,\n",
       " 6,\n",
       " 4,\n",
       " 1,\n",
       " 1,\n",
       " 1,\n",
       " 16,\n",
       " 1,\n",
       " 1,\n",
       " 1,\n",
       " 1,\n",
       " 2,\n",
       " 4,\n",
       " 1,\n",
       " 1,\n",
       " 1,\n",
       " 2,\n",
       " 1,\n",
       " 1,\n",
       " 3,\n",
       " 2,\n",
       " 1,\n",
       " 1,\n",
       " 1,\n",
       " 1,\n",
       " 1,\n",
       " 2,\n",
       " 2,\n",
       " 1,\n",
       " 1,\n",
       " 1,\n",
       " 1,\n",
       " 1,\n",
       " 1,\n",
       " 1,\n",
       " 2,\n",
       " 1,\n",
       " 2,\n",
       " 1,\n",
       " 1,\n",
       " 3,\n",
       " 10,\n",
       " 2,\n",
       " 3,\n",
       " 1,\n",
       " 1,\n",
       " 2,\n",
       " 1,\n",
       " 1,\n",
       " 4,\n",
       " 1,\n",
       " 1,\n",
       " 1,\n",
       " 1,\n",
       " 1,\n",
       " 1,\n",
       " 1,\n",
       " 1,\n",
       " 1,\n",
       " 1,\n",
       " 1,\n",
       " 1,\n",
       " 1,\n",
       " 1,\n",
       " 1,\n",
       " 1,\n",
       " 2,\n",
       " 1,\n",
       " 1,\n",
       " 1,\n",
       " 1,\n",
       " 2,\n",
       " 1,\n",
       " 1,\n",
       " 1,\n",
       " 1,\n",
       " 1,\n",
       " 1,\n",
       " 2,\n",
       " 2,\n",
       " 1,\n",
       " 2,\n",
       " 1,\n",
       " 4,\n",
       " 4,\n",
       " 2,\n",
       " 3,\n",
       " 1,\n",
       " 1,\n",
       " 2,\n",
       " 1,\n",
       " 2,\n",
       " 2,\n",
       " 1,\n",
       " 3,\n",
       " 3,\n",
       " 1,\n",
       " 1,\n",
       " 1,\n",
       " 3,\n",
       " 2,\n",
       " 1,\n",
       " 1,\n",
       " 1,\n",
       " 1,\n",
       " 25,\n",
       " 1,\n",
       " 1,\n",
       " 1,\n",
       " 1,\n",
       " 1,\n",
       " 1,\n",
       " 1,\n",
       " 1,\n",
       " 1,\n",
       " 4,\n",
       " 1,\n",
       " 1,\n",
       " 1,\n",
       " 2,\n",
       " 1,\n",
       " 1,\n",
       " 1,\n",
       " 1,\n",
       " 1,\n",
       " 1,\n",
       " 1,\n",
       " 1,\n",
       " 1,\n",
       " 1,\n",
       " 1,\n",
       " 1,\n",
       " 1,\n",
       " 1,\n",
       " 1,\n",
       " 1,\n",
       " 1,\n",
       " 2,\n",
       " 1,\n",
       " 12,\n",
       " 1,\n",
       " 25,\n",
       " 1,\n",
       " 2,\n",
       " 1,\n",
       " 1,\n",
       " 1,\n",
       " 1,\n",
       " 1,\n",
       " 1,\n",
       " 1,\n",
       " 2,\n",
       " 17,\n",
       " 1,\n",
       " 3,\n",
       " 1,\n",
       " 2,\n",
       " 1,\n",
       " 1,\n",
       " 1,\n",
       " 1,\n",
       " 1,\n",
       " 1,\n",
       " 1,\n",
       " 1,\n",
       " 1,\n",
       " 1,\n",
       " 2,\n",
       " 2,\n",
       " 2,\n",
       " 1,\n",
       " 5,\n",
       " 1,\n",
       " 1,\n",
       " 1,\n",
       " 1,\n",
       " 1,\n",
       " 2,\n",
       " 1,\n",
       " 3,\n",
       " 1,\n",
       " 1,\n",
       " 1,\n",
       " 1,\n",
       " 1,\n",
       " 1,\n",
       " 2,\n",
       " 1,\n",
       " 2,\n",
       " 1,\n",
       " 1,\n",
       " 1,\n",
       " 1,\n",
       " 1,\n",
       " 1,\n",
       " 1,\n",
       " 1,\n",
       " 1,\n",
       " 1,\n",
       " 1,\n",
       " 15,\n",
       " 1,\n",
       " 1,\n",
       " 1,\n",
       " 1,\n",
       " 2,\n",
       " 1,\n",
       " 1,\n",
       " 1,\n",
       " 1,\n",
       " 1,\n",
       " 5,\n",
       " 3,\n",
       " 1,\n",
       " 1,\n",
       " 1,\n",
       " 1,\n",
       " 1,\n",
       " 1,\n",
       " 1,\n",
       " 3,\n",
       " 2,\n",
       " 1,\n",
       " 1,\n",
       " 1,\n",
       " 1,\n",
       " 1,\n",
       " 1,\n",
       " 1,\n",
       " 2,\n",
       " 4,\n",
       " 1,\n",
       " 1,\n",
       " 1,\n",
       " 1,\n",
       " 2,\n",
       " 1,\n",
       " 1,\n",
       " 1,\n",
       " 1,\n",
       " 2,\n",
       " 1,\n",
       " 1,\n",
       " 1,\n",
       " 1,\n",
       " 1,\n",
       " 7,\n",
       " 2,\n",
       " 3,\n",
       " 1,\n",
       " 1,\n",
       " 3,\n",
       " 1,\n",
       " 1,\n",
       " 1,\n",
       " 1,\n",
       " 1,\n",
       " 1,\n",
       " 1,\n",
       " 1,\n",
       " 1,\n",
       " 1,\n",
       " 1,\n",
       " 1,\n",
       " 1,\n",
       " 1,\n",
       " 1,\n",
       " 1,\n",
       " 3]"
      ]
     },
     "execution_count": 7,
     "metadata": {},
     "output_type": "execute_result"
    }
   ],
   "source": [
    "valid_new_len"
   ]
  },
  {
   "cell_type": "code",
   "execution_count": 8,
   "metadata": {},
   "outputs": [],
   "source": [
    "valid_data_len = get_valid_data_len()"
   ]
  },
  {
   "cell_type": "code",
   "execution_count": 10,
   "metadata": {},
   "outputs": [],
   "source": [
    "import numpy as np"
   ]
  },
  {
   "cell_type": "code",
   "execution_count": 9,
   "metadata": {},
   "outputs": [],
   "source": [
    "valid_new_len = [16,6,27,16,18,36,8,14,32,5,5,22,23,20,15,33,6,8,22,27,12,12,10,26,48,20,32,9,14,46,12,7,19,11,19,53,23,18,27,12,18,32,17,15,17,36,18,14,13,11,21,16,11,19,26,10,35,9,22,19,19,23,19,14,20,13,6,12,5,14,9,14,11,19,39,18,19,5,22,9,12,20,29,9,6,58,34,21,18,37,8,18,177,10,11,21,27,26,59,7,19,20,35,16,6,18,7,7,10,14,14,37,15,82,11,11,20,36,7,14,7,9,6,132,5,22,9,12,12,21,18,8,133,18,37,25,5,28,9,6,20,17,34,14,12,10,17,15,6,21,6,9,11,8,11,18,15,15,8,5,21,10,15,18,29,38,10,12,6,5,7,38,15,20,38,15,159,7,12,10,9,17,8,21,20,18,17,20,6,19,8,39,8,6,28,11,20,22,31,10,11,19,28,16,56,13,28,15,13,24,16,107,18,17,20,15,7,22,7,13,12,5,27,28,5,18,5,15,7,19,21,6,32,24,15,7,10,15,22,17,20,5,5,19,11,49,9,11,17,13,17,40,10,13,19,17,10,16,5,21,18,11,20,12,13,38,38,13,31,15,6,19,9,23,19,19,9,23,8,10,28,10,6,16,8,19,5,15,46,16,10,16,10,26,26,20,15,61,6,16,7,24,109,10,8,45,19,13,60,20,43,7,11,106,6,16,17,18,19,17,6,35,12,13,30,9,23,12,12,6,18,19,49,19,12,23,24,14,20,10,13,13,20,18,10,21,19,24,9,19,24,8,5,13,7,5,14,12,19,39,12,19,57,18,10,5,5,36,14,8,19,13,24,84,15,19,13,22,32,20,16,19,28,45,8,45,7,12,11,19,22,23,13,42,8,17,6,19,19,25,18,27,18,32,20,6,13,8,8,16,22,26,15,10,26,9,12,18,23,8,34,10,23,24,38,10,35,29,9,52,11,21,43,21,14,19,9,12,8,13,10,7,32,54,19,46,15,15,14,19,18,11,7,18,20,16,19,7,18,17,14,8,6,5,11,11,19,9,10,18,20,11,7,19,18,39,23,108,5,38,13,10,37,5,8,19,9,19,8,19,35,21,11,10,9,19,19,9,6,5]\n",
    "valid_new_len = np.array(valid_data_len)-np.array(valid_new_len)"
   ]
  },
  {
   "cell_type": "code",
   "execution_count": 11,
   "metadata": {},
   "outputs": [
    {
     "data": {
      "text/plain": [
       "(0.772, 0.9291338582677166, 0.7108433734939759)"
      ]
     },
     "execution_count": 11,
     "metadata": {},
     "output_type": "execute_result"
    }
   ],
   "source": [
    "accuracy_on_valid_data(rdm_model, sent_pooler, rdm_classifier, valid_new_len)"
   ]
  },
  {
   "cell_type": "markdown",
   "metadata": {
    "heading_collapsed": true
   },
   "source": [
    "#### CM模型的开发测试"
   ]
  },
  {
   "cell_type": "code",
   "execution_count": 16,
   "metadata": {
    "hidden": true
   },
   "outputs": [],
   "source": [
    "stage = 0\n",
    "t_rw = 0.9 \n",
    "t_steps = 1000 \n",
    "logger = None \n",
    "cuda=True"
   ]
  },
  {
   "cell_type": "code",
   "execution_count": 22,
   "metadata": {
    "hidden": true
   },
   "outputs": [],
   "source": [
    "with open('ssq.pickle', 'wb') as handle:\n",
    "    pickle.dump(ssq, handle, protocol=pickle.HIGHEST_PROTOCOL)"
   ]
  },
  {
   "cell_type": "code",
   "execution_count": 8,
   "metadata": {
    "hidden": true
   },
   "outputs": [],
   "source": [
    "with open('ssq.pickle', 'rb') as handle:\n",
    "    ssq = pickle.load(handle)"
   ]
  },
  {
   "cell_type": "code",
   "execution_count": 17,
   "metadata": {
    "hidden": true
   },
   "outputs": [],
   "source": [
    "del data\n",
    "del data_len\n",
    "del data_ID\n",
    "del data_y\n",
    "from dataUtilsV0 import data\n",
    "from dataUtilsV0 import data_len\n",
    "from dataUtilsV0 import data_y\n",
    "from dataUtilsV0 import data_ID"
   ]
  },
  {
   "cell_type": "code",
   "execution_count": 18,
   "metadata": {
    "hidden": true
   },
   "outputs": [
    {
     "name": "stdout",
     "output_type": "stream",
     "text": [
      "in RL the begining\n"
     ]
    }
   ],
   "source": [
    "batch_size = 20\n",
    "t_acc = 0.9\n",
    "ids = np.array(range(batch_size), dtype=np.int32)\n",
    "seq_states = np.zeros([batch_size], dtype=np.int32)\n",
    "isStop = torch.zeros([batch_size], dtype=torch.int32)\n",
    "max_id = batch_size\n",
    "df_init_states = torch.zeros([1, batch_size, rdm_model.hidden_dim], dtype=torch.float32).cuda()\n",
    "writer = SummaryWriter(log_dir, filename_suffix=\"_ERD_CM_stage_%3d\"%stage)\n",
    "D = deque()\n",
    "ssq = []\n",
    "print(\"in RL the begining\")\n",
    "rl_optim = torch.optim.Adam([{'params': sent_pooler.parameters(), 'lr': 5e-3},\n",
    "                                {'params': rdm_model.parameters(), 'lr': 5e-3},\n",
    "                             {'params':cm_model.parameters(), 'lr':1e-5}])\n",
    "# get_new_len(sess, mm)\n",
    "data_ID = get_data_ID()\n",
    "\n",
    "if len(data_ID) % batch_size == 0: # the total number of events\n",
    "    flags = int(len(data_ID) / FLAGS.batch_size)\n",
    "else:\n",
    "    flags = int(len(data_ID) / FLAGS.batch_size) + 1\n"
   ]
  },
  {
   "cell_type": "code",
   "execution_count": 20,
   "metadata": {
    "hidden": true
   },
   "outputs": [
    {
     "name": "stdout",
     "output_type": "stream",
     "text": [
      "batch 0\n",
      "batch 1\n",
      "batch 2\n",
      "batch 3\n",
      "batch 4\n",
      "batch 5\n",
      "batch 6\n",
      "batch 7\n",
      "batch 8\n",
      "batch 9\n",
      "batch 10\n",
      "batch 11\n",
      "batch 12\n",
      "batch 13\n",
      "batch 14\n",
      "batch 15\n",
      "batch 16\n",
      "batch 17\n",
      "batch 18\n",
      "batch 19\n",
      "batch 20\n",
      "batch 21\n",
      "batch 22\n",
      "batch 23\n",
      "batch 24\n",
      "batch 25\n",
      "batch 26\n",
      "batch 27\n",
      "batch 28\n",
      "batch 29\n",
      "batch 30\n",
      "batch 31\n",
      "batch 32\n",
      "batch 33\n",
      "batch 34\n",
      "batch 35\n",
      "batch 36\n",
      "batch 37\n",
      "batch 38\n",
      "batch 39\n",
      "batch 40\n",
      "batch 41\n",
      "batch 42\n",
      "batch 43\n",
      "batch 44\n",
      "batch 45\n",
      "batch 46\n",
      "batch 47\n",
      "batch 48\n",
      "batch 49\n",
      "batch 50\n",
      "batch 51\n",
      "batch 52\n",
      "batch 53\n",
      "batch 54\n",
      "batch 55\n",
      "batch 56\n",
      "batch 57\n",
      "batch 58\n",
      "batch 59\n",
      "batch 60\n",
      "batch 61\n",
      "batch 62\n",
      "batch 63\n",
      "batch 64\n",
      "batch 65\n",
      "batch 66\n",
      "batch 67\n",
      "batch 68\n",
      "batch 69\n",
      "batch 70\n",
      "batch 71\n",
      "batch 72\n",
      "batch 73\n",
      "batch 74\n",
      "batch 75\n",
      "batch 76\n",
      "batch 77\n",
      "batch 78\n",
      "batch 79\n",
      "batch 80\n",
      "batch 81\n",
      "batch 82\n",
      "batch 83\n",
      "batch 84\n",
      "batch 85\n",
      "batch 86\n",
      "batch 87\n",
      "batch 88\n",
      "batch 89\n",
      "batch 90\n",
      "batch 91\n",
      "batch 92\n",
      "batch 93\n",
      "batch 94\n",
      "batch 95\n",
      "batch 96\n",
      "batch 97\n",
      "batch 98\n",
      "batch 99\n",
      "batch 100\n",
      "batch 101\n",
      "batch 102\n",
      "batch 103\n",
      "batch 104\n",
      "batch 105\n",
      "batch 106\n",
      "batch 107\n",
      "batch 108\n",
      "batch 109\n",
      "batch 110\n",
      "batch 111\n",
      "batch 112\n",
      "batch 113\n",
      "batch 114\n",
      "batch 115\n",
      "batch 116\n",
      "batch 117\n",
      "batch 118\n",
      "batch 119\n",
      "batch 120\n",
      "batch 121\n",
      "batch 122\n",
      "batch 123\n",
      "batch 124\n",
      "batch 125\n",
      "batch 126\n",
      "batch 127\n",
      "batch 128\n",
      "batch 129\n",
      "batch 130\n",
      "batch 131\n",
      "batch 132\n",
      "batch 133\n",
      "batch 134\n",
      "batch 135\n",
      "batch 136\n",
      "batch 137\n",
      "batch 138\n",
      "batch 139\n",
      "batch 140\n",
      "batch 141\n",
      "batch 142\n",
      "batch 143\n",
      "batch 144\n",
      "batch 145\n",
      "batch 146\n",
      "batch 147\n",
      "batch 148\n",
      "batch 149\n",
      "batch 150\n",
      "batch 151\n",
      "batch 152\n",
      "batch 153\n",
      "batch 154\n",
      "batch 155\n",
      "batch 156\n",
      "batch 157\n",
      "batch 158\n",
      "batch 159\n",
      "batch 160\n",
      "batch 161\n",
      "batch 162\n",
      "batch 163\n",
      "batch 164\n",
      "batch 165\n",
      "batch 166\n",
      "batch 167\n",
      "batch 168\n",
      "batch 169\n",
      "batch 170\n",
      "batch 171\n",
      "batch 172\n",
      "batch 173\n",
      "batch 174\n",
      "batch 175\n",
      "batch 176\n",
      "batch 177\n",
      "batch 178\n",
      "batch 179\n",
      "batch 180\n",
      "batch 181\n",
      "batch 182\n",
      "batch 183\n",
      "batch 184\n",
      "batch 185\n",
      "batch 186\n",
      "batch 187\n",
      "batch 188\n",
      "batch 189\n",
      "batch 190\n",
      "batch 191\n",
      "batch 192\n",
      "batch 193\n",
      "batch 194\n",
      "batch 195\n",
      "batch 196\n",
      "batch 197\n",
      "batch 198\n",
      "batch 199\n",
      "batch 200\n",
      "batch 201\n",
      "batch 202\n",
      "batch 203\n",
      "batch 204\n",
      "batch 205\n"
     ]
    }
   ],
   "source": [
    "for i in range(flags):\n",
    "    with torch.no_grad():\n",
    "        x, x_len, y = get_df_batch(i, batch_size)\n",
    "        seq = sent_pooler(x)\n",
    "        rdm_hiddens = rdm_model(seq)\n",
    "        batchsize, _, _ = rdm_hiddens.shape\n",
    "        print(\"batch %d\"%i)\n",
    "        if len(ssq) > 0:\n",
    "            ssq.extend([rdm_classifier(h) for h in rdm_hiddens])\n",
    "        else:\n",
    "            ssq = [rdm_classifier(h) for h in rdm_hiddens]\n",
    "        torch.cuda.empty_cache()"
   ]
  },
  {
   "cell_type": "code",
   "execution_count": 18,
   "metadata": {
    "hidden": true
   },
   "outputs": [],
   "source": [
    "x, y, ids, seq_states, max_id = get_rl_batch_0(ids, seq_states, isStop, max_id, 0)\n",
    "for j in range(FLAGS.batch_size):\n",
    "    if seq_states[j] == 1:\n",
    "        df_init_states[0][j].fill_(0.0)\n",
    "with torch.no_grad():\n",
    "    word_tensors = torch.tensor(x)\n",
    "    batchsize, max_sent_len, emb_dim = word_tensors.shape\n",
    "    sent_tensor = sent_pooler.linear(word_tensors.reshape([-1, emb_dim]).cuda()).reshape([batchsize, max_sent_len, emb_dim]).max(axis=1)[0].unsqueeze(1)\n",
    "    df_outs, df_last_state = rdm_model.gru_model(sent_tensor, df_init_states)\n",
    "    batchsize, _, hidden_dim = df_outs.shape\n",
    "    stopScore, isStop = cm_model(df_outs.reshape([-1, hidden_dim]))\n",
    "    \n",
    "for j in range(batch_size):\n",
    "    if random.random() < FLAGS.random_rate:\n",
    "        isStop[j] = np.argmax(np.random.rand(2))\n",
    "    if seq_states[j] == data_len[ids[j]]:\n",
    "        isStop[j] = 1\n",
    "rw, Q_val = get_reward_0(isStop, stopScore, ssq, ids, seq_states)\n",
    "for j in range(FLAGS.batch_size):\n",
    "    D.append((df_init_states[0][j], x[j], isStop[j], rw[j]))\n",
    "    if len(D) > FLAGS.max_memory:\n",
    "        D.popleft()\n",
    "df_init_states = df_last_state"
   ]
  },
  {
   "cell_type": "code",
   "execution_count": 16,
   "metadata": {
    "hidden": true
   },
   "outputs": [],
   "source": [
    "s_state, s_x, s_isStop, s_rw = get_RL_Train_batch(D)\n",
    "word_tensors = torch.tensor(s_x)\n",
    "batchsize, max_sent_len, emb_dim = word_tensors.shape\n",
    "sent_tensor = sent_pooler.linear(word_tensors.reshape([-1, emb_dim]).cuda()).reshape([batchsize, max_sent_len, emb_dim]).max(axis=1)[0].unsqueeze(1)\n",
    "df_outs, df_last_state = rdm_model.gru_model(sent_tensor, s_state.unsqueeze(0).cuda())\n",
    "batchsize, _, hidden_dim = df_outs.shape\n",
    "stopScore, isStop = cm_model(df_outs.reshape([-1, hidden_dim]))\n",
    "out_action = (stopScore*s_isStop.cuda()).sum(axis=1)\n",
    "rl_cost = torch.pow(s_rw.cuda() - out_action, 2).mean()"
   ]
  },
  {
   "cell_type": "code",
   "execution_count": null,
   "metadata": {
    "hidden": true
   },
   "outputs": [],
   "source": [
    "if counter > FLAGS.OBSERVE:\n",
    "    sum_rw += np.mean(rw)\n",
    "    if counter % 200 == 0:\n",
    "        sum_rw = sum_rw / 2000\n",
    "        print(get_curtime() + \" Step: \" + str(step) + \" REWARD IS \" + str(sum_rw))\n",
    "        if sum_rw > t_rw:\n",
    "            print(\"Retch The Target Reward\")\n",
    "            break\n",
    "        if counter > t_steps:\n",
    "            print(\"Retch The Target Steps\")\n",
    "            break\n",
    "        sum_rw = 0.0\n",
    "    s_state, s_x, s_isStop, s_rw = get_RL_Train_batch(D)\n",
    "    word_tensors = torch.tensor(s_x)\n",
    "    batchsize, max_sent_len, emb_dim = word_tensors.shape\n",
    "    sent_tensor = sent_pooler.linear(word_tensors.reshape([-1, emb_dim]).cuda()).reshape([batchsize, max_sent_len, emb_dim]).max(axis=1)[0].unsqueeze(1)\n",
    "    df_outs, df_last_state = rdm_model.gru_model(sent_tensor, s_state.unsqueeze(0).cuda())\n",
    "    batchsize, _, hidden_dim = df_outs.shape\n",
    "    stopScore, isStop = cm_model(df_outs.reshape([-1, hidden_dim]))\n",
    "    out_action = (stopScore*s_isStop.cuda()).sum(axis=1)\n",
    "    rl_cost = torch.pow(s_rw.cuda() - out_action, 2).mean()"
   ]
  },
  {
   "cell_type": "markdown",
   "metadata": {},
   "source": [
    "## 模型的测试"
   ]
  },
  {
   "cell_type": "markdown",
   "metadata": {},
   "source": [
    "### 画图的函数"
   ]
  },
  {
   "cell_type": "code",
   "execution_count": 35,
   "metadata": {},
   "outputs": [],
   "source": [
    "import matplotlib.pyplot as plt\n",
    "import seaborn as sns"
   ]
  },
  {
   "cell_type": "code",
   "execution_count": 36,
   "metadata": {},
   "outputs": [],
   "source": [
    "def plot_hist(x_tuples, bins, xlabel, ylabel, legends, title):\n",
    "    colors = [(1, 0, 0), (1, 1, 0), (0, 1, 0,), (0, 0, 1)]\n",
    "    def normfun(x,mu,sigma):\n",
    "        pdf = np.exp(-((x - mu)**2)/(2*sigma**2)) / (sigma * np.sqrt(2*np.pi))\n",
    "        return pdf\n",
    "    plt.xlabel(xlabel)\n",
    "    plt.ylabel(ylabel)\n",
    "    plt.title(title)\n",
    "#     plt.xlim(0, 1)\n",
    "    for i in range(len(x_tuples)):\n",
    "        sns.distplot(x_tuples[i], bins=bins, rug=False, kde=True, hist=True, norm_hist=True, label=legends[i], hist_kws={\"histtype\": \"step\", \"linewidth\": 2,\n",
    "        \"alpha\": 1}, kde_kws={\"color\": colors[0], \"lw\": 0, \"label\": \"\"})"
   ]
  },
  {
   "cell_type": "markdown",
   "metadata": {},
   "source": [
    "### 测试代码"
   ]
  },
  {
   "cell_type": "code",
   "execution_count": 6,
   "metadata": {},
   "outputs": [],
   "source": [
    "del valid_data_ID\n",
    "del valid_data_len\n",
    "del valid_data_y"
   ]
  },
  {
   "cell_type": "code",
   "execution_count": 7,
   "metadata": {},
   "outputs": [],
   "source": [
    "del data"
   ]
  },
  {
   "cell_type": "code",
   "execution_count": 8,
   "metadata": {},
   "outputs": [],
   "source": [
    "from dataUtilsV0 import data"
   ]
  },
  {
   "cell_type": "code",
   "execution_count": 9,
   "metadata": {},
   "outputs": [],
   "source": [
    "from dataUtilsV0 import valid_data_ID\n",
    "from dataUtilsV0 import valid_data_len\n",
    "from dataUtilsV0 import valid_data_y"
   ]
  },
  {
   "cell_type": "code",
   "execution_count": 24,
   "metadata": {},
   "outputs": [],
   "source": [
    "batch_size = 20\n",
    "mts = 0\n",
    "hit_vec = 0\n",
    "miss_vec = 0\n",
    "t_steps = int(len(valid_data_ID)/batch_size)\n",
    "valid_new_len = []\n",
    "for step in range(t_steps):\n",
    "    data_x = []\n",
    "    m_data_y = np.zeros([batch_size, 2], dtype=np.int32)\n",
    "    m_data_len = np.zeros([batch_size], dtype=np.int32)\n",
    "    for i in range(batch_size):\n",
    "        m_data_y[i] = valid_data_y[mts]\n",
    "        m_data_len[i] = valid_data_len[mts]\n",
    "        seq = []\n",
    "        for j in range(valid_data_len[mts]):\n",
    "            sent = wordlist2wordvecs(data[valid_data_ID[mts]]['text'][j])\n",
    "            sent_tensor = torch.tensor(np.stack(sent))\n",
    "            seq.append(sent_tensor)\n",
    "        data_x.append(seq)\n",
    "        mts += 1\n",
    "        if mts >= len(valid_data_ID): # read data looply\n",
    "            mts = mts % len(valid_data_ID)\n",
    "    with torch.no_grad():\n",
    "        seq = sent_pooler(data_x)\n",
    "        rdm_hiddens = rdm_model(seq)\n",
    "        batchsize, _, _ = rdm_hiddens.shape\n",
    "        rdm_outs = torch.cat(\n",
    "            [ rdm_hiddens[i][m_data_len[i]-1] for i in range(batchsize)] \n",
    "            # a list of tensor, where the ndim of tensor is 1 and the shape of tensor is [hidden_size]\n",
    "        ).reshape(\n",
    "            [-1, rdm_model.hidden_dim]\n",
    "        )\n",
    "        stopScores = cm_model.Classifier(\n",
    "                nn.functional.relu(\n",
    "                    cm_model.DenseLayer(\n",
    "                        rdm_hiddens.reshape([-1, rdm_model.hidden_dim])\n",
    "                )\n",
    "            )\n",
    "        ).reshape(\n",
    "            [batchsize, -1, 2]\n",
    "        )\n",
    "        isStop = stopScores.argmax(axis=-1).cpu().numpy()\n",
    "        tmp_len = [iS.argmax()+1 if (iS.max() ==1 and (iS.argmax()+1)<m_data_len[iS_idx]) else m_data_len[iS_idx] for iS_idx, iS in enumerate(isStop)]\n",
    "        for t_idx in range(len(tmp_len)):\n",
    "            try:\n",
    "                assert tmp_len[t_idx] <= m_data_len[t_idx]\n",
    "            except:\n",
    "                print(\"i:\", t_idx)\n",
    "                print(\"new_len:\", tmp_len)\n",
    "                print(\"data_len:\", x_len)\n",
    "                raise\n",
    "    valid_new_len.extend(tmp_len)"
   ]
  },
  {
   "cell_type": "code",
   "execution_count": 20,
   "metadata": {},
   "outputs": [
    {
     "data": {
      "text/plain": [
       "array([[0, 0, 0, 0, 0, 0, 0, 0, 0, 0, 0, 0, 0, 0, 0, 0, 0, 0, 0, 0, 0, 0,\n",
       "        0, 0, 0, 0, 0, 0, 0, 0, 0, 0, 0, 0, 0, 0, 0, 0],\n",
       "       [0, 0, 0, 1, 0, 0, 0, 0, 0, 0, 0, 0, 0, 0, 0, 0, 0, 0, 0, 0, 0, 0,\n",
       "        0, 0, 0, 0, 0, 0, 0, 0, 0, 0, 0, 0, 0, 0, 0, 0],\n",
       "       [0, 0, 0, 0, 0, 0, 0, 0, 0, 0, 0, 0, 0, 1, 0, 0, 0, 0, 0, 0, 0, 0,\n",
       "        0, 0, 0, 1, 0, 0, 0, 1, 1, 0, 0, 1, 0, 1, 0, 0],\n",
       "       [0, 0, 0, 0, 0, 0, 0, 0, 0, 0, 0, 0, 0, 0, 0, 0, 0, 0, 0, 0, 0, 0,\n",
       "        0, 0, 0, 0, 0, 0, 0, 0, 0, 0, 0, 0, 0, 0, 0, 0],\n",
       "       [1, 1, 1, 1, 1, 1, 1, 1, 1, 1, 1, 1, 1, 1, 1, 1, 1, 1, 1, 1, 1, 1,\n",
       "        1, 1, 1, 1, 1, 1, 1, 1, 1, 1, 1, 1, 1, 1, 1, 1],\n",
       "       [1, 1, 1, 1, 1, 0, 1, 1, 1, 1, 1, 1, 1, 1, 1, 0, 1, 1, 1, 1, 1, 1,\n",
       "        1, 1, 1, 1, 1, 1, 1, 1, 1, 1, 1, 1, 1, 1, 1, 1],\n",
       "       [1, 1, 1, 1, 1, 1, 1, 1, 1, 1, 1, 1, 1, 1, 1, 1, 1, 1, 1, 1, 1, 1,\n",
       "        1, 1, 1, 1, 1, 1, 1, 1, 1, 1, 1, 1, 1, 1, 1, 1],\n",
       "       [1, 1, 1, 1, 1, 1, 1, 1, 1, 1, 1, 1, 1, 1, 1, 1, 1, 1, 1, 1, 1, 1,\n",
       "        1, 1, 1, 1, 1, 1, 1, 1, 1, 1, 1, 1, 1, 1, 1, 1],\n",
       "       [0, 0, 0, 0, 0, 0, 0, 0, 0, 0, 0, 0, 0, 0, 0, 0, 0, 0, 0, 0, 0, 0,\n",
       "        0, 0, 0, 0, 0, 0, 0, 0, 0, 0, 0, 0, 0, 0, 0, 0],\n",
       "       [1, 1, 1, 1, 1, 1, 1, 1, 1, 1, 1, 1, 1, 1, 1, 1, 1, 1, 1, 1, 1, 1,\n",
       "        1, 1, 1, 1, 1, 1, 1, 1, 1, 1, 1, 1, 1, 1, 1, 1],\n",
       "       [1, 1, 1, 1, 1, 1, 1, 1, 1, 1, 1, 1, 1, 1, 1, 1, 1, 1, 1, 1, 1, 1,\n",
       "        1, 1, 1, 1, 1, 1, 1, 1, 1, 1, 1, 1, 1, 1, 1, 1],\n",
       "       [1, 1, 1, 1, 1, 1, 1, 1, 1, 1, 1, 1, 1, 1, 1, 1, 1, 1, 1, 1, 1, 1,\n",
       "        1, 1, 1, 1, 1, 1, 1, 1, 1, 1, 1, 1, 1, 1, 1, 1],\n",
       "       [0, 0, 0, 0, 0, 0, 0, 0, 0, 0, 0, 0, 0, 0, 0, 0, 0, 0, 0, 0, 0, 0,\n",
       "        0, 0, 0, 0, 0, 0, 0, 0, 0, 0, 0, 0, 0, 0, 0, 0],\n",
       "       [0, 0, 0, 0, 0, 0, 0, 0, 0, 0, 0, 0, 0, 0, 0, 0, 0, 0, 0, 0, 0, 0,\n",
       "        0, 0, 0, 0, 0, 0, 0, 0, 0, 0, 0, 0, 0, 0, 0, 0],\n",
       "       [1, 1, 1, 1, 1, 1, 1, 1, 1, 1, 1, 1, 1, 1, 1, 1, 1, 1, 1, 1, 1, 1,\n",
       "        1, 1, 1, 1, 1, 1, 1, 1, 1, 1, 1, 1, 1, 1, 1, 1],\n",
       "       [1, 1, 1, 1, 1, 1, 1, 1, 1, 1, 1, 1, 1, 1, 1, 1, 1, 1, 1, 1, 1, 1,\n",
       "        1, 1, 1, 1, 1, 1, 1, 1, 1, 1, 1, 1, 1, 1, 1, 1],\n",
       "       [1, 1, 1, 1, 1, 1, 1, 1, 1, 1, 1, 1, 1, 1, 1, 1, 1, 1, 1, 1, 1, 1,\n",
       "        1, 1, 1, 1, 1, 1, 1, 1, 1, 1, 1, 1, 1, 1, 1, 1],\n",
       "       [0, 0, 0, 0, 0, 0, 0, 0, 0, 0, 0, 0, 0, 0, 0, 0, 0, 0, 0, 0, 0, 0,\n",
       "        0, 0, 0, 0, 0, 0, 0, 0, 0, 0, 0, 0, 0, 0, 0, 0],\n",
       "       [0, 0, 0, 0, 0, 0, 0, 0, 0, 0, 0, 0, 0, 0, 0, 0, 0, 0, 0, 0, 0, 0,\n",
       "        0, 0, 0, 0, 0, 0, 0, 0, 0, 0, 0, 0, 0, 0, 0, 0],\n",
       "       [0, 0, 0, 0, 0, 0, 0, 0, 0, 0, 0, 0, 0, 0, 0, 0, 0, 0, 0, 0, 0, 0,\n",
       "        0, 0, 0, 0, 0, 0, 0, 0, 0, 0, 0, 0, 0, 0, 0, 0]])"
      ]
     },
     "execution_count": 20,
     "metadata": {},
     "output_type": "execute_result"
    }
   ],
   "source": [
    "isStop"
   ]
  },
  {
   "cell_type": "code",
   "execution_count": 26,
   "metadata": {},
   "outputs": [
    {
     "data": {
      "text/plain": [
       "(0.834, 0.8977635782747604, 0.8463855421686747)"
      ]
     },
     "execution_count": 26,
     "metadata": {},
     "output_type": "execute_result"
    }
   ],
   "source": [
    "accuracy_on_valid_data(rdm_model, sent_pooler, rdm_classifier, new_data_len=valid_new_len, cuda=True)"
   ]
  },
  {
   "cell_type": "code",
   "execution_count": 28,
   "metadata": {},
   "outputs": [],
   "source": [
    "valid_new_len2 = valid_new_len"
   ]
  },
  {
   "cell_type": "code",
   "execution_count": 27,
   "metadata": {},
   "outputs": [],
   "source": [
    "valid_new_len1 = [17, 3, 1, 17, 3, 2, 1, 1, 1, 6, 1, 23, 1, 2, 16, 1, 1, 9, 4, 1, 1, 1, 1, 1, 2, 1, 33, 1, 1, 1, 2, 8, 2, 1, 5, 3, 24, 1, 28, 1, 4, 33, 1, 1, 1, 1, 1, 15, 1, 1, 22, 2, 12, 1, 27, 11, 1, 10, 1, 1, 1, 6, 20, 15, 1, 1, 1, 13, 6, 9, 8, 1, 2, 20, 1, 1, 1, 1, 23, 4, 13, 21, 1, 10, 7, 1, 1, 22, 19, 6, 9, 19, 2, 5, 1, 22, 3, 27, 1, 3, 20, 2, 2, 17, 7, 1, 1, 1, 11, 1, 15, 3, 1, 1, 12, 1, 1, 1, 8, 1, 8, 10, 7, 1, 6, 2, 10, 1, 1, 22, 1, 1, 1, 1, 2, 1, 2, 29, 1, 1, 21, 1, 1, 15, 1, 11, 1, 1, 1, 22, 2, 1, 1, 9, 1, 1, 16, 1, 9, 1, 1, 11, 1, 1, 30, 1, 1, 1, 1, 2, 1, 1, 8, 1, 2, 2, 1, 8, 13, 11, 8, 1, 1, 22, 21, 19, 1, 1, 1, 1, 1, 1, 7, 1, 3, 1, 1, 23, 1, 1, 2, 20, 29, 1, 2, 14, 1, 3, 1, 1, 1, 108, 3, 1, 1, 2, 8, 1, 1, 1, 13, 1, 1, 29, 6, 1, 2, 1, 1, 20, 22, 7, 3, 2, 16, 1, 1, 9, 1, 1, 21, 1, 1, 10, 1, 1, 3, 1, 1, 2, 2, 3, 1, 14, 1, 18, 11, 1, 2, 1, 19, 1, 1, 4, 1, 39, 2, 14, 2, 16, 1, 8, 10, 2, 2, 1, 1, 2, 1, 1, 1, 4, 1, 1, 1, 20, 1, 16, 1, 6, 11, 1, 11, 27, 27, 21, 1, 1, 7, 17, 1, 1, 1, 1, 1, 46, 2, 14, 1, 1, 2, 2, 1, 1, 1, 7, 2, 2, 1, 18, 2, 1, 1, 1, 31, 4, 2, 1, 13, 1, 1, 2, 1, 1, 1, 24, 1, 1, 21, 11, 1, 1, 21, 16, 1, 1, 5, 1, 1, 20, 1, 1, 1, 1, 1, 6, 1, 13, 4, 1, 1, 1, 1, 1, 11, 1, 1, 1, 3, 9, 4, 8, 1, 1, 1, 1, 14, 1, 10, 21, 5, 1, 1, 5, 9, 1, 1, 13, 12, 1, 1, 24, 1, 1, 9, 1, 7, 20, 1, 1, 19, 28, 19, 1, 1, 1, 14, 9, 1, 1, 1, 1, 16, 1, 1, 1, 1, 4, 24, 2, 1, 11, 24, 25, 39, 1, 1, 1, 3, 1, 12, 6, 1, 22, 1, 1, 2, 13, 1, 1, 11, 4, 33, 2, 1, 1, 1, 1, 1, 1, 1, 1, 8, 1, 1, 17, 6, 8, 19, 18, 1, 2, 1, 6, 1, 2, 1, 10, 1, 1, 21, 2, 8, 20, 19, 2, 1, 4, 1, 3, 14, 1, 38, 6, 1, 4, 1, 1, 9, 1, 1, 1, 12, 11, 1, 1, 1, 10, 7, 6]"
   ]
  },
  {
   "cell_type": "code",
   "execution_count": 30,
   "metadata": {},
   "outputs": [
    {
     "data": {
      "text/plain": [
       "500"
      ]
     },
     "execution_count": 30,
     "metadata": {},
     "output_type": "execute_result"
    }
   ],
   "source": [
    "len(valid_new_len1)"
   ]
  },
  {
   "cell_type": "code",
   "execution_count": 31,
   "metadata": {},
   "outputs": [],
   "source": [
    "diff = np.array(valid_new_len1) - np.array(valid_new_len2)"
   ]
  },
  {
   "cell_type": "code",
   "execution_count": 32,
   "metadata": {},
   "outputs": [
    {
     "data": {
      "text/plain": [
       "2265"
      ]
     },
     "execution_count": 32,
     "metadata": {},
     "output_type": "execute_result"
    }
   ],
   "source": [
    "diff.sum()"
   ]
  },
  {
   "cell_type": "code",
   "execution_count": 33,
   "metadata": {},
   "outputs": [
    {
     "data": {
      "text/plain": [
       "4.53"
      ]
     },
     "execution_count": 33,
     "metadata": {},
     "output_type": "execute_result"
    }
   ],
   "source": [
    "diff.mean()"
   ]
  },
  {
   "cell_type": "code",
   "execution_count": 38,
   "metadata": {},
   "outputs": [
    {
     "data": {
      "image/png": "[encoded data removed]",
      "text/plain": [
       "<Figure size 432x288 with 1 Axes>"
      ]
     },
     "metadata": {
      "needs_background": "light"
     },
     "output_type": "display_data"
    }
   ],
   "source": [
    "plot_hist([diff.tolist()], 50, \"earlier len\", \"propotion\", \"ERD\", \"How earlier of the ERD to detect\")"
   ]
  },
  {
   "cell_type": "code",
   "execution_count": 34,
   "metadata": {},
   "outputs": [
    {
     "data": {
      "text/plain": [
       "torch.Size([20, 38, 2])"
      ]
     },
     "execution_count": 34,
     "metadata": {},
     "output_type": "execute_result"
    }
   ],
   "source": [
    "stopScores.shape"
   ]
  },
  {
   "cell_type": "code",
   "execution_count": 15,
   "metadata": {},
   "outputs": [
    {
     "data": {
      "text/plain": [
       "[(14, array([0, 0, 0, 0, 0, 0, 0, 0, 0, 0, 0, 0, 0, 0])),\n",
       " (11, array([1, 1, 1, 1, 1, 1, 1, 1, 1, 1, 1])),\n",
       " (38, array([0, 0, 0, 0, 0, 0, 0, 0, 0, 0, 0, 0, 0, 0, 0, 0, 0, 0, 0, 0, 0, 0,\n",
       "         0, 0, 0, 0, 0, 0, 0, 0, 0, 0, 0, 0, 0, 0, 0, 0])),\n",
       " (6, array([0, 0, 0, 0, 0, 0])),\n",
       " (9, array([1, 1, 1, 1, 1, 1, 1, 1, 1])),\n",
       " (20, array([0, 0, 0, 1, 1, 1, 1, 1, 1, 1, 1, 1, 1, 1, 1, 1, 1, 1, 1, 1])),\n",
       " (10, array([1, 1, 1, 1, 1, 1, 1, 1, 1, 1])),\n",
       " (20, array([1, 1, 1, 1, 1, 1, 1, 1, 1, 1, 1, 1, 1, 1, 1, 1, 1, 1, 1, 1])),\n",
       " (9, array([0, 0, 0, 0, 0, 0, 0, 0, 0])),\n",
       " (20, array([1, 1, 1, 1, 1, 1, 1, 1, 1, 1, 1, 1, 1, 1, 1, 1, 1, 1, 1, 1])),\n",
       " (36, array([1, 1, 1, 1, 1, 1, 1, 1, 1, 1, 1, 1, 1, 1, 1, 1, 1, 1, 1, 1, 1, 1,\n",
       "         1, 1, 1, 1, 1, 1, 1, 1, 1, 1, 1, 1, 1, 1])),\n",
       " (22,\n",
       "  array([1, 1, 1, 1, 1, 1, 1, 1, 1, 1, 1, 1, 1, 1, 1, 1, 1, 1, 1, 1, 1, 1])),\n",
       " (12, array([0, 0, 0, 0, 0, 0, 0, 0, 0, 0, 0, 0])),\n",
       " (11, array([0, 0, 0, 0, 0, 0, 0, 0, 0, 0, 0])),\n",
       " (10, array([1, 1, 1, 1, 1, 1, 1, 1, 1, 1])),\n",
       " (20, array([1, 1, 1, 1, 1, 1, 1, 1, 1, 1, 1, 1, 1, 1, 1, 1, 1, 1, 1, 1])),\n",
       " (20, array([1, 1, 1, 1, 1, 1, 1, 1, 1, 1, 1, 1, 1, 1, 1, 1, 1, 1, 1, 1])),\n",
       " (10, array([0, 0, 0, 0, 0, 0, 0, 0, 0, 0])),\n",
       " (7, array([0, 0, 0, 0, 0, 0, 0])),\n",
       " (6, array([0, 0, 0, 0, 0, 0]))]"
      ]
     },
     "execution_count": 15,
     "metadata": {},
     "output_type": "execute_result"
    }
   ],
   "source": [
    "[(m_data_len[i], isStop[i][:m_data_len[i]]) for i in range(20)]"
   ]
  },
  {
   "cell_type": "code",
   "execution_count": 42,
   "metadata": {},
   "outputs": [],
   "source": [
    "stopScores = stopScores.softmax(axis=-1)"
   ]
  },
  {
   "cell_type": "code",
   "execution_count": 45,
   "metadata": {},
   "outputs": [
    {
     "data": {
      "text/plain": [
       "[7.945952347654384e-06,\n",
       " 0.4159657061100006,\n",
       " 0.6594238877296448,\n",
       " 0.1507825404405594,\n",
       " 0.9997825026512146,\n",
       " 0.040207237005233765,\n",
       " 0.06709907948970795,\n",
       " 0.01420875359326601,\n",
       " 0.005813063122332096,\n",
       " 0.002638801233842969,\n",
       " 0.016022630035877228,\n",
       " 0.007936082780361176,\n",
       " 0.011414362117648125,\n",
       " 0.0012879419373348355,\n",
       " 0.00018256284238304943,\n",
       " 0.0016160012455657125,\n",
       " 0.004101844038814306,\n",
       " 0.009587771259248257,\n",
       " 0.0014243461191654205,\n",
       " 0.0006178448093123734,\n",
       " 0.002262902446091175,\n",
       " 0.0005100546986795962,\n",
       " 0.0068747494369745255,\n",
       " 0.0004848391399718821,\n",
       " 0.003096748376265168,\n",
       " 0.0011317392345517874,\n",
       " 0.004696405492722988,\n",
       " 0.005269570276141167,\n",
       " 0.017656641080975533,\n",
       " 0.00031591212609782815,\n",
       " 0.0005314438603818417,\n",
       " 0.0003109482931904495,\n",
       " 0.0004356719146016985,\n",
       " 0.0073549943044781685,\n",
       " 0.010789889842271805,\n",
       " 0.0027212684508413076,\n",
       " 0.0008097231620922685,\n",
       " 0.017696592956781387]"
      ]
     },
     "execution_count": 45,
     "metadata": {},
     "output_type": "execute_result"
    }
   ],
   "source": [
    "stopScores[2, :38, 1].tolist()"
   ]
  },
  {
   "cell_type": "code",
   "execution_count": 43,
   "metadata": {},
   "outputs": [
    {
     "data": {
      "text/plain": [
       "[(14, array([0.95983845, 0.9029102 , 0.99992645, 0.99998224, 1.        ,\n",
       "         0.9316444 , 0.61939275, 0.99982256, 0.8852089 , 0.6623888 ,\n",
       "         0.4934721 , 0.74092966, 0.62789583, 0.13294797], dtype=float32)),\n",
       " (11, array([9.9989986e-01, 1.7673745e-05, 9.2490119e-01, 9.9999809e-01,\n",
       "         9.9994445e-01, 1.4531700e-03, 1.8196205e-06, 2.3836059e-02,\n",
       "         6.3320367e-05, 2.1507431e-06, 1.5454854e-05], dtype=float32)),\n",
       " (38, array([7.9459523e-06, 4.1596571e-01, 6.5942389e-01, 1.5078254e-01,\n",
       "         9.9978250e-01, 4.0207237e-02, 6.7099079e-02, 1.4208754e-02,\n",
       "         5.8130631e-03, 2.6388012e-03, 1.6022630e-02, 7.9360828e-03,\n",
       "         1.1414362e-02, 1.2879419e-03, 1.8256284e-04, 1.6160012e-03,\n",
       "         4.1018440e-03, 9.5877713e-03, 1.4243461e-03, 6.1784481e-04,\n",
       "         2.2629024e-03, 5.1005470e-04, 6.8747494e-03, 4.8483914e-04,\n",
       "         3.0967484e-03, 1.1317392e-03, 4.6964055e-03, 5.2695703e-03,\n",
       "         1.7656641e-02, 3.1591213e-04, 5.3144386e-04, 3.1094829e-04,\n",
       "         4.3567191e-04, 7.3549943e-03, 1.0789890e-02, 2.7212685e-03,\n",
       "         8.0972316e-04, 1.7696593e-02], dtype=float32)),\n",
       " (6, array([0.9999857, 0.9999403, 1.       , 0.9999869, 0.9997805, 0.9998847],\n",
       "        dtype=float32)),\n",
       " (9, array([0.9998622 , 0.9999398 , 0.99998033, 0.99972767, 0.98791295,\n",
       "         0.99655473, 0.9989278 , 0.9998061 , 0.99997103], dtype=float32)),\n",
       " (20, array([9.9979681e-01, 9.9982589e-01, 4.0094242e-10, 9.9999940e-01,\n",
       "         9.9998581e-01, 9.9998021e-01, 9.9999273e-01, 9.9996877e-01,\n",
       "         9.9942148e-01, 9.9999475e-01, 9.9998152e-01, 9.9996650e-01,\n",
       "         9.9999642e-01, 9.9999893e-01, 9.9989188e-01, 9.9999011e-01,\n",
       "         9.9997854e-01, 9.9984717e-01, 9.9886823e-01, 9.9793375e-01],\n",
       "        dtype=float32)),\n",
       " (10, array([0.99992657, 0.99997616, 0.9999697 , 0.9999223 , 0.9998441 ,\n",
       "         0.9999155 , 0.9966239 , 0.9992747 , 0.99370146, 0.99958616],\n",
       "        dtype=float32)),\n",
       " (20, array([0.99981314, 0.9998754 , 0.99996483, 0.999998  , 0.99999964,\n",
       "         0.9999968 , 0.99996376, 0.99997616, 0.99998164, 0.9999577 ,\n",
       "         0.999992  , 0.9999924 , 0.9999994 , 0.9999994 , 0.99999833,\n",
       "         0.9999999 , 0.99999964, 0.99999905, 0.9999999 , 0.99999964],\n",
       "        dtype=float32)),\n",
       " (9, array([0.999948  , 0.9999378 , 0.999982  , 0.99997187, 0.99998844,\n",
       "         0.9999858 , 0.9999732 , 0.9999882 , 0.9999964 ], dtype=float32)),\n",
       " (20, array([0.99942833, 0.9952538 , 0.99995184, 0.9999881 , 0.99999774,\n",
       "         0.9999999 , 0.9999989 , 0.99999774, 0.9999982 , 0.9999999 ,\n",
       "         0.99999666, 0.99999976, 1.        , 0.9999999 , 0.99999976,\n",
       "         0.9999846 , 0.99999666, 0.99999917, 0.9999995 , 1.        ],\n",
       "        dtype=float32)),\n",
       " (36, array([0.9994804 , 0.5011965 , 0.98030305, 0.9992797 , 0.9997427 ,\n",
       "         0.9997414 , 0.9983724 , 0.9999639 , 0.99992   , 0.99992526,\n",
       "         0.9999938 , 0.9999852 , 0.9999951 , 0.9999988 , 0.99999857,\n",
       "         0.9999994 , 0.9999999 , 0.99997723, 0.9999802 , 0.00710152,\n",
       "         0.14365377, 0.94152594, 0.39027327, 0.20588987, 0.38353196,\n",
       "         0.02640354, 0.58345044, 0.97432005, 0.54428035, 0.9995932 ,\n",
       "         0.9920035 , 0.9958378 , 0.9995448 , 0.9993901 , 0.9958663 ,\n",
       "         0.9862633 ], dtype=float32)),\n",
       " (22, array([9.9995840e-01, 9.9999499e-01, 9.9999571e-01, 9.9999917e-01,\n",
       "         9.9999952e-01, 9.9999976e-01, 9.9999189e-01, 9.9979800e-01,\n",
       "         9.9863070e-01, 9.9922657e-01, 9.9999261e-01, 9.9986327e-01,\n",
       "         6.6486729e-04, 6.4198026e-03, 3.7103614e-01, 9.6732950e-01,\n",
       "         9.7255117e-01, 5.5833912e-01, 9.9203628e-01, 9.9940240e-01,\n",
       "         9.8939335e-01, 9.9730504e-01], dtype=float32)),\n",
       " (12, array([0.99725753, 0.99983585, 0.9999819 , 0.9999944 , 0.99997926,\n",
       "         0.9999865 , 0.99997604, 0.999859  , 0.9999088 , 0.99996996,\n",
       "         0.9999795 , 0.999987  ], dtype=float32)),\n",
       " (11, array([0.99971205, 0.99928683, 0.9994748 , 1.        , 1.        ,\n",
       "         0.9999933 , 0.9998802 , 1.        , 0.999997  , 0.9999958 ,\n",
       "         0.99997604], dtype=float32)),\n",
       " (10, array([0.999918  , 0.58469397, 0.01346532, 0.9992173 , 0.9993486 ,\n",
       "         0.9997124 , 0.9998109 , 0.17884122, 0.4565366 , 0.96000355],\n",
       "        dtype=float32)),\n",
       " (20, array([0.99973434, 0.9999485 , 0.9999037 , 0.99999034, 0.9992311 ,\n",
       "         0.9961302 , 0.9892169 , 0.99907327, 0.9996561 , 0.9999949 ,\n",
       "         0.9999819 , 0.9999058 , 0.9803547 , 0.98247844, 0.99913764,\n",
       "         0.9987373 , 0.9999753 , 0.9996062 , 0.99956125, 0.9993285 ],\n",
       "        dtype=float32)),\n",
       " (20, array([0.9987244 , 0.99977607, 0.99999607, 0.9999914 , 0.99997866,\n",
       "         0.99999666, 0.9999927 , 0.9999914 , 0.9999907 , 0.9999305 ,\n",
       "         0.998054  , 0.9976507 , 0.99994266, 0.9997404 , 0.9999578 ,\n",
       "         0.99982846, 0.9999858 , 0.9999548 , 0.9999589 , 0.9999939 ],\n",
       "        dtype=float32)),\n",
       " (10, array([0.99994886, 0.9999993 , 0.9999993 , 0.99999607, 0.9998839 ,\n",
       "         0.9999281 , 0.9999635 , 0.99985063, 0.9999155 , 0.99995935],\n",
       "        dtype=float32)),\n",
       " (7, array([0.999987  , 0.99999976, 0.9999974 , 0.99999416, 0.9999933 ,\n",
       "         0.99999726, 0.9999813 ], dtype=float32)),\n",
       " (6, array([0.01902442, 0.28138846, 0.77693033, 0.9766742 , 0.98787665,\n",
       "         0.98746115], dtype=float32))]"
      ]
     },
     "execution_count": 43,
     "metadata": {},
     "output_type": "execute_result"
    }
   ],
   "source": [
    "[(m_data_len[i], stopScores[i, :m_data_len[i], 1].cpu().numpy()) for i in range(20)]"
   ]
  },
  {
   "cell_type": "code",
   "execution_count": 26,
   "metadata": {},
   "outputs": [
    {
     "data": {
      "image/png": "[encoded data removed]",
      "text/plain": [
       "<Figure size 432x288 with 1 Axes>"
      ]
     },
     "metadata": {
      "needs_background": "light"
     },
     "output_type": "display_data"
    }
   ],
   "source": [
    "plot_hist([valid_new_len], 50, \"seq len\", \"propotion\", [\"ERD\"], \"the distribution of sequence length after ERD\")"
   ]
  },
  {
   "cell_type": "code",
   "execution_count": 28,
   "metadata": {},
   "outputs": [
    {
     "data": {
      "image/png": "[encoded data removed]",
      "text/plain": [
       "<Figure size 432x288 with 1 Axes>"
      ]
     },
     "metadata": {
      "needs_background": "light"
     },
     "output_type": "display_data"
    }
   ],
   "source": [
    "plot_hist([(np.array(valid_new_len))/np.array(valid_data_len).tolist()], 50, \"seq len raio\", \"propotion\", [\"ERD\"], \"the distribution of sequence length ratio after ERD\")"
   ]
  },
  {
   "cell_type": "code",
   "execution_count": null,
   "metadata": {},
   "outputs": [],
   "source": []
  }
 ],
 "metadata": {
  "kernelspec": {
   "display_name": "Python 3",
   "language": "python",
   "name": "python3"
  },
  "language_info": {
   "codemirror_mode": {
    "name": "ipython",
    "version": 3
   },
   "file_extension": ".py",
   "mimetype": "text/x-python",
   "name": "python",
   "nbconvert_exporter": "python",
   "pygments_lexer": "ipython3",
   "version": "3.6.2"
  }
 },
 "nbformat": 4,
 "nbformat_minor": 2
}
