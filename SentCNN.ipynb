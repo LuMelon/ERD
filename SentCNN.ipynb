{
 "cells": [
  {
   "cell_type": "code",
   "execution_count": 1,
   "metadata": {},
   "outputs": [],
   "source": [
    "import tensorflow as tf\n",
    "import sonnet as snt\n",
    "\n",
    "class SentCNN:\n",
    "    def __init_(self, input_dim, hidden_dim, max_sent_len, class_num):\n",
    "        self.input_x = tf.placeholder(tf.float32, [None, max_sent_len, input_dim], name=\"input_x\")\n",
    "        self.input_y = tf.placeholder(tf.float32, [None, class_num], name=\"input_y\")\n",
    "        num_filters = 256\n",
    "        kernel_size = 5\n",
    "        conv_input = tf.layers.conv1d(inputs, num_filters, kernel_size,strides=1, padding='valid',name='conv2')\n",
    "        feature_map = tf.relu(conv_input) # [batchsize, conv_feats, filters]\n",
    "        self.pooled_feat = tf.reduce_max(feature_map, 1)\n",
    "        classifier = snt.Linear() \n",
    "        self.pred_scores = "
   ]
  }
 ],
 "metadata": {
  "kernelspec": {
   "display_name": "Python 3",
   "language": "python",
   "name": "python3"
  },
  "language_info": {
   "codemirror_mode": {
    "name": "ipython",
    "version": 3
   },
   "file_extension": ".py",
   "mimetype": "text/x-python",
   "name": "python",
   "nbconvert_exporter": "python",
   "pygments_lexer": "ipython3",
   "version": "3.7.3"
  }
 },
 "nbformat": 4,
 "nbformat_minor": 2
}
