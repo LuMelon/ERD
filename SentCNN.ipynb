{
 "cells": [
  {
   "cell_type": "code",
   "execution_count": 4,
   "metadata": {},
   "outputs": [],
   "source": [
    "import tensorflow as tf\n",
    "\n",
    "class SentCNN:\n",
    "    def __init_(self, input_dim, hidden_dim, max_sent_len, class_num):\n",
    "        self.input_x = tf.placeholder(tf.float32, [None, max_sent_len, input_dim], name=\"input_x\")\n",
    "        self.input_y = tf.placeholder(tf.float32, [None, class_num], name=\"input_y\")\n",
    "        num_filters = 256\n",
    "        kernel_size = 5\n",
    "        conv_input = tf.layers.conv1d(inputs, num_filters, kernel_size,strides=1, padding='valid',name='conv2')\n",
    "        feature_map = tf.relu(conv_input) # [batchsize, conv_feats, filters]\n",
    "        self.pooled_feat = tf.reduce_max(feature_map, 1)\n",
    "        classifier = tf.layers.Dense(3, activation= tf.nn.relu, trainable=True)\n",
    "        self.pred_scores = classifier(self.pooled_feat)\n",
    "        self.loss = tf.losses.softmax_cross_entropy(\n",
    "    self.input_y,\n",
    "    self.pred_scores,\n",
    "    weights=1.0,\n",
    "    label_smoothing=0,\n",
    "    scope=None,\n",
    "    loss_collection=tf.GraphKeys.LOSSES \n",
    ")"
   ]
  },
  {
   "cell_type": "code",
   "execution_count": 5,
   "metadata": {},
   "outputs": [],
   "source": [
    "ipt_x = tf.placeholder(tf.float32, [None, 10, 5], name=\"input_x\")\n",
    "import numpy as np\n",
    "rm = np.random.rand(3, 10, 5)\n",
    "m = tf.reduce_max(ipt_x, 2)\n",
    "d = tf.layers.Dense(3, activation= tf.nn.relu, trainable=True)\n",
    "sess = tf.Session()"
   ]
  },
  {
   "cell_type": "code",
   "execution_count": 6,
   "metadata": {},
   "outputs": [],
   "source": [
    "with sess.as_default():\n",
    "    tf.global_variables_initializer().run()"
   ]
  },
  {
   "cell_type": "code",
   "execution_count": 7,
   "metadata": {},
   "outputs": [
    {
     "data": {
      "text/plain": [
       "array([[0.80458635, 0.77087307, 0.72253996, 0.65073276, 0.7551314 ,\n",
       "        0.83436346, 0.89131194, 0.6152131 , 0.9187489 , 0.9580402 ],\n",
       "       [0.8392782 , 0.96472466, 0.9425624 , 0.92444646, 0.92648566,\n",
       "        0.7616283 , 0.98676044, 0.99242675, 0.8579236 , 0.929951  ],\n",
       "       [0.90843916, 0.908455  , 0.88483137, 0.94633716, 0.8346903 ,\n",
       "        0.9009754 , 0.69429547, 0.8504787 , 0.6619101 , 0.552041  ]],\n",
       "      dtype=float32)"
      ]
     },
     "execution_count": 7,
     "metadata": {},
     "output_type": "execute_result"
    }
   ],
   "source": [
    "sess.run(m, feed_dict={ipt_x:rm})"
   ]
  },
  {
   "cell_type": "code",
   "execution_count": 8,
   "metadata": {},
   "outputs": [
    {
     "name": "stderr",
     "output_type": "stream",
     "text": [
      "WARNING: Logging before flag parsing goes to stderr.\n",
      "W0731 16:31:33.525002 4601943488 deprecation.py:506] From /Users/lumenglong/anaconda3/envs/TF/lib/python3.7/site-packages/tensorflow/python/ops/init_ops.py:1251: calling VarianceScaling.__init__ (from tensorflow.python.ops.init_ops) with dtype is deprecated and will be removed in a future version.\n",
      "Instructions for updating:\n",
      "Call initializer instance with the dtype argument instead of passing it to the constructor\n"
     ]
    }
   ],
   "source": [
    "dd = d(m)"
   ]
  },
  {
   "cell_type": "code",
   "execution_count": 9,
   "metadata": {},
   "outputs": [],
   "source": [
    "with sess.as_default():\n",
    "    tf.global_variables_initializer().run()"
   ]
  },
  {
   "cell_type": "code",
   "execution_count": 10,
   "metadata": {},
   "outputs": [
    {
     "data": {
      "text/plain": [
       "array([[1.6946235, 0.660918 , 0.       ],\n",
       "       [1.8199023, 0.7351316, 0.       ],\n",
       "       [1.7186108, 0.3424124, 0.       ]], dtype=float32)"
      ]
     },
     "execution_count": 10,
     "metadata": {},
     "output_type": "execute_result"
    }
   ],
   "source": [
    "sess.run(dd, feed_dict={ipt_x:rm})"
   ]
  },
  {
   "cell_type": "code",
   "execution_count": 11,
   "metadata": {},
   "outputs": [
    {
     "data": {
      "text/plain": [
       "array([[0.64962274, 0.23106207, 0.11931515],\n",
       "       [0.6666574 , 0.22531639, 0.10802621],\n",
       "       [0.69839627, 0.17637075, 0.125233  ]], dtype=float32)"
      ]
     },
     "execution_count": 11,
     "metadata": {},
     "output_type": "execute_result"
    }
   ],
   "source": [
    "sess.run(, feed_dict={ipt_x:rm})"
   ]
  },
  {
   "cell_type": "code",
   "execution_count": 20,
   "metadata": {},
   "outputs": [],
   "source": [
    "l = tf.constant([[1,0,0],[0,1,0], [1,0,0]])"
   ]
  },
  {
   "cell_type": "code",
   "execution_count": 30,
   "metadata": {},
   "outputs": [],
   "source": [
    "pred = tf.nn.softmax(dd, axis=1)\n",
    "a_pred = sess.run(pred, feed_dict={ipt_x:rm})"
   ]
  },
  {
   "cell_type": "code",
   "execution_count": 28,
   "metadata": {},
   "outputs": [],
   "source": [
    "from tensorflow.losses import Reduction\n",
    "loss = tf.losses.softmax_cross_entropy(\n",
    "    l,\n",
    "    dd,\n",
    "    weights=1.0,\n",
    "    label_smoothing=0,\n",
    "    scope=None,\n",
    "    loss_collection=tf.GraphKeys.LOSSES \n",
    ")"
   ]
  },
  {
   "cell_type": "code",
   "execution_count": 29,
   "metadata": {},
   "outputs": [
    {
     "data": {
      "text/plain": [
       "0.7601939"
      ]
     },
     "execution_count": 29,
     "metadata": {},
     "output_type": "execute_result"
    }
   ],
   "source": [
    "sess.run(loss, feed_dict={ipt_x:rm})"
   ]
  },
  {
   "cell_type": "code",
   "execution_count": 34,
   "metadata": {},
   "outputs": [
    {
     "name": "stdout",
     "output_type": "stream",
     "text": [
      "[[-0.4313635  -1.4650689  -2.1259868 ]\n",
      " [-0.405479   -1.4902496  -2.2253814 ]\n",
      " [-0.35896862 -1.7351669  -2.0775793 ]]\n"
     ]
    }
   ],
   "source": [
    "a = np.log(a_pred)\n",
    "print(a)"
   ]
  },
  {
   "cell_type": "code",
   "execution_count": 35,
   "metadata": {},
   "outputs": [
    {
     "data": {
      "text/plain": [
       "-2.2805817"
      ]
     },
     "execution_count": 35,
     "metadata": {},
     "output_type": "execute_result"
    }
   ],
   "source": [
    "a[0][0]+a[1][1]+a[2][0]"
   ]
  },
  {
   "cell_type": "code",
   "execution_count": null,
   "metadata": {},
   "outputs": [],
   "source": []
  }
 ],
 "metadata": {
  "kernelspec": {
   "display_name": "Python 3",
   "language": "python",
   "name": "python3"
  },
  "language_info": {
   "codemirror_mode": {
    "name": "ipython",
    "version": 3
   },
   "file_extension": ".py",
   "mimetype": "text/x-python",
   "name": "python",
   "nbconvert_exporter": "python",
   "pygments_lexer": "ipython3",
   "version": "3.7.3"
  }
 },
 "nbformat": 4,
 "nbformat_minor": 2
}
