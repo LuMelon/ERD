{
 "cells": [
  {
   "cell_type": "code",
   "execution_count": 1,
   "metadata": {},
   "outputs": [],
   "source": [
    "#!/usr/bin/env python\n",
    "# coding: utf-8\n",
    "from logger import MyLogger\n",
    "import SubjObjLoader\n",
    "import json\n",
    "from torch import nn\n",
    "import torch\n",
    "from pytorch_transformers import *\n",
    "import importlib\n",
    "from collections import deque\n",
    "# import dataloader\n",
    "from BertRDMLoader import *\n",
    "import json\n",
    "from torch import nn\n",
    "import torch\n",
    "from pytorch_transformers import *\n",
    "import importlib\n",
    "from tensorboardX import SummaryWriter\n",
    "import torch.nn.utils.rnn as rnn_utils\n",
    "\n",
    "class pooling_layer(nn.Module):\n",
    "    def __init__(self, input_dim, output_dim):\n",
    "        super(pooling_layer, self).__init__()\n",
    "        self.linear = nn.Linear(input_dim, output_dim)\n",
    "        self.input_dim = input_dim\n",
    "        self.output_dim = output_dim\n",
    "        \n",
    "    def forward(self, inputs):\n",
    "        assert(inputs.ndim == 4 ) # [batchsize, max_seq_len, max_word_num, input_dim] \n",
    "        batch_size, max_seq_len, max_word_num, input_dim = inputs.shape\n",
    "        assert(input_dim == self.input_dim)\n",
    "        t_inputs = inputs.reshape([-1, self.input_dim])\n",
    "        return self.linear(t_inputs).reshape(\n",
    "            \n",
    "            [-1, max_word_num, self.output_dim]\n",
    "        \n",
    "        ).max(axis=1)[0].reshape(\n",
    "        \n",
    "            [-1, max_seq_len, self.output_dim]\n",
    "        \n",
    "        )\n",
    "\n",
    "class RDM_Model(nn.Module):\n",
    "    def __init__(self, word_embedding_dim, sent_embedding_dim, hidden_dim, dropout_prob):\n",
    "        super(RDM_Model, self).__init__()\n",
    "        self.embedding_dim = sent_embedding_dim\n",
    "        self.hidden_dim = hidden_dim\n",
    "        self.gru_model = nn.GRU(self.embedding_dim, \n",
    "                                self.hidden_dim, \n",
    "                                batch_first=True, \n",
    "                                dropout=dropout_prob\n",
    "                            )\n",
    "        self.DropLayer = nn.Dropout(dropout_prob)\n",
    "        self.PoolLayer = pooling_layer(word_embedding_dim, sent_embedding_dim) \n",
    "        \n",
    "    def forward(self, sentiModel, x_emb, x_len, init_states): \n",
    "        \"\"\"\n",
    "        input_x: [batchsize, max_seq_len, sentence_embedding_dim] \n",
    "        x_emb: [batchsize, max_seq_len, max_word_num, embedding_dim]\n",
    "        x_len: [batchsize]\n",
    "        init_states: [batchsize, hidden_dim]\n",
    "        \"\"\"\n",
    "        batchsize, max_seq_len, max_sent_len, emb_dim = x_emb.shape\n",
    "#         pool_feature = self.PoolLayer(x_emb)\n",
    "#         sent_feature = sentiModel( \n",
    "#                 x_emb.reshape(\n",
    "#                     [-1, max_sent_len, emb_dim]\n",
    "#                 ) \n",
    "#             ).reshape(\n",
    "#                 [batchsize, max_seq_len, -1]\n",
    "#             )\n",
    "#         pooled_input_x_dp = self.DropLayer(input_x)\n",
    "        df_outputs, df_last_state = self.gru_model(pool_feature, init_states)\n",
    "        hidden_outs = [df_outputs[i][:x_len[i]] for i in range(batchsize)]\n",
    "        final_outs = [df_outputs[i][x_len[i]-1] for i in range(batchsize)]\n",
    "        return hidden_outs, final_outs\n",
    "\n",
    "\n",
    "class CM_Model(nn.Module):\n",
    "    def __init__(self, sentence_embedding_dim, hidden_dim, action_num):\n",
    "        super(CM_Model, self).__init__()\n",
    "        self.sentence_embedding_dim = sentence_embedding_dim\n",
    "        self.hidden_dim = hidden_dim\n",
    "        self.action_num = action_num\n",
    "#         self.PoolLayer = pooling_layer(self.embedding_dim, \n",
    "#                                             self.hidden_dim)\n",
    "        self.DenseLayer = nn.Linear(self.hidden_dim, 64)\n",
    "        self.Classifier = nn.Linear(64, self.action_num)\n",
    "        \n",
    "    def forward(self, rdm_model, s_model, rl_input, rl_state):\n",
    "        \"\"\"\n",
    "        rl_input: [batchsize, max_word_num, sentence_embedding_dim]\n",
    "        rl_state: [1, batchsize, hidden_dim]\n",
    "        \"\"\"\n",
    "        assert(rl_input.ndim==3)\n",
    "        batchsize, max_word_num, embedding_dim = rl_input.shape\n",
    "#         assert(embedding_dim==self.embedding_dim)\n",
    "        sentence = s_model(rl_input).reshape(batch_size, 1, self.sentence_embedding_dim)\n",
    "#         pooled_rl_input = self.PoolLayer(\n",
    "#             rl_input.reshape(\n",
    "#                 [-1, 1, max_word_num, self.embedding_dim]\n",
    "#             )\n",
    "#         ).reshape([-1, 1, self.hidden_dim])\n",
    "        \n",
    "#         print(\"sentence:\", sentence.shape)\n",
    "#         print(\"rl_state:\", rl_state.shape)\n",
    "        rl_output, rl_new_state = rdm_model.gru_model(\n",
    "                                            sentence, \n",
    "                                            rl_state\n",
    "                                        )\n",
    "        rl_h1 = nn.functional.relu(\n",
    "            self.DenseLayer(\n",
    "#                 rl_state.reshape([len(rl_input), self.hidden_dim]) #it is not sure to take rl_state , rather than rl_output, as the feature\n",
    "                rl_output.reshape(\n",
    "                    [len(rl_input), self.hidden_dim]\n",
    "                )\n",
    "            )\n",
    "        )\n",
    "        stopScore = self.Classifier(rl_h1)\n",
    "        isStop = stopScore.argmax(axis=1)\n",
    "        return stopScore, isStop, rl_new_state\n",
    "\n",
    "class SentimentModel(nn.Module):\n",
    "    \"\"\"\n",
    "        Input: the outputs of bert\n",
    "        Model: BiLSTM\n",
    "        Output: sentence embedding\n",
    "    \"\"\"\n",
    "    def __init__(   self,\n",
    "                    hidden_size,\n",
    "                    rnn_size, \n",
    "                    drop_out\n",
    "                ):\n",
    "        super(SentimentModel, self).__init__()\n",
    "        self.gru = nn.GRU(hidden_size, rnn_size, 1, batch_first=True)\n",
    "        \n",
    "    def forward(self, seq_input):\n",
    "        h_outs, h_final = self.gru(seq_input)\n",
    "        cls_feature = h_final[0] + h_outs.max(axis=1)[0]\n",
    "        return cls_feature\n"
   ]
  },
  {
   "cell_type": "code",
   "execution_count": 2,
   "metadata": {},
   "outputs": [],
   "source": [
    "def Count_Accs(ylabel, preds):\n",
    "    correct_preds = np.array(\n",
    "        [1 if y1==y2 else 0 \n",
    "        for (y1, y2) in zip(ylabel, preds)]\n",
    "    )\n",
    "    y_idxs = [idx if yl >0 else idx - len(ylabel) \n",
    "            for (idx, yl) in enumerate(ylabel)]\n",
    "    pos_idxs = list(filter(lambda x: x >= 0, y_idxs))\n",
    "    neg_idxs = list(filter(lambda x: x < 0, y_idxs))\n",
    "    acc = sum(correct_preds) / (1.0 * len(ylabel))\n",
    "    if len(pos_idxs) > 0:\n",
    "        pos_acc = sum(correct_preds[pos_idxs])/(1.0*len(pos_idxs))\n",
    "    else:\n",
    "        pos_acc = 0\n",
    "    if len(neg_idxs) > 0:\n",
    "        neg_acc = sum(correct_preds[neg_idxs])/(1.0*len(neg_idxs))\n",
    "    else:\n",
    "        neg_acc = 0\n",
    "    return acc, pos_acc, neg_acc, y_idxs, pos_idxs, neg_idxs, correct_preds\n",
    "\n",
    "def Loss_Fn(ylabel, pred_scores):\n",
    "    diff = ((ylabel - pred_scores)*(ylabel - pred_scores)).mean(axis=1)\n",
    "#     pos_neg = (1.0*sum(ylabel.argmax(axis=1)))/(1.0*(len(ylabel) - sum(ylabel.argmax(axis=1))))\n",
    "    pos_neg = 0\n",
    "    if pos_neg > 0:\n",
    "        print(\"unbalanced data\")\n",
    "        weight = torch.ones(len(ylabel)).cuda() + (ylabel.argmax(axis=1).to(torch.float32)/(1.0*pos_neg)) - ylabel.argmax(axis=1).to(torch.float32)\n",
    "        return (weight *diff).mean()\n",
    "    else:\n",
    "        print(\"totally unbalanced data\")\n",
    "        return diff.mean()"
   ]
  },
  {
   "cell_type": "code",
   "execution_count": 3,
   "metadata": {},
   "outputs": [],
   "source": [
    "def TrainSentiModel(bert, senti_model, classifier, \n",
    "                    train_reader, valid_reader, test_reader, \n",
    "                    logger, logdir):\n",
    "    max_epoch = 10\n",
    "    loss_fn = Loss_Fn\n",
    "    senti_model.cuda()\n",
    "    optim = torch.optim.Adagrad([\n",
    "#                                 {'params': senti_model.bert.parameters(), 'lr':1e-2},\n",
    "            {'params': classifier.parameters(), 'lr': 1e-1},\n",
    "            {'params': senti_model.parameters(), 'lr': 1e-1}\n",
    "         ],\n",
    "            weight_decay = 0.2\n",
    "        \n",
    "    )\n",
    "    writer = SummaryWriter(logdir)\n",
    "    batches = train_reader.label.shape[0]\n",
    "    step = 0\n",
    "    for epoch in range(max_epoch):\n",
    "        sum_acc = 0.0\n",
    "        sum_loss = 0.0\n",
    "        for x, y, l in  train_reader.iter():\n",
    "            embedding = layer2seq(bert, x, cuda=True)\n",
    "            feature = senti_model(embedding)\n",
    "            pred_scores = classifier(feature)\n",
    "            ylabel = y.argmax(axis=1)\n",
    "            acc, pos_acc, neg_acc, _, _, _, _ = \\\n",
    "                        Count_Accs(ylabel, pred_scores.argmax(axis=1))\n",
    "            print(\"step %d| pos_acc/neg_acc = %6.8f/%6.7f, \\\n",
    "                pos_pred/all_pred = %2d/%2d\"%(\n",
    "                            step, pos_acc, neg_acc,\n",
    "                            sum(pred_scores.argmax(axis=1)),\n",
    "                            len(pred_scores)\n",
    "                                ))\n",
    "            loss = loss_fn(pred_scores, torch.tensor(y, dtype=torch.float32).cuda())\n",
    "            optim.zero_grad()\n",
    "            loss.backward()\n",
    "            optim.step()\n",
    "            writer.add_scalar('Train Loss', loss, step)\n",
    "            writer.add_scalar('Train Accuracy', acc, step)\n",
    "            \n",
    "            sum_acc += acc\n",
    "            sum_loss += loss\n",
    "            step += 1\n",
    "            \n",
    "            if step % 10 == 0:\n",
    "                sum_loss = sum_loss / 10\n",
    "                sum_acc = sum_acc / 10\n",
    "                ret_acc = sum_acc\n",
    "                print('%6d: %d [%5d/%5d], train_loss/accuracy = %6.8f/%6.7f' % (step,\n",
    "                                                        epoch, step%batches,\n",
    "                                                        batches,\n",
    "                                                        sum_loss, sum_acc,\n",
    "                                                        ))\n",
    "                logger.info('%6d: %d [%5d/%5d], train_loss/accuracy = %6.8f/%6.7f' % (step,\n",
    "                                                            epoch, step%batches,\n",
    "                                                            batches,\n",
    "                                                            sum_loss, sum_acc,\n",
    "                                                        ))\n",
    "                sum_acc = 0.0\n",
    "                sum_loss = 0.0\n",
    "                \n",
    "        sum_loss = 0\n",
    "        sum_acc = 0\n",
    "        with torch.no_grad():\n",
    "            for x, y, l in  valid_reader.iter():\n",
    "                embedding = layer2seq(bert, x, cuda=True)\n",
    "                feature = senti_model(embedding)\n",
    "                pred_scores = classifier(feature)\n",
    "                loss = loss_fn(pred_scores, torch.tensor(y, dtype=torch.float32).cuda())\n",
    "                acc, _, _, _, _, _, _ = \\\n",
    "                            Count_Accs(y.argmax(axis=1), pred_scores.argmax(axis=1))\n",
    "                sum_acc += acc\n",
    "                sum_loss += loss\n",
    "            sum_acc = sum_acc/(1.0*valid_reader.label.shape[0])\n",
    "            sum_loss = sum_loss/(1.0*valid_reader.label.shape[0])\n",
    "        print('[%5d/%5d], valid_loss/accuracy = %6.8f/%6.7f' % (epoch, max_epoch,\n",
    "                                                    sum_loss, sum_acc,\n",
    "                                                    ))\n",
    "        logger.info('[%5d/%5d], valid_loss/accuracy = %6.8f/%6.7f' % (epoch, max_epoch,\n",
    "                                                                sum_loss, sum_acc,\n",
    "                                                                ))\n",
    "        writer.add_scalar('Valid Loss', sum_loss, epoch)\n",
    "        writer.add_scalar('Valid Accuracy', sum_acc, epoch)\n",
    "        senti_save_as = '/home/hadoop/ERD/%s/sentiModel_epoch%03d.pkl' % (logdir, epoch)\n",
    "        torch.save(\n",
    "            {\n",
    "                'sentiModel':senti_model.state_dict() ,\n",
    "                'sentiClassifier':classifier.state_dict(),\n",
    "                'bert': bert.state_dict()\n",
    "            },\n",
    "            senti_save_as\n",
    "        )\n",
    "        sum_acc = 0.0\n",
    "        sum_loss = 0.0\n"
   ]
  },
  {
   "cell_type": "code",
   "execution_count": 4,
   "metadata": {},
   "outputs": [],
   "source": [
    "def TrainRDMModel(rdm_model, bert, sentiModel, rdm_classifier, \n",
    "                    tokenizer, t_steps, new_data_len=[], logger=None, \n",
    "                        log_dir=\"RDMBertTrain\"):\n",
    "    batch_size = 20 \n",
    "    max_gpu_batch = 5 #cannot load a larger batch into the limited memory, but we could  accumulates grads\n",
    "    assert(batch_size%max_gpu_batch == 0)\n",
    "    sum_loss = 0.0\n",
    "    sum_acc = 0.0\n",
    "    t_acc = 0.9\n",
    "    ret_acc = 0.0\n",
    "    init_states = torch.zeros([1, 5, rdm_model.hidden_dim], dtype=torch.float32).cuda()\n",
    "    loss_fn = nn.CrossEntropyLoss()\n",
    "#     loss_fn = Loss_Fn\n",
    "    optim = torch.optim.Adagrad([\n",
    "#                                 {'params': bert.parameters(), 'lr':1e-3},\n",
    "                                {'params': rdm_classifier.parameters(), 'lr': 5e-1},\n",
    "                                {'params': rdm_model.parameters(), 'lr': 5e-1}\n",
    "#                                 {'params': sentiModel.parameters(), 'lr': 1e-2}\n",
    "                             ]\n",
    "#                                 weight_decay = 0.2\n",
    "    )\n",
    "    writer = SummaryWriter(log_dir)\n",
    "    for step in range(t_steps):\n",
    "        optim.zero_grad()\n",
    "        for j in range(int(batch_size/max_gpu_batch)):\n",
    "            if len(new_data_len) > 0:\n",
    "                x, x_len, y = get_df_batch(step, max_gpu_batch, new_data_len, tokenizer=tokenizer)\n",
    "            else:\n",
    "                x, x_len, y = get_df_batch(step, max_gpu_batch, tokenizer=tokenizer)\n",
    "            with torch.no_grad():\n",
    "                x_emb = Word_ids2SeqStates(x, bert, 3, cuda=True) \n",
    "            batchsize, max_seq_len, max_sent_len,\\\n",
    "                                     emb_dim = x_emb.shape\n",
    "            rdm_hiddens, rdm_outs = rdm_model(sentiModel, x_emb, x_len, init_states)\n",
    "            rdm_scores = rdm_classifier(\n",
    "                torch.cat(\n",
    "                    rdm_outs # a list of tensor, where the ndim of tensor is 1 and the shape of tensor is [hidden_size]\n",
    "                ).reshape(\n",
    "                    [-1, rdm_model.hidden_dim]\n",
    "                )\n",
    "            )\n",
    "            rdm_preds = rdm_scores.argmax(axis=1)\n",
    "            y_label = y.argmax(axis=1)\n",
    "            loss = loss_fn(rdm_scores, torch.tensor(y_label).cuda())\n",
    "            loss.backward()\n",
    "        optim.step()\n",
    "        acc, pos_acc, neg_acc, y_idxs, pos_idxs, \\\n",
    "        neg_idxs, correct_preds = Count_Accs(y_label, rdm_preds)\n",
    "        print(\"step %d| pos_acc/pos_cnt = %3.3f/%3d,\\\n",
    "                neg_acc/neg_cnt = %3.3f/%3d \\\n",
    "                pos_pred/all_pred = %2d/%2d\"%(\n",
    "                step, pos_acc, len(pos_idxs),\n",
    "                neg_acc, len(neg_idxs), \n",
    "                sum(rdm_scores.argmax(axis=1)),\n",
    "                len(rdm_scores)\n",
    "                )\n",
    "        )\n",
    "#             logger.info(\"correct_preds:%d|%s \\n \\\n",
    "#                          pos_idxs:%d|%s \\n \\\n",
    "#                          neg_idxs:%d|%s \\\n",
    "#                          \"%(\n",
    "#                             4*step+j, str(correct_preds.tolist()), \n",
    "#                             4*step+j, str(pos_idxs),\n",
    "#                             4*step+j, str(neg_idxs)\n",
    "#                            )\n",
    "#                        )\n",
    "        writer.add_scalar('Train Loss', loss, step)\n",
    "        writer.add_scalar('Train Accuracy', acc, step)\n",
    "\n",
    "        sum_loss += loss\n",
    "        sum_acc += acc\n",
    "        \n",
    "\n",
    "        if step % 10 == 9:\n",
    "            sum_loss = sum_loss / 10\n",
    "            sum_acc = sum_acc / 10\n",
    "            print('%3d | %d , train_loss/accuracy = %6.8f/%6.7f'\\\n",
    "             % (step, t_steps, \n",
    "                sum_loss, sum_acc,\n",
    "                ))\n",
    "            logger.info('%3d | %d , train_loss/accuracy = %6.8f/%6.7f'\\\n",
    "             % (step, t_steps, \n",
    "                sum_loss, sum_acc,\n",
    "                ))\n",
    "            if step%500 == 499:\n",
    "                rdm_save_as = '/home/hadoop/ERD/%s/rdmModel_epoch%03d.pkl'\\\n",
    "                                    % (log_dir, step/500, sum_acc)\n",
    "                torch.save(\n",
    "                    {\n",
    "                        \"bert\":bert.state_dict(),\n",
    "                        \"sentiModel\":sentiModel.state_dict(),\n",
    "                        \"rmdModel\":rdm_model.state_dict(),\n",
    "                        \"rdm_classifier\": rdm_classifierdm.state_dict()\n",
    "                    },\n",
    "                    rdm_save_as\n",
    "                )\n",
    "#                 rdm_model, bert, sentiModel, rdm_classifier\n",
    "            if sum_acc > t_acc:\n",
    "                break\n",
    "            sum_acc = 0.0\n",
    "            sum_loss = 0.0\n",
    "\n",
    "    print(get_curtime() + \" Train df Model End.\")\n",
    "    logger.info(get_curtime() + \" Train df Model End.\")\n",
    "    return ret_acc"
   ]
  },
  {
   "cell_type": "code",
   "execution_count": 5,
   "metadata": {},
   "outputs": [],
   "source": [
    "def TrainCMModel(bert, sentiModel, rdm_model, rdm_classifier, cm_model, tokenizer, log_dir, logger, FLAGS):\n",
    "    batch_size = 20\n",
    "    t_acc = 0.9\n",
    "    ids = np.array(range(batch_size), dtype=np.int32)\n",
    "    seq_states = np.zeros([batch_size], dtype=np.int32)\n",
    "    isStop = np.zeros([batch_size], dtype=np.int32)\n",
    "    max_id = batch_size\n",
    "    df_init_states = torch.zeros([1, batch_size, FLAGS.hidden_dim], dtype=torch.float32).cuda()\n",
    "    state = df_init_states\n",
    "    D = deque()\n",
    "    ssq = []\n",
    "    print(\"in RL the begining\")\n",
    "    rdm_optim = torch.optim.Adagrad([\n",
    "                            {'params': bert.parameters(), 'lr':1e-3},\n",
    "    #                                 {'params': rdm_classifier.parameters(), 'lr': 5e-2},\n",
    "                            {'params': rdm_model.parameters(), 'lr': 5e-2},\n",
    "                            {'params': sentiModel.parameters(), 'lr': 1e-2}\n",
    "                         ],\n",
    "                            weight_decay = 0.2\n",
    "    )\n",
    "    rl_optim = torch.optim.Adam([{'params':cm_model.parameters(), 'lr':1e-3}])\n",
    "    # get_new_len(sess, mm)\n",
    "    data_ID = get_data_ID()\n",
    "\n",
    "    if len(data_ID) % batch_size == 0: # the total number of events\n",
    "        flags = int(len(data_ID) / FLAGS.batch_size)\n",
    "    else:\n",
    "        flags = int(len(data_ID) / FLAGS.batch_size) + 1\n",
    "    for i in range(flags):\n",
    "        with torch.no_grad():\n",
    "            x, x_len, y = get_df_batch(i, batch_size, tokenizer=tokenizer)\n",
    "            x_emb = Word_ids2SeqStates(x, bert, 3, cuda=True) \n",
    "            batchsize, max_seq_len, max_sent_len,\\\n",
    "                                     emb_dim = x_emb.shape\n",
    "            sent_feature = sentiModel( \n",
    "                x_emb.reshape(\n",
    "                    [-1, max_sent_len, emb_dim]\n",
    "                ) \n",
    "            ).reshape(\n",
    "                [batchsize, max_seq_len, -1]\n",
    "            )\n",
    "            rdm_hiddens, rdm_outs = rdm_model(sent_feature, x_len, df_init_states)\n",
    "        #         t_ssq = sess.run(rdm_train.out_seq, feed_dic)# t_ssq = [batchsize, max_seq, scores]\n",
    "            print(\"batch %d\"%i)\n",
    "            if len(ssq) > 0:\n",
    "                ssq.extend([rdm_classifier(h) for h in rdm_hiddens])\n",
    "            else:\n",
    "                ssq = [rdm_classifier(h) for h in rdm_hiddens]\n",
    "\n",
    "    print(get_curtime() + \" Now Start RL training ...\")\n",
    "    counter = 0\n",
    "    sum_rw = 0.0 # sum of rewards\n",
    "\n",
    "    data_len = get_data_len()\n",
    "\n",
    "    import BertRDMLoader\n",
    "\n",
    "    del get_rl_batch\n",
    "    del get_reward\n",
    "\n",
    "    importlib.reload(BertRDMLoader)\n",
    "    load_data_fast()\n",
    "    get_reward = BertRDMLoader.get_reward\n",
    "    get_rl_batch = BertRDMLoader.get_rl_batch\n",
    "\n",
    "    while True:\n",
    "        if counter > FLAGS.OBSERVE:\n",
    "            sum_rw += np.mean(rw)\n",
    "            if counter % 200 == 0:\n",
    "                sum_rw = sum_rw / 2000\n",
    "                print( get_curtime() + \" Step: \" + str(step) \n",
    "                       + \" REWARD IS \" + str(sum_rw) \n",
    "                     )\n",
    "                logger.info( get_curtime() + \n",
    "                             \" Step: \" + str(step) + \n",
    "                            \" REWARD IS \" + str(sum_rw)\n",
    "                           )\n",
    "                if sum_rw > t_rw:\n",
    "                    print(\"Retch The Target Reward\")\n",
    "                    logger.info(\"Retch The Target Reward\")\n",
    "                    break\n",
    "                if counter > t_steps:\n",
    "                    print(\"Retch The Target Steps\")\n",
    "                    logger.info(\"Retch The Target Steps\")\n",
    "                    break\n",
    "                sum_rw = 0.0\n",
    "            s_state, s_x, s_isStop, s_rw = get_RL_Train_batch(D, FLAGS)\n",
    "            stopScore, isStop, rl_new_state = cm_model(rdm_model, sentiModel, s_x, s_state)\n",
    "            out_action = (stopScore*s_isStop).sum(axis=1)\n",
    "            rl_cost = torch.mean((s_rw - out_action)*(s_rw - out_action))\n",
    "            rl_cost.backward()\n",
    "            rl_optim.step()\n",
    "\n",
    "        input_x, input_y, ids, seq_states, max_id = get_rl_batch(ids, seq_states, isStop, max_id, 0, FLAGS, tokenizer=tokenizer)\n",
    "        with torch.no_grad():\n",
    "            x_emb = layer2seq(bert, input_x, cuda=True)\n",
    "            batchsize, max_sent_len, emb_dim = x_emb.shape\n",
    "            mss, isStop, mNewState = cm_model(rdm_model, sentiModel, x_emb, state)\n",
    "\n",
    "        for j in range(FLAGS.batch_size):\n",
    "            if random.random() < FLAGS.random_rate:\n",
    "    #             isStop[j] = np.argmax(np.random.rand(2))\n",
    "                isStop[j] = int(torch.rand(2).argmax())\n",
    "            if seq_states[j] == data_len[ids[j]]:\n",
    "                isStop[j] = 1\n",
    "\n",
    "        # eval\n",
    "        rw = get_reward(isStop, mss, ssq, ids, seq_states)\n",
    "\n",
    "        for j in range(FLAGS.batch_size):\n",
    "            D.append((state[0][j], input_x[j], isStop[j], rw[j]))\n",
    "            if len(D) > FLAGS.max_memory:\n",
    "                D.popleft()\n",
    "\n",
    "        state = mNewState\n",
    "        for j in range(FLAGS.batch_size):\n",
    "            if isStop[j] == 1:\n",
    "                # init_states = np.zeros([FLAGS.batch_size, FLAGS.hidden_dim], dtype=np.float32)\n",
    "                # feed_dic = {rl_model.init_states: init_states}\n",
    "                # state[j] = sess.run(rl_model.df_state, feed_dic)\n",
    "    #             state[j] = np.zeros([FLAGS.hidden_dim], dtype=np.float32)\n",
    "                state[0][j].fill_(0)\n",
    "        counter += 1"
   ]
  },
  {
   "cell_type": "code",
   "execution_count": 6,
   "metadata": {},
   "outputs": [],
   "source": [
    "b, t, c = BertModel,       BertTokenizer,      'bert-base-uncased'\n",
    "tt = t.from_pretrained(\"bert-base-uncased\", cached_dir = \"/home/hadoop/transformer_pretrained_models/bert-base-uncased-pytorch_model.bin\")"
   ]
  },
  {
   "cell_type": "code",
   "execution_count": 7,
   "metadata": {},
   "outputs": [],
   "source": [
    "bb = b.from_pretrained(\"bert-base-uncased\")"
   ]
  },
  {
   "cell_type": "code",
   "execution_count": 8,
   "metadata": {},
   "outputs": [],
   "source": [
    "s_model = SentimentModel(\n",
    "                    768,\n",
    "                    300, \n",
    "                    0.2\n",
    "                )"
   ]
  },
  {
   "cell_type": "code",
   "execution_count": 9,
   "metadata": {},
   "outputs": [],
   "source": [
    "with open(\"config.json\", \"r\") as cr:\n",
    "    dic = json.load(cr)\n",
    "\n",
    "class adict(dict):\n",
    "    ''' Attribute dictionary - a convenience data structure, similar to SimpleNamespace in python 3.3\n",
    "        One can use attributes to read/write dictionary content.\n",
    "    '''\n",
    "    def __init__(self, *av, **kav):\n",
    "        dict.__init__(self, *av, **kav)\n",
    "        self.__dict__ = self\n",
    "\n",
    "FLAGS = adict(dic)"
   ]
  },
  {
   "cell_type": "code",
   "execution_count": 10,
   "metadata": {},
   "outputs": [],
   "source": [
    "bert = bb.cuda()\n",
    "sentiModel = s_model.cuda()\n",
    "tokenizer = tt"
   ]
  },
  {
   "cell_type": "code",
   "execution_count": 11,
   "metadata": {},
   "outputs": [],
   "source": [
    "sentiClassifier = nn.Linear(300, 2).cuda()"
   ]
  },
  {
   "cell_type": "markdown",
   "metadata": {},
   "source": [
    "[   20/   20], test_loss/accuracy = 0.08379094/0.8850000"
   ]
  },
  {
   "cell_type": "markdown",
   "metadata": {},
   "source": [
    "[   20/   20], valid_loss/accuracy = 0.07104027/0.9040000"
   ]
  },
  {
   "cell_type": "code",
   "execution_count": 12,
   "metadata": {},
   "outputs": [],
   "source": [
    "subj_file = \"/home/hadoop/rotten_imdb/subj.data\"\n",
    "obj_file = \"/home/hadoop/rotten_imdb/obj.data\"\n",
    "tr, dev, te = SubjObjLoader.load_data(subj_file, obj_file)"
   ]
  },
  {
   "cell_type": "code",
   "execution_count": 9,
   "metadata": {},
   "outputs": [],
   "source": [
    "train_reader = SubjObjLoader.SubjObjReader(tr, 20, tokenizer)\n",
    "valid_reader = SubjObjLoader.SubjObjReader(dev, 20, tokenizer)\n",
    "test_reader =  SubjObjLoader.SubjObjReader(te, 20, tokenizer)"
   ]
  },
  {
   "cell_type": "code",
   "execution_count": 10,
   "metadata": {},
   "outputs": [],
   "source": [
    "sentiLogger = MyLogger(\"SubjObjTrainer\")"
   ]
  },
  {
   "cell_type": "code",
   "execution_count": 11,
   "metadata": {
    "collapsed": true
   },
   "outputs": [
    {
     "name": "stdout",
     "output_type": "stream",
     "text": [
      "step 0| pos_acc/neg_acc = 1.00000000/0.0000000,                 pos_pred/all_pred = 20/20\n",
      "step 1| pos_acc/neg_acc = 0.00000000/1.0000000,                 pos_pred/all_pred =  0/20\n",
      "step 2| pos_acc/neg_acc = 0.00000000/1.0000000,                 pos_pred/all_pred =  0/20\n",
      "step 3| pos_acc/neg_acc = 1.00000000/0.0000000,                 pos_pred/all_pred = 20/20\n",
      "step 4| pos_acc/neg_acc = 1.00000000/0.3333333,                 pos_pred/all_pred = 15/20\n",
      "step 5| pos_acc/neg_acc = 0.11111111/0.9000000,                 pos_pred/all_pred =  2/20\n",
      "step 6| pos_acc/neg_acc = 0.00000000/0.9090909,                 pos_pred/all_pred =  2/20\n",
      "step 7| pos_acc/neg_acc = 0.08333333/0.7500000,                 pos_pred/all_pred =  3/20\n",
      "step 8| pos_acc/neg_acc = 0.87500000/0.0833333,                 pos_pred/all_pred = 18/20\n",
      "step 9| pos_acc/neg_acc = 0.11111111/0.4545455,                 pos_pred/all_pred =  7/20\n"
     ]
    },
    {
     "name": "stderr",
     "output_type": "stream",
     "text": [
      "INFO:SubjObjTrainer:    10: 0 [   10/  425], train_loss/accuracy = 102.42531586/0.4900000\n"
     ]
    },
    {
     "name": "stdout",
     "output_type": "stream",
     "text": [
      "    10: 0 [   10/  425], train_loss/accuracy = 102.42531586/0.4900000\n",
      "step 10| pos_acc/neg_acc = 0.40000000/0.4444444,                 pos_pred/all_pred = 10/20\n",
      "step 11| pos_acc/neg_acc = 0.90909091/0.4444444,                 pos_pred/all_pred = 15/20\n",
      "step 12| pos_acc/neg_acc = 0.88888889/0.3636364,                 pos_pred/all_pred = 15/20\n",
      "step 13| pos_acc/neg_acc = 0.16666667/0.7142857,                 pos_pred/all_pred =  5/20\n",
      "step 14| pos_acc/neg_acc = 0.16666667/0.9285714,                 pos_pred/all_pred =  2/20\n",
      "step 15| pos_acc/neg_acc = 0.10000000/0.9000000,                 pos_pred/all_pred =  2/20\n",
      "step 16| pos_acc/neg_acc = 1.00000000/0.3333333,                 pos_pred/all_pred = 15/20\n",
      "step 17| pos_acc/neg_acc = 0.11111111/1.0000000,                 pos_pred/all_pred =  1/20\n",
      "step 18| pos_acc/neg_acc = 0.28571429/0.7500000,                 pos_pred/all_pred =  6/20\n",
      "step 19| pos_acc/neg_acc = 0.40000000/0.7000000,                 pos_pred/all_pred =  7/20\n"
     ]
    },
    {
     "name": "stderr",
     "output_type": "stream",
     "text": [
      "INFO:SubjObjTrainer:    20: 0 [   20/  425], train_loss/accuracy = 0.70872527/0.5750000\n"
     ]
    },
    {
     "name": "stdout",
     "output_type": "stream",
     "text": [
      "    20: 0 [   20/  425], train_loss/accuracy = 0.70872527/0.5750000\n",
      "step 20| pos_acc/neg_acc = 0.75000000/0.5000000,                 pos_pred/all_pred = 12/20\n",
      "step 21| pos_acc/neg_acc = 0.41666667/0.5714286,                 pos_pred/all_pred =  9/20\n",
      "step 22| pos_acc/neg_acc = 0.72727273/0.6250000,                 pos_pred/all_pred = 12/20\n",
      "step 23| pos_acc/neg_acc = 0.83333333/0.1428571,                 pos_pred/all_pred = 17/20\n",
      "step 24| pos_acc/neg_acc = 0.22222222/0.8000000,                 pos_pred/all_pred =  4/20\n",
      "step 25| pos_acc/neg_acc = 0.80000000/0.5714286,                 pos_pred/all_pred = 11/20\n",
      "step 26| pos_acc/neg_acc = 0.10000000/0.8888889,                 pos_pred/all_pred =  2/20\n",
      "step 27| pos_acc/neg_acc = 0.88888889/0.5454545,                 pos_pred/all_pred = 13/20\n",
      "step 28| pos_acc/neg_acc = 0.55555556/0.7000000,                 pos_pred/all_pred =  8/20\n",
      "step 29| pos_acc/neg_acc = 0.66666667/0.4285714,                 pos_pred/all_pred = 12/20\n"
     ]
    },
    {
     "name": "stderr",
     "output_type": "stream",
     "text": [
      "INFO:SubjObjTrainer:    30: 0 [   30/  425], train_loss/accuracy = 0.58001763/0.5600000\n"
     ]
    },
    {
     "name": "stdout",
     "output_type": "stream",
     "text": [
      "    30: 0 [   30/  425], train_loss/accuracy = 0.58001763/0.5600000\n",
      "step 30| pos_acc/neg_acc = 0.83333333/0.4615385,                 pos_pred/all_pred = 13/20\n",
      "step 31| pos_acc/neg_acc = 0.07692308/0.8333333,                 pos_pred/all_pred =  2/20\n",
      "step 32| pos_acc/neg_acc = 0.87500000/0.2727273,                 pos_pred/all_pred = 16/20\n",
      "step 33| pos_acc/neg_acc = 0.33333333/0.4000000,                 pos_pred/all_pred =  9/20\n",
      "step 34| pos_acc/neg_acc = 0.66666667/0.4545455,                 pos_pred/all_pred = 12/20\n",
      "step 35| pos_acc/neg_acc = 0.62500000/0.5833333,                 pos_pred/all_pred = 10/20\n",
      "step 36| pos_acc/neg_acc = 0.41666667/0.8571429,                 pos_pred/all_pred =  6/20\n",
      "step 37| pos_acc/neg_acc = 1.00000000/0.1428571,                 pos_pred/all_pred = 18/20\n",
      "step 38| pos_acc/neg_acc = 0.00000000/1.0000000,                 pos_pred/all_pred =  0/20\n",
      "step 39| pos_acc/neg_acc = 1.00000000/0.0000000,                 pos_pred/all_pred = 20/20\n"
     ]
    },
    {
     "name": "stderr",
     "output_type": "stream",
     "text": [
      "INFO:SubjObjTrainer:    40: 0 [   40/  425], train_loss/accuracy = 0.63391662/0.4850000\n"
     ]
    },
    {
     "name": "stdout",
     "output_type": "stream",
     "text": [
      "    40: 0 [   40/  425], train_loss/accuracy = 0.63391662/0.4850000\n",
      "step 40| pos_acc/neg_acc = 0.50000000/0.5384615,                 pos_pred/all_pred =  9/20\n",
      "step 41| pos_acc/neg_acc = 0.08333333/1.0000000,                 pos_pred/all_pred =  1/20\n",
      "step 42| pos_acc/neg_acc = 1.00000000/0.0000000,                 pos_pred/all_pred = 20/20\n",
      "step 43| pos_acc/neg_acc = 0.00000000/1.0000000,                 pos_pred/all_pred =  0/20\n",
      "step 44| pos_acc/neg_acc = 0.91666667/0.0000000,                 pos_pred/all_pred = 19/20\n",
      "step 45| pos_acc/neg_acc = 0.90000000/0.0000000,                 pos_pred/all_pred = 19/20\n",
      "step 46| pos_acc/neg_acc = 0.50000000/0.7500000,                 pos_pred/all_pred =  7/20\n",
      "step 47| pos_acc/neg_acc = 0.00000000/1.0000000,                 pos_pred/all_pred =  0/20\n",
      "step 48| pos_acc/neg_acc = 1.00000000/0.0000000,                 pos_pred/all_pred = 20/20\n",
      "step 49| pos_acc/neg_acc = 0.00000000/1.0000000,                 pos_pred/all_pred =  0/20\n"
     ]
    },
    {
     "name": "stderr",
     "output_type": "stream",
     "text": [
      "INFO:SubjObjTrainer:    50: 0 [   50/  425], train_loss/accuracy = 0.42601106/0.5000000\n"
     ]
    },
    {
     "name": "stdout",
     "output_type": "stream",
     "text": [
      "    50: 0 [   50/  425], train_loss/accuracy = 0.42601106/0.5000000\n",
      "step 50| pos_acc/neg_acc = 1.00000000/0.0000000,                 pos_pred/all_pred = 20/20\n",
      "step 51| pos_acc/neg_acc = 1.00000000/0.0000000,                 pos_pred/all_pred = 20/20\n",
      "step 52| pos_acc/neg_acc = 0.00000000/1.0000000,                 pos_pred/all_pred =  0/20\n",
      "step 53| pos_acc/neg_acc = 1.00000000/0.0000000,                 pos_pred/all_pred = 20/20\n",
      "step 54| pos_acc/neg_acc = 0.00000000/1.0000000,                 pos_pred/all_pred =  0/20\n",
      "step 55| pos_acc/neg_acc = 0.27272727/0.7500000,                 pos_pred/all_pred =  5/20\n",
      "step 56| pos_acc/neg_acc = 1.00000000/0.0000000,                 pos_pred/all_pred = 20/20\n",
      "step 57| pos_acc/neg_acc = 0.11111111/1.0000000,                 pos_pred/all_pred =  1/20\n",
      "step 58| pos_acc/neg_acc = 0.50000000/0.7142857,                 pos_pred/all_pred =  8/20\n",
      "step 59| pos_acc/neg_acc = 1.00000000/0.0000000,                 pos_pred/all_pred = 20/20\n"
     ]
    },
    {
     "name": "stderr",
     "output_type": "stream",
     "text": [
      "INFO:SubjObjTrainer:    60: 0 [   60/  425], train_loss/accuracy = 0.35816821/0.5200000\n"
     ]
    },
    {
     "name": "stdout",
     "output_type": "stream",
     "text": [
      "    60: 0 [   60/  425], train_loss/accuracy = 0.35816821/0.5200000\n",
      "step 60| pos_acc/neg_acc = 0.30000000/1.0000000,                 pos_pred/all_pred =  3/20\n",
      "step 61| pos_acc/neg_acc = 1.00000000/0.1250000,                 pos_pred/all_pred = 19/20\n",
      "step 62| pos_acc/neg_acc = 0.50000000/0.6363636,                 pos_pred/all_pred =  9/20\n",
      "step 63| pos_acc/neg_acc = 0.12500000/0.8333333,                 pos_pred/all_pred =  3/20\n",
      "step 64| pos_acc/neg_acc = 0.27272727/0.8750000,                 pos_pred/all_pred =  5/20\n",
      "step 65| pos_acc/neg_acc = 1.00000000/0.0000000,                 pos_pred/all_pred = 20/20\n",
      "step 66| pos_acc/neg_acc = 0.46153846/0.8333333,                 pos_pred/all_pred =  8/20\n",
      "step 67| pos_acc/neg_acc = 1.00000000/0.0000000,                 pos_pred/all_pred = 20/20\n",
      "step 68| pos_acc/neg_acc = 0.33333333/0.8750000,                 pos_pred/all_pred =  5/20\n",
      "step 69| pos_acc/neg_acc = 1.00000000/0.0000000,                 pos_pred/all_pred = 20/20\n"
     ]
    },
    {
     "name": "stderr",
     "output_type": "stream",
     "text": [
      "INFO:SubjObjTrainer:    70: 0 [   70/  425], train_loss/accuracy = 0.32800221/0.5900000\n"
     ]
    },
    {
     "name": "stdout",
     "output_type": "stream",
     "text": [
      "    70: 0 [   70/  425], train_loss/accuracy = 0.32800221/0.5900000\n",
      "step 70| pos_acc/neg_acc = 0.88888889/0.1000000,                 pos_pred/all_pred = 18/20\n",
      "step 71| pos_acc/neg_acc = 0.54545455/0.7500000,                 pos_pred/all_pred =  9/20\n",
      "step 72| pos_acc/neg_acc = 1.00000000/0.2000000,                 pos_pred/all_pred = 18/20\n",
      "step 73| pos_acc/neg_acc = 0.44444444/0.7272727,                 pos_pred/all_pred =  7/20\n",
      "step 74| pos_acc/neg_acc = 0.66666667/1.0000000,                 pos_pred/all_pred =  5/20\n",
      "step 75| pos_acc/neg_acc = 0.42857143/0.8333333,                 pos_pred/all_pred =  5/20\n",
      "step 76| pos_acc/neg_acc = 0.75000000/0.8181818,                 pos_pred/all_pred =  9/20\n",
      "step 77| pos_acc/neg_acc = 0.55555556/0.9090909,                 pos_pred/all_pred =  6/20\n",
      "step 78| pos_acc/neg_acc = 0.55555556/0.9000000,                 pos_pred/all_pred =  6/20\n",
      "step 79| pos_acc/neg_acc = 0.75000000/0.5000000,                 pos_pred/all_pred = 12/20\n"
     ]
    },
    {
     "name": "stderr",
     "output_type": "stream",
     "text": [
      "INFO:SubjObjTrainer:    80: 0 [   80/  425], train_loss/accuracy = 0.26007992/0.6750000\n"
     ]
    },
    {
     "name": "stdout",
     "output_type": "stream",
     "text": [
      "    80: 0 [   80/  425], train_loss/accuracy = 0.26007992/0.6750000\n",
      "step 80| pos_acc/neg_acc = 0.10000000/1.0000000,                 pos_pred/all_pred =  1/20\n",
      "step 81| pos_acc/neg_acc = 1.00000000/0.1000000,                 pos_pred/all_pred = 19/20\n",
      "step 82| pos_acc/neg_acc = 0.20000000/0.9000000,                 pos_pred/all_pred =  3/20\n",
      "step 83| pos_acc/neg_acc = 0.88888889/0.5000000,                 pos_pred/all_pred = 14/20\n",
      "step 84| pos_acc/neg_acc = 0.44444444/1.0000000,                 pos_pred/all_pred =  5/20\n",
      "step 85| pos_acc/neg_acc = 0.55555556/0.7272727,                 pos_pred/all_pred =  8/20\n",
      "step 86| pos_acc/neg_acc = 0.37500000/1.0000000,                 pos_pred/all_pred =  4/20\n",
      "step 87| pos_acc/neg_acc = 0.33333333/0.6363636,                 pos_pred/all_pred =  7/20\n",
      "step 88| pos_acc/neg_acc = 0.58333333/0.8571429,                 pos_pred/all_pred =  8/20\n",
      "step 89| pos_acc/neg_acc = 0.91666667/0.0000000,                 pos_pred/all_pred = 19/20\n"
     ]
    },
    {
     "name": "stderr",
     "output_type": "stream",
     "text": [
      "INFO:SubjObjTrainer:    90: 0 [   90/  425], train_loss/accuracy = 0.29142830/0.6200000\n"
     ]
    },
    {
     "name": "stdout",
     "output_type": "stream",
     "text": [
      "    90: 0 [   90/  425], train_loss/accuracy = 0.29142830/0.6200000\n",
      "step 90| pos_acc/neg_acc = 0.88888889/0.1818182,                 pos_pred/all_pred = 17/20\n",
      "step 91| pos_acc/neg_acc = 0.00000000/1.0000000,                 pos_pred/all_pred =  0/20\n",
      "step 92| pos_acc/neg_acc = 0.90909091/0.2500000,                 pos_pred/all_pred = 17/20\n",
      "step 93| pos_acc/neg_acc = 0.84615385/0.5714286,                 pos_pred/all_pred = 14/20\n",
      "step 94| pos_acc/neg_acc = 0.45454545/0.7777778,                 pos_pred/all_pred =  7/20\n",
      "step 95| pos_acc/neg_acc = 0.90909091/0.6250000,                 pos_pred/all_pred = 14/20\n",
      "step 96| pos_acc/neg_acc = 0.66666667/0.4285714,                 pos_pred/all_pred = 13/20\n",
      "step 97| pos_acc/neg_acc = 0.80000000/0.3000000,                 pos_pred/all_pred = 15/20\n",
      "step 98| pos_acc/neg_acc = 0.25000000/1.0000000,                 pos_pred/all_pred =  3/20\n",
      "step 99| pos_acc/neg_acc = 1.00000000/0.0000000,                 pos_pred/all_pred = 20/20\n"
     ]
    },
    {
     "name": "stderr",
     "output_type": "stream",
     "text": [
      "INFO:SubjObjTrainer:   100: 0 [  100/  425], train_loss/accuracy = 0.28720114/0.5950000\n"
     ]
    },
    {
     "name": "stdout",
     "output_type": "stream",
     "text": [
      "   100: 0 [  100/  425], train_loss/accuracy = 0.28720114/0.5950000\n",
      "step 100| pos_acc/neg_acc = 0.11111111/1.0000000,                 pos_pred/all_pred =  1/20\n",
      "step 101| pos_acc/neg_acc = 0.76923077/0.4285714,                 pos_pred/all_pred = 14/20\n",
      "step 102| pos_acc/neg_acc = 1.00000000/0.1666667,                 pos_pred/all_pred = 18/20\n",
      "step 103| pos_acc/neg_acc = 0.00000000/1.0000000,                 pos_pred/all_pred =  0/20\n",
      "step 104| pos_acc/neg_acc = 1.00000000/0.0000000,                 pos_pred/all_pred = 20/20\n",
      "step 105| pos_acc/neg_acc = 0.61538462/0.8571429,                 pos_pred/all_pred =  9/20\n",
      "step 106| pos_acc/neg_acc = 1.00000000/0.0000000,                 pos_pred/all_pred = 20/20\n",
      "step 107| pos_acc/neg_acc = 0.00000000/1.0000000,                 pos_pred/all_pred =  0/20\n",
      "step 108| pos_acc/neg_acc = 1.00000000/0.4166667,                 pos_pred/all_pred = 15/20\n",
      "step 109| pos_acc/neg_acc = 0.00000000/1.0000000,                 pos_pred/all_pred =  0/20\n"
     ]
    },
    {
     "name": "stderr",
     "output_type": "stream",
     "text": [
      "INFO:SubjObjTrainer:   110: 0 [  110/  425], train_loss/accuracy = 0.28653449/0.5700000\n"
     ]
    },
    {
     "name": "stdout",
     "output_type": "stream",
     "text": [
      "   110: 0 [  110/  425], train_loss/accuracy = 0.28653449/0.5700000\n",
      "step 110| pos_acc/neg_acc = 1.00000000/0.1538462,                 pos_pred/all_pred = 18/20\n",
      "step 111| pos_acc/neg_acc = 0.00000000/1.0000000,                 pos_pred/all_pred =  0/20\n",
      "step 112| pos_acc/neg_acc = 0.45454545/0.6666667,                 pos_pred/all_pred =  8/20\n",
      "step 113| pos_acc/neg_acc = 0.87500000/0.4545455,                 pos_pred/all_pred = 14/20\n",
      "step 114| pos_acc/neg_acc = 0.28571429/1.0000000,                 pos_pred/all_pred =  2/20\n",
      "step 115| pos_acc/neg_acc = 0.50000000/0.7272727,                 pos_pred/all_pred =  8/20\n",
      "step 116| pos_acc/neg_acc = 0.70000000/0.8888889,                 pos_pred/all_pred =  8/20\n",
      "step 117| pos_acc/neg_acc = 0.75000000/0.8571429,                 pos_pred/all_pred = 11/20\n",
      "step 118| pos_acc/neg_acc = 1.00000000/0.0000000,                 pos_pred/all_pred = 20/20\n",
      "step 119| pos_acc/neg_acc = 1.00000000/0.0000000,                 pos_pred/all_pred = 20/20\n"
     ]
    },
    {
     "name": "stderr",
     "output_type": "stream",
     "text": [
      "INFO:SubjObjTrainer:   120: 0 [  120/  425], train_loss/accuracy = 0.25936756/0.6450000\n"
     ]
    },
    {
     "name": "stdout",
     "output_type": "stream",
     "text": [
      "   120: 0 [  120/  425], train_loss/accuracy = 0.25936756/0.6450000\n",
      "step 120| pos_acc/neg_acc = 0.50000000/0.9166667,                 pos_pred/all_pred =  5/20\n",
      "step 121| pos_acc/neg_acc = 0.42857143/0.7692308,                 pos_pred/all_pred =  6/20\n",
      "step 122| pos_acc/neg_acc = 0.36363636/0.8750000,                 pos_pred/all_pred =  6/20\n",
      "step 123| pos_acc/neg_acc = 0.90000000/0.5555556,                 pos_pred/all_pred = 13/20\n",
      "step 124| pos_acc/neg_acc = 0.91666667/0.4285714,                 pos_pred/all_pred = 16/20\n",
      "step 125| pos_acc/neg_acc = 0.50000000/0.6666667,                 pos_pred/all_pred =  8/20\n",
      "step 126| pos_acc/neg_acc = 0.22222222/1.0000000,                 pos_pred/all_pred =  2/20\n",
      "step 127| pos_acc/neg_acc = 0.75000000/0.2857143,                 pos_pred/all_pred = 15/20\n",
      "step 128| pos_acc/neg_acc = 0.83333333/0.2307692,                 pos_pred/all_pred = 16/20\n",
      "step 129| pos_acc/neg_acc = 0.00000000/1.0000000,                 pos_pred/all_pred =  0/20\n"
     ]
    },
    {
     "name": "stderr",
     "output_type": "stream",
     "text": [
      "INFO:SubjObjTrainer:   130: 0 [  130/  425], train_loss/accuracy = 0.26741096/0.6350000\n"
     ]
    },
    {
     "name": "stdout",
     "output_type": "stream",
     "text": [
      "   130: 0 [  130/  425], train_loss/accuracy = 0.26741096/0.6350000\n",
      "step 130| pos_acc/neg_acc = 0.83333333/0.6153846,                 pos_pred/all_pred = 11/20\n",
      "step 131| pos_acc/neg_acc = 0.16666667/0.9230769,                 pos_pred/all_pred =  2/20\n",
      "step 132| pos_acc/neg_acc = 0.50000000/0.7272727,                 pos_pred/all_pred =  7/20\n",
      "step 133| pos_acc/neg_acc = 0.50000000/0.9000000,                 pos_pred/all_pred =  6/20\n",
      "step 134| pos_acc/neg_acc = 1.00000000/0.5000000,                 pos_pred/all_pred = 15/20\n",
      "step 135| pos_acc/neg_acc = 0.30000000/0.6666667,                 pos_pred/all_pred =  6/20\n",
      "step 136| pos_acc/neg_acc = 1.00000000/0.5000000,                 pos_pred/all_pred = 16/20\n",
      "step 137| pos_acc/neg_acc = 0.07692308/0.8333333,                 pos_pred/all_pred =  2/20\n",
      "step 138| pos_acc/neg_acc = 1.00000000/0.0000000,                 pos_pred/all_pred = 20/20\n",
      "step 139| pos_acc/neg_acc = 0.12500000/1.0000000,                 pos_pred/all_pred =  1/20\n"
     ]
    },
    {
     "name": "stderr",
     "output_type": "stream",
     "text": [
      "INFO:SubjObjTrainer:   140: 0 [  140/  425], train_loss/accuracy = 0.32504711/0.6000000\n"
     ]
    },
    {
     "name": "stdout",
     "output_type": "stream",
     "text": [
      "   140: 0 [  140/  425], train_loss/accuracy = 0.32504711/0.6000000\n",
      "step 140| pos_acc/neg_acc = 1.00000000/0.0909091,                 pos_pred/all_pred = 19/20\n",
      "step 141| pos_acc/neg_acc = 0.44444444/1.0000000,                 pos_pred/all_pred =  4/20\n",
      "step 142| pos_acc/neg_acc = 1.00000000/0.5000000,                 pos_pred/all_pred = 13/20\n",
      "step 143| pos_acc/neg_acc = 0.23076923/1.0000000,                 pos_pred/all_pred =  3/20\n",
      "step 144| pos_acc/neg_acc = 1.00000000/0.0000000,                 pos_pred/all_pred = 20/20\n",
      "step 145| pos_acc/neg_acc = 0.00000000/1.0000000,                 pos_pred/all_pred =  0/20\n",
      "step 146| pos_acc/neg_acc = 1.00000000/0.0000000,                 pos_pred/all_pred = 20/20\n",
      "step 147| pos_acc/neg_acc = 0.83333333/0.9230769,                 pos_pred/all_pred =  7/20\n",
      "step 148| pos_acc/neg_acc = 0.15384615/1.0000000,                 pos_pred/all_pred =  2/20\n",
      "step 149| pos_acc/neg_acc = 1.00000000/0.0000000,                 pos_pred/all_pred = 20/20\n"
     ]
    },
    {
     "name": "stderr",
     "output_type": "stream",
     "text": [
      "INFO:SubjObjTrainer:   150: 0 [  150/  425], train_loss/accuracy = 0.34448969/0.5800000\n"
     ]
    },
    {
     "name": "stdout",
     "output_type": "stream",
     "text": [
      "   150: 0 [  150/  425], train_loss/accuracy = 0.34448969/0.5800000\n",
      "step 150| pos_acc/neg_acc = 0.53846154/1.0000000,                 pos_pred/all_pred =  7/20\n",
      "step 151| pos_acc/neg_acc = 1.00000000/0.0000000,                 pos_pred/all_pred = 20/20\n",
      "step 152| pos_acc/neg_acc = 0.00000000/1.0000000,                 pos_pred/all_pred =  0/20\n",
      "step 153| pos_acc/neg_acc = 1.00000000/0.0000000,                 pos_pred/all_pred = 20/20\n",
      "step 154| pos_acc/neg_acc = 0.62500000/0.8333333,                 pos_pred/all_pred =  7/20\n",
      "step 155| pos_acc/neg_acc = 0.41666667/0.8750000,                 pos_pred/all_pred =  6/20\n",
      "step 156| pos_acc/neg_acc = 1.00000000/0.0000000,                 pos_pred/all_pred = 20/20\n",
      "step 157| pos_acc/neg_acc = 0.30769231/0.8571429,                 pos_pred/all_pred =  5/20\n",
      "step 158| pos_acc/neg_acc = 1.00000000/0.1000000,                 pos_pred/all_pred = 19/20\n",
      "step 159| pos_acc/neg_acc = 0.44444444/0.9000000,                 pos_pred/all_pred =  6/20\n"
     ]
    },
    {
     "name": "stderr",
     "output_type": "stream",
     "text": [
      "INFO:SubjObjTrainer:   160: 0 [  160/  425], train_loss/accuracy = 0.29276642/0.5850000\n"
     ]
    },
    {
     "name": "stdout",
     "output_type": "stream",
     "text": [
      "   160: 0 [  160/  425], train_loss/accuracy = 0.29276642/0.5850000\n",
      "step 160| pos_acc/neg_acc = 0.60000000/0.7142857,                 pos_pred/all_pred =  8/20\n",
      "step 161| pos_acc/neg_acc = 0.16666667/1.0000000,                 pos_pred/all_pred =  2/20\n",
      "step 162| pos_acc/neg_acc = 1.00000000/0.0000000,                 pos_pred/all_pred = 20/20\n",
      "step 163| pos_acc/neg_acc = 0.45454545/0.8888889,                 pos_pred/all_pred =  6/20\n",
      "step 164| pos_acc/neg_acc = 1.00000000/0.1250000,                 pos_pred/all_pred = 19/20\n",
      "step 165| pos_acc/neg_acc = 0.83333333/0.8750000,                 pos_pred/all_pred = 11/20\n",
      "step 166| pos_acc/neg_acc = 1.00000000/0.7272727,                 pos_pred/all_pred = 12/20\n",
      "step 167| pos_acc/neg_acc = 0.11111111/1.0000000,                 pos_pred/all_pred =  1/20\n",
      "step 168| pos_acc/neg_acc = 0.76923077/0.0000000,                 pos_pred/all_pred = 17/20\n",
      "step 169| pos_acc/neg_acc = 0.66666667/0.5714286,                 pos_pred/all_pred = 12/20\n"
     ]
    },
    {
     "name": "stderr",
     "output_type": "stream",
     "text": [
      "INFO:SubjObjTrainer:   170: 0 [  170/  425], train_loss/accuracy = 0.27330077/0.6550000\n"
     ]
    },
    {
     "name": "stdout",
     "output_type": "stream",
     "text": [
      "   170: 0 [  170/  425], train_loss/accuracy = 0.27330077/0.6550000\n",
      "step 170| pos_acc/neg_acc = 1.00000000/0.0833333,                 pos_pred/all_pred = 19/20\n",
      "step 171| pos_acc/neg_acc = 0.00000000/1.0000000,                 pos_pred/all_pred =  0/20\n",
      "step 172| pos_acc/neg_acc = 0.90909091/0.3750000,                 pos_pred/all_pred = 16/20\n",
      "step 173| pos_acc/neg_acc = 0.45454545/1.0000000,                 pos_pred/all_pred =  5/20\n",
      "step 174| pos_acc/neg_acc = 1.00000000/0.0000000,                 pos_pred/all_pred = 20/20\n",
      "step 175| pos_acc/neg_acc = 0.00000000/1.0000000,                 pos_pred/all_pred =  0/20\n",
      "step 176| pos_acc/neg_acc = 1.00000000/0.0000000,                 pos_pred/all_pred = 20/20\n",
      "step 177| pos_acc/neg_acc = 0.50000000/0.9166667,                 pos_pred/all_pred =  5/20\n",
      "step 178| pos_acc/neg_acc = 0.45454545/1.0000000,                 pos_pred/all_pred =  5/20\n",
      "step 179| pos_acc/neg_acc = 0.81818182/0.5000000,                 pos_pred/all_pred = 14/20\n"
     ]
    },
    {
     "name": "stderr",
     "output_type": "stream",
     "text": [
      "INFO:SubjObjTrainer:   180: 0 [  180/  425], train_loss/accuracy = 0.28279093/0.5850000\n"
     ]
    },
    {
     "name": "stdout",
     "output_type": "stream",
     "text": [
      "   180: 0 [  180/  425], train_loss/accuracy = 0.28279093/0.5850000\n",
      "step 180| pos_acc/neg_acc = 1.00000000/0.6666667,                 pos_pred/all_pred = 14/20\n",
      "step 181| pos_acc/neg_acc = 0.88888889/0.6363636,                 pos_pred/all_pred = 12/20\n",
      "step 182| pos_acc/neg_acc = 0.20000000/1.0000000,                 pos_pred/all_pred =  2/20\n",
      "step 183| pos_acc/neg_acc = 1.00000000/0.0000000,                 pos_pred/all_pred = 20/20\n",
      "step 184| pos_acc/neg_acc = 0.25000000/0.9166667,                 pos_pred/all_pred =  3/20\n",
      "step 185| pos_acc/neg_acc = 0.90000000/0.8888889,                 pos_pred/all_pred = 11/20\n",
      "step 186| pos_acc/neg_acc = 1.00000000/0.7647059,                 pos_pred/all_pred =  7/20\n",
      "step 187| pos_acc/neg_acc = 0.00000000/1.0000000,                 pos_pred/all_pred =  0/20\n",
      "step 188| pos_acc/neg_acc = 1.00000000/0.3333333,                 pos_pred/all_pred = 16/20\n",
      "step 189| pos_acc/neg_acc = 0.16666667/1.0000000,                 pos_pred/all_pred =  1/20\n"
     ]
    },
    {
     "name": "stderr",
     "output_type": "stream",
     "text": [
      "INFO:SubjObjTrainer:   190: 0 [  190/  425], train_loss/accuracy = 0.24121483/0.6950000\n"
     ]
    },
    {
     "name": "stdout",
     "output_type": "stream",
     "text": [
      "   190: 0 [  190/  425], train_loss/accuracy = 0.24121483/0.6950000\n",
      "step 190| pos_acc/neg_acc = 0.30000000/0.7000000,                 pos_pred/all_pred =  6/20\n",
      "step 191| pos_acc/neg_acc = 1.00000000/0.5833333,                 pos_pred/all_pred = 13/20\n",
      "step 192| pos_acc/neg_acc = 0.25000000/1.0000000,                 pos_pred/all_pred =  3/20\n",
      "step 193| pos_acc/neg_acc = 1.00000000/0.0000000,                 pos_pred/all_pred = 20/20\n",
      "step 194| pos_acc/neg_acc = 0.60000000/1.0000000,                 pos_pred/all_pred = 10/20\n",
      "step 195| pos_acc/neg_acc = 1.00000000/0.0000000,                 pos_pred/all_pred = 20/20\n",
      "step 196| pos_acc/neg_acc = 0.22222222/1.0000000,                 pos_pred/all_pred =  2/20\n",
      "step 197| pos_acc/neg_acc = 0.87500000/0.3333333,                 pos_pred/all_pred = 15/20\n",
      "step 198| pos_acc/neg_acc = 0.12500000/0.9090909,                 pos_pred/all_pred =  2/20\n",
      "step 199| pos_acc/neg_acc = 0.77777778/0.2727273,                 pos_pred/all_pred = 15/20\n"
     ]
    },
    {
     "name": "stderr",
     "output_type": "stream",
     "text": [
      "INFO:SubjObjTrainer:   200: 0 [  200/  425], train_loss/accuracy = 0.28805605/0.5750000\n"
     ]
    },
    {
     "name": "stdout",
     "output_type": "stream",
     "text": [
      "   200: 0 [  200/  425], train_loss/accuracy = 0.28805605/0.5750000\n",
      "step 200| pos_acc/neg_acc = 0.20000000/1.0000000,                 pos_pred/all_pred =  2/20\n",
      "step 201| pos_acc/neg_acc = 1.00000000/0.2500000,                 pos_pred/all_pred = 18/20\n",
      "step 202| pos_acc/neg_acc = 0.40000000/0.9000000,                 pos_pred/all_pred =  5/20\n",
      "step 203| pos_acc/neg_acc = 1.00000000/0.8000000,                 pos_pred/all_pred = 12/20\n",
      "step 204| pos_acc/neg_acc = 0.54545455/1.0000000,                 pos_pred/all_pred =  7/20\n",
      "step 205| pos_acc/neg_acc = 0.80000000/0.5555556,                 pos_pred/all_pred = 13/20\n",
      "step 206| pos_acc/neg_acc = 0.66666667/0.7692308,                 pos_pred/all_pred =  7/20\n",
      "step 207| pos_acc/neg_acc = 0.36363636/0.8888889,                 pos_pred/all_pred =  5/20\n",
      "step 208| pos_acc/neg_acc = 1.00000000/0.0909091,                 pos_pred/all_pred = 19/20\n",
      "step 209| pos_acc/neg_acc = 0.16666667/1.0000000,                 pos_pred/all_pred =  1/20\n"
     ]
    },
    {
     "name": "stderr",
     "output_type": "stream",
     "text": [
      "INFO:SubjObjTrainer:   210: 0 [  210/  425], train_loss/accuracy = 0.24511711/0.6850000\n"
     ]
    },
    {
     "name": "stdout",
     "output_type": "stream",
     "text": [
      "   210: 0 [  210/  425], train_loss/accuracy = 0.24511711/0.6850000\n",
      "step 210| pos_acc/neg_acc = 0.50000000/0.8571429,                 pos_pred/all_pred =  7/20\n",
      "step 211| pos_acc/neg_acc = 1.00000000/0.4166667,                 pos_pred/all_pred = 15/20\n",
      "step 212| pos_acc/neg_acc = 0.12500000/1.0000000,                 pos_pred/all_pred =  1/20\n",
      "step 213| pos_acc/neg_acc = 1.00000000/0.3076923,                 pos_pred/all_pred = 16/20\n",
      "step 214| pos_acc/neg_acc = 0.33333333/1.0000000,                 pos_pred/all_pred =  4/20\n",
      "step 215| pos_acc/neg_acc = 0.87500000/0.3333333,                 pos_pred/all_pred = 15/20\n",
      "step 216| pos_acc/neg_acc = 0.18181818/1.0000000,                 pos_pred/all_pred =  2/20\n",
      "step 217| pos_acc/neg_acc = 1.00000000/0.0833333,                 pos_pred/all_pred = 19/20\n",
      "step 218| pos_acc/neg_acc = 0.27272727/1.0000000,                 pos_pred/all_pred =  3/20\n",
      "step 219| pos_acc/neg_acc = 1.00000000/0.1428571,                 pos_pred/all_pred = 19/20\n"
     ]
    },
    {
     "name": "stderr",
     "output_type": "stream",
     "text": [
      "INFO:SubjObjTrainer:   220: 0 [  220/  425], train_loss/accuracy = 0.27160856/0.5900000\n"
     ]
    },
    {
     "name": "stdout",
     "output_type": "stream",
     "text": [
      "   220: 0 [  220/  425], train_loss/accuracy = 0.27160856/0.5900000\n",
      "step 220| pos_acc/neg_acc = 0.50000000/0.9166667,                 pos_pred/all_pred =  5/20\n",
      "step 221| pos_acc/neg_acc = 0.57142857/0.5000000,                 pos_pred/all_pred = 11/20\n",
      "step 222| pos_acc/neg_acc = 1.00000000/0.1666667,                 pos_pred/all_pred = 18/20\n",
      "step 223| pos_acc/neg_acc = 0.44444444/1.0000000,                 pos_pred/all_pred =  4/20\n",
      "step 224| pos_acc/neg_acc = 0.72727273/0.8750000,                 pos_pred/all_pred = 10/20\n",
      "step 225| pos_acc/neg_acc = 0.88888889/0.4545455,                 pos_pred/all_pred = 14/20\n",
      "step 226| pos_acc/neg_acc = 0.00000000/1.0000000,                 pos_pred/all_pred =  1/20\n",
      "step 227| pos_acc/neg_acc = 1.00000000/0.0000000,                 pos_pred/all_pred = 20/20\n",
      "step 228| pos_acc/neg_acc = 0.00000000/1.0000000,                 pos_pred/all_pred =  0/20\n",
      "step 229| pos_acc/neg_acc = 0.71428571/0.6153846,                 pos_pred/all_pred = 10/20\n"
     ]
    },
    {
     "name": "stderr",
     "output_type": "stream",
     "text": [
      "INFO:SubjObjTrainer:   230: 0 [  230/  425], train_loss/accuracy = 0.26065281/0.6100000\n"
     ]
    },
    {
     "name": "stdout",
     "output_type": "stream",
     "text": [
      "   230: 0 [  230/  425], train_loss/accuracy = 0.26065281/0.6100000\n",
      "step 230| pos_acc/neg_acc = 0.11111111/1.0000000,                 pos_pred/all_pred =  1/20\n",
      "step 231| pos_acc/neg_acc = 1.00000000/0.3000000,                 pos_pred/all_pred = 17/20\n",
      "step 232| pos_acc/neg_acc = 0.44444444/0.7272727,                 pos_pred/all_pred =  7/20\n",
      "step 233| pos_acc/neg_acc = 0.69230769/1.0000000,                 pos_pred/all_pred = 10/20\n",
      "step 234| pos_acc/neg_acc = 0.87500000/0.0833333,                 pos_pred/all_pred = 18/20\n",
      "step 235| pos_acc/neg_acc = 0.10000000/1.0000000,                 pos_pred/all_pred =  1/20\n",
      "step 236| pos_acc/neg_acc = 1.00000000/0.1000000,                 pos_pred/all_pred = 19/20\n",
      "step 237| pos_acc/neg_acc = 0.58333333/1.0000000,                 pos_pred/all_pred =  7/20\n",
      "step 238| pos_acc/neg_acc = 1.00000000/0.1428571,                 pos_pred/all_pred = 18/20\n",
      "step 239| pos_acc/neg_acc = 0.00000000/1.0000000,                 pos_pred/all_pred =  0/20\n"
     ]
    },
    {
     "name": "stderr",
     "output_type": "stream",
     "text": [
      "INFO:SubjObjTrainer:   240: 0 [  240/  425], train_loss/accuracy = 0.29613557/0.5600000\n"
     ]
    },
    {
     "name": "stdout",
     "output_type": "stream",
     "text": [
      "   240: 0 [  240/  425], train_loss/accuracy = 0.29613557/0.5600000\n",
      "step 240| pos_acc/neg_acc = 1.00000000/0.0000000,                 pos_pred/all_pred = 20/20\n",
      "step 241| pos_acc/neg_acc = 0.00000000/1.0000000,                 pos_pred/all_pred =  0/20\n",
      "step 242| pos_acc/neg_acc = 1.00000000/0.0000000,                 pos_pred/all_pred = 20/20\n",
      "step 243| pos_acc/neg_acc = 0.58333333/1.0000000,                 pos_pred/all_pred =  7/20\n",
      "step 244| pos_acc/neg_acc = 1.00000000/0.0000000,                 pos_pred/all_pred = 20/20\n",
      "step 245| pos_acc/neg_acc = 0.50000000/0.8181818,                 pos_pred/all_pred =  6/20\n",
      "step 246| pos_acc/neg_acc = 0.75000000/0.9333333,                 pos_pred/all_pred =  4/20\n",
      "step 247| pos_acc/neg_acc = 0.30000000/1.0000000,                 pos_pred/all_pred =  3/20\n",
      "step 248| pos_acc/neg_acc = 1.00000000/0.2857143,                 pos_pred/all_pred = 17/20\n",
      "step 249| pos_acc/neg_acc = 0.66666667/0.8181818,                 pos_pred/all_pred =  8/20\n"
     ]
    },
    {
     "name": "stderr",
     "output_type": "stream",
     "text": [
      "INFO:SubjObjTrainer:   250: 0 [  250/  425], train_loss/accuracy = 0.28774589/0.6250000\n"
     ]
    },
    {
     "name": "stdout",
     "output_type": "stream",
     "text": [
      "   250: 0 [  250/  425], train_loss/accuracy = 0.28774589/0.6250000\n",
      "step 250| pos_acc/neg_acc = 0.25000000/0.9166667,                 pos_pred/all_pred =  3/20\n",
      "step 251| pos_acc/neg_acc = 0.90000000/0.7777778,                 pos_pred/all_pred = 12/20\n",
      "step 252| pos_acc/neg_acc = 0.45454545/0.8888889,                 pos_pred/all_pred =  6/20\n",
      "step 253| pos_acc/neg_acc = 0.60000000/0.7000000,                 pos_pred/all_pred =  9/20\n",
      "step 254| pos_acc/neg_acc = 0.87500000/0.7272727,                 pos_pred/all_pred = 11/20\n",
      "step 255| pos_acc/neg_acc = 0.27272727/1.0000000,                 pos_pred/all_pred =  3/20\n",
      "step 256| pos_acc/neg_acc = 1.00000000/0.0000000,                 pos_pred/all_pred = 20/20\n",
      "step 257| pos_acc/neg_acc = 0.27272727/1.0000000,                 pos_pred/all_pred =  3/20\n",
      "step 258| pos_acc/neg_acc = 1.00000000/0.0000000,                 pos_pred/all_pred = 20/20\n",
      "step 259| pos_acc/neg_acc = 0.42857143/0.9166667,                 pos_pred/all_pred =  5/20\n"
     ]
    },
    {
     "name": "stderr",
     "output_type": "stream",
     "text": [
      "INFO:SubjObjTrainer:   260: 0 [  260/  425], train_loss/accuracy = 0.26176032/0.6350000\n"
     ]
    },
    {
     "name": "stdout",
     "output_type": "stream",
     "text": [
      "   260: 0 [  260/  425], train_loss/accuracy = 0.26176032/0.6350000\n",
      "step 260| pos_acc/neg_acc = 0.70000000/0.8000000,                 pos_pred/all_pred =  9/20\n",
      "step 261| pos_acc/neg_acc = 0.37500000/0.9090909,                 pos_pred/all_pred =  5/20\n",
      "step 262| pos_acc/neg_acc = 0.50000000/1.0000000,                 pos_pred/all_pred =  6/20\n",
      "step 263| pos_acc/neg_acc = 0.75000000/0.5000000,                 pos_pred/all_pred = 13/20\n",
      "step 264| pos_acc/neg_acc = 0.83333333/0.8571429,                 pos_pred/all_pred =  7/20\n",
      "step 265| pos_acc/neg_acc = 0.44444444/0.8000000,                 pos_pred/all_pred =  7/20\n",
      "step 266| pos_acc/neg_acc = 0.63636364/0.6250000,                 pos_pred/all_pred = 10/20\n",
      "step 267| pos_acc/neg_acc = 0.80000000/0.6428571,                 pos_pred/all_pred =  9/20\n",
      "step 268| pos_acc/neg_acc = 0.60000000/1.0000000,                 pos_pred/all_pred =  3/20\n",
      "step 269| pos_acc/neg_acc = 0.27272727/0.8888889,                 pos_pred/all_pred =  4/20\n"
     ]
    },
    {
     "name": "stderr",
     "output_type": "stream",
     "text": [
      "INFO:SubjObjTrainer:   270: 0 [  270/  425], train_loss/accuracy = 0.20436530/0.7050000\n"
     ]
    },
    {
     "name": "stdout",
     "output_type": "stream",
     "text": [
      "   270: 0 [  270/  425], train_loss/accuracy = 0.20436530/0.7050000\n",
      "step 270| pos_acc/neg_acc = 1.00000000/0.5555556,                 pos_pred/all_pred = 15/20\n",
      "step 271| pos_acc/neg_acc = 0.70000000/1.0000000,                 pos_pred/all_pred =  8/20\n",
      "step 272| pos_acc/neg_acc = 0.50000000/0.8750000,                 pos_pred/all_pred =  7/20\n",
      "step 273| pos_acc/neg_acc = 0.90909091/0.2500000,                 pos_pred/all_pred = 17/20\n",
      "step 274| pos_acc/neg_acc = 0.83333333/0.4285714,                 pos_pred/all_pred = 15/20\n",
      "step 275| pos_acc/neg_acc = 0.88888889/0.8000000,                 pos_pred/all_pred = 10/20\n",
      "step 276| pos_acc/neg_acc = 0.58333333/1.0000000,                 pos_pred/all_pred =  7/20\n",
      "step 277| pos_acc/neg_acc = 0.33333333/0.8181818,                 pos_pred/all_pred =  5/20\n",
      "step 278| pos_acc/neg_acc = 0.66666667/0.8181818,                 pos_pred/all_pred =  8/20\n",
      "step 279| pos_acc/neg_acc = 0.87500000/0.9166667,                 pos_pred/all_pred =  8/20\n"
     ]
    },
    {
     "name": "stderr",
     "output_type": "stream",
     "text": [
      "INFO:SubjObjTrainer:   280: 0 [  280/  425], train_loss/accuracy = 0.18841559/0.7450000\n"
     ]
    },
    {
     "name": "stdout",
     "output_type": "stream",
     "text": [
      "   280: 0 [  280/  425], train_loss/accuracy = 0.18841559/0.7450000\n",
      "step 280| pos_acc/neg_acc = 0.22222222/1.0000000,                 pos_pred/all_pred =  2/20\n",
      "step 281| pos_acc/neg_acc = 0.77777778/0.9090909,                 pos_pred/all_pred =  8/20\n",
      "step 282| pos_acc/neg_acc = 0.50000000/1.0000000,                 pos_pred/all_pred =  2/20\n",
      "step 283| pos_acc/neg_acc = 0.58333333/1.0000000,                 pos_pred/all_pred =  7/20\n",
      "step 284| pos_acc/neg_acc = 1.00000000/0.2222222,                 pos_pred/all_pred = 18/20\n",
      "step 285| pos_acc/neg_acc = 0.36363636/0.8750000,                 pos_pred/all_pred =  5/20\n",
      "step 286| pos_acc/neg_acc = 1.00000000/0.3333333,                 pos_pred/all_pred = 17/20\n",
      "step 287| pos_acc/neg_acc = 0.66666667/0.9000000,                 pos_pred/all_pred =  8/20\n",
      "step 288| pos_acc/neg_acc = 0.54545455/1.0000000,                 pos_pred/all_pred =  7/20\n",
      "step 289| pos_acc/neg_acc = 0.80000000/0.2000000,                 pos_pred/all_pred = 16/20\n"
     ]
    },
    {
     "name": "stderr",
     "output_type": "stream",
     "text": [
      "INFO:SubjObjTrainer:   290: 0 [  290/  425], train_loss/accuracy = 0.23267846/0.7100000\n"
     ]
    },
    {
     "name": "stdout",
     "output_type": "stream",
     "text": [
      "   290: 0 [  290/  425], train_loss/accuracy = 0.23267846/0.7100000\n",
      "step 290| pos_acc/neg_acc = 0.41666667/1.0000000,                 pos_pred/all_pred =  5/20\n",
      "step 291| pos_acc/neg_acc = 1.00000000/0.1111111,                 pos_pred/all_pred = 19/20\n",
      "step 292| pos_acc/neg_acc = 0.27272727/1.0000000,                 pos_pred/all_pred =  3/20\n",
      "step 293| pos_acc/neg_acc = 0.80000000/0.0000000,                 pos_pred/all_pred = 18/20\n",
      "step 294| pos_acc/neg_acc = 0.63636364/0.8888889,                 pos_pred/all_pred =  8/20\n",
      "step 295| pos_acc/neg_acc = 0.88888889/0.6000000,                 pos_pred/all_pred = 13/20\n",
      "step 296| pos_acc/neg_acc = 0.14285714/0.7500000,                 pos_pred/all_pred =  5/20\n",
      "step 297| pos_acc/neg_acc = 0.55555556/1.0000000,                 pos_pred/all_pred =  5/20\n",
      "step 298| pos_acc/neg_acc = 0.58333333/0.6250000,                 pos_pred/all_pred = 10/20\n",
      "step 299| pos_acc/neg_acc = 0.85714286/0.1538462,                 pos_pred/all_pred = 17/20\n"
     ]
    },
    {
     "name": "stderr",
     "output_type": "stream",
     "text": [
      "INFO:SubjObjTrainer:   300: 0 [  300/  425], train_loss/accuracy = 0.23783302/0.6100000\n"
     ]
    },
    {
     "name": "stdout",
     "output_type": "stream",
     "text": [
      "   300: 0 [  300/  425], train_loss/accuracy = 0.23783302/0.6100000\n",
      "step 300| pos_acc/neg_acc = 0.33333333/1.0000000,                 pos_pred/all_pred =  3/20\n",
      "step 301| pos_acc/neg_acc = 1.00000000/0.3636364,                 pos_pred/all_pred = 16/20\n",
      "step 302| pos_acc/neg_acc = 0.33333333/1.0000000,                 pos_pred/all_pred =  5/20\n",
      "step 303| pos_acc/neg_acc = 1.00000000/0.0000000,                 pos_pred/all_pred = 20/20\n",
      "step 304| pos_acc/neg_acc = 0.25000000/1.0000000,                 pos_pred/all_pred =  2/20\n",
      "step 305| pos_acc/neg_acc = 1.00000000/0.5000000,                 pos_pred/all_pred = 17/20\n",
      "step 306| pos_acc/neg_acc = 0.90000000/0.4000000,                 pos_pred/all_pred = 15/20\n",
      "step 307| pos_acc/neg_acc = 0.55555556/1.0000000,                 pos_pred/all_pred =  5/20\n",
      "step 308| pos_acc/neg_acc = 0.80000000/0.6000000,                 pos_pred/all_pred = 14/20\n",
      "step 309| pos_acc/neg_acc = 1.00000000/0.5000000,                 pos_pred/all_pred = 15/20\n"
     ]
    },
    {
     "name": "stderr",
     "output_type": "stream",
     "text": [
      "INFO:SubjObjTrainer:   310: 0 [  310/  425], train_loss/accuracy = 0.22643767/0.6750000\n"
     ]
    },
    {
     "name": "stdout",
     "output_type": "stream",
     "text": [
      "   310: 0 [  310/  425], train_loss/accuracy = 0.22643767/0.6750000\n",
      "step 310| pos_acc/neg_acc = 0.45454545/1.0000000,                 pos_pred/all_pred =  5/20\n",
      "step 311| pos_acc/neg_acc = 1.00000000/0.0833333,                 pos_pred/all_pred = 19/20\n",
      "step 312| pos_acc/neg_acc = 0.30000000/1.0000000,                 pos_pred/all_pred =  3/20\n",
      "step 313| pos_acc/neg_acc = 0.81818182/0.3333333,                 pos_pred/all_pred = 15/20\n",
      "step 314| pos_acc/neg_acc = 0.55555556/0.9000000,                 pos_pred/all_pred =  6/20\n",
      "step 315| pos_acc/neg_acc = 1.00000000/0.3636364,                 pos_pred/all_pred = 16/20\n",
      "step 316| pos_acc/neg_acc = 0.33333333/1.0000000,                 pos_pred/all_pred =  3/20\n",
      "step 317| pos_acc/neg_acc = 1.00000000/0.5454545,                 pos_pred/all_pred = 14/20\n",
      "step 318| pos_acc/neg_acc = 0.50000000/1.0000000,                 pos_pred/all_pred =  3/20\n",
      "step 319| pos_acc/neg_acc = 0.54545455/1.0000000,                 pos_pred/all_pred =  6/20\n"
     ]
    },
    {
     "name": "stderr",
     "output_type": "stream",
     "text": [
      "INFO:SubjObjTrainer:   320: 0 [  320/  425], train_loss/accuracy = 0.22571976/0.6700000\n"
     ]
    },
    {
     "name": "stdout",
     "output_type": "stream",
     "text": [
      "   320: 0 [  320/  425], train_loss/accuracy = 0.22571976/0.6700000\n",
      "step 320| pos_acc/neg_acc = 1.00000000/0.4000000,                 pos_pred/all_pred = 16/20\n",
      "step 321| pos_acc/neg_acc = 0.57142857/0.9230769,                 pos_pred/all_pred =  5/20\n",
      "step 322| pos_acc/neg_acc = 0.45454545/0.8750000,                 pos_pred/all_pred =  6/20\n",
      "step 323| pos_acc/neg_acc = 1.00000000/0.2307692,                 pos_pred/all_pred = 17/20\n",
      "step 324| pos_acc/neg_acc = 0.22222222/1.0000000,                 pos_pred/all_pred =  2/20\n",
      "step 325| pos_acc/neg_acc = 1.00000000/0.5555556,                 pos_pred/all_pred = 15/20\n",
      "step 326| pos_acc/neg_acc = 0.55555556/1.0000000,                 pos_pred/all_pred =  6/20\n",
      "step 327| pos_acc/neg_acc = 0.66666667/0.7500000,                 pos_pred/all_pred = 10/20\n",
      "step 328| pos_acc/neg_acc = 1.00000000/0.0000000,                 pos_pred/all_pred = 20/20\n",
      "step 329| pos_acc/neg_acc = 0.62500000/0.8181818,                 pos_pred/all_pred =  8/20\n"
     ]
    },
    {
     "name": "stderr",
     "output_type": "stream",
     "text": [
      "INFO:SubjObjTrainer:   330: 0 [  330/  425], train_loss/accuracy = 0.22890075/0.6900000\n"
     ]
    },
    {
     "name": "stdout",
     "output_type": "stream",
     "text": [
      "   330: 0 [  330/  425], train_loss/accuracy = 0.22890075/0.6900000\n",
      "step 330| pos_acc/neg_acc = 0.66666667/0.8571429,                 pos_pred/all_pred = 10/20\n",
      "step 331| pos_acc/neg_acc = 0.77777778/0.4000000,                 pos_pred/all_pred = 14/20\n",
      "step 332| pos_acc/neg_acc = 0.27272727/1.0000000,                 pos_pred/all_pred =  4/20\n",
      "step 333| pos_acc/neg_acc = 1.00000000/0.1111111,                 pos_pred/all_pred = 19/20\n",
      "step 334| pos_acc/neg_acc = 0.36363636/1.0000000,                 pos_pred/all_pred =  4/20\n",
      "step 335| pos_acc/neg_acc = 1.00000000/0.0909091,                 pos_pred/all_pred = 19/20\n",
      "step 336| pos_acc/neg_acc = 0.36363636/1.0000000,                 pos_pred/all_pred =  4/20\n",
      "step 337| pos_acc/neg_acc = 1.00000000/0.1666667,                 pos_pred/all_pred = 19/20\n",
      "step 338| pos_acc/neg_acc = 0.77777778/1.0000000,                 pos_pred/all_pred =  8/20\n",
      "step 339| pos_acc/neg_acc = 0.81818182/0.8888889,                 pos_pred/all_pred = 10/20\n"
     ]
    },
    {
     "name": "stderr",
     "output_type": "stream",
     "text": [
      "INFO:SubjObjTrainer:   340: 0 [  340/  425], train_loss/accuracy = 0.24638532/0.6800000\n"
     ]
    },
    {
     "name": "stdout",
     "output_type": "stream",
     "text": [
      "   340: 0 [  340/  425], train_loss/accuracy = 0.24638532/0.6800000\n",
      "step 340| pos_acc/neg_acc = 0.33333333/0.7500000,                 pos_pred/all_pred =  6/20\n",
      "step 341| pos_acc/neg_acc = 1.00000000/0.0000000,                 pos_pred/all_pred = 20/20\n",
      "step 342| pos_acc/neg_acc = 0.20000000/1.0000000,                 pos_pred/all_pred =  2/20\n",
      "step 343| pos_acc/neg_acc = 1.00000000/0.0000000,                 pos_pred/all_pred = 20/20\n",
      "step 344| pos_acc/neg_acc = 0.12500000/1.0000000,                 pos_pred/all_pred =  1/20\n",
      "step 345| pos_acc/neg_acc = 1.00000000/0.8181818,                 pos_pred/all_pred = 10/20\n",
      "step 346| pos_acc/neg_acc = 0.76923077/0.8333333,                 pos_pred/all_pred = 12/20\n",
      "step 347| pos_acc/neg_acc = 0.84615385/0.3333333,                 pos_pred/all_pred = 16/20\n",
      "step 348| pos_acc/neg_acc = 1.00000000/0.6000000,                 pos_pred/all_pred = 14/20\n",
      "step 349| pos_acc/neg_acc = 0.00000000/0.9285714,                 pos_pred/all_pred =  1/20\n"
     ]
    },
    {
     "name": "stderr",
     "output_type": "stream",
     "text": [
      "INFO:SubjObjTrainer:   350: 0 [  350/  425], train_loss/accuracy = 0.28344294/0.6500000\n"
     ]
    },
    {
     "name": "stdout",
     "output_type": "stream",
     "text": [
      "   350: 0 [  350/  425], train_loss/accuracy = 0.28344294/0.6500000\n",
      "step 350| pos_acc/neg_acc = 0.87500000/1.0000000,                 pos_pred/all_pred =  7/20\n",
      "step 351| pos_acc/neg_acc = 0.55555556/1.0000000,                 pos_pred/all_pred =  6/20\n",
      "step 352| pos_acc/neg_acc = 0.87500000/0.8333333,                 pos_pred/all_pred =  9/20\n",
      "step 353| pos_acc/neg_acc = 0.55555556/0.9000000,                 pos_pred/all_pred =  7/20\n",
      "step 354| pos_acc/neg_acc = 0.87500000/1.0000000,                 pos_pred/all_pred =  8/20\n",
      "step 355| pos_acc/neg_acc = 0.80000000/1.0000000,                 pos_pred/all_pred =  9/20\n",
      "step 356| pos_acc/neg_acc = 0.33333333/0.6923077,                 pos_pred/all_pred =  7/20\n",
      "step 357| pos_acc/neg_acc = 0.71428571/0.9230769,                 pos_pred/all_pred =  6/20\n",
      "step 358| pos_acc/neg_acc = 0.55555556/1.0000000,                 pos_pred/all_pred =  6/20\n",
      "step 359| pos_acc/neg_acc = 0.66666667/0.6250000,                 pos_pred/all_pred = 11/20\n"
     ]
    },
    {
     "name": "stderr",
     "output_type": "stream",
     "text": [
      "INFO:SubjObjTrainer:   360: 0 [  360/  425], train_loss/accuracy = 0.15770505/0.8050000\n"
     ]
    },
    {
     "name": "stdout",
     "output_type": "stream",
     "text": [
      "   360: 0 [  360/  425], train_loss/accuracy = 0.15770505/0.8050000\n",
      "step 360| pos_acc/neg_acc = 1.00000000/0.7333333,                 pos_pred/all_pred =  9/20\n",
      "step 361| pos_acc/neg_acc = 0.00000000/1.0000000,                 pos_pred/all_pred =  0/20\n",
      "step 362| pos_acc/neg_acc = 1.00000000/0.2500000,                 pos_pred/all_pred = 18/20\n",
      "step 363| pos_acc/neg_acc = 0.85714286/0.9230769,                 pos_pred/all_pred =  7/20\n",
      "step 364| pos_acc/neg_acc = 0.62500000/1.0000000,                 pos_pred/all_pred =  6/20\n",
      "step 365| pos_acc/neg_acc = 0.80000000/0.5555556,                 pos_pred/all_pred = 13/20\n",
      "step 366| pos_acc/neg_acc = 0.75000000/1.0000000,                 pos_pred/all_pred =  9/20\n",
      "step 367| pos_acc/neg_acc = 0.71428571/1.0000000,                 pos_pred/all_pred =  6/20\n",
      "step 368| pos_acc/neg_acc = 0.77777778/0.9090909,                 pos_pred/all_pred =  8/20\n",
      "step 369| pos_acc/neg_acc = 0.83333333/1.0000000,                 pos_pred/all_pred = 10/20\n"
     ]
    },
    {
     "name": "stderr",
     "output_type": "stream",
     "text": [
      "INFO:SubjObjTrainer:   370: 0 [  370/  425], train_loss/accuracy = 0.17036659/0.8050000\n"
     ]
    },
    {
     "name": "stdout",
     "output_type": "stream",
     "text": [
      "   370: 0 [  370/  425], train_loss/accuracy = 0.17036659/0.8050000\n",
      "step 370| pos_acc/neg_acc = 0.90909091/0.7777778,                 pos_pred/all_pred = 12/20\n",
      "step 371| pos_acc/neg_acc = 1.00000000/1.0000000,                 pos_pred/all_pred = 10/20\n",
      "step 372| pos_acc/neg_acc = 0.87500000/0.9090909,                 pos_pred/all_pred =  8/20\n",
      "step 373| pos_acc/neg_acc = 0.75000000/1.0000000,                 pos_pred/all_pred =  7/20\n",
      "step 374| pos_acc/neg_acc = 0.91666667/1.0000000,                 pos_pred/all_pred = 11/20\n",
      "step 375| pos_acc/neg_acc = 0.80000000/0.9000000,                 pos_pred/all_pred =  9/20\n",
      "step 376| pos_acc/neg_acc = 0.50000000/0.8571429,                 pos_pred/all_pred =  8/20\n",
      "step 377| pos_acc/neg_acc = 0.80000000/0.5000000,                 pos_pred/all_pred = 13/20\n",
      "step 378| pos_acc/neg_acc = 0.66666667/0.9090909,                 pos_pred/all_pred =  7/20\n",
      "step 379| pos_acc/neg_acc = 0.88888889/0.9000000,                 pos_pred/all_pred =  9/20\n"
     ]
    },
    {
     "name": "stderr",
     "output_type": "stream",
     "text": [
      "INFO:SubjObjTrainer:   380: 0 [  380/  425], train_loss/accuracy = 0.20866366/0.8350000\n"
     ]
    },
    {
     "name": "stdout",
     "output_type": "stream",
     "text": [
      "   380: 0 [  380/  425], train_loss/accuracy = 0.20866366/0.8350000\n",
      "step 380| pos_acc/neg_acc = 0.58333333/1.0000000,                 pos_pred/all_pred =  7/20\n",
      "step 381| pos_acc/neg_acc = 1.00000000/0.0000000,                 pos_pred/all_pred = 20/20\n",
      "step 382| pos_acc/neg_acc = 0.12500000/1.0000000,                 pos_pred/all_pred =  1/20\n",
      "step 383| pos_acc/neg_acc = 1.00000000/0.2500000,                 pos_pred/all_pred = 18/20\n",
      "step 384| pos_acc/neg_acc = 0.25000000/0.8333333,                 pos_pred/all_pred =  4/20\n",
      "step 385| pos_acc/neg_acc = 0.72727273/1.0000000,                 pos_pred/all_pred =  8/20\n",
      "step 386| pos_acc/neg_acc = 0.90000000/0.5555556,                 pos_pred/all_pred = 14/20\n",
      "step 387| pos_acc/neg_acc = 0.54545455/1.0000000,                 pos_pred/all_pred =  6/20\n",
      "step 388| pos_acc/neg_acc = 1.00000000/0.5555556,                 pos_pred/all_pred = 15/20\n",
      "step 389| pos_acc/neg_acc = 0.77777778/0.9000000,                 pos_pred/all_pred =  8/20\n"
     ]
    },
    {
     "name": "stderr",
     "output_type": "stream",
     "text": [
      "INFO:SubjObjTrainer:   390: 0 [  390/  425], train_loss/accuracy = 0.28741375/0.6900000\n"
     ]
    },
    {
     "name": "stdout",
     "output_type": "stream",
     "text": [
      "   390: 0 [  390/  425], train_loss/accuracy = 0.28741375/0.6900000\n",
      "step 390| pos_acc/neg_acc = 0.81818182/0.8750000,                 pos_pred/all_pred = 11/20\n",
      "step 391| pos_acc/neg_acc = 0.90000000/0.5000000,                 pos_pred/all_pred = 14/20\n",
      "step 392| pos_acc/neg_acc = 0.83333333/0.8750000,                 pos_pred/all_pred = 11/20\n",
      "step 393| pos_acc/neg_acc = 0.90909091/0.4444444,                 pos_pred/all_pred = 15/20\n",
      "step 394| pos_acc/neg_acc = 0.45454545/1.0000000,                 pos_pred/all_pred =  5/20\n",
      "step 395| pos_acc/neg_acc = 1.00000000/0.5000000,                 pos_pred/all_pred = 16/20\n",
      "step 396| pos_acc/neg_acc = 1.00000000/0.6153846,                 pos_pred/all_pred = 12/20\n",
      "step 397| pos_acc/neg_acc = 0.15384615/1.0000000,                 pos_pred/all_pred =  2/20\n",
      "step 398| pos_acc/neg_acc = 1.00000000/0.0000000,                 pos_pred/all_pred = 20/20\n",
      "step 399| pos_acc/neg_acc = 0.00000000/1.0000000,                 pos_pred/all_pred =  0/20\n"
     ]
    },
    {
     "name": "stderr",
     "output_type": "stream",
     "text": [
      "INFO:SubjObjTrainer:   400: 0 [  400/  425], train_loss/accuracy = 0.29202202/0.6650000\n"
     ]
    },
    {
     "name": "stdout",
     "output_type": "stream",
     "text": [
      "   400: 0 [  400/  425], train_loss/accuracy = 0.29202202/0.6650000\n",
      "step 400| pos_acc/neg_acc = 1.00000000/0.0000000,                 pos_pred/all_pred = 20/20\n",
      "step 401| pos_acc/neg_acc = 0.16666667/1.0000000,                 pos_pred/all_pred =  2/20\n",
      "step 402| pos_acc/neg_acc = 1.00000000/0.2222222,                 pos_pred/all_pred = 18/20\n",
      "step 403| pos_acc/neg_acc = 0.77777778/1.0000000,                 pos_pred/all_pred =  8/20\n",
      "step 404| pos_acc/neg_acc = 0.85714286/0.8461538,                 pos_pred/all_pred =  8/20\n",
      "step 405| pos_acc/neg_acc = 0.33333333/1.0000000,                 pos_pred/all_pred =  3/20\n",
      "step 406| pos_acc/neg_acc = 0.88888889/0.9090909,                 pos_pred/all_pred =  9/20\n",
      "step 407| pos_acc/neg_acc = 0.72727273/1.0000000,                 pos_pred/all_pred =  8/20\n",
      "step 408| pos_acc/neg_acc = 1.00000000/0.2500000,                 pos_pred/all_pred = 18/20\n",
      "step 409| pos_acc/neg_acc = 0.50000000/1.0000000,                 pos_pred/all_pred =  5/20\n"
     ]
    },
    {
     "name": "stderr",
     "output_type": "stream",
     "text": [
      "INFO:SubjObjTrainer:   410: 0 [  410/  425], train_loss/accuracy = 0.22243917/0.7200000\n"
     ]
    },
    {
     "name": "stdout",
     "output_type": "stream",
     "text": [
      "   410: 0 [  410/  425], train_loss/accuracy = 0.22243917/0.7200000\n",
      "step 410| pos_acc/neg_acc = 1.00000000/0.4285714,                 pos_pred/all_pred = 17/20\n",
      "step 411| pos_acc/neg_acc = 0.50000000/1.0000000,                 pos_pred/all_pred =  5/20\n",
      "step 412| pos_acc/neg_acc = 0.90000000/0.6666667,                 pos_pred/all_pred = 13/20\n",
      "step 413| pos_acc/neg_acc = 0.66666667/1.0000000,                 pos_pred/all_pred =  4/20\n",
      "step 414| pos_acc/neg_acc = 0.66666667/1.0000000,                 pos_pred/all_pred =  9/20\n",
      "step 415| pos_acc/neg_acc = 1.00000000/0.3333333,                 pos_pred/all_pred = 16/20\n",
      "step 416| pos_acc/neg_acc = 0.50000000/1.0000000,                 pos_pred/all_pred =  5/20\n",
      "step 417| pos_acc/neg_acc = 0.88888889/0.8181818,                 pos_pred/all_pred = 10/20\n",
      "step 418| pos_acc/neg_acc = 0.60000000/1.0000000,                 pos_pred/all_pred =  6/20\n",
      "step 419| pos_acc/neg_acc = 1.00000000/0.6363636,                 pos_pred/all_pred = 13/20\n"
     ]
    },
    {
     "name": "stderr",
     "output_type": "stream",
     "text": [
      "INFO:SubjObjTrainer:   420: 0 [  420/  425], train_loss/accuracy = 0.18978688/0.7950000\n"
     ]
    },
    {
     "name": "stdout",
     "output_type": "stream",
     "text": [
      "   420: 0 [  420/  425], train_loss/accuracy = 0.18978688/0.7950000\n",
      "step 420| pos_acc/neg_acc = 0.80000000/1.0000000,                 pos_pred/all_pred =  9/20\n",
      "step 421| pos_acc/neg_acc = 1.00000000/0.8750000,                 pos_pred/all_pred = 13/20\n",
      "step 422| pos_acc/neg_acc = 0.90909091/1.0000000,                 pos_pred/all_pred = 11/20\n",
      "step 423| pos_acc/neg_acc = 1.00000000/0.7000000,                 pos_pred/all_pred = 13/20\n",
      "step 424| pos_acc/neg_acc = 1.00000000/1.0000000,                 pos_pred/all_pred =  8/20\n"
     ]
    },
    {
     "name": "stderr",
     "output_type": "stream",
     "text": [
      "INFO:SubjObjTrainer:[    0/   10], valid_loss/accuracy = 0.19951719/0.5380000\n"
     ]
    },
    {
     "name": "stdout",
     "output_type": "stream",
     "text": [
      "[    0/   10], valid_loss/accuracy = 0.19951719/0.5380000\n",
      "step 425| pos_acc/neg_acc = 0.78571429/0.8333333,                 pos_pred/all_pred = 12/20\n",
      "step 426| pos_acc/neg_acc = 1.00000000/0.9230769,                 pos_pred/all_pred =  8/20\n",
      "step 427| pos_acc/neg_acc = 0.72727273/1.0000000,                 pos_pred/all_pred =  8/20\n",
      "step 428| pos_acc/neg_acc = 0.88888889/0.9090909,                 pos_pred/all_pred =  9/20\n",
      "step 429| pos_acc/neg_acc = 0.71428571/1.0000000,                 pos_pred/all_pred =  5/20\n"
     ]
    },
    {
     "name": "stderr",
     "output_type": "stream",
     "text": [
      "INFO:SubjObjTrainer:   430: 1 [    5/  425], train_loss/accuracy = 0.08331577/0.4350000\n"
     ]
    },
    {
     "name": "stdout",
     "output_type": "stream",
     "text": [
      "   430: 1 [    5/  425], train_loss/accuracy = 0.08331577/0.4350000\n",
      "step 430| pos_acc/neg_acc = 0.77777778/1.0000000,                 pos_pred/all_pred =  8/20\n",
      "step 431| pos_acc/neg_acc = 1.00000000/0.9090909,                 pos_pred/all_pred =  9/20\n",
      "step 432| pos_acc/neg_acc = 0.66666667/1.0000000,                 pos_pred/all_pred =  8/20\n",
      "step 433| pos_acc/neg_acc = 1.00000000/0.2500000,                 pos_pred/all_pred = 17/20\n",
      "step 434| pos_acc/neg_acc = 0.44444444/1.0000000,                 pos_pred/all_pred =  4/20\n",
      "step 435| pos_acc/neg_acc = 1.00000000/0.8888889,                 pos_pred/all_pred = 12/20\n",
      "step 436| pos_acc/neg_acc = 0.90909091/1.0000000,                 pos_pred/all_pred = 10/20\n",
      "step 437| pos_acc/neg_acc = 0.88888889/0.9090909,                 pos_pred/all_pred =  9/20\n",
      "step 438| pos_acc/neg_acc = 0.66666667/1.0000000,                 pos_pred/all_pred =  4/20\n",
      "step 439| pos_acc/neg_acc = 0.50000000/1.0000000,                 pos_pred/all_pred =  3/20\n"
     ]
    },
    {
     "name": "stderr",
     "output_type": "stream",
     "text": [
      "INFO:SubjObjTrainer:   440: 1 [   15/  425], train_loss/accuracy = 0.15867011/0.8450000\n"
     ]
    },
    {
     "name": "stdout",
     "output_type": "stream",
     "text": [
      "   440: 1 [   15/  425], train_loss/accuracy = 0.15867011/0.8450000\n",
      "step 440| pos_acc/neg_acc = 0.50000000/0.9000000,                 pos_pred/all_pred =  6/20\n",
      "step 441| pos_acc/neg_acc = 1.00000000/0.8666667,                 pos_pred/all_pred =  7/20\n",
      "step 442| pos_acc/neg_acc = 0.22222222/1.0000000,                 pos_pred/all_pred =  2/20\n",
      "step 443| pos_acc/neg_acc = 1.00000000/0.9166667,                 pos_pred/all_pred =  9/20\n",
      "step 444| pos_acc/neg_acc = 0.50000000/1.0000000,                 pos_pred/all_pred =  5/20\n",
      "step 445| pos_acc/neg_acc = 1.00000000/0.5000000,                 pos_pred/all_pred = 14/20\n",
      "step 446| pos_acc/neg_acc = 0.50000000/1.0000000,                 pos_pred/all_pred =  7/20\n",
      "step 447| pos_acc/neg_acc = 1.00000000/0.7500000,                 pos_pred/all_pred = 14/20\n",
      "step 448| pos_acc/neg_acc = 0.83333333/1.0000000,                 pos_pred/all_pred =  5/20\n",
      "step 449| pos_acc/neg_acc = 0.88888889/1.0000000,                 pos_pred/all_pred =  8/20\n"
     ]
    },
    {
     "name": "stderr",
     "output_type": "stream",
     "text": [
      "INFO:SubjObjTrainer:   450: 1 [   25/  425], train_loss/accuracy = 0.15819067/0.8100000\n"
     ]
    },
    {
     "name": "stdout",
     "output_type": "stream",
     "text": [
      "   450: 1 [   25/  425], train_loss/accuracy = 0.15819067/0.8100000\n",
      "step 450| pos_acc/neg_acc = 1.00000000/0.9285714,                 pos_pred/all_pred =  7/20\n",
      "step 451| pos_acc/neg_acc = 0.50000000/1.0000000,                 pos_pred/all_pred =  6/20\n",
      "step 452| pos_acc/neg_acc = 1.00000000/0.5454545,                 pos_pred/all_pred = 14/20\n",
      "step 453| pos_acc/neg_acc = 0.33333333/1.0000000,                 pos_pred/all_pred =  4/20\n",
      "step 454| pos_acc/neg_acc = 1.00000000/0.7142857,                 pos_pred/all_pred = 15/20\n",
      "step 455| pos_acc/neg_acc = 0.66666667/1.0000000,                 pos_pred/all_pred =  4/20\n",
      "step 456| pos_acc/neg_acc = 0.92307692/1.0000000,                 pos_pred/all_pred = 13/20\n",
      "step 457| pos_acc/neg_acc = 0.75000000/1.0000000,                 pos_pred/all_pred =  7/20\n",
      "step 458| pos_acc/neg_acc = 0.33333333/1.0000000,                 pos_pred/all_pred =  4/20\n",
      "step 459| pos_acc/neg_acc = 1.00000000/0.9090909,                 pos_pred/all_pred = 10/20\n"
     ]
    },
    {
     "name": "stderr",
     "output_type": "stream",
     "text": [
      "INFO:SubjObjTrainer:   460: 1 [   35/  425], train_loss/accuracy = 0.14653766/0.8400000\n"
     ]
    },
    {
     "name": "stdout",
     "output_type": "stream",
     "text": [
      "   460: 1 [   35/  425], train_loss/accuracy = 0.14653766/0.8400000\n",
      "step 460| pos_acc/neg_acc = 0.87500000/1.0000000,                 pos_pred/all_pred =  7/20\n",
      "step 461| pos_acc/neg_acc = 0.33333333/1.0000000,                 pos_pred/all_pred =  4/20\n",
      "step 462| pos_acc/neg_acc = 1.00000000/0.0000000,                 pos_pred/all_pred = 20/20\n",
      "step 463| pos_acc/neg_acc = 0.00000000/1.0000000,                 pos_pred/all_pred =  0/20\n",
      "step 464| pos_acc/neg_acc = 1.00000000/0.0000000,                 pos_pred/all_pred = 20/20\n",
      "step 465| pos_acc/neg_acc = 0.16666667/1.0000000,                 pos_pred/all_pred =  1/20\n",
      "step 466| pos_acc/neg_acc = 1.00000000/0.2857143,                 pos_pred/all_pred = 18/20\n",
      "step 467| pos_acc/neg_acc = 0.55555556/1.0000000,                 pos_pred/all_pred =  6/20\n",
      "step 468| pos_acc/neg_acc = 1.00000000/0.5000000,                 pos_pred/all_pred = 15/20\n",
      "step 469| pos_acc/neg_acc = 0.58333333/1.0000000,                 pos_pred/all_pred =  8/20\n"
     ]
    },
    {
     "name": "stderr",
     "output_type": "stream",
     "text": [
      "INFO:SubjObjTrainer:   470: 1 [   45/  425], train_loss/accuracy = 0.32940975/0.6500000\n"
     ]
    },
    {
     "name": "stdout",
     "output_type": "stream",
     "text": [
      "   470: 1 [   45/  425], train_loss/accuracy = 0.32940975/0.6500000\n",
      "step 470| pos_acc/neg_acc = 1.00000000/0.8000000,                 pos_pred/all_pred = 12/20\n",
      "step 471| pos_acc/neg_acc = 1.00000000/0.8333333,                 pos_pred/all_pred = 10/20\n",
      "step 472| pos_acc/neg_acc = 0.60000000/1.0000000,                 pos_pred/all_pred =  6/20\n",
      "step 473| pos_acc/neg_acc = 1.00000000/0.5000000,                 pos_pred/all_pred = 13/20\n",
      "step 474| pos_acc/neg_acc = 0.14285714/1.0000000,                 pos_pred/all_pred =  1/20\n",
      "step 475| pos_acc/neg_acc = 1.00000000/0.5000000,                 pos_pred/all_pred = 17/20\n",
      "step 476| pos_acc/neg_acc = 1.00000000/0.8181818,                 pos_pred/all_pred = 11/20\n",
      "step 477| pos_acc/neg_acc = 0.66666667/1.0000000,                 pos_pred/all_pred =  9/20\n",
      "step 478| pos_acc/neg_acc = 1.00000000/0.7000000,                 pos_pred/all_pred = 13/20\n",
      "step 479| pos_acc/neg_acc = 0.42857143/1.0000000,                 pos_pred/all_pred =  3/20\n"
     ]
    },
    {
     "name": "stderr",
     "output_type": "stream",
     "text": [
      "INFO:SubjObjTrainer:   480: 1 [   55/  425], train_loss/accuracy = 0.16558546/0.8100000\n"
     ]
    },
    {
     "name": "stdout",
     "output_type": "stream",
     "text": [
      "   480: 1 [   55/  425], train_loss/accuracy = 0.16558546/0.8100000\n",
      "step 480| pos_acc/neg_acc = 0.90909091/0.7500000,                 pos_pred/all_pred = 13/20\n",
      "step 481| pos_acc/neg_acc = 1.00000000/0.9090909,                 pos_pred/all_pred = 10/20\n",
      "step 482| pos_acc/neg_acc = 0.77777778/1.0000000,                 pos_pred/all_pred =  7/20\n",
      "step 483| pos_acc/neg_acc = 0.91666667/0.8571429,                 pos_pred/all_pred = 13/20\n",
      "step 484| pos_acc/neg_acc = 1.00000000/0.9000000,                 pos_pred/all_pred = 11/20\n",
      "step 485| pos_acc/neg_acc = 0.90000000/1.0000000,                 pos_pred/all_pred = 10/20\n",
      "step 486| pos_acc/neg_acc = 0.75000000/1.0000000,                 pos_pred/all_pred =  9/20\n",
      "step 487| pos_acc/neg_acc = 1.00000000/0.8181818,                 pos_pred/all_pred = 11/20\n",
      "step 488| pos_acc/neg_acc = 0.37500000/0.9166667,                 pos_pred/all_pred =  4/20\n",
      "step 489| pos_acc/neg_acc = 0.81818182/0.8750000,                 pos_pred/all_pred = 11/20\n"
     ]
    },
    {
     "name": "stderr",
     "output_type": "stream",
     "text": [
      "INFO:SubjObjTrainer:   490: 1 [   65/  425], train_loss/accuracy = 0.15298861/0.8800000\n"
     ]
    },
    {
     "name": "stdout",
     "output_type": "stream",
     "text": [
      "   490: 1 [   65/  425], train_loss/accuracy = 0.15298861/0.8800000\n",
      "step 490| pos_acc/neg_acc = 1.00000000/0.7777778,                 pos_pred/all_pred = 13/20\n",
      "step 491| pos_acc/neg_acc = 0.92307692/1.0000000,                 pos_pred/all_pred = 13/20\n",
      "step 492| pos_acc/neg_acc = 1.00000000/0.8888889,                 pos_pred/all_pred = 12/20\n",
      "step 493| pos_acc/neg_acc = 1.00000000/1.0000000,                 pos_pred/all_pred = 12/20\n",
      "step 494| pos_acc/neg_acc = 1.00000000/1.0000000,                 pos_pred/all_pred = 14/20\n",
      "step 495| pos_acc/neg_acc = 1.00000000/0.6000000,                 pos_pred/all_pred = 14/20\n",
      "step 496| pos_acc/neg_acc = 0.72727273/1.0000000,                 pos_pred/all_pred =  9/20\n",
      "step 497| pos_acc/neg_acc = 1.00000000/0.4000000,                 pos_pred/all_pred = 16/20\n",
      "step 498| pos_acc/neg_acc = 0.66666667/0.9090909,                 pos_pred/all_pred =  7/20\n",
      "step 499| pos_acc/neg_acc = 1.00000000/1.0000000,                 pos_pred/all_pred =  7/20\n"
     ]
    },
    {
     "name": "stderr",
     "output_type": "stream",
     "text": [
      "INFO:SubjObjTrainer:   500: 1 [   75/  425], train_loss/accuracy = 0.13218386/0.8950000\n"
     ]
    },
    {
     "name": "stdout",
     "output_type": "stream",
     "text": [
      "   500: 1 [   75/  425], train_loss/accuracy = 0.13218386/0.8950000\n",
      "step 500| pos_acc/neg_acc = 0.71428571/1.0000000,                 pos_pred/all_pred =  5/20\n",
      "step 501| pos_acc/neg_acc = 1.00000000/0.6363636,                 pos_pred/all_pred = 13/20\n",
      "step 502| pos_acc/neg_acc = 0.66666667/1.0000000,                 pos_pred/all_pred =  6/20\n",
      "step 503| pos_acc/neg_acc = 0.88888889/0.9000000,                 pos_pred/all_pred = 10/20\n",
      "step 504| pos_acc/neg_acc = 0.87500000/0.8333333,                 pos_pred/all_pred =  9/20\n",
      "step 505| pos_acc/neg_acc = 0.80000000/1.0000000,                 pos_pred/all_pred =  8/20\n",
      "step 506| pos_acc/neg_acc = 0.66666667/0.8000000,                 pos_pred/all_pred =  9/20\n",
      "step 507| pos_acc/neg_acc = 1.00000000/0.9000000,                 pos_pred/all_pred = 11/20\n",
      "step 508| pos_acc/neg_acc = 0.55555556/1.0000000,                 pos_pred/all_pred =  6/20\n",
      "step 509| pos_acc/neg_acc = 1.00000000/0.7000000,                 pos_pred/all_pred = 13/20\n"
     ]
    },
    {
     "name": "stderr",
     "output_type": "stream",
     "text": [
      "INFO:SubjObjTrainer:   510: 1 [   85/  425], train_loss/accuracy = 0.15063196/0.8450000\n"
     ]
    },
    {
     "name": "stdout",
     "output_type": "stream",
     "text": [
      "   510: 1 [   85/  425], train_loss/accuracy = 0.15063196/0.8450000\n",
      "step 510| pos_acc/neg_acc = 0.66666667/1.0000000,                 pos_pred/all_pred =  6/20\n",
      "step 511| pos_acc/neg_acc = 0.87500000/1.0000000,                 pos_pred/all_pred =  8/20\n",
      "step 512| pos_acc/neg_acc = 0.33333333/1.0000000,                 pos_pred/all_pred =  3/20\n",
      "step 513| pos_acc/neg_acc = 1.00000000/0.1428571,                 pos_pred/all_pred = 19/20\n",
      "step 514| pos_acc/neg_acc = 0.83333333/1.0000000,                 pos_pred/all_pred = 11/20\n",
      "step 515| pos_acc/neg_acc = 1.00000000/0.3636364,                 pos_pred/all_pred = 16/20\n",
      "step 516| pos_acc/neg_acc = 0.22222222/1.0000000,                 pos_pred/all_pred =  2/20\n",
      "step 517| pos_acc/neg_acc = 1.00000000/0.3750000,                 pos_pred/all_pred = 17/20\n",
      "step 518| pos_acc/neg_acc = 0.92307692/1.0000000,                 pos_pred/all_pred = 12/20\n",
      "step 519| pos_acc/neg_acc = 1.00000000/1.0000000,                 pos_pred/all_pred = 11/20\n"
     ]
    },
    {
     "name": "stderr",
     "output_type": "stream",
     "text": [
      "INFO:SubjObjTrainer:   520: 1 [   95/  425], train_loss/accuracy = 0.17228334/0.8100000\n"
     ]
    },
    {
     "name": "stdout",
     "output_type": "stream",
     "text": [
      "   520: 1 [   95/  425], train_loss/accuracy = 0.17228334/0.8100000\n",
      "step 520| pos_acc/neg_acc = 0.90909091/1.0000000,                 pos_pred/all_pred = 11/20\n",
      "step 521| pos_acc/neg_acc = 0.83333333/0.5714286,                 pos_pred/all_pred = 14/20\n",
      "step 522| pos_acc/neg_acc = 0.70000000/0.9000000,                 pos_pred/all_pred =  8/20\n",
      "step 523| pos_acc/neg_acc = 0.66666667/1.0000000,                 pos_pred/all_pred =  8/20\n",
      "step 524| pos_acc/neg_acc = 1.00000000/0.7500000,                 pos_pred/all_pred = 11/20\n",
      "step 525| pos_acc/neg_acc = 0.55555556/1.0000000,                 pos_pred/all_pred =  5/20\n",
      "step 526| pos_acc/neg_acc = 0.84615385/1.0000000,                 pos_pred/all_pred = 11/20\n",
      "step 527| pos_acc/neg_acc = 1.00000000/0.3333333,                 pos_pred/all_pred = 16/20\n",
      "step 528| pos_acc/neg_acc = 0.27272727/1.0000000,                 pos_pred/all_pred =  3/20\n",
      "step 529| pos_acc/neg_acc = 1.00000000/0.4285714,                 pos_pred/all_pred = 17/20\n"
     ]
    },
    {
     "name": "stderr",
     "output_type": "stream",
     "text": [
      "INFO:SubjObjTrainer:   530: 1 [  105/  425], train_loss/accuracy = 0.15660666/0.7850000\n"
     ]
    },
    {
     "name": "stdout",
     "output_type": "stream",
     "text": [
      "   530: 1 [  105/  425], train_loss/accuracy = 0.15660666/0.7850000\n",
      "step 530| pos_acc/neg_acc = 0.61538462/1.0000000,                 pos_pred/all_pred =  8/20\n",
      "step 531| pos_acc/neg_acc = 1.00000000/0.2307692,                 pos_pred/all_pred = 17/20\n",
      "step 532| pos_acc/neg_acc = 0.37500000/1.0000000,                 pos_pred/all_pred =  3/20\n",
      "step 533| pos_acc/neg_acc = 1.00000000/0.6666667,                 pos_pred/all_pred = 12/20\n",
      "step 534| pos_acc/neg_acc = 0.55555556/1.0000000,                 pos_pred/all_pred =  5/20\n",
      "step 535| pos_acc/neg_acc = 1.00000000/0.7692308,                 pos_pred/all_pred = 10/20\n",
      "step 536| pos_acc/neg_acc = 0.50000000/1.0000000,                 pos_pred/all_pred =  3/20\n",
      "step 537| pos_acc/neg_acc = 1.00000000/0.8888889,                 pos_pred/all_pred = 12/20\n",
      "step 538| pos_acc/neg_acc = 0.87500000/0.9090909,                 pos_pred/all_pred =  9/20\n",
      "step 539| pos_acc/neg_acc = 0.71428571/1.0000000,                 pos_pred/all_pred =  6/20\n"
     ]
    },
    {
     "name": "stderr",
     "output_type": "stream",
     "text": [
      "INFO:SubjObjTrainer:   540: 1 [  115/  425], train_loss/accuracy = 0.17148963/0.8050000\n"
     ]
    },
    {
     "name": "stdout",
     "output_type": "stream",
     "text": [
      "   540: 1 [  115/  425], train_loss/accuracy = 0.17148963/0.8050000\n",
      "step 540| pos_acc/neg_acc = 0.87500000/0.9090909,                 pos_pred/all_pred =  9/20\n",
      "step 541| pos_acc/neg_acc = 0.90000000/0.8888889,                 pos_pred/all_pred = 11/20\n",
      "step 542| pos_acc/neg_acc = 1.00000000/0.8571429,                 pos_pred/all_pred = 14/20\n",
      "step 543| pos_acc/neg_acc = 0.91666667/1.0000000,                 pos_pred/all_pred = 12/20\n",
      "step 544| pos_acc/neg_acc = 0.90000000/0.4444444,                 pos_pred/all_pred = 15/20\n",
      "step 545| pos_acc/neg_acc = 0.50000000/0.9166667,                 pos_pred/all_pred =  5/20\n",
      "step 546| pos_acc/neg_acc = 0.85714286/0.9230769,                 pos_pred/all_pred =  7/20\n",
      "step 547| pos_acc/neg_acc = 0.54545455/1.0000000,                 pos_pred/all_pred =  7/20\n",
      "step 548| pos_acc/neg_acc = 1.00000000/1.0000000,                 pos_pred/all_pred = 10/20\n",
      "step 549| pos_acc/neg_acc = 0.91666667/0.5714286,                 pos_pred/all_pred = 15/20\n"
     ]
    },
    {
     "name": "stderr",
     "output_type": "stream",
     "text": [
      "INFO:SubjObjTrainer:   550: 1 [  125/  425], train_loss/accuracy = 0.12861572/0.8550000\n"
     ]
    },
    {
     "name": "stdout",
     "output_type": "stream",
     "text": [
      "   550: 1 [  125/  425], train_loss/accuracy = 0.12861572/0.8550000\n",
      "step 550| pos_acc/neg_acc = 0.75000000/1.0000000,                 pos_pred/all_pred =  6/20\n",
      "step 551| pos_acc/neg_acc = 0.77777778/0.9090909,                 pos_pred/all_pred =  8/20\n",
      "step 552| pos_acc/neg_acc = 1.00000000/1.0000000,                 pos_pred/all_pred = 13/20\n",
      "step 553| pos_acc/neg_acc = 1.00000000/0.6923077,                 pos_pred/all_pred = 11/20\n",
      "step 554| pos_acc/neg_acc = 0.62500000/1.0000000,                 pos_pred/all_pred =  5/20\n",
      "step 555| pos_acc/neg_acc = 1.00000000/1.0000000,                 pos_pred/all_pred =  7/20\n",
      "step 556| pos_acc/neg_acc = 0.33333333/1.0000000,                 pos_pred/all_pred =  2/20\n",
      "step 557| pos_acc/neg_acc = 1.00000000/0.6363636,                 pos_pred/all_pred = 13/20\n",
      "step 558| pos_acc/neg_acc = 0.40000000/1.0000000,                 pos_pred/all_pred =  4/20\n",
      "step 559| pos_acc/neg_acc = 1.00000000/0.1000000,                 pos_pred/all_pred = 19/20\n"
     ]
    },
    {
     "name": "stderr",
     "output_type": "stream",
     "text": [
      "INFO:SubjObjTrainer:   560: 1 [  135/  425], train_loss/accuracy = 0.14576802/0.8200000\n"
     ]
    },
    {
     "name": "stdout",
     "output_type": "stream",
     "text": [
      "   560: 1 [  135/  425], train_loss/accuracy = 0.14576802/0.8200000\n",
      "step 560| pos_acc/neg_acc = 0.20000000/1.0000000,                 pos_pred/all_pred =  2/20\n",
      "step 561| pos_acc/neg_acc = 1.00000000/0.0000000,                 pos_pred/all_pred = 20/20\n",
      "step 562| pos_acc/neg_acc = 0.00000000/1.0000000,                 pos_pred/all_pred =  0/20\n",
      "step 563| pos_acc/neg_acc = 1.00000000/0.0000000,                 pos_pred/all_pred = 20/20\n",
      "step 564| pos_acc/neg_acc = 0.00000000/1.0000000,                 pos_pred/all_pred =  0/20\n",
      "step 565| pos_acc/neg_acc = 1.00000000/0.0909091,                 pos_pred/all_pred = 19/20\n",
      "step 566| pos_acc/neg_acc = 0.66666667/1.0000000,                 pos_pred/all_pred =  6/20\n",
      "step 567| pos_acc/neg_acc = 1.00000000/0.8333333,                 pos_pred/all_pred = 10/20\n",
      "step 568| pos_acc/neg_acc = 0.92307692/1.0000000,                 pos_pred/all_pred = 12/20\n",
      "step 569| pos_acc/neg_acc = 1.00000000/0.6153846,                 pos_pred/all_pred = 12/20\n"
     ]
    },
    {
     "name": "stderr",
     "output_type": "stream",
     "text": [
      "INFO:SubjObjTrainer:   570: 1 [  145/  425], train_loss/accuracy = 0.35121521/0.6350000\n"
     ]
    },
    {
     "name": "stdout",
     "output_type": "stream",
     "text": [
      "   570: 1 [  145/  425], train_loss/accuracy = 0.35121521/0.6350000\n",
      "step 570| pos_acc/neg_acc = 0.33333333/1.0000000,                 pos_pred/all_pred =  3/20\n",
      "step 571| pos_acc/neg_acc = 1.00000000/0.2500000,                 pos_pred/all_pred = 18/20\n",
      "step 572| pos_acc/neg_acc = 0.83333333/1.0000000,                 pos_pred/all_pred =  6/20\n",
      "step 573| pos_acc/neg_acc = 0.53846154/1.0000000,                 pos_pred/all_pred =  7/20\n",
      "step 574| pos_acc/neg_acc = 1.00000000/0.3750000,                 pos_pred/all_pred = 17/20\n",
      "step 575| pos_acc/neg_acc = 0.76923077/1.0000000,                 pos_pred/all_pred = 10/20\n",
      "step 576| pos_acc/neg_acc = 1.00000000/0.8333333,                 pos_pred/all_pred = 10/20\n",
      "step 577| pos_acc/neg_acc = 0.30000000/1.0000000,                 pos_pred/all_pred =  3/20\n",
      "step 578| pos_acc/neg_acc = 1.00000000/0.6250000,                 pos_pred/all_pred = 15/20\n",
      "step 579| pos_acc/neg_acc = 0.87500000/1.0000000,                 pos_pred/all_pred =  7/20\n"
     ]
    },
    {
     "name": "stderr",
     "output_type": "stream",
     "text": [
      "INFO:SubjObjTrainer:   580: 1 [  155/  425], train_loss/accuracy = 0.15178291/0.8000000\n"
     ]
    },
    {
     "name": "stdout",
     "output_type": "stream",
     "text": [
      "   580: 1 [  155/  425], train_loss/accuracy = 0.15178291/0.8000000\n",
      "step 580| pos_acc/neg_acc = 0.91666667/1.0000000,                 pos_pred/all_pred = 11/20\n",
      "step 581| pos_acc/neg_acc = 1.00000000/0.8888889,                 pos_pred/all_pred = 11/20\n",
      "step 582| pos_acc/neg_acc = 0.84615385/1.0000000,                 pos_pred/all_pred = 11/20\n",
      "step 583| pos_acc/neg_acc = 1.00000000/0.5000000,                 pos_pred/all_pred = 15/20\n",
      "step 584| pos_acc/neg_acc = 0.66666667/1.0000000,                 pos_pred/all_pred =  7/20\n",
      "step 585| pos_acc/neg_acc = 1.00000000/0.7142857,                 pos_pred/all_pred = 10/20\n",
      "step 586| pos_acc/neg_acc = 0.16666667/1.0000000,                 pos_pred/all_pred =  2/20\n",
      "step 587| pos_acc/neg_acc = 1.00000000/0.1250000,                 pos_pred/all_pred = 19/20\n",
      "step 588| pos_acc/neg_acc = 0.27272727/1.0000000,                 pos_pred/all_pred =  3/20\n",
      "step 589| pos_acc/neg_acc = 1.00000000/0.1250000,                 pos_pred/all_pred = 19/20\n"
     ]
    },
    {
     "name": "stderr",
     "output_type": "stream",
     "text": [
      "INFO:SubjObjTrainer:   590: 1 [  165/  425], train_loss/accuracy = 0.20106851/0.7550000\n"
     ]
    },
    {
     "name": "stdout",
     "output_type": "stream",
     "text": [
      "   590: 1 [  165/  425], train_loss/accuracy = 0.20106851/0.7550000\n",
      "step 590| pos_acc/neg_acc = 0.75000000/1.0000000,                 pos_pred/all_pred =  9/20\n",
      "step 591| pos_acc/neg_acc = 1.00000000/0.8181818,                 pos_pred/all_pred = 11/20\n",
      "step 592| pos_acc/neg_acc = 0.22222222/1.0000000,                 pos_pred/all_pred =  3/20\n",
      "step 593| pos_acc/neg_acc = 1.00000000/0.8333333,                 pos_pred/all_pred = 15/20\n",
      "step 594| pos_acc/neg_acc = 1.00000000/0.8571429,                 pos_pred/all_pred = 14/20\n",
      "step 595| pos_acc/neg_acc = 1.00000000/0.7500000,                 pos_pred/all_pred = 11/20\n",
      "step 596| pos_acc/neg_acc = 0.28571429/1.0000000,                 pos_pred/all_pred =  3/20\n",
      "step 597| pos_acc/neg_acc = 1.00000000/0.6250000,                 pos_pred/all_pred = 15/20\n",
      "step 598| pos_acc/neg_acc = 0.45454545/1.0000000,                 pos_pred/all_pred =  6/20\n",
      "step 599| pos_acc/neg_acc = 1.00000000/0.2666667,                 pos_pred/all_pred = 16/20\n"
     ]
    },
    {
     "name": "stderr",
     "output_type": "stream",
     "text": [
      "INFO:SubjObjTrainer:   600: 1 [  175/  425], train_loss/accuracy = 0.16390528/0.7900000\n"
     ]
    },
    {
     "name": "stdout",
     "output_type": "stream",
     "text": [
      "   600: 1 [  175/  425], train_loss/accuracy = 0.16390528/0.7900000\n",
      "step 600| pos_acc/neg_acc = 0.20000000/1.0000000,                 pos_pred/all_pred =  2/20\n",
      "step 601| pos_acc/neg_acc = 1.00000000/0.2222222,                 pos_pred/all_pred = 18/20\n",
      "step 602| pos_acc/neg_acc = 0.62500000/1.0000000,                 pos_pred/all_pred =  5/20\n",
      "step 603| pos_acc/neg_acc = 1.00000000/1.0000000,                 pos_pred/all_pred = 11/20\n",
      "step 604| pos_acc/neg_acc = 0.72727273/1.0000000,                 pos_pred/all_pred =  9/20\n",
      "step 605| pos_acc/neg_acc = 1.00000000/0.3333333,                 pos_pred/all_pred = 17/20\n",
      "step 606| pos_acc/neg_acc = 0.66666667/1.0000000,                 pos_pred/all_pred =  6/20\n",
      "step 607| pos_acc/neg_acc = 0.90000000/0.7777778,                 pos_pred/all_pred = 12/20\n",
      "step 608| pos_acc/neg_acc = 0.77777778/1.0000000,                 pos_pred/all_pred =  8/20\n",
      "step 609| pos_acc/neg_acc = 1.00000000/0.8333333,                 pos_pred/all_pred = 10/20\n"
     ]
    },
    {
     "name": "stderr",
     "output_type": "stream",
     "text": [
      "INFO:SubjObjTrainer:   610: 1 [  185/  425], train_loss/accuracy = 0.15467666/0.8150000\n"
     ]
    },
    {
     "name": "stdout",
     "output_type": "stream",
     "text": [
      "   610: 1 [  185/  425], train_loss/accuracy = 0.15467666/0.8150000\n",
      "step 610| pos_acc/neg_acc = 0.80000000/1.0000000,                 pos_pred/all_pred =  9/20\n",
      "step 611| pos_acc/neg_acc = 1.00000000/0.6470588,                 pos_pred/all_pred =  9/20\n",
      "step 612| pos_acc/neg_acc = 0.25000000/1.0000000,                 pos_pred/all_pred =  2/20\n",
      "step 613| pos_acc/neg_acc = 1.00000000/0.4166667,                 pos_pred/all_pred = 15/20\n",
      "step 614| pos_acc/neg_acc = 0.50000000/1.0000000,                 pos_pred/all_pred =  3/20\n",
      "step 615| pos_acc/neg_acc = 0.80000000/1.0000000,                 pos_pred/all_pred =  8/20\n",
      "step 616| pos_acc/neg_acc = 1.00000000/1.0000000,                 pos_pred/all_pred =  8/20\n",
      "step 617| pos_acc/neg_acc = 0.66666667/1.0000000,                 pos_pred/all_pred =  8/20\n",
      "step 618| pos_acc/neg_acc = 1.00000000/0.2857143,                 pos_pred/all_pred = 18/20\n",
      "step 619| pos_acc/neg_acc = 0.73333333/1.0000000,                 pos_pred/all_pred = 12/20\n"
     ]
    },
    {
     "name": "stderr",
     "output_type": "stream",
     "text": [
      "INFO:SubjObjTrainer:   620: 1 [  195/  425], train_loss/accuracy = 0.16096954/0.8000000\n"
     ]
    },
    {
     "name": "stdout",
     "output_type": "stream",
     "text": [
      "   620: 1 [  195/  425], train_loss/accuracy = 0.16096954/0.8000000\n",
      "step 620| pos_acc/neg_acc = 1.00000000/0.1818182,                 pos_pred/all_pred = 18/20\n",
      "step 621| pos_acc/neg_acc = 0.22222222/1.0000000,                 pos_pred/all_pred =  2/20\n",
      "step 622| pos_acc/neg_acc = 1.00000000/0.3333333,                 pos_pred/all_pred = 16/20\n",
      "step 623| pos_acc/neg_acc = 0.50000000/1.0000000,                 pos_pred/all_pred =  5/20\n",
      "step 624| pos_acc/neg_acc = 1.00000000/0.6363636,                 pos_pred/all_pred = 13/20\n",
      "step 625| pos_acc/neg_acc = 0.60000000/1.0000000,                 pos_pred/all_pred =  6/20\n",
      "step 626| pos_acc/neg_acc = 1.00000000/0.2500000,                 pos_pred/all_pred = 18/20\n",
      "step 627| pos_acc/neg_acc = 0.20000000/1.0000000,                 pos_pred/all_pred =  2/20\n",
      "step 628| pos_acc/neg_acc = 1.00000000/0.4000000,                 pos_pred/all_pred = 16/20\n",
      "step 629| pos_acc/neg_acc = 0.63636364/1.0000000,                 pos_pred/all_pred =  8/20\n"
     ]
    },
    {
     "name": "stderr",
     "output_type": "stream",
     "text": [
      "INFO:SubjObjTrainer:   630: 1 [  205/  425], train_loss/accuracy = 0.22168007/0.6950000\n"
     ]
    },
    {
     "name": "stdout",
     "output_type": "stream",
     "text": [
      "   630: 1 [  205/  425], train_loss/accuracy = 0.22168007/0.6950000\n",
      "step 630| pos_acc/neg_acc = 1.00000000/0.6666667,                 pos_pred/all_pred = 14/20\n",
      "step 631| pos_acc/neg_acc = 0.83333333/0.9230769,                 pos_pred/all_pred =  7/20\n",
      "step 632| pos_acc/neg_acc = 0.81818182/1.0000000,                 pos_pred/all_pred =  9/20\n",
      "step 633| pos_acc/neg_acc = 1.00000000/0.7272727,                 pos_pred/all_pred = 12/20\n",
      "step 634| pos_acc/neg_acc = 0.50000000/1.0000000,                 pos_pred/all_pred =  3/20\n",
      "step 635| pos_acc/neg_acc = 1.00000000/0.8571429,                 pos_pred/all_pred = 14/20\n",
      "step 636| pos_acc/neg_acc = 1.00000000/1.0000000,                 pos_pred/all_pred =  8/20\n",
      "step 637| pos_acc/neg_acc = 0.50000000/1.0000000,                 pos_pred/all_pred =  5/20\n",
      "step 638| pos_acc/neg_acc = 1.00000000/0.7692308,                 pos_pred/all_pred = 10/20\n",
      "step 639| pos_acc/neg_acc = 0.66666667/1.0000000,                 pos_pred/all_pred =  7/20\n"
     ]
    },
    {
     "name": "stderr",
     "output_type": "stream",
     "text": [
      "INFO:SubjObjTrainer:   640: 1 [  215/  425], train_loss/accuracy = 0.11686913/0.8800000\n"
     ]
    },
    {
     "name": "stdout",
     "output_type": "stream",
     "text": [
      "   640: 1 [  215/  425], train_loss/accuracy = 0.11686913/0.8800000\n",
      "step 640| pos_acc/neg_acc = 1.00000000/0.8333333,                 pos_pred/all_pred = 10/20\n",
      "step 641| pos_acc/neg_acc = 0.54545455/1.0000000,                 pos_pred/all_pred =  7/20\n",
      "step 642| pos_acc/neg_acc = 1.00000000/0.8333333,                 pos_pred/all_pred = 10/20\n",
      "step 643| pos_acc/neg_acc = 0.54545455/1.0000000,                 pos_pred/all_pred =  6/20\n",
      "step 644| pos_acc/neg_acc = 1.00000000/0.5714286,                 pos_pred/all_pred = 16/20\n",
      "step 645| pos_acc/neg_acc = 0.75000000/1.0000000,                 pos_pred/all_pred =  6/20\n",
      "step 646| pos_acc/neg_acc = 0.85714286/0.8333333,                 pos_pred/all_pred = 13/20\n",
      "step 647| pos_acc/neg_acc = 1.00000000/0.8333333,                 pos_pred/all_pred = 10/20\n",
      "step 648| pos_acc/neg_acc = 0.88888889/1.0000000,                 pos_pred/all_pred =  8/20\n",
      "step 649| pos_acc/neg_acc = 0.72727273/0.8750000,                 pos_pred/all_pred = 10/20\n"
     ]
    },
    {
     "name": "stderr",
     "output_type": "stream",
     "text": [
      "INFO:SubjObjTrainer:   650: 1 [  225/  425], train_loss/accuracy = 0.12460996/0.8550000\n"
     ]
    },
    {
     "name": "stdout",
     "output_type": "stream",
     "text": [
      "   650: 1 [  225/  425], train_loss/accuracy = 0.12460996/0.8550000\n",
      "step 650| pos_acc/neg_acc = 1.00000000/0.9090909,                 pos_pred/all_pred = 10/20\n",
      "step 651| pos_acc/neg_acc = 0.33333333/1.0000000,                 pos_pred/all_pred =  5/20\n",
      "step 652| pos_acc/neg_acc = 1.00000000/0.1818182,                 pos_pred/all_pred = 18/20\n",
      "step 653| pos_acc/neg_acc = 0.14285714/1.0000000,                 pos_pred/all_pred =  1/20\n",
      "step 654| pos_acc/neg_acc = 1.00000000/0.3846154,                 pos_pred/all_pred = 15/20\n",
      "step 655| pos_acc/neg_acc = 0.00000000/1.0000000,                 pos_pred/all_pred =  0/20\n",
      "step 656| pos_acc/neg_acc = 1.00000000/0.0000000,                 pos_pred/all_pred = 20/20\n",
      "step 657| pos_acc/neg_acc = 0.11111111/1.0000000,                 pos_pred/all_pred =  1/20\n",
      "step 658| pos_acc/neg_acc = 1.00000000/0.6666667,                 pos_pred/all_pred = 16/20\n",
      "step 659| pos_acc/neg_acc = 0.62500000/1.0000000,                 pos_pred/all_pred =  5/20\n"
     ]
    },
    {
     "name": "stderr",
     "output_type": "stream",
     "text": [
      "INFO:SubjObjTrainer:   660: 1 [  235/  425], train_loss/accuracy = 0.28344142/0.6750000\n"
     ]
    },
    {
     "name": "stdout",
     "output_type": "stream",
     "text": [
      "   660: 1 [  235/  425], train_loss/accuracy = 0.28344142/0.6750000\n",
      "step 660| pos_acc/neg_acc = 0.90000000/1.0000000,                 pos_pred/all_pred = 10/20\n",
      "step 661| pos_acc/neg_acc = 0.90000000/1.0000000,                 pos_pred/all_pred =  9/20\n",
      "step 662| pos_acc/neg_acc = 0.83333333/1.0000000,                 pos_pred/all_pred = 10/20\n",
      "step 663| pos_acc/neg_acc = 1.00000000/1.0000000,                 pos_pred/all_pred =  6/20\n",
      "step 664| pos_acc/neg_acc = 0.41666667/1.0000000,                 pos_pred/all_pred =  6/20\n",
      "step 665| pos_acc/neg_acc = 1.00000000/0.1666667,                 pos_pred/all_pred = 18/20\n",
      "step 666| pos_acc/neg_acc = 0.33333333/1.0000000,                 pos_pred/all_pred =  4/20\n",
      "step 667| pos_acc/neg_acc = 1.00000000/0.5000000,                 pos_pred/all_pred = 15/20\n",
      "step 668| pos_acc/neg_acc = 0.75000000/1.0000000,                 pos_pred/all_pred = 10/20\n",
      "step 669| pos_acc/neg_acc = 1.00000000/0.3333333,                 pos_pred/all_pred = 17/20\n"
     ]
    },
    {
     "name": "stderr",
     "output_type": "stream",
     "text": [
      "INFO:SubjObjTrainer:   670: 1 [  245/  425], train_loss/accuracy = 0.17261867/0.7950000\n"
     ]
    },
    {
     "name": "stdout",
     "output_type": "stream",
     "text": [
      "   670: 1 [  245/  425], train_loss/accuracy = 0.17261867/0.7950000\n",
      "step 670| pos_acc/neg_acc = 0.50000000/0.9090909,                 pos_pred/all_pred =  5/20\n",
      "step 671| pos_acc/neg_acc = 1.00000000/1.0000000,                 pos_pred/all_pred =  4/20\n",
      "step 672| pos_acc/neg_acc = 0.70000000/1.0000000,                 pos_pred/all_pred =  7/20\n",
      "step 673| pos_acc/neg_acc = 0.91666667/0.7142857,                 pos_pred/all_pred = 14/20\n",
      "step 674| pos_acc/neg_acc = 0.88888889/0.9090909,                 pos_pred/all_pred =  9/20\n",
      "step 675| pos_acc/neg_acc = 0.62500000/1.0000000,                 pos_pred/all_pred =  5/20\n",
      "step 676| pos_acc/neg_acc = 0.90000000/0.8888889,                 pos_pred/all_pred = 11/20\n",
      "step 677| pos_acc/neg_acc = 0.54545455/0.8888889,                 pos_pred/all_pred =  7/20\n",
      "step 678| pos_acc/neg_acc = 0.90000000/0.7000000,                 pos_pred/all_pred = 12/20\n",
      "step 679| pos_acc/neg_acc = 0.87500000/1.0000000,                 pos_pred/all_pred =  8/20\n"
     ]
    },
    {
     "name": "stderr",
     "output_type": "stream",
     "text": [
      "INFO:SubjObjTrainer:   680: 1 [  255/  425], train_loss/accuracy = 0.11793383/0.8450000\n"
     ]
    },
    {
     "name": "stdout",
     "output_type": "stream",
     "text": [
      "   680: 1 [  255/  425], train_loss/accuracy = 0.11793383/0.8450000\n",
      "step 680| pos_acc/neg_acc = 0.54545455/1.0000000,                 pos_pred/all_pred =  6/20\n",
      "step 681| pos_acc/neg_acc = 0.85714286/0.5000000,                 pos_pred/all_pred = 13/20\n",
      "step 682| pos_acc/neg_acc = 0.54545455/1.0000000,                 pos_pred/all_pred =  6/20\n",
      "step 683| pos_acc/neg_acc = 1.00000000/0.3636364,                 pos_pred/all_pred = 16/20\n",
      "step 684| pos_acc/neg_acc = 0.42857143/1.0000000,                 pos_pred/all_pred =  4/20\n",
      "step 685| pos_acc/neg_acc = 1.00000000/0.9000000,                 pos_pred/all_pred = 11/20\n",
      "step 686| pos_acc/neg_acc = 0.50000000/0.9090909,                 pos_pred/all_pred =  6/20\n",
      "step 687| pos_acc/neg_acc = 1.00000000/0.8888889,                 pos_pred/all_pred = 12/20\n",
      "step 688| pos_acc/neg_acc = 0.91666667/1.0000000,                 pos_pred/all_pred = 11/20\n",
      "step 689| pos_acc/neg_acc = 1.00000000/1.0000000,                 pos_pred/all_pred =  6/20\n"
     ]
    },
    {
     "name": "stderr",
     "output_type": "stream",
     "text": [
      "INFO:SubjObjTrainer:   690: 1 [  265/  425], train_loss/accuracy = 0.15259816/0.8150000\n"
     ]
    },
    {
     "name": "stdout",
     "output_type": "stream",
     "text": [
      "   690: 1 [  265/  425], train_loss/accuracy = 0.15259816/0.8150000\n",
      "step 690| pos_acc/neg_acc = 0.66666667/1.0000000,                 pos_pred/all_pred =  7/20\n",
      "step 691| pos_acc/neg_acc = 1.00000000/0.8750000,                 pos_pred/all_pred = 13/20\n",
      "step 692| pos_acc/neg_acc = 0.80000000/0.8571429,                 pos_pred/all_pred =  6/20\n",
      "step 693| pos_acc/neg_acc = 0.80000000/1.0000000,                 pos_pred/all_pred =  4/20\n",
      "step 694| pos_acc/neg_acc = 0.81818182/0.8888889,                 pos_pred/all_pred = 10/20\n",
      "step 695| pos_acc/neg_acc = 1.00000000/0.7777778,                 pos_pred/all_pred = 13/20\n",
      "step 696| pos_acc/neg_acc = 0.90000000/1.0000000,                 pos_pred/all_pred = 10/20\n",
      "step 697| pos_acc/neg_acc = 0.66666667/1.0000000,                 pos_pred/all_pred =  8/20\n",
      "step 698| pos_acc/neg_acc = 0.90909091/0.6250000,                 pos_pred/all_pred = 14/20\n",
      "step 699| pos_acc/neg_acc = 0.91666667/0.8571429,                 pos_pred/all_pred = 13/20\n"
     ]
    },
    {
     "name": "stderr",
     "output_type": "stream",
     "text": [
      "INFO:SubjObjTrainer:   700: 1 [  275/  425], train_loss/accuracy = 0.11076516/0.8750000\n"
     ]
    },
    {
     "name": "stdout",
     "output_type": "stream",
     "text": [
      "   700: 1 [  275/  425], train_loss/accuracy = 0.11076516/0.8750000\n",
      "step 700| pos_acc/neg_acc = 1.00000000/1.0000000,                 pos_pred/all_pred =  9/20\n",
      "step 701| pos_acc/neg_acc = 1.00000000/0.7500000,                 pos_pred/all_pred = 14/20\n",
      "step 702| pos_acc/neg_acc = 0.55555556/1.0000000,                 pos_pred/all_pred =  5/20\n",
      "step 703| pos_acc/neg_acc = 1.00000000/0.8181818,                 pos_pred/all_pred = 11/20\n",
      "step 704| pos_acc/neg_acc = 0.87500000/1.0000000,                 pos_pred/all_pred =  7/20\n",
      "step 705| pos_acc/neg_acc = 0.77777778/1.0000000,                 pos_pred/all_pred =  7/20\n",
      "step 706| pos_acc/neg_acc = 0.88888889/0.9090909,                 pos_pred/all_pred =  9/20\n",
      "step 707| pos_acc/neg_acc = 0.50000000/1.0000000,                 pos_pred/all_pred =  2/20\n",
      "step 708| pos_acc/neg_acc = 0.91666667/1.0000000,                 pos_pred/all_pred = 11/20\n",
      "step 709| pos_acc/neg_acc = 0.81818182/0.7777778,                 pos_pred/all_pred = 11/20\n"
     ]
    },
    {
     "name": "stderr",
     "output_type": "stream",
     "text": [
      "INFO:SubjObjTrainer:   710: 1 [  285/  425], train_loss/accuracy = 0.10116863/0.8950000\n"
     ]
    },
    {
     "name": "stdout",
     "output_type": "stream",
     "text": [
      "   710: 1 [  285/  425], train_loss/accuracy = 0.10116863/0.8950000\n",
      "step 710| pos_acc/neg_acc = 0.81818182/0.6250000,                 pos_pred/all_pred = 12/20\n",
      "step 711| pos_acc/neg_acc = 0.80000000/1.0000000,                 pos_pred/all_pred =  9/20\n",
      "step 712| pos_acc/neg_acc = 0.77777778/0.9000000,                 pos_pred/all_pred =  9/20\n",
      "step 713| pos_acc/neg_acc = 0.90909091/1.0000000,                 pos_pred/all_pred = 11/20\n",
      "step 714| pos_acc/neg_acc = 1.00000000/0.8000000,                 pos_pred/all_pred = 12/20\n",
      "step 715| pos_acc/neg_acc = 0.83333333/1.0000000,                 pos_pred/all_pred = 11/20\n",
      "step 716| pos_acc/neg_acc = 1.00000000/0.4444444,                 pos_pred/all_pred = 16/20\n",
      "step 717| pos_acc/neg_acc = 0.45454545/1.0000000,                 pos_pred/all_pred =  5/20\n",
      "step 718| pos_acc/neg_acc = 1.00000000/0.0000000,                 pos_pred/all_pred = 20/20\n",
      "step 719| pos_acc/neg_acc = 0.63636364/1.0000000,                 pos_pred/all_pred =  7/20\n"
     ]
    },
    {
     "name": "stderr",
     "output_type": "stream",
     "text": [
      "INFO:SubjObjTrainer:   720: 1 [  295/  425], train_loss/accuracy = 0.16917472/0.8000000\n"
     ]
    },
    {
     "name": "stdout",
     "output_type": "stream",
     "text": [
      "   720: 1 [  295/  425], train_loss/accuracy = 0.16917472/0.8000000\n",
      "step 720| pos_acc/neg_acc = 1.00000000/0.7000000,                 pos_pred/all_pred = 13/20\n",
      "step 721| pos_acc/neg_acc = 0.28571429/0.9166667,                 pos_pred/all_pred =  4/20\n",
      "step 722| pos_acc/neg_acc = 1.00000000/1.0000000,                 pos_pred/all_pred =  9/20\n",
      "step 723| pos_acc/neg_acc = 0.75000000/1.0000000,                 pos_pred/all_pred =  9/20\n",
      "step 724| pos_acc/neg_acc = 1.00000000/0.4615385,                 pos_pred/all_pred = 14/20\n",
      "step 725| pos_acc/neg_acc = 0.55555556/1.0000000,                 pos_pred/all_pred =  5/20\n",
      "step 726| pos_acc/neg_acc = 1.00000000/0.8181818,                 pos_pred/all_pred = 11/20\n",
      "step 727| pos_acc/neg_acc = 0.58333333/1.0000000,                 pos_pred/all_pred =  8/20\n",
      "step 728| pos_acc/neg_acc = 1.00000000/0.6666667,                 pos_pred/all_pred = 12/20\n",
      "step 729| pos_acc/neg_acc = 0.25000000/1.0000000,                 pos_pred/all_pred =  2/20\n"
     ]
    },
    {
     "name": "stderr",
     "output_type": "stream",
     "text": [
      "INFO:SubjObjTrainer:   730: 1 [  305/  425], train_loss/accuracy = 0.17364849/0.7950000\n"
     ]
    },
    {
     "name": "stdout",
     "output_type": "stream",
     "text": [
      "   730: 1 [  305/  425], train_loss/accuracy = 0.17364849/0.7950000\n",
      "step 730| pos_acc/neg_acc = 1.00000000/0.8333333,                 pos_pred/all_pred = 15/20\n",
      "step 731| pos_acc/neg_acc = 0.80000000/0.9000000,                 pos_pred/all_pred =  9/20\n",
      "step 732| pos_acc/neg_acc = 1.00000000/1.0000000,                 pos_pred/all_pred = 10/20\n",
      "step 733| pos_acc/neg_acc = 0.93333333/1.0000000,                 pos_pred/all_pred = 14/20\n",
      "step 734| pos_acc/neg_acc = 1.00000000/0.9000000,                 pos_pred/all_pred = 11/20\n",
      "step 735| pos_acc/neg_acc = 0.72727273/1.0000000,                 pos_pred/all_pred =  9/20\n",
      "step 736| pos_acc/neg_acc = 1.00000000/0.4166667,                 pos_pred/all_pred = 15/20\n",
      "step 737| pos_acc/neg_acc = 0.50000000/1.0000000,                 pos_pred/all_pred =  5/20\n",
      "step 738| pos_acc/neg_acc = 0.90909091/0.7777778,                 pos_pred/all_pred = 12/20\n",
      "step 739| pos_acc/neg_acc = 0.55555556/1.0000000,                 pos_pred/all_pred =  5/20\n"
     ]
    },
    {
     "name": "stderr",
     "output_type": "stream",
     "text": [
      "INFO:SubjObjTrainer:   740: 1 [  315/  425], train_loss/accuracy = 0.13449968/0.8550000\n"
     ]
    },
    {
     "name": "stdout",
     "output_type": "stream",
     "text": [
      "   740: 1 [  315/  425], train_loss/accuracy = 0.13449968/0.8550000\n",
      "step 740| pos_acc/neg_acc = 1.00000000/0.3636364,                 pos_pred/all_pred = 16/20\n",
      "step 741| pos_acc/neg_acc = 0.55555556/1.0000000,                 pos_pred/all_pred =  5/20\n",
      "step 742| pos_acc/neg_acc = 1.00000000/0.4545455,                 pos_pred/all_pred = 15/20\n",
      "step 743| pos_acc/neg_acc = 0.50000000/1.0000000,                 pos_pred/all_pred =  3/20\n",
      "step 744| pos_acc/neg_acc = 1.00000000/1.0000000,                 pos_pred/all_pred = 12/20\n",
      "step 745| pos_acc/neg_acc = 0.77777778/0.9000000,                 pos_pred/all_pred =  9/20\n",
      "step 746| pos_acc/neg_acc = 1.00000000/0.9230769,                 pos_pred/all_pred =  8/20\n",
      "step 747| pos_acc/neg_acc = 0.54545455/1.0000000,                 pos_pred/all_pred =  6/20\n",
      "step 748| pos_acc/neg_acc = 1.00000000/0.4615385,                 pos_pred/all_pred = 14/20\n",
      "step 749| pos_acc/neg_acc = 0.33333333/1.0000000,                 pos_pred/all_pred =  3/20\n"
     ]
    },
    {
     "name": "stderr",
     "output_type": "stream",
     "text": [
      "INFO:SubjObjTrainer:   750: 1 [  325/  425], train_loss/accuracy = 0.16607049/0.7800000\n"
     ]
    },
    {
     "name": "stdout",
     "output_type": "stream",
     "text": [
      "   750: 1 [  325/  425], train_loss/accuracy = 0.16607049/0.7800000\n",
      "step 750| pos_acc/neg_acc = 1.00000000/0.4444444,                 pos_pred/all_pred = 16/20\n",
      "step 751| pos_acc/neg_acc = 0.66666667/1.0000000,                 pos_pred/all_pred =  6/20\n",
      "step 752| pos_acc/neg_acc = 0.83333333/0.7500000,                 pos_pred/all_pred = 12/20\n",
      "step 753| pos_acc/neg_acc = 1.00000000/0.7142857,                 pos_pred/all_pred = 15/20\n",
      "step 754| pos_acc/neg_acc = 0.87500000/0.9090909,                 pos_pred/all_pred =  9/20\n",
      "step 755| pos_acc/neg_acc = 0.91666667/1.0000000,                 pos_pred/all_pred = 12/20\n",
      "step 756| pos_acc/neg_acc = 0.88888889/0.9000000,                 pos_pred/all_pred = 10/20\n",
      "step 757| pos_acc/neg_acc = 0.45454545/1.0000000,                 pos_pred/all_pred =  6/20\n",
      "step 758| pos_acc/neg_acc = 1.00000000/0.3333333,                 pos_pred/all_pred = 17/20\n",
      "step 759| pos_acc/neg_acc = 0.45454545/1.0000000,                 pos_pred/all_pred =  5/20\n"
     ]
    },
    {
     "name": "stderr",
     "output_type": "stream",
     "text": [
      "INFO:SubjObjTrainer:   760: 1 [  335/  425], train_loss/accuracy = 0.14024113/0.8100000\n"
     ]
    },
    {
     "name": "stdout",
     "output_type": "stream",
     "text": [
      "   760: 1 [  335/  425], train_loss/accuracy = 0.14024113/0.8100000\n",
      "step 760| pos_acc/neg_acc = 1.00000000/0.3636364,                 pos_pred/all_pred = 16/20\n",
      "step 761| pos_acc/neg_acc = 0.45454545/1.0000000,                 pos_pred/all_pred =  5/20\n",
      "step 762| pos_acc/neg_acc = 1.00000000/0.5000000,                 pos_pred/all_pred = 17/20\n",
      "step 763| pos_acc/neg_acc = 0.88888889/1.0000000,                 pos_pred/all_pred =  9/20\n",
      "step 764| pos_acc/neg_acc = 0.81818182/1.0000000,                 pos_pred/all_pred =  9/20\n",
      "step 765| pos_acc/neg_acc = 0.83333333/1.0000000,                 pos_pred/all_pred = 10/20\n",
      "step 766| pos_acc/neg_acc = 1.00000000/0.4545455,                 pos_pred/all_pred = 15/20\n",
      "step 767| pos_acc/neg_acc = 0.30000000/1.0000000,                 pos_pred/all_pred =  3/20\n",
      "step 768| pos_acc/neg_acc = 1.00000000/0.5000000,                 pos_pred/all_pred = 15/20\n",
      "step 769| pos_acc/neg_acc = 0.50000000/1.0000000,                 pos_pred/all_pred =  4/20\n"
     ]
    },
    {
     "name": "stderr",
     "output_type": "stream",
     "text": [
      "INFO:SubjObjTrainer:   770: 1 [  345/  425], train_loss/accuracy = 0.16120011/0.7800000\n"
     ]
    },
    {
     "name": "stdout",
     "output_type": "stream",
     "text": [
      "   770: 1 [  345/  425], train_loss/accuracy = 0.16120011/0.7800000\n",
      "step 770| pos_acc/neg_acc = 0.87500000/1.0000000,                 pos_pred/all_pred =  8/20\n",
      "step 771| pos_acc/neg_acc = 0.92307692/0.8333333,                 pos_pred/all_pred = 14/20\n",
      "step 772| pos_acc/neg_acc = 0.84615385/0.8333333,                 pos_pred/all_pred = 13/20\n",
      "step 773| pos_acc/neg_acc = 1.00000000/1.0000000,                 pos_pred/all_pred = 10/20\n",
      "step 774| pos_acc/neg_acc = 0.50000000/1.0000000,                 pos_pred/all_pred =  3/20\n",
      "step 775| pos_acc/neg_acc = 1.00000000/0.9090909,                 pos_pred/all_pred = 10/20\n",
      "step 776| pos_acc/neg_acc = 0.88888889/1.0000000,                 pos_pred/all_pred =  9/20\n",
      "step 777| pos_acc/neg_acc = 1.00000000/0.9166667,                 pos_pred/all_pred =  9/20\n",
      "step 778| pos_acc/neg_acc = 0.66666667/0.9000000,                 pos_pred/all_pred =  8/20\n",
      "step 779| pos_acc/neg_acc = 1.00000000/1.0000000,                 pos_pred/all_pred =  9/20\n"
     ]
    },
    {
     "name": "stderr",
     "output_type": "stream",
     "text": [
      "INFO:SubjObjTrainer:   780: 1 [  355/  425], train_loss/accuracy = 0.09655292/0.9200000\n"
     ]
    },
    {
     "name": "stdout",
     "output_type": "stream",
     "text": [
      "   780: 1 [  355/  425], train_loss/accuracy = 0.09655292/0.9200000\n",
      "step 780| pos_acc/neg_acc = 1.00000000/0.8888889,                 pos_pred/all_pred = 12/20\n",
      "step 781| pos_acc/neg_acc = 0.33333333/1.0000000,                 pos_pred/all_pred =  3/20\n",
      "step 782| pos_acc/neg_acc = 1.00000000/0.8461538,                 pos_pred/all_pred =  9/20\n",
      "step 783| pos_acc/neg_acc = 0.44444444/1.0000000,                 pos_pred/all_pred =  5/20\n",
      "step 784| pos_acc/neg_acc = 1.00000000/0.2500000,                 pos_pred/all_pred = 18/20\n",
      "step 785| pos_acc/neg_acc = 0.80000000/1.0000000,                 pos_pred/all_pred =  4/20\n",
      "step 786| pos_acc/neg_acc = 0.87500000/1.0000000,                 pos_pred/all_pred =  7/20\n",
      "step 787| pos_acc/neg_acc = 0.91666667/0.8750000,                 pos_pred/all_pred = 12/20\n",
      "step 788| pos_acc/neg_acc = 1.00000000/1.0000000,                 pos_pred/all_pred =  7/20\n",
      "step 789| pos_acc/neg_acc = 0.75000000/1.0000000,                 pos_pred/all_pred =  6/20\n"
     ]
    },
    {
     "name": "stderr",
     "output_type": "stream",
     "text": [
      "INFO:SubjObjTrainer:   790: 1 [  365/  425], train_loss/accuracy = 0.10052524/0.8750000\n"
     ]
    },
    {
     "name": "stdout",
     "output_type": "stream",
     "text": [
      "   790: 1 [  365/  425], train_loss/accuracy = 0.10052524/0.8750000\n",
      "step 790| pos_acc/neg_acc = 0.80000000/0.5555556,                 pos_pred/all_pred = 13/20\n",
      "step 791| pos_acc/neg_acc = 0.75000000/1.0000000,                 pos_pred/all_pred =  9/20\n",
      "step 792| pos_acc/neg_acc = 0.85714286/0.9166667,                 pos_pred/all_pred =  8/20\n",
      "step 793| pos_acc/neg_acc = 0.77777778/1.0000000,                 pos_pred/all_pred =  7/20\n",
      "step 794| pos_acc/neg_acc = 0.91666667/0.8750000,                 pos_pred/all_pred = 12/20\n",
      "step 795| pos_acc/neg_acc = 1.00000000/0.8888889,                 pos_pred/all_pred = 12/20\n",
      "step 796| pos_acc/neg_acc = 1.00000000/1.0000000,                 pos_pred/all_pred = 10/20\n",
      "step 797| pos_acc/neg_acc = 1.00000000/0.9090909,                 pos_pred/all_pred = 10/20\n",
      "step 798| pos_acc/neg_acc = 0.37500000/1.0000000,                 pos_pred/all_pred =  4/20\n",
      "step 799| pos_acc/neg_acc = 1.00000000/0.5000000,                 pos_pred/all_pred = 16/20\n"
     ]
    },
    {
     "name": "stderr",
     "output_type": "stream",
     "text": [
      "INFO:SubjObjTrainer:   800: 1 [  375/  425], train_loss/accuracy = 0.10304844/0.8700000\n"
     ]
    },
    {
     "name": "stdout",
     "output_type": "stream",
     "text": [
      "   800: 1 [  375/  425], train_loss/accuracy = 0.10304844/0.8700000\n",
      "step 800| pos_acc/neg_acc = 0.60000000/1.0000000,                 pos_pred/all_pred =  6/20\n",
      "step 801| pos_acc/neg_acc = 0.91666667/0.7142857,                 pos_pred/all_pred = 14/20\n",
      "step 802| pos_acc/neg_acc = 0.70000000/0.9000000,                 pos_pred/all_pred =  8/20\n",
      "step 803| pos_acc/neg_acc = 1.00000000/0.8181818,                 pos_pred/all_pred = 11/20\n",
      "step 804| pos_acc/neg_acc = 0.55555556/1.0000000,                 pos_pred/all_pred =  5/20\n",
      "step 805| pos_acc/neg_acc = 1.00000000/0.8750000,                 pos_pred/all_pred = 13/20\n",
      "step 806| pos_acc/neg_acc = 1.00000000/1.0000000,                 pos_pred/all_pred =  6/20\n",
      "step 807| pos_acc/neg_acc = 0.75000000/1.0000000,                 pos_pred/all_pred =  6/20\n",
      "step 808| pos_acc/neg_acc = 0.90909091/0.8750000,                 pos_pred/all_pred = 12/20\n",
      "step 809| pos_acc/neg_acc = 0.75000000/0.8333333,                 pos_pred/all_pred =  8/20\n"
     ]
    },
    {
     "name": "stderr",
     "output_type": "stream",
     "text": [
      "INFO:SubjObjTrainer:   810: 1 [  385/  425], train_loss/accuracy = 0.11122411/0.8650000\n"
     ]
    },
    {
     "name": "stdout",
     "output_type": "stream",
     "text": [
      "   810: 1 [  385/  425], train_loss/accuracy = 0.11122411/0.8650000\n",
      "step 810| pos_acc/neg_acc = 0.63636364/1.0000000,                 pos_pred/all_pred =  8/20\n",
      "step 811| pos_acc/neg_acc = 1.00000000/0.5555556,                 pos_pred/all_pred = 15/20\n",
      "step 812| pos_acc/neg_acc = 0.72727273/1.0000000,                 pos_pred/all_pred =  8/20\n",
      "step 813| pos_acc/neg_acc = 1.00000000/0.4444444,                 pos_pred/all_pred = 16/20\n",
      "step 814| pos_acc/neg_acc = 0.77777778/1.0000000,                 pos_pred/all_pred =  7/20\n",
      "step 815| pos_acc/neg_acc = 1.00000000/0.8750000,                 pos_pred/all_pred = 13/20\n",
      "step 816| pos_acc/neg_acc = 0.90000000/1.0000000,                 pos_pred/all_pred =  9/20\n",
      "step 817| pos_acc/neg_acc = 0.91666667/1.0000000,                 pos_pred/all_pred = 11/20\n",
      "step 818| pos_acc/neg_acc = 0.90909091/0.8888889,                 pos_pred/all_pred = 11/20\n",
      "step 819| pos_acc/neg_acc = 0.90909091/1.0000000,                 pos_pred/all_pred = 10/20\n"
     ]
    },
    {
     "name": "stderr",
     "output_type": "stream",
     "text": [
      "INFO:SubjObjTrainer:   820: 1 [  395/  425], train_loss/accuracy = 0.12581067/0.8750000\n"
     ]
    },
    {
     "name": "stdout",
     "output_type": "stream",
     "text": [
      "   820: 1 [  395/  425], train_loss/accuracy = 0.12581067/0.8750000\n",
      "step 820| pos_acc/neg_acc = 1.00000000/0.8750000,                 pos_pred/all_pred = 13/20\n",
      "step 821| pos_acc/neg_acc = 1.00000000/0.8461538,                 pos_pred/all_pred =  9/20\n",
      "step 822| pos_acc/neg_acc = 0.38461538/1.0000000,                 pos_pred/all_pred =  5/20\n",
      "step 823| pos_acc/neg_acc = 1.00000000/0.0000000,                 pos_pred/all_pred = 20/20\n",
      "step 824| pos_acc/neg_acc = 0.20000000/1.0000000,                 pos_pred/all_pred =  2/20\n",
      "step 825| pos_acc/neg_acc = 1.00000000/0.1000000,                 pos_pred/all_pred = 19/20\n",
      "step 826| pos_acc/neg_acc = 0.75000000/1.0000000,                 pos_pred/all_pred = 10/20\n",
      "step 827| pos_acc/neg_acc = 1.00000000/0.8888889,                 pos_pred/all_pred = 12/20\n",
      "step 828| pos_acc/neg_acc = 0.88888889/1.0000000,                 pos_pred/all_pred =  9/20\n",
      "step 829| pos_acc/neg_acc = 1.00000000/1.0000000,                 pos_pred/all_pred =  7/20\n"
     ]
    },
    {
     "name": "stderr",
     "output_type": "stream",
     "text": [
      "INFO:SubjObjTrainer:   830: 1 [  405/  425], train_loss/accuracy = 0.20330997/0.7700000\n"
     ]
    },
    {
     "name": "stdout",
     "output_type": "stream",
     "text": [
      "   830: 1 [  405/  425], train_loss/accuracy = 0.20330997/0.7700000\n",
      "step 830| pos_acc/neg_acc = 0.88888889/1.0000000,                 pos_pred/all_pred =  8/20\n",
      "step 831| pos_acc/neg_acc = 0.88888889/0.9090909,                 pos_pred/all_pred =  9/20\n",
      "step 832| pos_acc/neg_acc = 0.81818182/1.0000000,                 pos_pred/all_pred =  9/20\n",
      "step 833| pos_acc/neg_acc = 1.00000000/0.3750000,                 pos_pred/all_pred = 17/20\n",
      "step 834| pos_acc/neg_acc = 0.50000000/1.0000000,                 pos_pred/all_pred =  5/20\n",
      "step 835| pos_acc/neg_acc = 1.00000000/0.7142857,                 pos_pred/all_pred = 15/20\n",
      "step 836| pos_acc/neg_acc = 0.62500000/1.0000000,                 pos_pred/all_pred =  6/20\n",
      "step 837| pos_acc/neg_acc = 1.00000000/0.8888889,                 pos_pred/all_pred = 12/20\n",
      "step 838| pos_acc/neg_acc = 1.00000000/1.0000000,                 pos_pred/all_pred =  6/20\n",
      "step 839| pos_acc/neg_acc = 0.75000000/1.0000000,                 pos_pred/all_pred =  9/20\n"
     ]
    },
    {
     "name": "stderr",
     "output_type": "stream",
     "text": [
      "INFO:SubjObjTrainer:   840: 1 [  415/  425], train_loss/accuracy = 0.11767741/0.8700000\n"
     ]
    },
    {
     "name": "stdout",
     "output_type": "stream",
     "text": [
      "   840: 1 [  415/  425], train_loss/accuracy = 0.11767741/0.8700000\n",
      "step 840| pos_acc/neg_acc = 1.00000000/0.2500000,                 pos_pred/all_pred = 17/20\n",
      "step 841| pos_acc/neg_acc = 0.50000000/1.0000000,                 pos_pred/all_pred =  5/20\n",
      "step 842| pos_acc/neg_acc = 1.00000000/0.6363636,                 pos_pred/all_pred = 13/20\n",
      "step 843| pos_acc/neg_acc = 0.70000000/1.0000000,                 pos_pred/all_pred =  7/20\n",
      "step 844| pos_acc/neg_acc = 1.00000000/0.9090909,                 pos_pred/all_pred = 10/20\n",
      "step 845| pos_acc/neg_acc = 0.90000000/1.0000000,                 pos_pred/all_pred = 10/20\n",
      "step 846| pos_acc/neg_acc = 0.91666667/0.8750000,                 pos_pred/all_pred = 12/20\n",
      "step 847| pos_acc/neg_acc = 1.00000000/1.0000000,                 pos_pred/all_pred = 12/20\n",
      "step 848| pos_acc/neg_acc = 1.00000000/0.9000000,                 pos_pred/all_pred = 11/20\n",
      "step 849| pos_acc/neg_acc = 1.00000000/1.0000000,                 pos_pred/all_pred =  8/20\n"
     ]
    },
    {
     "name": "stderr",
     "output_type": "stream",
     "text": [
      "INFO:SubjObjTrainer:   850: 1 [    0/  425], train_loss/accuracy = 0.12736128/0.8750000\n"
     ]
    },
    {
     "name": "stdout",
     "output_type": "stream",
     "text": [
      "   850: 1 [    0/  425], train_loss/accuracy = 0.12736128/0.8750000\n"
     ]
    },
    {
     "name": "stderr",
     "output_type": "stream",
     "text": [
      "INFO:SubjObjTrainer:[    1/   10], valid_loss/accuracy = 0.10402760/0.5320000\n"
     ]
    },
    {
     "name": "stdout",
     "output_type": "stream",
     "text": [
      "[    1/   10], valid_loss/accuracy = 0.10402760/0.5320000\n",
      "step 850| pos_acc/neg_acc = 0.85714286/1.0000000,                 pos_pred/all_pred = 12/20\n",
      "step 851| pos_acc/neg_acc = 1.00000000/0.7692308,                 pos_pred/all_pred = 10/20\n",
      "step 852| pos_acc/neg_acc = 0.45454545/1.0000000,                 pos_pred/all_pred =  5/20\n",
      "step 853| pos_acc/neg_acc = 1.00000000/0.8181818,                 pos_pred/all_pred = 11/20\n",
      "step 854| pos_acc/neg_acc = 0.57142857/1.0000000,                 pos_pred/all_pred =  4/20\n",
      "step 855| pos_acc/neg_acc = 0.88888889/0.8000000,                 pos_pred/all_pred = 11/20\n",
      "step 856| pos_acc/neg_acc = 0.62500000/1.0000000,                 pos_pred/all_pred =  5/20\n",
      "step 857| pos_acc/neg_acc = 0.83333333/0.7500000,                 pos_pred/all_pred = 12/20\n",
      "step 858| pos_acc/neg_acc = 0.87500000/1.0000000,                 pos_pred/all_pred =  7/20\n",
      "step 859| pos_acc/neg_acc = 0.88888889/1.0000000,                 pos_pred/all_pred =  8/20\n"
     ]
    },
    {
     "name": "stderr",
     "output_type": "stream",
     "text": [
      "INFO:SubjObjTrainer:   860: 2 [   10/  425], train_loss/accuracy = 0.11846967/0.8500000\n"
     ]
    },
    {
     "name": "stdout",
     "output_type": "stream",
     "text": [
      "   860: 2 [   10/  425], train_loss/accuracy = 0.11846967/0.8500000\n",
      "step 860| pos_acc/neg_acc = 1.00000000/1.0000000,                 pos_pred/all_pred = 11/20\n",
      "step 861| pos_acc/neg_acc = 1.00000000/1.0000000,                 pos_pred/all_pred = 11/20\n",
      "step 862| pos_acc/neg_acc = 0.88888889/1.0000000,                 pos_pred/all_pred =  8/20\n",
      "step 863| pos_acc/neg_acc = 1.00000000/1.0000000,                 pos_pred/all_pred =  6/20\n",
      "step 864| pos_acc/neg_acc = 0.50000000/1.0000000,                 pos_pred/all_pred =  3/20\n",
      "step 865| pos_acc/neg_acc = 1.00000000/0.9000000,                 pos_pred/all_pred = 11/20\n",
      "step 866| pos_acc/neg_acc = 0.80000000/1.0000000,                 pos_pred/all_pred =  4/20\n",
      "step 867| pos_acc/neg_acc = 1.00000000/1.0000000,                 pos_pred/all_pred =  9/20\n",
      "step 868| pos_acc/neg_acc = 1.00000000/1.0000000,                 pos_pred/all_pred =  8/20\n",
      "step 869| pos_acc/neg_acc = 0.80000000/1.0000000,                 pos_pred/all_pred =  8/20\n"
     ]
    },
    {
     "name": "stderr",
     "output_type": "stream",
     "text": [
      "INFO:SubjObjTrainer:   870: 2 [   20/  425], train_loss/accuracy = 0.06831536/0.9600000\n"
     ]
    },
    {
     "name": "stdout",
     "output_type": "stream",
     "text": [
      "   870: 2 [   20/  425], train_loss/accuracy = 0.06831536/0.9600000\n",
      "step 870| pos_acc/neg_acc = 1.00000000/1.0000000,                 pos_pred/all_pred =  8/20\n",
      "step 871| pos_acc/neg_acc = 0.83333333/1.0000000,                 pos_pred/all_pred = 11/20\n",
      "step 872| pos_acc/neg_acc = 0.90909091/0.7500000,                 pos_pred/all_pred = 13/20\n",
      "step 873| pos_acc/neg_acc = 1.00000000/1.0000000,                 pos_pred/all_pred =  6/20\n",
      "step 874| pos_acc/neg_acc = 0.88888889/1.0000000,                 pos_pred/all_pred =  9/20\n",
      "step 875| pos_acc/neg_acc = 1.00000000/1.0000000,                 pos_pred/all_pred =  6/20\n",
      "step 876| pos_acc/neg_acc = 0.80000000/1.0000000,                 pos_pred/all_pred =  8/20\n",
      "step 877| pos_acc/neg_acc = 1.00000000/0.9090909,                 pos_pred/all_pred = 10/20\n",
      "step 878| pos_acc/neg_acc = 0.77777778/1.0000000,                 pos_pred/all_pred =  8/20\n",
      "step 879| pos_acc/neg_acc = 1.00000000/1.0000000,                 pos_pred/all_pred = 13/20\n"
     ]
    },
    {
     "name": "stderr",
     "output_type": "stream",
     "text": [
      "INFO:SubjObjTrainer:   880: 2 [   30/  425], train_loss/accuracy = 0.07899203/0.9400000\n"
     ]
    },
    {
     "name": "stdout",
     "output_type": "stream",
     "text": [
      "   880: 2 [   30/  425], train_loss/accuracy = 0.07899203/0.9400000\n",
      "step 880| pos_acc/neg_acc = 0.83333333/1.0000000,                 pos_pred/all_pred =  5/20\n",
      "step 881| pos_acc/neg_acc = 0.92307692/1.0000000,                 pos_pred/all_pred = 13/20\n",
      "step 882| pos_acc/neg_acc = 0.75000000/0.8181818,                 pos_pred/all_pred =  9/20\n",
      "step 883| pos_acc/neg_acc = 0.44444444/1.0000000,                 pos_pred/all_pred =  5/20\n",
      "step 884| pos_acc/neg_acc = 1.00000000/0.6363636,                 pos_pred/all_pred = 13/20\n",
      "step 885| pos_acc/neg_acc = 0.87500000/1.0000000,                 pos_pred/all_pred =  7/20\n",
      "step 886| pos_acc/neg_acc = 0.41666667/1.0000000,                 pos_pred/all_pred =  5/20\n",
      "step 887| pos_acc/neg_acc = 1.00000000/0.2142857,                 pos_pred/all_pred = 17/20\n",
      "step 888| pos_acc/neg_acc = 0.07692308/1.0000000,                 pos_pred/all_pred =  1/20\n",
      "step 889| pos_acc/neg_acc = 1.00000000/0.0000000,                 pos_pred/all_pred = 20/20\n"
     ]
    },
    {
     "name": "stderr",
     "output_type": "stream",
     "text": [
      "INFO:SubjObjTrainer:   890: 2 [   40/  425], train_loss/accuracy = 0.22663994/0.7200000\n"
     ]
    },
    {
     "name": "stdout",
     "output_type": "stream",
     "text": [
      "   890: 2 [   40/  425], train_loss/accuracy = 0.22663994/0.7200000\n",
      "step 890| pos_acc/neg_acc = 0.33333333/1.0000000,                 pos_pred/all_pred =  2/20\n",
      "step 891| pos_acc/neg_acc = 1.00000000/0.7142857,                 pos_pred/all_pred = 15/20\n",
      "step 892| pos_acc/neg_acc = 0.55555556/1.0000000,                 pos_pred/all_pred =  6/20\n",
      "step 893| pos_acc/neg_acc = 1.00000000/0.7000000,                 pos_pred/all_pred = 13/20\n",
      "step 894| pos_acc/neg_acc = 0.83333333/1.0000000,                 pos_pred/all_pred = 11/20\n",
      "step 895| pos_acc/neg_acc = 0.90000000/1.0000000,                 pos_pred/all_pred =  9/20\n",
      "step 896| pos_acc/neg_acc = 1.00000000/0.9166667,                 pos_pred/all_pred =  9/20\n",
      "step 897| pos_acc/neg_acc = 0.60000000/1.0000000,                 pos_pred/all_pred =  6/20\n",
      "step 898| pos_acc/neg_acc = 1.00000000/0.7857143,                 pos_pred/all_pred =  9/20\n",
      "step 899| pos_acc/neg_acc = 0.57142857/1.0000000,                 pos_pred/all_pred =  4/20\n"
     ]
    },
    {
     "name": "stderr",
     "output_type": "stream",
     "text": [
      "INFO:SubjObjTrainer:   900: 2 [   50/  425], train_loss/accuracy = 0.12548099/0.8550000\n"
     ]
    },
    {
     "name": "stdout",
     "output_type": "stream",
     "text": [
      "   900: 2 [   50/  425], train_loss/accuracy = 0.12548099/0.8550000\n",
      "step 900| pos_acc/neg_acc = 1.00000000/0.8333333,                 pos_pred/all_pred = 15/20\n",
      "step 901| pos_acc/neg_acc = 1.00000000/0.9090909,                 pos_pred/all_pred = 10/20\n",
      "step 902| pos_acc/neg_acc = 0.83333333/1.0000000,                 pos_pred/all_pred = 11/20\n",
      "step 903| pos_acc/neg_acc = 1.00000000/0.8000000,                 pos_pred/all_pred = 12/20\n",
      "step 904| pos_acc/neg_acc = 0.57142857/1.0000000,                 pos_pred/all_pred =  4/20\n",
      "step 905| pos_acc/neg_acc = 0.90909091/0.7500000,                 pos_pred/all_pred = 13/20\n",
      "step 906| pos_acc/neg_acc = 1.00000000/0.9090909,                 pos_pred/all_pred = 10/20\n",
      "step 907| pos_acc/neg_acc = 0.77777778/1.0000000,                 pos_pred/all_pred =  7/20\n",
      "step 908| pos_acc/neg_acc = 0.91666667/1.0000000,                 pos_pred/all_pred = 12/20\n",
      "step 909| pos_acc/neg_acc = 1.00000000/0.9000000,                 pos_pred/all_pred = 11/20\n"
     ]
    },
    {
     "name": "stderr",
     "output_type": "stream",
     "text": [
      "INFO:SubjObjTrainer:   910: 2 [   60/  425], train_loss/accuracy = 0.08448088/0.9150000\n"
     ]
    },
    {
     "name": "stdout",
     "output_type": "stream",
     "text": [
      "   910: 2 [   60/  425], train_loss/accuracy = 0.08448088/0.9150000\n",
      "step 910| pos_acc/neg_acc = 0.90000000/1.0000000,                 pos_pred/all_pred = 10/20\n",
      "step 911| pos_acc/neg_acc = 0.83333333/0.8750000,                 pos_pred/all_pred = 11/20\n",
      "step 912| pos_acc/neg_acc = 1.00000000/0.9090909,                 pos_pred/all_pred = 10/20\n",
      "step 913| pos_acc/neg_acc = 0.75000000/0.9166667,                 pos_pred/all_pred =  7/20\n",
      "step 914| pos_acc/neg_acc = 0.90909091/1.0000000,                 pos_pred/all_pred = 10/20\n",
      "step 915| pos_acc/neg_acc = 1.00000000/0.6666667,                 pos_pred/all_pred = 14/20\n",
      "step 916| pos_acc/neg_acc = 0.84615385/1.0000000,                 pos_pred/all_pred = 12/20\n",
      "step 917| pos_acc/neg_acc = 1.00000000/0.6666667,                 pos_pred/all_pred = 14/20\n",
      "step 918| pos_acc/neg_acc = 1.00000000/1.0000000,                 pos_pred/all_pred = 12/20\n",
      "step 919| pos_acc/neg_acc = 1.00000000/1.0000000,                 pos_pred/all_pred = 14/20\n"
     ]
    },
    {
     "name": "stderr",
     "output_type": "stream",
     "text": [
      "INFO:SubjObjTrainer:   920: 2 [   70/  425], train_loss/accuracy = 0.08553191/0.9100000\n"
     ]
    },
    {
     "name": "stdout",
     "output_type": "stream",
     "text": [
      "   920: 2 [   70/  425], train_loss/accuracy = 0.08553191/0.9100000\n",
      "step 920| pos_acc/neg_acc = 0.88888889/0.8000000,                 pos_pred/all_pred = 11/20\n",
      "step 921| pos_acc/neg_acc = 0.90909091/1.0000000,                 pos_pred/all_pred = 11/20\n",
      "step 922| pos_acc/neg_acc = 1.00000000/0.9000000,                 pos_pred/all_pred = 11/20\n",
      "step 923| pos_acc/neg_acc = 0.77777778/0.9090909,                 pos_pred/all_pred =  8/20\n",
      "step 924| pos_acc/neg_acc = 1.00000000/1.0000000,                 pos_pred/all_pred =  7/20\n",
      "step 925| pos_acc/neg_acc = 0.71428571/1.0000000,                 pos_pred/all_pred =  5/20\n",
      "step 926| pos_acc/neg_acc = 1.00000000/0.7272727,                 pos_pred/all_pred = 12/20\n",
      "step 927| pos_acc/neg_acc = 0.77777778/1.0000000,                 pos_pred/all_pred =  7/20\n",
      "step 928| pos_acc/neg_acc = 0.88888889/1.0000000,                 pos_pred/all_pred =  9/20\n",
      "step 929| pos_acc/neg_acc = 1.00000000/0.8333333,                 pos_pred/all_pred = 10/20\n"
     ]
    },
    {
     "name": "stderr",
     "output_type": "stream",
     "text": [
      "INFO:SubjObjTrainer:   930: 2 [   80/  425], train_loss/accuracy = 0.09214035/0.9050000\n"
     ]
    },
    {
     "name": "stdout",
     "output_type": "stream",
     "text": [
      "   930: 2 [   80/  425], train_loss/accuracy = 0.09214035/0.9050000\n",
      "step 930| pos_acc/neg_acc = 0.80000000/1.0000000,                 pos_pred/all_pred =  8/20\n",
      "step 931| pos_acc/neg_acc = 0.66666667/0.8000000,                 pos_pred/all_pred =  9/20\n",
      "step 932| pos_acc/neg_acc = 1.00000000/0.9000000,                 pos_pred/all_pred = 11/20\n",
      "step 933| pos_acc/neg_acc = 0.44444444/1.0000000,                 pos_pred/all_pred =  5/20\n",
      "step 934| pos_acc/neg_acc = 1.00000000/0.8000000,                 pos_pred/all_pred = 12/20\n",
      "step 935| pos_acc/neg_acc = 0.66666667/1.0000000,                 pos_pred/all_pred =  6/20\n",
      "step 936| pos_acc/neg_acc = 0.87500000/1.0000000,                 pos_pred/all_pred =  8/20\n",
      "step 937| pos_acc/neg_acc = 0.66666667/1.0000000,                 pos_pred/all_pred =  6/20\n",
      "step 938| pos_acc/neg_acc = 0.91666667/0.8571429,                 pos_pred/all_pred = 13/20\n",
      "step 939| pos_acc/neg_acc = 0.91666667/1.0000000,                 pos_pred/all_pred = 12/20\n"
     ]
    },
    {
     "name": "stderr",
     "output_type": "stream",
     "text": [
      "INFO:SubjObjTrainer:   940: 2 [   90/  425], train_loss/accuracy = 0.10867886/0.8700000\n"
     ]
    },
    {
     "name": "stdout",
     "output_type": "stream",
     "text": [
      "   940: 2 [   90/  425], train_loss/accuracy = 0.10867886/0.8700000\n",
      "step 940| pos_acc/neg_acc = 1.00000000/0.8181818,                 pos_pred/all_pred = 11/20\n",
      "step 941| pos_acc/neg_acc = 0.55555556/1.0000000,                 pos_pred/all_pred =  5/20\n",
      "step 942| pos_acc/neg_acc = 0.90909091/0.7500000,                 pos_pred/all_pred = 13/20\n",
      "step 943| pos_acc/neg_acc = 0.92307692/0.8571429,                 pos_pred/all_pred = 13/20\n",
      "step 944| pos_acc/neg_acc = 1.00000000/1.0000000,                 pos_pred/all_pred = 11/20\n",
      "step 945| pos_acc/neg_acc = 0.90909091/0.8750000,                 pos_pred/all_pred = 12/20\n",
      "step 946| pos_acc/neg_acc = 0.91666667/0.5714286,                 pos_pred/all_pred = 15/20\n",
      "step 947| pos_acc/neg_acc = 0.80000000/0.9000000,                 pos_pred/all_pred =  9/20\n",
      "step 948| pos_acc/neg_acc = 0.83333333/1.0000000,                 pos_pred/all_pred = 10/20\n",
      "step 949| pos_acc/neg_acc = 1.00000000/0.7500000,                 pos_pred/all_pred = 11/20\n"
     ]
    },
    {
     "name": "stderr",
     "output_type": "stream",
     "text": [
      "INFO:SubjObjTrainer:   950: 2 [  100/  425], train_loss/accuracy = 0.10803422/0.8750000\n"
     ]
    },
    {
     "name": "stdout",
     "output_type": "stream",
     "text": [
      "   950: 2 [  100/  425], train_loss/accuracy = 0.10803422/0.8750000\n",
      "step 950| pos_acc/neg_acc = 0.44444444/1.0000000,                 pos_pred/all_pred =  4/20\n",
      "step 951| pos_acc/neg_acc = 1.00000000/0.8571429,                 pos_pred/all_pred = 14/20\n",
      "step 952| pos_acc/neg_acc = 1.00000000/0.9166667,                 pos_pred/all_pred =  9/20\n",
      "step 953| pos_acc/neg_acc = 0.63636364/1.0000000,                 pos_pred/all_pred =  7/20\n",
      "step 954| pos_acc/neg_acc = 1.00000000/0.7142857,                 pos_pred/all_pred = 15/20\n",
      "step 955| pos_acc/neg_acc = 0.76923077/1.0000000,                 pos_pred/all_pred = 10/20\n",
      "step 956| pos_acc/neg_acc = 1.00000000/0.4615385,                 pos_pred/all_pred = 14/20\n",
      "step 957| pos_acc/neg_acc = 0.50000000/1.0000000,                 pos_pred/all_pred =  4/20\n",
      "step 958| pos_acc/neg_acc = 1.00000000/0.8333333,                 pos_pred/all_pred = 10/20\n",
      "step 959| pos_acc/neg_acc = 0.77777778/1.0000000,                 pos_pred/all_pred =  7/20\n"
     ]
    },
    {
     "name": "stderr",
     "output_type": "stream",
     "text": [
      "INFO:SubjObjTrainer:   960: 2 [  110/  425], train_loss/accuracy = 0.11938874/0.8450000\n"
     ]
    },
    {
     "name": "stdout",
     "output_type": "stream",
     "text": [
      "   960: 2 [  110/  425], train_loss/accuracy = 0.11938874/0.8450000\n",
      "step 960| pos_acc/neg_acc = 1.00000000/1.0000000,                 pos_pred/all_pred =  7/20\n",
      "step 961| pos_acc/neg_acc = 0.50000000/1.0000000,                 pos_pred/all_pred =  3/20\n",
      "step 962| pos_acc/neg_acc = 0.90909091/1.0000000,                 pos_pred/all_pred = 10/20\n",
      "step 963| pos_acc/neg_acc = 1.00000000/0.8181818,                 pos_pred/all_pred = 11/20\n",
      "step 964| pos_acc/neg_acc = 0.57142857/1.0000000,                 pos_pred/all_pred =  5/20\n",
      "step 965| pos_acc/neg_acc = 0.87500000/0.8181818,                 pos_pred/all_pred = 10/20\n",
      "step 966| pos_acc/neg_acc = 0.80000000/1.0000000,                 pos_pred/all_pred =  9/20\n",
      "step 967| pos_acc/neg_acc = 1.00000000/0.8571429,                 pos_pred/all_pred = 14/20\n",
      "step 968| pos_acc/neg_acc = 0.75000000/1.0000000,                 pos_pred/all_pred = 10/20\n",
      "step 969| pos_acc/neg_acc = 1.00000000/0.3333333,                 pos_pred/all_pred = 17/20\n"
     ]
    },
    {
     "name": "stderr",
     "output_type": "stream",
     "text": [
      "INFO:SubjObjTrainer:   970: 2 [  120/  425], train_loss/accuracy = 0.11308743/0.8800000\n"
     ]
    },
    {
     "name": "stdout",
     "output_type": "stream",
     "text": [
      "   970: 2 [  120/  425], train_loss/accuracy = 0.11308743/0.8800000\n",
      "step 970| pos_acc/neg_acc = 0.50000000/0.9166667,                 pos_pred/all_pred =  5/20\n",
      "step 971| pos_acc/neg_acc = 1.00000000/0.7692308,                 pos_pred/all_pred = 10/20\n",
      "step 972| pos_acc/neg_acc = 0.45454545/1.0000000,                 pos_pred/all_pred =  6/20\n",
      "step 973| pos_acc/neg_acc = 1.00000000/0.7777778,                 pos_pred/all_pred = 13/20\n",
      "step 974| pos_acc/neg_acc = 0.91666667/0.7142857,                 pos_pred/all_pred = 14/20\n",
      "step 975| pos_acc/neg_acc = 1.00000000/1.0000000,                 pos_pred/all_pred =  8/20\n",
      "step 976| pos_acc/neg_acc = 0.88888889/1.0000000,                 pos_pred/all_pred =  8/20\n",
      "step 977| pos_acc/neg_acc = 1.00000000/1.0000000,                 pos_pred/all_pred = 13/20\n",
      "step 978| pos_acc/neg_acc = 1.00000000/0.8461538,                 pos_pred/all_pred =  9/20\n",
      "step 979| pos_acc/neg_acc = 0.87500000/1.0000000,                 pos_pred/all_pred =  7/20\n"
     ]
    },
    {
     "name": "stderr",
     "output_type": "stream",
     "text": [
      "INFO:SubjObjTrainer:   980: 2 [  130/  425], train_loss/accuracy = 0.10772071/0.8850000\n"
     ]
    },
    {
     "name": "stdout",
     "output_type": "stream",
     "text": [
      "   980: 2 [  130/  425], train_loss/accuracy = 0.10772071/0.8850000\n",
      "step 980| pos_acc/neg_acc = 1.00000000/1.0000000,                 pos_pred/all_pred =  7/20\n",
      "step 981| pos_acc/neg_acc = 0.83333333/1.0000000,                 pos_pred/all_pred =  5/20\n",
      "step 982| pos_acc/neg_acc = 1.00000000/0.9090909,                 pos_pred/all_pred = 10/20\n",
      "step 983| pos_acc/neg_acc = 0.60000000/1.0000000,                 pos_pred/all_pred =  6/20\n",
      "step 984| pos_acc/neg_acc = 1.00000000/0.3000000,                 pos_pred/all_pred = 17/20\n",
      "step 985| pos_acc/neg_acc = 0.40000000/1.0000000,                 pos_pred/all_pred =  4/20\n",
      "step 986| pos_acc/neg_acc = 1.00000000/0.3750000,                 pos_pred/all_pred = 17/20\n",
      "step 987| pos_acc/neg_acc = 0.23076923/1.0000000,                 pos_pred/all_pred =  3/20\n",
      "step 988| pos_acc/neg_acc = 1.00000000/0.0000000,                 pos_pred/all_pred = 20/20\n",
      "step 989| pos_acc/neg_acc = 0.00000000/1.0000000,                 pos_pred/all_pred =  0/20\n"
     ]
    },
    {
     "name": "stderr",
     "output_type": "stream",
     "text": [
      "INFO:SubjObjTrainer:   990: 2 [  140/  425], train_loss/accuracy = 0.25950387/0.7150000\n"
     ]
    },
    {
     "name": "stdout",
     "output_type": "stream",
     "text": [
      "   990: 2 [  140/  425], train_loss/accuracy = 0.25950387/0.7150000\n",
      "step 990| pos_acc/neg_acc = 1.00000000/0.1818182,                 pos_pred/all_pred = 18/20\n",
      "step 991| pos_acc/neg_acc = 0.77777778/1.0000000,                 pos_pred/all_pred =  8/20\n",
      "step 992| pos_acc/neg_acc = 1.00000000/0.8333333,                 pos_pred/all_pred = 10/20\n",
      "step 993| pos_acc/neg_acc = 0.92307692/1.0000000,                 pos_pred/all_pred = 12/20\n",
      "step 994| pos_acc/neg_acc = 1.00000000/0.6923077,                 pos_pred/all_pred = 11/20\n",
      "step 995| pos_acc/neg_acc = 0.55555556/1.0000000,                 pos_pred/all_pred =  5/20\n",
      "step 996| pos_acc/neg_acc = 1.00000000/0.6250000,                 pos_pred/all_pred = 15/20\n",
      "step 997| pos_acc/neg_acc = 1.00000000/0.9230769,                 pos_pred/all_pred =  8/20\n",
      "step 998| pos_acc/neg_acc = 0.53846154/1.0000000,                 pos_pred/all_pred =  7/20\n",
      "step 999| pos_acc/neg_acc = 1.00000000/0.5000000,                 pos_pred/all_pred = 16/20\n"
     ]
    },
    {
     "name": "stderr",
     "output_type": "stream",
     "text": [
      "INFO:SubjObjTrainer:  1000: 2 [  150/  425], train_loss/accuracy = 0.14726488/0.8200000\n"
     ]
    },
    {
     "name": "stdout",
     "output_type": "stream",
     "text": [
      "  1000: 2 [  150/  425], train_loss/accuracy = 0.14726488/0.8200000\n",
      "step 1000| pos_acc/neg_acc = 0.84615385/1.0000000,                 pos_pred/all_pred = 11/20\n",
      "step 1001| pos_acc/neg_acc = 1.00000000/1.0000000,                 pos_pred/all_pred =  8/20\n",
      "step 1002| pos_acc/neg_acc = 0.80000000/1.0000000,                 pos_pred/all_pred =  8/20\n",
      "step 1003| pos_acc/neg_acc = 1.00000000/0.8750000,                 pos_pred/all_pred = 13/20\n",
      "step 1004| pos_acc/neg_acc = 1.00000000/1.0000000,                 pos_pred/all_pred =  8/20\n",
      "step 1005| pos_acc/neg_acc = 0.83333333/1.0000000,                 pos_pred/all_pred = 10/20\n",
      "step 1006| pos_acc/neg_acc = 1.00000000/0.8888889,                 pos_pred/all_pred = 11/20\n",
      "step 1007| pos_acc/neg_acc = 0.76923077/1.0000000,                 pos_pred/all_pred = 10/20\n",
      "step 1008| pos_acc/neg_acc = 1.00000000/0.5000000,                 pos_pred/all_pred = 15/20\n",
      "step 1009| pos_acc/neg_acc = 0.55555556/1.0000000,                 pos_pred/all_pred =  6/20\n"
     ]
    },
    {
     "name": "stderr",
     "output_type": "stream",
     "text": [
      "INFO:SubjObjTrainer:  1010: 2 [  160/  425], train_loss/accuracy = 0.09447859/0.8950000\n"
     ]
    },
    {
     "name": "stdout",
     "output_type": "stream",
     "text": [
      "  1010: 2 [  160/  425], train_loss/accuracy = 0.09447859/0.8950000\n",
      "step 1010| pos_acc/neg_acc = 1.00000000/0.6428571,                 pos_pred/all_pred = 11/20\n",
      "step 1011| pos_acc/neg_acc = 0.16666667/1.0000000,                 pos_pred/all_pred =  2/20\n",
      "step 1012| pos_acc/neg_acc = 1.00000000/0.1250000,                 pos_pred/all_pred = 19/20\n",
      "step 1013| pos_acc/neg_acc = 0.27272727/1.0000000,                 pos_pred/all_pred =  3/20\n",
      "step 1014| pos_acc/neg_acc = 1.00000000/0.2500000,                 pos_pred/all_pred = 18/20\n",
      "step 1015| pos_acc/neg_acc = 0.91666667/1.0000000,                 pos_pred/all_pred = 11/20\n",
      "step 1016| pos_acc/neg_acc = 1.00000000/1.0000000,                 pos_pred/all_pred =  9/20\n",
      "step 1017| pos_acc/neg_acc = 0.55555556/1.0000000,                 pos_pred/all_pred =  6/20\n",
      "step 1018| pos_acc/neg_acc = 1.00000000/1.0000000,                 pos_pred/all_pred = 14/20\n",
      "step 1019| pos_acc/neg_acc = 1.00000000/1.0000000,                 pos_pred/all_pred = 13/20\n"
     ]
    },
    {
     "name": "stderr",
     "output_type": "stream",
     "text": [
      "INFO:SubjObjTrainer:  1020: 2 [  170/  425], train_loss/accuracy = 0.17376886/0.7950000\n"
     ]
    },
    {
     "name": "stdout",
     "output_type": "stream",
     "text": [
      "  1020: 2 [  170/  425], train_loss/accuracy = 0.17376886/0.7950000\n",
      "step 1020| pos_acc/neg_acc = 1.00000000/0.9166667,                 pos_pred/all_pred =  9/20\n",
      "step 1021| pos_acc/neg_acc = 0.28571429/1.0000000,                 pos_pred/all_pred =  3/20\n",
      "step 1022| pos_acc/neg_acc = 1.00000000/0.6250000,                 pos_pred/all_pred = 15/20\n",
      "step 1023| pos_acc/neg_acc = 0.63636364/1.0000000,                 pos_pred/all_pred =  8/20\n",
      "step 1024| pos_acc/neg_acc = 1.00000000/0.4000000,                 pos_pred/all_pred = 14/20\n",
      "step 1025| pos_acc/neg_acc = 0.40000000/1.0000000,                 pos_pred/all_pred =  4/20\n",
      "step 1026| pos_acc/neg_acc = 1.00000000/0.3333333,                 pos_pred/all_pred = 17/20\n",
      "step 1027| pos_acc/neg_acc = 0.75000000/1.0000000,                 pos_pred/all_pred =  6/20\n",
      "step 1028| pos_acc/neg_acc = 1.00000000/1.0000000,                 pos_pred/all_pred = 11/20\n",
      "step 1029| pos_acc/neg_acc = 0.72727273/1.0000000,                 pos_pred/all_pred =  9/20\n"
     ]
    },
    {
     "name": "stderr",
     "output_type": "stream",
     "text": [
      "INFO:SubjObjTrainer:  1030: 2 [  180/  425], train_loss/accuracy = 0.14184755/0.8050000\n"
     ]
    },
    {
     "name": "stdout",
     "output_type": "stream",
     "text": [
      "  1030: 2 [  180/  425], train_loss/accuracy = 0.14184755/0.8050000\n",
      "step 1030| pos_acc/neg_acc = 1.00000000/0.5555556,                 pos_pred/all_pred = 15/20\n",
      "step 1031| pos_acc/neg_acc = 0.66666667/1.0000000,                 pos_pred/all_pred =  6/20\n",
      "step 1032| pos_acc/neg_acc = 0.90000000/0.7777778,                 pos_pred/all_pred = 12/20\n",
      "step 1033| pos_acc/neg_acc = 0.77777778/1.0000000,                 pos_pred/all_pred =  8/20\n",
      "step 1034| pos_acc/neg_acc = 1.00000000/0.8333333,                 pos_pred/all_pred = 10/20\n",
      "step 1035| pos_acc/neg_acc = 0.80000000/1.0000000,                 pos_pred/all_pred =  9/20\n",
      "step 1036| pos_acc/neg_acc = 1.00000000/0.6470588,                 pos_pred/all_pred =  9/20\n",
      "step 1037| pos_acc/neg_acc = 0.25000000/1.0000000,                 pos_pred/all_pred =  2/20\n",
      "step 1038| pos_acc/neg_acc = 1.00000000/0.5833333,                 pos_pred/all_pred = 13/20\n",
      "step 1039| pos_acc/neg_acc = 1.00000000/1.0000000,                 pos_pred/all_pred =  6/20\n"
     ]
    },
    {
     "name": "stderr",
     "output_type": "stream",
     "text": [
      "INFO:SubjObjTrainer:  1040: 2 [  190/  425], train_loss/accuracy = 0.12291089/0.8350000\n"
     ]
    },
    {
     "name": "stdout",
     "output_type": "stream",
     "text": [
      "  1040: 2 [  190/  425], train_loss/accuracy = 0.12291089/0.8350000\n",
      "step 1040| pos_acc/neg_acc = 0.70000000/1.0000000,                 pos_pred/all_pred =  7/20\n",
      "step 1041| pos_acc/neg_acc = 1.00000000/1.0000000,                 pos_pred/all_pred =  8/20\n",
      "step 1042| pos_acc/neg_acc = 0.83333333/1.0000000,                 pos_pred/all_pred = 10/20\n",
      "step 1043| pos_acc/neg_acc = 1.00000000/0.5714286,                 pos_pred/all_pred = 16/20\n",
      "step 1044| pos_acc/neg_acc = 0.86666667/1.0000000,                 pos_pred/all_pred = 14/20\n",
      "step 1045| pos_acc/neg_acc = 1.00000000/0.3636364,                 pos_pred/all_pred = 16/20\n",
      "step 1046| pos_acc/neg_acc = 0.33333333/1.0000000,                 pos_pred/all_pred =  4/20\n",
      "step 1047| pos_acc/neg_acc = 1.00000000/0.3333333,                 pos_pred/all_pred = 16/20\n",
      "step 1048| pos_acc/neg_acc = 0.50000000/1.0000000,                 pos_pred/all_pred =  5/20\n",
      "step 1049| pos_acc/neg_acc = 0.88888889/0.8181818,                 pos_pred/all_pred = 10/20\n"
     ]
    },
    {
     "name": "stderr",
     "output_type": "stream",
     "text": [
      "INFO:SubjObjTrainer:  1050: 2 [  200/  425], train_loss/accuracy = 0.17470810/0.8050000\n"
     ]
    },
    {
     "name": "stdout",
     "output_type": "stream",
     "text": [
      "  1050: 2 [  200/  425], train_loss/accuracy = 0.17470810/0.8050000\n",
      "step 1050| pos_acc/neg_acc = 0.70000000/1.0000000,                 pos_pred/all_pred =  7/20\n",
      "step 1051| pos_acc/neg_acc = 1.00000000/0.3750000,                 pos_pred/all_pred = 17/20\n",
      "step 1052| pos_acc/neg_acc = 0.20000000/1.0000000,                 pos_pred/all_pred =  2/20\n",
      "step 1053| pos_acc/neg_acc = 1.00000000/0.4000000,                 pos_pred/all_pred = 16/20\n",
      "step 1054| pos_acc/neg_acc = 0.63636364/1.0000000,                 pos_pred/all_pred =  8/20\n",
      "step 1055| pos_acc/neg_acc = 1.00000000/0.7777778,                 pos_pred/all_pred = 13/20\n",
      "step 1056| pos_acc/neg_acc = 0.83333333/0.9230769,                 pos_pred/all_pred =  7/20\n",
      "step 1057| pos_acc/neg_acc = 1.00000000/1.0000000,                 pos_pred/all_pred = 11/20\n",
      "step 1058| pos_acc/neg_acc = 0.87500000/0.7272727,                 pos_pred/all_pred = 11/20\n",
      "step 1059| pos_acc/neg_acc = 0.50000000/1.0000000,                 pos_pred/all_pred =  3/20\n"
     ]
    },
    {
     "name": "stderr",
     "output_type": "stream",
     "text": [
      "INFO:SubjObjTrainer:  1060: 2 [  210/  425], train_loss/accuracy = 0.13002224/0.8150000\n"
     ]
    },
    {
     "name": "stdout",
     "output_type": "stream",
     "text": [
      "  1060: 2 [  210/  425], train_loss/accuracy = 0.13002224/0.8150000\n",
      "step 1060| pos_acc/neg_acc = 1.00000000/0.8571429,                 pos_pred/all_pred = 14/20\n",
      "step 1061| pos_acc/neg_acc = 1.00000000/0.9166667,                 pos_pred/all_pred =  9/20\n",
      "step 1062| pos_acc/neg_acc = 0.62500000/1.0000000,                 pos_pred/all_pred =  6/20\n",
      "step 1063| pos_acc/neg_acc = 1.00000000/0.8461538,                 pos_pred/all_pred =  9/20\n",
      "step 1064| pos_acc/neg_acc = 0.66666667/1.0000000,                 pos_pred/all_pred =  7/20\n",
      "step 1065| pos_acc/neg_acc = 1.00000000/0.9166667,                 pos_pred/all_pred =  9/20\n",
      "step 1066| pos_acc/neg_acc = 0.63636364/1.0000000,                 pos_pred/all_pred =  8/20\n",
      "step 1067| pos_acc/neg_acc = 1.00000000/0.7500000,                 pos_pred/all_pred = 11/20\n",
      "step 1068| pos_acc/neg_acc = 0.72727273/1.0000000,                 pos_pred/all_pred =  8/20\n",
      "step 1069| pos_acc/neg_acc = 1.00000000/0.7142857,                 pos_pred/all_pred = 15/20\n"
     ]
    },
    {
     "name": "stderr",
     "output_type": "stream",
     "text": [
      "INFO:SubjObjTrainer:  1070: 2 [  220/  425], train_loss/accuracy = 0.10782410/0.8850000\n"
     ]
    },
    {
     "name": "stdout",
     "output_type": "stream",
     "text": [
      "  1070: 2 [  220/  425], train_loss/accuracy = 0.10782410/0.8850000\n",
      "step 1070| pos_acc/neg_acc = 0.75000000/1.0000000,                 pos_pred/all_pred =  6/20\n",
      "step 1071| pos_acc/neg_acc = 0.85714286/1.0000000,                 pos_pred/all_pred = 12/20\n",
      "step 1072| pos_acc/neg_acc = 1.00000000/0.6666667,                 pos_pred/all_pred = 12/20\n",
      "step 1073| pos_acc/neg_acc = 1.00000000/1.0000000,                 pos_pred/all_pred =  9/20\n",
      "step 1074| pos_acc/neg_acc = 0.90909091/0.8750000,                 pos_pred/all_pred = 12/20\n",
      "step 1075| pos_acc/neg_acc = 1.00000000/1.0000000,                 pos_pred/all_pred =  9/20\n",
      "step 1076| pos_acc/neg_acc = 0.50000000/0.8571429,                 pos_pred/all_pred =  8/20\n",
      "step 1077| pos_acc/neg_acc = 1.00000000/0.4545455,                 pos_pred/all_pred = 15/20\n",
      "step 1078| pos_acc/neg_acc = 0.28571429/1.0000000,                 pos_pred/all_pred =  2/20\n",
      "step 1079| pos_acc/neg_acc = 1.00000000/0.4615385,                 pos_pred/all_pred = 14/20\n"
     ]
    },
    {
     "name": "stderr",
     "output_type": "stream",
     "text": [
      "INFO:SubjObjTrainer:  1080: 2 [  230/  425], train_loss/accuracy = 0.13559489/0.8200000\n"
     ]
    },
    {
     "name": "stdout",
     "output_type": "stream",
     "text": [
      "  1080: 2 [  230/  425], train_loss/accuracy = 0.13559489/0.8200000\n",
      "step 1080| pos_acc/neg_acc = 0.00000000/1.0000000,                 pos_pred/all_pred =  0/20\n",
      "step 1081| pos_acc/neg_acc = 1.00000000/0.0000000,                 pos_pred/all_pred = 20/20\n",
      "step 1082| pos_acc/neg_acc = 0.22222222/1.0000000,                 pos_pred/all_pred =  2/20\n",
      "step 1083| pos_acc/neg_acc = 1.00000000/0.5000000,                 pos_pred/all_pred = 17/20\n",
      "step 1084| pos_acc/neg_acc = 0.75000000/1.0000000,                 pos_pred/all_pred =  6/20\n",
      "step 1085| pos_acc/neg_acc = 1.00000000/1.0000000,                 pos_pred/all_pred = 11/20\n",
      "step 1086| pos_acc/neg_acc = 0.80000000/1.0000000,                 pos_pred/all_pred =  8/20\n",
      "step 1087| pos_acc/neg_acc = 0.83333333/1.0000000,                 pos_pred/all_pred = 10/20\n",
      "step 1088| pos_acc/neg_acc = 1.00000000/0.9285714,                 pos_pred/all_pred =  7/20\n",
      "step 1089| pos_acc/neg_acc = 0.41666667/1.0000000,                 pos_pred/all_pred =  6/20\n"
     ]
    },
    {
     "name": "stderr",
     "output_type": "stream",
     "text": [
      "INFO:SubjObjTrainer:  1090: 2 [  240/  425], train_loss/accuracy = 0.17476344/0.7850000\n"
     ]
    },
    {
     "name": "stdout",
     "output_type": "stream",
     "text": [
      "  1090: 2 [  240/  425], train_loss/accuracy = 0.17476344/0.7850000\n",
      "step 1090| pos_acc/neg_acc = 1.00000000/0.5000000,                 pos_pred/all_pred = 14/20\n",
      "step 1091| pos_acc/neg_acc = 0.33333333/1.0000000,                 pos_pred/all_pred =  4/20\n",
      "step 1092| pos_acc/neg_acc = 1.00000000/0.6000000,                 pos_pred/all_pred = 14/20\n",
      "step 1093| pos_acc/neg_acc = 0.75000000/1.0000000,                 pos_pred/all_pred = 10/20\n",
      "step 1094| pos_acc/neg_acc = 1.00000000/0.5555556,                 pos_pred/all_pred = 15/20\n",
      "step 1095| pos_acc/neg_acc = 0.62500000/0.9090909,                 pos_pred/all_pred =  6/20\n",
      "step 1096| pos_acc/neg_acc = 1.00000000/1.0000000,                 pos_pred/all_pred =  4/20\n",
      "step 1097| pos_acc/neg_acc = 0.70000000/1.0000000,                 pos_pred/all_pred =  7/20\n",
      "step 1098| pos_acc/neg_acc = 1.00000000/0.8571429,                 pos_pred/all_pred = 14/20\n",
      "step 1099| pos_acc/neg_acc = 1.00000000/0.9090909,                 pos_pred/all_pred = 10/20\n"
     ]
    },
    {
     "name": "stderr",
     "output_type": "stream",
     "text": [
      "INFO:SubjObjTrainer:  1100: 2 [  250/  425], train_loss/accuracy = 0.13077028/0.8300000\n"
     ]
    },
    {
     "name": "stdout",
     "output_type": "stream",
     "text": [
      "  1100: 2 [  250/  425], train_loss/accuracy = 0.13077028/0.8300000\n",
      "step 1100| pos_acc/neg_acc = 0.75000000/1.0000000,                 pos_pred/all_pred =  6/20\n",
      "step 1101| pos_acc/neg_acc = 1.00000000/0.8888889,                 pos_pred/all_pred = 12/20\n",
      "step 1102| pos_acc/neg_acc = 0.72727273/1.0000000,                 pos_pred/all_pred =  8/20\n",
      "step 1103| pos_acc/neg_acc = 1.00000000/0.7000000,                 pos_pred/all_pred = 13/20\n",
      "step 1104| pos_acc/neg_acc = 0.87500000/1.0000000,                 pos_pred/all_pred =  8/20\n",
      "step 1105| pos_acc/neg_acc = 0.72727273/1.0000000,                 pos_pred/all_pred =  9/20\n",
      "step 1106| pos_acc/neg_acc = 0.85714286/0.8333333,                 pos_pred/all_pred =  9/20\n",
      "step 1107| pos_acc/neg_acc = 0.63636364/1.0000000,                 pos_pred/all_pred =  7/20\n",
      "step 1108| pos_acc/neg_acc = 1.00000000/0.7272727,                 pos_pred/all_pred = 12/20\n",
      "step 1109| pos_acc/neg_acc = 0.57142857/0.9166667,                 pos_pred/all_pred =  6/20\n"
     ]
    },
    {
     "name": "stderr",
     "output_type": "stream",
     "text": [
      "INFO:SubjObjTrainer:  1110: 2 [  260/  425], train_loss/accuracy = 0.12120187/0.8650000\n"
     ]
    },
    {
     "name": "stdout",
     "output_type": "stream",
     "text": [
      "  1110: 2 [  260/  425], train_loss/accuracy = 0.12120187/0.8650000\n",
      "step 1110| pos_acc/neg_acc = 1.00000000/0.9000000,                 pos_pred/all_pred = 11/20\n",
      "step 1111| pos_acc/neg_acc = 0.50000000/0.9090909,                 pos_pred/all_pred =  6/20\n",
      "step 1112| pos_acc/neg_acc = 1.00000000/0.8888889,                 pos_pred/all_pred = 12/20\n",
      "step 1113| pos_acc/neg_acc = 0.91666667/0.8750000,                 pos_pred/all_pred = 12/20\n",
      "step 1114| pos_acc/neg_acc = 1.00000000/1.0000000,                 pos_pred/all_pred =  6/20\n",
      "step 1115| pos_acc/neg_acc = 0.77777778/1.0000000,                 pos_pred/all_pred =  8/20\n",
      "step 1116| pos_acc/neg_acc = 1.00000000/0.8750000,                 pos_pred/all_pred = 13/20\n",
      "step 1117| pos_acc/neg_acc = 0.80000000/0.9285714,                 pos_pred/all_pred =  6/20\n",
      "step 1118| pos_acc/neg_acc = 0.80000000/0.8666667,                 pos_pred/all_pred =  6/20\n",
      "step 1119| pos_acc/neg_acc = 0.81818182/0.8888889,                 pos_pred/all_pred = 10/20\n"
     ]
    },
    {
     "name": "stderr",
     "output_type": "stream",
     "text": [
      "INFO:SubjObjTrainer:  1120: 2 [  270/  425], train_loss/accuracy = 0.09416294/0.9000000\n"
     ]
    },
    {
     "name": "stdout",
     "output_type": "stream",
     "text": [
      "  1120: 2 [  270/  425], train_loss/accuracy = 0.09416294/0.9000000\n",
      "step 1120| pos_acc/neg_acc = 1.00000000/0.8888889,                 pos_pred/all_pred = 12/20\n",
      "step 1121| pos_acc/neg_acc = 1.00000000/1.0000000,                 pos_pred/all_pred = 11/20\n",
      "step 1122| pos_acc/neg_acc = 0.66666667/1.0000000,                 pos_pred/all_pred =  8/20\n",
      "step 1123| pos_acc/neg_acc = 0.90909091/0.5000000,                 pos_pred/all_pred = 15/20\n",
      "step 1124| pos_acc/neg_acc = 0.91666667/0.7142857,                 pos_pred/all_pred = 14/20\n",
      "step 1125| pos_acc/neg_acc = 1.00000000/1.0000000,                 pos_pred/all_pred =  9/20\n",
      "step 1126| pos_acc/neg_acc = 1.00000000/0.7500000,                 pos_pred/all_pred = 14/20\n",
      "step 1127| pos_acc/neg_acc = 0.55555556/0.9090909,                 pos_pred/all_pred =  6/20\n",
      "step 1128| pos_acc/neg_acc = 1.00000000/1.0000000,                 pos_pred/all_pred =  9/20\n",
      "step 1129| pos_acc/neg_acc = 0.87500000/1.0000000,                 pos_pred/all_pred =  7/20\n"
     ]
    },
    {
     "name": "stderr",
     "output_type": "stream",
     "text": [
      "INFO:SubjObjTrainer:  1130: 2 [  280/  425], train_loss/accuracy = 0.09104206/0.8900000\n"
     ]
    },
    {
     "name": "stdout",
     "output_type": "stream",
     "text": [
      "  1130: 2 [  280/  425], train_loss/accuracy = 0.09104206/0.8900000\n",
      "step 1130| pos_acc/neg_acc = 0.88888889/1.0000000,                 pos_pred/all_pred =  8/20\n",
      "step 1131| pos_acc/neg_acc = 1.00000000/0.9090909,                 pos_pred/all_pred = 10/20\n",
      "step 1132| pos_acc/neg_acc = 0.50000000/1.0000000,                 pos_pred/all_pred =  2/20\n",
      "step 1133| pos_acc/neg_acc = 0.91666667/1.0000000,                 pos_pred/all_pred = 11/20\n",
      "step 1134| pos_acc/neg_acc = 0.81818182/1.0000000,                 pos_pred/all_pred =  9/20\n",
      "step 1135| pos_acc/neg_acc = 1.00000000/0.6250000,                 pos_pred/all_pred = 15/20\n",
      "step 1136| pos_acc/neg_acc = 0.80000000/1.0000000,                 pos_pred/all_pred =  9/20\n",
      "step 1137| pos_acc/neg_acc = 1.00000000/0.9000000,                 pos_pred/all_pred = 11/20\n",
      "step 1138| pos_acc/neg_acc = 0.90909091/1.0000000,                 pos_pred/all_pred = 11/20\n",
      "step 1139| pos_acc/neg_acc = 1.00000000/0.7000000,                 pos_pred/all_pred = 13/20\n"
     ]
    },
    {
     "name": "stderr",
     "output_type": "stream",
     "text": [
      "INFO:SubjObjTrainer:  1140: 2 [  290/  425], train_loss/accuracy = 0.09158035/0.9150000\n"
     ]
    },
    {
     "name": "stdout",
     "output_type": "stream",
     "text": [
      "  1140: 2 [  290/  425], train_loss/accuracy = 0.09158035/0.9150000\n",
      "step 1140| pos_acc/neg_acc = 0.83333333/1.0000000,                 pos_pred/all_pred = 11/20\n",
      "step 1141| pos_acc/neg_acc = 1.00000000/0.4444444,                 pos_pred/all_pred = 16/20\n",
      "step 1142| pos_acc/neg_acc = 0.45454545/1.0000000,                 pos_pred/all_pred =  5/20\n",
      "step 1143| pos_acc/neg_acc = 1.00000000/0.1111111,                 pos_pred/all_pred = 19/20\n",
      "step 1144| pos_acc/neg_acc = 0.63636364/1.0000000,                 pos_pred/all_pred =  7/20\n",
      "step 1145| pos_acc/neg_acc = 1.00000000/0.6000000,                 pos_pred/all_pred = 14/20\n",
      "step 1146| pos_acc/neg_acc = 0.42857143/1.0000000,                 pos_pred/all_pred =  4/20\n",
      "step 1147| pos_acc/neg_acc = 1.00000000/1.0000000,                 pos_pred/all_pred =  9/20\n",
      "step 1148| pos_acc/neg_acc = 0.83333333/1.0000000,                 pos_pred/all_pred = 10/20\n",
      "step 1149| pos_acc/neg_acc = 1.00000000/0.5384615,                 pos_pred/all_pred = 13/20\n"
     ]
    },
    {
     "name": "stderr",
     "output_type": "stream",
     "text": [
      "INFO:SubjObjTrainer:  1150: 2 [  300/  425], train_loss/accuracy = 0.16263416/0.7950000\n"
     ]
    },
    {
     "name": "stdout",
     "output_type": "stream",
     "text": [
      "  1150: 2 [  300/  425], train_loss/accuracy = 0.16263416/0.7950000\n",
      "step 1150| pos_acc/neg_acc = 0.66666667/1.0000000,                 pos_pred/all_pred =  6/20\n",
      "step 1151| pos_acc/neg_acc = 1.00000000/0.8181818,                 pos_pred/all_pred = 11/20\n",
      "step 1152| pos_acc/neg_acc = 0.83333333/1.0000000,                 pos_pred/all_pred = 11/20\n",
      "step 1153| pos_acc/neg_acc = 1.00000000/0.8333333,                 pos_pred/all_pred = 10/20\n",
      "step 1154| pos_acc/neg_acc = 0.62500000/1.0000000,                 pos_pred/all_pred =  5/20\n",
      "step 1155| pos_acc/neg_acc = 1.00000000/0.8333333,                 pos_pred/all_pred = 15/20\n",
      "step 1156| pos_acc/neg_acc = 1.00000000/1.0000000,                 pos_pred/all_pred = 10/20\n",
      "step 1157| pos_acc/neg_acc = 1.00000000/1.0000000,                 pos_pred/all_pred = 10/20\n",
      "step 1158| pos_acc/neg_acc = 0.93333333/1.0000000,                 pos_pred/all_pred = 14/20\n",
      "step 1159| pos_acc/neg_acc = 1.00000000/0.9000000,                 pos_pred/all_pred = 11/20\n"
     ]
    },
    {
     "name": "stderr",
     "output_type": "stream",
     "text": [
      "INFO:SubjObjTrainer:  1160: 2 [  310/  425], train_loss/accuracy = 0.10262521/0.9200000\n"
     ]
    },
    {
     "name": "stdout",
     "output_type": "stream",
     "text": [
      "  1160: 2 [  310/  425], train_loss/accuracy = 0.10262521/0.9200000\n",
      "step 1160| pos_acc/neg_acc = 0.72727273/1.0000000,                 pos_pred/all_pred =  9/20\n",
      "step 1161| pos_acc/neg_acc = 1.00000000/0.5000000,                 pos_pred/all_pred = 14/20\n",
      "step 1162| pos_acc/neg_acc = 0.60000000/1.0000000,                 pos_pred/all_pred =  6/20\n",
      "step 1163| pos_acc/neg_acc = 0.90909091/0.6666667,                 pos_pred/all_pred = 13/20\n",
      "step 1164| pos_acc/neg_acc = 0.77777778/1.0000000,                 pos_pred/all_pred =  7/20\n",
      "step 1165| pos_acc/neg_acc = 1.00000000/0.3636364,                 pos_pred/all_pred = 16/20\n",
      "step 1166| pos_acc/neg_acc = 0.55555556/1.0000000,                 pos_pred/all_pred =  5/20\n",
      "step 1167| pos_acc/neg_acc = 1.00000000/0.4545455,                 pos_pred/all_pred = 15/20\n",
      "step 1168| pos_acc/neg_acc = 0.50000000/1.0000000,                 pos_pred/all_pred =  3/20\n",
      "step 1169| pos_acc/neg_acc = 1.00000000/1.0000000,                 pos_pred/all_pred = 12/20\n"
     ]
    },
    {
     "name": "stderr",
     "output_type": "stream",
     "text": [
      "INFO:SubjObjTrainer:  1170: 2 [  320/  425], train_loss/accuracy = 0.15511344/0.8000000\n"
     ]
    },
    {
     "name": "stdout",
     "output_type": "stream",
     "text": [
      "  1170: 2 [  320/  425], train_loss/accuracy = 0.15511344/0.8000000\n",
      "step 1170| pos_acc/neg_acc = 0.77777778/0.9000000,                 pos_pred/all_pred =  9/20\n",
      "step 1171| pos_acc/neg_acc = 1.00000000/1.0000000,                 pos_pred/all_pred =  7/20\n",
      "step 1172| pos_acc/neg_acc = 0.54545455/1.0000000,                 pos_pred/all_pred =  7/20\n",
      "step 1173| pos_acc/neg_acc = 1.00000000/0.6923077,                 pos_pred/all_pred = 11/20\n",
      "step 1174| pos_acc/neg_acc = 0.33333333/1.0000000,                 pos_pred/all_pred =  3/20\n",
      "step 1175| pos_acc/neg_acc = 1.00000000/0.5555556,                 pos_pred/all_pred = 15/20\n",
      "step 1176| pos_acc/neg_acc = 0.66666667/1.0000000,                 pos_pred/all_pred =  6/20\n",
      "step 1177| pos_acc/neg_acc = 0.83333333/0.8750000,                 pos_pred/all_pred = 11/20\n",
      "step 1178| pos_acc/neg_acc = 1.00000000/0.8571429,                 pos_pred/all_pred = 14/20\n",
      "step 1179| pos_acc/neg_acc = 0.87500000/0.9090909,                 pos_pred/all_pred =  9/20\n"
     ]
    },
    {
     "name": "stderr",
     "output_type": "stream",
     "text": [
      "INFO:SubjObjTrainer:  1180: 2 [  330/  425], train_loss/accuracy = 0.12325776/0.8350000\n"
     ]
    },
    {
     "name": "stdout",
     "output_type": "stream",
     "text": [
      "  1180: 2 [  330/  425], train_loss/accuracy = 0.12325776/0.8350000\n",
      "step 1180| pos_acc/neg_acc = 0.91666667/1.0000000,                 pos_pred/all_pred = 12/20\n",
      "step 1181| pos_acc/neg_acc = 0.88888889/0.9000000,                 pos_pred/all_pred = 10/20\n",
      "step 1182| pos_acc/neg_acc = 0.63636364/1.0000000,                 pos_pred/all_pred =  8/20\n",
      "step 1183| pos_acc/neg_acc = 1.00000000/0.4444444,                 pos_pred/all_pred = 16/20\n",
      "step 1184| pos_acc/neg_acc = 0.63636364/1.0000000,                 pos_pred/all_pred =  7/20\n",
      "step 1185| pos_acc/neg_acc = 1.00000000/0.6363636,                 pos_pred/all_pred = 13/20\n",
      "step 1186| pos_acc/neg_acc = 0.63636364/1.0000000,                 pos_pred/all_pred =  7/20\n",
      "step 1187| pos_acc/neg_acc = 1.00000000/0.6666667,                 pos_pred/all_pred = 16/20\n",
      "step 1188| pos_acc/neg_acc = 0.88888889/1.0000000,                 pos_pred/all_pred =  9/20\n",
      "step 1189| pos_acc/neg_acc = 0.81818182/1.0000000,                 pos_pred/all_pred =  9/20\n"
     ]
    },
    {
     "name": "stderr",
     "output_type": "stream",
     "text": [
      "INFO:SubjObjTrainer:  1190: 2 [  340/  425], train_loss/accuracy = 0.11421466/0.8500000\n"
     ]
    },
    {
     "name": "stdout",
     "output_type": "stream",
     "text": [
      "  1190: 2 [  340/  425], train_loss/accuracy = 0.11421466/0.8500000\n",
      "step 1190| pos_acc/neg_acc = 0.83333333/1.0000000,                 pos_pred/all_pred = 10/20\n",
      "step 1191| pos_acc/neg_acc = 1.00000000/0.8181818,                 pos_pred/all_pred = 11/20\n",
      "step 1192| pos_acc/neg_acc = 0.40000000/1.0000000,                 pos_pred/all_pred =  4/20\n",
      "step 1193| pos_acc/neg_acc = 1.00000000/0.7000000,                 pos_pred/all_pred = 13/20\n",
      "step 1194| pos_acc/neg_acc = 0.62500000/1.0000000,                 pos_pred/all_pred =  5/20\n",
      "step 1195| pos_acc/neg_acc = 0.87500000/1.0000000,                 pos_pred/all_pred =  8/20\n",
      "step 1196| pos_acc/neg_acc = 0.92307692/0.8333333,                 pos_pred/all_pred = 14/20\n",
      "step 1197| pos_acc/neg_acc = 0.92307692/0.8333333,                 pos_pred/all_pred = 14/20\n",
      "step 1198| pos_acc/neg_acc = 1.00000000/1.0000000,                 pos_pred/all_pred = 10/20\n",
      "step 1199| pos_acc/neg_acc = 0.50000000/1.0000000,                 pos_pred/all_pred =  3/20\n"
     ]
    },
    {
     "name": "stderr",
     "output_type": "stream",
     "text": [
      "INFO:SubjObjTrainer:  1200: 2 [  350/  425], train_loss/accuracy = 0.09658830/0.8800000\n"
     ]
    },
    {
     "name": "stdout",
     "output_type": "stream",
     "text": [
      "  1200: 2 [  350/  425], train_loss/accuracy = 0.09658830/0.8800000\n",
      "step 1200| pos_acc/neg_acc = 1.00000000/1.0000000,                 pos_pred/all_pred =  9/20\n",
      "step 1201| pos_acc/neg_acc = 0.77777778/1.0000000,                 pos_pred/all_pred =  8/20\n",
      "step 1202| pos_acc/neg_acc = 1.00000000/0.9166667,                 pos_pred/all_pred =  9/20\n",
      "step 1203| pos_acc/neg_acc = 0.66666667/0.9000000,                 pos_pred/all_pred =  8/20\n",
      "step 1204| pos_acc/neg_acc = 1.00000000/1.0000000,                 pos_pred/all_pred =  9/20\n",
      "step 1205| pos_acc/neg_acc = 1.00000000/0.7777778,                 pos_pred/all_pred = 13/20\n",
      "step 1206| pos_acc/neg_acc = 0.33333333/1.0000000,                 pos_pred/all_pred =  3/20\n",
      "step 1207| pos_acc/neg_acc = 1.00000000/0.8461538,                 pos_pred/all_pred =  9/20\n",
      "step 1208| pos_acc/neg_acc = 0.44444444/1.0000000,                 pos_pred/all_pred =  5/20\n",
      "step 1209| pos_acc/neg_acc = 1.00000000/0.2500000,                 pos_pred/all_pred = 18/20\n"
     ]
    },
    {
     "name": "stderr",
     "output_type": "stream",
     "text": [
      "INFO:SubjObjTrainer:  1210: 2 [  360/  425], train_loss/accuracy = 0.10269687/0.8700000\n"
     ]
    },
    {
     "name": "stdout",
     "output_type": "stream",
     "text": [
      "  1210: 2 [  360/  425], train_loss/accuracy = 0.10269687/0.8700000\n",
      "step 1210| pos_acc/neg_acc = 0.80000000/1.0000000,                 pos_pred/all_pred =  4/20\n",
      "step 1211| pos_acc/neg_acc = 0.87500000/1.0000000,                 pos_pred/all_pred =  7/20\n",
      "step 1212| pos_acc/neg_acc = 0.91666667/1.0000000,                 pos_pred/all_pred = 11/20\n",
      "step 1213| pos_acc/neg_acc = 1.00000000/1.0000000,                 pos_pred/all_pred =  7/20\n",
      "step 1214| pos_acc/neg_acc = 0.75000000/1.0000000,                 pos_pred/all_pred =  6/20\n",
      "step 1215| pos_acc/neg_acc = 0.80000000/0.5555556,                 pos_pred/all_pred = 13/20\n",
      "step 1216| pos_acc/neg_acc = 0.75000000/1.0000000,                 pos_pred/all_pred =  9/20\n",
      "step 1217| pos_acc/neg_acc = 1.00000000/0.7500000,                 pos_pred/all_pred = 11/20\n",
      "step 1218| pos_acc/neg_acc = 0.77777778/1.0000000,                 pos_pred/all_pred =  7/20\n",
      "step 1219| pos_acc/neg_acc = 0.91666667/0.7500000,                 pos_pred/all_pred = 13/20\n"
     ]
    },
    {
     "name": "stderr",
     "output_type": "stream",
     "text": [
      "INFO:SubjObjTrainer:  1220: 2 [  370/  425], train_loss/accuracy = 0.08995840/0.8850000\n"
     ]
    },
    {
     "name": "stdout",
     "output_type": "stream",
     "text": [
      "  1220: 2 [  370/  425], train_loss/accuracy = 0.08995840/0.8850000\n",
      "step 1220| pos_acc/neg_acc = 1.00000000/0.8888889,                 pos_pred/all_pred = 12/20\n",
      "step 1221| pos_acc/neg_acc = 1.00000000/1.0000000,                 pos_pred/all_pred = 10/20\n",
      "step 1222| pos_acc/neg_acc = 1.00000000/0.9090909,                 pos_pred/all_pred = 10/20\n",
      "step 1223| pos_acc/neg_acc = 0.50000000/1.0000000,                 pos_pred/all_pred =  5/20\n",
      "step 1224| pos_acc/neg_acc = 1.00000000/0.7500000,                 pos_pred/all_pred = 14/20\n",
      "step 1225| pos_acc/neg_acc = 0.60000000/1.0000000,                 pos_pred/all_pred =  6/20\n",
      "step 1226| pos_acc/neg_acc = 0.91666667/0.8571429,                 pos_pred/all_pred = 13/20\n",
      "step 1227| pos_acc/neg_acc = 0.80000000/0.9000000,                 pos_pred/all_pred =  9/20\n",
      "step 1228| pos_acc/neg_acc = 1.00000000/0.8181818,                 pos_pred/all_pred = 11/20\n",
      "step 1229| pos_acc/neg_acc = 0.66666667/1.0000000,                 pos_pred/all_pred =  7/20\n"
     ]
    },
    {
     "name": "stderr",
     "output_type": "stream",
     "text": [
      "INFO:SubjObjTrainer:  1230: 2 [  380/  425], train_loss/accuracy = 0.09062248/0.8900000\n"
     ]
    },
    {
     "name": "stdout",
     "output_type": "stream",
     "text": [
      "  1230: 2 [  380/  425], train_loss/accuracy = 0.09062248/0.8900000\n",
      "step 1230| pos_acc/neg_acc = 1.00000000/1.0000000,                 pos_pred/all_pred = 12/20\n",
      "step 1231| pos_acc/neg_acc = 1.00000000/1.0000000,                 pos_pred/all_pred =  6/20\n",
      "step 1232| pos_acc/neg_acc = 0.87500000/1.0000000,                 pos_pred/all_pred =  7/20\n",
      "step 1233| pos_acc/neg_acc = 0.90909091/1.0000000,                 pos_pred/all_pred = 11/20\n",
      "step 1234| pos_acc/neg_acc = 0.75000000/0.8333333,                 pos_pred/all_pred =  8/20\n",
      "step 1235| pos_acc/neg_acc = 0.63636364/1.0000000,                 pos_pred/all_pred =  8/20\n",
      "step 1236| pos_acc/neg_acc = 1.00000000/0.5555556,                 pos_pred/all_pred = 15/20\n",
      "step 1237| pos_acc/neg_acc = 0.81818182/1.0000000,                 pos_pred/all_pred =  9/20\n",
      "step 1238| pos_acc/neg_acc = 1.00000000/0.5555556,                 pos_pred/all_pred = 15/20\n",
      "step 1239| pos_acc/neg_acc = 0.77777778/1.0000000,                 pos_pred/all_pred =  7/20\n"
     ]
    },
    {
     "name": "stderr",
     "output_type": "stream",
     "text": [
      "INFO:SubjObjTrainer:  1240: 2 [  390/  425], train_loss/accuracy = 0.11730494/0.8850000\n"
     ]
    },
    {
     "name": "stdout",
     "output_type": "stream",
     "text": [
      "  1240: 2 [  390/  425], train_loss/accuracy = 0.11730494/0.8850000\n",
      "step 1240| pos_acc/neg_acc = 1.00000000/1.0000000,                 pos_pred/all_pred = 12/20\n",
      "step 1241| pos_acc/neg_acc = 0.90000000/1.0000000,                 pos_pred/all_pred =  9/20\n",
      "step 1242| pos_acc/neg_acc = 0.91666667/1.0000000,                 pos_pred/all_pred = 11/20\n",
      "step 1243| pos_acc/neg_acc = 1.00000000/0.8888889,                 pos_pred/all_pred = 12/20\n",
      "step 1244| pos_acc/neg_acc = 0.90909091/1.0000000,                 pos_pred/all_pred = 10/20\n",
      "step 1245| pos_acc/neg_acc = 1.00000000/0.8750000,                 pos_pred/all_pred = 13/20\n",
      "step 1246| pos_acc/neg_acc = 1.00000000/0.8461538,                 pos_pred/all_pred =  9/20\n",
      "step 1247| pos_acc/neg_acc = 0.38461538/1.0000000,                 pos_pred/all_pred =  5/20\n",
      "step 1248| pos_acc/neg_acc = 1.00000000/0.0833333,                 pos_pred/all_pred = 19/20\n",
      "step 1249| pos_acc/neg_acc = 0.20000000/1.0000000,                 pos_pred/all_pred =  2/20\n"
     ]
    },
    {
     "name": "stderr",
     "output_type": "stream",
     "text": [
      "INFO:SubjObjTrainer:  1250: 2 [  400/  425], train_loss/accuracy = 0.15552454/0.8250000\n"
     ]
    },
    {
     "name": "stdout",
     "output_type": "stream",
     "text": [
      "  1250: 2 [  400/  425], train_loss/accuracy = 0.15552454/0.8250000\n",
      "step 1250| pos_acc/neg_acc = 1.00000000/0.3000000,                 pos_pred/all_pred = 17/20\n",
      "step 1251| pos_acc/neg_acc = 0.83333333/1.0000000,                 pos_pred/all_pred = 11/20\n",
      "step 1252| pos_acc/neg_acc = 1.00000000/1.0000000,                 pos_pred/all_pred = 11/20\n",
      "step 1253| pos_acc/neg_acc = 1.00000000/1.0000000,                 pos_pred/all_pred = 10/20\n",
      "step 1254| pos_acc/neg_acc = 1.00000000/1.0000000,                 pos_pred/all_pred =  7/20\n",
      "step 1255| pos_acc/neg_acc = 0.88888889/1.0000000,                 pos_pred/all_pred =  8/20\n",
      "step 1256| pos_acc/neg_acc = 0.88888889/0.9090909,                 pos_pred/all_pred =  9/20\n",
      "step 1257| pos_acc/neg_acc = 0.81818182/1.0000000,                 pos_pred/all_pred =  9/20\n",
      "step 1258| pos_acc/neg_acc = 1.00000000/0.5000000,                 pos_pred/all_pred = 16/20\n",
      "step 1259| pos_acc/neg_acc = 0.50000000/1.0000000,                 pos_pred/all_pred =  5/20\n"
     ]
    },
    {
     "name": "stderr",
     "output_type": "stream",
     "text": [
      "INFO:SubjObjTrainer:  1260: 2 [  410/  425], train_loss/accuracy = 0.11002561/0.8800000\n"
     ]
    },
    {
     "name": "stdout",
     "output_type": "stream",
     "text": [
      "  1260: 2 [  410/  425], train_loss/accuracy = 0.11002561/0.8800000\n",
      "step 1260| pos_acc/neg_acc = 0.91666667/0.8571429,                 pos_pred/all_pred = 13/20\n",
      "step 1261| pos_acc/neg_acc = 0.75000000/1.0000000,                 pos_pred/all_pred =  7/20\n",
      "step 1262| pos_acc/neg_acc = 1.00000000/0.8888889,                 pos_pred/all_pred = 12/20\n",
      "step 1263| pos_acc/neg_acc = 1.00000000/1.0000000,                 pos_pred/all_pred =  6/20\n",
      "step 1264| pos_acc/neg_acc = 0.75000000/1.0000000,                 pos_pred/all_pred = 10/20\n",
      "step 1265| pos_acc/neg_acc = 1.00000000/0.4166667,                 pos_pred/all_pred = 15/20\n",
      "step 1266| pos_acc/neg_acc = 0.50000000/1.0000000,                 pos_pred/all_pred =  5/20\n",
      "step 1267| pos_acc/neg_acc = 1.00000000/0.7272727,                 pos_pred/all_pred = 12/20\n",
      "step 1268| pos_acc/neg_acc = 0.80000000/1.0000000,                 pos_pred/all_pred =  8/20\n",
      "step 1269| pos_acc/neg_acc = 1.00000000/0.9090909,                 pos_pred/all_pred = 10/20\n"
     ]
    },
    {
     "name": "stderr",
     "output_type": "stream",
     "text": [
      "INFO:SubjObjTrainer:  1270: 2 [  420/  425], train_loss/accuracy = 0.12051189/0.8750000\n"
     ]
    },
    {
     "name": "stdout",
     "output_type": "stream",
     "text": [
      "  1270: 2 [  420/  425], train_loss/accuracy = 0.12051189/0.8750000\n",
      "step 1270| pos_acc/neg_acc = 0.90000000/1.0000000,                 pos_pred/all_pred = 10/20\n",
      "step 1271| pos_acc/neg_acc = 0.91666667/0.8750000,                 pos_pred/all_pred = 12/20\n",
      "step 1272| pos_acc/neg_acc = 1.00000000/1.0000000,                 pos_pred/all_pred = 12/20\n",
      "step 1273| pos_acc/neg_acc = 1.00000000/0.9000000,                 pos_pred/all_pred = 11/20\n",
      "step 1274| pos_acc/neg_acc = 1.00000000/1.0000000,                 pos_pred/all_pred =  8/20\n"
     ]
    },
    {
     "name": "stderr",
     "output_type": "stream",
     "text": [
      "INFO:SubjObjTrainer:[    2/   10], valid_loss/accuracy = 0.08464722/0.5300000\n"
     ]
    },
    {
     "name": "stdout",
     "output_type": "stream",
     "text": [
      "[    2/   10], valid_loss/accuracy = 0.08464722/0.5300000\n",
      "step 1275| pos_acc/neg_acc = 0.85714286/1.0000000,                 pos_pred/all_pred = 12/20\n",
      "step 1276| pos_acc/neg_acc = 1.00000000/0.7692308,                 pos_pred/all_pred = 10/20\n",
      "step 1277| pos_acc/neg_acc = 0.45454545/1.0000000,                 pos_pred/all_pred =  5/20\n",
      "step 1278| pos_acc/neg_acc = 1.00000000/0.7272727,                 pos_pred/all_pred = 12/20\n",
      "step 1279| pos_acc/neg_acc = 0.71428571/1.0000000,                 pos_pred/all_pred =  5/20\n"
     ]
    },
    {
     "name": "stderr",
     "output_type": "stream",
     "text": [
      "INFO:SubjObjTrainer:  1280: 3 [    5/  425], train_loss/accuracy = 0.06944534/0.4150000\n"
     ]
    },
    {
     "name": "stdout",
     "output_type": "stream",
     "text": [
      "  1280: 3 [    5/  425], train_loss/accuracy = 0.06944534/0.4150000\n",
      "step 1280| pos_acc/neg_acc = 1.00000000/0.8000000,                 pos_pred/all_pred = 12/20\n",
      "step 1281| pos_acc/neg_acc = 0.62500000/1.0000000,                 pos_pred/all_pred =  5/20\n",
      "step 1282| pos_acc/neg_acc = 0.83333333/0.8750000,                 pos_pred/all_pred = 11/20\n",
      "step 1283| pos_acc/neg_acc = 0.87500000/1.0000000,                 pos_pred/all_pred =  7/20\n",
      "step 1284| pos_acc/neg_acc = 0.88888889/1.0000000,                 pos_pred/all_pred =  8/20\n",
      "step 1285| pos_acc/neg_acc = 1.00000000/1.0000000,                 pos_pred/all_pred = 11/20\n",
      "step 1286| pos_acc/neg_acc = 1.00000000/1.0000000,                 pos_pred/all_pred = 11/20\n",
      "step 1287| pos_acc/neg_acc = 0.88888889/1.0000000,                 pos_pred/all_pred =  8/20\n",
      "step 1288| pos_acc/neg_acc = 1.00000000/1.0000000,                 pos_pred/all_pred =  6/20\n",
      "step 1289| pos_acc/neg_acc = 0.66666667/1.0000000,                 pos_pred/all_pred =  4/20\n"
     ]
    },
    {
     "name": "stderr",
     "output_type": "stream",
     "text": [
      "INFO:SubjObjTrainer:  1290: 3 [   15/  425], train_loss/accuracy = 0.06787924/0.9300000\n"
     ]
    },
    {
     "name": "stdout",
     "output_type": "stream",
     "text": [
      "  1290: 3 [   15/  425], train_loss/accuracy = 0.06787924/0.9300000\n",
      "step 1290| pos_acc/neg_acc = 1.00000000/0.9000000,                 pos_pred/all_pred = 11/20\n",
      "step 1291| pos_acc/neg_acc = 1.00000000/0.9333333,                 pos_pred/all_pred =  6/20\n",
      "step 1292| pos_acc/neg_acc = 1.00000000/1.0000000,                 pos_pred/all_pred =  9/20\n",
      "step 1293| pos_acc/neg_acc = 1.00000000/1.0000000,                 pos_pred/all_pred =  8/20\n",
      "step 1294| pos_acc/neg_acc = 0.80000000/1.0000000,                 pos_pred/all_pred =  8/20\n",
      "step 1295| pos_acc/neg_acc = 1.00000000/1.0000000,                 pos_pred/all_pred =  8/20\n",
      "step 1296| pos_acc/neg_acc = 0.83333333/1.0000000,                 pos_pred/all_pred = 11/20\n",
      "step 1297| pos_acc/neg_acc = 0.90909091/0.7500000,                 pos_pred/all_pred = 13/20\n",
      "step 1298| pos_acc/neg_acc = 1.00000000/1.0000000,                 pos_pred/all_pred =  6/20\n",
      "step 1299| pos_acc/neg_acc = 1.00000000/0.9000000,                 pos_pred/all_pred = 11/20\n"
     ]
    },
    {
     "name": "stderr",
     "output_type": "stream",
     "text": [
      "INFO:SubjObjTrainer:  1300: 3 [   25/  425], train_loss/accuracy = 0.06310067/0.9500000\n"
     ]
    },
    {
     "name": "stdout",
     "output_type": "stream",
     "text": [
      "  1300: 3 [   25/  425], train_loss/accuracy = 0.06310067/0.9500000\n",
      "step 1300| pos_acc/neg_acc = 1.00000000/1.0000000,                 pos_pred/all_pred =  6/20\n",
      "step 1301| pos_acc/neg_acc = 0.80000000/1.0000000,                 pos_pred/all_pred =  8/20\n",
      "step 1302| pos_acc/neg_acc = 1.00000000/0.9090909,                 pos_pred/all_pred = 10/20\n",
      "step 1303| pos_acc/neg_acc = 0.88888889/1.0000000,                 pos_pred/all_pred =  9/20\n",
      "step 1304| pos_acc/neg_acc = 1.00000000/1.0000000,                 pos_pred/all_pred = 13/20\n",
      "step 1305| pos_acc/neg_acc = 0.83333333/1.0000000,                 pos_pred/all_pred =  5/20\n",
      "step 1306| pos_acc/neg_acc = 0.92307692/1.0000000,                 pos_pred/all_pred = 13/20\n",
      "step 1307| pos_acc/neg_acc = 0.87500000/0.8181818,                 pos_pred/all_pred = 10/20\n",
      "step 1308| pos_acc/neg_acc = 0.44444444/1.0000000,                 pos_pred/all_pred =  5/20\n",
      "step 1309| pos_acc/neg_acc = 1.00000000/0.7272727,                 pos_pred/all_pred = 12/20\n"
     ]
    },
    {
     "name": "stderr",
     "output_type": "stream",
     "text": [
      "INFO:SubjObjTrainer:  1310: 3 [   35/  425], train_loss/accuracy = 0.08675899/0.9050000\n"
     ]
    },
    {
     "name": "stdout",
     "output_type": "stream",
     "text": [
      "  1310: 3 [   35/  425], train_loss/accuracy = 0.08675899/0.9050000\n",
      "step 1310| pos_acc/neg_acc = 1.00000000/1.0000000,                 pos_pred/all_pred =  8/20\n",
      "step 1311| pos_acc/neg_acc = 0.33333333/1.0000000,                 pos_pred/all_pred =  5/20\n",
      "step 1312| pos_acc/neg_acc = 1.00000000/0.1428571,                 pos_pred/all_pred = 18/20\n",
      "step 1313| pos_acc/neg_acc = 0.07692308/1.0000000,                 pos_pred/all_pred =  1/20\n",
      "step 1314| pos_acc/neg_acc = 1.00000000/0.2500000,                 pos_pred/all_pred = 18/20\n",
      "step 1315| pos_acc/neg_acc = 0.66666667/1.0000000,                 pos_pred/all_pred =  4/20\n",
      "step 1316| pos_acc/neg_acc = 1.00000000/0.7142857,                 pos_pred/all_pred = 15/20\n",
      "step 1317| pos_acc/neg_acc = 0.66666667/1.0000000,                 pos_pred/all_pred =  7/20\n",
      "step 1318| pos_acc/neg_acc = 1.00000000/0.8000000,                 pos_pred/all_pred = 12/20\n",
      "step 1319| pos_acc/neg_acc = 0.91666667/1.0000000,                 pos_pred/all_pred = 12/20\n"
     ]
    },
    {
     "name": "stderr",
     "output_type": "stream",
     "text": [
      "INFO:SubjObjTrainer:  1320: 3 [   45/  425], train_loss/accuracy = 0.21184318/0.7550000\n"
     ]
    },
    {
     "name": "stdout",
     "output_type": "stream",
     "text": [
      "  1320: 3 [   45/  425], train_loss/accuracy = 0.21184318/0.7550000\n",
      "step 1320| pos_acc/neg_acc = 0.90000000/1.0000000,                 pos_pred/all_pred =  9/20\n",
      "step 1321| pos_acc/neg_acc = 0.87500000/0.9166667,                 pos_pred/all_pred =  8/20\n",
      "step 1322| pos_acc/neg_acc = 0.70000000/1.0000000,                 pos_pred/all_pred =  7/20\n",
      "step 1323| pos_acc/neg_acc = 1.00000000/0.7857143,                 pos_pred/all_pred =  9/20\n",
      "step 1324| pos_acc/neg_acc = 0.57142857/1.0000000,                 pos_pred/all_pred =  4/20\n",
      "step 1325| pos_acc/neg_acc = 1.00000000/0.8333333,                 pos_pred/all_pred = 15/20\n",
      "step 1326| pos_acc/neg_acc = 1.00000000/0.9090909,                 pos_pred/all_pred = 10/20\n",
      "step 1327| pos_acc/neg_acc = 0.91666667/1.0000000,                 pos_pred/all_pred = 12/20\n",
      "step 1328| pos_acc/neg_acc = 1.00000000/1.0000000,                 pos_pred/all_pred = 10/20\n",
      "step 1329| pos_acc/neg_acc = 0.57142857/1.0000000,                 pos_pred/all_pred =  4/20\n"
     ]
    },
    {
     "name": "stderr",
     "output_type": "stream",
     "text": [
      "INFO:SubjObjTrainer:  1330: 3 [   55/  425], train_loss/accuracy = 0.08828755/0.9050000\n"
     ]
    },
    {
     "name": "stdout",
     "output_type": "stream",
     "text": [
      "  1330: 3 [   55/  425], train_loss/accuracy = 0.08828755/0.9050000\n",
      "step 1330| pos_acc/neg_acc = 0.90909091/0.8750000,                 pos_pred/all_pred = 12/20\n",
      "step 1331| pos_acc/neg_acc = 1.00000000/0.9090909,                 pos_pred/all_pred = 10/20\n",
      "step 1332| pos_acc/neg_acc = 0.88888889/1.0000000,                 pos_pred/all_pred =  8/20\n",
      "step 1333| pos_acc/neg_acc = 0.91666667/1.0000000,                 pos_pred/all_pred = 12/20\n",
      "step 1334| pos_acc/neg_acc = 1.00000000/0.9000000,                 pos_pred/all_pred = 11/20\n",
      "step 1335| pos_acc/neg_acc = 0.90000000/1.0000000,                 pos_pred/all_pred = 10/20\n",
      "step 1336| pos_acc/neg_acc = 0.91666667/0.8750000,                 pos_pred/all_pred = 12/20\n",
      "step 1337| pos_acc/neg_acc = 1.00000000/1.0000000,                 pos_pred/all_pred =  9/20\n",
      "step 1338| pos_acc/neg_acc = 0.87500000/0.9166667,                 pos_pred/all_pred =  8/20\n",
      "step 1339| pos_acc/neg_acc = 0.90909091/1.0000000,                 pos_pred/all_pred = 10/20\n"
     ]
    },
    {
     "name": "stderr",
     "output_type": "stream",
     "text": [
      "INFO:SubjObjTrainer:  1340: 3 [   65/  425], train_loss/accuracy = 0.07338120/0.9350000\n"
     ]
    },
    {
     "name": "stdout",
     "output_type": "stream",
     "text": [
      "  1340: 3 [   65/  425], train_loss/accuracy = 0.07338120/0.9350000\n",
      "step 1340| pos_acc/neg_acc = 1.00000000/0.7777778,                 pos_pred/all_pred = 13/20\n",
      "step 1341| pos_acc/neg_acc = 0.84615385/1.0000000,                 pos_pred/all_pred = 12/20\n",
      "step 1342| pos_acc/neg_acc = 1.00000000/0.6666667,                 pos_pred/all_pred = 14/20\n",
      "step 1343| pos_acc/neg_acc = 1.00000000/1.0000000,                 pos_pred/all_pred = 12/20\n",
      "step 1344| pos_acc/neg_acc = 1.00000000/1.0000000,                 pos_pred/all_pred = 14/20\n",
      "step 1345| pos_acc/neg_acc = 1.00000000/0.8000000,                 pos_pred/all_pred = 12/20\n",
      "step 1346| pos_acc/neg_acc = 0.90909091/1.0000000,                 pos_pred/all_pred = 11/20\n",
      "step 1347| pos_acc/neg_acc = 1.00000000/0.8000000,                 pos_pred/all_pred = 12/20\n",
      "step 1348| pos_acc/neg_acc = 0.77777778/1.0000000,                 pos_pred/all_pred =  7/20\n",
      "step 1349| pos_acc/neg_acc = 1.00000000/1.0000000,                 pos_pred/all_pred =  7/20\n"
     ]
    },
    {
     "name": "stderr",
     "output_type": "stream",
     "text": [
      "INFO:SubjObjTrainer:  1350: 3 [   75/  425], train_loss/accuracy = 0.07827826/0.9300000\n"
     ]
    },
    {
     "name": "stdout",
     "output_type": "stream",
     "text": [
      "  1350: 3 [   75/  425], train_loss/accuracy = 0.07827826/0.9300000\n",
      "step 1350| pos_acc/neg_acc = 0.71428571/1.0000000,                 pos_pred/all_pred =  5/20\n",
      "step 1351| pos_acc/neg_acc = 1.00000000/0.7272727,                 pos_pred/all_pred = 12/20\n",
      "step 1352| pos_acc/neg_acc = 0.77777778/1.0000000,                 pos_pred/all_pred =  7/20\n",
      "step 1353| pos_acc/neg_acc = 0.77777778/1.0000000,                 pos_pred/all_pred =  8/20\n",
      "step 1354| pos_acc/neg_acc = 1.00000000/0.8333333,                 pos_pred/all_pred = 10/20\n",
      "step 1355| pos_acc/neg_acc = 0.80000000/1.0000000,                 pos_pred/all_pred =  8/20\n",
      "step 1356| pos_acc/neg_acc = 0.66666667/1.0000000,                 pos_pred/all_pred =  6/20\n",
      "step 1357| pos_acc/neg_acc = 1.00000000/0.8000000,                 pos_pred/all_pred = 12/20\n",
      "step 1358| pos_acc/neg_acc = 0.44444444/1.0000000,                 pos_pred/all_pred =  5/20\n",
      "step 1359| pos_acc/neg_acc = 1.00000000/0.7000000,                 pos_pred/all_pred = 13/20\n"
     ]
    },
    {
     "name": "stderr",
     "output_type": "stream",
     "text": [
      "INFO:SubjObjTrainer:  1360: 3 [   85/  425], train_loss/accuracy = 0.11131132/0.8550000\n"
     ]
    },
    {
     "name": "stdout",
     "output_type": "stream",
     "text": [
      "  1360: 3 [   85/  425], train_loss/accuracy = 0.11131132/0.8550000\n",
      "step 1360| pos_acc/neg_acc = 0.77777778/1.0000000,                 pos_pred/all_pred =  7/20\n",
      "step 1361| pos_acc/neg_acc = 0.87500000/1.0000000,                 pos_pred/all_pred =  8/20\n",
      "step 1362| pos_acc/neg_acc = 0.66666667/1.0000000,                 pos_pred/all_pred =  6/20\n",
      "step 1363| pos_acc/neg_acc = 0.91666667/0.8571429,                 pos_pred/all_pred = 13/20\n",
      "step 1364| pos_acc/neg_acc = 0.91666667/1.0000000,                 pos_pred/all_pred = 12/20\n",
      "step 1365| pos_acc/neg_acc = 1.00000000/0.9090909,                 pos_pred/all_pred = 10/20\n",
      "step 1366| pos_acc/neg_acc = 0.55555556/1.0000000,                 pos_pred/all_pred =  5/20\n",
      "step 1367| pos_acc/neg_acc = 0.90909091/0.7500000,                 pos_pred/all_pred = 13/20\n",
      "step 1368| pos_acc/neg_acc = 0.92307692/0.8571429,                 pos_pred/all_pred = 13/20\n",
      "step 1369| pos_acc/neg_acc = 1.00000000/1.0000000,                 pos_pred/all_pred = 11/20\n"
     ]
    },
    {
     "name": "stderr",
     "output_type": "stream",
     "text": [
      "INFO:SubjObjTrainer:  1370: 3 [   95/  425], train_loss/accuracy = 0.08838212/0.9050000\n"
     ]
    },
    {
     "name": "stdout",
     "output_type": "stream",
     "text": [
      "  1370: 3 [   95/  425], train_loss/accuracy = 0.08838212/0.9050000\n",
      "step 1370| pos_acc/neg_acc = 0.90909091/0.8750000,                 pos_pred/all_pred = 12/20\n",
      "step 1371| pos_acc/neg_acc = 0.91666667/0.5714286,                 pos_pred/all_pred = 15/20\n",
      "step 1372| pos_acc/neg_acc = 0.90000000/0.9000000,                 pos_pred/all_pred = 10/20\n",
      "step 1373| pos_acc/neg_acc = 0.83333333/1.0000000,                 pos_pred/all_pred = 10/20\n",
      "step 1374| pos_acc/neg_acc = 1.00000000/0.6666667,                 pos_pred/all_pred = 12/20\n",
      "step 1375| pos_acc/neg_acc = 0.44444444/1.0000000,                 pos_pred/all_pred =  4/20\n",
      "step 1376| pos_acc/neg_acc = 1.00000000/0.8571429,                 pos_pred/all_pred = 14/20\n",
      "step 1377| pos_acc/neg_acc = 1.00000000/0.9166667,                 pos_pred/all_pred =  9/20\n",
      "step 1378| pos_acc/neg_acc = 0.72727273/1.0000000,                 pos_pred/all_pred =  8/20\n",
      "step 1379| pos_acc/neg_acc = 1.00000000/0.8571429,                 pos_pred/all_pred = 14/20\n"
     ]
    },
    {
     "name": "stderr",
     "output_type": "stream",
     "text": [
      "INFO:SubjObjTrainer:  1380: 3 [  105/  425], train_loss/accuracy = 0.09556529/0.8750000\n"
     ]
    },
    {
     "name": "stdout",
     "output_type": "stream",
     "text": [
      "  1380: 3 [  105/  425], train_loss/accuracy = 0.09556529/0.8750000\n",
      "step 1380| pos_acc/neg_acc = 0.76923077/1.0000000,                 pos_pred/all_pred = 10/20\n",
      "step 1381| pos_acc/neg_acc = 1.00000000/0.5384615,                 pos_pred/all_pred = 13/20\n",
      "step 1382| pos_acc/neg_acc = 0.75000000/1.0000000,                 pos_pred/all_pred =  6/20\n",
      "step 1383| pos_acc/neg_acc = 1.00000000/0.8333333,                 pos_pred/all_pred = 10/20\n",
      "step 1384| pos_acc/neg_acc = 0.77777778/1.0000000,                 pos_pred/all_pred =  7/20\n",
      "step 1385| pos_acc/neg_acc = 1.00000000/1.0000000,                 pos_pred/all_pred =  7/20\n",
      "step 1386| pos_acc/neg_acc = 0.66666667/1.0000000,                 pos_pred/all_pred =  4/20\n",
      "step 1387| pos_acc/neg_acc = 0.90909091/1.0000000,                 pos_pred/all_pred = 10/20\n",
      "step 1388| pos_acc/neg_acc = 1.00000000/0.7272727,                 pos_pred/all_pred = 12/20\n",
      "step 1389| pos_acc/neg_acc = 0.57142857/1.0000000,                 pos_pred/all_pred =  5/20\n"
     ]
    },
    {
     "name": "stderr",
     "output_type": "stream",
     "text": [
      "INFO:SubjObjTrainer:  1390: 3 [  115/  425], train_loss/accuracy = 0.10362854/0.8800000\n"
     ]
    },
    {
     "name": "stdout",
     "output_type": "stream",
     "text": [
      "  1390: 3 [  115/  425], train_loss/accuracy = 0.10362854/0.8800000\n",
      "step 1390| pos_acc/neg_acc = 0.87500000/0.8181818,                 pos_pred/all_pred = 10/20\n",
      "step 1391| pos_acc/neg_acc = 0.80000000/1.0000000,                 pos_pred/all_pred =  9/20\n",
      "step 1392| pos_acc/neg_acc = 1.00000000/0.8571429,                 pos_pred/all_pred = 14/20\n",
      "step 1393| pos_acc/neg_acc = 0.66666667/1.0000000,                 pos_pred/all_pred =  9/20\n",
      "step 1394| pos_acc/neg_acc = 1.00000000/0.3333333,                 pos_pred/all_pred = 17/20\n",
      "step 1395| pos_acc/neg_acc = 0.50000000/0.9166667,                 pos_pred/all_pred =  5/20\n",
      "step 1396| pos_acc/neg_acc = 1.00000000/0.8461538,                 pos_pred/all_pred =  9/20\n",
      "step 1397| pos_acc/neg_acc = 0.54545455/1.0000000,                 pos_pred/all_pred =  7/20\n",
      "step 1398| pos_acc/neg_acc = 1.00000000/1.0000000,                 pos_pred/all_pred = 11/20\n",
      "step 1399| pos_acc/neg_acc = 0.91666667/0.8571429,                 pos_pred/all_pred = 13/20\n"
     ]
    },
    {
     "name": "stderr",
     "output_type": "stream",
     "text": [
      "INFO:SubjObjTrainer:  1400: 3 [  125/  425], train_loss/accuracy = 0.12649433/0.8500000\n"
     ]
    },
    {
     "name": "stdout",
     "output_type": "stream",
     "text": [
      "  1400: 3 [  125/  425], train_loss/accuracy = 0.12649433/0.8500000\n",
      "step 1400| pos_acc/neg_acc = 1.00000000/1.0000000,                 pos_pred/all_pred =  8/20\n",
      "step 1401| pos_acc/neg_acc = 0.88888889/1.0000000,                 pos_pred/all_pred =  8/20\n",
      "step 1402| pos_acc/neg_acc = 1.00000000/1.0000000,                 pos_pred/all_pred = 13/20\n",
      "step 1403| pos_acc/neg_acc = 1.00000000/0.8461538,                 pos_pred/all_pred =  9/20\n",
      "step 1404| pos_acc/neg_acc = 1.00000000/1.0000000,                 pos_pred/all_pred =  8/20\n",
      "step 1405| pos_acc/neg_acc = 1.00000000/1.0000000,                 pos_pred/all_pred =  7/20\n",
      "step 1406| pos_acc/neg_acc = 0.83333333/1.0000000,                 pos_pred/all_pred =  5/20\n",
      "step 1407| pos_acc/neg_acc = 1.00000000/0.9090909,                 pos_pred/all_pred = 10/20\n",
      "step 1408| pos_acc/neg_acc = 0.60000000/1.0000000,                 pos_pred/all_pred =  6/20\n",
      "step 1409| pos_acc/neg_acc = 1.00000000/0.4000000,                 pos_pred/all_pred = 16/20\n"
     ]
    },
    {
     "name": "stderr",
     "output_type": "stream",
     "text": [
      "INFO:SubjObjTrainer:  1410: 3 [  135/  425], train_loss/accuracy = 0.08588974/0.9200000\n"
     ]
    },
    {
     "name": "stdout",
     "output_type": "stream",
     "text": [
      "  1410: 3 [  135/  425], train_loss/accuracy = 0.08588974/0.9200000\n",
      "step 1410| pos_acc/neg_acc = 0.50000000/1.0000000,                 pos_pred/all_pred =  5/20\n",
      "step 1411| pos_acc/neg_acc = 1.00000000/0.3750000,                 pos_pred/all_pred = 17/20\n",
      "step 1412| pos_acc/neg_acc = 0.23076923/1.0000000,                 pos_pred/all_pred =  3/20\n",
      "step 1413| pos_acc/neg_acc = 1.00000000/0.0000000,                 pos_pred/all_pred = 20/20\n",
      "step 1414| pos_acc/neg_acc = 0.12500000/1.0000000,                 pos_pred/all_pred =  1/20\n",
      "step 1415| pos_acc/neg_acc = 1.00000000/0.1818182,                 pos_pred/all_pred = 18/20\n",
      "step 1416| pos_acc/neg_acc = 0.77777778/1.0000000,                 pos_pred/all_pred =  8/20\n",
      "step 1417| pos_acc/neg_acc = 1.00000000/0.9166667,                 pos_pred/all_pred =  9/20\n",
      "step 1418| pos_acc/neg_acc = 0.92307692/1.0000000,                 pos_pred/all_pred = 12/20\n",
      "step 1419| pos_acc/neg_acc = 1.00000000/0.6923077,                 pos_pred/all_pred = 11/20\n"
     ]
    },
    {
     "name": "stderr",
     "output_type": "stream",
     "text": [
      "INFO:SubjObjTrainer:  1420: 3 [  145/  425], train_loss/accuracy = 0.22678450/0.7100000\n"
     ]
    },
    {
     "name": "stdout",
     "output_type": "stream",
     "text": [
      "  1420: 3 [  145/  425], train_loss/accuracy = 0.22678450/0.7100000\n",
      "step 1420| pos_acc/neg_acc = 0.66666667/1.0000000,                 pos_pred/all_pred =  6/20\n",
      "step 1421| pos_acc/neg_acc = 1.00000000/0.7500000,                 pos_pred/all_pred = 14/20\n",
      "step 1422| pos_acc/neg_acc = 1.00000000/0.9230769,                 pos_pred/all_pred =  8/20\n",
      "step 1423| pos_acc/neg_acc = 0.53846154/1.0000000,                 pos_pred/all_pred =  7/20\n",
      "step 1424| pos_acc/neg_acc = 1.00000000/0.5000000,                 pos_pred/all_pred = 16/20\n",
      "step 1425| pos_acc/neg_acc = 0.84615385/1.0000000,                 pos_pred/all_pred = 11/20\n",
      "step 1426| pos_acc/neg_acc = 1.00000000/1.0000000,                 pos_pred/all_pred =  8/20\n",
      "step 1427| pos_acc/neg_acc = 0.90000000/1.0000000,                 pos_pred/all_pred =  9/20\n",
      "step 1428| pos_acc/neg_acc = 1.00000000/0.8750000,                 pos_pred/all_pred = 13/20\n",
      "step 1429| pos_acc/neg_acc = 1.00000000/1.0000000,                 pos_pred/all_pred =  8/20\n"
     ]
    },
    {
     "name": "stderr",
     "output_type": "stream",
     "text": [
      "INFO:SubjObjTrainer:  1430: 3 [  155/  425], train_loss/accuracy = 0.10965651/0.9000000\n"
     ]
    },
    {
     "name": "stdout",
     "output_type": "stream",
     "text": [
      "  1430: 3 [  155/  425], train_loss/accuracy = 0.10965651/0.9000000\n",
      "step 1430| pos_acc/neg_acc = 0.91666667/1.0000000,                 pos_pred/all_pred = 11/20\n",
      "step 1431| pos_acc/neg_acc = 1.00000000/0.8888889,                 pos_pred/all_pred = 11/20\n",
      "step 1432| pos_acc/neg_acc = 0.76923077/1.0000000,                 pos_pred/all_pred = 10/20\n",
      "step 1433| pos_acc/neg_acc = 1.00000000/0.5000000,                 pos_pred/all_pred = 15/20\n",
      "step 1434| pos_acc/neg_acc = 0.55555556/1.0000000,                 pos_pred/all_pred =  6/20\n",
      "step 1435| pos_acc/neg_acc = 1.00000000/0.6428571,                 pos_pred/all_pred = 11/20\n",
      "step 1436| pos_acc/neg_acc = 0.16666667/1.0000000,                 pos_pred/all_pred =  2/20\n",
      "step 1437| pos_acc/neg_acc = 1.00000000/0.1250000,                 pos_pred/all_pred = 19/20\n",
      "step 1438| pos_acc/neg_acc = 0.45454545/1.0000000,                 pos_pred/all_pred =  5/20\n",
      "step 1439| pos_acc/neg_acc = 1.00000000/0.2500000,                 pos_pred/all_pred = 18/20\n"
     ]
    },
    {
     "name": "stderr",
     "output_type": "stream",
     "text": [
      "INFO:SubjObjTrainer:  1440: 3 [  165/  425], train_loss/accuracy = 0.15806282/0.7550000\n"
     ]
    },
    {
     "name": "stdout",
     "output_type": "stream",
     "text": [
      "  1440: 3 [  165/  425], train_loss/accuracy = 0.15806282/0.7550000\n",
      "step 1440| pos_acc/neg_acc = 0.91666667/1.0000000,                 pos_pred/all_pred = 11/20\n",
      "step 1441| pos_acc/neg_acc = 1.00000000/1.0000000,                 pos_pred/all_pred =  9/20\n",
      "step 1442| pos_acc/neg_acc = 0.77777778/1.0000000,                 pos_pred/all_pred =  8/20\n",
      "step 1443| pos_acc/neg_acc = 1.00000000/1.0000000,                 pos_pred/all_pred = 14/20\n",
      "step 1444| pos_acc/neg_acc = 1.00000000/1.0000000,                 pos_pred/all_pred = 13/20\n",
      "step 1445| pos_acc/neg_acc = 1.00000000/0.9166667,                 pos_pred/all_pred =  9/20\n",
      "step 1446| pos_acc/neg_acc = 0.28571429/1.0000000,                 pos_pred/all_pred =  3/20\n",
      "step 1447| pos_acc/neg_acc = 1.00000000/0.7500000,                 pos_pred/all_pred = 14/20\n",
      "step 1448| pos_acc/neg_acc = 0.72727273/1.0000000,                 pos_pred/all_pred =  9/20\n",
      "step 1449| pos_acc/neg_acc = 1.00000000/0.8000000,                 pos_pred/all_pred =  8/20\n"
     ]
    },
    {
     "name": "stderr",
     "output_type": "stream",
     "text": [
      "INFO:SubjObjTrainer:  1450: 3 [  175/  425], train_loss/accuracy = 0.09851637/0.9150000\n"
     ]
    },
    {
     "name": "stdout",
     "output_type": "stream",
     "text": [
      "  1450: 3 [  175/  425], train_loss/accuracy = 0.09851637/0.9150000\n",
      "step 1450| pos_acc/neg_acc = 0.50000000/1.0000000,                 pos_pred/all_pred =  5/20\n",
      "step 1451| pos_acc/neg_acc = 1.00000000/0.4444444,                 pos_pred/all_pred = 16/20\n",
      "step 1452| pos_acc/neg_acc = 0.87500000/1.0000000,                 pos_pred/all_pred =  7/20\n",
      "step 1453| pos_acc/neg_acc = 1.00000000/1.0000000,                 pos_pred/all_pred = 11/20\n",
      "step 1454| pos_acc/neg_acc = 0.72727273/1.0000000,                 pos_pred/all_pred =  9/20\n",
      "step 1455| pos_acc/neg_acc = 1.00000000/0.5555556,                 pos_pred/all_pred = 15/20\n",
      "step 1456| pos_acc/neg_acc = 0.66666667/1.0000000,                 pos_pred/all_pred =  6/20\n",
      "step 1457| pos_acc/neg_acc = 0.90000000/0.7777778,                 pos_pred/all_pred = 12/20\n",
      "step 1458| pos_acc/neg_acc = 0.77777778/1.0000000,                 pos_pred/all_pred =  8/20\n",
      "step 1459| pos_acc/neg_acc = 1.00000000/0.8333333,                 pos_pred/all_pred = 10/20\n"
     ]
    },
    {
     "name": "stderr",
     "output_type": "stream",
     "text": [
      "INFO:SubjObjTrainer:  1460: 3 [  185/  425], train_loss/accuracy = 0.09379604/0.8600000\n"
     ]
    },
    {
     "name": "stdout",
     "output_type": "stream",
     "text": [
      "  1460: 3 [  185/  425], train_loss/accuracy = 0.09379604/0.8600000\n",
      "step 1460| pos_acc/neg_acc = 0.80000000/1.0000000,                 pos_pred/all_pred =  9/20\n",
      "step 1461| pos_acc/neg_acc = 1.00000000/0.7647059,                 pos_pred/all_pred =  7/20\n",
      "step 1462| pos_acc/neg_acc = 0.25000000/1.0000000,                 pos_pred/all_pred =  2/20\n",
      "step 1463| pos_acc/neg_acc = 1.00000000/0.6666667,                 pos_pred/all_pred = 12/20\n",
      "step 1464| pos_acc/neg_acc = 1.00000000/1.0000000,                 pos_pred/all_pred =  6/20\n",
      "step 1465| pos_acc/neg_acc = 0.60000000/1.0000000,                 pos_pred/all_pred =  6/20\n",
      "step 1466| pos_acc/neg_acc = 1.00000000/1.0000000,                 pos_pred/all_pred =  8/20\n",
      "step 1467| pos_acc/neg_acc = 0.83333333/1.0000000,                 pos_pred/all_pred = 10/20\n",
      "step 1468| pos_acc/neg_acc = 1.00000000/0.7142857,                 pos_pred/all_pred = 15/20\n",
      "step 1469| pos_acc/neg_acc = 0.86666667/1.0000000,                 pos_pred/all_pred = 14/20\n"
     ]
    },
    {
     "name": "stderr",
     "output_type": "stream",
     "text": [
      "INFO:SubjObjTrainer:  1470: 3 [  195/  425], train_loss/accuracy = 0.11866327/0.8650000\n"
     ]
    },
    {
     "name": "stdout",
     "output_type": "stream",
     "text": [
      "  1470: 3 [  195/  425], train_loss/accuracy = 0.11866327/0.8650000\n",
      "step 1470| pos_acc/neg_acc = 1.00000000/0.4545455,                 pos_pred/all_pred = 15/20\n",
      "step 1471| pos_acc/neg_acc = 0.33333333/1.0000000,                 pos_pred/all_pred =  4/20\n",
      "step 1472| pos_acc/neg_acc = 1.00000000/0.4166667,                 pos_pred/all_pred = 15/20\n",
      "step 1473| pos_acc/neg_acc = 0.50000000/1.0000000,                 pos_pred/all_pred =  5/20\n",
      "step 1474| pos_acc/neg_acc = 0.77777778/0.9090909,                 pos_pred/all_pred =  8/20\n",
      "step 1475| pos_acc/neg_acc = 0.80000000/1.0000000,                 pos_pred/all_pred =  8/20\n",
      "step 1476| pos_acc/neg_acc = 1.00000000/0.5000000,                 pos_pred/all_pred = 16/20\n",
      "step 1477| pos_acc/neg_acc = 0.30000000/1.0000000,                 pos_pred/all_pred =  3/20\n",
      "step 1478| pos_acc/neg_acc = 1.00000000/0.5000000,                 pos_pred/all_pred = 15/20\n",
      "step 1479| pos_acc/neg_acc = 0.72727273/1.0000000,                 pos_pred/all_pred =  9/20\n"
     ]
    },
    {
     "name": "stderr",
     "output_type": "stream",
     "text": [
      "INFO:SubjObjTrainer:  1480: 3 [  205/  425], train_loss/accuracy = 0.17451553/0.7650000\n"
     ]
    },
    {
     "name": "stdout",
     "output_type": "stream",
     "text": [
      "  1480: 3 [  205/  425], train_loss/accuracy = 0.17451553/0.7650000\n",
      "step 1480| pos_acc/neg_acc = 1.00000000/0.8888889,                 pos_pred/all_pred = 12/20\n",
      "step 1481| pos_acc/neg_acc = 0.83333333/0.9230769,                 pos_pred/all_pred =  7/20\n",
      "step 1482| pos_acc/neg_acc = 1.00000000/1.0000000,                 pos_pred/all_pred = 11/20\n",
      "step 1483| pos_acc/neg_acc = 1.00000000/0.7272727,                 pos_pred/all_pred = 12/20\n",
      "step 1484| pos_acc/neg_acc = 0.50000000/1.0000000,                 pos_pred/all_pred =  3/20\n",
      "step 1485| pos_acc/neg_acc = 1.00000000/0.8571429,                 pos_pred/all_pred = 14/20\n",
      "step 1486| pos_acc/neg_acc = 1.00000000/0.9166667,                 pos_pred/all_pred =  9/20\n",
      "step 1487| pos_acc/neg_acc = 0.62500000/1.0000000,                 pos_pred/all_pred =  6/20\n",
      "step 1488| pos_acc/neg_acc = 1.00000000/0.8461538,                 pos_pred/all_pred =  9/20\n",
      "step 1489| pos_acc/neg_acc = 0.66666667/1.0000000,                 pos_pred/all_pred =  7/20\n"
     ]
    },
    {
     "name": "stderr",
     "output_type": "stream",
     "text": [
      "INFO:SubjObjTrainer:  1490: 3 [  215/  425], train_loss/accuracy = 0.08940531/0.9050000\n"
     ]
    },
    {
     "name": "stdout",
     "output_type": "stream",
     "text": [
      "  1490: 3 [  215/  425], train_loss/accuracy = 0.08940531/0.9050000\n",
      "step 1490| pos_acc/neg_acc = 1.00000000/0.9166667,                 pos_pred/all_pred =  9/20\n",
      "step 1491| pos_acc/neg_acc = 0.72727273/1.0000000,                 pos_pred/all_pred =  9/20\n",
      "step 1492| pos_acc/neg_acc = 1.00000000/0.8333333,                 pos_pred/all_pred = 10/20\n",
      "step 1493| pos_acc/neg_acc = 0.72727273/1.0000000,                 pos_pred/all_pred =  8/20\n",
      "step 1494| pos_acc/neg_acc = 1.00000000/0.8571429,                 pos_pred/all_pred = 14/20\n",
      "step 1495| pos_acc/neg_acc = 0.87500000/1.0000000,                 pos_pred/all_pred =  7/20\n",
      "step 1496| pos_acc/neg_acc = 0.85714286/1.0000000,                 pos_pred/all_pred = 12/20\n",
      "step 1497| pos_acc/neg_acc = 1.00000000/0.5833333,                 pos_pred/all_pred = 13/20\n",
      "step 1498| pos_acc/neg_acc = 1.00000000/1.0000000,                 pos_pred/all_pred =  9/20\n",
      "step 1499| pos_acc/neg_acc = 0.90909091/0.8750000,                 pos_pred/all_pred = 12/20\n"
     ]
    },
    {
     "name": "stderr",
     "output_type": "stream",
     "text": [
      "INFO:SubjObjTrainer:  1500: 3 [  225/  425], train_loss/accuracy = 0.09536655/0.9000000\n"
     ]
    },
    {
     "name": "stdout",
     "output_type": "stream",
     "text": [
      "  1500: 3 [  225/  425], train_loss/accuracy = 0.09536655/0.9000000\n",
      "step 1500| pos_acc/neg_acc = 1.00000000/1.0000000,                 pos_pred/all_pred =  9/20\n",
      "step 1501| pos_acc/neg_acc = 0.66666667/0.8571429,                 pos_pred/all_pred = 10/20\n",
      "step 1502| pos_acc/neg_acc = 1.00000000/0.4545455,                 pos_pred/all_pred = 15/20\n",
      "step 1503| pos_acc/neg_acc = 0.57142857/1.0000000,                 pos_pred/all_pred =  4/20\n",
      "step 1504| pos_acc/neg_acc = 1.00000000/0.4615385,                 pos_pred/all_pred = 14/20\n",
      "step 1505| pos_acc/neg_acc = 0.11111111/1.0000000,                 pos_pred/all_pred =  1/20\n",
      "step 1506| pos_acc/neg_acc = 1.00000000/0.0000000,                 pos_pred/all_pred = 20/20\n",
      "step 1507| pos_acc/neg_acc = 0.44444444/1.0000000,                 pos_pred/all_pred =  4/20\n",
      "step 1508| pos_acc/neg_acc = 1.00000000/0.6666667,                 pos_pred/all_pred = 16/20\n",
      "step 1509| pos_acc/neg_acc = 0.75000000/1.0000000,                 pos_pred/all_pred =  6/20\n"
     ]
    },
    {
     "name": "stderr",
     "output_type": "stream",
     "text": [
      "INFO:SubjObjTrainer:  1510: 3 [  235/  425], train_loss/accuracy = 0.18873449/0.7550000\n"
     ]
    },
    {
     "name": "stdout",
     "output_type": "stream",
     "text": [
      "  1510: 3 [  235/  425], train_loss/accuracy = 0.18873449/0.7550000\n",
      "step 1510| pos_acc/neg_acc = 1.00000000/1.0000000,                 pos_pred/all_pred = 11/20\n",
      "step 1511| pos_acc/neg_acc = 0.80000000/1.0000000,                 pos_pred/all_pred =  8/20\n",
      "step 1512| pos_acc/neg_acc = 0.83333333/1.0000000,                 pos_pred/all_pred = 10/20\n",
      "step 1513| pos_acc/neg_acc = 1.00000000/0.9285714,                 pos_pred/all_pred =  7/20\n",
      "step 1514| pos_acc/neg_acc = 0.58333333/1.0000000,                 pos_pred/all_pred =  8/20\n",
      "step 1515| pos_acc/neg_acc = 1.00000000/0.5000000,                 pos_pred/all_pred = 14/20\n",
      "step 1516| pos_acc/neg_acc = 0.33333333/1.0000000,                 pos_pred/all_pred =  4/20\n",
      "step 1517| pos_acc/neg_acc = 1.00000000/0.7000000,                 pos_pred/all_pred = 13/20\n",
      "step 1518| pos_acc/neg_acc = 0.75000000/1.0000000,                 pos_pred/all_pred = 10/20\n",
      "step 1519| pos_acc/neg_acc = 1.00000000/0.6666667,                 pos_pred/all_pred = 14/20\n"
     ]
    },
    {
     "name": "stderr",
     "output_type": "stream",
     "text": [
      "INFO:SubjObjTrainer:  1520: 3 [  245/  425], train_loss/accuracy = 0.11478424/0.8450000\n"
     ]
    },
    {
     "name": "stdout",
     "output_type": "stream",
     "text": [
      "  1520: 3 [  245/  425], train_loss/accuracy = 0.11478424/0.8450000\n",
      "step 1520| pos_acc/neg_acc = 0.75000000/0.9090909,                 pos_pred/all_pred =  8/20\n",
      "step 1521| pos_acc/neg_acc = 1.00000000/1.0000000,                 pos_pred/all_pred =  4/20\n",
      "step 1522| pos_acc/neg_acc = 0.70000000/1.0000000,                 pos_pred/all_pred =  7/20\n",
      "step 1523| pos_acc/neg_acc = 0.91666667/0.8571429,                 pos_pred/all_pred = 13/20\n",
      "step 1524| pos_acc/neg_acc = 1.00000000/0.9090909,                 pos_pred/all_pred = 10/20\n",
      "step 1525| pos_acc/neg_acc = 0.75000000/1.0000000,                 pos_pred/all_pred =  6/20\n",
      "step 1526| pos_acc/neg_acc = 1.00000000/0.8888889,                 pos_pred/all_pred = 12/20\n",
      "step 1527| pos_acc/neg_acc = 0.63636364/1.0000000,                 pos_pred/all_pred =  7/20\n",
      "step 1528| pos_acc/neg_acc = 1.00000000/0.6000000,                 pos_pred/all_pred = 14/20\n",
      "step 1529| pos_acc/neg_acc = 0.87500000/1.0000000,                 pos_pred/all_pred =  8/20\n"
     ]
    },
    {
     "name": "stderr",
     "output_type": "stream",
     "text": [
      "INFO:SubjObjTrainer:  1530: 3 [  255/  425], train_loss/accuracy = 0.10030854/0.8900000\n"
     ]
    },
    {
     "name": "stdout",
     "output_type": "stream",
     "text": [
      "  1530: 3 [  255/  425], train_loss/accuracy = 0.10030854/0.8900000\n",
      "step 1530| pos_acc/neg_acc = 0.81818182/1.0000000,                 pos_pred/all_pred = 10/20\n",
      "step 1531| pos_acc/neg_acc = 0.85714286/1.0000000,                 pos_pred/all_pred =  7/20\n",
      "step 1532| pos_acc/neg_acc = 0.72727273/1.0000000,                 pos_pred/all_pred =  8/20\n",
      "step 1533| pos_acc/neg_acc = 1.00000000/0.7272727,                 pos_pred/all_pred = 12/20\n",
      "step 1534| pos_acc/neg_acc = 0.57142857/0.9166667,                 pos_pred/all_pred =  6/20\n",
      "step 1535| pos_acc/neg_acc = 1.00000000/0.9000000,                 pos_pred/all_pred = 11/20\n",
      "step 1536| pos_acc/neg_acc = 0.62500000/0.9090909,                 pos_pred/all_pred =  7/20\n",
      "step 1537| pos_acc/neg_acc = 1.00000000/1.0000000,                 pos_pred/all_pred = 11/20\n",
      "step 1538| pos_acc/neg_acc = 0.91666667/0.8750000,                 pos_pred/all_pred = 12/20\n",
      "step 1539| pos_acc/neg_acc = 1.00000000/1.0000000,                 pos_pred/all_pred =  6/20\n"
     ]
    },
    {
     "name": "stderr",
     "output_type": "stream",
     "text": [
      "INFO:SubjObjTrainer:  1540: 3 [  265/  425], train_loss/accuracy = 0.09826794/0.9000000\n"
     ]
    },
    {
     "name": "stdout",
     "output_type": "stream",
     "text": [
      "  1540: 3 [  265/  425], train_loss/accuracy = 0.09826794/0.9000000\n",
      "step 1540| pos_acc/neg_acc = 0.77777778/1.0000000,                 pos_pred/all_pred =  8/20\n",
      "step 1541| pos_acc/neg_acc = 1.00000000/0.8750000,                 pos_pred/all_pred = 13/20\n",
      "step 1542| pos_acc/neg_acc = 0.60000000/0.9285714,                 pos_pred/all_pred =  5/20\n",
      "step 1543| pos_acc/neg_acc = 0.80000000/0.8666667,                 pos_pred/all_pred =  6/20\n",
      "step 1544| pos_acc/neg_acc = 0.81818182/0.8888889,                 pos_pred/all_pred = 10/20\n",
      "step 1545| pos_acc/neg_acc = 1.00000000/0.8888889,                 pos_pred/all_pred = 12/20\n",
      "step 1546| pos_acc/neg_acc = 1.00000000/1.0000000,                 pos_pred/all_pred = 11/20\n",
      "step 1547| pos_acc/neg_acc = 0.66666667/1.0000000,                 pos_pred/all_pred =  8/20\n",
      "step 1548| pos_acc/neg_acc = 0.90909091/0.5000000,                 pos_pred/all_pred = 15/20\n",
      "step 1549| pos_acc/neg_acc = 0.91666667/0.7142857,                 pos_pred/all_pred = 14/20\n"
     ]
    },
    {
     "name": "stderr",
     "output_type": "stream",
     "text": [
      "INFO:SubjObjTrainer:  1550: 3 [  275/  425], train_loss/accuracy = 0.09280089/0.8750000\n"
     ]
    },
    {
     "name": "stdout",
     "output_type": "stream",
     "text": [
      "  1550: 3 [  275/  425], train_loss/accuracy = 0.09280089/0.8750000\n",
      "step 1550| pos_acc/neg_acc = 1.00000000/1.0000000,                 pos_pred/all_pred =  9/20\n",
      "step 1551| pos_acc/neg_acc = 1.00000000/0.7500000,                 pos_pred/all_pred = 14/20\n",
      "step 1552| pos_acc/neg_acc = 0.55555556/0.9090909,                 pos_pred/all_pred =  6/20\n",
      "step 1553| pos_acc/neg_acc = 1.00000000/1.0000000,                 pos_pred/all_pred =  9/20\n",
      "step 1554| pos_acc/neg_acc = 0.87500000/1.0000000,                 pos_pred/all_pred =  7/20\n",
      "step 1555| pos_acc/neg_acc = 0.88888889/1.0000000,                 pos_pred/all_pred =  8/20\n",
      "step 1556| pos_acc/neg_acc = 1.00000000/0.9090909,                 pos_pred/all_pred = 10/20\n",
      "step 1557| pos_acc/neg_acc = 0.50000000/1.0000000,                 pos_pred/all_pred =  2/20\n",
      "step 1558| pos_acc/neg_acc = 1.00000000/1.0000000,                 pos_pred/all_pred = 12/20\n",
      "step 1559| pos_acc/neg_acc = 0.81818182/1.0000000,                 pos_pred/all_pred =  9/20\n"
     ]
    },
    {
     "name": "stderr",
     "output_type": "stream",
     "text": [
      "INFO:SubjObjTrainer:  1560: 3 [  285/  425], train_loss/accuracy = 0.07628876/0.9250000\n"
     ]
    },
    {
     "name": "stdout",
     "output_type": "stream",
     "text": [
      "  1560: 3 [  285/  425], train_loss/accuracy = 0.07628876/0.9250000\n",
      "step 1560| pos_acc/neg_acc = 1.00000000/0.6250000,                 pos_pred/all_pred = 15/20\n",
      "step 1561| pos_acc/neg_acc = 0.80000000/1.0000000,                 pos_pred/all_pred =  9/20\n",
      "step 1562| pos_acc/neg_acc = 1.00000000/0.9000000,                 pos_pred/all_pred = 11/20\n",
      "step 1563| pos_acc/neg_acc = 1.00000000/1.0000000,                 pos_pred/all_pred = 12/20\n",
      "step 1564| pos_acc/neg_acc = 1.00000000/0.8000000,                 pos_pred/all_pred = 12/20\n",
      "step 1565| pos_acc/neg_acc = 0.83333333/1.0000000,                 pos_pred/all_pred = 11/20\n",
      "step 1566| pos_acc/neg_acc = 1.00000000/0.5555556,                 pos_pred/all_pred = 15/20\n",
      "step 1567| pos_acc/neg_acc = 0.45454545/1.0000000,                 pos_pred/all_pred =  5/20\n",
      "step 1568| pos_acc/neg_acc = 1.00000000/0.1111111,                 pos_pred/all_pred = 19/20\n",
      "step 1569| pos_acc/neg_acc = 0.63636364/1.0000000,                 pos_pred/all_pred =  7/20\n"
     ]
    },
    {
     "name": "stderr",
     "output_type": "stream",
     "text": [
      "INFO:SubjObjTrainer:  1570: 3 [  295/  425], train_loss/accuracy = 0.13815166/0.8400000\n"
     ]
    },
    {
     "name": "stdout",
     "output_type": "stream",
     "text": [
      "  1570: 3 [  295/  425], train_loss/accuracy = 0.13815166/0.8400000\n",
      "step 1570| pos_acc/neg_acc = 1.00000000/0.7000000,                 pos_pred/all_pred = 13/20\n",
      "step 1571| pos_acc/neg_acc = 0.42857143/1.0000000,                 pos_pred/all_pred =  4/20\n",
      "step 1572| pos_acc/neg_acc = 1.00000000/1.0000000,                 pos_pred/all_pred =  9/20\n",
      "step 1573| pos_acc/neg_acc = 0.91666667/1.0000000,                 pos_pred/all_pred = 11/20\n",
      "step 1574| pos_acc/neg_acc = 1.00000000/0.8461538,                 pos_pred/all_pred =  9/20\n",
      "step 1575| pos_acc/neg_acc = 0.66666667/1.0000000,                 pos_pred/all_pred =  6/20\n",
      "step 1576| pos_acc/neg_acc = 1.00000000/0.9090909,                 pos_pred/all_pred = 10/20\n",
      "step 1577| pos_acc/neg_acc = 0.83333333/1.0000000,                 pos_pred/all_pred = 11/20\n",
      "step 1578| pos_acc/neg_acc = 1.00000000/0.8333333,                 pos_pred/all_pred = 10/20\n",
      "step 1579| pos_acc/neg_acc = 0.62500000/1.0000000,                 pos_pred/all_pred =  5/20\n"
     ]
    },
    {
     "name": "stderr",
     "output_type": "stream",
     "text": [
      "INFO:SubjObjTrainer:  1580: 3 [  305/  425], train_loss/accuracy = 0.09759907/0.8900000\n"
     ]
    },
    {
     "name": "stdout",
     "output_type": "stream",
     "text": [
      "  1580: 3 [  305/  425], train_loss/accuracy = 0.09759907/0.8900000\n",
      "step 1580| pos_acc/neg_acc = 1.00000000/0.8333333,                 pos_pred/all_pred = 15/20\n",
      "step 1581| pos_acc/neg_acc = 1.00000000/1.0000000,                 pos_pred/all_pred = 10/20\n",
      "step 1582| pos_acc/neg_acc = 1.00000000/1.0000000,                 pos_pred/all_pred = 10/20\n",
      "step 1583| pos_acc/neg_acc = 1.00000000/1.0000000,                 pos_pred/all_pred = 15/20\n",
      "step 1584| pos_acc/neg_acc = 1.00000000/0.9000000,                 pos_pred/all_pred = 11/20\n",
      "step 1585| pos_acc/neg_acc = 0.72727273/1.0000000,                 pos_pred/all_pred =  9/20\n",
      "step 1586| pos_acc/neg_acc = 1.00000000/0.5833333,                 pos_pred/all_pred = 13/20\n",
      "step 1587| pos_acc/neg_acc = 0.60000000/1.0000000,                 pos_pred/all_pred =  6/20\n",
      "step 1588| pos_acc/neg_acc = 0.81818182/0.6666667,                 pos_pred/all_pred = 12/20\n",
      "step 1589| pos_acc/neg_acc = 0.77777778/1.0000000,                 pos_pred/all_pred =  7/20\n"
     ]
    },
    {
     "name": "stderr",
     "output_type": "stream",
     "text": [
      "INFO:SubjObjTrainer:  1590: 3 [  315/  425], train_loss/accuracy = 0.10437701/0.8900000\n"
     ]
    },
    {
     "name": "stdout",
     "output_type": "stream",
     "text": [
      "  1590: 3 [  315/  425], train_loss/accuracy = 0.10437701/0.8900000\n",
      "step 1590| pos_acc/neg_acc = 1.00000000/0.3636364,                 pos_pred/all_pred = 16/20\n",
      "step 1591| pos_acc/neg_acc = 0.55555556/1.0000000,                 pos_pred/all_pred =  5/20\n",
      "step 1592| pos_acc/neg_acc = 1.00000000/0.5454545,                 pos_pred/all_pred = 14/20\n",
      "step 1593| pos_acc/neg_acc = 0.50000000/1.0000000,                 pos_pred/all_pred =  3/20\n",
      "step 1594| pos_acc/neg_acc = 1.00000000/1.0000000,                 pos_pred/all_pred = 12/20\n",
      "step 1595| pos_acc/neg_acc = 0.77777778/1.0000000,                 pos_pred/all_pred =  8/20\n",
      "step 1596| pos_acc/neg_acc = 1.00000000/1.0000000,                 pos_pred/all_pred =  7/20\n",
      "step 1597| pos_acc/neg_acc = 0.63636364/1.0000000,                 pos_pred/all_pred =  8/20\n",
      "step 1598| pos_acc/neg_acc = 1.00000000/0.7692308,                 pos_pred/all_pred = 10/20\n",
      "step 1599| pos_acc/neg_acc = 0.44444444/1.0000000,                 pos_pred/all_pred =  4/20\n"
     ]
    },
    {
     "name": "stderr",
     "output_type": "stream",
     "text": [
      "INFO:SubjObjTrainer:  1600: 3 [  325/  425], train_loss/accuracy = 0.13333818/0.8300000\n"
     ]
    },
    {
     "name": "stdout",
     "output_type": "stream",
     "text": [
      "  1600: 3 [  325/  425], train_loss/accuracy = 0.13333818/0.8300000\n",
      "step 1600| pos_acc/neg_acc = 1.00000000/0.5555556,                 pos_pred/all_pred = 15/20\n",
      "step 1601| pos_acc/neg_acc = 0.66666667/1.0000000,                 pos_pred/all_pred =  6/20\n",
      "step 1602| pos_acc/neg_acc = 0.83333333/0.8750000,                 pos_pred/all_pred = 11/20\n",
      "step 1603| pos_acc/neg_acc = 1.00000000/0.8571429,                 pos_pred/all_pred = 14/20\n",
      "step 1604| pos_acc/neg_acc = 0.87500000/0.9090909,                 pos_pred/all_pred =  9/20\n",
      "step 1605| pos_acc/neg_acc = 0.91666667/1.0000000,                 pos_pred/all_pred = 12/20\n",
      "step 1606| pos_acc/neg_acc = 0.88888889/1.0000000,                 pos_pred/all_pred =  9/20\n",
      "step 1607| pos_acc/neg_acc = 0.72727273/1.0000000,                 pos_pred/all_pred =  9/20\n",
      "step 1608| pos_acc/neg_acc = 1.00000000/0.4444444,                 pos_pred/all_pred = 16/20\n",
      "step 1609| pos_acc/neg_acc = 0.63636364/1.0000000,                 pos_pred/all_pred =  7/20\n"
     ]
    },
    {
     "name": "stderr",
     "output_type": "stream",
     "text": [
      "INFO:SubjObjTrainer:  1610: 3 [  335/  425], train_loss/accuracy = 0.10552067/0.8600000\n"
     ]
    },
    {
     "name": "stdout",
     "output_type": "stream",
     "text": [
      "  1610: 3 [  335/  425], train_loss/accuracy = 0.10552067/0.8600000\n",
      "step 1610| pos_acc/neg_acc = 1.00000000/0.6363636,                 pos_pred/all_pred = 12/20\n",
      "step 1611| pos_acc/neg_acc = 0.63636364/1.0000000,                 pos_pred/all_pred =  7/20\n",
      "step 1612| pos_acc/neg_acc = 1.00000000/1.0000000,                 pos_pred/all_pred = 14/20\n",
      "step 1613| pos_acc/neg_acc = 0.88888889/1.0000000,                 pos_pred/all_pred =  9/20\n",
      "step 1614| pos_acc/neg_acc = 0.81818182/1.0000000,                 pos_pred/all_pred =  9/20\n",
      "step 1615| pos_acc/neg_acc = 0.91666667/1.0000000,                 pos_pred/all_pred = 11/20\n",
      "step 1616| pos_acc/neg_acc = 1.00000000/0.9090909,                 pos_pred/all_pred = 10/20\n",
      "step 1617| pos_acc/neg_acc = 0.80000000/1.0000000,                 pos_pred/all_pred =  8/20\n",
      "step 1618| pos_acc/neg_acc = 1.00000000/1.0000000,                 pos_pred/all_pred = 10/20\n",
      "step 1619| pos_acc/neg_acc = 0.87500000/1.0000000,                 pos_pred/all_pred =  7/20\n"
     ]
    },
    {
     "name": "stderr",
     "output_type": "stream",
     "text": [
      "INFO:SubjObjTrainer:  1620: 3 [  345/  425], train_loss/accuracy = 0.09049980/0.9100000\n"
     ]
    },
    {
     "name": "stdout",
     "output_type": "stream",
     "text": [
      "  1620: 3 [  345/  425], train_loss/accuracy = 0.09049980/0.9100000\n",
      "step 1620| pos_acc/neg_acc = 0.87500000/1.0000000,                 pos_pred/all_pred =  8/20\n",
      "step 1621| pos_acc/neg_acc = 0.92307692/0.8333333,                 pos_pred/all_pred = 14/20\n",
      "step 1622| pos_acc/neg_acc = 0.92307692/0.8333333,                 pos_pred/all_pred = 14/20\n",
      "step 1623| pos_acc/neg_acc = 1.00000000/1.0000000,                 pos_pred/all_pred = 10/20\n",
      "step 1624| pos_acc/neg_acc = 0.50000000/1.0000000,                 pos_pred/all_pred =  3/20\n",
      "step 1625| pos_acc/neg_acc = 1.00000000/1.0000000,                 pos_pred/all_pred =  9/20\n",
      "step 1626| pos_acc/neg_acc = 1.00000000/1.0000000,                 pos_pred/all_pred = 10/20\n",
      "step 1627| pos_acc/neg_acc = 1.00000000/0.9166667,                 pos_pred/all_pred =  9/20\n",
      "step 1628| pos_acc/neg_acc = 0.77777778/0.9000000,                 pos_pred/all_pred =  9/20\n",
      "step 1629| pos_acc/neg_acc = 1.00000000/1.0000000,                 pos_pred/all_pred =  9/20\n"
     ]
    },
    {
     "name": "stderr",
     "output_type": "stream",
     "text": [
      "INFO:SubjObjTrainer:  1630: 3 [  355/  425], train_loss/accuracy = 0.07414325/0.9400000\n"
     ]
    },
    {
     "name": "stdout",
     "output_type": "stream",
     "text": [
      "  1630: 3 [  355/  425], train_loss/accuracy = 0.07414325/0.9400000\n",
      "step 1630| pos_acc/neg_acc = 1.00000000/0.7777778,                 pos_pred/all_pred = 13/20\n",
      "step 1631| pos_acc/neg_acc = 0.33333333/1.0000000,                 pos_pred/all_pred =  3/20\n",
      "step 1632| pos_acc/neg_acc = 1.00000000/0.8461538,                 pos_pred/all_pred =  9/20\n",
      "step 1633| pos_acc/neg_acc = 0.44444444/1.0000000,                 pos_pred/all_pred =  5/20\n",
      "step 1634| pos_acc/neg_acc = 1.00000000/0.2500000,                 pos_pred/all_pred = 18/20\n",
      "step 1635| pos_acc/neg_acc = 0.80000000/1.0000000,                 pos_pred/all_pred =  4/20\n",
      "step 1636| pos_acc/neg_acc = 0.87500000/1.0000000,                 pos_pred/all_pred =  7/20\n",
      "step 1637| pos_acc/neg_acc = 0.91666667/1.0000000,                 pos_pred/all_pred = 11/20\n",
      "step 1638| pos_acc/neg_acc = 1.00000000/1.0000000,                 pos_pred/all_pred =  7/20\n",
      "step 1639| pos_acc/neg_acc = 0.75000000/1.0000000,                 pos_pred/all_pred =  6/20\n"
     ]
    },
    {
     "name": "stderr",
     "output_type": "stream",
     "text": [
      "INFO:SubjObjTrainer:  1640: 3 [  365/  425], train_loss/accuracy = 0.09589130/0.8750000\n"
     ]
    },
    {
     "name": "stdout",
     "output_type": "stream",
     "text": [
      "  1640: 3 [  365/  425], train_loss/accuracy = 0.09589130/0.8750000\n",
      "step 1640| pos_acc/neg_acc = 0.80000000/0.5555556,                 pos_pred/all_pred = 13/20\n",
      "step 1641| pos_acc/neg_acc = 0.83333333/1.0000000,                 pos_pred/all_pred = 10/20\n",
      "step 1642| pos_acc/neg_acc = 1.00000000/0.7500000,                 pos_pred/all_pred = 11/20\n",
      "step 1643| pos_acc/neg_acc = 0.77777778/1.0000000,                 pos_pred/all_pred =  7/20\n",
      "step 1644| pos_acc/neg_acc = 0.91666667/0.7500000,                 pos_pred/all_pred = 13/20\n",
      "step 1645| pos_acc/neg_acc = 1.00000000/0.8888889,                 pos_pred/all_pred = 12/20\n",
      "step 1646| pos_acc/neg_acc = 1.00000000/1.0000000,                 pos_pred/all_pred = 10/20\n",
      "step 1647| pos_acc/neg_acc = 1.00000000/0.9090909,                 pos_pred/all_pred = 10/20\n",
      "step 1648| pos_acc/neg_acc = 0.50000000/1.0000000,                 pos_pred/all_pred =  5/20\n",
      "step 1649| pos_acc/neg_acc = 1.00000000/0.7500000,                 pos_pred/all_pred = 14/20\n"
     ]
    },
    {
     "name": "stderr",
     "output_type": "stream",
     "text": [
      "INFO:SubjObjTrainer:  1650: 3 [  375/  425], train_loss/accuracy = 0.09044652/0.8800000\n"
     ]
    },
    {
     "name": "stdout",
     "output_type": "stream",
     "text": [
      "  1650: 3 [  375/  425], train_loss/accuracy = 0.09044652/0.8800000\n",
      "step 1650| pos_acc/neg_acc = 0.70000000/1.0000000,                 pos_pred/all_pred =  7/20\n",
      "step 1651| pos_acc/neg_acc = 0.91666667/0.8571429,                 pos_pred/all_pred = 13/20\n",
      "step 1652| pos_acc/neg_acc = 0.80000000/0.9000000,                 pos_pred/all_pred =  9/20\n",
      "step 1653| pos_acc/neg_acc = 1.00000000/0.8181818,                 pos_pred/all_pred = 11/20\n",
      "step 1654| pos_acc/neg_acc = 0.77777778/1.0000000,                 pos_pred/all_pred =  8/20\n",
      "step 1655| pos_acc/neg_acc = 1.00000000/1.0000000,                 pos_pred/all_pred = 12/20\n",
      "step 1656| pos_acc/neg_acc = 1.00000000/1.0000000,                 pos_pred/all_pred =  6/20\n",
      "step 1657| pos_acc/neg_acc = 1.00000000/1.0000000,                 pos_pred/all_pred =  8/20\n",
      "step 1658| pos_acc/neg_acc = 0.81818182/1.0000000,                 pos_pred/all_pred = 10/20\n",
      "step 1659| pos_acc/neg_acc = 0.87500000/0.8333333,                 pos_pred/all_pred =  9/20\n"
     ]
    },
    {
     "name": "stderr",
     "output_type": "stream",
     "text": [
      "INFO:SubjObjTrainer:  1660: 3 [  385/  425], train_loss/accuracy = 0.08810285/0.9150000\n"
     ]
    },
    {
     "name": "stdout",
     "output_type": "stream",
     "text": [
      "  1660: 3 [  385/  425], train_loss/accuracy = 0.08810285/0.9150000\n",
      "step 1660| pos_acc/neg_acc = 0.63636364/1.0000000,                 pos_pred/all_pred =  8/20\n",
      "step 1661| pos_acc/neg_acc = 1.00000000/0.4444444,                 pos_pred/all_pred = 16/20\n",
      "step 1662| pos_acc/neg_acc = 0.81818182/1.0000000,                 pos_pred/all_pred =  9/20\n",
      "step 1663| pos_acc/neg_acc = 1.00000000/0.5555556,                 pos_pred/all_pred = 15/20\n",
      "step 1664| pos_acc/neg_acc = 0.88888889/1.0000000,                 pos_pred/all_pred =  8/20\n",
      "step 1665| pos_acc/neg_acc = 1.00000000/1.0000000,                 pos_pred/all_pred = 12/20\n",
      "step 1666| pos_acc/neg_acc = 0.90000000/1.0000000,                 pos_pred/all_pred =  9/20\n",
      "step 1667| pos_acc/neg_acc = 0.91666667/1.0000000,                 pos_pred/all_pred = 11/20\n",
      "step 1668| pos_acc/neg_acc = 1.00000000/0.8888889,                 pos_pred/all_pred = 12/20\n",
      "step 1669| pos_acc/neg_acc = 0.90909091/1.0000000,                 pos_pred/all_pred = 10/20\n"
     ]
    },
    {
     "name": "stderr",
     "output_type": "stream",
     "text": [
      "INFO:SubjObjTrainer:  1670: 3 [  395/  425], train_loss/accuracy = 0.10852730/0.8950000\n"
     ]
    },
    {
     "name": "stdout",
     "output_type": "stream",
     "text": [
      "  1670: 3 [  395/  425], train_loss/accuracy = 0.10852730/0.8950000\n",
      "step 1670| pos_acc/neg_acc = 1.00000000/0.8750000,                 pos_pred/all_pred = 13/20\n",
      "step 1671| pos_acc/neg_acc = 1.00000000/0.9230769,                 pos_pred/all_pred =  8/20\n",
      "step 1672| pos_acc/neg_acc = 0.38461538/1.0000000,                 pos_pred/all_pred =  5/20\n",
      "step 1673| pos_acc/neg_acc = 1.00000000/0.1666667,                 pos_pred/all_pred = 18/20\n",
      "step 1674| pos_acc/neg_acc = 0.40000000/1.0000000,                 pos_pred/all_pred =  4/20\n",
      "step 1675| pos_acc/neg_acc = 1.00000000/0.3000000,                 pos_pred/all_pred = 17/20\n",
      "step 1676| pos_acc/neg_acc = 0.91666667/1.0000000,                 pos_pred/all_pred = 12/20\n",
      "step 1677| pos_acc/neg_acc = 1.00000000/1.0000000,                 pos_pred/all_pred = 11/20\n",
      "step 1678| pos_acc/neg_acc = 1.00000000/1.0000000,                 pos_pred/all_pred = 10/20\n",
      "step 1679| pos_acc/neg_acc = 1.00000000/1.0000000,                 pos_pred/all_pred =  7/20\n"
     ]
    },
    {
     "name": "stderr",
     "output_type": "stream",
     "text": [
      "INFO:SubjObjTrainer:  1680: 3 [  405/  425], train_loss/accuracy = 0.14514627/0.8250000\n"
     ]
    },
    {
     "name": "stdout",
     "output_type": "stream",
     "text": [
      "  1680: 3 [  405/  425], train_loss/accuracy = 0.14514627/0.8250000\n",
      "step 1680| pos_acc/neg_acc = 0.88888889/1.0000000,                 pos_pred/all_pred =  8/20\n",
      "step 1681| pos_acc/neg_acc = 0.88888889/0.9090909,                 pos_pred/all_pred =  9/20\n",
      "step 1682| pos_acc/neg_acc = 0.81818182/1.0000000,                 pos_pred/all_pred =  9/20\n",
      "step 1683| pos_acc/neg_acc = 1.00000000/0.5000000,                 pos_pred/all_pred = 16/20\n",
      "step 1684| pos_acc/neg_acc = 0.50000000/1.0000000,                 pos_pred/all_pred =  5/20\n",
      "step 1685| pos_acc/neg_acc = 0.91666667/0.8571429,                 pos_pred/all_pred = 13/20\n",
      "step 1686| pos_acc/neg_acc = 0.75000000/1.0000000,                 pos_pred/all_pred =  7/20\n",
      "step 1687| pos_acc/neg_acc = 1.00000000/0.8888889,                 pos_pred/all_pred = 12/20\n",
      "step 1688| pos_acc/neg_acc = 1.00000000/1.0000000,                 pos_pred/all_pred =  6/20\n",
      "step 1689| pos_acc/neg_acc = 0.75000000/1.0000000,                 pos_pred/all_pred = 10/20\n"
     ]
    },
    {
     "name": "stderr",
     "output_type": "stream",
     "text": [
      "INFO:SubjObjTrainer:  1690: 3 [  415/  425], train_loss/accuracy = 0.10085554/0.8850000\n"
     ]
    },
    {
     "name": "stdout",
     "output_type": "stream",
     "text": [
      "  1690: 3 [  415/  425], train_loss/accuracy = 0.10085554/0.8850000\n",
      "step 1690| pos_acc/neg_acc = 1.00000000/0.4166667,                 pos_pred/all_pred = 15/20\n",
      "step 1691| pos_acc/neg_acc = 0.50000000/1.0000000,                 pos_pred/all_pred =  5/20\n",
      "step 1692| pos_acc/neg_acc = 1.00000000/0.7272727,                 pos_pred/all_pred = 12/20\n",
      "step 1693| pos_acc/neg_acc = 0.80000000/1.0000000,                 pos_pred/all_pred =  8/20\n",
      "step 1694| pos_acc/neg_acc = 1.00000000/0.9090909,                 pos_pred/all_pred = 10/20\n",
      "step 1695| pos_acc/neg_acc = 0.90000000/1.0000000,                 pos_pred/all_pred = 10/20\n",
      "step 1696| pos_acc/neg_acc = 0.91666667/0.8750000,                 pos_pred/all_pred = 12/20\n",
      "step 1697| pos_acc/neg_acc = 1.00000000/1.0000000,                 pos_pred/all_pred = 12/20\n",
      "step 1698| pos_acc/neg_acc = 1.00000000/0.9000000,                 pos_pred/all_pred = 11/20\n",
      "step 1699| pos_acc/neg_acc = 1.00000000/1.0000000,                 pos_pred/all_pred =  8/20\n"
     ]
    },
    {
     "name": "stderr",
     "output_type": "stream",
     "text": [
      "INFO:SubjObjTrainer:  1700: 3 [    0/  425], train_loss/accuracy = 0.09248405/0.8950000\n"
     ]
    },
    {
     "name": "stdout",
     "output_type": "stream",
     "text": [
      "  1700: 3 [    0/  425], train_loss/accuracy = 0.09248405/0.8950000\n"
     ]
    },
    {
     "name": "stderr",
     "output_type": "stream",
     "text": [
      "INFO:SubjObjTrainer:[    3/   10], valid_loss/accuracy = 0.07916154/0.5320000\n"
     ]
    },
    {
     "name": "stdout",
     "output_type": "stream",
     "text": [
      "[    3/   10], valid_loss/accuracy = 0.07916154/0.5320000\n",
      "step 1700| pos_acc/neg_acc = 0.85714286/1.0000000,                 pos_pred/all_pred = 12/20\n",
      "step 1701| pos_acc/neg_acc = 1.00000000/0.7692308,                 pos_pred/all_pred = 10/20\n",
      "step 1702| pos_acc/neg_acc = 0.45454545/1.0000000,                 pos_pred/all_pred =  5/20\n",
      "step 1703| pos_acc/neg_acc = 1.00000000/0.7272727,                 pos_pred/all_pred = 12/20\n",
      "step 1704| pos_acc/neg_acc = 0.85714286/1.0000000,                 pos_pred/all_pred =  6/20\n",
      "step 1705| pos_acc/neg_acc = 1.00000000/0.9000000,                 pos_pred/all_pred = 11/20\n",
      "step 1706| pos_acc/neg_acc = 1.00000000/1.0000000,                 pos_pred/all_pred =  8/20\n",
      "step 1707| pos_acc/neg_acc = 0.83333333/1.0000000,                 pos_pred/all_pred = 10/20\n",
      "step 1708| pos_acc/neg_acc = 0.87500000/1.0000000,                 pos_pred/all_pred =  7/20\n",
      "step 1709| pos_acc/neg_acc = 0.88888889/1.0000000,                 pos_pred/all_pred =  8/20\n"
     ]
    },
    {
     "name": "stderr",
     "output_type": "stream",
     "text": [
      "INFO:SubjObjTrainer:  1710: 4 [   10/  425], train_loss/accuracy = 0.10305490/0.8900000\n"
     ]
    },
    {
     "name": "stdout",
     "output_type": "stream",
     "text": [
      "  1710: 4 [   10/  425], train_loss/accuracy = 0.10305490/0.8900000\n",
      "step 1710| pos_acc/neg_acc = 1.00000000/1.0000000,                 pos_pred/all_pred = 11/20\n",
      "step 1711| pos_acc/neg_acc = 1.00000000/1.0000000,                 pos_pred/all_pred = 11/20\n",
      "step 1712| pos_acc/neg_acc = 0.88888889/1.0000000,                 pos_pred/all_pred =  8/20\n",
      "step 1713| pos_acc/neg_acc = 1.00000000/1.0000000,                 pos_pred/all_pred =  6/20\n",
      "step 1714| pos_acc/neg_acc = 0.66666667/1.0000000,                 pos_pred/all_pred =  4/20\n",
      "step 1715| pos_acc/neg_acc = 1.00000000/0.9000000,                 pos_pred/all_pred = 11/20\n",
      "step 1716| pos_acc/neg_acc = 1.00000000/0.9333333,                 pos_pred/all_pred =  6/20\n",
      "step 1717| pos_acc/neg_acc = 1.00000000/1.0000000,                 pos_pred/all_pred =  9/20\n",
      "step 1718| pos_acc/neg_acc = 1.00000000/1.0000000,                 pos_pred/all_pred =  8/20\n",
      "step 1719| pos_acc/neg_acc = 0.80000000/1.0000000,                 pos_pred/all_pred =  8/20\n"
     ]
    },
    {
     "name": "stderr",
     "output_type": "stream",
     "text": [
      "INFO:SubjObjTrainer:  1720: 4 [   20/  425], train_loss/accuracy = 0.04980984/0.9650000\n"
     ]
    },
    {
     "name": "stdout",
     "output_type": "stream",
     "text": [
      "  1720: 4 [   20/  425], train_loss/accuracy = 0.04980984/0.9650000\n",
      "step 1720| pos_acc/neg_acc = 1.00000000/1.0000000,                 pos_pred/all_pred =  8/20\n",
      "step 1721| pos_acc/neg_acc = 0.83333333/1.0000000,                 pos_pred/all_pred = 11/20\n",
      "step 1722| pos_acc/neg_acc = 0.90909091/0.7500000,                 pos_pred/all_pred = 13/20\n",
      "step 1723| pos_acc/neg_acc = 0.83333333/1.0000000,                 pos_pred/all_pred =  5/20\n",
      "step 1724| pos_acc/neg_acc = 1.00000000/0.9000000,                 pos_pred/all_pred = 11/20\n",
      "step 1725| pos_acc/neg_acc = 0.80000000/1.0000000,                 pos_pred/all_pred =  5/20\n",
      "step 1726| pos_acc/neg_acc = 0.90000000/1.0000000,                 pos_pred/all_pred =  9/20\n",
      "step 1727| pos_acc/neg_acc = 1.00000000/0.9090909,                 pos_pred/all_pred = 10/20\n",
      "step 1728| pos_acc/neg_acc = 0.88888889/1.0000000,                 pos_pred/all_pred =  9/20\n",
      "step 1729| pos_acc/neg_acc = 1.00000000/1.0000000,                 pos_pred/all_pred = 13/20\n"
     ]
    },
    {
     "name": "stderr",
     "output_type": "stream",
     "text": [
      "INFO:SubjObjTrainer:  1730: 4 [   30/  425], train_loss/accuracy = 0.06133703/0.9400000\n"
     ]
    },
    {
     "name": "stdout",
     "output_type": "stream",
     "text": [
      "  1730: 4 [   30/  425], train_loss/accuracy = 0.06133703/0.9400000\n",
      "step 1730| pos_acc/neg_acc = 1.00000000/0.9230769,                 pos_pred/all_pred =  7/20\n",
      "step 1731| pos_acc/neg_acc = 0.92307692/1.0000000,                 pos_pred/all_pred = 13/20\n",
      "step 1732| pos_acc/neg_acc = 0.75000000/0.8181818,                 pos_pred/all_pred =  9/20\n",
      "step 1733| pos_acc/neg_acc = 0.44444444/1.0000000,                 pos_pred/all_pred =  5/20\n",
      "step 1734| pos_acc/neg_acc = 1.00000000/0.8181818,                 pos_pred/all_pred = 11/20\n",
      "step 1735| pos_acc/neg_acc = 1.00000000/1.0000000,                 pos_pred/all_pred =  8/20\n",
      "step 1736| pos_acc/neg_acc = 0.25000000/1.0000000,                 pos_pred/all_pred =  3/20\n",
      "step 1737| pos_acc/neg_acc = 1.00000000/0.0714286,                 pos_pred/all_pred = 19/20\n",
      "step 1738| pos_acc/neg_acc = 0.07692308/1.0000000,                 pos_pred/all_pred =  1/20\n",
      "step 1739| pos_acc/neg_acc = 1.00000000/0.2500000,                 pos_pred/all_pred = 18/20\n"
     ]
    },
    {
     "name": "stderr",
     "output_type": "stream",
     "text": [
      "INFO:SubjObjTrainer:  1740: 4 [   40/  425], train_loss/accuracy = 0.20844983/0.7250000\n"
     ]
    },
    {
     "name": "stdout",
     "output_type": "stream",
     "text": [
      "  1740: 4 [   40/  425], train_loss/accuracy = 0.20844983/0.7250000\n",
      "step 1740| pos_acc/neg_acc = 0.66666667/1.0000000,                 pos_pred/all_pred =  4/20\n",
      "step 1741| pos_acc/neg_acc = 1.00000000/0.7142857,                 pos_pred/all_pred = 15/20\n",
      "step 1742| pos_acc/neg_acc = 0.66666667/1.0000000,                 pos_pred/all_pred =  7/20\n",
      "step 1743| pos_acc/neg_acc = 1.00000000/0.8000000,                 pos_pred/all_pred = 12/20\n",
      "step 1744| pos_acc/neg_acc = 0.91666667/1.0000000,                 pos_pred/all_pred = 12/20\n",
      "step 1745| pos_acc/neg_acc = 0.90000000/1.0000000,                 pos_pred/all_pred =  9/20\n",
      "step 1746| pos_acc/neg_acc = 0.87500000/0.9166667,                 pos_pred/all_pred =  8/20\n",
      "step 1747| pos_acc/neg_acc = 0.80000000/1.0000000,                 pos_pred/all_pred =  8/20\n",
      "step 1748| pos_acc/neg_acc = 1.00000000/0.7857143,                 pos_pred/all_pred =  9/20\n",
      "step 1749| pos_acc/neg_acc = 0.71428571/1.0000000,                 pos_pred/all_pred =  5/20\n"
     ]
    },
    {
     "name": "stderr",
     "output_type": "stream",
     "text": [
      "INFO:SubjObjTrainer:  1750: 4 [   50/  425], train_loss/accuracy = 0.09147229/0.8900000\n"
     ]
    },
    {
     "name": "stdout",
     "output_type": "stream",
     "text": [
      "  1750: 4 [   50/  425], train_loss/accuracy = 0.09147229/0.8900000\n",
      "step 1750| pos_acc/neg_acc = 1.00000000/0.8333333,                 pos_pred/all_pred = 15/20\n",
      "step 1751| pos_acc/neg_acc = 1.00000000/0.9090909,                 pos_pred/all_pred = 10/20\n",
      "step 1752| pos_acc/neg_acc = 0.91666667/1.0000000,                 pos_pred/all_pred = 12/20\n",
      "step 1753| pos_acc/neg_acc = 1.00000000/1.0000000,                 pos_pred/all_pred = 10/20\n",
      "step 1754| pos_acc/neg_acc = 0.57142857/1.0000000,                 pos_pred/all_pred =  4/20\n",
      "step 1755| pos_acc/neg_acc = 0.90909091/0.8750000,                 pos_pred/all_pred = 12/20\n",
      "step 1756| pos_acc/neg_acc = 1.00000000/0.9090909,                 pos_pred/all_pred = 10/20\n",
      "step 1757| pos_acc/neg_acc = 1.00000000/1.0000000,                 pos_pred/all_pred =  9/20\n",
      "step 1758| pos_acc/neg_acc = 0.91666667/1.0000000,                 pos_pred/all_pred = 12/20\n",
      "step 1759| pos_acc/neg_acc = 1.00000000/0.9000000,                 pos_pred/all_pred = 11/20\n"
     ]
    },
    {
     "name": "stderr",
     "output_type": "stream",
     "text": [
      "INFO:SubjObjTrainer:  1760: 4 [   60/  425], train_loss/accuracy = 0.06951660/0.9450000\n"
     ]
    },
    {
     "name": "stdout",
     "output_type": "stream",
     "text": [
      "  1760: 4 [   60/  425], train_loss/accuracy = 0.06951660/0.9450000\n",
      "step 1760| pos_acc/neg_acc = 0.90000000/1.0000000,                 pos_pred/all_pred = 10/20\n",
      "step 1761| pos_acc/neg_acc = 0.91666667/0.8750000,                 pos_pred/all_pred = 12/20\n",
      "step 1762| pos_acc/neg_acc = 1.00000000/1.0000000,                 pos_pred/all_pred =  9/20\n",
      "step 1763| pos_acc/neg_acc = 0.87500000/0.9166667,                 pos_pred/all_pred =  8/20\n",
      "step 1764| pos_acc/neg_acc = 0.90909091/1.0000000,                 pos_pred/all_pred = 10/20\n",
      "step 1765| pos_acc/neg_acc = 1.00000000/0.8888889,                 pos_pred/all_pred = 12/20\n",
      "step 1766| pos_acc/neg_acc = 0.84615385/1.0000000,                 pos_pred/all_pred = 12/20\n",
      "step 1767| pos_acc/neg_acc = 1.00000000/0.6666667,                 pos_pred/all_pred = 14/20\n",
      "step 1768| pos_acc/neg_acc = 1.00000000/1.0000000,                 pos_pred/all_pred = 12/20\n",
      "step 1769| pos_acc/neg_acc = 0.92857143/1.0000000,                 pos_pred/all_pred = 13/20\n"
     ]
    },
    {
     "name": "stderr",
     "output_type": "stream",
     "text": [
      "INFO:SubjObjTrainer:  1770: 4 [   70/  425], train_loss/accuracy = 0.06920766/0.9300000\n"
     ]
    },
    {
     "name": "stdout",
     "output_type": "stream",
     "text": [
      "  1770: 4 [   70/  425], train_loss/accuracy = 0.06920766/0.9300000\n",
      "step 1770| pos_acc/neg_acc = 1.00000000/0.8000000,                 pos_pred/all_pred = 12/20\n",
      "step 1771| pos_acc/neg_acc = 0.90909091/1.0000000,                 pos_pred/all_pred = 11/20\n",
      "step 1772| pos_acc/neg_acc = 1.00000000/0.7000000,                 pos_pred/all_pred = 13/20\n",
      "step 1773| pos_acc/neg_acc = 0.77777778/1.0000000,                 pos_pred/all_pred =  7/20\n",
      "step 1774| pos_acc/neg_acc = 1.00000000/1.0000000,                 pos_pred/all_pred =  7/20\n",
      "step 1775| pos_acc/neg_acc = 0.71428571/1.0000000,                 pos_pred/all_pred =  5/20\n",
      "step 1776| pos_acc/neg_acc = 1.00000000/0.7272727,                 pos_pred/all_pred = 12/20\n",
      "step 1777| pos_acc/neg_acc = 0.77777778/1.0000000,                 pos_pred/all_pred =  7/20\n",
      "step 1778| pos_acc/neg_acc = 0.77777778/1.0000000,                 pos_pred/all_pred =  8/20\n",
      "step 1779| pos_acc/neg_acc = 1.00000000/0.9166667,                 pos_pred/all_pred =  9/20\n"
     ]
    },
    {
     "name": "stderr",
     "output_type": "stream",
     "text": [
      "INFO:SubjObjTrainer:  1780: 4 [   80/  425], train_loss/accuracy = 0.08905512/0.9050000\n"
     ]
    },
    {
     "name": "stdout",
     "output_type": "stream",
     "text": [
      "  1780: 4 [   80/  425], train_loss/accuracy = 0.08905512/0.9050000\n",
      "step 1780| pos_acc/neg_acc = 0.90000000/1.0000000,                 pos_pred/all_pred = 10/20\n",
      "step 1781| pos_acc/neg_acc = 0.66666667/1.0000000,                 pos_pred/all_pred =  6/20\n",
      "step 1782| pos_acc/neg_acc = 1.00000000/0.8000000,                 pos_pred/all_pred = 12/20\n",
      "step 1783| pos_acc/neg_acc = 0.44444444/1.0000000,                 pos_pred/all_pred =  5/20\n",
      "step 1784| pos_acc/neg_acc = 1.00000000/0.7000000,                 pos_pred/all_pred = 13/20\n",
      "step 1785| pos_acc/neg_acc = 0.77777778/1.0000000,                 pos_pred/all_pred =  7/20\n",
      "step 1786| pos_acc/neg_acc = 0.87500000/1.0000000,                 pos_pred/all_pred =  8/20\n",
      "step 1787| pos_acc/neg_acc = 0.66666667/1.0000000,                 pos_pred/all_pred =  6/20\n",
      "step 1788| pos_acc/neg_acc = 0.91666667/1.0000000,                 pos_pred/all_pred = 12/20\n",
      "step 1789| pos_acc/neg_acc = 0.91666667/1.0000000,                 pos_pred/all_pred = 12/20\n"
     ]
    },
    {
     "name": "stderr",
     "output_type": "stream",
     "text": [
      "INFO:SubjObjTrainer:  1790: 4 [   90/  425], train_loss/accuracy = 0.10503004/0.8850000\n"
     ]
    },
    {
     "name": "stdout",
     "output_type": "stream",
     "text": [
      "  1790: 4 [   90/  425], train_loss/accuracy = 0.10503004/0.8850000\n",
      "step 1790| pos_acc/neg_acc = 1.00000000/0.9090909,                 pos_pred/all_pred = 10/20\n",
      "step 1791| pos_acc/neg_acc = 0.66666667/1.0000000,                 pos_pred/all_pred =  6/20\n",
      "step 1792| pos_acc/neg_acc = 0.90909091/0.8750000,                 pos_pred/all_pred = 12/20\n",
      "step 1793| pos_acc/neg_acc = 0.92307692/0.8571429,                 pos_pred/all_pred = 13/20\n",
      "step 1794| pos_acc/neg_acc = 1.00000000/1.0000000,                 pos_pred/all_pred = 11/20\n",
      "step 1795| pos_acc/neg_acc = 0.90909091/0.8750000,                 pos_pred/all_pred = 12/20\n",
      "step 1796| pos_acc/neg_acc = 0.91666667/0.5714286,                 pos_pred/all_pred = 15/20\n",
      "step 1797| pos_acc/neg_acc = 0.90000000/0.9000000,                 pos_pred/all_pred = 10/20\n",
      "step 1798| pos_acc/neg_acc = 0.83333333/1.0000000,                 pos_pred/all_pred = 10/20\n",
      "step 1799| pos_acc/neg_acc = 1.00000000/0.7500000,                 pos_pred/all_pred = 11/20\n"
     ]
    },
    {
     "name": "stderr",
     "output_type": "stream",
     "text": [
      "INFO:SubjObjTrainer:  1800: 4 [  100/  425], train_loss/accuracy = 0.09077697/0.8950000\n"
     ]
    },
    {
     "name": "stdout",
     "output_type": "stream",
     "text": [
      "  1800: 4 [  100/  425], train_loss/accuracy = 0.09077697/0.8950000\n",
      "step 1800| pos_acc/neg_acc = 0.33333333/1.0000000,                 pos_pred/all_pred =  3/20\n",
      "step 1801| pos_acc/neg_acc = 1.00000000/0.7142857,                 pos_pred/all_pred = 15/20\n",
      "step 1802| pos_acc/neg_acc = 1.00000000/0.9166667,                 pos_pred/all_pred =  9/20\n",
      "step 1803| pos_acc/neg_acc = 0.72727273/1.0000000,                 pos_pred/all_pred =  8/20\n",
      "step 1804| pos_acc/neg_acc = 1.00000000/0.8571429,                 pos_pred/all_pred = 14/20\n",
      "step 1805| pos_acc/neg_acc = 0.76923077/1.0000000,                 pos_pred/all_pred = 10/20\n",
      "step 1806| pos_acc/neg_acc = 1.00000000/0.6153846,                 pos_pred/all_pred = 12/20\n",
      "step 1807| pos_acc/neg_acc = 0.87500000/1.0000000,                 pos_pred/all_pred =  7/20\n",
      "step 1808| pos_acc/neg_acc = 1.00000000/0.8333333,                 pos_pred/all_pred = 10/20\n",
      "step 1809| pos_acc/neg_acc = 0.88888889/1.0000000,                 pos_pred/all_pred =  8/20\n"
     ]
    },
    {
     "name": "stderr",
     "output_type": "stream",
     "text": [
      "INFO:SubjObjTrainer:  1810: 4 [  110/  425], train_loss/accuracy = 0.09438041/0.8750000\n"
     ]
    },
    {
     "name": "stdout",
     "output_type": "stream",
     "text": [
      "  1810: 4 [  110/  425], train_loss/accuracy = 0.09438041/0.8750000\n",
      "step 1810| pos_acc/neg_acc = 1.00000000/1.0000000,                 pos_pred/all_pred =  7/20\n",
      "step 1811| pos_acc/neg_acc = 0.66666667/1.0000000,                 pos_pred/all_pred =  4/20\n",
      "step 1812| pos_acc/neg_acc = 0.90909091/1.0000000,                 pos_pred/all_pred = 10/20\n",
      "step 1813| pos_acc/neg_acc = 1.00000000/0.7272727,                 pos_pred/all_pred = 12/20\n",
      "step 1814| pos_acc/neg_acc = 0.57142857/1.0000000,                 pos_pred/all_pred =  5/20\n",
      "step 1815| pos_acc/neg_acc = 0.87500000/0.8181818,                 pos_pred/all_pred = 10/20\n",
      "step 1816| pos_acc/neg_acc = 0.80000000/1.0000000,                 pos_pred/all_pred =  9/20\n",
      "step 1817| pos_acc/neg_acc = 1.00000000/0.8571429,                 pos_pred/all_pred = 14/20\n",
      "step 1818| pos_acc/neg_acc = 0.66666667/1.0000000,                 pos_pred/all_pred =  9/20\n",
      "step 1819| pos_acc/neg_acc = 1.00000000/0.4444444,                 pos_pred/all_pred = 16/20\n"
     ]
    },
    {
     "name": "stderr",
     "output_type": "stream",
     "text": [
      "INFO:SubjObjTrainer:  1820: 4 [  120/  425], train_loss/accuracy = 0.10102145/0.8800000\n"
     ]
    },
    {
     "name": "stdout",
     "output_type": "stream",
     "text": [
      "  1820: 4 [  120/  425], train_loss/accuracy = 0.10102145/0.8800000\n",
      "step 1820| pos_acc/neg_acc = 0.62500000/0.9166667,                 pos_pred/all_pred =  6/20\n",
      "step 1821| pos_acc/neg_acc = 1.00000000/0.8461538,                 pos_pred/all_pred =  9/20\n",
      "step 1822| pos_acc/neg_acc = 0.63636364/1.0000000,                 pos_pred/all_pred =  8/20\n",
      "step 1823| pos_acc/neg_acc = 1.00000000/1.0000000,                 pos_pred/all_pred = 11/20\n",
      "step 1824| pos_acc/neg_acc = 1.00000000/0.8571429,                 pos_pred/all_pred = 14/20\n",
      "step 1825| pos_acc/neg_acc = 1.00000000/1.0000000,                 pos_pred/all_pred =  8/20\n",
      "step 1826| pos_acc/neg_acc = 0.88888889/1.0000000,                 pos_pred/all_pred =  8/20\n",
      "step 1827| pos_acc/neg_acc = 1.00000000/1.0000000,                 pos_pred/all_pred = 13/20\n",
      "step 1828| pos_acc/neg_acc = 1.00000000/0.8461538,                 pos_pred/all_pred =  9/20\n",
      "step 1829| pos_acc/neg_acc = 1.00000000/1.0000000,                 pos_pred/all_pred =  8/20\n"
     ]
    },
    {
     "name": "stderr",
     "output_type": "stream",
     "text": [
      "INFO:SubjObjTrainer:  1830: 4 [  130/  425], train_loss/accuracy = 0.09440801/0.9300000\n"
     ]
    },
    {
     "name": "stdout",
     "output_type": "stream",
     "text": [
      "  1830: 4 [  130/  425], train_loss/accuracy = 0.09440801/0.9300000\n",
      "step 1830| pos_acc/neg_acc = 1.00000000/1.0000000,                 pos_pred/all_pred =  7/20\n",
      "step 1831| pos_acc/neg_acc = 0.83333333/1.0000000,                 pos_pred/all_pred =  5/20\n",
      "step 1832| pos_acc/neg_acc = 1.00000000/0.9090909,                 pos_pred/all_pred = 10/20\n",
      "step 1833| pos_acc/neg_acc = 0.70000000/1.0000000,                 pos_pred/all_pred =  7/20\n",
      "step 1834| pos_acc/neg_acc = 1.00000000/0.4000000,                 pos_pred/all_pred = 16/20\n",
      "step 1835| pos_acc/neg_acc = 0.50000000/1.0000000,                 pos_pred/all_pred =  5/20\n",
      "step 1836| pos_acc/neg_acc = 1.00000000/0.7500000,                 pos_pred/all_pred = 14/20\n",
      "step 1837| pos_acc/neg_acc = 0.30769231/1.0000000,                 pos_pred/all_pred =  4/20\n",
      "step 1838| pos_acc/neg_acc = 1.00000000/0.0000000,                 pos_pred/all_pred = 20/20\n",
      "step 1839| pos_acc/neg_acc = 0.25000000/1.0000000,                 pos_pred/all_pred =  3/20\n"
     ]
    },
    {
     "name": "stderr",
     "output_type": "stream",
     "text": [
      "INFO:SubjObjTrainer:  1840: 4 [  140/  425], train_loss/accuracy = 0.18902056/0.7650000\n"
     ]
    },
    {
     "name": "stdout",
     "output_type": "stream",
     "text": [
      "  1840: 4 [  140/  425], train_loss/accuracy = 0.18902056/0.7650000\n",
      "step 1840| pos_acc/neg_acc = 1.00000000/0.5454545,                 pos_pred/all_pred = 14/20\n",
      "step 1841| pos_acc/neg_acc = 0.88888889/1.0000000,                 pos_pred/all_pred =  9/20\n",
      "step 1842| pos_acc/neg_acc = 1.00000000/0.9166667,                 pos_pred/all_pred =  9/20\n",
      "step 1843| pos_acc/neg_acc = 0.92307692/1.0000000,                 pos_pred/all_pred = 12/20\n",
      "step 1844| pos_acc/neg_acc = 1.00000000/0.7692308,                 pos_pred/all_pred = 10/20\n",
      "step 1845| pos_acc/neg_acc = 0.66666667/1.0000000,                 pos_pred/all_pred =  6/20\n",
      "step 1846| pos_acc/neg_acc = 0.90909091/0.8750000,                 pos_pred/all_pred = 12/20\n",
      "step 1847| pos_acc/neg_acc = 1.00000000/0.9230769,                 pos_pred/all_pred =  8/20\n",
      "step 1848| pos_acc/neg_acc = 0.53846154/1.0000000,                 pos_pred/all_pred =  7/20\n",
      "step 1849| pos_acc/neg_acc = 1.00000000/0.5000000,                 pos_pred/all_pred = 16/20\n"
     ]
    },
    {
     "name": "stderr",
     "output_type": "stream",
     "text": [
      "INFO:SubjObjTrainer:  1850: 4 [  150/  425], train_loss/accuracy = 0.12076586/0.8650000\n"
     ]
    },
    {
     "name": "stdout",
     "output_type": "stream",
     "text": [
      "  1850: 4 [  150/  425], train_loss/accuracy = 0.12076586/0.8650000\n",
      "step 1850| pos_acc/neg_acc = 0.84615385/1.0000000,                 pos_pred/all_pred = 11/20\n",
      "step 1851| pos_acc/neg_acc = 1.00000000/1.0000000,                 pos_pred/all_pred =  8/20\n",
      "step 1852| pos_acc/neg_acc = 0.90000000/1.0000000,                 pos_pred/all_pred =  9/20\n",
      "step 1853| pos_acc/neg_acc = 1.00000000/0.8750000,                 pos_pred/all_pred = 13/20\n",
      "step 1854| pos_acc/neg_acc = 1.00000000/1.0000000,                 pos_pred/all_pred =  8/20\n",
      "step 1855| pos_acc/neg_acc = 0.91666667/1.0000000,                 pos_pred/all_pred = 11/20\n",
      "step 1856| pos_acc/neg_acc = 1.00000000/1.0000000,                 pos_pred/all_pred = 10/20\n",
      "step 1857| pos_acc/neg_acc = 0.76923077/1.0000000,                 pos_pred/all_pred = 10/20\n",
      "step 1858| pos_acc/neg_acc = 1.00000000/0.9000000,                 pos_pred/all_pred = 11/20\n",
      "step 1859| pos_acc/neg_acc = 0.77777778/1.0000000,                 pos_pred/all_pred =  8/20\n"
     ]
    },
    {
     "name": "stderr",
     "output_type": "stream",
     "text": [
      "INFO:SubjObjTrainer:  1860: 4 [  160/  425], train_loss/accuracy = 0.08011597/0.9400000\n"
     ]
    },
    {
     "name": "stdout",
     "output_type": "stream",
     "text": [
      "  1860: 4 [  160/  425], train_loss/accuracy = 0.08011597/0.9400000\n",
      "step 1860| pos_acc/neg_acc = 1.00000000/0.6428571,                 pos_pred/all_pred = 11/20\n",
      "step 1861| pos_acc/neg_acc = 0.25000000/1.0000000,                 pos_pred/all_pred =  3/20\n",
      "step 1862| pos_acc/neg_acc = 1.00000000/0.1250000,                 pos_pred/all_pred = 19/20\n",
      "step 1863| pos_acc/neg_acc = 0.45454545/1.0000000,                 pos_pred/all_pred =  5/20\n",
      "step 1864| pos_acc/neg_acc = 1.00000000/0.3750000,                 pos_pred/all_pred = 17/20\n",
      "step 1865| pos_acc/neg_acc = 0.91666667/1.0000000,                 pos_pred/all_pred = 11/20\n",
      "step 1866| pos_acc/neg_acc = 1.00000000/1.0000000,                 pos_pred/all_pred =  9/20\n",
      "step 1867| pos_acc/neg_acc = 0.77777778/1.0000000,                 pos_pred/all_pred =  8/20\n",
      "step 1868| pos_acc/neg_acc = 1.00000000/1.0000000,                 pos_pred/all_pred = 14/20\n",
      "step 1869| pos_acc/neg_acc = 1.00000000/1.0000000,                 pos_pred/all_pred = 13/20\n"
     ]
    },
    {
     "name": "stderr",
     "output_type": "stream",
     "text": [
      "INFO:SubjObjTrainer:  1870: 4 [  170/  425], train_loss/accuracy = 0.13228725/0.8250000\n"
     ]
    },
    {
     "name": "stdout",
     "output_type": "stream",
     "text": [
      "  1870: 4 [  170/  425], train_loss/accuracy = 0.13228725/0.8250000\n",
      "step 1870| pos_acc/neg_acc = 1.00000000/0.9166667,                 pos_pred/all_pred =  9/20\n",
      "step 1871| pos_acc/neg_acc = 0.42857143/1.0000000,                 pos_pred/all_pred =  4/20\n",
      "step 1872| pos_acc/neg_acc = 1.00000000/0.7500000,                 pos_pred/all_pred = 14/20\n",
      "step 1873| pos_acc/neg_acc = 0.72727273/1.0000000,                 pos_pred/all_pred =  9/20\n",
      "step 1874| pos_acc/neg_acc = 1.00000000/0.8000000,                 pos_pred/all_pred =  8/20\n",
      "step 1875| pos_acc/neg_acc = 0.60000000/1.0000000,                 pos_pred/all_pred =  6/20\n",
      "step 1876| pos_acc/neg_acc = 1.00000000/0.5555556,                 pos_pred/all_pred = 15/20\n",
      "step 1877| pos_acc/neg_acc = 1.00000000/1.0000000,                 pos_pred/all_pred =  8/20\n",
      "step 1878| pos_acc/neg_acc = 1.00000000/1.0000000,                 pos_pred/all_pred = 11/20\n",
      "step 1879| pos_acc/neg_acc = 0.81818182/1.0000000,                 pos_pred/all_pred = 10/20\n"
     ]
    },
    {
     "name": "stderr",
     "output_type": "stream",
     "text": [
      "INFO:SubjObjTrainer:  1880: 4 [  180/  425], train_loss/accuracy = 0.09271432/0.8850000\n"
     ]
    },
    {
     "name": "stdout",
     "output_type": "stream",
     "text": [
      "  1880: 4 [  180/  425], train_loss/accuracy = 0.09271432/0.8850000\n",
      "step 1880| pos_acc/neg_acc = 1.00000000/0.5555556,                 pos_pred/all_pred = 15/20\n",
      "step 1881| pos_acc/neg_acc = 0.77777778/1.0000000,                 pos_pred/all_pred =  7/20\n",
      "step 1882| pos_acc/neg_acc = 0.90000000/0.7777778,                 pos_pred/all_pred = 12/20\n",
      "step 1883| pos_acc/neg_acc = 0.77777778/1.0000000,                 pos_pred/all_pred =  8/20\n",
      "step 1884| pos_acc/neg_acc = 1.00000000/0.9166667,                 pos_pred/all_pred =  9/20\n",
      "step 1885| pos_acc/neg_acc = 0.80000000/1.0000000,                 pos_pred/all_pred =  9/20\n",
      "step 1886| pos_acc/neg_acc = 1.00000000/0.7647059,                 pos_pred/all_pred =  7/20\n",
      "step 1887| pos_acc/neg_acc = 0.25000000/1.0000000,                 pos_pred/all_pred =  2/20\n",
      "step 1888| pos_acc/neg_acc = 1.00000000/0.8333333,                 pos_pred/all_pred = 10/20\n",
      "step 1889| pos_acc/neg_acc = 1.00000000/1.0000000,                 pos_pred/all_pred =  6/20\n"
     ]
    },
    {
     "name": "stderr",
     "output_type": "stream",
     "text": [
      "INFO:SubjObjTrainer:  1890: 4 [  190/  425], train_loss/accuracy = 0.09707107/0.8700000\n"
     ]
    },
    {
     "name": "stdout",
     "output_type": "stream",
     "text": [
      "  1890: 4 [  190/  425], train_loss/accuracy = 0.09707107/0.8700000\n",
      "step 1890| pos_acc/neg_acc = 0.70000000/1.0000000,                 pos_pred/all_pred =  7/20\n",
      "step 1891| pos_acc/neg_acc = 1.00000000/1.0000000,                 pos_pred/all_pred =  8/20\n",
      "step 1892| pos_acc/neg_acc = 0.83333333/1.0000000,                 pos_pred/all_pred = 10/20\n",
      "step 1893| pos_acc/neg_acc = 1.00000000/0.7142857,                 pos_pred/all_pred = 15/20\n",
      "step 1894| pos_acc/neg_acc = 0.86666667/1.0000000,                 pos_pred/all_pred = 14/20\n",
      "step 1895| pos_acc/neg_acc = 1.00000000/0.4545455,                 pos_pred/all_pred = 15/20\n",
      "step 1896| pos_acc/neg_acc = 0.44444444/1.0000000,                 pos_pred/all_pred =  5/20\n",
      "step 1897| pos_acc/neg_acc = 1.00000000/0.4166667,                 pos_pred/all_pred = 15/20\n",
      "step 1898| pos_acc/neg_acc = 0.50000000/1.0000000,                 pos_pred/all_pred =  5/20\n",
      "step 1899| pos_acc/neg_acc = 0.77777778/0.9090909,                 pos_pred/all_pred =  8/20\n"
     ]
    },
    {
     "name": "stderr",
     "output_type": "stream",
     "text": [
      "INFO:SubjObjTrainer:  1900: 4 [  200/  425], train_loss/accuracy = 0.14611541/0.8250000\n"
     ]
    },
    {
     "name": "stdout",
     "output_type": "stream",
     "text": [
      "  1900: 4 [  200/  425], train_loss/accuracy = 0.14611541/0.8250000\n",
      "step 1900| pos_acc/neg_acc = 0.80000000/1.0000000,                 pos_pred/all_pred =  8/20\n",
      "step 1901| pos_acc/neg_acc = 1.00000000/0.6250000,                 pos_pred/all_pred = 15/20\n",
      "step 1902| pos_acc/neg_acc = 0.40000000/1.0000000,                 pos_pred/all_pred =  4/20\n",
      "step 1903| pos_acc/neg_acc = 1.00000000/0.6000000,                 pos_pred/all_pred = 14/20\n",
      "step 1904| pos_acc/neg_acc = 0.72727273/1.0000000,                 pos_pred/all_pred =  9/20\n",
      "step 1905| pos_acc/neg_acc = 1.00000000/0.8888889,                 pos_pred/all_pred = 12/20\n",
      "step 1906| pos_acc/neg_acc = 1.00000000/0.9230769,                 pos_pred/all_pred =  8/20\n",
      "step 1907| pos_acc/neg_acc = 1.00000000/1.0000000,                 pos_pred/all_pred = 11/20\n",
      "step 1908| pos_acc/neg_acc = 1.00000000/0.7272727,                 pos_pred/all_pred = 12/20\n",
      "step 1909| pos_acc/neg_acc = 0.50000000/1.0000000,                 pos_pred/all_pred =  3/20\n"
     ]
    },
    {
     "name": "stderr",
     "output_type": "stream",
     "text": [
      "INFO:SubjObjTrainer:  1910: 4 [  210/  425], train_loss/accuracy = 0.10777923/0.8700000\n"
     ]
    },
    {
     "name": "stdout",
     "output_type": "stream",
     "text": [
      "  1910: 4 [  210/  425], train_loss/accuracy = 0.10777923/0.8700000\n",
      "step 1910| pos_acc/neg_acc = 1.00000000/0.8571429,                 pos_pred/all_pred = 14/20\n",
      "step 1911| pos_acc/neg_acc = 1.00000000/0.9166667,                 pos_pred/all_pred =  9/20\n",
      "step 1912| pos_acc/neg_acc = 0.62500000/1.0000000,                 pos_pred/all_pred =  6/20\n",
      "step 1913| pos_acc/neg_acc = 1.00000000/0.8461538,                 pos_pred/all_pred =  9/20\n",
      "step 1914| pos_acc/neg_acc = 0.66666667/1.0000000,                 pos_pred/all_pred =  7/20\n",
      "step 1915| pos_acc/neg_acc = 1.00000000/0.9166667,                 pos_pred/all_pred =  9/20\n",
      "step 1916| pos_acc/neg_acc = 0.72727273/1.0000000,                 pos_pred/all_pred =  9/20\n",
      "step 1917| pos_acc/neg_acc = 1.00000000/0.8333333,                 pos_pred/all_pred = 10/20\n",
      "step 1918| pos_acc/neg_acc = 0.81818182/1.0000000,                 pos_pred/all_pred =  9/20\n",
      "step 1919| pos_acc/neg_acc = 1.00000000/0.8571429,                 pos_pred/all_pred = 14/20\n"
     ]
    },
    {
     "name": "stderr",
     "output_type": "stream",
     "text": [
      "INFO:SubjObjTrainer:  1920: 4 [  220/  425], train_loss/accuracy = 0.08880001/0.9050000\n"
     ]
    },
    {
     "name": "stdout",
     "output_type": "stream",
     "text": [
      "  1920: 4 [  220/  425], train_loss/accuracy = 0.08880001/0.9050000\n",
      "step 1920| pos_acc/neg_acc = 0.87500000/1.0000000,                 pos_pred/all_pred =  7/20\n",
      "step 1921| pos_acc/neg_acc = 0.85714286/1.0000000,                 pos_pred/all_pred = 12/20\n",
      "step 1922| pos_acc/neg_acc = 1.00000000/0.5833333,                 pos_pred/all_pred = 13/20\n",
      "step 1923| pos_acc/neg_acc = 1.00000000/1.0000000,                 pos_pred/all_pred =  9/20\n",
      "step 1924| pos_acc/neg_acc = 0.90909091/1.0000000,                 pos_pred/all_pred = 11/20\n",
      "step 1925| pos_acc/neg_acc = 1.00000000/1.0000000,                 pos_pred/all_pred =  9/20\n",
      "step 1926| pos_acc/neg_acc = 0.66666667/0.8571429,                 pos_pred/all_pred = 10/20\n",
      "step 1927| pos_acc/neg_acc = 1.00000000/0.4545455,                 pos_pred/all_pred = 15/20\n",
      "step 1928| pos_acc/neg_acc = 0.57142857/1.0000000,                 pos_pred/all_pred =  4/20\n",
      "step 1929| pos_acc/neg_acc = 1.00000000/0.3846154,                 pos_pred/all_pred = 15/20\n"
     ]
    },
    {
     "name": "stderr",
     "output_type": "stream",
     "text": [
      "INFO:SubjObjTrainer:  1930: 4 [  230/  425], train_loss/accuracy = 0.11489489/0.8400000\n"
     ]
    },
    {
     "name": "stdout",
     "output_type": "stream",
     "text": [
      "  1930: 4 [  230/  425], train_loss/accuracy = 0.11489489/0.8400000\n",
      "step 1930| pos_acc/neg_acc = 0.22222222/1.0000000,                 pos_pred/all_pred =  2/20\n",
      "step 1931| pos_acc/neg_acc = 1.00000000/0.0000000,                 pos_pred/all_pred = 20/20\n",
      "step 1932| pos_acc/neg_acc = 0.44444444/1.0000000,                 pos_pred/all_pred =  4/20\n",
      "step 1933| pos_acc/neg_acc = 1.00000000/0.8333333,                 pos_pred/all_pred = 15/20\n",
      "step 1934| pos_acc/neg_acc = 0.75000000/1.0000000,                 pos_pred/all_pred =  6/20\n",
      "step 1935| pos_acc/neg_acc = 1.00000000/1.0000000,                 pos_pred/all_pred = 11/20\n",
      "step 1936| pos_acc/neg_acc = 0.90000000/1.0000000,                 pos_pred/all_pred =  9/20\n",
      "step 1937| pos_acc/neg_acc = 0.83333333/1.0000000,                 pos_pred/all_pred = 10/20\n",
      "step 1938| pos_acc/neg_acc = 1.00000000/0.9285714,                 pos_pred/all_pred =  7/20\n",
      "step 1939| pos_acc/neg_acc = 0.58333333/1.0000000,                 pos_pred/all_pred =  8/20\n"
     ]
    },
    {
     "name": "stderr",
     "output_type": "stream",
     "text": [
      "INFO:SubjObjTrainer:  1940: 4 [  240/  425], train_loss/accuracy = 0.13959424/0.8300000\n"
     ]
    },
    {
     "name": "stdout",
     "output_type": "stream",
     "text": [
      "  1940: 4 [  240/  425], train_loss/accuracy = 0.13959424/0.8300000\n",
      "step 1940| pos_acc/neg_acc = 1.00000000/0.5000000,                 pos_pred/all_pred = 14/20\n",
      "step 1941| pos_acc/neg_acc = 0.55555556/1.0000000,                 pos_pred/all_pred =  6/20\n",
      "step 1942| pos_acc/neg_acc = 0.90000000/0.7000000,                 pos_pred/all_pred = 12/20\n",
      "step 1943| pos_acc/neg_acc = 0.75000000/1.0000000,                 pos_pred/all_pred = 10/20\n",
      "step 1944| pos_acc/neg_acc = 1.00000000/0.6666667,                 pos_pred/all_pred = 14/20\n",
      "step 1945| pos_acc/neg_acc = 0.75000000/0.9090909,                 pos_pred/all_pred =  8/20\n",
      "step 1946| pos_acc/neg_acc = 1.00000000/1.0000000,                 pos_pred/all_pred =  4/20\n",
      "step 1947| pos_acc/neg_acc = 0.70000000/1.0000000,                 pos_pred/all_pred =  7/20\n",
      "step 1948| pos_acc/neg_acc = 0.91666667/0.8571429,                 pos_pred/all_pred = 13/20\n",
      "step 1949| pos_acc/neg_acc = 1.00000000/0.9090909,                 pos_pred/all_pred = 10/20\n"
     ]
    },
    {
     "name": "stderr",
     "output_type": "stream",
     "text": [
      "INFO:SubjObjTrainer:  1950: 4 [  250/  425], train_loss/accuracy = 0.11132541/0.8500000\n"
     ]
    },
    {
     "name": "stdout",
     "output_type": "stream",
     "text": [
      "  1950: 4 [  250/  425], train_loss/accuracy = 0.11132541/0.8500000\n",
      "step 1950| pos_acc/neg_acc = 0.75000000/1.0000000,                 pos_pred/all_pred =  6/20\n",
      "step 1951| pos_acc/neg_acc = 1.00000000/0.7777778,                 pos_pred/all_pred = 13/20\n",
      "step 1952| pos_acc/neg_acc = 0.72727273/1.0000000,                 pos_pred/all_pred =  8/20\n",
      "step 1953| pos_acc/neg_acc = 1.00000000/0.7000000,                 pos_pred/all_pred = 13/20\n",
      "step 1954| pos_acc/neg_acc = 0.87500000/1.0000000,                 pos_pred/all_pred =  8/20\n",
      "step 1955| pos_acc/neg_acc = 0.81818182/1.0000000,                 pos_pred/all_pred = 10/20\n",
      "step 1956| pos_acc/neg_acc = 0.85714286/1.0000000,                 pos_pred/all_pred =  7/20\n",
      "step 1957| pos_acc/neg_acc = 0.72727273/1.0000000,                 pos_pred/all_pred =  8/20\n",
      "step 1958| pos_acc/neg_acc = 1.00000000/0.8181818,                 pos_pred/all_pred = 11/20\n",
      "step 1959| pos_acc/neg_acc = 0.57142857/0.9166667,                 pos_pred/all_pred =  6/20\n"
     ]
    },
    {
     "name": "stderr",
     "output_type": "stream",
     "text": [
      "INFO:SubjObjTrainer:  1960: 4 [  260/  425], train_loss/accuracy = 0.10294008/0.8850000\n"
     ]
    },
    {
     "name": "stdout",
     "output_type": "stream",
     "text": [
      "  1960: 4 [  260/  425], train_loss/accuracy = 0.10294008/0.8850000\n",
      "step 1960| pos_acc/neg_acc = 1.00000000/0.9000000,                 pos_pred/all_pred = 11/20\n",
      "step 1961| pos_acc/neg_acc = 0.75000000/0.9090909,                 pos_pred/all_pred =  8/20\n",
      "step 1962| pos_acc/neg_acc = 1.00000000/1.0000000,                 pos_pred/all_pred = 11/20\n",
      "step 1963| pos_acc/neg_acc = 0.91666667/0.8750000,                 pos_pred/all_pred = 12/20\n",
      "step 1964| pos_acc/neg_acc = 1.00000000/1.0000000,                 pos_pred/all_pred =  6/20\n",
      "step 1965| pos_acc/neg_acc = 0.77777778/1.0000000,                 pos_pred/all_pred =  8/20\n",
      "step 1966| pos_acc/neg_acc = 1.00000000/0.8750000,                 pos_pred/all_pred = 13/20\n",
      "step 1967| pos_acc/neg_acc = 0.60000000/0.9285714,                 pos_pred/all_pred =  5/20\n",
      "step 1968| pos_acc/neg_acc = 0.80000000/0.8000000,                 pos_pred/all_pred =  7/20\n",
      "step 1969| pos_acc/neg_acc = 0.81818182/1.0000000,                 pos_pred/all_pred =  9/20\n"
     ]
    },
    {
     "name": "stderr",
     "output_type": "stream",
     "text": [
      "INFO:SubjObjTrainer:  1970: 4 [  270/  425], train_loss/accuracy = 0.08577057/0.9100000\n"
     ]
    },
    {
     "name": "stdout",
     "output_type": "stream",
     "text": [
      "  1970: 4 [  270/  425], train_loss/accuracy = 0.08577057/0.9100000\n",
      "step 1970| pos_acc/neg_acc = 1.00000000/0.8888889,                 pos_pred/all_pred = 12/20\n",
      "step 1971| pos_acc/neg_acc = 1.00000000/1.0000000,                 pos_pred/all_pred = 11/20\n",
      "step 1972| pos_acc/neg_acc = 0.66666667/1.0000000,                 pos_pred/all_pred =  8/20\n",
      "step 1973| pos_acc/neg_acc = 0.90909091/0.5000000,                 pos_pred/all_pred = 15/20\n",
      "step 1974| pos_acc/neg_acc = 0.91666667/0.7142857,                 pos_pred/all_pred = 14/20\n",
      "step 1975| pos_acc/neg_acc = 1.00000000/1.0000000,                 pos_pred/all_pred =  9/20\n",
      "step 1976| pos_acc/neg_acc = 1.00000000/0.7500000,                 pos_pred/all_pred = 14/20\n",
      "step 1977| pos_acc/neg_acc = 0.55555556/0.9090909,                 pos_pred/all_pred =  6/20\n",
      "step 1978| pos_acc/neg_acc = 1.00000000/1.0000000,                 pos_pred/all_pred =  9/20\n",
      "step 1979| pos_acc/neg_acc = 0.87500000/1.0000000,                 pos_pred/all_pred =  7/20\n"
     ]
    },
    {
     "name": "stderr",
     "output_type": "stream",
     "text": [
      "INFO:SubjObjTrainer:  1980: 4 [  280/  425], train_loss/accuracy = 0.08064876/0.8900000\n"
     ]
    },
    {
     "name": "stdout",
     "output_type": "stream",
     "text": [
      "  1980: 4 [  280/  425], train_loss/accuracy = 0.08064876/0.8900000\n",
      "step 1980| pos_acc/neg_acc = 0.88888889/1.0000000,                 pos_pred/all_pred =  8/20\n",
      "step 1981| pos_acc/neg_acc = 1.00000000/0.9090909,                 pos_pred/all_pred = 10/20\n",
      "step 1982| pos_acc/neg_acc = 0.50000000/1.0000000,                 pos_pred/all_pred =  2/20\n",
      "step 1983| pos_acc/neg_acc = 1.00000000/1.0000000,                 pos_pred/all_pred = 12/20\n",
      "step 1984| pos_acc/neg_acc = 0.81818182/1.0000000,                 pos_pred/all_pred =  9/20\n",
      "step 1985| pos_acc/neg_acc = 1.00000000/0.6250000,                 pos_pred/all_pred = 15/20\n",
      "step 1986| pos_acc/neg_acc = 0.80000000/1.0000000,                 pos_pred/all_pred =  9/20\n",
      "step 1987| pos_acc/neg_acc = 1.00000000/0.9000000,                 pos_pred/all_pred = 11/20\n",
      "step 1988| pos_acc/neg_acc = 1.00000000/1.0000000,                 pos_pred/all_pred = 12/20\n",
      "step 1989| pos_acc/neg_acc = 1.00000000/0.9000000,                 pos_pred/all_pred = 11/20\n"
     ]
    },
    {
     "name": "stderr",
     "output_type": "stream",
     "text": [
      "INFO:SubjObjTrainer:  1990: 4 [  290/  425], train_loss/accuracy = 0.08010267/0.9350000\n"
     ]
    },
    {
     "name": "stdout",
     "output_type": "stream",
     "text": [
      "  1990: 4 [  290/  425], train_loss/accuracy = 0.08010267/0.9350000\n",
      "step 1990| pos_acc/neg_acc = 0.83333333/1.0000000,                 pos_pred/all_pred = 11/20\n",
      "step 1991| pos_acc/neg_acc = 1.00000000/0.6666667,                 pos_pred/all_pred = 14/20\n",
      "step 1992| pos_acc/neg_acc = 0.45454545/1.0000000,                 pos_pred/all_pred =  5/20\n",
      "step 1993| pos_acc/neg_acc = 1.00000000/0.1111111,                 pos_pred/all_pred = 19/20\n",
      "step 1994| pos_acc/neg_acc = 0.72727273/1.0000000,                 pos_pred/all_pred =  8/20\n",
      "step 1995| pos_acc/neg_acc = 1.00000000/0.9000000,                 pos_pred/all_pred = 11/20\n",
      "step 1996| pos_acc/neg_acc = 0.71428571/0.8333333,                 pos_pred/all_pred =  8/20\n",
      "step 1997| pos_acc/neg_acc = 1.00000000/1.0000000,                 pos_pred/all_pred =  9/20\n",
      "step 1998| pos_acc/neg_acc = 0.91666667/1.0000000,                 pos_pred/all_pred = 11/20\n",
      "step 1999| pos_acc/neg_acc = 1.00000000/1.0000000,                 pos_pred/all_pred =  7/20\n"
     ]
    },
    {
     "name": "stderr",
     "output_type": "stream",
     "text": [
      "INFO:SubjObjTrainer:  2000: 4 [  300/  425], train_loss/accuracy = 0.12627456/0.8600000\n"
     ]
    },
    {
     "name": "stdout",
     "output_type": "stream",
     "text": [
      "  2000: 4 [  300/  425], train_loss/accuracy = 0.12627456/0.8600000\n",
      "step 2000| pos_acc/neg_acc = 0.77777778/1.0000000,                 pos_pred/all_pred =  7/20\n",
      "step 2001| pos_acc/neg_acc = 1.00000000/1.0000000,                 pos_pred/all_pred =  9/20\n",
      "step 2002| pos_acc/neg_acc = 0.91666667/1.0000000,                 pos_pred/all_pred = 12/20\n",
      "step 2003| pos_acc/neg_acc = 1.00000000/0.8333333,                 pos_pred/all_pred = 10/20\n",
      "step 2004| pos_acc/neg_acc = 0.75000000/1.0000000,                 pos_pred/all_pred =  6/20\n",
      "step 2005| pos_acc/neg_acc = 1.00000000/0.8333333,                 pos_pred/all_pred = 15/20\n",
      "step 2006| pos_acc/neg_acc = 1.00000000/1.0000000,                 pos_pred/all_pred = 10/20\n",
      "step 2007| pos_acc/neg_acc = 1.00000000/1.0000000,                 pos_pred/all_pred = 10/20\n",
      "step 2008| pos_acc/neg_acc = 1.00000000/1.0000000,                 pos_pred/all_pred = 15/20\n",
      "step 2009| pos_acc/neg_acc = 1.00000000/0.9000000,                 pos_pred/all_pred = 11/20\n"
     ]
    },
    {
     "name": "stderr",
     "output_type": "stream",
     "text": [
      "INFO:SubjObjTrainer:  2010: 4 [  310/  425], train_loss/accuracy = 0.07391570/0.9500000\n"
     ]
    },
    {
     "name": "stdout",
     "output_type": "stream",
     "text": [
      "  2010: 4 [  310/  425], train_loss/accuracy = 0.07391570/0.9500000\n",
      "step 2010| pos_acc/neg_acc = 0.72727273/1.0000000,                 pos_pred/all_pred =  9/20\n",
      "step 2011| pos_acc/neg_acc = 1.00000000/0.6666667,                 pos_pred/all_pred = 12/20\n",
      "step 2012| pos_acc/neg_acc = 0.70000000/1.0000000,                 pos_pred/all_pred =  7/20\n",
      "step 2013| pos_acc/neg_acc = 0.81818182/0.8888889,                 pos_pred/all_pred = 10/20\n",
      "step 2014| pos_acc/neg_acc = 0.77777778/1.0000000,                 pos_pred/all_pred =  7/20\n",
      "step 2015| pos_acc/neg_acc = 1.00000000/0.4545455,                 pos_pred/all_pred = 15/20\n",
      "step 2016| pos_acc/neg_acc = 0.55555556/1.0000000,                 pos_pred/all_pred =  5/20\n",
      "step 2017| pos_acc/neg_acc = 1.00000000/0.6363636,                 pos_pred/all_pred = 13/20\n",
      "step 2018| pos_acc/neg_acc = 0.50000000/1.0000000,                 pos_pred/all_pred =  3/20\n",
      "step 2019| pos_acc/neg_acc = 1.00000000/1.0000000,                 pos_pred/all_pred = 12/20\n"
     ]
    },
    {
     "name": "stderr",
     "output_type": "stream",
     "text": [
      "INFO:SubjObjTrainer:  2020: 4 [  320/  425], train_loss/accuracy = 0.12926762/0.8350000\n"
     ]
    },
    {
     "name": "stdout",
     "output_type": "stream",
     "text": [
      "  2020: 4 [  320/  425], train_loss/accuracy = 0.12926762/0.8350000\n",
      "step 2020| pos_acc/neg_acc = 0.88888889/1.0000000,                 pos_pred/all_pred =  9/20\n",
      "step 2021| pos_acc/neg_acc = 1.00000000/1.0000000,                 pos_pred/all_pred =  7/20\n",
      "step 2022| pos_acc/neg_acc = 0.72727273/1.0000000,                 pos_pred/all_pred =  9/20\n",
      "step 2023| pos_acc/neg_acc = 1.00000000/0.8461538,                 pos_pred/all_pred =  9/20\n",
      "step 2024| pos_acc/neg_acc = 0.44444444/1.0000000,                 pos_pred/all_pred =  4/20\n",
      "step 2025| pos_acc/neg_acc = 1.00000000/0.5555556,                 pos_pred/all_pred = 15/20\n",
      "step 2026| pos_acc/neg_acc = 0.77777778/1.0000000,                 pos_pred/all_pred =  7/20\n",
      "step 2027| pos_acc/neg_acc = 0.83333333/0.8750000,                 pos_pred/all_pred = 11/20\n",
      "step 2028| pos_acc/neg_acc = 0.91666667/0.8571429,                 pos_pred/all_pred = 13/20\n",
      "step 2029| pos_acc/neg_acc = 0.87500000/0.9090909,                 pos_pred/all_pred =  9/20\n"
     ]
    },
    {
     "name": "stderr",
     "output_type": "stream",
     "text": [
      "INFO:SubjObjTrainer:  2030: 4 [  330/  425], train_loss/accuracy = 0.10340605/0.8700000\n"
     ]
    },
    {
     "name": "stdout",
     "output_type": "stream",
     "text": [
      "  2030: 4 [  330/  425], train_loss/accuracy = 0.10340605/0.8700000\n",
      "step 2030| pos_acc/neg_acc = 0.91666667/1.0000000,                 pos_pred/all_pred = 12/20\n",
      "step 2031| pos_acc/neg_acc = 0.88888889/1.0000000,                 pos_pred/all_pred =  9/20\n",
      "step 2032| pos_acc/neg_acc = 0.72727273/1.0000000,                 pos_pred/all_pred =  9/20\n",
      "step 2033| pos_acc/neg_acc = 1.00000000/0.4444444,                 pos_pred/all_pred = 16/20\n",
      "step 2034| pos_acc/neg_acc = 0.72727273/1.0000000,                 pos_pred/all_pred =  8/20\n",
      "step 2035| pos_acc/neg_acc = 1.00000000/0.6363636,                 pos_pred/all_pred = 12/20\n",
      "step 2036| pos_acc/neg_acc = 0.81818182/1.0000000,                 pos_pred/all_pred =  9/20\n",
      "step 2037| pos_acc/neg_acc = 1.00000000/1.0000000,                 pos_pred/all_pred = 14/20\n",
      "step 2038| pos_acc/neg_acc = 0.88888889/1.0000000,                 pos_pred/all_pred =  9/20\n",
      "step 2039| pos_acc/neg_acc = 0.81818182/1.0000000,                 pos_pred/all_pred =  9/20\n"
     ]
    },
    {
     "name": "stderr",
     "output_type": "stream",
     "text": [
      "INFO:SubjObjTrainer:  2040: 4 [  340/  425], train_loss/accuracy = 0.09341638/0.8800000\n"
     ]
    },
    {
     "name": "stdout",
     "output_type": "stream",
     "text": [
      "  2040: 4 [  340/  425], train_loss/accuracy = 0.09341638/0.8800000\n",
      "step 2040| pos_acc/neg_acc = 0.91666667/1.0000000,                 pos_pred/all_pred = 11/20\n",
      "step 2041| pos_acc/neg_acc = 1.00000000/1.0000000,                 pos_pred/all_pred =  9/20\n",
      "step 2042| pos_acc/neg_acc = 0.80000000/1.0000000,                 pos_pred/all_pred =  8/20\n",
      "step 2043| pos_acc/neg_acc = 1.00000000/1.0000000,                 pos_pred/all_pred = 10/20\n",
      "step 2044| pos_acc/neg_acc = 0.87500000/1.0000000,                 pos_pred/all_pred =  7/20\n",
      "step 2045| pos_acc/neg_acc = 0.87500000/1.0000000,                 pos_pred/all_pred =  8/20\n",
      "step 2046| pos_acc/neg_acc = 0.92307692/0.8333333,                 pos_pred/all_pred = 14/20\n",
      "step 2047| pos_acc/neg_acc = 0.92307692/0.8333333,                 pos_pred/all_pred = 14/20\n",
      "step 2048| pos_acc/neg_acc = 1.00000000/1.0000000,                 pos_pred/all_pred = 10/20\n",
      "step 2049| pos_acc/neg_acc = 0.66666667/1.0000000,                 pos_pred/all_pred =  4/20\n"
     ]
    },
    {
     "name": "stderr",
     "output_type": "stream",
     "text": [
      "INFO:SubjObjTrainer:  2050: 4 [  350/  425], train_loss/accuracy = 0.07581199/0.9450000\n"
     ]
    },
    {
     "name": "stdout",
     "output_type": "stream",
     "text": [
      "  2050: 4 [  350/  425], train_loss/accuracy = 0.07581199/0.9450000\n",
      "step 2050| pos_acc/neg_acc = 1.00000000/1.0000000,                 pos_pred/all_pred =  9/20\n",
      "step 2051| pos_acc/neg_acc = 1.00000000/1.0000000,                 pos_pred/all_pred = 10/20\n",
      "step 2052| pos_acc/neg_acc = 1.00000000/0.9166667,                 pos_pred/all_pred =  9/20\n",
      "step 2053| pos_acc/neg_acc = 0.77777778/0.9000000,                 pos_pred/all_pred =  9/20\n",
      "step 2054| pos_acc/neg_acc = 1.00000000/1.0000000,                 pos_pred/all_pred =  9/20\n",
      "step 2055| pos_acc/neg_acc = 1.00000000/0.6666667,                 pos_pred/all_pred = 14/20\n",
      "step 2056| pos_acc/neg_acc = 0.33333333/1.0000000,                 pos_pred/all_pred =  3/20\n",
      "step 2057| pos_acc/neg_acc = 1.00000000/0.8461538,                 pos_pred/all_pred =  9/20\n",
      "step 2058| pos_acc/neg_acc = 0.44444444/1.0000000,                 pos_pred/all_pred =  5/20\n",
      "step 2059| pos_acc/neg_acc = 1.00000000/0.3750000,                 pos_pred/all_pred = 17/20\n"
     ]
    },
    {
     "name": "stderr",
     "output_type": "stream",
     "text": [
      "INFO:SubjObjTrainer:  2060: 4 [  360/  425], train_loss/accuracy = 0.09809013/0.8850000\n"
     ]
    },
    {
     "name": "stdout",
     "output_type": "stream",
     "text": [
      "  2060: 4 [  360/  425], train_loss/accuracy = 0.09809013/0.8850000\n",
      "step 2060| pos_acc/neg_acc = 0.80000000/1.0000000,                 pos_pred/all_pred =  4/20\n",
      "step 2061| pos_acc/neg_acc = 0.87500000/1.0000000,                 pos_pred/all_pred =  7/20\n",
      "step 2062| pos_acc/neg_acc = 0.91666667/1.0000000,                 pos_pred/all_pred = 11/20\n",
      "step 2063| pos_acc/neg_acc = 1.00000000/1.0000000,                 pos_pred/all_pred =  7/20\n",
      "step 2064| pos_acc/neg_acc = 0.75000000/1.0000000,                 pos_pred/all_pred =  6/20\n",
      "step 2065| pos_acc/neg_acc = 0.80000000/0.5555556,                 pos_pred/all_pred = 13/20\n",
      "step 2066| pos_acc/neg_acc = 0.83333333/1.0000000,                 pos_pred/all_pred = 10/20\n",
      "step 2067| pos_acc/neg_acc = 1.00000000/0.8333333,                 pos_pred/all_pred = 10/20\n",
      "step 2068| pos_acc/neg_acc = 0.77777778/1.0000000,                 pos_pred/all_pred =  7/20\n",
      "step 2069| pos_acc/neg_acc = 0.91666667/0.8750000,                 pos_pred/all_pred = 12/20\n"
     ]
    },
    {
     "name": "stderr",
     "output_type": "stream",
     "text": [
      "INFO:SubjObjTrainer:  2070: 4 [  370/  425], train_loss/accuracy = 0.08041784/0.9000000\n"
     ]
    },
    {
     "name": "stdout",
     "output_type": "stream",
     "text": [
      "  2070: 4 [  370/  425], train_loss/accuracy = 0.08041784/0.9000000\n",
      "step 2070| pos_acc/neg_acc = 1.00000000/0.8888889,                 pos_pred/all_pred = 12/20\n",
      "step 2071| pos_acc/neg_acc = 1.00000000/1.0000000,                 pos_pred/all_pred = 10/20\n",
      "step 2072| pos_acc/neg_acc = 1.00000000/0.9090909,                 pos_pred/all_pred = 10/20\n",
      "step 2073| pos_acc/neg_acc = 0.50000000/1.0000000,                 pos_pred/all_pred =  5/20\n",
      "step 2074| pos_acc/neg_acc = 1.00000000/0.7500000,                 pos_pred/all_pred = 14/20\n",
      "step 2075| pos_acc/neg_acc = 0.70000000/1.0000000,                 pos_pred/all_pred =  7/20\n",
      "step 2076| pos_acc/neg_acc = 0.91666667/0.8571429,                 pos_pred/all_pred = 13/20\n",
      "step 2077| pos_acc/neg_acc = 0.80000000/0.9000000,                 pos_pred/all_pred =  9/20\n",
      "step 2078| pos_acc/neg_acc = 1.00000000/0.9090909,                 pos_pred/all_pred = 10/20\n",
      "step 2079| pos_acc/neg_acc = 0.88888889/1.0000000,                 pos_pred/all_pred =  9/20\n"
     ]
    },
    {
     "name": "stderr",
     "output_type": "stream",
     "text": [
      "INFO:SubjObjTrainer:  2080: 4 [  380/  425], train_loss/accuracy = 0.08235534/0.9100000\n"
     ]
    },
    {
     "name": "stdout",
     "output_type": "stream",
     "text": [
      "  2080: 4 [  380/  425], train_loss/accuracy = 0.08235534/0.9100000\n",
      "step 2080| pos_acc/neg_acc = 0.91666667/1.0000000,                 pos_pred/all_pred = 11/20\n",
      "step 2081| pos_acc/neg_acc = 1.00000000/1.0000000,                 pos_pred/all_pred =  6/20\n",
      "step 2082| pos_acc/neg_acc = 1.00000000/1.0000000,                 pos_pred/all_pred =  8/20\n",
      "step 2083| pos_acc/neg_acc = 0.81818182/1.0000000,                 pos_pred/all_pred = 10/20\n",
      "step 2084| pos_acc/neg_acc = 0.87500000/0.8333333,                 pos_pred/all_pred =  9/20\n",
      "step 2085| pos_acc/neg_acc = 0.54545455/1.0000000,                 pos_pred/all_pred =  7/20\n",
      "step 2086| pos_acc/neg_acc = 1.00000000/0.4444444,                 pos_pred/all_pred = 16/20\n",
      "step 2087| pos_acc/neg_acc = 0.81818182/1.0000000,                 pos_pred/all_pred =  9/20\n",
      "step 2088| pos_acc/neg_acc = 1.00000000/0.7777778,                 pos_pred/all_pred = 13/20\n",
      "step 2089| pos_acc/neg_acc = 0.88888889/1.0000000,                 pos_pred/all_pred =  8/20\n"
     ]
    },
    {
     "name": "stderr",
     "output_type": "stream",
     "text": [
      "INFO:SubjObjTrainer:  2090: 4 [  390/  425], train_loss/accuracy = 0.10322072/0.8900000\n"
     ]
    },
    {
     "name": "stdout",
     "output_type": "stream",
     "text": [
      "  2090: 4 [  390/  425], train_loss/accuracy = 0.10322072/0.8900000\n",
      "step 2090| pos_acc/neg_acc = 1.00000000/1.0000000,                 pos_pred/all_pred = 12/20\n",
      "step 2091| pos_acc/neg_acc = 0.90000000/1.0000000,                 pos_pred/all_pred =  9/20\n",
      "step 2092| pos_acc/neg_acc = 0.91666667/1.0000000,                 pos_pred/all_pred = 11/20\n",
      "step 2093| pos_acc/neg_acc = 1.00000000/0.8888889,                 pos_pred/all_pred = 12/20\n",
      "step 2094| pos_acc/neg_acc = 0.90909091/1.0000000,                 pos_pred/all_pred = 10/20\n",
      "step 2095| pos_acc/neg_acc = 1.00000000/0.8750000,                 pos_pred/all_pred = 13/20\n",
      "step 2096| pos_acc/neg_acc = 1.00000000/0.8461538,                 pos_pred/all_pred =  9/20\n",
      "step 2097| pos_acc/neg_acc = 0.38461538/1.0000000,                 pos_pred/all_pred =  5/20\n",
      "step 2098| pos_acc/neg_acc = 1.00000000/0.1666667,                 pos_pred/all_pred = 18/20\n",
      "step 2099| pos_acc/neg_acc = 0.60000000/1.0000000,                 pos_pred/all_pred =  6/20\n"
     ]
    },
    {
     "name": "stderr",
     "output_type": "stream",
     "text": [
      "INFO:SubjObjTrainer:  2100: 4 [  400/  425], train_loss/accuracy = 0.13430531/0.8500000\n"
     ]
    },
    {
     "name": "stdout",
     "output_type": "stream",
     "text": [
      "  2100: 4 [  400/  425], train_loss/accuracy = 0.13430531/0.8500000\n",
      "step 2100| pos_acc/neg_acc = 1.00000000/0.4000000,                 pos_pred/all_pred = 16/20\n",
      "step 2101| pos_acc/neg_acc = 1.00000000/1.0000000,                 pos_pred/all_pred = 13/20\n",
      "step 2102| pos_acc/neg_acc = 1.00000000/1.0000000,                 pos_pred/all_pred = 11/20\n",
      "step 2103| pos_acc/neg_acc = 1.00000000/1.0000000,                 pos_pred/all_pred = 10/20\n",
      "step 2104| pos_acc/neg_acc = 1.00000000/1.0000000,                 pos_pred/all_pred =  7/20\n",
      "step 2105| pos_acc/neg_acc = 0.88888889/1.0000000,                 pos_pred/all_pred =  8/20\n",
      "step 2106| pos_acc/neg_acc = 0.88888889/0.9090909,                 pos_pred/all_pred =  9/20\n",
      "step 2107| pos_acc/neg_acc = 0.81818182/1.0000000,                 pos_pred/all_pred =  9/20\n",
      "step 2108| pos_acc/neg_acc = 1.00000000/0.6250000,                 pos_pred/all_pred = 15/20\n",
      "step 2109| pos_acc/neg_acc = 0.50000000/1.0000000,                 pos_pred/all_pred =  5/20\n"
     ]
    },
    {
     "name": "stderr",
     "output_type": "stream",
     "text": [
      "INFO:SubjObjTrainer:  2110: 4 [  410/  425], train_loss/accuracy = 0.09173886/0.9000000\n"
     ]
    },
    {
     "name": "stdout",
     "output_type": "stream",
     "text": [
      "  2110: 4 [  410/  425], train_loss/accuracy = 0.09173886/0.9000000\n",
      "step 2110| pos_acc/neg_acc = 0.91666667/0.8571429,                 pos_pred/all_pred = 13/20\n",
      "step 2111| pos_acc/neg_acc = 0.87500000/1.0000000,                 pos_pred/all_pred =  8/20\n",
      "step 2112| pos_acc/neg_acc = 1.00000000/0.8888889,                 pos_pred/all_pred = 12/20\n",
      "step 2113| pos_acc/neg_acc = 1.00000000/1.0000000,                 pos_pred/all_pred =  6/20\n",
      "step 2114| pos_acc/neg_acc = 0.75000000/1.0000000,                 pos_pred/all_pred = 10/20\n",
      "step 2115| pos_acc/neg_acc = 1.00000000/0.5000000,                 pos_pred/all_pred = 14/20\n",
      "step 2116| pos_acc/neg_acc = 0.50000000/1.0000000,                 pos_pred/all_pred =  5/20\n",
      "step 2117| pos_acc/neg_acc = 1.00000000/0.8181818,                 pos_pred/all_pred = 11/20\n",
      "step 2118| pos_acc/neg_acc = 0.90000000/1.0000000,                 pos_pred/all_pred =  9/20\n",
      "step 2119| pos_acc/neg_acc = 1.00000000/0.9090909,                 pos_pred/all_pred = 10/20\n"
     ]
    },
    {
     "name": "stderr",
     "output_type": "stream",
     "text": [
      "INFO:SubjObjTrainer:  2120: 4 [  420/  425], train_loss/accuracy = 0.10366974/0.8950000\n"
     ]
    },
    {
     "name": "stdout",
     "output_type": "stream",
     "text": [
      "  2120: 4 [  420/  425], train_loss/accuracy = 0.10366974/0.8950000\n",
      "step 2120| pos_acc/neg_acc = 1.00000000/1.0000000,                 pos_pred/all_pred = 11/20\n",
      "step 2121| pos_acc/neg_acc = 0.91666667/0.8750000,                 pos_pred/all_pred = 12/20\n",
      "step 2122| pos_acc/neg_acc = 1.00000000/1.0000000,                 pos_pred/all_pred = 12/20\n",
      "step 2123| pos_acc/neg_acc = 1.00000000/0.9000000,                 pos_pred/all_pred = 11/20\n",
      "step 2124| pos_acc/neg_acc = 1.00000000/1.0000000,                 pos_pred/all_pred =  8/20\n"
     ]
    },
    {
     "name": "stderr",
     "output_type": "stream",
     "text": [
      "INFO:SubjObjTrainer:[    4/   10], valid_loss/accuracy = 0.07758909/0.5300000\n"
     ]
    },
    {
     "name": "stdout",
     "output_type": "stream",
     "text": [
      "[    4/   10], valid_loss/accuracy = 0.07758909/0.5300000\n",
      "step 2125| pos_acc/neg_acc = 0.85714286/1.0000000,                 pos_pred/all_pred = 12/20\n",
      "step 2126| pos_acc/neg_acc = 1.00000000/0.8461538,                 pos_pred/all_pred =  9/20\n",
      "step 2127| pos_acc/neg_acc = 0.54545455/1.0000000,                 pos_pred/all_pred =  6/20\n",
      "step 2128| pos_acc/neg_acc = 1.00000000/0.7272727,                 pos_pred/all_pred = 12/20\n",
      "step 2129| pos_acc/neg_acc = 1.00000000/1.0000000,                 pos_pred/all_pred =  7/20\n"
     ]
    },
    {
     "name": "stderr",
     "output_type": "stream",
     "text": [
      "INFO:SubjObjTrainer:  2130: 5 [    5/  425], train_loss/accuracy = 0.06135415/0.4350000\n"
     ]
    },
    {
     "name": "stdout",
     "output_type": "stream",
     "text": [
      "  2130: 5 [    5/  425], train_loss/accuracy = 0.06135415/0.4350000\n",
      "step 2130| pos_acc/neg_acc = 1.00000000/0.9000000,                 pos_pred/all_pred = 11/20\n",
      "step 2131| pos_acc/neg_acc = 1.00000000/1.0000000,                 pos_pred/all_pred =  8/20\n",
      "step 2132| pos_acc/neg_acc = 0.83333333/1.0000000,                 pos_pred/all_pred = 10/20\n",
      "step 2133| pos_acc/neg_acc = 0.87500000/1.0000000,                 pos_pred/all_pred =  7/20\n",
      "step 2134| pos_acc/neg_acc = 1.00000000/1.0000000,                 pos_pred/all_pred =  9/20\n",
      "step 2135| pos_acc/neg_acc = 1.00000000/1.0000000,                 pos_pred/all_pred = 11/20\n",
      "step 2136| pos_acc/neg_acc = 1.00000000/1.0000000,                 pos_pred/all_pred = 11/20\n",
      "step 2137| pos_acc/neg_acc = 0.88888889/1.0000000,                 pos_pred/all_pred =  8/20\n",
      "step 2138| pos_acc/neg_acc = 1.00000000/1.0000000,                 pos_pred/all_pred =  6/20\n",
      "step 2139| pos_acc/neg_acc = 0.83333333/1.0000000,                 pos_pred/all_pred =  5/20\n"
     ]
    },
    {
     "name": "stderr",
     "output_type": "stream",
     "text": [
      "INFO:SubjObjTrainer:  2140: 5 [   15/  425], train_loss/accuracy = 0.05635759/0.9650000\n"
     ]
    },
    {
     "name": "stdout",
     "output_type": "stream",
     "text": [
      "  2140: 5 [   15/  425], train_loss/accuracy = 0.05635759/0.9650000\n",
      "step 2140| pos_acc/neg_acc = 1.00000000/0.9000000,                 pos_pred/all_pred = 11/20\n",
      "step 2141| pos_acc/neg_acc = 1.00000000/0.9333333,                 pos_pred/all_pred =  6/20\n",
      "step 2142| pos_acc/neg_acc = 1.00000000/1.0000000,                 pos_pred/all_pred =  9/20\n",
      "step 2143| pos_acc/neg_acc = 1.00000000/1.0000000,                 pos_pred/all_pred =  8/20\n",
      "step 2144| pos_acc/neg_acc = 0.70000000/1.0000000,                 pos_pred/all_pred =  7/20\n",
      "step 2145| pos_acc/neg_acc = 1.00000000/1.0000000,                 pos_pred/all_pred =  8/20\n",
      "step 2146| pos_acc/neg_acc = 0.83333333/1.0000000,                 pos_pred/all_pred = 11/20\n",
      "step 2147| pos_acc/neg_acc = 0.90909091/0.8750000,                 pos_pred/all_pred = 12/20\n",
      "step 2148| pos_acc/neg_acc = 0.83333333/1.0000000,                 pos_pred/all_pred =  5/20\n",
      "step 2149| pos_acc/neg_acc = 1.00000000/0.8000000,                 pos_pred/all_pred = 12/20\n"
     ]
    },
    {
     "name": "stderr",
     "output_type": "stream",
     "text": [
      "INFO:SubjObjTrainer:  2150: 5 [   25/  425], train_loss/accuracy = 0.06116211/0.9400000\n"
     ]
    },
    {
     "name": "stdout",
     "output_type": "stream",
     "text": [
      "  2150: 5 [   25/  425], train_loss/accuracy = 0.06116211/0.9400000\n",
      "step 2150| pos_acc/neg_acc = 0.80000000/1.0000000,                 pos_pred/all_pred =  5/20\n",
      "step 2151| pos_acc/neg_acc = 0.90000000/1.0000000,                 pos_pred/all_pred =  9/20\n",
      "step 2152| pos_acc/neg_acc = 1.00000000/0.9090909,                 pos_pred/all_pred = 10/20\n",
      "step 2153| pos_acc/neg_acc = 0.88888889/1.0000000,                 pos_pred/all_pred =  9/20\n",
      "step 2154| pos_acc/neg_acc = 1.00000000/1.0000000,                 pos_pred/all_pred = 13/20\n",
      "step 2155| pos_acc/neg_acc = 1.00000000/0.8461538,                 pos_pred/all_pred =  8/20\n",
      "step 2156| pos_acc/neg_acc = 0.92307692/1.0000000,                 pos_pred/all_pred = 13/20\n",
      "step 2157| pos_acc/neg_acc = 0.75000000/0.9090909,                 pos_pred/all_pred =  8/20\n",
      "step 2158| pos_acc/neg_acc = 0.44444444/1.0000000,                 pos_pred/all_pred =  5/20\n",
      "step 2159| pos_acc/neg_acc = 1.00000000/0.8181818,                 pos_pred/all_pred = 11/20\n"
     ]
    },
    {
     "name": "stderr",
     "output_type": "stream",
     "text": [
      "INFO:SubjObjTrainer:  2160: 5 [   35/  425], train_loss/accuracy = 0.07540184/0.9050000\n"
     ]
    },
    {
     "name": "stdout",
     "output_type": "stream",
     "text": [
      "  2160: 5 [   35/  425], train_loss/accuracy = 0.07540184/0.9050000\n",
      "step 2160| pos_acc/neg_acc = 1.00000000/1.0000000,                 pos_pred/all_pred =  8/20\n",
      "step 2161| pos_acc/neg_acc = 0.25000000/1.0000000,                 pos_pred/all_pred =  3/20\n",
      "step 2162| pos_acc/neg_acc = 1.00000000/0.0714286,                 pos_pred/all_pred = 19/20\n",
      "step 2163| pos_acc/neg_acc = 0.15384615/1.0000000,                 pos_pred/all_pred =  2/20\n",
      "step 2164| pos_acc/neg_acc = 1.00000000/0.3750000,                 pos_pred/all_pred = 17/20\n",
      "step 2165| pos_acc/neg_acc = 0.83333333/1.0000000,                 pos_pred/all_pred =  5/20\n",
      "step 2166| pos_acc/neg_acc = 1.00000000/0.8571429,                 pos_pred/all_pred = 14/20\n",
      "step 2167| pos_acc/neg_acc = 0.77777778/1.0000000,                 pos_pred/all_pred =  8/20\n",
      "step 2168| pos_acc/neg_acc = 1.00000000/0.8000000,                 pos_pred/all_pred = 12/20\n",
      "step 2169| pos_acc/neg_acc = 0.91666667/1.0000000,                 pos_pred/all_pred = 12/20\n"
     ]
    },
    {
     "name": "stderr",
     "output_type": "stream",
     "text": [
      "INFO:SubjObjTrainer:  2170: 5 [   45/  425], train_loss/accuracy = 0.19170557/0.7650000\n"
     ]
    },
    {
     "name": "stdout",
     "output_type": "stream",
     "text": [
      "  2170: 5 [   45/  425], train_loss/accuracy = 0.19170557/0.7650000\n",
      "step 2170| pos_acc/neg_acc = 0.90000000/1.0000000,                 pos_pred/all_pred =  9/20\n",
      "step 2171| pos_acc/neg_acc = 0.75000000/0.9166667,                 pos_pred/all_pred =  7/20\n",
      "step 2172| pos_acc/neg_acc = 0.80000000/1.0000000,                 pos_pred/all_pred =  8/20\n",
      "step 2173| pos_acc/neg_acc = 1.00000000/0.7857143,                 pos_pred/all_pred =  9/20\n",
      "step 2174| pos_acc/neg_acc = 0.71428571/1.0000000,                 pos_pred/all_pred =  5/20\n",
      "step 2175| pos_acc/neg_acc = 1.00000000/1.0000000,                 pos_pred/all_pred = 14/20\n",
      "step 2176| pos_acc/neg_acc = 1.00000000/0.9090909,                 pos_pred/all_pred = 10/20\n",
      "step 2177| pos_acc/neg_acc = 0.83333333/1.0000000,                 pos_pred/all_pred = 11/20\n",
      "step 2178| pos_acc/neg_acc = 1.00000000/1.0000000,                 pos_pred/all_pred = 10/20\n",
      "step 2179| pos_acc/neg_acc = 0.57142857/1.0000000,                 pos_pred/all_pred =  4/20\n"
     ]
    },
    {
     "name": "stderr",
     "output_type": "stream",
     "text": [
      "INFO:SubjObjTrainer:  2180: 5 [   55/  425], train_loss/accuracy = 0.07795873/0.9100000\n"
     ]
    },
    {
     "name": "stdout",
     "output_type": "stream",
     "text": [
      "  2180: 5 [   55/  425], train_loss/accuracy = 0.07795873/0.9100000\n",
      "step 2180| pos_acc/neg_acc = 0.90909091/0.7500000,                 pos_pred/all_pred = 13/20\n",
      "step 2181| pos_acc/neg_acc = 1.00000000/0.9090909,                 pos_pred/all_pred = 10/20\n",
      "step 2182| pos_acc/neg_acc = 1.00000000/1.0000000,                 pos_pred/all_pred =  9/20\n",
      "step 2183| pos_acc/neg_acc = 0.91666667/1.0000000,                 pos_pred/all_pred = 12/20\n",
      "step 2184| pos_acc/neg_acc = 1.00000000/0.9000000,                 pos_pred/all_pred = 11/20\n",
      "step 2185| pos_acc/neg_acc = 0.90000000/1.0000000,                 pos_pred/all_pred = 10/20\n",
      "step 2186| pos_acc/neg_acc = 0.91666667/0.8750000,                 pos_pred/all_pred = 12/20\n",
      "step 2187| pos_acc/neg_acc = 1.00000000/1.0000000,                 pos_pred/all_pred =  9/20\n",
      "step 2188| pos_acc/neg_acc = 0.87500000/0.9166667,                 pos_pred/all_pred =  8/20\n",
      "step 2189| pos_acc/neg_acc = 0.90909091/1.0000000,                 pos_pred/all_pred = 10/20\n"
     ]
    },
    {
     "name": "stderr",
     "output_type": "stream",
     "text": [
      "INFO:SubjObjTrainer:  2190: 5 [   65/  425], train_loss/accuracy = 0.06739040/0.9350000\n"
     ]
    },
    {
     "name": "stdout",
     "output_type": "stream",
     "text": [
      "  2190: 5 [   65/  425], train_loss/accuracy = 0.06739040/0.9350000\n",
      "step 2190| pos_acc/neg_acc = 1.00000000/0.8888889,                 pos_pred/all_pred = 12/20\n",
      "step 2191| pos_acc/neg_acc = 0.84615385/1.0000000,                 pos_pred/all_pred = 12/20\n",
      "step 2192| pos_acc/neg_acc = 1.00000000/0.6666667,                 pos_pred/all_pred = 14/20\n",
      "step 2193| pos_acc/neg_acc = 1.00000000/1.0000000,                 pos_pred/all_pred = 12/20\n",
      "step 2194| pos_acc/neg_acc = 0.92857143/1.0000000,                 pos_pred/all_pred = 13/20\n",
      "step 2195| pos_acc/neg_acc = 1.00000000/0.7000000,                 pos_pred/all_pred = 13/20\n",
      "step 2196| pos_acc/neg_acc = 0.90909091/1.0000000,                 pos_pred/all_pred = 11/20\n",
      "step 2197| pos_acc/neg_acc = 1.00000000/0.7000000,                 pos_pred/all_pred = 13/20\n",
      "step 2198| pos_acc/neg_acc = 0.77777778/1.0000000,                 pos_pred/all_pred =  7/20\n",
      "step 2199| pos_acc/neg_acc = 1.00000000/1.0000000,                 pos_pred/all_pred =  7/20\n"
     ]
    },
    {
     "name": "stderr",
     "output_type": "stream",
     "text": [
      "INFO:SubjObjTrainer:  2200: 5 [   75/  425], train_loss/accuracy = 0.07387757/0.9200000\n"
     ]
    },
    {
     "name": "stdout",
     "output_type": "stream",
     "text": [
      "  2200: 5 [   75/  425], train_loss/accuracy = 0.07387757/0.9200000\n",
      "step 2200| pos_acc/neg_acc = 0.71428571/1.0000000,                 pos_pred/all_pred =  5/20\n",
      "step 2201| pos_acc/neg_acc = 1.00000000/0.7272727,                 pos_pred/all_pred = 12/20\n",
      "step 2202| pos_acc/neg_acc = 0.77777778/1.0000000,                 pos_pred/all_pred =  7/20\n",
      "step 2203| pos_acc/neg_acc = 0.77777778/1.0000000,                 pos_pred/all_pred =  8/20\n",
      "step 2204| pos_acc/neg_acc = 1.00000000/0.9166667,                 pos_pred/all_pred =  9/20\n",
      "step 2205| pos_acc/neg_acc = 0.90000000/1.0000000,                 pos_pred/all_pred = 10/20\n",
      "step 2206| pos_acc/neg_acc = 0.66666667/1.0000000,                 pos_pred/all_pred =  6/20\n",
      "step 2207| pos_acc/neg_acc = 1.00000000/0.8000000,                 pos_pred/all_pred = 12/20\n",
      "step 2208| pos_acc/neg_acc = 0.44444444/1.0000000,                 pos_pred/all_pred =  5/20\n",
      "step 2209| pos_acc/neg_acc = 1.00000000/0.7000000,                 pos_pred/all_pred = 13/20\n"
     ]
    },
    {
     "name": "stderr",
     "output_type": "stream",
     "text": [
      "INFO:SubjObjTrainer:  2210: 5 [   85/  425], train_loss/accuracy = 0.11001398/0.8700000\n"
     ]
    },
    {
     "name": "stdout",
     "output_type": "stream",
     "text": [
      "  2210: 5 [   85/  425], train_loss/accuracy = 0.11001398/0.8700000\n",
      "step 2210| pos_acc/neg_acc = 0.77777778/1.0000000,                 pos_pred/all_pred =  7/20\n",
      "step 2211| pos_acc/neg_acc = 0.87500000/1.0000000,                 pos_pred/all_pred =  8/20\n",
      "step 2212| pos_acc/neg_acc = 0.66666667/1.0000000,                 pos_pred/all_pred =  6/20\n",
      "step 2213| pos_acc/neg_acc = 0.91666667/1.0000000,                 pos_pred/all_pred = 12/20\n",
      "step 2214| pos_acc/neg_acc = 0.91666667/1.0000000,                 pos_pred/all_pred = 12/20\n",
      "step 2215| pos_acc/neg_acc = 1.00000000/0.9090909,                 pos_pred/all_pred = 10/20\n",
      "step 2216| pos_acc/neg_acc = 0.66666667/1.0000000,                 pos_pred/all_pred =  6/20\n",
      "step 2217| pos_acc/neg_acc = 0.90909091/0.8750000,                 pos_pred/all_pred = 12/20\n",
      "step 2218| pos_acc/neg_acc = 0.92307692/0.8571429,                 pos_pred/all_pred = 13/20\n",
      "step 2219| pos_acc/neg_acc = 1.00000000/1.0000000,                 pos_pred/all_pred = 11/20\n"
     ]
    },
    {
     "name": "stderr",
     "output_type": "stream",
     "text": [
      "INFO:SubjObjTrainer:  2220: 5 [   95/  425], train_loss/accuracy = 0.07743959/0.9200000\n"
     ]
    },
    {
     "name": "stdout",
     "output_type": "stream",
     "text": [
      "  2220: 5 [   95/  425], train_loss/accuracy = 0.07743959/0.9200000\n",
      "step 2220| pos_acc/neg_acc = 0.90909091/0.8750000,                 pos_pred/all_pred = 12/20\n",
      "step 2221| pos_acc/neg_acc = 0.91666667/0.8571429,                 pos_pred/all_pred = 13/20\n",
      "step 2222| pos_acc/neg_acc = 0.90000000/0.9000000,                 pos_pred/all_pred = 10/20\n",
      "step 2223| pos_acc/neg_acc = 0.83333333/1.0000000,                 pos_pred/all_pred = 10/20\n",
      "step 2224| pos_acc/neg_acc = 1.00000000/0.7500000,                 pos_pred/all_pred = 11/20\n",
      "step 2225| pos_acc/neg_acc = 0.33333333/1.0000000,                 pos_pred/all_pred =  3/20\n",
      "step 2226| pos_acc/neg_acc = 1.00000000/0.7142857,                 pos_pred/all_pred = 15/20\n",
      "step 2227| pos_acc/neg_acc = 1.00000000/0.9166667,                 pos_pred/all_pred =  9/20\n",
      "step 2228| pos_acc/neg_acc = 0.72727273/1.0000000,                 pos_pred/all_pred =  8/20\n",
      "step 2229| pos_acc/neg_acc = 1.00000000/0.8571429,                 pos_pred/all_pred = 14/20\n"
     ]
    },
    {
     "name": "stderr",
     "output_type": "stream",
     "text": [
      "INFO:SubjObjTrainer:  2230: 5 [  105/  425], train_loss/accuracy = 0.09006920/0.8800000\n"
     ]
    },
    {
     "name": "stdout",
     "output_type": "stream",
     "text": [
      "  2230: 5 [  105/  425], train_loss/accuracy = 0.09006920/0.8800000\n",
      "step 2230| pos_acc/neg_acc = 0.84615385/1.0000000,                 pos_pred/all_pred = 11/20\n",
      "step 2231| pos_acc/neg_acc = 1.00000000/0.6153846,                 pos_pred/all_pred = 12/20\n",
      "step 2232| pos_acc/neg_acc = 0.87500000/1.0000000,                 pos_pred/all_pred =  7/20\n",
      "step 2233| pos_acc/neg_acc = 1.00000000/0.9166667,                 pos_pred/all_pred =  9/20\n",
      "step 2234| pos_acc/neg_acc = 1.00000000/1.0000000,                 pos_pred/all_pred =  9/20\n",
      "step 2235| pos_acc/neg_acc = 1.00000000/1.0000000,                 pos_pred/all_pred =  7/20\n",
      "step 2236| pos_acc/neg_acc = 0.66666667/1.0000000,                 pos_pred/all_pred =  4/20\n",
      "step 2237| pos_acc/neg_acc = 0.90909091/1.0000000,                 pos_pred/all_pred = 10/20\n",
      "step 2238| pos_acc/neg_acc = 1.00000000/0.7272727,                 pos_pred/all_pred = 12/20\n",
      "step 2239| pos_acc/neg_acc = 0.57142857/1.0000000,                 pos_pred/all_pred =  5/20\n"
     ]
    },
    {
     "name": "stderr",
     "output_type": "stream",
     "text": [
      "INFO:SubjObjTrainer:  2240: 5 [  115/  425], train_loss/accuracy = 0.08918222/0.9100000\n"
     ]
    },
    {
     "name": "stdout",
     "output_type": "stream",
     "text": [
      "  2240: 5 [  115/  425], train_loss/accuracy = 0.08918222/0.9100000\n",
      "step 2240| pos_acc/neg_acc = 0.87500000/0.8181818,                 pos_pred/all_pred = 10/20\n",
      "step 2241| pos_acc/neg_acc = 0.90000000/1.0000000,                 pos_pred/all_pred = 10/20\n",
      "step 2242| pos_acc/neg_acc = 1.00000000/0.8571429,                 pos_pred/all_pred = 14/20\n",
      "step 2243| pos_acc/neg_acc = 0.75000000/1.0000000,                 pos_pred/all_pred = 10/20\n",
      "step 2244| pos_acc/neg_acc = 1.00000000/0.5555556,                 pos_pred/all_pred = 15/20\n",
      "step 2245| pos_acc/neg_acc = 0.62500000/0.9166667,                 pos_pred/all_pred =  6/20\n",
      "step 2246| pos_acc/neg_acc = 1.00000000/0.8461538,                 pos_pred/all_pred =  9/20\n",
      "step 2247| pos_acc/neg_acc = 0.63636364/1.0000000,                 pos_pred/all_pred =  8/20\n",
      "step 2248| pos_acc/neg_acc = 1.00000000/1.0000000,                 pos_pred/all_pred = 11/20\n",
      "step 2249| pos_acc/neg_acc = 1.00000000/0.8571429,                 pos_pred/all_pred = 14/20\n"
     ]
    },
    {
     "name": "stderr",
     "output_type": "stream",
     "text": [
      "INFO:SubjObjTrainer:  2250: 5 [  125/  425], train_loss/accuracy = 0.11033853/0.8850000\n"
     ]
    },
    {
     "name": "stdout",
     "output_type": "stream",
     "text": [
      "  2250: 5 [  125/  425], train_loss/accuracy = 0.11033853/0.8850000\n",
      "step 2250| pos_acc/neg_acc = 1.00000000/1.0000000,                 pos_pred/all_pred =  8/20\n",
      "step 2251| pos_acc/neg_acc = 0.88888889/1.0000000,                 pos_pred/all_pred =  8/20\n",
      "step 2252| pos_acc/neg_acc = 1.00000000/1.0000000,                 pos_pred/all_pred = 13/20\n",
      "step 2253| pos_acc/neg_acc = 1.00000000/0.8461538,                 pos_pred/all_pred =  9/20\n",
      "step 2254| pos_acc/neg_acc = 1.00000000/1.0000000,                 pos_pred/all_pred =  8/20\n",
      "step 2255| pos_acc/neg_acc = 1.00000000/1.0000000,                 pos_pred/all_pred =  7/20\n",
      "step 2256| pos_acc/neg_acc = 0.83333333/1.0000000,                 pos_pred/all_pred =  5/20\n",
      "step 2257| pos_acc/neg_acc = 1.00000000/0.9090909,                 pos_pred/all_pred = 10/20\n",
      "step 2258| pos_acc/neg_acc = 0.70000000/1.0000000,                 pos_pred/all_pred =  7/20\n",
      "step 2259| pos_acc/neg_acc = 1.00000000/0.4000000,                 pos_pred/all_pred = 16/20\n"
     ]
    },
    {
     "name": "stderr",
     "output_type": "stream",
     "text": [
      "INFO:SubjObjTrainer:  2260: 5 [  135/  425], train_loss/accuracy = 0.07554895/0.9250000\n"
     ]
    },
    {
     "name": "stdout",
     "output_type": "stream",
     "text": [
      "  2260: 5 [  135/  425], train_loss/accuracy = 0.07554895/0.9250000\n",
      "step 2260| pos_acc/neg_acc = 0.50000000/1.0000000,                 pos_pred/all_pred =  5/20\n",
      "step 2261| pos_acc/neg_acc = 1.00000000/0.7500000,                 pos_pred/all_pred = 14/20\n",
      "step 2262| pos_acc/neg_acc = 0.46153846/1.0000000,                 pos_pred/all_pred =  6/20\n",
      "step 2263| pos_acc/neg_acc = 1.00000000/0.0000000,                 pos_pred/all_pred = 20/20\n",
      "step 2264| pos_acc/neg_acc = 0.25000000/1.0000000,                 pos_pred/all_pred =  3/20\n",
      "step 2265| pos_acc/neg_acc = 0.87500000/0.5454545,                 pos_pred/all_pred = 13/20\n",
      "step 2266| pos_acc/neg_acc = 0.88888889/1.0000000,                 pos_pred/all_pred =  9/20\n",
      "step 2267| pos_acc/neg_acc = 1.00000000/0.9166667,                 pos_pred/all_pred =  9/20\n",
      "step 2268| pos_acc/neg_acc = 0.92307692/1.0000000,                 pos_pred/all_pred = 12/20\n",
      "step 2269| pos_acc/neg_acc = 1.00000000/0.7692308,                 pos_pred/all_pred = 10/20\n"
     ]
    },
    {
     "name": "stderr",
     "output_type": "stream",
     "text": [
      "INFO:SubjObjTrainer:  2270: 5 [  145/  425], train_loss/accuracy = 0.17697334/0.7750000\n"
     ]
    },
    {
     "name": "stdout",
     "output_type": "stream",
     "text": [
      "  2270: 5 [  145/  425], train_loss/accuracy = 0.17697334/0.7750000\n",
      "step 2270| pos_acc/neg_acc = 0.77777778/1.0000000,                 pos_pred/all_pred =  7/20\n",
      "step 2271| pos_acc/neg_acc = 0.90909091/0.8750000,                 pos_pred/all_pred = 12/20\n",
      "step 2272| pos_acc/neg_acc = 1.00000000/0.9230769,                 pos_pred/all_pred =  8/20\n",
      "step 2273| pos_acc/neg_acc = 0.53846154/1.0000000,                 pos_pred/all_pred =  7/20\n",
      "step 2274| pos_acc/neg_acc = 1.00000000/0.5000000,                 pos_pred/all_pred = 16/20\n",
      "step 2275| pos_acc/neg_acc = 0.84615385/1.0000000,                 pos_pred/all_pred = 11/20\n",
      "step 2276| pos_acc/neg_acc = 1.00000000/1.0000000,                 pos_pred/all_pred =  8/20\n",
      "step 2277| pos_acc/neg_acc = 0.90000000/1.0000000,                 pos_pred/all_pred =  9/20\n",
      "step 2278| pos_acc/neg_acc = 1.00000000/1.0000000,                 pos_pred/all_pred = 12/20\n",
      "step 2279| pos_acc/neg_acc = 1.00000000/1.0000000,                 pos_pred/all_pred =  8/20\n"
     ]
    },
    {
     "name": "stderr",
     "output_type": "stream",
     "text": [
      "INFO:SubjObjTrainer:  2280: 5 [  155/  425], train_loss/accuracy = 0.10443278/0.9100000\n"
     ]
    },
    {
     "name": "stdout",
     "output_type": "stream",
     "text": [
      "  2280: 5 [  155/  425], train_loss/accuracy = 0.10443278/0.9100000\n",
      "step 2280| pos_acc/neg_acc = 0.91666667/1.0000000,                 pos_pred/all_pred = 11/20\n",
      "step 2281| pos_acc/neg_acc = 1.00000000/1.0000000,                 pos_pred/all_pred = 10/20\n",
      "step 2282| pos_acc/neg_acc = 0.76923077/1.0000000,                 pos_pred/all_pred = 10/20\n",
      "step 2283| pos_acc/neg_acc = 1.00000000/0.9000000,                 pos_pred/all_pred = 11/20\n",
      "step 2284| pos_acc/neg_acc = 1.00000000/1.0000000,                 pos_pred/all_pred = 10/20\n",
      "step 2285| pos_acc/neg_acc = 1.00000000/0.6428571,                 pos_pred/all_pred = 11/20\n",
      "step 2286| pos_acc/neg_acc = 0.25000000/1.0000000,                 pos_pred/all_pred =  3/20\n",
      "step 2287| pos_acc/neg_acc = 1.00000000/0.1250000,                 pos_pred/all_pred = 19/20\n",
      "step 2288| pos_acc/neg_acc = 0.54545455/1.0000000,                 pos_pred/all_pred =  6/20\n",
      "step 2289| pos_acc/neg_acc = 1.00000000/0.3750000,                 pos_pred/all_pred = 17/20\n"
     ]
    },
    {
     "name": "stderr",
     "output_type": "stream",
     "text": [
      "INFO:SubjObjTrainer:  2290: 5 [  165/  425], train_loss/accuracy = 0.12833537/0.8150000\n"
     ]
    },
    {
     "name": "stdout",
     "output_type": "stream",
     "text": [
      "  2290: 5 [  165/  425], train_loss/accuracy = 0.12833537/0.8150000\n",
      "step 2290| pos_acc/neg_acc = 0.91666667/1.0000000,                 pos_pred/all_pred = 11/20\n",
      "step 2291| pos_acc/neg_acc = 1.00000000/1.0000000,                 pos_pred/all_pred =  8/20\n",
      "step 2292| pos_acc/neg_acc = 0.77777778/1.0000000,                 pos_pred/all_pred =  8/20\n",
      "step 2293| pos_acc/neg_acc = 1.00000000/1.0000000,                 pos_pred/all_pred = 14/20\n",
      "step 2294| pos_acc/neg_acc = 1.00000000/0.5714286,                 pos_pred/all_pred = 16/20\n",
      "step 2295| pos_acc/neg_acc = 1.00000000/0.9166667,                 pos_pred/all_pred =  9/20\n",
      "step 2296| pos_acc/neg_acc = 0.42857143/1.0000000,                 pos_pred/all_pred =  4/20\n",
      "step 2297| pos_acc/neg_acc = 1.00000000/0.7500000,                 pos_pred/all_pred = 14/20\n",
      "step 2298| pos_acc/neg_acc = 0.72727273/1.0000000,                 pos_pred/all_pred =  9/20\n",
      "step 2299| pos_acc/neg_acc = 1.00000000/0.8000000,                 pos_pred/all_pred =  8/20\n"
     ]
    },
    {
     "name": "stderr",
     "output_type": "stream",
     "text": [
      "INFO:SubjObjTrainer:  2300: 5 [  175/  425], train_loss/accuracy = 0.07905014/0.9000000\n"
     ]
    },
    {
     "name": "stdout",
     "output_type": "stream",
     "text": [
      "  2300: 5 [  175/  425], train_loss/accuracy = 0.07905014/0.9000000\n",
      "step 2300| pos_acc/neg_acc = 0.80000000/1.0000000,                 pos_pred/all_pred =  8/20\n",
      "step 2301| pos_acc/neg_acc = 1.00000000/0.6666667,                 pos_pred/all_pred = 14/20\n",
      "step 2302| pos_acc/neg_acc = 1.00000000/1.0000000,                 pos_pred/all_pred =  8/20\n",
      "step 2303| pos_acc/neg_acc = 1.00000000/1.0000000,                 pos_pred/all_pred = 11/20\n",
      "step 2304| pos_acc/neg_acc = 0.81818182/1.0000000,                 pos_pred/all_pred = 10/20\n",
      "step 2305| pos_acc/neg_acc = 1.00000000/0.5555556,                 pos_pred/all_pred = 15/20\n",
      "step 2306| pos_acc/neg_acc = 0.77777778/1.0000000,                 pos_pred/all_pred =  7/20\n",
      "step 2307| pos_acc/neg_acc = 0.90000000/0.7777778,                 pos_pred/all_pred = 12/20\n",
      "step 2308| pos_acc/neg_acc = 0.77777778/1.0000000,                 pos_pred/all_pred =  8/20\n",
      "step 2309| pos_acc/neg_acc = 1.00000000/0.9166667,                 pos_pred/all_pred =  9/20\n"
     ]
    },
    {
     "name": "stderr",
     "output_type": "stream",
     "text": [
      "INFO:SubjObjTrainer:  2310: 5 [  185/  425], train_loss/accuracy = 0.07573417/0.9050000\n"
     ]
    },
    {
     "name": "stdout",
     "output_type": "stream",
     "text": [
      "  2310: 5 [  185/  425], train_loss/accuracy = 0.07573417/0.9050000\n",
      "step 2310| pos_acc/neg_acc = 0.80000000/1.0000000,                 pos_pred/all_pred =  9/20\n",
      "step 2311| pos_acc/neg_acc = 1.00000000/0.7647059,                 pos_pred/all_pred =  7/20\n",
      "step 2312| pos_acc/neg_acc = 0.25000000/1.0000000,                 pos_pred/all_pred =  2/20\n",
      "step 2313| pos_acc/neg_acc = 1.00000000/0.8333333,                 pos_pred/all_pred = 10/20\n",
      "step 2314| pos_acc/neg_acc = 1.00000000/1.0000000,                 pos_pred/all_pred =  6/20\n",
      "step 2315| pos_acc/neg_acc = 0.70000000/1.0000000,                 pos_pred/all_pred =  7/20\n",
      "step 2316| pos_acc/neg_acc = 1.00000000/1.0000000,                 pos_pred/all_pred =  8/20\n",
      "step 2317| pos_acc/neg_acc = 0.83333333/1.0000000,                 pos_pred/all_pred = 10/20\n",
      "step 2318| pos_acc/neg_acc = 1.00000000/0.7142857,                 pos_pred/all_pred = 15/20\n",
      "step 2319| pos_acc/neg_acc = 0.86666667/1.0000000,                 pos_pred/all_pred = 14/20\n"
     ]
    },
    {
     "name": "stderr",
     "output_type": "stream",
     "text": [
      "INFO:SubjObjTrainer:  2320: 5 [  195/  425], train_loss/accuracy = 0.09994563/0.8800000\n"
     ]
    },
    {
     "name": "stdout",
     "output_type": "stream",
     "text": [
      "  2320: 5 [  195/  425], train_loss/accuracy = 0.09994563/0.8800000\n",
      "step 2320| pos_acc/neg_acc = 1.00000000/0.7272727,                 pos_pred/all_pred = 12/20\n",
      "step 2321| pos_acc/neg_acc = 0.44444444/1.0000000,                 pos_pred/all_pred =  5/20\n",
      "step 2322| pos_acc/neg_acc = 1.00000000/0.5000000,                 pos_pred/all_pred = 14/20\n",
      "step 2323| pos_acc/neg_acc = 0.50000000/1.0000000,                 pos_pred/all_pred =  5/20\n",
      "step 2324| pos_acc/neg_acc = 0.77777778/0.9090909,                 pos_pred/all_pred =  8/20\n",
      "step 2325| pos_acc/neg_acc = 0.80000000/1.0000000,                 pos_pred/all_pred =  8/20\n",
      "step 2326| pos_acc/neg_acc = 0.91666667/0.6250000,                 pos_pred/all_pred = 14/20\n",
      "step 2327| pos_acc/neg_acc = 0.50000000/1.0000000,                 pos_pred/all_pred =  5/20\n",
      "step 2328| pos_acc/neg_acc = 1.00000000/0.7000000,                 pos_pred/all_pred = 13/20\n",
      "step 2329| pos_acc/neg_acc = 0.72727273/1.0000000,                 pos_pred/all_pred =  9/20\n"
     ]
    },
    {
     "name": "stderr",
     "output_type": "stream",
     "text": [
      "INFO:SubjObjTrainer:  2330: 5 [  205/  425], train_loss/accuracy = 0.14251728/0.8100000\n"
     ]
    },
    {
     "name": "stdout",
     "output_type": "stream",
     "text": [
      "  2330: 5 [  205/  425], train_loss/accuracy = 0.14251728/0.8100000\n",
      "step 2330| pos_acc/neg_acc = 1.00000000/1.0000000,                 pos_pred/all_pred = 11/20\n",
      "step 2331| pos_acc/neg_acc = 1.00000000/0.9230769,                 pos_pred/all_pred =  8/20\n",
      "step 2332| pos_acc/neg_acc = 1.00000000/1.0000000,                 pos_pred/all_pred = 11/20\n",
      "step 2333| pos_acc/neg_acc = 1.00000000/0.7272727,                 pos_pred/all_pred = 12/20\n",
      "step 2334| pos_acc/neg_acc = 0.50000000/1.0000000,                 pos_pred/all_pred =  3/20\n",
      "step 2335| pos_acc/neg_acc = 0.91666667/0.8571429,                 pos_pred/all_pred = 13/20\n",
      "step 2336| pos_acc/neg_acc = 1.00000000/0.9166667,                 pos_pred/all_pred =  9/20\n",
      "step 2337| pos_acc/neg_acc = 0.62500000/1.0000000,                 pos_pred/all_pred =  6/20\n",
      "step 2338| pos_acc/neg_acc = 1.00000000/0.8461538,                 pos_pred/all_pred =  9/20\n",
      "step 2339| pos_acc/neg_acc = 0.66666667/1.0000000,                 pos_pred/all_pred =  7/20\n"
     ]
    },
    {
     "name": "stderr",
     "output_type": "stream",
     "text": [
      "INFO:SubjObjTrainer:  2340: 5 [  215/  425], train_loss/accuracy = 0.08557657/0.9100000\n"
     ]
    },
    {
     "name": "stdout",
     "output_type": "stream",
     "text": [
      "  2340: 5 [  215/  425], train_loss/accuracy = 0.08557657/0.9100000\n",
      "step 2340| pos_acc/neg_acc = 1.00000000/1.0000000,                 pos_pred/all_pred =  8/20\n",
      "step 2341| pos_acc/neg_acc = 0.72727273/1.0000000,                 pos_pred/all_pred =  9/20\n",
      "step 2342| pos_acc/neg_acc = 1.00000000/0.9166667,                 pos_pred/all_pred =  9/20\n",
      "step 2343| pos_acc/neg_acc = 0.81818182/1.0000000,                 pos_pred/all_pred =  9/20\n",
      "step 2344| pos_acc/neg_acc = 1.00000000/0.8571429,                 pos_pred/all_pred = 14/20\n",
      "step 2345| pos_acc/neg_acc = 1.00000000/1.0000000,                 pos_pred/all_pred =  8/20\n",
      "step 2346| pos_acc/neg_acc = 0.85714286/1.0000000,                 pos_pred/all_pred = 12/20\n",
      "step 2347| pos_acc/neg_acc = 1.00000000/0.5833333,                 pos_pred/all_pred = 13/20\n",
      "step 2348| pos_acc/neg_acc = 1.00000000/1.0000000,                 pos_pred/all_pred =  9/20\n",
      "step 2349| pos_acc/neg_acc = 0.90909091/1.0000000,                 pos_pred/all_pred = 11/20\n"
     ]
    },
    {
     "name": "stderr",
     "output_type": "stream",
     "text": [
      "INFO:SubjObjTrainer:  2350: 5 [  225/  425], train_loss/accuracy = 0.08669562/0.9250000\n"
     ]
    },
    {
     "name": "stdout",
     "output_type": "stream",
     "text": [
      "  2350: 5 [  225/  425], train_loss/accuracy = 0.08669562/0.9250000\n",
      "step 2350| pos_acc/neg_acc = 1.00000000/1.0000000,                 pos_pred/all_pred =  9/20\n",
      "step 2351| pos_acc/neg_acc = 0.66666667/0.8571429,                 pos_pred/all_pred = 10/20\n",
      "step 2352| pos_acc/neg_acc = 1.00000000/0.4545455,                 pos_pred/all_pred = 15/20\n",
      "step 2353| pos_acc/neg_acc = 0.57142857/1.0000000,                 pos_pred/all_pred =  4/20\n",
      "step 2354| pos_acc/neg_acc = 1.00000000/0.3846154,                 pos_pred/all_pred = 15/20\n",
      "step 2355| pos_acc/neg_acc = 0.33333333/1.0000000,                 pos_pred/all_pred =  3/20\n",
      "step 2356| pos_acc/neg_acc = 1.00000000/0.2000000,                 pos_pred/all_pred = 18/20\n",
      "step 2357| pos_acc/neg_acc = 0.44444444/0.9090909,                 pos_pred/all_pred =  5/20\n",
      "step 2358| pos_acc/neg_acc = 1.00000000/0.8333333,                 pos_pred/all_pred = 15/20\n",
      "step 2359| pos_acc/neg_acc = 0.75000000/1.0000000,                 pos_pred/all_pred =  6/20\n"
     ]
    },
    {
     "name": "stderr",
     "output_type": "stream",
     "text": [
      "INFO:SubjObjTrainer:  2360: 5 [  235/  425], train_loss/accuracy = 0.15825064/0.7700000\n"
     ]
    },
    {
     "name": "stdout",
     "output_type": "stream",
     "text": [
      "  2360: 5 [  235/  425], train_loss/accuracy = 0.15825064/0.7700000\n",
      "step 2360| pos_acc/neg_acc = 1.00000000/1.0000000,                 pos_pred/all_pred = 11/20\n",
      "step 2361| pos_acc/neg_acc = 0.90000000/1.0000000,                 pos_pred/all_pred =  9/20\n",
      "step 2362| pos_acc/neg_acc = 0.83333333/1.0000000,                 pos_pred/all_pred = 10/20\n",
      "step 2363| pos_acc/neg_acc = 1.00000000/0.9285714,                 pos_pred/all_pred =  7/20\n",
      "step 2364| pos_acc/neg_acc = 0.58333333/1.0000000,                 pos_pred/all_pred =  8/20\n",
      "step 2365| pos_acc/neg_acc = 1.00000000/0.5000000,                 pos_pred/all_pred = 14/20\n",
      "step 2366| pos_acc/neg_acc = 0.55555556/1.0000000,                 pos_pred/all_pred =  6/20\n",
      "step 2367| pos_acc/neg_acc = 0.90000000/0.7000000,                 pos_pred/all_pred = 12/20\n",
      "step 2368| pos_acc/neg_acc = 0.83333333/1.0000000,                 pos_pred/all_pred = 11/20\n",
      "step 2369| pos_acc/neg_acc = 1.00000000/0.6666667,                 pos_pred/all_pred = 14/20\n"
     ]
    },
    {
     "name": "stderr",
     "output_type": "stream",
     "text": [
      "INFO:SubjObjTrainer:  2370: 5 [  245/  425], train_loss/accuracy = 0.10364025/0.8600000\n"
     ]
    },
    {
     "name": "stdout",
     "output_type": "stream",
     "text": [
      "  2370: 5 [  245/  425], train_loss/accuracy = 0.10364025/0.8600000\n",
      "step 2370| pos_acc/neg_acc = 0.75000000/0.9090909,                 pos_pred/all_pred =  8/20\n",
      "step 2371| pos_acc/neg_acc = 1.00000000/1.0000000,                 pos_pred/all_pred =  4/20\n",
      "step 2372| pos_acc/neg_acc = 0.80000000/1.0000000,                 pos_pred/all_pred =  8/20\n",
      "step 2373| pos_acc/neg_acc = 0.91666667/0.8571429,                 pos_pred/all_pred = 13/20\n",
      "step 2374| pos_acc/neg_acc = 1.00000000/0.9090909,                 pos_pred/all_pred = 10/20\n",
      "step 2375| pos_acc/neg_acc = 0.75000000/1.0000000,                 pos_pred/all_pred =  6/20\n",
      "step 2376| pos_acc/neg_acc = 1.00000000/0.7777778,                 pos_pred/all_pred = 13/20\n",
      "step 2377| pos_acc/neg_acc = 0.72727273/1.0000000,                 pos_pred/all_pred =  8/20\n",
      "step 2378| pos_acc/neg_acc = 1.00000000/0.8000000,                 pos_pred/all_pred = 12/20\n",
      "step 2379| pos_acc/neg_acc = 0.87500000/1.0000000,                 pos_pred/all_pred =  8/20\n"
     ]
    },
    {
     "name": "stderr",
     "output_type": "stream",
     "text": [
      "INFO:SubjObjTrainer:  2380: 5 [  255/  425], train_loss/accuracy = 0.09709715/0.9050000\n"
     ]
    },
    {
     "name": "stdout",
     "output_type": "stream",
     "text": [
      "  2380: 5 [  255/  425], train_loss/accuracy = 0.09709715/0.9050000\n",
      "step 2380| pos_acc/neg_acc = 0.81818182/1.0000000,                 pos_pred/all_pred = 10/20\n",
      "step 2381| pos_acc/neg_acc = 0.85714286/1.0000000,                 pos_pred/all_pred =  7/20\n",
      "step 2382| pos_acc/neg_acc = 0.72727273/1.0000000,                 pos_pred/all_pred =  8/20\n",
      "step 2383| pos_acc/neg_acc = 1.00000000/0.8181818,                 pos_pred/all_pred = 11/20\n",
      "step 2384| pos_acc/neg_acc = 0.57142857/0.9166667,                 pos_pred/all_pred =  6/20\n",
      "step 2385| pos_acc/neg_acc = 1.00000000/0.9000000,                 pos_pred/all_pred = 11/20\n",
      "step 2386| pos_acc/neg_acc = 0.75000000/0.9090909,                 pos_pred/all_pred =  8/20\n",
      "step 2387| pos_acc/neg_acc = 1.00000000/1.0000000,                 pos_pred/all_pred = 11/20\n",
      "step 2388| pos_acc/neg_acc = 0.91666667/0.8750000,                 pos_pred/all_pred = 12/20\n",
      "step 2389| pos_acc/neg_acc = 1.00000000/1.0000000,                 pos_pred/all_pred =  6/20\n"
     ]
    },
    {
     "name": "stderr",
     "output_type": "stream",
     "text": [
      "INFO:SubjObjTrainer:  2390: 5 [  265/  425], train_loss/accuracy = 0.08500373/0.9100000\n"
     ]
    },
    {
     "name": "stdout",
     "output_type": "stream",
     "text": [
      "  2390: 5 [  265/  425], train_loss/accuracy = 0.08500373/0.9100000\n",
      "step 2390| pos_acc/neg_acc = 0.77777778/1.0000000,                 pos_pred/all_pred =  8/20\n",
      "step 2391| pos_acc/neg_acc = 1.00000000/0.8750000,                 pos_pred/all_pred = 13/20\n",
      "step 2392| pos_acc/neg_acc = 0.80000000/0.9285714,                 pos_pred/all_pred =  6/20\n",
      "step 2393| pos_acc/neg_acc = 0.80000000/0.8666667,                 pos_pred/all_pred =  6/20\n",
      "step 2394| pos_acc/neg_acc = 0.81818182/1.0000000,                 pos_pred/all_pred =  9/20\n",
      "step 2395| pos_acc/neg_acc = 1.00000000/0.8888889,                 pos_pred/all_pred = 12/20\n",
      "step 2396| pos_acc/neg_acc = 1.00000000/1.0000000,                 pos_pred/all_pred = 11/20\n",
      "step 2397| pos_acc/neg_acc = 0.66666667/1.0000000,                 pos_pred/all_pred =  8/20\n",
      "step 2398| pos_acc/neg_acc = 0.90909091/0.5000000,                 pos_pred/all_pred = 15/20\n",
      "step 2399| pos_acc/neg_acc = 0.91666667/0.7142857,                 pos_pred/all_pred = 14/20\n"
     ]
    },
    {
     "name": "stderr",
     "output_type": "stream",
     "text": [
      "INFO:SubjObjTrainer:  2400: 5 [  275/  425], train_loss/accuracy = 0.08781738/0.8850000\n"
     ]
    },
    {
     "name": "stdout",
     "output_type": "stream",
     "text": [
      "  2400: 5 [  275/  425], train_loss/accuracy = 0.08781738/0.8850000\n",
      "step 2400| pos_acc/neg_acc = 1.00000000/1.0000000,                 pos_pred/all_pred =  9/20\n",
      "step 2401| pos_acc/neg_acc = 1.00000000/0.7500000,                 pos_pred/all_pred = 14/20\n",
      "step 2402| pos_acc/neg_acc = 0.55555556/0.9090909,                 pos_pred/all_pred =  6/20\n",
      "step 2403| pos_acc/neg_acc = 1.00000000/1.0000000,                 pos_pred/all_pred =  9/20\n",
      "step 2404| pos_acc/neg_acc = 0.87500000/1.0000000,                 pos_pred/all_pred =  7/20\n",
      "step 2405| pos_acc/neg_acc = 0.88888889/1.0000000,                 pos_pred/all_pred =  8/20\n",
      "step 2406| pos_acc/neg_acc = 1.00000000/0.9090909,                 pos_pred/all_pred = 10/20\n",
      "step 2407| pos_acc/neg_acc = 0.50000000/1.0000000,                 pos_pred/all_pred =  2/20\n",
      "step 2408| pos_acc/neg_acc = 1.00000000/1.0000000,                 pos_pred/all_pred = 12/20\n",
      "step 2409| pos_acc/neg_acc = 0.81818182/1.0000000,                 pos_pred/all_pred =  9/20\n"
     ]
    },
    {
     "name": "stderr",
     "output_type": "stream",
     "text": [
      "INFO:SubjObjTrainer:  2410: 5 [  285/  425], train_loss/accuracy = 0.07086830/0.9250000\n"
     ]
    },
    {
     "name": "stdout",
     "output_type": "stream",
     "text": [
      "  2410: 5 [  285/  425], train_loss/accuracy = 0.07086830/0.9250000\n",
      "step 2410| pos_acc/neg_acc = 1.00000000/0.6250000,                 pos_pred/all_pred = 15/20\n",
      "step 2411| pos_acc/neg_acc = 0.80000000/1.0000000,                 pos_pred/all_pred =  9/20\n",
      "step 2412| pos_acc/neg_acc = 1.00000000/0.9000000,                 pos_pred/all_pred = 11/20\n",
      "step 2413| pos_acc/neg_acc = 1.00000000/1.0000000,                 pos_pred/all_pred = 12/20\n",
      "step 2414| pos_acc/neg_acc = 1.00000000/0.9000000,                 pos_pred/all_pred = 11/20\n",
      "step 2415| pos_acc/neg_acc = 0.91666667/1.0000000,                 pos_pred/all_pred = 12/20\n",
      "step 2416| pos_acc/neg_acc = 1.00000000/0.6666667,                 pos_pred/all_pred = 14/20\n",
      "step 2417| pos_acc/neg_acc = 0.45454545/1.0000000,                 pos_pred/all_pred =  5/20\n",
      "step 2418| pos_acc/neg_acc = 1.00000000/0.2222222,                 pos_pred/all_pred = 18/20\n",
      "step 2419| pos_acc/neg_acc = 0.72727273/1.0000000,                 pos_pred/all_pred =  8/20\n"
     ]
    },
    {
     "name": "stderr",
     "output_type": "stream",
     "text": [
      "INFO:SubjObjTrainer:  2420: 5 [  295/  425], train_loss/accuracy = 0.11745503/0.8650000\n"
     ]
    },
    {
     "name": "stdout",
     "output_type": "stream",
     "text": [
      "  2420: 5 [  295/  425], train_loss/accuracy = 0.11745503/0.8650000\n",
      "step 2420| pos_acc/neg_acc = 1.00000000/0.9000000,                 pos_pred/all_pred = 11/20\n",
      "step 2421| pos_acc/neg_acc = 0.71428571/0.8333333,                 pos_pred/all_pred =  8/20\n",
      "step 2422| pos_acc/neg_acc = 1.00000000/1.0000000,                 pos_pred/all_pred =  9/20\n",
      "step 2423| pos_acc/neg_acc = 0.91666667/1.0000000,                 pos_pred/all_pred = 11/20\n",
      "step 2424| pos_acc/neg_acc = 1.00000000/1.0000000,                 pos_pred/all_pred =  7/20\n",
      "step 2425| pos_acc/neg_acc = 0.77777778/1.0000000,                 pos_pred/all_pred =  7/20\n",
      "step 2426| pos_acc/neg_acc = 1.00000000/1.0000000,                 pos_pred/all_pred =  9/20\n",
      "step 2427| pos_acc/neg_acc = 0.91666667/1.0000000,                 pos_pred/all_pred = 12/20\n",
      "step 2428| pos_acc/neg_acc = 1.00000000/0.8333333,                 pos_pred/all_pred = 10/20\n",
      "step 2429| pos_acc/neg_acc = 0.75000000/1.0000000,                 pos_pred/all_pred =  6/20\n"
     ]
    },
    {
     "name": "stderr",
     "output_type": "stream",
     "text": [
      "INFO:SubjObjTrainer:  2430: 5 [  305/  425], train_loss/accuracy = 0.07751777/0.9300000\n"
     ]
    },
    {
     "name": "stdout",
     "output_type": "stream",
     "text": [
      "  2430: 5 [  305/  425], train_loss/accuracy = 0.07751777/0.9300000\n",
      "step 2430| pos_acc/neg_acc = 1.00000000/0.8333333,                 pos_pred/all_pred = 15/20\n",
      "step 2431| pos_acc/neg_acc = 1.00000000/0.9000000,                 pos_pred/all_pred = 11/20\n",
      "step 2432| pos_acc/neg_acc = 1.00000000/1.0000000,                 pos_pred/all_pred = 10/20\n",
      "step 2433| pos_acc/neg_acc = 1.00000000/1.0000000,                 pos_pred/all_pred = 15/20\n",
      "step 2434| pos_acc/neg_acc = 1.00000000/0.9000000,                 pos_pred/all_pred = 11/20\n",
      "step 2435| pos_acc/neg_acc = 0.72727273/1.0000000,                 pos_pred/all_pred =  9/20\n",
      "step 2436| pos_acc/neg_acc = 1.00000000/0.6666667,                 pos_pred/all_pred = 12/20\n",
      "step 2437| pos_acc/neg_acc = 0.70000000/1.0000000,                 pos_pred/all_pred =  7/20\n",
      "step 2438| pos_acc/neg_acc = 0.81818182/0.8888889,                 pos_pred/all_pred = 10/20\n",
      "step 2439| pos_acc/neg_acc = 0.77777778/1.0000000,                 pos_pred/all_pred =  7/20\n"
     ]
    },
    {
     "name": "stderr",
     "output_type": "stream",
     "text": [
      "INFO:SubjObjTrainer:  2440: 5 [  315/  425], train_loss/accuracy = 0.08672394/0.9050000\n"
     ]
    },
    {
     "name": "stdout",
     "output_type": "stream",
     "text": [
      "  2440: 5 [  315/  425], train_loss/accuracy = 0.08672394/0.9050000\n",
      "step 2440| pos_acc/neg_acc = 1.00000000/0.4545455,                 pos_pred/all_pred = 15/20\n",
      "step 2441| pos_acc/neg_acc = 0.55555556/1.0000000,                 pos_pred/all_pred =  5/20\n",
      "step 2442| pos_acc/neg_acc = 1.00000000/0.8181818,                 pos_pred/all_pred = 11/20\n",
      "step 2443| pos_acc/neg_acc = 0.50000000/1.0000000,                 pos_pred/all_pred =  3/20\n",
      "step 2444| pos_acc/neg_acc = 1.00000000/1.0000000,                 pos_pred/all_pred = 12/20\n",
      "step 2445| pos_acc/neg_acc = 0.88888889/1.0000000,                 pos_pred/all_pred =  9/20\n",
      "step 2446| pos_acc/neg_acc = 1.00000000/1.0000000,                 pos_pred/all_pred =  7/20\n",
      "step 2447| pos_acc/neg_acc = 0.72727273/1.0000000,                 pos_pred/all_pred =  9/20\n",
      "step 2448| pos_acc/neg_acc = 1.00000000/0.8461538,                 pos_pred/all_pred =  9/20\n",
      "step 2449| pos_acc/neg_acc = 0.44444444/1.0000000,                 pos_pred/all_pred =  5/20\n"
     ]
    },
    {
     "name": "stderr",
     "output_type": "stream",
     "text": [
      "INFO:SubjObjTrainer:  2450: 5 [  325/  425], train_loss/accuracy = 0.12064914/0.8700000\n"
     ]
    },
    {
     "name": "stdout",
     "output_type": "stream",
     "text": [
      "  2450: 5 [  325/  425], train_loss/accuracy = 0.12064914/0.8700000\n",
      "step 2450| pos_acc/neg_acc = 1.00000000/0.5555556,                 pos_pred/all_pred = 15/20\n",
      "step 2451| pos_acc/neg_acc = 0.77777778/1.0000000,                 pos_pred/all_pred =  7/20\n",
      "step 2452| pos_acc/neg_acc = 0.83333333/0.8750000,                 pos_pred/all_pred = 11/20\n",
      "step 2453| pos_acc/neg_acc = 0.91666667/0.8571429,                 pos_pred/all_pred = 13/20\n",
      "step 2454| pos_acc/neg_acc = 0.87500000/0.9090909,                 pos_pred/all_pred =  9/20\n",
      "step 2455| pos_acc/neg_acc = 0.91666667/1.0000000,                 pos_pred/all_pred = 12/20\n",
      "step 2456| pos_acc/neg_acc = 0.88888889/1.0000000,                 pos_pred/all_pred =  9/20\n",
      "step 2457| pos_acc/neg_acc = 0.72727273/1.0000000,                 pos_pred/all_pred =  9/20\n",
      "step 2458| pos_acc/neg_acc = 1.00000000/0.4444444,                 pos_pred/all_pred = 16/20\n",
      "step 2459| pos_acc/neg_acc = 0.72727273/1.0000000,                 pos_pred/all_pred =  8/20\n"
     ]
    },
    {
     "name": "stderr",
     "output_type": "stream",
     "text": [
      "INFO:SubjObjTrainer:  2460: 5 [  335/  425], train_loss/accuracy = 0.09634099/0.8650000\n"
     ]
    },
    {
     "name": "stdout",
     "output_type": "stream",
     "text": [
      "  2460: 5 [  335/  425], train_loss/accuracy = 0.09634099/0.8650000\n",
      "step 2460| pos_acc/neg_acc = 1.00000000/0.6363636,                 pos_pred/all_pred = 12/20\n",
      "step 2461| pos_acc/neg_acc = 0.81818182/1.0000000,                 pos_pred/all_pred =  9/20\n",
      "step 2462| pos_acc/neg_acc = 1.00000000/1.0000000,                 pos_pred/all_pred = 14/20\n",
      "step 2463| pos_acc/neg_acc = 1.00000000/1.0000000,                 pos_pred/all_pred = 10/20\n",
      "step 2464| pos_acc/neg_acc = 0.81818182/1.0000000,                 pos_pred/all_pred =  9/20\n",
      "step 2465| pos_acc/neg_acc = 0.91666667/1.0000000,                 pos_pred/all_pred = 11/20\n",
      "step 2466| pos_acc/neg_acc = 1.00000000/1.0000000,                 pos_pred/all_pred =  9/20\n",
      "step 2467| pos_acc/neg_acc = 0.80000000/1.0000000,                 pos_pred/all_pred =  8/20\n",
      "step 2468| pos_acc/neg_acc = 1.00000000/1.0000000,                 pos_pred/all_pred = 10/20\n",
      "step 2469| pos_acc/neg_acc = 0.87500000/1.0000000,                 pos_pred/all_pred =  7/20\n"
     ]
    },
    {
     "name": "stderr",
     "output_type": "stream",
     "text": [
      "INFO:SubjObjTrainer:  2470: 5 [  345/  425], train_loss/accuracy = 0.07702857/0.9300000\n"
     ]
    },
    {
     "name": "stdout",
     "output_type": "stream",
     "text": [
      "  2470: 5 [  345/  425], train_loss/accuracy = 0.07702857/0.9300000\n",
      "step 2470| pos_acc/neg_acc = 0.87500000/1.0000000,                 pos_pred/all_pred =  8/20\n",
      "step 2471| pos_acc/neg_acc = 0.92307692/0.8333333,                 pos_pred/all_pred = 14/20\n",
      "step 2472| pos_acc/neg_acc = 0.92307692/0.8333333,                 pos_pred/all_pred = 14/20\n",
      "step 2473| pos_acc/neg_acc = 1.00000000/1.0000000,                 pos_pred/all_pred = 10/20\n",
      "step 2474| pos_acc/neg_acc = 0.66666667/1.0000000,                 pos_pred/all_pred =  4/20\n",
      "step 2475| pos_acc/neg_acc = 1.00000000/1.0000000,                 pos_pred/all_pred =  9/20\n",
      "step 2476| pos_acc/neg_acc = 1.00000000/1.0000000,                 pos_pred/all_pred = 10/20\n",
      "step 2477| pos_acc/neg_acc = 1.00000000/0.9166667,                 pos_pred/all_pred =  9/20\n",
      "step 2478| pos_acc/neg_acc = 0.88888889/0.9000000,                 pos_pred/all_pred = 10/20\n",
      "step 2479| pos_acc/neg_acc = 1.00000000/1.0000000,                 pos_pred/all_pred =  9/20\n"
     ]
    },
    {
     "name": "stderr",
     "output_type": "stream",
     "text": [
      "INFO:SubjObjTrainer:  2480: 5 [  355/  425], train_loss/accuracy = 0.06862869/0.9500000\n"
     ]
    },
    {
     "name": "stdout",
     "output_type": "stream",
     "text": [
      "  2480: 5 [  355/  425], train_loss/accuracy = 0.06862869/0.9500000\n",
      "step 2480| pos_acc/neg_acc = 1.00000000/0.5555556,                 pos_pred/all_pred = 15/20\n",
      "step 2481| pos_acc/neg_acc = 0.33333333/1.0000000,                 pos_pred/all_pred =  3/20\n",
      "step 2482| pos_acc/neg_acc = 1.00000000/0.8461538,                 pos_pred/all_pred =  9/20\n",
      "step 2483| pos_acc/neg_acc = 0.44444444/1.0000000,                 pos_pred/all_pred =  5/20\n",
      "step 2484| pos_acc/neg_acc = 1.00000000/0.3750000,                 pos_pred/all_pred = 17/20\n",
      "step 2485| pos_acc/neg_acc = 0.80000000/1.0000000,                 pos_pred/all_pred =  4/20\n",
      "step 2486| pos_acc/neg_acc = 0.87500000/1.0000000,                 pos_pred/all_pred =  7/20\n",
      "step 2487| pos_acc/neg_acc = 0.91666667/1.0000000,                 pos_pred/all_pred = 11/20\n",
      "step 2488| pos_acc/neg_acc = 1.00000000/1.0000000,                 pos_pred/all_pred =  7/20\n",
      "step 2489| pos_acc/neg_acc = 0.75000000/1.0000000,                 pos_pred/all_pred =  6/20\n"
     ]
    },
    {
     "name": "stderr",
     "output_type": "stream",
     "text": [
      "INFO:SubjObjTrainer:  2490: 5 [  365/  425], train_loss/accuracy = 0.09165897/0.8700000\n"
     ]
    },
    {
     "name": "stdout",
     "output_type": "stream",
     "text": [
      "  2490: 5 [  365/  425], train_loss/accuracy = 0.09165897/0.8700000\n",
      "step 2490| pos_acc/neg_acc = 0.80000000/0.5555556,                 pos_pred/all_pred = 13/20\n",
      "step 2491| pos_acc/neg_acc = 0.83333333/1.0000000,                 pos_pred/all_pred = 10/20\n",
      "step 2492| pos_acc/neg_acc = 1.00000000/0.9166667,                 pos_pred/all_pred =  9/20\n",
      "step 2493| pos_acc/neg_acc = 0.77777778/1.0000000,                 pos_pred/all_pred =  7/20\n",
      "step 2494| pos_acc/neg_acc = 0.91666667/0.8750000,                 pos_pred/all_pred = 12/20\n",
      "step 2495| pos_acc/neg_acc = 1.00000000/0.8888889,                 pos_pred/all_pred = 12/20\n",
      "step 2496| pos_acc/neg_acc = 1.00000000/1.0000000,                 pos_pred/all_pred = 10/20\n",
      "step 2497| pos_acc/neg_acc = 1.00000000/0.9090909,                 pos_pred/all_pred = 10/20\n",
      "step 2498| pos_acc/neg_acc = 0.50000000/1.0000000,                 pos_pred/all_pred =  5/20\n",
      "step 2499| pos_acc/neg_acc = 1.00000000/0.7500000,                 pos_pred/all_pred = 14/20\n"
     ]
    },
    {
     "name": "stderr",
     "output_type": "stream",
     "text": [
      "INFO:SubjObjTrainer:  2500: 5 [  375/  425], train_loss/accuracy = 0.08283260/0.8950000\n"
     ]
    },
    {
     "name": "stdout",
     "output_type": "stream",
     "text": [
      "  2500: 5 [  375/  425], train_loss/accuracy = 0.08283260/0.8950000\n",
      "step 2500| pos_acc/neg_acc = 0.70000000/1.0000000,                 pos_pred/all_pred =  7/20\n",
      "step 2501| pos_acc/neg_acc = 0.91666667/0.8571429,                 pos_pred/all_pred = 13/20\n",
      "step 2502| pos_acc/neg_acc = 0.90000000/0.9000000,                 pos_pred/all_pred = 10/20\n",
      "step 2503| pos_acc/neg_acc = 1.00000000/0.9090909,                 pos_pred/all_pred = 10/20\n",
      "step 2504| pos_acc/neg_acc = 0.77777778/1.0000000,                 pos_pred/all_pred =  8/20\n",
      "step 2505| pos_acc/neg_acc = 0.91666667/1.0000000,                 pos_pred/all_pred = 11/20\n",
      "step 2506| pos_acc/neg_acc = 1.00000000/1.0000000,                 pos_pred/all_pred =  6/20\n",
      "step 2507| pos_acc/neg_acc = 1.00000000/1.0000000,                 pos_pred/all_pred =  8/20\n",
      "step 2508| pos_acc/neg_acc = 0.81818182/1.0000000,                 pos_pred/all_pred = 10/20\n",
      "step 2509| pos_acc/neg_acc = 0.87500000/0.8333333,                 pos_pred/all_pred =  9/20\n"
     ]
    },
    {
     "name": "stderr",
     "output_type": "stream",
     "text": [
      "INFO:SubjObjTrainer:  2510: 5 [  385/  425], train_loss/accuracy = 0.08222371/0.9200000\n"
     ]
    },
    {
     "name": "stdout",
     "output_type": "stream",
     "text": [
      "  2510: 5 [  385/  425], train_loss/accuracy = 0.08222371/0.9200000\n",
      "step 2510| pos_acc/neg_acc = 0.54545455/1.0000000,                 pos_pred/all_pred =  7/20\n",
      "step 2511| pos_acc/neg_acc = 1.00000000/0.4444444,                 pos_pred/all_pred = 16/20\n",
      "step 2512| pos_acc/neg_acc = 0.81818182/1.0000000,                 pos_pred/all_pred =  9/20\n",
      "step 2513| pos_acc/neg_acc = 1.00000000/0.7777778,                 pos_pred/all_pred = 13/20\n",
      "step 2514| pos_acc/neg_acc = 0.88888889/1.0000000,                 pos_pred/all_pred =  8/20\n",
      "step 2515| pos_acc/neg_acc = 1.00000000/1.0000000,                 pos_pred/all_pred = 12/20\n",
      "step 2516| pos_acc/neg_acc = 1.00000000/0.9000000,                 pos_pred/all_pred = 11/20\n",
      "step 2517| pos_acc/neg_acc = 0.91666667/1.0000000,                 pos_pred/all_pred = 11/20\n",
      "step 2518| pos_acc/neg_acc = 1.00000000/0.8888889,                 pos_pred/all_pred = 12/20\n",
      "step 2519| pos_acc/neg_acc = 0.90909091/1.0000000,                 pos_pred/all_pred = 10/20\n"
     ]
    },
    {
     "name": "stderr",
     "output_type": "stream",
     "text": [
      "INFO:SubjObjTrainer:  2520: 5 [  395/  425], train_loss/accuracy = 0.10133194/0.9000000\n"
     ]
    },
    {
     "name": "stdout",
     "output_type": "stream",
     "text": [
      "  2520: 5 [  395/  425], train_loss/accuracy = 0.10133194/0.9000000\n",
      "step 2520| pos_acc/neg_acc = 1.00000000/1.0000000,                 pos_pred/all_pred = 12/20\n",
      "step 2521| pos_acc/neg_acc = 1.00000000/0.9230769,                 pos_pred/all_pred =  8/20\n",
      "step 2522| pos_acc/neg_acc = 0.38461538/1.0000000,                 pos_pred/all_pred =  5/20\n",
      "step 2523| pos_acc/neg_acc = 1.00000000/0.1666667,                 pos_pred/all_pred = 18/20\n",
      "step 2524| pos_acc/neg_acc = 0.60000000/1.0000000,                 pos_pred/all_pred =  6/20\n",
      "step 2525| pos_acc/neg_acc = 1.00000000/0.5000000,                 pos_pred/all_pred = 15/20\n",
      "step 2526| pos_acc/neg_acc = 1.00000000/1.0000000,                 pos_pred/all_pred = 13/20\n",
      "step 2527| pos_acc/neg_acc = 1.00000000/1.0000000,                 pos_pred/all_pred = 11/20\n",
      "step 2528| pos_acc/neg_acc = 1.00000000/1.0000000,                 pos_pred/all_pred = 10/20\n",
      "step 2529| pos_acc/neg_acc = 1.00000000/1.0000000,                 pos_pred/all_pred =  7/20\n"
     ]
    },
    {
     "name": "stderr",
     "output_type": "stream",
     "text": [
      "INFO:SubjObjTrainer:  2530: 5 [  405/  425], train_loss/accuracy = 0.12826349/0.8550000\n"
     ]
    },
    {
     "name": "stdout",
     "output_type": "stream",
     "text": [
      "  2530: 5 [  405/  425], train_loss/accuracy = 0.12826349/0.8550000\n",
      "step 2530| pos_acc/neg_acc = 0.88888889/1.0000000,                 pos_pred/all_pred =  8/20\n",
      "step 2531| pos_acc/neg_acc = 0.88888889/0.9090909,                 pos_pred/all_pred =  9/20\n",
      "step 2532| pos_acc/neg_acc = 0.81818182/1.0000000,                 pos_pred/all_pred =  9/20\n",
      "step 2533| pos_acc/neg_acc = 1.00000000/0.6250000,                 pos_pred/all_pred = 15/20\n",
      "step 2534| pos_acc/neg_acc = 0.60000000/1.0000000,                 pos_pred/all_pred =  6/20\n",
      "step 2535| pos_acc/neg_acc = 0.91666667/0.8571429,                 pos_pred/all_pred = 13/20\n",
      "step 2536| pos_acc/neg_acc = 0.87500000/1.0000000,                 pos_pred/all_pred =  8/20\n",
      "step 2537| pos_acc/neg_acc = 1.00000000/0.8888889,                 pos_pred/all_pred = 12/20\n",
      "step 2538| pos_acc/neg_acc = 1.00000000/1.0000000,                 pos_pred/all_pred =  6/20\n",
      "step 2539| pos_acc/neg_acc = 0.75000000/1.0000000,                 pos_pred/all_pred = 10/20\n"
     ]
    },
    {
     "name": "stderr",
     "output_type": "stream",
     "text": [
      "INFO:SubjObjTrainer:  2540: 5 [  415/  425], train_loss/accuracy = 0.09216405/0.9000000\n"
     ]
    },
    {
     "name": "stdout",
     "output_type": "stream",
     "text": [
      "  2540: 5 [  415/  425], train_loss/accuracy = 0.09216405/0.9000000\n",
      "step 2540| pos_acc/neg_acc = 1.00000000/0.5000000,                 pos_pred/all_pred = 14/20\n",
      "step 2541| pos_acc/neg_acc = 0.50000000/1.0000000,                 pos_pred/all_pred =  5/20\n",
      "step 2542| pos_acc/neg_acc = 1.00000000/0.9090909,                 pos_pred/all_pred = 10/20\n",
      "step 2543| pos_acc/neg_acc = 0.90000000/1.0000000,                 pos_pred/all_pred =  9/20\n",
      "step 2544| pos_acc/neg_acc = 1.00000000/0.9090909,                 pos_pred/all_pred = 10/20\n",
      "step 2545| pos_acc/neg_acc = 1.00000000/1.0000000,                 pos_pred/all_pred = 11/20\n",
      "step 2546| pos_acc/neg_acc = 0.91666667/0.8750000,                 pos_pred/all_pred = 12/20\n",
      "step 2547| pos_acc/neg_acc = 1.00000000/1.0000000,                 pos_pred/all_pred = 12/20\n",
      "step 2548| pos_acc/neg_acc = 1.00000000/0.9000000,                 pos_pred/all_pred = 11/20\n",
      "step 2549| pos_acc/neg_acc = 1.00000000/1.0000000,                 pos_pred/all_pred =  8/20\n"
     ]
    },
    {
     "name": "stderr",
     "output_type": "stream",
     "text": [
      "INFO:SubjObjTrainer:  2550: 5 [    0/  425], train_loss/accuracy = 0.08215062/0.9200000\n"
     ]
    },
    {
     "name": "stdout",
     "output_type": "stream",
     "text": [
      "  2550: 5 [    0/  425], train_loss/accuracy = 0.08215062/0.9200000\n"
     ]
    },
    {
     "name": "stderr",
     "output_type": "stream",
     "text": [
      "INFO:SubjObjTrainer:[    5/   10], valid_loss/accuracy = 0.07605290/0.5280000\n"
     ]
    },
    {
     "name": "stdout",
     "output_type": "stream",
     "text": [
      "[    5/   10], valid_loss/accuracy = 0.07605290/0.5280000\n",
      "step 2550| pos_acc/neg_acc = 0.85714286/1.0000000,                 pos_pred/all_pred = 12/20\n",
      "step 2551| pos_acc/neg_acc = 1.00000000/0.8461538,                 pos_pred/all_pred =  9/20\n",
      "step 2552| pos_acc/neg_acc = 0.63636364/1.0000000,                 pos_pred/all_pred =  7/20\n",
      "step 2553| pos_acc/neg_acc = 1.00000000/0.7272727,                 pos_pred/all_pred = 12/20\n",
      "step 2554| pos_acc/neg_acc = 1.00000000/1.0000000,                 pos_pred/all_pred =  7/20\n",
      "step 2555| pos_acc/neg_acc = 1.00000000/0.9000000,                 pos_pred/all_pred = 11/20\n",
      "step 2556| pos_acc/neg_acc = 1.00000000/1.0000000,                 pos_pred/all_pred =  8/20\n",
      "step 2557| pos_acc/neg_acc = 0.83333333/1.0000000,                 pos_pred/all_pred = 10/20\n",
      "step 2558| pos_acc/neg_acc = 0.87500000/1.0000000,                 pos_pred/all_pred =  7/20\n",
      "step 2559| pos_acc/neg_acc = 1.00000000/1.0000000,                 pos_pred/all_pred =  9/20\n"
     ]
    },
    {
     "name": "stderr",
     "output_type": "stream",
     "text": [
      "INFO:SubjObjTrainer:  2560: 6 [   10/  425], train_loss/accuracy = 0.09168192/0.9150000\n"
     ]
    },
    {
     "name": "stdout",
     "output_type": "stream",
     "text": [
      "  2560: 6 [   10/  425], train_loss/accuracy = 0.09168192/0.9150000\n",
      "step 2560| pos_acc/neg_acc = 1.00000000/1.0000000,                 pos_pred/all_pred = 11/20\n",
      "step 2561| pos_acc/neg_acc = 1.00000000/1.0000000,                 pos_pred/all_pred = 11/20\n",
      "step 2562| pos_acc/neg_acc = 0.88888889/1.0000000,                 pos_pred/all_pred =  8/20\n",
      "step 2563| pos_acc/neg_acc = 1.00000000/1.0000000,                 pos_pred/all_pred =  6/20\n",
      "step 2564| pos_acc/neg_acc = 1.00000000/1.0000000,                 pos_pred/all_pred =  6/20\n",
      "step 2565| pos_acc/neg_acc = 1.00000000/1.0000000,                 pos_pred/all_pred = 10/20\n",
      "step 2566| pos_acc/neg_acc = 1.00000000/0.9333333,                 pos_pred/all_pred =  6/20\n",
      "step 2567| pos_acc/neg_acc = 1.00000000/1.0000000,                 pos_pred/all_pred =  9/20\n",
      "step 2568| pos_acc/neg_acc = 1.00000000/1.0000000,                 pos_pred/all_pred =  8/20\n",
      "step 2569| pos_acc/neg_acc = 0.70000000/1.0000000,                 pos_pred/all_pred =  7/20\n"
     ]
    },
    {
     "name": "stderr",
     "output_type": "stream",
     "text": [
      "INFO:SubjObjTrainer:  2570: 6 [   20/  425], train_loss/accuracy = 0.04632257/0.9750000\n"
     ]
    },
    {
     "name": "stdout",
     "output_type": "stream",
     "text": [
      "  2570: 6 [   20/  425], train_loss/accuracy = 0.04632257/0.9750000\n",
      "step 2570| pos_acc/neg_acc = 1.00000000/1.0000000,                 pos_pred/all_pred =  8/20\n",
      "step 2571| pos_acc/neg_acc = 0.83333333/1.0000000,                 pos_pred/all_pred = 11/20\n",
      "step 2572| pos_acc/neg_acc = 0.90909091/0.8750000,                 pos_pred/all_pred = 12/20\n",
      "step 2573| pos_acc/neg_acc = 0.83333333/1.0000000,                 pos_pred/all_pred =  5/20\n",
      "step 2574| pos_acc/neg_acc = 0.88888889/0.8000000,                 pos_pred/all_pred = 11/20\n",
      "step 2575| pos_acc/neg_acc = 0.80000000/1.0000000,                 pos_pred/all_pred =  5/20\n",
      "step 2576| pos_acc/neg_acc = 1.00000000/1.0000000,                 pos_pred/all_pred = 10/20\n",
      "step 2577| pos_acc/neg_acc = 1.00000000/0.9090909,                 pos_pred/all_pred = 10/20\n",
      "step 2578| pos_acc/neg_acc = 0.88888889/0.9000000,                 pos_pred/all_pred = 10/20\n",
      "step 2579| pos_acc/neg_acc = 1.00000000/1.0000000,                 pos_pred/all_pred = 13/20\n"
     ]
    },
    {
     "name": "stderr",
     "output_type": "stream",
     "text": [
      "INFO:SubjObjTrainer:  2580: 6 [   30/  425], train_loss/accuracy = 0.05818460/0.9350000\n"
     ]
    },
    {
     "name": "stdout",
     "output_type": "stream",
     "text": [
      "  2580: 6 [   30/  425], train_loss/accuracy = 0.05818460/0.9350000\n",
      "step 2580| pos_acc/neg_acc = 1.00000000/0.8461538,                 pos_pred/all_pred =  8/20\n",
      "step 2581| pos_acc/neg_acc = 0.92307692/1.0000000,                 pos_pred/all_pred = 13/20\n",
      "step 2582| pos_acc/neg_acc = 0.75000000/1.0000000,                 pos_pred/all_pred =  7/20\n",
      "step 2583| pos_acc/neg_acc = 0.44444444/1.0000000,                 pos_pred/all_pred =  5/20\n",
      "step 2584| pos_acc/neg_acc = 1.00000000/0.8181818,                 pos_pred/all_pred = 11/20\n",
      "step 2585| pos_acc/neg_acc = 1.00000000/0.9166667,                 pos_pred/all_pred =  9/20\n",
      "step 2586| pos_acc/neg_acc = 0.25000000/1.0000000,                 pos_pred/all_pred =  3/20\n",
      "step 2587| pos_acc/neg_acc = 1.00000000/0.0714286,                 pos_pred/all_pred = 19/20\n",
      "step 2588| pos_acc/neg_acc = 0.23076923/1.0000000,                 pos_pred/all_pred =  3/20\n",
      "step 2589| pos_acc/neg_acc = 1.00000000/0.3750000,                 pos_pred/all_pred = 17/20\n"
     ]
    },
    {
     "name": "stderr",
     "output_type": "stream",
     "text": [
      "INFO:SubjObjTrainer:  2590: 6 [   40/  425], train_loss/accuracy = 0.19211763/0.7400000\n"
     ]
    },
    {
     "name": "stdout",
     "output_type": "stream",
     "text": [
      "  2590: 6 [   40/  425], train_loss/accuracy = 0.19211763/0.7400000\n",
      "step 2590| pos_acc/neg_acc = 0.83333333/1.0000000,                 pos_pred/all_pred =  5/20\n",
      "step 2591| pos_acc/neg_acc = 1.00000000/0.8571429,                 pos_pred/all_pred = 14/20\n",
      "step 2592| pos_acc/neg_acc = 0.88888889/1.0000000,                 pos_pred/all_pred =  9/20\n",
      "step 2593| pos_acc/neg_acc = 1.00000000/0.8000000,                 pos_pred/all_pred = 12/20\n",
      "step 2594| pos_acc/neg_acc = 0.91666667/1.0000000,                 pos_pred/all_pred = 12/20\n",
      "step 2595| pos_acc/neg_acc = 0.90000000/1.0000000,                 pos_pred/all_pred =  9/20\n",
      "step 2596| pos_acc/neg_acc = 0.75000000/0.9166667,                 pos_pred/all_pred =  7/20\n",
      "step 2597| pos_acc/neg_acc = 0.80000000/1.0000000,                 pos_pred/all_pred =  8/20\n",
      "step 2598| pos_acc/neg_acc = 1.00000000/0.7857143,                 pos_pred/all_pred =  9/20\n",
      "step 2599| pos_acc/neg_acc = 0.71428571/1.0000000,                 pos_pred/all_pred =  5/20\n"
     ]
    },
    {
     "name": "stderr",
     "output_type": "stream",
     "text": [
      "INFO:SubjObjTrainer:  2600: 6 [   50/  425], train_loss/accuracy = 0.07837217/0.9050000\n"
     ]
    },
    {
     "name": "stdout",
     "output_type": "stream",
     "text": [
      "  2600: 6 [   50/  425], train_loss/accuracy = 0.07837217/0.9050000\n",
      "step 2600| pos_acc/neg_acc = 1.00000000/1.0000000,                 pos_pred/all_pred = 14/20\n",
      "step 2601| pos_acc/neg_acc = 1.00000000/0.9090909,                 pos_pred/all_pred = 10/20\n",
      "step 2602| pos_acc/neg_acc = 0.83333333/1.0000000,                 pos_pred/all_pred = 11/20\n",
      "step 2603| pos_acc/neg_acc = 1.00000000/1.0000000,                 pos_pred/all_pred = 10/20\n",
      "step 2604| pos_acc/neg_acc = 0.57142857/1.0000000,                 pos_pred/all_pred =  4/20\n",
      "step 2605| pos_acc/neg_acc = 0.90909091/0.7500000,                 pos_pred/all_pred = 13/20\n",
      "step 2606| pos_acc/neg_acc = 1.00000000/0.9090909,                 pos_pred/all_pred = 10/20\n",
      "step 2607| pos_acc/neg_acc = 1.00000000/1.0000000,                 pos_pred/all_pred =  9/20\n",
      "step 2608| pos_acc/neg_acc = 0.91666667/1.0000000,                 pos_pred/all_pred = 12/20\n",
      "step 2609| pos_acc/neg_acc = 1.00000000/0.9000000,                 pos_pred/all_pred = 11/20\n"
     ]
    },
    {
     "name": "stderr",
     "output_type": "stream",
     "text": [
      "INFO:SubjObjTrainer:  2610: 6 [   60/  425], train_loss/accuracy = 0.06781662/0.9400000\n"
     ]
    },
    {
     "name": "stdout",
     "output_type": "stream",
     "text": [
      "  2610: 6 [   60/  425], train_loss/accuracy = 0.06781662/0.9400000\n",
      "step 2610| pos_acc/neg_acc = 0.90000000/1.0000000,                 pos_pred/all_pred = 10/20\n",
      "step 2611| pos_acc/neg_acc = 0.91666667/0.8750000,                 pos_pred/all_pred = 12/20\n",
      "step 2612| pos_acc/neg_acc = 1.00000000/1.0000000,                 pos_pred/all_pred =  9/20\n",
      "step 2613| pos_acc/neg_acc = 0.87500000/0.9166667,                 pos_pred/all_pred =  8/20\n",
      "step 2614| pos_acc/neg_acc = 0.90909091/1.0000000,                 pos_pred/all_pred = 10/20\n",
      "step 2615| pos_acc/neg_acc = 1.00000000/0.8888889,                 pos_pred/all_pred = 12/20\n",
      "step 2616| pos_acc/neg_acc = 0.84615385/1.0000000,                 pos_pred/all_pred = 12/20\n",
      "step 2617| pos_acc/neg_acc = 0.90000000/0.8888889,                 pos_pred/all_pred = 11/20\n",
      "step 2618| pos_acc/neg_acc = 1.00000000/1.0000000,                 pos_pred/all_pred = 12/20\n",
      "step 2619| pos_acc/neg_acc = 0.92857143/1.0000000,                 pos_pred/all_pred = 13/20\n"
     ]
    },
    {
     "name": "stderr",
     "output_type": "stream",
     "text": [
      "INFO:SubjObjTrainer:  2620: 6 [   70/  425], train_loss/accuracy = 0.06388018/0.9350000\n"
     ]
    },
    {
     "name": "stdout",
     "output_type": "stream",
     "text": [
      "  2620: 6 [   70/  425], train_loss/accuracy = 0.06388018/0.9350000\n",
      "step 2620| pos_acc/neg_acc = 1.00000000/0.7000000,                 pos_pred/all_pred = 13/20\n",
      "step 2621| pos_acc/neg_acc = 0.90909091/1.0000000,                 pos_pred/all_pred = 11/20\n",
      "step 2622| pos_acc/neg_acc = 1.00000000/0.7000000,                 pos_pred/all_pred = 13/20\n",
      "step 2623| pos_acc/neg_acc = 0.77777778/1.0000000,                 pos_pred/all_pred =  7/20\n",
      "step 2624| pos_acc/neg_acc = 1.00000000/1.0000000,                 pos_pred/all_pred =  7/20\n",
      "step 2625| pos_acc/neg_acc = 0.71428571/1.0000000,                 pos_pred/all_pred =  5/20\n",
      "step 2626| pos_acc/neg_acc = 1.00000000/0.8181818,                 pos_pred/all_pred = 11/20\n",
      "step 2627| pos_acc/neg_acc = 0.77777778/1.0000000,                 pos_pred/all_pred =  7/20\n",
      "step 2628| pos_acc/neg_acc = 0.77777778/1.0000000,                 pos_pred/all_pred =  8/20\n",
      "step 2629| pos_acc/neg_acc = 1.00000000/0.9166667,                 pos_pred/all_pred =  9/20\n"
     ]
    },
    {
     "name": "stderr",
     "output_type": "stream",
     "text": [
      "INFO:SubjObjTrainer:  2630: 6 [   80/  425], train_loss/accuracy = 0.08514880/0.9050000\n"
     ]
    },
    {
     "name": "stdout",
     "output_type": "stream",
     "text": [
      "  2630: 6 [   80/  425], train_loss/accuracy = 0.08514880/0.9050000\n",
      "step 2630| pos_acc/neg_acc = 0.90000000/1.0000000,                 pos_pred/all_pred = 10/20\n",
      "step 2631| pos_acc/neg_acc = 0.55555556/1.0000000,                 pos_pred/all_pred =  5/20\n",
      "step 2632| pos_acc/neg_acc = 1.00000000/0.8000000,                 pos_pred/all_pred = 12/20\n",
      "step 2633| pos_acc/neg_acc = 0.44444444/1.0000000,                 pos_pred/all_pred =  5/20\n",
      "step 2634| pos_acc/neg_acc = 1.00000000/0.8000000,                 pos_pred/all_pred = 12/20\n",
      "step 2635| pos_acc/neg_acc = 0.77777778/1.0000000,                 pos_pred/all_pred =  7/20\n",
      "step 2636| pos_acc/neg_acc = 0.87500000/1.0000000,                 pos_pred/all_pred =  8/20\n",
      "step 2637| pos_acc/neg_acc = 0.66666667/1.0000000,                 pos_pred/all_pred =  6/20\n",
      "step 2638| pos_acc/neg_acc = 0.91666667/1.0000000,                 pos_pred/all_pred = 12/20\n",
      "step 2639| pos_acc/neg_acc = 0.91666667/1.0000000,                 pos_pred/all_pred = 12/20\n"
     ]
    },
    {
     "name": "stderr",
     "output_type": "stream",
     "text": [
      "INFO:SubjObjTrainer:  2640: 6 [   90/  425], train_loss/accuracy = 0.10224470/0.8850000\n"
     ]
    },
    {
     "name": "stdout",
     "output_type": "stream",
     "text": [
      "  2640: 6 [   90/  425], train_loss/accuracy = 0.10224470/0.8850000\n",
      "step 2640| pos_acc/neg_acc = 1.00000000/0.9090909,                 pos_pred/all_pred = 10/20\n",
      "step 2641| pos_acc/neg_acc = 0.66666667/1.0000000,                 pos_pred/all_pred =  6/20\n",
      "step 2642| pos_acc/neg_acc = 0.90909091/0.8750000,                 pos_pred/all_pred = 12/20\n",
      "step 2643| pos_acc/neg_acc = 0.92307692/0.8571429,                 pos_pred/all_pred = 13/20\n",
      "step 2644| pos_acc/neg_acc = 1.00000000/1.0000000,                 pos_pred/all_pred = 11/20\n",
      "step 2645| pos_acc/neg_acc = 0.90909091/0.8750000,                 pos_pred/all_pred = 12/20\n",
      "step 2646| pos_acc/neg_acc = 0.91666667/0.8571429,                 pos_pred/all_pred = 13/20\n",
      "step 2647| pos_acc/neg_acc = 0.90000000/0.9000000,                 pos_pred/all_pred = 10/20\n",
      "step 2648| pos_acc/neg_acc = 0.83333333/1.0000000,                 pos_pred/all_pred = 10/20\n",
      "step 2649| pos_acc/neg_acc = 1.00000000/0.7500000,                 pos_pred/all_pred = 11/20\n"
     ]
    },
    {
     "name": "stderr",
     "output_type": "stream",
     "text": [
      "INFO:SubjObjTrainer:  2650: 6 [  100/  425], train_loss/accuracy = 0.08586609/0.9050000\n"
     ]
    },
    {
     "name": "stdout",
     "output_type": "stream",
     "text": [
      "  2650: 6 [  100/  425], train_loss/accuracy = 0.08586609/0.9050000\n",
      "step 2650| pos_acc/neg_acc = 0.33333333/1.0000000,                 pos_pred/all_pred =  3/20\n",
      "step 2651| pos_acc/neg_acc = 1.00000000/0.7142857,                 pos_pred/all_pred = 15/20\n",
      "step 2652| pos_acc/neg_acc = 1.00000000/0.9166667,                 pos_pred/all_pred =  9/20\n",
      "step 2653| pos_acc/neg_acc = 0.72727273/1.0000000,                 pos_pred/all_pred =  8/20\n",
      "step 2654| pos_acc/neg_acc = 1.00000000/1.0000000,                 pos_pred/all_pred = 13/20\n",
      "step 2655| pos_acc/neg_acc = 0.84615385/1.0000000,                 pos_pred/all_pred = 11/20\n",
      "step 2656| pos_acc/neg_acc = 1.00000000/0.6923077,                 pos_pred/all_pred = 11/20\n",
      "step 2657| pos_acc/neg_acc = 0.87500000/1.0000000,                 pos_pred/all_pred =  7/20\n",
      "step 2658| pos_acc/neg_acc = 1.00000000/0.9166667,                 pos_pred/all_pred =  9/20\n",
      "step 2659| pos_acc/neg_acc = 1.00000000/1.0000000,                 pos_pred/all_pred =  9/20\n"
     ]
    },
    {
     "name": "stderr",
     "output_type": "stream",
     "text": [
      "INFO:SubjObjTrainer:  2660: 6 [  110/  425], train_loss/accuracy = 0.08551796/0.9000000\n"
     ]
    },
    {
     "name": "stdout",
     "output_type": "stream",
     "text": [
      "  2660: 6 [  110/  425], train_loss/accuracy = 0.08551796/0.9000000\n",
      "step 2660| pos_acc/neg_acc = 1.00000000/1.0000000,                 pos_pred/all_pred =  7/20\n",
      "step 2661| pos_acc/neg_acc = 0.66666667/1.0000000,                 pos_pred/all_pred =  4/20\n",
      "step 2662| pos_acc/neg_acc = 0.90909091/1.0000000,                 pos_pred/all_pred = 10/20\n",
      "step 2663| pos_acc/neg_acc = 1.00000000/0.7272727,                 pos_pred/all_pred = 12/20\n",
      "step 2664| pos_acc/neg_acc = 0.57142857/1.0000000,                 pos_pred/all_pred =  5/20\n",
      "step 2665| pos_acc/neg_acc = 0.87500000/0.8181818,                 pos_pred/all_pred = 10/20\n",
      "step 2666| pos_acc/neg_acc = 0.90000000/1.0000000,                 pos_pred/all_pred = 10/20\n",
      "step 2667| pos_acc/neg_acc = 1.00000000/0.8571429,                 pos_pred/all_pred = 14/20\n",
      "step 2668| pos_acc/neg_acc = 0.75000000/1.0000000,                 pos_pred/all_pred = 10/20\n",
      "step 2669| pos_acc/neg_acc = 1.00000000/0.5555556,                 pos_pred/all_pred = 15/20\n"
     ]
    },
    {
     "name": "stderr",
     "output_type": "stream",
     "text": [
      "INFO:SubjObjTrainer:  2670: 6 [  120/  425], train_loss/accuracy = 0.09000035/0.8950000\n"
     ]
    },
    {
     "name": "stdout",
     "output_type": "stream",
     "text": [
      "  2670: 6 [  120/  425], train_loss/accuracy = 0.09000035/0.8950000\n",
      "step 2670| pos_acc/neg_acc = 0.62500000/0.9166667,                 pos_pred/all_pred =  6/20\n",
      "step 2671| pos_acc/neg_acc = 1.00000000/0.8461538,                 pos_pred/all_pred =  9/20\n",
      "step 2672| pos_acc/neg_acc = 0.63636364/1.0000000,                 pos_pred/all_pred =  8/20\n",
      "step 2673| pos_acc/neg_acc = 1.00000000/1.0000000,                 pos_pred/all_pred = 11/20\n",
      "step 2674| pos_acc/neg_acc = 1.00000000/0.7142857,                 pos_pred/all_pred = 15/20\n",
      "step 2675| pos_acc/neg_acc = 0.87500000/1.0000000,                 pos_pred/all_pred =  7/20\n",
      "step 2676| pos_acc/neg_acc = 0.88888889/1.0000000,                 pos_pred/all_pred =  8/20\n",
      "step 2677| pos_acc/neg_acc = 1.00000000/1.0000000,                 pos_pred/all_pred = 13/20\n",
      "step 2678| pos_acc/neg_acc = 1.00000000/0.8461538,                 pos_pred/all_pred =  9/20\n",
      "step 2679| pos_acc/neg_acc = 1.00000000/1.0000000,                 pos_pred/all_pred =  8/20\n"
     ]
    },
    {
     "name": "stderr",
     "output_type": "stream",
     "text": [
      "INFO:SubjObjTrainer:  2680: 6 [  130/  425], train_loss/accuracy = 0.08647800/0.9200000\n"
     ]
    },
    {
     "name": "stdout",
     "output_type": "stream",
     "text": [
      "  2680: 6 [  130/  425], train_loss/accuracy = 0.08647800/0.9200000\n",
      "step 2680| pos_acc/neg_acc = 1.00000000/1.0000000,                 pos_pred/all_pred =  7/20\n",
      "step 2681| pos_acc/neg_acc = 0.83333333/1.0000000,                 pos_pred/all_pred =  5/20\n",
      "step 2682| pos_acc/neg_acc = 1.00000000/0.9090909,                 pos_pred/all_pred = 10/20\n",
      "step 2683| pos_acc/neg_acc = 0.80000000/1.0000000,                 pos_pred/all_pred =  8/20\n",
      "step 2684| pos_acc/neg_acc = 1.00000000/0.5000000,                 pos_pred/all_pred = 15/20\n",
      "step 2685| pos_acc/neg_acc = 0.60000000/1.0000000,                 pos_pred/all_pred =  7/20\n",
      "step 2686| pos_acc/neg_acc = 1.00000000/0.7500000,                 pos_pred/all_pred = 14/20\n",
      "step 2687| pos_acc/neg_acc = 0.46153846/1.0000000,                 pos_pred/all_pred =  6/20\n",
      "step 2688| pos_acc/neg_acc = 1.00000000/0.0000000,                 pos_pred/all_pred = 20/20\n",
      "step 2689| pos_acc/neg_acc = 0.37500000/1.0000000,                 pos_pred/all_pred =  4/20\n"
     ]
    },
    {
     "name": "stderr",
     "output_type": "stream",
     "text": [
      "INFO:SubjObjTrainer:  2690: 6 [  140/  425], train_loss/accuracy = 0.15688568/0.8000000\n"
     ]
    },
    {
     "name": "stdout",
     "output_type": "stream",
     "text": [
      "  2690: 6 [  140/  425], train_loss/accuracy = 0.15688568/0.8000000\n",
      "step 2690| pos_acc/neg_acc = 0.87500000/0.5454545,                 pos_pred/all_pred = 13/20\n",
      "step 2691| pos_acc/neg_acc = 0.88888889/1.0000000,                 pos_pred/all_pred =  9/20\n",
      "step 2692| pos_acc/neg_acc = 1.00000000/0.9166667,                 pos_pred/all_pred =  9/20\n",
      "step 2693| pos_acc/neg_acc = 0.92307692/1.0000000,                 pos_pred/all_pred = 12/20\n",
      "step 2694| pos_acc/neg_acc = 1.00000000/0.7692308,                 pos_pred/all_pred = 10/20\n",
      "step 2695| pos_acc/neg_acc = 0.77777778/1.0000000,                 pos_pred/all_pred =  7/20\n",
      "step 2696| pos_acc/neg_acc = 0.90909091/0.8750000,                 pos_pred/all_pred = 12/20\n",
      "step 2697| pos_acc/neg_acc = 1.00000000/0.9230769,                 pos_pred/all_pred =  8/20\n",
      "step 2698| pos_acc/neg_acc = 0.53846154/1.0000000,                 pos_pred/all_pred =  7/20\n",
      "step 2699| pos_acc/neg_acc = 1.00000000/0.5000000,                 pos_pred/all_pred = 16/20\n"
     ]
    },
    {
     "name": "stderr",
     "output_type": "stream",
     "text": [
      "INFO:SubjObjTrainer:  2700: 6 [  150/  425], train_loss/accuracy = 0.11212548/0.8650000\n"
     ]
    },
    {
     "name": "stdout",
     "output_type": "stream",
     "text": [
      "  2700: 6 [  150/  425], train_loss/accuracy = 0.11212548/0.8650000\n",
      "step 2700| pos_acc/neg_acc = 0.84615385/1.0000000,                 pos_pred/all_pred = 11/20\n",
      "step 2701| pos_acc/neg_acc = 1.00000000/1.0000000,                 pos_pred/all_pred =  8/20\n",
      "step 2702| pos_acc/neg_acc = 0.90000000/1.0000000,                 pos_pred/all_pred =  9/20\n",
      "step 2703| pos_acc/neg_acc = 1.00000000/1.0000000,                 pos_pred/all_pred = 12/20\n",
      "step 2704| pos_acc/neg_acc = 1.00000000/1.0000000,                 pos_pred/all_pred =  8/20\n",
      "step 2705| pos_acc/neg_acc = 0.91666667/1.0000000,                 pos_pred/all_pred = 11/20\n",
      "step 2706| pos_acc/neg_acc = 1.00000000/1.0000000,                 pos_pred/all_pred = 10/20\n",
      "step 2707| pos_acc/neg_acc = 0.84615385/1.0000000,                 pos_pred/all_pred = 11/20\n",
      "step 2708| pos_acc/neg_acc = 1.00000000/0.9000000,                 pos_pred/all_pred = 11/20\n",
      "step 2709| pos_acc/neg_acc = 1.00000000/1.0000000,                 pos_pred/all_pred = 10/20\n"
     ]
    },
    {
     "name": "stderr",
     "output_type": "stream",
     "text": [
      "INFO:SubjObjTrainer:  2710: 6 [  160/  425], train_loss/accuracy = 0.07446057/0.9600000\n"
     ]
    },
    {
     "name": "stdout",
     "output_type": "stream",
     "text": [
      "  2710: 6 [  160/  425], train_loss/accuracy = 0.07446057/0.9600000\n",
      "step 2710| pos_acc/neg_acc = 1.00000000/0.7142857,                 pos_pred/all_pred = 10/20\n",
      "step 2711| pos_acc/neg_acc = 0.25000000/1.0000000,                 pos_pred/all_pred =  3/20\n",
      "step 2712| pos_acc/neg_acc = 1.00000000/0.1250000,                 pos_pred/all_pred = 19/20\n",
      "step 2713| pos_acc/neg_acc = 0.72727273/1.0000000,                 pos_pred/all_pred =  8/20\n",
      "step 2714| pos_acc/neg_acc = 1.00000000/0.5000000,                 pos_pred/all_pred = 16/20\n",
      "step 2715| pos_acc/neg_acc = 0.91666667/1.0000000,                 pos_pred/all_pred = 11/20\n",
      "step 2716| pos_acc/neg_acc = 1.00000000/1.0000000,                 pos_pred/all_pred =  8/20\n",
      "step 2717| pos_acc/neg_acc = 0.88888889/1.0000000,                 pos_pred/all_pred =  9/20\n",
      "step 2718| pos_acc/neg_acc = 1.00000000/1.0000000,                 pos_pred/all_pred = 14/20\n",
      "step 2719| pos_acc/neg_acc = 1.00000000/0.5714286,                 pos_pred/all_pred = 16/20\n"
     ]
    },
    {
     "name": "stderr",
     "output_type": "stream",
     "text": [
      "INFO:SubjObjTrainer:  2720: 6 [  170/  425], train_loss/accuracy = 0.11191360/0.8350000\n"
     ]
    },
    {
     "name": "stdout",
     "output_type": "stream",
     "text": [
      "  2720: 6 [  170/  425], train_loss/accuracy = 0.11191360/0.8350000\n",
      "step 2720| pos_acc/neg_acc = 1.00000000/0.9166667,                 pos_pred/all_pred =  9/20\n",
      "step 2721| pos_acc/neg_acc = 0.42857143/1.0000000,                 pos_pred/all_pred =  4/20\n",
      "step 2722| pos_acc/neg_acc = 1.00000000/0.7500000,                 pos_pred/all_pred = 14/20\n",
      "step 2723| pos_acc/neg_acc = 0.72727273/1.0000000,                 pos_pred/all_pred =  9/20\n",
      "step 2724| pos_acc/neg_acc = 1.00000000/0.8666667,                 pos_pred/all_pred =  7/20\n",
      "step 2725| pos_acc/neg_acc = 0.80000000/1.0000000,                 pos_pred/all_pred =  8/20\n",
      "step 2726| pos_acc/neg_acc = 1.00000000/0.7777778,                 pos_pred/all_pred = 13/20\n",
      "step 2727| pos_acc/neg_acc = 1.00000000/1.0000000,                 pos_pred/all_pred =  8/20\n",
      "step 2728| pos_acc/neg_acc = 1.00000000/1.0000000,                 pos_pred/all_pred = 11/20\n",
      "step 2729| pos_acc/neg_acc = 0.81818182/1.0000000,                 pos_pred/all_pred = 10/20\n"
     ]
    },
    {
     "name": "stderr",
     "output_type": "stream",
     "text": [
      "INFO:SubjObjTrainer:  2730: 6 [  180/  425], train_loss/accuracy = 0.07680827/0.9100000\n"
     ]
    },
    {
     "name": "stdout",
     "output_type": "stream",
     "text": [
      "  2730: 6 [  180/  425], train_loss/accuracy = 0.07680827/0.9100000\n",
      "step 2730| pos_acc/neg_acc = 1.00000000/0.5555556,                 pos_pred/all_pred = 15/20\n",
      "step 2731| pos_acc/neg_acc = 0.77777778/1.0000000,                 pos_pred/all_pred =  7/20\n",
      "step 2732| pos_acc/neg_acc = 0.90000000/0.7777778,                 pos_pred/all_pred = 12/20\n",
      "step 2733| pos_acc/neg_acc = 0.77777778/1.0000000,                 pos_pred/all_pred =  8/20\n",
      "step 2734| pos_acc/neg_acc = 1.00000000/0.9166667,                 pos_pred/all_pred =  9/20\n",
      "step 2735| pos_acc/neg_acc = 0.80000000/1.0000000,                 pos_pred/all_pred =  9/20\n",
      "step 2736| pos_acc/neg_acc = 1.00000000/0.7647059,                 pos_pred/all_pred =  7/20\n",
      "step 2737| pos_acc/neg_acc = 0.25000000/1.0000000,                 pos_pred/all_pred =  2/20\n",
      "step 2738| pos_acc/neg_acc = 1.00000000/0.8333333,                 pos_pred/all_pred = 10/20\n",
      "step 2739| pos_acc/neg_acc = 1.00000000/1.0000000,                 pos_pred/all_pred =  6/20\n"
     ]
    },
    {
     "name": "stderr",
     "output_type": "stream",
     "text": [
      "INFO:SubjObjTrainer:  2740: 6 [  190/  425], train_loss/accuracy = 0.08401720/0.8700000\n"
     ]
    },
    {
     "name": "stdout",
     "output_type": "stream",
     "text": [
      "  2740: 6 [  190/  425], train_loss/accuracy = 0.08401720/0.8700000\n",
      "step 2740| pos_acc/neg_acc = 0.70000000/1.0000000,                 pos_pred/all_pred =  7/20\n",
      "step 2741| pos_acc/neg_acc = 1.00000000/1.0000000,                 pos_pred/all_pred =  8/20\n",
      "step 2742| pos_acc/neg_acc = 0.83333333/1.0000000,                 pos_pred/all_pred = 10/20\n",
      "step 2743| pos_acc/neg_acc = 1.00000000/0.7142857,                 pos_pred/all_pred = 15/20\n",
      "step 2744| pos_acc/neg_acc = 0.86666667/1.0000000,                 pos_pred/all_pred = 14/20\n",
      "step 2745| pos_acc/neg_acc = 1.00000000/0.7272727,                 pos_pred/all_pred = 12/20\n",
      "step 2746| pos_acc/neg_acc = 0.44444444/1.0000000,                 pos_pred/all_pred =  5/20\n",
      "step 2747| pos_acc/neg_acc = 1.00000000/0.5000000,                 pos_pred/all_pred = 14/20\n",
      "step 2748| pos_acc/neg_acc = 0.50000000/1.0000000,                 pos_pred/all_pred =  5/20\n",
      "step 2749| pos_acc/neg_acc = 0.77777778/0.9090909,                 pos_pred/all_pred =  8/20\n"
     ]
    },
    {
     "name": "stderr",
     "output_type": "stream",
     "text": [
      "INFO:SubjObjTrainer:  2750: 6 [  200/  425], train_loss/accuracy = 0.12955426/0.8450000\n"
     ]
    },
    {
     "name": "stdout",
     "output_type": "stream",
     "text": [
      "  2750: 6 [  200/  425], train_loss/accuracy = 0.12955426/0.8450000\n",
      "step 2750| pos_acc/neg_acc = 0.80000000/1.0000000,                 pos_pred/all_pred =  8/20\n",
      "step 2751| pos_acc/neg_acc = 0.91666667/0.6250000,                 pos_pred/all_pred = 14/20\n",
      "step 2752| pos_acc/neg_acc = 0.50000000/1.0000000,                 pos_pred/all_pred =  5/20\n",
      "step 2753| pos_acc/neg_acc = 1.00000000/0.7000000,                 pos_pred/all_pred = 13/20\n",
      "step 2754| pos_acc/neg_acc = 0.81818182/1.0000000,                 pos_pred/all_pred = 10/20\n",
      "step 2755| pos_acc/neg_acc = 0.90000000/1.0000000,                 pos_pred/all_pred = 10/20\n",
      "step 2756| pos_acc/neg_acc = 1.00000000/0.9230769,                 pos_pred/all_pred =  8/20\n",
      "step 2757| pos_acc/neg_acc = 0.90909091/1.0000000,                 pos_pred/all_pred = 10/20\n",
      "step 2758| pos_acc/neg_acc = 1.00000000/0.6363636,                 pos_pred/all_pred = 13/20\n",
      "step 2759| pos_acc/neg_acc = 0.50000000/1.0000000,                 pos_pred/all_pred =  3/20\n"
     ]
    },
    {
     "name": "stderr",
     "output_type": "stream",
     "text": [
      "INFO:SubjObjTrainer:  2760: 6 [  210/  425], train_loss/accuracy = 0.09735324/0.8700000\n"
     ]
    },
    {
     "name": "stdout",
     "output_type": "stream",
     "text": [
      "  2760: 6 [  210/  425], train_loss/accuracy = 0.09735324/0.8700000\n",
      "step 2760| pos_acc/neg_acc = 0.91666667/0.8571429,                 pos_pred/all_pred = 13/20\n",
      "step 2761| pos_acc/neg_acc = 1.00000000/0.9166667,                 pos_pred/all_pred =  9/20\n",
      "step 2762| pos_acc/neg_acc = 0.62500000/1.0000000,                 pos_pred/all_pred =  6/20\n",
      "step 2763| pos_acc/neg_acc = 1.00000000/0.8461538,                 pos_pred/all_pred =  9/20\n",
      "step 2764| pos_acc/neg_acc = 0.66666667/1.0000000,                 pos_pred/all_pred =  7/20\n",
      "step 2765| pos_acc/neg_acc = 1.00000000/1.0000000,                 pos_pred/all_pred =  8/20\n",
      "step 2766| pos_acc/neg_acc = 0.72727273/1.0000000,                 pos_pred/all_pred =  9/20\n",
      "step 2767| pos_acc/neg_acc = 1.00000000/0.9166667,                 pos_pred/all_pred =  9/20\n",
      "step 2768| pos_acc/neg_acc = 0.81818182/1.0000000,                 pos_pred/all_pred =  9/20\n",
      "step 2769| pos_acc/neg_acc = 1.00000000/0.8571429,                 pos_pred/all_pred = 14/20\n"
     ]
    },
    {
     "name": "stderr",
     "output_type": "stream",
     "text": [
      "INFO:SubjObjTrainer:  2770: 6 [  220/  425], train_loss/accuracy = 0.08048678/0.9100000\n"
     ]
    },
    {
     "name": "stdout",
     "output_type": "stream",
     "text": [
      "  2770: 6 [  220/  425], train_loss/accuracy = 0.08048678/0.9100000\n",
      "step 2770| pos_acc/neg_acc = 1.00000000/1.0000000,                 pos_pred/all_pred =  8/20\n",
      "step 2771| pos_acc/neg_acc = 0.78571429/1.0000000,                 pos_pred/all_pred = 11/20\n",
      "step 2772| pos_acc/neg_acc = 1.00000000/0.5833333,                 pos_pred/all_pred = 13/20\n",
      "step 2773| pos_acc/neg_acc = 1.00000000/1.0000000,                 pos_pred/all_pred =  9/20\n",
      "step 2774| pos_acc/neg_acc = 0.90909091/1.0000000,                 pos_pred/all_pred = 11/20\n",
      "step 2775| pos_acc/neg_acc = 1.00000000/1.0000000,                 pos_pred/all_pred =  9/20\n",
      "step 2776| pos_acc/neg_acc = 0.66666667/0.8571429,                 pos_pred/all_pred = 10/20\n",
      "step 2777| pos_acc/neg_acc = 1.00000000/0.4545455,                 pos_pred/all_pred = 15/20\n",
      "step 2778| pos_acc/neg_acc = 0.57142857/1.0000000,                 pos_pred/all_pred =  4/20\n",
      "step 2779| pos_acc/neg_acc = 1.00000000/0.4615385,                 pos_pred/all_pred = 14/20\n"
     ]
    },
    {
     "name": "stderr",
     "output_type": "stream",
     "text": [
      "INFO:SubjObjTrainer:  2780: 6 [  230/  425], train_loss/accuracy = 0.10871579/0.8450000\n"
     ]
    },
    {
     "name": "stdout",
     "output_type": "stream",
     "text": [
      "  2780: 6 [  230/  425], train_loss/accuracy = 0.10871579/0.8450000\n",
      "step 2780| pos_acc/neg_acc = 0.33333333/1.0000000,                 pos_pred/all_pred =  3/20\n",
      "step 2781| pos_acc/neg_acc = 1.00000000/0.3000000,                 pos_pred/all_pred = 17/20\n",
      "step 2782| pos_acc/neg_acc = 0.44444444/0.9090909,                 pos_pred/all_pred =  5/20\n",
      "step 2783| pos_acc/neg_acc = 1.00000000/0.8333333,                 pos_pred/all_pred = 15/20\n",
      "step 2784| pos_acc/neg_acc = 0.75000000/1.0000000,                 pos_pred/all_pred =  6/20\n",
      "step 2785| pos_acc/neg_acc = 1.00000000/1.0000000,                 pos_pred/all_pred = 11/20\n",
      "step 2786| pos_acc/neg_acc = 0.90000000/1.0000000,                 pos_pred/all_pred =  9/20\n",
      "step 2787| pos_acc/neg_acc = 0.83333333/1.0000000,                 pos_pred/all_pred = 10/20\n",
      "step 2788| pos_acc/neg_acc = 1.00000000/0.9285714,                 pos_pred/all_pred =  7/20\n",
      "step 2789| pos_acc/neg_acc = 0.58333333/1.0000000,                 pos_pred/all_pred =  8/20\n"
     ]
    },
    {
     "name": "stderr",
     "output_type": "stream",
     "text": [
      "INFO:SubjObjTrainer:  2790: 6 [  240/  425], train_loss/accuracy = 0.12287517/0.8450000\n"
     ]
    },
    {
     "name": "stdout",
     "output_type": "stream",
     "text": [
      "  2790: 6 [  240/  425], train_loss/accuracy = 0.12287517/0.8450000\n",
      "step 2790| pos_acc/neg_acc = 1.00000000/0.5833333,                 pos_pred/all_pred = 13/20\n",
      "step 2791| pos_acc/neg_acc = 0.55555556/1.0000000,                 pos_pred/all_pred =  6/20\n",
      "step 2792| pos_acc/neg_acc = 0.90000000/0.7000000,                 pos_pred/all_pred = 12/20\n",
      "step 2793| pos_acc/neg_acc = 0.83333333/1.0000000,                 pos_pred/all_pred = 11/20\n",
      "step 2794| pos_acc/neg_acc = 1.00000000/0.6666667,                 pos_pred/all_pred = 14/20\n",
      "step 2795| pos_acc/neg_acc = 0.75000000/0.9090909,                 pos_pred/all_pred =  8/20\n",
      "step 2796| pos_acc/neg_acc = 1.00000000/1.0000000,                 pos_pred/all_pred =  4/20\n",
      "step 2797| pos_acc/neg_acc = 0.80000000/1.0000000,                 pos_pred/all_pred =  8/20\n",
      "step 2798| pos_acc/neg_acc = 0.91666667/0.8571429,                 pos_pred/all_pred = 13/20\n",
      "step 2799| pos_acc/neg_acc = 1.00000000/0.9090909,                 pos_pred/all_pred = 10/20\n"
     ]
    },
    {
     "name": "stderr",
     "output_type": "stream",
     "text": [
      "INFO:SubjObjTrainer:  2800: 6 [  250/  425], train_loss/accuracy = 0.10173830/0.8650000\n"
     ]
    },
    {
     "name": "stdout",
     "output_type": "stream",
     "text": [
      "  2800: 6 [  250/  425], train_loss/accuracy = 0.10173830/0.8650000\n",
      "step 2800| pos_acc/neg_acc = 0.75000000/1.0000000,                 pos_pred/all_pred =  6/20\n",
      "step 2801| pos_acc/neg_acc = 1.00000000/0.7777778,                 pos_pred/all_pred = 13/20\n",
      "step 2802| pos_acc/neg_acc = 0.72727273/1.0000000,                 pos_pred/all_pred =  8/20\n",
      "step 2803| pos_acc/neg_acc = 1.00000000/0.8000000,                 pos_pred/all_pred = 12/20\n",
      "step 2804| pos_acc/neg_acc = 0.87500000/1.0000000,                 pos_pred/all_pred =  8/20\n",
      "step 2805| pos_acc/neg_acc = 0.81818182/1.0000000,                 pos_pred/all_pred = 10/20\n",
      "step 2806| pos_acc/neg_acc = 0.85714286/1.0000000,                 pos_pred/all_pred =  7/20\n",
      "step 2807| pos_acc/neg_acc = 0.72727273/1.0000000,                 pos_pred/all_pred =  8/20\n",
      "step 2808| pos_acc/neg_acc = 1.00000000/0.8181818,                 pos_pred/all_pred = 11/20\n",
      "step 2809| pos_acc/neg_acc = 0.57142857/0.9166667,                 pos_pred/all_pred =  6/20\n"
     ]
    },
    {
     "name": "stderr",
     "output_type": "stream",
     "text": [
      "INFO:SubjObjTrainer:  2810: 6 [  260/  425], train_loss/accuracy = 0.09523778/0.8900000\n"
     ]
    },
    {
     "name": "stdout",
     "output_type": "stream",
     "text": [
      "  2810: 6 [  260/  425], train_loss/accuracy = 0.09523778/0.8900000\n",
      "step 2810| pos_acc/neg_acc = 1.00000000/1.0000000,                 pos_pred/all_pred = 10/20\n",
      "step 2811| pos_acc/neg_acc = 0.75000000/0.9090909,                 pos_pred/all_pred =  8/20\n",
      "step 2812| pos_acc/neg_acc = 1.00000000/1.0000000,                 pos_pred/all_pred = 11/20\n",
      "step 2813| pos_acc/neg_acc = 0.91666667/0.8750000,                 pos_pred/all_pred = 12/20\n",
      "step 2814| pos_acc/neg_acc = 1.00000000/1.0000000,                 pos_pred/all_pred =  6/20\n",
      "step 2815| pos_acc/neg_acc = 0.77777778/1.0000000,                 pos_pred/all_pred =  8/20\n",
      "step 2816| pos_acc/neg_acc = 1.00000000/0.8750000,                 pos_pred/all_pred = 13/20\n",
      "step 2817| pos_acc/neg_acc = 0.80000000/0.9285714,                 pos_pred/all_pred =  6/20\n",
      "step 2818| pos_acc/neg_acc = 0.80000000/0.8666667,                 pos_pred/all_pred =  6/20\n",
      "step 2819| pos_acc/neg_acc = 0.81818182/1.0000000,                 pos_pred/all_pred =  9/20\n"
     ]
    },
    {
     "name": "stderr",
     "output_type": "stream",
     "text": [
      "INFO:SubjObjTrainer:  2820: 6 [  270/  425], train_loss/accuracy = 0.08119672/0.9250000\n"
     ]
    },
    {
     "name": "stdout",
     "output_type": "stream",
     "text": [
      "  2820: 6 [  270/  425], train_loss/accuracy = 0.08119672/0.9250000\n",
      "step 2820| pos_acc/neg_acc = 1.00000000/0.8888889,                 pos_pred/all_pred = 12/20\n",
      "step 2821| pos_acc/neg_acc = 1.00000000/1.0000000,                 pos_pred/all_pred = 11/20\n",
      "step 2822| pos_acc/neg_acc = 0.66666667/1.0000000,                 pos_pred/all_pred =  8/20\n",
      "step 2823| pos_acc/neg_acc = 0.90909091/0.5000000,                 pos_pred/all_pred = 15/20\n",
      "step 2824| pos_acc/neg_acc = 0.91666667/0.7142857,                 pos_pred/all_pred = 14/20\n",
      "step 2825| pos_acc/neg_acc = 1.00000000/1.0000000,                 pos_pred/all_pred =  9/20\n",
      "step 2826| pos_acc/neg_acc = 1.00000000/0.7500000,                 pos_pred/all_pred = 14/20\n",
      "step 2827| pos_acc/neg_acc = 0.55555556/0.9090909,                 pos_pred/all_pred =  6/20\n",
      "step 2828| pos_acc/neg_acc = 1.00000000/1.0000000,                 pos_pred/all_pred =  9/20\n",
      "step 2829| pos_acc/neg_acc = 0.87500000/1.0000000,                 pos_pred/all_pred =  7/20\n"
     ]
    },
    {
     "name": "stderr",
     "output_type": "stream",
     "text": [
      "INFO:SubjObjTrainer:  2830: 6 [  280/  425], train_loss/accuracy = 0.07706498/0.8900000\n"
     ]
    },
    {
     "name": "stdout",
     "output_type": "stream",
     "text": [
      "  2830: 6 [  280/  425], train_loss/accuracy = 0.07706498/0.8900000\n",
      "step 2830| pos_acc/neg_acc = 0.88888889/1.0000000,                 pos_pred/all_pred =  8/20\n",
      "step 2831| pos_acc/neg_acc = 1.00000000/0.9090909,                 pos_pred/all_pred = 10/20\n",
      "step 2832| pos_acc/neg_acc = 0.50000000/1.0000000,                 pos_pred/all_pred =  2/20\n",
      "step 2833| pos_acc/neg_acc = 1.00000000/1.0000000,                 pos_pred/all_pred = 12/20\n",
      "step 2834| pos_acc/neg_acc = 0.81818182/1.0000000,                 pos_pred/all_pred =  9/20\n",
      "step 2835| pos_acc/neg_acc = 1.00000000/0.6250000,                 pos_pred/all_pred = 15/20\n",
      "step 2836| pos_acc/neg_acc = 0.80000000/1.0000000,                 pos_pred/all_pred =  9/20\n",
      "step 2837| pos_acc/neg_acc = 1.00000000/0.9000000,                 pos_pred/all_pred = 11/20\n",
      "step 2838| pos_acc/neg_acc = 1.00000000/1.0000000,                 pos_pred/all_pred = 12/20\n",
      "step 2839| pos_acc/neg_acc = 1.00000000/0.9000000,                 pos_pred/all_pred = 11/20\n"
     ]
    },
    {
     "name": "stderr",
     "output_type": "stream",
     "text": [
      "INFO:SubjObjTrainer:  2840: 6 [  290/  425], train_loss/accuracy = 0.07485749/0.9350000\n"
     ]
    },
    {
     "name": "stdout",
     "output_type": "stream",
     "text": [
      "  2840: 6 [  290/  425], train_loss/accuracy = 0.07485749/0.9350000\n",
      "step 2840| pos_acc/neg_acc = 0.91666667/1.0000000,                 pos_pred/all_pred = 12/20\n",
      "step 2841| pos_acc/neg_acc = 1.00000000/0.6666667,                 pos_pred/all_pred = 14/20\n",
      "step 2842| pos_acc/neg_acc = 0.45454545/1.0000000,                 pos_pred/all_pred =  5/20\n",
      "step 2843| pos_acc/neg_acc = 1.00000000/0.2222222,                 pos_pred/all_pred = 18/20\n",
      "step 2844| pos_acc/neg_acc = 0.72727273/1.0000000,                 pos_pred/all_pred =  8/20\n",
      "step 2845| pos_acc/neg_acc = 1.00000000/0.9000000,                 pos_pred/all_pred = 11/20\n",
      "step 2846| pos_acc/neg_acc = 0.71428571/0.8333333,                 pos_pred/all_pred =  8/20\n",
      "step 2847| pos_acc/neg_acc = 1.00000000/1.0000000,                 pos_pred/all_pred =  9/20\n",
      "step 2848| pos_acc/neg_acc = 0.91666667/1.0000000,                 pos_pred/all_pred = 11/20\n",
      "step 2849| pos_acc/neg_acc = 0.85714286/1.0000000,                 pos_pred/all_pred =  6/20\n"
     ]
    },
    {
     "name": "stderr",
     "output_type": "stream",
     "text": [
      "INFO:SubjObjTrainer:  2850: 6 [  300/  425], train_loss/accuracy = 0.11081417/0.8650000\n"
     ]
    },
    {
     "name": "stdout",
     "output_type": "stream",
     "text": [
      "  2850: 6 [  300/  425], train_loss/accuracy = 0.11081417/0.8650000\n",
      "step 2850| pos_acc/neg_acc = 0.77777778/1.0000000,                 pos_pred/all_pred =  7/20\n",
      "step 2851| pos_acc/neg_acc = 1.00000000/1.0000000,                 pos_pred/all_pred =  9/20\n",
      "step 2852| pos_acc/neg_acc = 0.91666667/1.0000000,                 pos_pred/all_pred = 12/20\n",
      "step 2853| pos_acc/neg_acc = 1.00000000/0.8333333,                 pos_pred/all_pred = 10/20\n",
      "step 2854| pos_acc/neg_acc = 0.75000000/1.0000000,                 pos_pred/all_pred =  6/20\n",
      "step 2855| pos_acc/neg_acc = 1.00000000/0.8333333,                 pos_pred/all_pred = 15/20\n",
      "step 2856| pos_acc/neg_acc = 1.00000000/0.9000000,                 pos_pred/all_pred = 11/20\n",
      "step 2857| pos_acc/neg_acc = 1.00000000/1.0000000,                 pos_pred/all_pred =  9/20\n",
      "step 2858| pos_acc/neg_acc = 1.00000000/1.0000000,                 pos_pred/all_pred = 15/20\n",
      "step 2859| pos_acc/neg_acc = 1.00000000/0.9000000,                 pos_pred/all_pred = 11/20\n"
     ]
    },
    {
     "name": "stderr",
     "output_type": "stream",
     "text": [
      "INFO:SubjObjTrainer:  2860: 6 [  310/  425], train_loss/accuracy = 0.06732325/0.9400000\n"
     ]
    },
    {
     "name": "stdout",
     "output_type": "stream",
     "text": [
      "  2860: 6 [  310/  425], train_loss/accuracy = 0.06732325/0.9400000\n",
      "step 2860| pos_acc/neg_acc = 0.72727273/1.0000000,                 pos_pred/all_pred =  9/20\n",
      "step 2861| pos_acc/neg_acc = 1.00000000/0.7500000,                 pos_pred/all_pred = 11/20\n",
      "step 2862| pos_acc/neg_acc = 0.80000000/1.0000000,                 pos_pred/all_pred =  8/20\n",
      "step 2863| pos_acc/neg_acc = 0.81818182/0.8888889,                 pos_pred/all_pred = 10/20\n",
      "step 2864| pos_acc/neg_acc = 0.88888889/1.0000000,                 pos_pred/all_pred =  8/20\n",
      "step 2865| pos_acc/neg_acc = 1.00000000/0.4545455,                 pos_pred/all_pred = 15/20\n",
      "step 2866| pos_acc/neg_acc = 0.55555556/1.0000000,                 pos_pred/all_pred =  5/20\n",
      "step 2867| pos_acc/neg_acc = 1.00000000/0.8181818,                 pos_pred/all_pred = 11/20\n",
      "step 2868| pos_acc/neg_acc = 0.50000000/1.0000000,                 pos_pred/all_pred =  3/20\n",
      "step 2869| pos_acc/neg_acc = 1.00000000/1.0000000,                 pos_pred/all_pred = 12/20\n"
     ]
    },
    {
     "name": "stderr",
     "output_type": "stream",
     "text": [
      "INFO:SubjObjTrainer:  2870: 6 [  320/  425], train_loss/accuracy = 0.11770499/0.8600000\n"
     ]
    },
    {
     "name": "stdout",
     "output_type": "stream",
     "text": [
      "  2870: 6 [  320/  425], train_loss/accuracy = 0.11770499/0.8600000\n",
      "step 2870| pos_acc/neg_acc = 0.88888889/1.0000000,                 pos_pred/all_pred =  9/20\n",
      "step 2871| pos_acc/neg_acc = 1.00000000/1.0000000,                 pos_pred/all_pred =  7/20\n",
      "step 2872| pos_acc/neg_acc = 0.72727273/1.0000000,                 pos_pred/all_pred =  9/20\n",
      "step 2873| pos_acc/neg_acc = 1.00000000/0.8461538,                 pos_pred/all_pred =  9/20\n",
      "step 2874| pos_acc/neg_acc = 0.55555556/1.0000000,                 pos_pred/all_pred =  6/20\n",
      "step 2875| pos_acc/neg_acc = 1.00000000/0.5555556,                 pos_pred/all_pred = 15/20\n",
      "step 2876| pos_acc/neg_acc = 0.77777778/1.0000000,                 pos_pred/all_pred =  7/20\n",
      "step 2877| pos_acc/neg_acc = 0.83333333/0.8750000,                 pos_pred/all_pred = 11/20\n",
      "step 2878| pos_acc/neg_acc = 1.00000000/0.8571429,                 pos_pred/all_pred = 14/20\n",
      "step 2879| pos_acc/neg_acc = 0.87500000/0.9090909,                 pos_pred/all_pred =  9/20\n"
     ]
    },
    {
     "name": "stderr",
     "output_type": "stream",
     "text": [
      "INFO:SubjObjTrainer:  2880: 6 [  330/  425], train_loss/accuracy = 0.09569357/0.8850000\n"
     ]
    },
    {
     "name": "stdout",
     "output_type": "stream",
     "text": [
      "  2880: 6 [  330/  425], train_loss/accuracy = 0.09569357/0.8850000\n",
      "step 2880| pos_acc/neg_acc = 0.91666667/0.8571429,                 pos_pred/all_pred = 13/20\n",
      "step 2881| pos_acc/neg_acc = 0.88888889/1.0000000,                 pos_pred/all_pred =  9/20\n",
      "step 2882| pos_acc/neg_acc = 0.72727273/1.0000000,                 pos_pred/all_pred =  9/20\n",
      "step 2883| pos_acc/neg_acc = 1.00000000/0.4444444,                 pos_pred/all_pred = 16/20\n",
      "step 2884| pos_acc/neg_acc = 0.72727273/1.0000000,                 pos_pred/all_pred =  8/20\n",
      "step 2885| pos_acc/neg_acc = 1.00000000/0.6363636,                 pos_pred/all_pred = 12/20\n",
      "step 2886| pos_acc/neg_acc = 0.90909091/1.0000000,                 pos_pred/all_pred = 10/20\n",
      "step 2887| pos_acc/neg_acc = 1.00000000/1.0000000,                 pos_pred/all_pred = 14/20\n",
      "step 2888| pos_acc/neg_acc = 1.00000000/1.0000000,                 pos_pred/all_pred = 10/20\n",
      "step 2889| pos_acc/neg_acc = 0.81818182/1.0000000,                 pos_pred/all_pred =  9/20\n"
     ]
    },
    {
     "name": "stderr",
     "output_type": "stream",
     "text": [
      "INFO:SubjObjTrainer:  2890: 6 [  340/  425], train_loss/accuracy = 0.08780025/0.8850000\n"
     ]
    },
    {
     "name": "stdout",
     "output_type": "stream",
     "text": [
      "  2890: 6 [  340/  425], train_loss/accuracy = 0.08780025/0.8850000\n",
      "step 2890| pos_acc/neg_acc = 0.91666667/1.0000000,                 pos_pred/all_pred = 11/20\n",
      "step 2891| pos_acc/neg_acc = 1.00000000/1.0000000,                 pos_pred/all_pred =  9/20\n",
      "step 2892| pos_acc/neg_acc = 0.80000000/1.0000000,                 pos_pred/all_pred =  8/20\n",
      "step 2893| pos_acc/neg_acc = 1.00000000/1.0000000,                 pos_pred/all_pred = 10/20\n",
      "step 2894| pos_acc/neg_acc = 0.87500000/1.0000000,                 pos_pred/all_pred =  7/20\n",
      "step 2895| pos_acc/neg_acc = 0.87500000/1.0000000,                 pos_pred/all_pred =  8/20\n",
      "step 2896| pos_acc/neg_acc = 0.92307692/0.8333333,                 pos_pred/all_pred = 14/20\n",
      "step 2897| pos_acc/neg_acc = 0.92307692/0.8333333,                 pos_pred/all_pred = 14/20\n",
      "step 2898| pos_acc/neg_acc = 1.00000000/1.0000000,                 pos_pred/all_pred = 10/20\n",
      "step 2899| pos_acc/neg_acc = 0.66666667/1.0000000,                 pos_pred/all_pred =  4/20\n"
     ]
    },
    {
     "name": "stderr",
     "output_type": "stream",
     "text": [
      "INFO:SubjObjTrainer:  2900: 6 [  350/  425], train_loss/accuracy = 0.06903537/0.9450000\n"
     ]
    },
    {
     "name": "stdout",
     "output_type": "stream",
     "text": [
      "  2900: 6 [  350/  425], train_loss/accuracy = 0.06903537/0.9450000\n",
      "step 2900| pos_acc/neg_acc = 1.00000000/1.0000000,                 pos_pred/all_pred =  9/20\n",
      "step 2901| pos_acc/neg_acc = 1.00000000/1.0000000,                 pos_pred/all_pred = 10/20\n",
      "step 2902| pos_acc/neg_acc = 1.00000000/0.9166667,                 pos_pred/all_pred =  9/20\n",
      "step 2903| pos_acc/neg_acc = 0.88888889/0.9000000,                 pos_pred/all_pred = 10/20\n",
      "step 2904| pos_acc/neg_acc = 1.00000000/1.0000000,                 pos_pred/all_pred =  9/20\n",
      "step 2905| pos_acc/neg_acc = 1.00000000/0.5555556,                 pos_pred/all_pred = 15/20\n",
      "step 2906| pos_acc/neg_acc = 0.33333333/1.0000000,                 pos_pred/all_pred =  3/20\n",
      "step 2907| pos_acc/neg_acc = 1.00000000/0.8461538,                 pos_pred/all_pred =  9/20\n",
      "step 2908| pos_acc/neg_acc = 0.44444444/1.0000000,                 pos_pred/all_pred =  5/20\n",
      "step 2909| pos_acc/neg_acc = 1.00000000/0.3750000,                 pos_pred/all_pred = 17/20\n"
     ]
    },
    {
     "name": "stderr",
     "output_type": "stream",
     "text": [
      "INFO:SubjObjTrainer:  2910: 6 [  360/  425], train_loss/accuracy = 0.09132799/0.8850000\n"
     ]
    },
    {
     "name": "stdout",
     "output_type": "stream",
     "text": [
      "  2910: 6 [  360/  425], train_loss/accuracy = 0.09132799/0.8850000\n",
      "step 2910| pos_acc/neg_acc = 0.80000000/1.0000000,                 pos_pred/all_pred =  4/20\n",
      "step 2911| pos_acc/neg_acc = 0.87500000/1.0000000,                 pos_pred/all_pred =  7/20\n",
      "step 2912| pos_acc/neg_acc = 0.91666667/1.0000000,                 pos_pred/all_pred = 11/20\n",
      "step 2913| pos_acc/neg_acc = 1.00000000/1.0000000,                 pos_pred/all_pred =  7/20\n",
      "step 2914| pos_acc/neg_acc = 0.75000000/1.0000000,                 pos_pred/all_pred =  6/20\n",
      "step 2915| pos_acc/neg_acc = 0.80000000/0.6666667,                 pos_pred/all_pred = 12/20\n",
      "step 2916| pos_acc/neg_acc = 0.83333333/1.0000000,                 pos_pred/all_pred = 10/20\n",
      "step 2917| pos_acc/neg_acc = 1.00000000/0.9166667,                 pos_pred/all_pred =  9/20\n",
      "step 2918| pos_acc/neg_acc = 0.77777778/1.0000000,                 pos_pred/all_pred =  7/20\n",
      "step 2919| pos_acc/neg_acc = 0.83333333/0.8750000,                 pos_pred/all_pred = 11/20\n"
     ]
    },
    {
     "name": "stderr",
     "output_type": "stream",
     "text": [
      "INFO:SubjObjTrainer:  2920: 6 [  370/  425], train_loss/accuracy = 0.07257985/0.9050000\n"
     ]
    },
    {
     "name": "stdout",
     "output_type": "stream",
     "text": [
      "  2920: 6 [  370/  425], train_loss/accuracy = 0.07257985/0.9050000\n",
      "step 2920| pos_acc/neg_acc = 1.00000000/0.8888889,                 pos_pred/all_pred = 12/20\n",
      "step 2921| pos_acc/neg_acc = 1.00000000/1.0000000,                 pos_pred/all_pred = 10/20\n",
      "step 2922| pos_acc/neg_acc = 1.00000000/0.9090909,                 pos_pred/all_pred = 10/20\n",
      "step 2923| pos_acc/neg_acc = 0.50000000/1.0000000,                 pos_pred/all_pred =  5/20\n",
      "step 2924| pos_acc/neg_acc = 1.00000000/0.7500000,                 pos_pred/all_pred = 14/20\n",
      "step 2925| pos_acc/neg_acc = 0.80000000/1.0000000,                 pos_pred/all_pred =  8/20\n",
      "step 2926| pos_acc/neg_acc = 0.91666667/0.8571429,                 pos_pred/all_pred = 13/20\n",
      "step 2927| pos_acc/neg_acc = 0.90000000/0.9000000,                 pos_pred/all_pred = 10/20\n",
      "step 2928| pos_acc/neg_acc = 1.00000000/0.9090909,                 pos_pred/all_pred = 10/20\n",
      "step 2929| pos_acc/neg_acc = 0.77777778/1.0000000,                 pos_pred/all_pred =  8/20\n"
     ]
    },
    {
     "name": "stderr",
     "output_type": "stream",
     "text": [
      "INFO:SubjObjTrainer:  2930: 6 [  380/  425], train_loss/accuracy = 0.07949968/0.9150000\n"
     ]
    },
    {
     "name": "stdout",
     "output_type": "stream",
     "text": [
      "  2930: 6 [  380/  425], train_loss/accuracy = 0.07949968/0.9150000\n",
      "step 2930| pos_acc/neg_acc = 0.91666667/1.0000000,                 pos_pred/all_pred = 11/20\n",
      "step 2931| pos_acc/neg_acc = 1.00000000/1.0000000,                 pos_pred/all_pred =  6/20\n",
      "step 2932| pos_acc/neg_acc = 1.00000000/1.0000000,                 pos_pred/all_pred =  8/20\n",
      "step 2933| pos_acc/neg_acc = 0.72727273/1.0000000,                 pos_pred/all_pred =  9/20\n",
      "step 2934| pos_acc/neg_acc = 0.87500000/0.8333333,                 pos_pred/all_pred =  9/20\n",
      "step 2935| pos_acc/neg_acc = 0.63636364/1.0000000,                 pos_pred/all_pred =  8/20\n",
      "step 2936| pos_acc/neg_acc = 1.00000000/0.4444444,                 pos_pred/all_pred = 16/20\n",
      "step 2937| pos_acc/neg_acc = 0.81818182/1.0000000,                 pos_pred/all_pred =  9/20\n",
      "step 2938| pos_acc/neg_acc = 1.00000000/0.7777778,                 pos_pred/all_pred = 13/20\n",
      "step 2939| pos_acc/neg_acc = 0.88888889/1.0000000,                 pos_pred/all_pred =  8/20\n"
     ]
    },
    {
     "name": "stderr",
     "output_type": "stream",
     "text": [
      "INFO:SubjObjTrainer:  2940: 6 [  390/  425], train_loss/accuracy = 0.09352867/0.8900000\n"
     ]
    },
    {
     "name": "stdout",
     "output_type": "stream",
     "text": [
      "  2940: 6 [  390/  425], train_loss/accuracy = 0.09352867/0.8900000\n",
      "step 2940| pos_acc/neg_acc = 1.00000000/1.0000000,                 pos_pred/all_pred = 12/20\n",
      "step 2941| pos_acc/neg_acc = 1.00000000/0.7000000,                 pos_pred/all_pred = 13/20\n",
      "step 2942| pos_acc/neg_acc = 0.83333333/1.0000000,                 pos_pred/all_pred = 10/20\n",
      "step 2943| pos_acc/neg_acc = 1.00000000/0.8888889,                 pos_pred/all_pred = 12/20\n",
      "step 2944| pos_acc/neg_acc = 0.90909091/1.0000000,                 pos_pred/all_pred = 10/20\n",
      "step 2945| pos_acc/neg_acc = 1.00000000/1.0000000,                 pos_pred/all_pred = 12/20\n",
      "step 2946| pos_acc/neg_acc = 1.00000000/0.8461538,                 pos_pred/all_pred =  9/20\n",
      "step 2947| pos_acc/neg_acc = 0.38461538/1.0000000,                 pos_pred/all_pred =  5/20\n",
      "step 2948| pos_acc/neg_acc = 1.00000000/0.1666667,                 pos_pred/all_pred = 18/20\n",
      "step 2949| pos_acc/neg_acc = 0.60000000/1.0000000,                 pos_pred/all_pred =  6/20\n"
     ]
    },
    {
     "name": "stderr",
     "output_type": "stream",
     "text": [
      "INFO:SubjObjTrainer:  2950: 6 [  400/  425], train_loss/accuracy = 0.12879835/0.8400000\n"
     ]
    },
    {
     "name": "stdout",
     "output_type": "stream",
     "text": [
      "  2950: 6 [  400/  425], train_loss/accuracy = 0.12879835/0.8400000\n",
      "step 2950| pos_acc/neg_acc = 1.00000000/0.7000000,                 pos_pred/all_pred = 13/20\n",
      "step 2951| pos_acc/neg_acc = 1.00000000/1.0000000,                 pos_pred/all_pred = 13/20\n",
      "step 2952| pos_acc/neg_acc = 1.00000000/1.0000000,                 pos_pred/all_pred = 11/20\n",
      "step 2953| pos_acc/neg_acc = 1.00000000/0.9000000,                 pos_pred/all_pred = 11/20\n",
      "step 2954| pos_acc/neg_acc = 1.00000000/1.0000000,                 pos_pred/all_pred =  7/20\n",
      "step 2955| pos_acc/neg_acc = 0.88888889/1.0000000,                 pos_pred/all_pred =  8/20\n",
      "step 2956| pos_acc/neg_acc = 0.88888889/0.9090909,                 pos_pred/all_pred =  9/20\n",
      "step 2957| pos_acc/neg_acc = 0.81818182/1.0000000,                 pos_pred/all_pred =  9/20\n",
      "step 2958| pos_acc/neg_acc = 1.00000000/0.6250000,                 pos_pred/all_pred = 15/20\n",
      "step 2959| pos_acc/neg_acc = 0.60000000/1.0000000,                 pos_pred/all_pred =  6/20\n"
     ]
    },
    {
     "name": "stderr",
     "output_type": "stream",
     "text": [
      "INFO:SubjObjTrainer:  2960: 6 [  410/  425], train_loss/accuracy = 0.08231051/0.9150000\n"
     ]
    },
    {
     "name": "stdout",
     "output_type": "stream",
     "text": [
      "  2960: 6 [  410/  425], train_loss/accuracy = 0.08231051/0.9150000\n",
      "step 2960| pos_acc/neg_acc = 0.91666667/0.8571429,                 pos_pred/all_pred = 13/20\n",
      "step 2961| pos_acc/neg_acc = 0.87500000/1.0000000,                 pos_pred/all_pred =  8/20\n",
      "step 2962| pos_acc/neg_acc = 1.00000000/0.8888889,                 pos_pred/all_pred = 12/20\n",
      "step 2963| pos_acc/neg_acc = 1.00000000/1.0000000,                 pos_pred/all_pred =  6/20\n",
      "step 2964| pos_acc/neg_acc = 0.75000000/1.0000000,                 pos_pred/all_pred = 10/20\n",
      "step 2965| pos_acc/neg_acc = 1.00000000/0.5000000,                 pos_pred/all_pred = 14/20\n",
      "step 2966| pos_acc/neg_acc = 0.50000000/1.0000000,                 pos_pred/all_pred =  5/20\n",
      "step 2967| pos_acc/neg_acc = 1.00000000/0.9090909,                 pos_pred/all_pred = 10/20\n",
      "step 2968| pos_acc/neg_acc = 0.90000000/1.0000000,                 pos_pred/all_pred =  9/20\n",
      "step 2969| pos_acc/neg_acc = 1.00000000/0.9090909,                 pos_pred/all_pred = 10/20\n"
     ]
    },
    {
     "name": "stderr",
     "output_type": "stream",
     "text": [
      "INFO:SubjObjTrainer:  2970: 6 [  420/  425], train_loss/accuracy = 0.09622078/0.9000000\n"
     ]
    },
    {
     "name": "stdout",
     "output_type": "stream",
     "text": [
      "  2970: 6 [  420/  425], train_loss/accuracy = 0.09622078/0.9000000\n",
      "step 2970| pos_acc/neg_acc = 1.00000000/0.8888889,                 pos_pred/all_pred = 12/20\n",
      "step 2971| pos_acc/neg_acc = 0.91666667/0.8750000,                 pos_pred/all_pred = 12/20\n",
      "step 2972| pos_acc/neg_acc = 1.00000000/1.0000000,                 pos_pred/all_pred = 12/20\n",
      "step 2973| pos_acc/neg_acc = 1.00000000/0.9000000,                 pos_pred/all_pred = 11/20\n",
      "step 2974| pos_acc/neg_acc = 1.00000000/1.0000000,                 pos_pred/all_pred =  8/20\n"
     ]
    },
    {
     "name": "stderr",
     "output_type": "stream",
     "text": [
      "INFO:SubjObjTrainer:[    6/   10], valid_loss/accuracy = 0.07488993/0.5300000\n"
     ]
    },
    {
     "name": "stdout",
     "output_type": "stream",
     "text": [
      "[    6/   10], valid_loss/accuracy = 0.07488993/0.5300000\n",
      "step 2975| pos_acc/neg_acc = 0.85714286/1.0000000,                 pos_pred/all_pred = 12/20\n",
      "step 2976| pos_acc/neg_acc = 1.00000000/0.8461538,                 pos_pred/all_pred =  9/20\n",
      "step 2977| pos_acc/neg_acc = 0.63636364/1.0000000,                 pos_pred/all_pred =  7/20\n",
      "step 2978| pos_acc/neg_acc = 1.00000000/0.7272727,                 pos_pred/all_pred = 12/20\n",
      "step 2979| pos_acc/neg_acc = 1.00000000/1.0000000,                 pos_pred/all_pred =  7/20\n"
     ]
    },
    {
     "name": "stderr",
     "output_type": "stream",
     "text": [
      "INFO:SubjObjTrainer:  2980: 7 [    5/  425], train_loss/accuracy = 0.05348818/0.4400000\n"
     ]
    },
    {
     "name": "stdout",
     "output_type": "stream",
     "text": [
      "  2980: 7 [    5/  425], train_loss/accuracy = 0.05348818/0.4400000\n",
      "step 2980| pos_acc/neg_acc = 1.00000000/0.9000000,                 pos_pred/all_pred = 11/20\n",
      "step 2981| pos_acc/neg_acc = 1.00000000/1.0000000,                 pos_pred/all_pred =  8/20\n",
      "step 2982| pos_acc/neg_acc = 0.83333333/1.0000000,                 pos_pred/all_pred = 10/20\n",
      "step 2983| pos_acc/neg_acc = 0.87500000/1.0000000,                 pos_pred/all_pred =  7/20\n",
      "step 2984| pos_acc/neg_acc = 0.88888889/1.0000000,                 pos_pred/all_pred =  8/20\n",
      "step 2985| pos_acc/neg_acc = 1.00000000/1.0000000,                 pos_pred/all_pred = 11/20\n",
      "step 2986| pos_acc/neg_acc = 1.00000000/1.0000000,                 pos_pred/all_pred = 11/20\n",
      "step 2987| pos_acc/neg_acc = 0.88888889/1.0000000,                 pos_pred/all_pred =  8/20\n",
      "step 2988| pos_acc/neg_acc = 1.00000000/1.0000000,                 pos_pred/all_pred =  6/20\n",
      "step 2989| pos_acc/neg_acc = 1.00000000/1.0000000,                 pos_pred/all_pred =  6/20\n"
     ]
    },
    {
     "name": "stderr",
     "output_type": "stream",
     "text": [
      "INFO:SubjObjTrainer:  2990: 7 [   15/  425], train_loss/accuracy = 0.05276408/0.9650000\n"
     ]
    },
    {
     "name": "stdout",
     "output_type": "stream",
     "text": [
      "  2990: 7 [   15/  425], train_loss/accuracy = 0.05276408/0.9650000\n",
      "step 2990| pos_acc/neg_acc = 1.00000000/1.0000000,                 pos_pred/all_pred = 10/20\n",
      "step 2991| pos_acc/neg_acc = 1.00000000/0.9333333,                 pos_pred/all_pred =  6/20\n",
      "step 2992| pos_acc/neg_acc = 1.00000000/1.0000000,                 pos_pred/all_pred =  9/20\n",
      "step 2993| pos_acc/neg_acc = 1.00000000/1.0000000,                 pos_pred/all_pred =  8/20\n",
      "step 2994| pos_acc/neg_acc = 0.70000000/1.0000000,                 pos_pred/all_pred =  7/20\n",
      "step 2995| pos_acc/neg_acc = 1.00000000/1.0000000,                 pos_pred/all_pred =  8/20\n",
      "step 2996| pos_acc/neg_acc = 0.83333333/1.0000000,                 pos_pred/all_pred = 11/20\n",
      "step 2997| pos_acc/neg_acc = 0.90909091/0.8750000,                 pos_pred/all_pred = 12/20\n",
      "step 2998| pos_acc/neg_acc = 0.83333333/1.0000000,                 pos_pred/all_pred =  5/20\n",
      "step 2999| pos_acc/neg_acc = 0.88888889/0.8000000,                 pos_pred/all_pred = 11/20\n"
     ]
    },
    {
     "name": "stderr",
     "output_type": "stream",
     "text": [
      "INFO:SubjObjTrainer:  3000: 7 [   25/  425], train_loss/accuracy = 0.06106357/0.9400000\n"
     ]
    },
    {
     "name": "stdout",
     "output_type": "stream",
     "text": [
      "  3000: 7 [   25/  425], train_loss/accuracy = 0.06106357/0.9400000\n",
      "step 3000| pos_acc/neg_acc = 1.00000000/1.0000000,                 pos_pred/all_pred =  6/20\n",
      "step 3001| pos_acc/neg_acc = 1.00000000/0.8888889,                 pos_pred/all_pred = 11/20\n",
      "step 3002| pos_acc/neg_acc = 1.00000000/0.9090909,                 pos_pred/all_pred = 10/20\n",
      "step 3003| pos_acc/neg_acc = 0.88888889/0.9000000,                 pos_pred/all_pred = 10/20\n",
      "step 3004| pos_acc/neg_acc = 1.00000000/1.0000000,                 pos_pred/all_pred = 13/20\n",
      "step 3005| pos_acc/neg_acc = 1.00000000/1.0000000,                 pos_pred/all_pred =  6/20\n",
      "step 3006| pos_acc/neg_acc = 0.92307692/1.0000000,                 pos_pred/all_pred = 13/20\n",
      "step 3007| pos_acc/neg_acc = 0.75000000/1.0000000,                 pos_pred/all_pred =  7/20\n",
      "step 3008| pos_acc/neg_acc = 0.44444444/1.0000000,                 pos_pred/all_pred =  5/20\n",
      "step 3009| pos_acc/neg_acc = 1.00000000/1.0000000,                 pos_pred/all_pred =  9/20\n"
     ]
    },
    {
     "name": "stderr",
     "output_type": "stream",
     "text": [
      "INFO:SubjObjTrainer:  3010: 7 [   35/  425], train_loss/accuracy = 0.06782629/0.9300000\n"
     ]
    },
    {
     "name": "stdout",
     "output_type": "stream",
     "text": [
      "  3010: 7 [   35/  425], train_loss/accuracy = 0.06782629/0.9300000\n",
      "step 3010| pos_acc/neg_acc = 1.00000000/0.9166667,                 pos_pred/all_pred =  9/20\n",
      "step 3011| pos_acc/neg_acc = 0.25000000/1.0000000,                 pos_pred/all_pred =  3/20\n",
      "step 3012| pos_acc/neg_acc = 1.00000000/0.0714286,                 pos_pred/all_pred = 19/20\n",
      "step 3013| pos_acc/neg_acc = 0.23076923/1.0000000,                 pos_pred/all_pred =  3/20\n",
      "step 3014| pos_acc/neg_acc = 1.00000000/0.3750000,                 pos_pred/all_pred = 17/20\n",
      "step 3015| pos_acc/neg_acc = 0.83333333/1.0000000,                 pos_pred/all_pred =  5/20\n",
      "step 3016| pos_acc/neg_acc = 1.00000000/1.0000000,                 pos_pred/all_pred = 13/20\n",
      "step 3017| pos_acc/neg_acc = 0.88888889/1.0000000,                 pos_pred/all_pred =  9/20\n",
      "step 3018| pos_acc/neg_acc = 1.00000000/0.8000000,                 pos_pred/all_pred = 12/20\n",
      "step 3019| pos_acc/neg_acc = 0.91666667/1.0000000,                 pos_pred/all_pred = 12/20\n"
     ]
    },
    {
     "name": "stderr",
     "output_type": "stream",
     "text": [
      "INFO:SubjObjTrainer:  3020: 7 [   45/  425], train_loss/accuracy = 0.17256644/0.7750000\n"
     ]
    },
    {
     "name": "stdout",
     "output_type": "stream",
     "text": [
      "  3020: 7 [   45/  425], train_loss/accuracy = 0.17256644/0.7750000\n",
      "step 3020| pos_acc/neg_acc = 0.90000000/1.0000000,                 pos_pred/all_pred =  9/20\n",
      "step 3021| pos_acc/neg_acc = 0.75000000/0.9166667,                 pos_pred/all_pred =  7/20\n",
      "step 3022| pos_acc/neg_acc = 0.90000000/1.0000000,                 pos_pred/all_pred =  9/20\n",
      "step 3023| pos_acc/neg_acc = 1.00000000/0.7857143,                 pos_pred/all_pred =  9/20\n",
      "step 3024| pos_acc/neg_acc = 0.85714286/1.0000000,                 pos_pred/all_pred =  7/20\n",
      "step 3025| pos_acc/neg_acc = 1.00000000/1.0000000,                 pos_pred/all_pred = 14/20\n",
      "step 3026| pos_acc/neg_acc = 1.00000000/0.9090909,                 pos_pred/all_pred = 10/20\n",
      "step 3027| pos_acc/neg_acc = 0.83333333/1.0000000,                 pos_pred/all_pred = 11/20\n",
      "step 3028| pos_acc/neg_acc = 1.00000000/1.0000000,                 pos_pred/all_pred = 10/20\n",
      "step 3029| pos_acc/neg_acc = 0.57142857/1.0000000,                 pos_pred/all_pred =  4/20\n"
     ]
    },
    {
     "name": "stderr",
     "output_type": "stream",
     "text": [
      "INFO:SubjObjTrainer:  3030: 7 [   55/  425], train_loss/accuracy = 0.07490136/0.9250000\n"
     ]
    },
    {
     "name": "stdout",
     "output_type": "stream",
     "text": [
      "  3030: 7 [   55/  425], train_loss/accuracy = 0.07490136/0.9250000\n",
      "step 3030| pos_acc/neg_acc = 0.90909091/0.7500000,                 pos_pred/all_pred = 13/20\n",
      "step 3031| pos_acc/neg_acc = 1.00000000/0.9090909,                 pos_pred/all_pred = 10/20\n",
      "step 3032| pos_acc/neg_acc = 1.00000000/1.0000000,                 pos_pred/all_pred =  9/20\n",
      "step 3033| pos_acc/neg_acc = 0.91666667/1.0000000,                 pos_pred/all_pred = 12/20\n",
      "step 3034| pos_acc/neg_acc = 1.00000000/0.9000000,                 pos_pred/all_pred = 11/20\n",
      "step 3035| pos_acc/neg_acc = 0.90000000/1.0000000,                 pos_pred/all_pred = 10/20\n",
      "step 3036| pos_acc/neg_acc = 0.91666667/0.8750000,                 pos_pred/all_pred = 12/20\n",
      "step 3037| pos_acc/neg_acc = 1.00000000/1.0000000,                 pos_pred/all_pred =  9/20\n",
      "step 3038| pos_acc/neg_acc = 0.75000000/0.9166667,                 pos_pred/all_pred =  7/20\n",
      "step 3039| pos_acc/neg_acc = 0.90909091/1.0000000,                 pos_pred/all_pred = 10/20\n"
     ]
    },
    {
     "name": "stderr",
     "output_type": "stream",
     "text": [
      "INFO:SubjObjTrainer:  3040: 7 [   65/  425], train_loss/accuracy = 0.06526314/0.9300000\n"
     ]
    },
    {
     "name": "stdout",
     "output_type": "stream",
     "text": [
      "  3040: 7 [   65/  425], train_loss/accuracy = 0.06526314/0.9300000\n",
      "step 3040| pos_acc/neg_acc = 1.00000000/0.8888889,                 pos_pred/all_pred = 12/20\n",
      "step 3041| pos_acc/neg_acc = 0.84615385/1.0000000,                 pos_pred/all_pred = 12/20\n",
      "step 3042| pos_acc/neg_acc = 0.90000000/0.8888889,                 pos_pred/all_pred = 11/20\n",
      "step 3043| pos_acc/neg_acc = 1.00000000/1.0000000,                 pos_pred/all_pred = 12/20\n",
      "step 3044| pos_acc/neg_acc = 0.92857143/1.0000000,                 pos_pred/all_pred = 13/20\n",
      "step 3045| pos_acc/neg_acc = 1.00000000/0.7000000,                 pos_pred/all_pred = 13/20\n",
      "step 3046| pos_acc/neg_acc = 0.90909091/1.0000000,                 pos_pred/all_pred = 11/20\n",
      "step 3047| pos_acc/neg_acc = 1.00000000/0.8000000,                 pos_pred/all_pred = 12/20\n",
      "step 3048| pos_acc/neg_acc = 0.77777778/1.0000000,                 pos_pred/all_pred =  7/20\n",
      "step 3049| pos_acc/neg_acc = 1.00000000/1.0000000,                 pos_pred/all_pred =  7/20\n"
     ]
    },
    {
     "name": "stderr",
     "output_type": "stream",
     "text": [
      "INFO:SubjObjTrainer:  3050: 7 [   75/  425], train_loss/accuracy = 0.06931497/0.9300000\n"
     ]
    },
    {
     "name": "stdout",
     "output_type": "stream",
     "text": [
      "  3050: 7 [   75/  425], train_loss/accuracy = 0.06931497/0.9300000\n",
      "step 3050| pos_acc/neg_acc = 0.71428571/1.0000000,                 pos_pred/all_pred =  5/20\n",
      "step 3051| pos_acc/neg_acc = 1.00000000/0.9090909,                 pos_pred/all_pred = 10/20\n",
      "step 3052| pos_acc/neg_acc = 0.77777778/1.0000000,                 pos_pred/all_pred =  7/20\n",
      "step 3053| pos_acc/neg_acc = 0.77777778/1.0000000,                 pos_pred/all_pred =  8/20\n",
      "step 3054| pos_acc/neg_acc = 1.00000000/0.9166667,                 pos_pred/all_pred =  9/20\n",
      "step 3055| pos_acc/neg_acc = 0.90000000/1.0000000,                 pos_pred/all_pred = 10/20\n",
      "step 3056| pos_acc/neg_acc = 0.55555556/1.0000000,                 pos_pred/all_pred =  5/20\n",
      "step 3057| pos_acc/neg_acc = 1.00000000/0.8000000,                 pos_pred/all_pred = 12/20\n",
      "step 3058| pos_acc/neg_acc = 0.44444444/1.0000000,                 pos_pred/all_pred =  5/20\n",
      "step 3059| pos_acc/neg_acc = 1.00000000/0.9000000,                 pos_pred/all_pred = 11/20\n"
     ]
    },
    {
     "name": "stderr",
     "output_type": "stream",
     "text": [
      "INFO:SubjObjTrainer:  3060: 7 [   85/  425], train_loss/accuracy = 0.10793582/0.8850000\n"
     ]
    },
    {
     "name": "stdout",
     "output_type": "stream",
     "text": [
      "  3060: 7 [   85/  425], train_loss/accuracy = 0.10793582/0.8850000\n",
      "step 3060| pos_acc/neg_acc = 0.88888889/1.0000000,                 pos_pred/all_pred =  8/20\n",
      "step 3061| pos_acc/neg_acc = 0.87500000/1.0000000,                 pos_pred/all_pred =  8/20\n",
      "step 3062| pos_acc/neg_acc = 0.77777778/1.0000000,                 pos_pred/all_pred =  7/20\n",
      "step 3063| pos_acc/neg_acc = 0.91666667/1.0000000,                 pos_pred/all_pred = 12/20\n",
      "step 3064| pos_acc/neg_acc = 0.91666667/0.8571429,                 pos_pred/all_pred = 13/20\n",
      "step 3065| pos_acc/neg_acc = 1.00000000/0.9090909,                 pos_pred/all_pred = 10/20\n",
      "step 3066| pos_acc/neg_acc = 0.77777778/1.0000000,                 pos_pred/all_pred =  7/20\n",
      "step 3067| pos_acc/neg_acc = 0.90909091/1.0000000,                 pos_pred/all_pred = 11/20\n",
      "step 3068| pos_acc/neg_acc = 0.92307692/0.8571429,                 pos_pred/all_pred = 13/20\n",
      "step 3069| pos_acc/neg_acc = 1.00000000/1.0000000,                 pos_pred/all_pred = 11/20\n"
     ]
    },
    {
     "name": "stderr",
     "output_type": "stream",
     "text": [
      "INFO:SubjObjTrainer:  3070: 7 [   95/  425], train_loss/accuracy = 0.07312714/0.9350000\n"
     ]
    },
    {
     "name": "stdout",
     "output_type": "stream",
     "text": [
      "  3070: 7 [   95/  425], train_loss/accuracy = 0.07312714/0.9350000\n",
      "step 3070| pos_acc/neg_acc = 0.90909091/0.8750000,                 pos_pred/all_pred = 12/20\n",
      "step 3071| pos_acc/neg_acc = 0.91666667/0.8571429,                 pos_pred/all_pred = 13/20\n",
      "step 3072| pos_acc/neg_acc = 0.90000000/0.9000000,                 pos_pred/all_pred = 10/20\n",
      "step 3073| pos_acc/neg_acc = 0.83333333/1.0000000,                 pos_pred/all_pred = 10/20\n",
      "step 3074| pos_acc/neg_acc = 1.00000000/0.7500000,                 pos_pred/all_pred = 11/20\n",
      "step 3075| pos_acc/neg_acc = 0.33333333/1.0000000,                 pos_pred/all_pred =  3/20\n",
      "step 3076| pos_acc/neg_acc = 1.00000000/0.7142857,                 pos_pred/all_pred = 15/20\n",
      "step 3077| pos_acc/neg_acc = 1.00000000/0.8333333,                 pos_pred/all_pred = 10/20\n",
      "step 3078| pos_acc/neg_acc = 0.72727273/1.0000000,                 pos_pred/all_pred =  8/20\n",
      "step 3079| pos_acc/neg_acc = 1.00000000/1.0000000,                 pos_pred/all_pred = 13/20\n"
     ]
    },
    {
     "name": "stderr",
     "output_type": "stream",
     "text": [
      "INFO:SubjObjTrainer:  3080: 7 [  105/  425], train_loss/accuracy = 0.08751742/0.8800000\n"
     ]
    },
    {
     "name": "stdout",
     "output_type": "stream",
     "text": [
      "  3080: 7 [  105/  425], train_loss/accuracy = 0.08751742/0.8800000\n",
      "step 3080| pos_acc/neg_acc = 0.84615385/1.0000000,                 pos_pred/all_pred = 11/20\n",
      "step 3081| pos_acc/neg_acc = 1.00000000/0.6923077,                 pos_pred/all_pred = 11/20\n",
      "step 3082| pos_acc/neg_acc = 0.87500000/1.0000000,                 pos_pred/all_pred =  7/20\n",
      "step 3083| pos_acc/neg_acc = 1.00000000/1.0000000,                 pos_pred/all_pred =  8/20\n",
      "step 3084| pos_acc/neg_acc = 1.00000000/1.0000000,                 pos_pred/all_pred =  9/20\n",
      "step 3085| pos_acc/neg_acc = 1.00000000/1.0000000,                 pos_pred/all_pred =  7/20\n",
      "step 3086| pos_acc/neg_acc = 0.66666667/1.0000000,                 pos_pred/all_pred =  4/20\n",
      "step 3087| pos_acc/neg_acc = 0.90909091/1.0000000,                 pos_pred/all_pred = 10/20\n",
      "step 3088| pos_acc/neg_acc = 1.00000000/0.6363636,                 pos_pred/all_pred = 13/20\n",
      "step 3089| pos_acc/neg_acc = 0.57142857/1.0000000,                 pos_pred/all_pred =  5/20\n"
     ]
    },
    {
     "name": "stderr",
     "output_type": "stream",
     "text": [
      "INFO:SubjObjTrainer:  3090: 7 [  115/  425], train_loss/accuracy = 0.08242264/0.9150000\n"
     ]
    },
    {
     "name": "stdout",
     "output_type": "stream",
     "text": [
      "  3090: 7 [  115/  425], train_loss/accuracy = 0.08242264/0.9150000\n",
      "step 3090| pos_acc/neg_acc = 0.87500000/0.9090909,                 pos_pred/all_pred =  9/20\n",
      "step 3091| pos_acc/neg_acc = 0.90000000/1.0000000,                 pos_pred/all_pred = 10/20\n",
      "step 3092| pos_acc/neg_acc = 1.00000000/0.8571429,                 pos_pred/all_pred = 14/20\n",
      "step 3093| pos_acc/neg_acc = 0.75000000/1.0000000,                 pos_pred/all_pred = 10/20\n",
      "step 3094| pos_acc/neg_acc = 1.00000000/0.5555556,                 pos_pred/all_pred = 15/20\n",
      "step 3095| pos_acc/neg_acc = 0.62500000/0.9166667,                 pos_pred/all_pred =  6/20\n",
      "step 3096| pos_acc/neg_acc = 1.00000000/0.8461538,                 pos_pred/all_pred =  9/20\n",
      "step 3097| pos_acc/neg_acc = 0.63636364/1.0000000,                 pos_pred/all_pred =  8/20\n",
      "step 3098| pos_acc/neg_acc = 1.00000000/1.0000000,                 pos_pred/all_pred = 11/20\n",
      "step 3099| pos_acc/neg_acc = 1.00000000/0.7142857,                 pos_pred/all_pred = 15/20\n"
     ]
    },
    {
     "name": "stderr",
     "output_type": "stream",
     "text": [
      "INFO:SubjObjTrainer:  3100: 7 [  125/  425], train_loss/accuracy = 0.09999501/0.8850000\n"
     ]
    },
    {
     "name": "stdout",
     "output_type": "stream",
     "text": [
      "  3100: 7 [  125/  425], train_loss/accuracy = 0.09999501/0.8850000\n",
      "step 3100| pos_acc/neg_acc = 0.87500000/1.0000000,                 pos_pred/all_pred =  7/20\n",
      "step 3101| pos_acc/neg_acc = 0.88888889/1.0000000,                 pos_pred/all_pred =  8/20\n",
      "step 3102| pos_acc/neg_acc = 1.00000000/1.0000000,                 pos_pred/all_pred = 13/20\n",
      "step 3103| pos_acc/neg_acc = 1.00000000/0.8461538,                 pos_pred/all_pred =  9/20\n",
      "step 3104| pos_acc/neg_acc = 1.00000000/1.0000000,                 pos_pred/all_pred =  8/20\n",
      "step 3105| pos_acc/neg_acc = 1.00000000/1.0000000,                 pos_pred/all_pred =  7/20\n",
      "step 3106| pos_acc/neg_acc = 0.83333333/1.0000000,                 pos_pred/all_pred =  5/20\n",
      "step 3107| pos_acc/neg_acc = 1.00000000/1.0000000,                 pos_pred/all_pred =  9/20\n",
      "step 3108| pos_acc/neg_acc = 0.80000000/1.0000000,                 pos_pred/all_pred =  8/20\n",
      "step 3109| pos_acc/neg_acc = 1.00000000/0.6000000,                 pos_pred/all_pred = 14/20\n"
     ]
    },
    {
     "name": "stderr",
     "output_type": "stream",
     "text": [
      "INFO:SubjObjTrainer:  3110: 7 [  135/  425], train_loss/accuracy = 0.06851970/0.9400000\n"
     ]
    },
    {
     "name": "stdout",
     "output_type": "stream",
     "text": [
      "  3110: 7 [  135/  425], train_loss/accuracy = 0.06851970/0.9400000\n",
      "step 3110| pos_acc/neg_acc = 0.60000000/1.0000000,                 pos_pred/all_pred =  7/20\n",
      "step 3111| pos_acc/neg_acc = 1.00000000/0.7500000,                 pos_pred/all_pred = 14/20\n",
      "step 3112| pos_acc/neg_acc = 0.46153846/1.0000000,                 pos_pred/all_pred =  6/20\n",
      "step 3113| pos_acc/neg_acc = 1.00000000/0.0000000,                 pos_pred/all_pred = 20/20\n",
      "step 3114| pos_acc/neg_acc = 0.50000000/1.0000000,                 pos_pred/all_pred =  5/20\n",
      "step 3115| pos_acc/neg_acc = 0.87500000/0.6363636,                 pos_pred/all_pred = 12/20\n",
      "step 3116| pos_acc/neg_acc = 0.88888889/1.0000000,                 pos_pred/all_pred =  9/20\n",
      "step 3117| pos_acc/neg_acc = 1.00000000/0.9166667,                 pos_pred/all_pred =  9/20\n",
      "step 3118| pos_acc/neg_acc = 0.92307692/1.0000000,                 pos_pred/all_pred = 12/20\n",
      "step 3119| pos_acc/neg_acc = 1.00000000/0.7692308,                 pos_pred/all_pred = 10/20\n"
     ]
    },
    {
     "name": "stderr",
     "output_type": "stream",
     "text": [
      "INFO:SubjObjTrainer:  3120: 7 [  145/  425], train_loss/accuracy = 0.14928265/0.8000000\n"
     ]
    },
    {
     "name": "stdout",
     "output_type": "stream",
     "text": [
      "  3120: 7 [  145/  425], train_loss/accuracy = 0.14928265/0.8000000\n",
      "step 3120| pos_acc/neg_acc = 0.77777778/1.0000000,                 pos_pred/all_pred =  7/20\n",
      "step 3121| pos_acc/neg_acc = 0.90909091/0.8750000,                 pos_pred/all_pred = 12/20\n",
      "step 3122| pos_acc/neg_acc = 1.00000000/0.9230769,                 pos_pred/all_pred =  8/20\n",
      "step 3123| pos_acc/neg_acc = 0.53846154/1.0000000,                 pos_pred/all_pred =  7/20\n",
      "step 3124| pos_acc/neg_acc = 1.00000000/0.5000000,                 pos_pred/all_pred = 16/20\n",
      "step 3125| pos_acc/neg_acc = 0.84615385/1.0000000,                 pos_pred/all_pred = 11/20\n",
      "step 3126| pos_acc/neg_acc = 1.00000000/1.0000000,                 pos_pred/all_pred =  8/20\n",
      "step 3127| pos_acc/neg_acc = 0.90000000/1.0000000,                 pos_pred/all_pred =  9/20\n",
      "step 3128| pos_acc/neg_acc = 1.00000000/1.0000000,                 pos_pred/all_pred = 12/20\n",
      "step 3129| pos_acc/neg_acc = 1.00000000/1.0000000,                 pos_pred/all_pred =  8/20\n"
     ]
    },
    {
     "name": "stderr",
     "output_type": "stream",
     "text": [
      "INFO:SubjObjTrainer:  3130: 7 [  155/  425], train_loss/accuracy = 0.10109597/0.9100000\n"
     ]
    },
    {
     "name": "stdout",
     "output_type": "stream",
     "text": [
      "  3130: 7 [  155/  425], train_loss/accuracy = 0.10109597/0.9100000\n",
      "step 3130| pos_acc/neg_acc = 0.91666667/1.0000000,                 pos_pred/all_pred = 11/20\n",
      "step 3131| pos_acc/neg_acc = 1.00000000/1.0000000,                 pos_pred/all_pred = 10/20\n",
      "step 3132| pos_acc/neg_acc = 0.84615385/1.0000000,                 pos_pred/all_pred = 11/20\n",
      "step 3133| pos_acc/neg_acc = 1.00000000/1.0000000,                 pos_pred/all_pred = 10/20\n",
      "step 3134| pos_acc/neg_acc = 1.00000000/1.0000000,                 pos_pred/all_pred = 10/20\n",
      "step 3135| pos_acc/neg_acc = 1.00000000/0.7142857,                 pos_pred/all_pred = 10/20\n",
      "step 3136| pos_acc/neg_acc = 0.25000000/1.0000000,                 pos_pred/all_pred =  3/20\n",
      "step 3137| pos_acc/neg_acc = 1.00000000/0.2500000,                 pos_pred/all_pred = 18/20\n",
      "step 3138| pos_acc/neg_acc = 0.72727273/1.0000000,                 pos_pred/all_pred =  8/20\n",
      "step 3139| pos_acc/neg_acc = 1.00000000/0.5000000,                 pos_pred/all_pred = 16/20\n"
     ]
    },
    {
     "name": "stderr",
     "output_type": "stream",
     "text": [
      "INFO:SubjObjTrainer:  3140: 7 [  165/  425], train_loss/accuracy = 0.11591376/0.8500000\n"
     ]
    },
    {
     "name": "stdout",
     "output_type": "stream",
     "text": [
      "  3140: 7 [  165/  425], train_loss/accuracy = 0.11591376/0.8500000\n",
      "step 3140| pos_acc/neg_acc = 0.91666667/1.0000000,                 pos_pred/all_pred = 11/20\n",
      "step 3141| pos_acc/neg_acc = 1.00000000/1.0000000,                 pos_pred/all_pred =  8/20\n",
      "step 3142| pos_acc/neg_acc = 0.88888889/1.0000000,                 pos_pred/all_pred =  9/20\n",
      "step 3143| pos_acc/neg_acc = 1.00000000/1.0000000,                 pos_pred/all_pred = 14/20\n",
      "step 3144| pos_acc/neg_acc = 1.00000000/0.5714286,                 pos_pred/all_pred = 16/20\n",
      "step 3145| pos_acc/neg_acc = 1.00000000/0.9166667,                 pos_pred/all_pred =  9/20\n",
      "step 3146| pos_acc/neg_acc = 0.42857143/1.0000000,                 pos_pred/all_pred =  4/20\n",
      "step 3147| pos_acc/neg_acc = 1.00000000/0.8750000,                 pos_pred/all_pred = 13/20\n",
      "step 3148| pos_acc/neg_acc = 0.72727273/1.0000000,                 pos_pred/all_pred =  9/20\n",
      "step 3149| pos_acc/neg_acc = 1.00000000/0.8666667,                 pos_pred/all_pred =  7/20\n"
     ]
    },
    {
     "name": "stderr",
     "output_type": "stream",
     "text": [
      "INFO:SubjObjTrainer:  3150: 7 [  175/  425], train_loss/accuracy = 0.07102968/0.9150000\n"
     ]
    },
    {
     "name": "stdout",
     "output_type": "stream",
     "text": [
      "  3150: 7 [  175/  425], train_loss/accuracy = 0.07102968/0.9150000\n",
      "step 3150| pos_acc/neg_acc = 0.80000000/1.0000000,                 pos_pred/all_pred =  8/20\n",
      "step 3151| pos_acc/neg_acc = 1.00000000/0.8888889,                 pos_pred/all_pred = 12/20\n",
      "step 3152| pos_acc/neg_acc = 1.00000000/1.0000000,                 pos_pred/all_pred =  8/20\n",
      "step 3153| pos_acc/neg_acc = 1.00000000/1.0000000,                 pos_pred/all_pred = 11/20\n",
      "step 3154| pos_acc/neg_acc = 0.81818182/1.0000000,                 pos_pred/all_pred = 10/20\n",
      "step 3155| pos_acc/neg_acc = 1.00000000/0.5555556,                 pos_pred/all_pred = 15/20\n",
      "step 3156| pos_acc/neg_acc = 0.77777778/1.0000000,                 pos_pred/all_pred =  7/20\n",
      "step 3157| pos_acc/neg_acc = 0.90000000/0.7777778,                 pos_pred/all_pred = 12/20\n",
      "step 3158| pos_acc/neg_acc = 0.88888889/1.0000000,                 pos_pred/all_pred =  9/20\n",
      "step 3159| pos_acc/neg_acc = 1.00000000/1.0000000,                 pos_pred/all_pred =  8/20\n"
     ]
    },
    {
     "name": "stderr",
     "output_type": "stream",
     "text": [
      "INFO:SubjObjTrainer:  3160: 7 [  185/  425], train_loss/accuracy = 0.06671127/0.9250000\n"
     ]
    },
    {
     "name": "stdout",
     "output_type": "stream",
     "text": [
      "  3160: 7 [  185/  425], train_loss/accuracy = 0.06671127/0.9250000\n",
      "step 3160| pos_acc/neg_acc = 0.80000000/1.0000000,                 pos_pred/all_pred =  9/20\n",
      "step 3161| pos_acc/neg_acc = 1.00000000/0.8235294,                 pos_pred/all_pred =  6/20\n",
      "step 3162| pos_acc/neg_acc = 0.37500000/1.0000000,                 pos_pred/all_pred =  3/20\n",
      "step 3163| pos_acc/neg_acc = 1.00000000/0.8333333,                 pos_pred/all_pred = 10/20\n",
      "step 3164| pos_acc/neg_acc = 1.00000000/1.0000000,                 pos_pred/all_pred =  6/20\n",
      "step 3165| pos_acc/neg_acc = 0.70000000/1.0000000,                 pos_pred/all_pred =  7/20\n",
      "step 3166| pos_acc/neg_acc = 1.00000000/1.0000000,                 pos_pred/all_pred =  8/20\n",
      "step 3167| pos_acc/neg_acc = 0.83333333/1.0000000,                 pos_pred/all_pred = 10/20\n",
      "step 3168| pos_acc/neg_acc = 1.00000000/0.7142857,                 pos_pred/all_pred = 15/20\n",
      "step 3169| pos_acc/neg_acc = 0.86666667/1.0000000,                 pos_pred/all_pred = 14/20\n"
     ]
    },
    {
     "name": "stderr",
     "output_type": "stream",
     "text": [
      "INFO:SubjObjTrainer:  3170: 7 [  195/  425], train_loss/accuracy = 0.08981379/0.8900000\n"
     ]
    },
    {
     "name": "stdout",
     "output_type": "stream",
     "text": [
      "  3170: 7 [  195/  425], train_loss/accuracy = 0.08981379/0.8900000\n",
      "step 3170| pos_acc/neg_acc = 1.00000000/0.7272727,                 pos_pred/all_pred = 12/20\n",
      "step 3171| pos_acc/neg_acc = 0.44444444/1.0000000,                 pos_pred/all_pred =  5/20\n",
      "step 3172| pos_acc/neg_acc = 1.00000000/0.5000000,                 pos_pred/all_pred = 14/20\n",
      "step 3173| pos_acc/neg_acc = 0.62500000/1.0000000,                 pos_pred/all_pred =  6/20\n",
      "step 3174| pos_acc/neg_acc = 0.77777778/0.9090909,                 pos_pred/all_pred =  8/20\n",
      "step 3175| pos_acc/neg_acc = 0.90000000/1.0000000,                 pos_pred/all_pred =  9/20\n",
      "step 3176| pos_acc/neg_acc = 0.91666667/0.6250000,                 pos_pred/all_pred = 14/20\n",
      "step 3177| pos_acc/neg_acc = 0.70000000/1.0000000,                 pos_pred/all_pred =  7/20\n",
      "step 3178| pos_acc/neg_acc = 1.00000000/0.7000000,                 pos_pred/all_pred = 13/20\n",
      "step 3179| pos_acc/neg_acc = 0.81818182/1.0000000,                 pos_pred/all_pred = 10/20\n"
     ]
    },
    {
     "name": "stderr",
     "output_type": "stream",
     "text": [
      "INFO:SubjObjTrainer:  3180: 7 [  205/  425], train_loss/accuracy = 0.12430625/0.8350000\n"
     ]
    },
    {
     "name": "stdout",
     "output_type": "stream",
     "text": [
      "  3180: 7 [  205/  425], train_loss/accuracy = 0.12430625/0.8350000\n",
      "step 3180| pos_acc/neg_acc = 0.90000000/1.0000000,                 pos_pred/all_pred = 10/20\n",
      "step 3181| pos_acc/neg_acc = 1.00000000/0.9230769,                 pos_pred/all_pred =  8/20\n",
      "step 3182| pos_acc/neg_acc = 0.81818182/1.0000000,                 pos_pred/all_pred =  9/20\n",
      "step 3183| pos_acc/neg_acc = 1.00000000/0.6363636,                 pos_pred/all_pred = 13/20\n",
      "step 3184| pos_acc/neg_acc = 0.50000000/1.0000000,                 pos_pred/all_pred =  3/20\n",
      "step 3185| pos_acc/neg_acc = 0.91666667/1.0000000,                 pos_pred/all_pred = 12/20\n",
      "step 3186| pos_acc/neg_acc = 1.00000000/0.9166667,                 pos_pred/all_pred =  9/20\n",
      "step 3187| pos_acc/neg_acc = 0.62500000/1.0000000,                 pos_pred/all_pred =  6/20\n",
      "step 3188| pos_acc/neg_acc = 1.00000000/0.9230769,                 pos_pred/all_pred =  8/20\n",
      "step 3189| pos_acc/neg_acc = 0.66666667/1.0000000,                 pos_pred/all_pred =  7/20\n"
     ]
    },
    {
     "name": "stderr",
     "output_type": "stream",
     "text": [
      "INFO:SubjObjTrainer:  3190: 7 [  215/  425], train_loss/accuracy = 0.08373486/0.9000000\n"
     ]
    },
    {
     "name": "stdout",
     "output_type": "stream",
     "text": [
      "  3190: 7 [  215/  425], train_loss/accuracy = 0.08373486/0.9000000\n",
      "step 3190| pos_acc/neg_acc = 1.00000000/1.0000000,                 pos_pred/all_pred =  8/20\n",
      "step 3191| pos_acc/neg_acc = 0.72727273/1.0000000,                 pos_pred/all_pred =  9/20\n",
      "step 3192| pos_acc/neg_acc = 1.00000000/1.0000000,                 pos_pred/all_pred =  8/20\n",
      "step 3193| pos_acc/neg_acc = 0.81818182/1.0000000,                 pos_pred/all_pred =  9/20\n",
      "step 3194| pos_acc/neg_acc = 1.00000000/0.8571429,                 pos_pred/all_pred = 14/20\n",
      "step 3195| pos_acc/neg_acc = 1.00000000/1.0000000,                 pos_pred/all_pred =  8/20\n",
      "step 3196| pos_acc/neg_acc = 0.71428571/1.0000000,                 pos_pred/all_pred = 10/20\n",
      "step 3197| pos_acc/neg_acc = 1.00000000/0.5833333,                 pos_pred/all_pred = 13/20\n",
      "step 3198| pos_acc/neg_acc = 1.00000000/1.0000000,                 pos_pred/all_pred =  9/20\n",
      "step 3199| pos_acc/neg_acc = 0.90909091/1.0000000,                 pos_pred/all_pred = 11/20\n"
     ]
    },
    {
     "name": "stderr",
     "output_type": "stream",
     "text": [
      "INFO:SubjObjTrainer:  3200: 7 [  225/  425], train_loss/accuracy = 0.08189877/0.9200000\n"
     ]
    },
    {
     "name": "stdout",
     "output_type": "stream",
     "text": [
      "  3200: 7 [  225/  425], train_loss/accuracy = 0.08189877/0.9200000\n",
      "step 3200| pos_acc/neg_acc = 1.00000000/1.0000000,                 pos_pred/all_pred =  9/20\n",
      "step 3201| pos_acc/neg_acc = 0.66666667/0.8571429,                 pos_pred/all_pred = 10/20\n",
      "step 3202| pos_acc/neg_acc = 1.00000000/0.4545455,                 pos_pred/all_pred = 15/20\n",
      "step 3203| pos_acc/neg_acc = 0.57142857/1.0000000,                 pos_pred/all_pred =  4/20\n",
      "step 3204| pos_acc/neg_acc = 1.00000000/0.5384615,                 pos_pred/all_pred = 13/20\n",
      "step 3205| pos_acc/neg_acc = 0.33333333/1.0000000,                 pos_pred/all_pred =  3/20\n",
      "step 3206| pos_acc/neg_acc = 1.00000000/0.5000000,                 pos_pred/all_pred = 15/20\n",
      "step 3207| pos_acc/neg_acc = 0.44444444/0.9090909,                 pos_pred/all_pred =  5/20\n",
      "step 3208| pos_acc/neg_acc = 1.00000000/0.8333333,                 pos_pred/all_pred = 15/20\n",
      "step 3209| pos_acc/neg_acc = 0.75000000/1.0000000,                 pos_pred/all_pred =  6/20\n"
     ]
    },
    {
     "name": "stderr",
     "output_type": "stream",
     "text": [
      "INFO:SubjObjTrainer:  3210: 7 [  235/  425], train_loss/accuracy = 0.13886465/0.7950000\n"
     ]
    },
    {
     "name": "stdout",
     "output_type": "stream",
     "text": [
      "  3210: 7 [  235/  425], train_loss/accuracy = 0.13886465/0.7950000\n",
      "step 3210| pos_acc/neg_acc = 1.00000000/1.0000000,                 pos_pred/all_pred = 11/20\n",
      "step 3211| pos_acc/neg_acc = 0.90000000/1.0000000,                 pos_pred/all_pred =  9/20\n",
      "step 3212| pos_acc/neg_acc = 0.83333333/1.0000000,                 pos_pred/all_pred = 10/20\n",
      "step 3213| pos_acc/neg_acc = 1.00000000/0.9285714,                 pos_pred/all_pred =  7/20\n",
      "step 3214| pos_acc/neg_acc = 0.58333333/1.0000000,                 pos_pred/all_pred =  8/20\n",
      "step 3215| pos_acc/neg_acc = 1.00000000/0.5833333,                 pos_pred/all_pred = 13/20\n",
      "step 3216| pos_acc/neg_acc = 0.55555556/1.0000000,                 pos_pred/all_pred =  6/20\n",
      "step 3217| pos_acc/neg_acc = 0.80000000/0.7000000,                 pos_pred/all_pred = 11/20\n",
      "step 3218| pos_acc/neg_acc = 0.83333333/1.0000000,                 pos_pred/all_pred = 11/20\n",
      "step 3219| pos_acc/neg_acc = 1.00000000/0.7777778,                 pos_pred/all_pred = 13/20\n"
     ]
    },
    {
     "name": "stderr",
     "output_type": "stream",
     "text": [
      "INFO:SubjObjTrainer:  3220: 7 [  245/  425], train_loss/accuracy = 0.09796152/0.8650000\n"
     ]
    },
    {
     "name": "stdout",
     "output_type": "stream",
     "text": [
      "  3220: 7 [  245/  425], train_loss/accuracy = 0.09796152/0.8650000\n",
      "step 3220| pos_acc/neg_acc = 0.75000000/0.9090909,                 pos_pred/all_pred =  8/20\n",
      "step 3221| pos_acc/neg_acc = 1.00000000/1.0000000,                 pos_pred/all_pred =  4/20\n",
      "step 3222| pos_acc/neg_acc = 0.80000000/1.0000000,                 pos_pred/all_pred =  8/20\n",
      "step 3223| pos_acc/neg_acc = 0.91666667/0.8571429,                 pos_pred/all_pred = 13/20\n",
      "step 3224| pos_acc/neg_acc = 1.00000000/0.9090909,                 pos_pred/all_pred = 10/20\n",
      "step 3225| pos_acc/neg_acc = 0.75000000/1.0000000,                 pos_pred/all_pred =  6/20\n",
      "step 3226| pos_acc/neg_acc = 1.00000000/0.7777778,                 pos_pred/all_pred = 13/20\n",
      "step 3227| pos_acc/neg_acc = 0.72727273/1.0000000,                 pos_pred/all_pred =  8/20\n",
      "step 3228| pos_acc/neg_acc = 1.00000000/0.8000000,                 pos_pred/all_pred = 12/20\n",
      "step 3229| pos_acc/neg_acc = 0.87500000/1.0000000,                 pos_pred/all_pred =  8/20\n"
     ]
    },
    {
     "name": "stderr",
     "output_type": "stream",
     "text": [
      "INFO:SubjObjTrainer:  3230: 7 [  255/  425], train_loss/accuracy = 0.09270849/0.9050000\n"
     ]
    },
    {
     "name": "stdout",
     "output_type": "stream",
     "text": [
      "  3230: 7 [  255/  425], train_loss/accuracy = 0.09270849/0.9050000\n",
      "step 3230| pos_acc/neg_acc = 0.81818182/1.0000000,                 pos_pred/all_pred = 10/20\n",
      "step 3231| pos_acc/neg_acc = 0.85714286/1.0000000,                 pos_pred/all_pred =  7/20\n",
      "step 3232| pos_acc/neg_acc = 0.72727273/1.0000000,                 pos_pred/all_pred =  8/20\n",
      "step 3233| pos_acc/neg_acc = 1.00000000/0.8181818,                 pos_pred/all_pred = 11/20\n",
      "step 3234| pos_acc/neg_acc = 0.57142857/0.9166667,                 pos_pred/all_pred =  6/20\n",
      "step 3235| pos_acc/neg_acc = 1.00000000/1.0000000,                 pos_pred/all_pred = 10/20\n",
      "step 3236| pos_acc/neg_acc = 0.75000000/0.9090909,                 pos_pred/all_pred =  8/20\n",
      "step 3237| pos_acc/neg_acc = 1.00000000/1.0000000,                 pos_pred/all_pred = 11/20\n",
      "step 3238| pos_acc/neg_acc = 0.91666667/0.8750000,                 pos_pred/all_pred = 12/20\n",
      "step 3239| pos_acc/neg_acc = 1.00000000/1.0000000,                 pos_pred/all_pred =  6/20\n"
     ]
    },
    {
     "name": "stderr",
     "output_type": "stream",
     "text": [
      "INFO:SubjObjTrainer:  3240: 7 [  265/  425], train_loss/accuracy = 0.08068979/0.9150000\n"
     ]
    },
    {
     "name": "stdout",
     "output_type": "stream",
     "text": [
      "  3240: 7 [  265/  425], train_loss/accuracy = 0.08068979/0.9150000\n",
      "step 3240| pos_acc/neg_acc = 0.88888889/1.0000000,                 pos_pred/all_pred =  9/20\n",
      "step 3241| pos_acc/neg_acc = 1.00000000/0.8750000,                 pos_pred/all_pred = 13/20\n",
      "step 3242| pos_acc/neg_acc = 1.00000000/1.0000000,                 pos_pred/all_pred =  6/20\n",
      "step 3243| pos_acc/neg_acc = 0.80000000/0.8666667,                 pos_pred/all_pred =  6/20\n",
      "step 3244| pos_acc/neg_acc = 0.81818182/0.8888889,                 pos_pred/all_pred = 10/20\n",
      "step 3245| pos_acc/neg_acc = 1.00000000/0.8888889,                 pos_pred/all_pred = 12/20\n",
      "step 3246| pos_acc/neg_acc = 1.00000000/1.0000000,                 pos_pred/all_pred = 11/20\n",
      "step 3247| pos_acc/neg_acc = 0.58333333/1.0000000,                 pos_pred/all_pred =  7/20\n",
      "step 3248| pos_acc/neg_acc = 0.90909091/0.5000000,                 pos_pred/all_pred = 15/20\n",
      "step 3249| pos_acc/neg_acc = 0.91666667/0.7142857,                 pos_pred/all_pred = 14/20\n"
     ]
    },
    {
     "name": "stderr",
     "output_type": "stream",
     "text": [
      "INFO:SubjObjTrainer:  3250: 7 [  275/  425], train_loss/accuracy = 0.08416846/0.8900000\n"
     ]
    },
    {
     "name": "stdout",
     "output_type": "stream",
     "text": [
      "  3250: 7 [  275/  425], train_loss/accuracy = 0.08416846/0.8900000\n",
      "step 3250| pos_acc/neg_acc = 1.00000000/1.0000000,                 pos_pred/all_pred =  9/20\n",
      "step 3251| pos_acc/neg_acc = 1.00000000/0.7500000,                 pos_pred/all_pred = 14/20\n",
      "step 3252| pos_acc/neg_acc = 0.66666667/0.9090909,                 pos_pred/all_pred =  7/20\n",
      "step 3253| pos_acc/neg_acc = 1.00000000/1.0000000,                 pos_pred/all_pred =  9/20\n",
      "step 3254| pos_acc/neg_acc = 0.87500000/1.0000000,                 pos_pred/all_pred =  7/20\n",
      "step 3255| pos_acc/neg_acc = 0.88888889/1.0000000,                 pos_pred/all_pred =  8/20\n",
      "step 3256| pos_acc/neg_acc = 1.00000000/0.9090909,                 pos_pred/all_pred = 10/20\n",
      "step 3257| pos_acc/neg_acc = 0.50000000/1.0000000,                 pos_pred/all_pred =  2/20\n",
      "step 3258| pos_acc/neg_acc = 1.00000000/1.0000000,                 pos_pred/all_pred = 12/20\n",
      "step 3259| pos_acc/neg_acc = 0.81818182/1.0000000,                 pos_pred/all_pred =  9/20\n"
     ]
    },
    {
     "name": "stderr",
     "output_type": "stream",
     "text": [
      "INFO:SubjObjTrainer:  3260: 7 [  285/  425], train_loss/accuracy = 0.06786920/0.9300000\n"
     ]
    },
    {
     "name": "stdout",
     "output_type": "stream",
     "text": [
      "  3260: 7 [  285/  425], train_loss/accuracy = 0.06786920/0.9300000\n",
      "step 3260| pos_acc/neg_acc = 1.00000000/0.7500000,                 pos_pred/all_pred = 14/20\n",
      "step 3261| pos_acc/neg_acc = 0.80000000/1.0000000,                 pos_pred/all_pred =  9/20\n",
      "step 3262| pos_acc/neg_acc = 1.00000000/0.9000000,                 pos_pred/all_pred = 11/20\n",
      "step 3263| pos_acc/neg_acc = 1.00000000/1.0000000,                 pos_pred/all_pred = 12/20\n",
      "step 3264| pos_acc/neg_acc = 1.00000000/0.9000000,                 pos_pred/all_pred = 11/20\n",
      "step 3265| pos_acc/neg_acc = 0.91666667/1.0000000,                 pos_pred/all_pred = 12/20\n",
      "step 3266| pos_acc/neg_acc = 1.00000000/0.7777778,                 pos_pred/all_pred = 13/20\n",
      "step 3267| pos_acc/neg_acc = 0.45454545/1.0000000,                 pos_pred/all_pred =  5/20\n",
      "step 3268| pos_acc/neg_acc = 1.00000000/0.2222222,                 pos_pred/all_pred = 18/20\n",
      "step 3269| pos_acc/neg_acc = 0.81818182/1.0000000,                 pos_pred/all_pred =  9/20\n"
     ]
    },
    {
     "name": "stderr",
     "output_type": "stream",
     "text": [
      "INFO:SubjObjTrainer:  3270: 7 [  295/  425], train_loss/accuracy = 0.10778206/0.8800000\n"
     ]
    },
    {
     "name": "stdout",
     "output_type": "stream",
     "text": [
      "  3270: 7 [  295/  425], train_loss/accuracy = 0.10778206/0.8800000\n",
      "step 3270| pos_acc/neg_acc = 1.00000000/0.9000000,                 pos_pred/all_pred = 11/20\n",
      "step 3271| pos_acc/neg_acc = 0.71428571/0.8333333,                 pos_pred/all_pred =  8/20\n",
      "step 3272| pos_acc/neg_acc = 0.88888889/1.0000000,                 pos_pred/all_pred =  8/20\n",
      "step 3273| pos_acc/neg_acc = 0.91666667/1.0000000,                 pos_pred/all_pred = 11/20\n",
      "step 3274| pos_acc/neg_acc = 1.00000000/1.0000000,                 pos_pred/all_pred =  7/20\n",
      "step 3275| pos_acc/neg_acc = 0.88888889/1.0000000,                 pos_pred/all_pred =  8/20\n",
      "step 3276| pos_acc/neg_acc = 1.00000000/1.0000000,                 pos_pred/all_pred =  9/20\n",
      "step 3277| pos_acc/neg_acc = 0.91666667/1.0000000,                 pos_pred/all_pred = 12/20\n",
      "step 3278| pos_acc/neg_acc = 1.00000000/0.8333333,                 pos_pred/all_pred = 10/20\n",
      "step 3279| pos_acc/neg_acc = 0.75000000/1.0000000,                 pos_pred/all_pred =  6/20\n"
     ]
    },
    {
     "name": "stderr",
     "output_type": "stream",
     "text": [
      "INFO:SubjObjTrainer:  3280: 7 [  305/  425], train_loss/accuracy = 0.06990152/0.9300000\n"
     ]
    },
    {
     "name": "stdout",
     "output_type": "stream",
     "text": [
      "  3280: 7 [  305/  425], train_loss/accuracy = 0.06990152/0.9300000\n",
      "step 3280| pos_acc/neg_acc = 1.00000000/0.8333333,                 pos_pred/all_pred = 15/20\n",
      "step 3281| pos_acc/neg_acc = 1.00000000/1.0000000,                 pos_pred/all_pred = 10/20\n",
      "step 3282| pos_acc/neg_acc = 1.00000000/1.0000000,                 pos_pred/all_pred =  9/20\n",
      "step 3283| pos_acc/neg_acc = 1.00000000/1.0000000,                 pos_pred/all_pred = 15/20\n",
      "step 3284| pos_acc/neg_acc = 1.00000000/0.9000000,                 pos_pred/all_pred = 11/20\n",
      "step 3285| pos_acc/neg_acc = 0.72727273/1.0000000,                 pos_pred/all_pred =  9/20\n",
      "step 3286| pos_acc/neg_acc = 1.00000000/0.7500000,                 pos_pred/all_pred = 11/20\n",
      "step 3287| pos_acc/neg_acc = 0.80000000/1.0000000,                 pos_pred/all_pred =  8/20\n",
      "step 3288| pos_acc/neg_acc = 0.81818182/0.8888889,                 pos_pred/all_pred = 10/20\n",
      "step 3289| pos_acc/neg_acc = 0.88888889/1.0000000,                 pos_pred/all_pred =  8/20\n"
     ]
    },
    {
     "name": "stderr",
     "output_type": "stream",
     "text": [
      "INFO:SubjObjTrainer:  3290: 7 [  315/  425], train_loss/accuracy = 0.08336686/0.9200000\n"
     ]
    },
    {
     "name": "stdout",
     "output_type": "stream",
     "text": [
      "  3290: 7 [  315/  425], train_loss/accuracy = 0.08336686/0.9200000\n",
      "step 3290| pos_acc/neg_acc = 1.00000000/0.4545455,                 pos_pred/all_pred = 15/20\n",
      "step 3291| pos_acc/neg_acc = 0.55555556/1.0000000,                 pos_pred/all_pred =  5/20\n",
      "step 3292| pos_acc/neg_acc = 1.00000000/0.8181818,                 pos_pred/all_pred = 11/20\n",
      "step 3293| pos_acc/neg_acc = 0.50000000/1.0000000,                 pos_pred/all_pred =  3/20\n",
      "step 3294| pos_acc/neg_acc = 1.00000000/1.0000000,                 pos_pred/all_pred = 12/20\n",
      "step 3295| pos_acc/neg_acc = 0.88888889/1.0000000,                 pos_pred/all_pred =  9/20\n",
      "step 3296| pos_acc/neg_acc = 1.00000000/1.0000000,                 pos_pred/all_pred =  7/20\n",
      "step 3297| pos_acc/neg_acc = 0.72727273/1.0000000,                 pos_pred/all_pred =  9/20\n",
      "step 3298| pos_acc/neg_acc = 1.00000000/0.8461538,                 pos_pred/all_pred =  9/20\n",
      "step 3299| pos_acc/neg_acc = 0.55555556/1.0000000,                 pos_pred/all_pred =  6/20\n"
     ]
    },
    {
     "name": "stderr",
     "output_type": "stream",
     "text": [
      "INFO:SubjObjTrainer:  3300: 7 [  325/  425], train_loss/accuracy = 0.11336491/0.8750000\n"
     ]
    },
    {
     "name": "stdout",
     "output_type": "stream",
     "text": [
      "  3300: 7 [  325/  425], train_loss/accuracy = 0.11336491/0.8750000\n",
      "step 3300| pos_acc/neg_acc = 1.00000000/0.5555556,                 pos_pred/all_pred = 15/20\n",
      "step 3301| pos_acc/neg_acc = 0.77777778/1.0000000,                 pos_pred/all_pred =  7/20\n",
      "step 3302| pos_acc/neg_acc = 0.83333333/0.8750000,                 pos_pred/all_pred = 11/20\n",
      "step 3303| pos_acc/neg_acc = 1.00000000/0.8571429,                 pos_pred/all_pred = 14/20\n",
      "step 3304| pos_acc/neg_acc = 0.87500000/0.9090909,                 pos_pred/all_pred =  9/20\n",
      "step 3305| pos_acc/neg_acc = 0.91666667/0.8571429,                 pos_pred/all_pred = 13/20\n",
      "step 3306| pos_acc/neg_acc = 0.88888889/1.0000000,                 pos_pred/all_pred =  9/20\n",
      "step 3307| pos_acc/neg_acc = 0.72727273/1.0000000,                 pos_pred/all_pred =  9/20\n",
      "step 3308| pos_acc/neg_acc = 1.00000000/0.4444444,                 pos_pred/all_pred = 16/20\n",
      "step 3309| pos_acc/neg_acc = 0.72727273/1.0000000,                 pos_pred/all_pred =  8/20\n"
     ]
    },
    {
     "name": "stderr",
     "output_type": "stream",
     "text": [
      "INFO:SubjObjTrainer:  3310: 7 [  335/  425], train_loss/accuracy = 0.09115957/0.8650000\n"
     ]
    },
    {
     "name": "stdout",
     "output_type": "stream",
     "text": [
      "  3310: 7 [  335/  425], train_loss/accuracy = 0.09115957/0.8650000\n",
      "step 3310| pos_acc/neg_acc = 1.00000000/0.6363636,                 pos_pred/all_pred = 12/20\n",
      "step 3311| pos_acc/neg_acc = 0.90909091/1.0000000,                 pos_pred/all_pred = 10/20\n",
      "step 3312| pos_acc/neg_acc = 1.00000000/1.0000000,                 pos_pred/all_pred = 14/20\n",
      "step 3313| pos_acc/neg_acc = 1.00000000/1.0000000,                 pos_pred/all_pred = 10/20\n",
      "step 3314| pos_acc/neg_acc = 0.81818182/1.0000000,                 pos_pred/all_pred =  9/20\n",
      "step 3315| pos_acc/neg_acc = 0.91666667/1.0000000,                 pos_pred/all_pred = 11/20\n",
      "step 3316| pos_acc/neg_acc = 1.00000000/1.0000000,                 pos_pred/all_pred =  9/20\n",
      "step 3317| pos_acc/neg_acc = 0.90000000/0.9000000,                 pos_pred/all_pred = 10/20\n",
      "step 3318| pos_acc/neg_acc = 1.00000000/1.0000000,                 pos_pred/all_pred = 10/20\n",
      "step 3319| pos_acc/neg_acc = 0.87500000/1.0000000,                 pos_pred/all_pred =  7/20\n"
     ]
    },
    {
     "name": "stderr",
     "output_type": "stream",
     "text": [
      "INFO:SubjObjTrainer:  3320: 7 [  345/  425], train_loss/accuracy = 0.07055546/0.9350000\n"
     ]
    },
    {
     "name": "stdout",
     "output_type": "stream",
     "text": [
      "  3320: 7 [  345/  425], train_loss/accuracy = 0.07055546/0.9350000\n",
      "step 3320| pos_acc/neg_acc = 0.87500000/1.0000000,                 pos_pred/all_pred =  8/20\n",
      "step 3321| pos_acc/neg_acc = 0.92307692/0.8333333,                 pos_pred/all_pred = 14/20\n",
      "step 3322| pos_acc/neg_acc = 0.92307692/0.8333333,                 pos_pred/all_pred = 14/20\n",
      "step 3323| pos_acc/neg_acc = 1.00000000/1.0000000,                 pos_pred/all_pred = 10/20\n",
      "step 3324| pos_acc/neg_acc = 0.66666667/1.0000000,                 pos_pred/all_pred =  4/20\n",
      "step 3325| pos_acc/neg_acc = 1.00000000/1.0000000,                 pos_pred/all_pred =  9/20\n",
      "step 3326| pos_acc/neg_acc = 1.00000000/1.0000000,                 pos_pred/all_pred = 10/20\n",
      "step 3327| pos_acc/neg_acc = 1.00000000/0.9166667,                 pos_pred/all_pred =  9/20\n",
      "step 3328| pos_acc/neg_acc = 0.88888889/0.9000000,                 pos_pred/all_pred = 10/20\n",
      "step 3329| pos_acc/neg_acc = 0.87500000/1.0000000,                 pos_pred/all_pred =  8/20\n"
     ]
    },
    {
     "name": "stderr",
     "output_type": "stream",
     "text": [
      "INFO:SubjObjTrainer:  3330: 7 [  355/  425], train_loss/accuracy = 0.06591682/0.9450000\n"
     ]
    },
    {
     "name": "stdout",
     "output_type": "stream",
     "text": [
      "  3330: 7 [  355/  425], train_loss/accuracy = 0.06591682/0.9450000\n",
      "step 3330| pos_acc/neg_acc = 1.00000000/0.5555556,                 pos_pred/all_pred = 15/20\n",
      "step 3331| pos_acc/neg_acc = 0.33333333/1.0000000,                 pos_pred/all_pred =  3/20\n",
      "step 3332| pos_acc/neg_acc = 1.00000000/0.8461538,                 pos_pred/all_pred =  9/20\n",
      "step 3333| pos_acc/neg_acc = 0.44444444/1.0000000,                 pos_pred/all_pred =  5/20\n",
      "step 3334| pos_acc/neg_acc = 1.00000000/0.7500000,                 pos_pred/all_pred = 14/20\n",
      "step 3335| pos_acc/neg_acc = 0.80000000/1.0000000,                 pos_pred/all_pred =  4/20\n",
      "step 3336| pos_acc/neg_acc = 0.87500000/1.0000000,                 pos_pred/all_pred =  7/20\n",
      "step 3337| pos_acc/neg_acc = 0.91666667/1.0000000,                 pos_pred/all_pred = 11/20\n",
      "step 3338| pos_acc/neg_acc = 1.00000000/1.0000000,                 pos_pred/all_pred =  7/20\n",
      "step 3339| pos_acc/neg_acc = 0.75000000/1.0000000,                 pos_pred/all_pred =  6/20\n"
     ]
    },
    {
     "name": "stderr",
     "output_type": "stream",
     "text": [
      "INFO:SubjObjTrainer:  3340: 7 [  365/  425], train_loss/accuracy = 0.08579095/0.8850000\n"
     ]
    },
    {
     "name": "stdout",
     "output_type": "stream",
     "text": [
      "  3340: 7 [  365/  425], train_loss/accuracy = 0.08579095/0.8850000\n",
      "step 3340| pos_acc/neg_acc = 0.80000000/0.7777778,                 pos_pred/all_pred = 11/20\n",
      "step 3341| pos_acc/neg_acc = 0.83333333/1.0000000,                 pos_pred/all_pred = 10/20\n",
      "step 3342| pos_acc/neg_acc = 1.00000000/0.9166667,                 pos_pred/all_pred =  9/20\n",
      "step 3343| pos_acc/neg_acc = 0.77777778/1.0000000,                 pos_pred/all_pred =  7/20\n",
      "step 3344| pos_acc/neg_acc = 0.83333333/0.8750000,                 pos_pred/all_pred = 11/20\n",
      "step 3345| pos_acc/neg_acc = 1.00000000/0.8888889,                 pos_pred/all_pred = 12/20\n",
      "step 3346| pos_acc/neg_acc = 1.00000000/1.0000000,                 pos_pred/all_pred = 10/20\n",
      "step 3347| pos_acc/neg_acc = 1.00000000/0.9090909,                 pos_pred/all_pred = 10/20\n",
      "step 3348| pos_acc/neg_acc = 0.62500000/1.0000000,                 pos_pred/all_pred =  6/20\n",
      "step 3349| pos_acc/neg_acc = 1.00000000/0.7500000,                 pos_pred/all_pred = 14/20\n"
     ]
    },
    {
     "name": "stderr",
     "output_type": "stream",
     "text": [
      "INFO:SubjObjTrainer:  3350: 7 [  375/  425], train_loss/accuracy = 0.07679182/0.9050000\n"
     ]
    },
    {
     "name": "stdout",
     "output_type": "stream",
     "text": [
      "  3350: 7 [  375/  425], train_loss/accuracy = 0.07679182/0.9050000\n",
      "step 3350| pos_acc/neg_acc = 0.80000000/1.0000000,                 pos_pred/all_pred =  8/20\n",
      "step 3351| pos_acc/neg_acc = 0.91666667/0.8571429,                 pos_pred/all_pred = 13/20\n",
      "step 3352| pos_acc/neg_acc = 0.90000000/0.9000000,                 pos_pred/all_pred = 10/20\n",
      "step 3353| pos_acc/neg_acc = 1.00000000/0.9090909,                 pos_pred/all_pred = 10/20\n",
      "step 3354| pos_acc/neg_acc = 0.88888889/1.0000000,                 pos_pred/all_pred =  9/20\n",
      "step 3355| pos_acc/neg_acc = 0.91666667/1.0000000,                 pos_pred/all_pred = 11/20\n",
      "step 3356| pos_acc/neg_acc = 1.00000000/1.0000000,                 pos_pred/all_pred =  6/20\n",
      "step 3357| pos_acc/neg_acc = 1.00000000/1.0000000,                 pos_pred/all_pred =  8/20\n",
      "step 3358| pos_acc/neg_acc = 0.72727273/1.0000000,                 pos_pred/all_pred =  9/20\n",
      "step 3359| pos_acc/neg_acc = 0.87500000/0.8333333,                 pos_pred/all_pred =  9/20\n"
     ]
    },
    {
     "name": "stderr",
     "output_type": "stream",
     "text": [
      "INFO:SubjObjTrainer:  3360: 7 [  385/  425], train_loss/accuracy = 0.07816856/0.9250000\n"
     ]
    },
    {
     "name": "stdout",
     "output_type": "stream",
     "text": [
      "  3360: 7 [  385/  425], train_loss/accuracy = 0.07816856/0.9250000\n",
      "step 3360| pos_acc/neg_acc = 0.63636364/1.0000000,                 pos_pred/all_pred =  8/20\n",
      "step 3361| pos_acc/neg_acc = 1.00000000/0.5555556,                 pos_pred/all_pred = 15/20\n",
      "step 3362| pos_acc/neg_acc = 0.81818182/1.0000000,                 pos_pred/all_pred =  9/20\n",
      "step 3363| pos_acc/neg_acc = 1.00000000/0.8888889,                 pos_pred/all_pred = 12/20\n",
      "step 3364| pos_acc/neg_acc = 0.88888889/1.0000000,                 pos_pred/all_pred =  8/20\n",
      "step 3365| pos_acc/neg_acc = 1.00000000/1.0000000,                 pos_pred/all_pred = 12/20\n",
      "step 3366| pos_acc/neg_acc = 1.00000000/0.7000000,                 pos_pred/all_pred = 13/20\n",
      "step 3367| pos_acc/neg_acc = 0.83333333/1.0000000,                 pos_pred/all_pred = 10/20\n",
      "step 3368| pos_acc/neg_acc = 1.00000000/0.8888889,                 pos_pred/all_pred = 12/20\n",
      "step 3369| pos_acc/neg_acc = 0.90909091/1.0000000,                 pos_pred/all_pred = 10/20\n"
     ]
    },
    {
     "name": "stderr",
     "output_type": "stream",
     "text": [
      "INFO:SubjObjTrainer:  3370: 7 [  395/  425], train_loss/accuracy = 0.09551855/0.9000000\n"
     ]
    },
    {
     "name": "stdout",
     "output_type": "stream",
     "text": [
      "  3370: 7 [  395/  425], train_loss/accuracy = 0.09551855/0.9000000\n",
      "step 3370| pos_acc/neg_acc = 1.00000000/1.0000000,                 pos_pred/all_pred = 12/20\n",
      "step 3371| pos_acc/neg_acc = 1.00000000/0.8461538,                 pos_pred/all_pred =  9/20\n",
      "step 3372| pos_acc/neg_acc = 0.46153846/1.0000000,                 pos_pred/all_pred =  6/20\n",
      "step 3373| pos_acc/neg_acc = 1.00000000/0.1666667,                 pos_pred/all_pred = 18/20\n",
      "step 3374| pos_acc/neg_acc = 0.60000000/1.0000000,                 pos_pred/all_pred =  6/20\n",
      "step 3375| pos_acc/neg_acc = 1.00000000/0.7000000,                 pos_pred/all_pred = 13/20\n",
      "step 3376| pos_acc/neg_acc = 1.00000000/1.0000000,                 pos_pred/all_pred = 13/20\n",
      "step 3377| pos_acc/neg_acc = 1.00000000/1.0000000,                 pos_pred/all_pred = 11/20\n",
      "step 3378| pos_acc/neg_acc = 1.00000000/0.9000000,                 pos_pred/all_pred = 11/20\n",
      "step 3379| pos_acc/neg_acc = 1.00000000/1.0000000,                 pos_pred/all_pred =  7/20\n"
     ]
    },
    {
     "name": "stderr",
     "output_type": "stream",
     "text": [
      "INFO:SubjObjTrainer:  3380: 7 [  405/  425], train_loss/accuracy = 0.11844467/0.8600000\n"
     ]
    },
    {
     "name": "stdout",
     "output_type": "stream",
     "text": [
      "  3380: 7 [  405/  425], train_loss/accuracy = 0.11844467/0.8600000\n",
      "step 3380| pos_acc/neg_acc = 0.88888889/1.0000000,                 pos_pred/all_pred =  8/20\n",
      "step 3381| pos_acc/neg_acc = 0.88888889/0.9090909,                 pos_pred/all_pred =  9/20\n",
      "step 3382| pos_acc/neg_acc = 0.81818182/1.0000000,                 pos_pred/all_pred =  9/20\n",
      "step 3383| pos_acc/neg_acc = 1.00000000/0.6250000,                 pos_pred/all_pred = 15/20\n",
      "step 3384| pos_acc/neg_acc = 0.70000000/1.0000000,                 pos_pred/all_pred =  7/20\n",
      "step 3385| pos_acc/neg_acc = 0.91666667/0.8571429,                 pos_pred/all_pred = 13/20\n",
      "step 3386| pos_acc/neg_acc = 0.87500000/1.0000000,                 pos_pred/all_pred =  8/20\n",
      "step 3387| pos_acc/neg_acc = 1.00000000/0.8888889,                 pos_pred/all_pred = 12/20\n",
      "step 3388| pos_acc/neg_acc = 1.00000000/1.0000000,                 pos_pred/all_pred =  6/20\n",
      "step 3389| pos_acc/neg_acc = 0.75000000/1.0000000,                 pos_pred/all_pred = 10/20\n"
     ]
    },
    {
     "name": "stderr",
     "output_type": "stream",
     "text": [
      "INFO:SubjObjTrainer:  3390: 7 [  415/  425], train_loss/accuracy = 0.08879363/0.9050000\n"
     ]
    },
    {
     "name": "stdout",
     "output_type": "stream",
     "text": [
      "  3390: 7 [  415/  425], train_loss/accuracy = 0.08879363/0.9050000\n",
      "step 3390| pos_acc/neg_acc = 1.00000000/0.5000000,                 pos_pred/all_pred = 14/20\n",
      "step 3391| pos_acc/neg_acc = 0.50000000/1.0000000,                 pos_pred/all_pred =  5/20\n",
      "step 3392| pos_acc/neg_acc = 1.00000000/0.9090909,                 pos_pred/all_pred = 10/20\n",
      "step 3393| pos_acc/neg_acc = 0.90000000/1.0000000,                 pos_pred/all_pred =  9/20\n",
      "step 3394| pos_acc/neg_acc = 1.00000000/0.9090909,                 pos_pred/all_pred = 10/20\n",
      "step 3395| pos_acc/neg_acc = 1.00000000/0.8888889,                 pos_pred/all_pred = 12/20\n",
      "step 3396| pos_acc/neg_acc = 0.91666667/0.8750000,                 pos_pred/all_pred = 12/20\n",
      "step 3397| pos_acc/neg_acc = 1.00000000/1.0000000,                 pos_pred/all_pred = 12/20\n",
      "step 3398| pos_acc/neg_acc = 1.00000000/0.9000000,                 pos_pred/all_pred = 11/20\n",
      "step 3399| pos_acc/neg_acc = 1.00000000/1.0000000,                 pos_pred/all_pred =  8/20\n"
     ]
    },
    {
     "name": "stderr",
     "output_type": "stream",
     "text": [
      "INFO:SubjObjTrainer:  3400: 7 [    0/  425], train_loss/accuracy = 0.07648938/0.9150000\n"
     ]
    },
    {
     "name": "stdout",
     "output_type": "stream",
     "text": [
      "  3400: 7 [    0/  425], train_loss/accuracy = 0.07648938/0.9150000\n"
     ]
    },
    {
     "name": "stderr",
     "output_type": "stream",
     "text": [
      "INFO:SubjObjTrainer:[    7/   10], valid_loss/accuracy = 0.07351866/0.5280000\n"
     ]
    },
    {
     "name": "stdout",
     "output_type": "stream",
     "text": [
      "[    7/   10], valid_loss/accuracy = 0.07351866/0.5280000\n",
      "step 3400| pos_acc/neg_acc = 0.85714286/1.0000000,                 pos_pred/all_pred = 12/20\n",
      "step 3401| pos_acc/neg_acc = 1.00000000/0.8461538,                 pos_pred/all_pred =  9/20\n",
      "step 3402| pos_acc/neg_acc = 0.63636364/1.0000000,                 pos_pred/all_pred =  7/20\n",
      "step 3403| pos_acc/neg_acc = 1.00000000/0.7272727,                 pos_pred/all_pred = 12/20\n",
      "step 3404| pos_acc/neg_acc = 1.00000000/0.9166667,                 pos_pred/all_pred =  8/20\n",
      "step 3405| pos_acc/neg_acc = 1.00000000/0.9000000,                 pos_pred/all_pred = 11/20\n",
      "step 3406| pos_acc/neg_acc = 1.00000000/1.0000000,                 pos_pred/all_pred =  8/20\n",
      "step 3407| pos_acc/neg_acc = 0.83333333/1.0000000,                 pos_pred/all_pred = 10/20\n",
      "step 3408| pos_acc/neg_acc = 0.87500000/1.0000000,                 pos_pred/all_pred =  7/20\n",
      "step 3409| pos_acc/neg_acc = 1.00000000/1.0000000,                 pos_pred/all_pred =  9/20\n"
     ]
    },
    {
     "name": "stderr",
     "output_type": "stream",
     "text": [
      "INFO:SubjObjTrainer:  3410: 8 [   10/  425], train_loss/accuracy = 0.08484194/0.9100000\n"
     ]
    },
    {
     "name": "stdout",
     "output_type": "stream",
     "text": [
      "  3410: 8 [   10/  425], train_loss/accuracy = 0.08484194/0.9100000\n",
      "step 3410| pos_acc/neg_acc = 1.00000000/1.0000000,                 pos_pred/all_pred = 11/20\n",
      "step 3411| pos_acc/neg_acc = 1.00000000/1.0000000,                 pos_pred/all_pred = 11/20\n",
      "step 3412| pos_acc/neg_acc = 0.88888889/1.0000000,                 pos_pred/all_pred =  8/20\n",
      "step 3413| pos_acc/neg_acc = 1.00000000/1.0000000,                 pos_pred/all_pred =  6/20\n",
      "step 3414| pos_acc/neg_acc = 1.00000000/1.0000000,                 pos_pred/all_pred =  6/20\n",
      "step 3415| pos_acc/neg_acc = 1.00000000/1.0000000,                 pos_pred/all_pred = 10/20\n",
      "step 3416| pos_acc/neg_acc = 1.00000000/0.9333333,                 pos_pred/all_pred =  6/20\n",
      "step 3417| pos_acc/neg_acc = 1.00000000/1.0000000,                 pos_pred/all_pred =  9/20\n",
      "step 3418| pos_acc/neg_acc = 1.00000000/1.0000000,                 pos_pred/all_pred =  8/20\n",
      "step 3419| pos_acc/neg_acc = 0.70000000/1.0000000,                 pos_pred/all_pred =  7/20\n"
     ]
    },
    {
     "name": "stderr",
     "output_type": "stream",
     "text": [
      "INFO:SubjObjTrainer:  3420: 8 [   20/  425], train_loss/accuracy = 0.04506693/0.9750000\n"
     ]
    },
    {
     "name": "stdout",
     "output_type": "stream",
     "text": [
      "  3420: 8 [   20/  425], train_loss/accuracy = 0.04506693/0.9750000\n",
      "step 3420| pos_acc/neg_acc = 1.00000000/1.0000000,                 pos_pred/all_pred =  8/20\n",
      "step 3421| pos_acc/neg_acc = 0.83333333/1.0000000,                 pos_pred/all_pred = 11/20\n",
      "step 3422| pos_acc/neg_acc = 0.90909091/0.8750000,                 pos_pred/all_pred = 12/20\n",
      "step 3423| pos_acc/neg_acc = 0.83333333/1.0000000,                 pos_pred/all_pred =  5/20\n",
      "step 3424| pos_acc/neg_acc = 0.88888889/0.8000000,                 pos_pred/all_pred = 11/20\n",
      "step 3425| pos_acc/neg_acc = 1.00000000/1.0000000,                 pos_pred/all_pred =  6/20\n",
      "step 3426| pos_acc/neg_acc = 1.00000000/0.8888889,                 pos_pred/all_pred = 11/20\n",
      "step 3427| pos_acc/neg_acc = 1.00000000/0.9090909,                 pos_pred/all_pred = 10/20\n",
      "step 3428| pos_acc/neg_acc = 0.88888889/0.9000000,                 pos_pred/all_pred = 10/20\n",
      "step 3429| pos_acc/neg_acc = 1.00000000/1.0000000,                 pos_pred/all_pred = 13/20\n"
     ]
    },
    {
     "name": "stderr",
     "output_type": "stream",
     "text": [
      "INFO:SubjObjTrainer:  3430: 8 [   30/  425], train_loss/accuracy = 0.05731696/0.9350000\n"
     ]
    },
    {
     "name": "stdout",
     "output_type": "stream",
     "text": [
      "  3430: 8 [   30/  425], train_loss/accuracy = 0.05731696/0.9350000\n",
      "step 3430| pos_acc/neg_acc = 1.00000000/1.0000000,                 pos_pred/all_pred =  6/20\n",
      "step 3431| pos_acc/neg_acc = 0.92307692/1.0000000,                 pos_pred/all_pred = 13/20\n",
      "step 3432| pos_acc/neg_acc = 0.87500000/1.0000000,                 pos_pred/all_pred =  8/20\n",
      "step 3433| pos_acc/neg_acc = 0.44444444/1.0000000,                 pos_pred/all_pred =  5/20\n",
      "step 3434| pos_acc/neg_acc = 1.00000000/1.0000000,                 pos_pred/all_pred =  9/20\n",
      "step 3435| pos_acc/neg_acc = 1.00000000/0.9166667,                 pos_pred/all_pred =  9/20\n",
      "step 3436| pos_acc/neg_acc = 0.25000000/1.0000000,                 pos_pred/all_pred =  3/20\n",
      "step 3437| pos_acc/neg_acc = 1.00000000/0.1428571,                 pos_pred/all_pred = 18/20\n",
      "step 3438| pos_acc/neg_acc = 0.30769231/1.0000000,                 pos_pred/all_pred =  4/20\n",
      "step 3439| pos_acc/neg_acc = 1.00000000/0.5000000,                 pos_pred/all_pred = 16/20\n"
     ]
    },
    {
     "name": "stderr",
     "output_type": "stream",
     "text": [
      "INFO:SubjObjTrainer:  3440: 8 [   40/  425], train_loss/accuracy = 0.17319003/0.7800000\n"
     ]
    },
    {
     "name": "stdout",
     "output_type": "stream",
     "text": [
      "  3440: 8 [   40/  425], train_loss/accuracy = 0.17319003/0.7800000\n",
      "step 3440| pos_acc/neg_acc = 0.83333333/1.0000000,                 pos_pred/all_pred =  6/20\n",
      "step 3441| pos_acc/neg_acc = 1.00000000/1.0000000,                 pos_pred/all_pred = 13/20\n",
      "step 3442| pos_acc/neg_acc = 0.88888889/1.0000000,                 pos_pred/all_pred =  9/20\n",
      "step 3443| pos_acc/neg_acc = 1.00000000/0.8000000,                 pos_pred/all_pred = 12/20\n",
      "step 3444| pos_acc/neg_acc = 0.91666667/1.0000000,                 pos_pred/all_pred = 12/20\n",
      "step 3445| pos_acc/neg_acc = 0.90000000/1.0000000,                 pos_pred/all_pred =  9/20\n",
      "step 3446| pos_acc/neg_acc = 0.75000000/0.9166667,                 pos_pred/all_pred =  7/20\n",
      "step 3447| pos_acc/neg_acc = 0.90000000/1.0000000,                 pos_pred/all_pred =  9/20\n",
      "step 3448| pos_acc/neg_acc = 1.00000000/0.7857143,                 pos_pred/all_pred =  9/20\n",
      "step 3449| pos_acc/neg_acc = 0.85714286/1.0000000,                 pos_pred/all_pred =  7/20\n"
     ]
    },
    {
     "name": "stderr",
     "output_type": "stream",
     "text": [
      "INFO:SubjObjTrainer:  3450: 8 [   50/  425], train_loss/accuracy = 0.07051275/0.9300000\n"
     ]
    },
    {
     "name": "stdout",
     "output_type": "stream",
     "text": [
      "  3450: 8 [   50/  425], train_loss/accuracy = 0.07051275/0.9300000\n",
      "step 3450| pos_acc/neg_acc = 1.00000000/1.0000000,                 pos_pred/all_pred = 14/20\n",
      "step 3451| pos_acc/neg_acc = 1.00000000/0.9090909,                 pos_pred/all_pred = 10/20\n",
      "step 3452| pos_acc/neg_acc = 0.83333333/1.0000000,                 pos_pred/all_pred = 11/20\n",
      "step 3453| pos_acc/neg_acc = 1.00000000/1.0000000,                 pos_pred/all_pred = 10/20\n",
      "step 3454| pos_acc/neg_acc = 0.57142857/1.0000000,                 pos_pred/all_pred =  4/20\n",
      "step 3455| pos_acc/neg_acc = 0.90909091/0.7500000,                 pos_pred/all_pred = 13/20\n",
      "step 3456| pos_acc/neg_acc = 1.00000000/0.9090909,                 pos_pred/all_pred = 10/20\n",
      "step 3457| pos_acc/neg_acc = 1.00000000/1.0000000,                 pos_pred/all_pred =  9/20\n",
      "step 3458| pos_acc/neg_acc = 0.91666667/1.0000000,                 pos_pred/all_pred = 12/20\n",
      "step 3459| pos_acc/neg_acc = 1.00000000/0.9000000,                 pos_pred/all_pred = 11/20\n"
     ]
    },
    {
     "name": "stderr",
     "output_type": "stream",
     "text": [
      "INFO:SubjObjTrainer:  3460: 8 [   60/  425], train_loss/accuracy = 0.06754979/0.9400000\n"
     ]
    },
    {
     "name": "stdout",
     "output_type": "stream",
     "text": [
      "  3460: 8 [   60/  425], train_loss/accuracy = 0.06754979/0.9400000\n",
      "step 3460| pos_acc/neg_acc = 0.90000000/1.0000000,                 pos_pred/all_pred = 10/20\n",
      "step 3461| pos_acc/neg_acc = 0.91666667/0.8750000,                 pos_pred/all_pred = 12/20\n",
      "step 3462| pos_acc/neg_acc = 1.00000000/1.0000000,                 pos_pred/all_pred =  9/20\n",
      "step 3463| pos_acc/neg_acc = 0.75000000/0.9166667,                 pos_pred/all_pred =  7/20\n",
      "step 3464| pos_acc/neg_acc = 0.90909091/1.0000000,                 pos_pred/all_pred = 10/20\n",
      "step 3465| pos_acc/neg_acc = 1.00000000/0.8888889,                 pos_pred/all_pred = 12/20\n",
      "step 3466| pos_acc/neg_acc = 0.84615385/1.0000000,                 pos_pred/all_pred = 12/20\n",
      "step 3467| pos_acc/neg_acc = 0.90000000/0.8888889,                 pos_pred/all_pred = 11/20\n",
      "step 3468| pos_acc/neg_acc = 1.00000000/1.0000000,                 pos_pred/all_pred = 12/20\n",
      "step 3469| pos_acc/neg_acc = 0.92857143/1.0000000,                 pos_pred/all_pred = 13/20\n"
     ]
    },
    {
     "name": "stderr",
     "output_type": "stream",
     "text": [
      "INFO:SubjObjTrainer:  3470: 8 [   70/  425], train_loss/accuracy = 0.06065452/0.9300000\n"
     ]
    },
    {
     "name": "stdout",
     "output_type": "stream",
     "text": [
      "  3470: 8 [   70/  425], train_loss/accuracy = 0.06065452/0.9300000\n",
      "step 3470| pos_acc/neg_acc = 1.00000000/0.7000000,                 pos_pred/all_pred = 13/20\n",
      "step 3471| pos_acc/neg_acc = 0.90909091/1.0000000,                 pos_pred/all_pred = 11/20\n",
      "step 3472| pos_acc/neg_acc = 1.00000000/0.9000000,                 pos_pred/all_pred = 11/20\n",
      "step 3473| pos_acc/neg_acc = 0.77777778/1.0000000,                 pos_pred/all_pred =  7/20\n",
      "step 3474| pos_acc/neg_acc = 1.00000000/1.0000000,                 pos_pred/all_pred =  7/20\n",
      "step 3475| pos_acc/neg_acc = 0.71428571/1.0000000,                 pos_pred/all_pred =  5/20\n",
      "step 3476| pos_acc/neg_acc = 1.00000000/0.9090909,                 pos_pred/all_pred = 10/20\n",
      "step 3477| pos_acc/neg_acc = 0.77777778/1.0000000,                 pos_pred/all_pred =  7/20\n",
      "step 3478| pos_acc/neg_acc = 0.77777778/1.0000000,                 pos_pred/all_pred =  8/20\n",
      "step 3479| pos_acc/neg_acc = 1.00000000/0.9166667,                 pos_pred/all_pred =  9/20\n"
     ]
    },
    {
     "name": "stderr",
     "output_type": "stream",
     "text": [
      "INFO:SubjObjTrainer:  3480: 8 [   80/  425], train_loss/accuracy = 0.08301490/0.9200000\n"
     ]
    },
    {
     "name": "stdout",
     "output_type": "stream",
     "text": [
      "  3480: 8 [   80/  425], train_loss/accuracy = 0.08301490/0.9200000\n",
      "step 3480| pos_acc/neg_acc = 0.90000000/1.0000000,                 pos_pred/all_pred = 10/20\n",
      "step 3481| pos_acc/neg_acc = 0.55555556/1.0000000,                 pos_pred/all_pred =  5/20\n",
      "step 3482| pos_acc/neg_acc = 1.00000000/0.7000000,                 pos_pred/all_pred = 13/20\n",
      "step 3483| pos_acc/neg_acc = 0.44444444/1.0000000,                 pos_pred/all_pred =  5/20\n",
      "step 3484| pos_acc/neg_acc = 1.00000000/0.9000000,                 pos_pred/all_pred = 11/20\n",
      "step 3485| pos_acc/neg_acc = 0.88888889/1.0000000,                 pos_pred/all_pred =  8/20\n",
      "step 3486| pos_acc/neg_acc = 0.87500000/1.0000000,                 pos_pred/all_pred =  8/20\n",
      "step 3487| pos_acc/neg_acc = 0.77777778/1.0000000,                 pos_pred/all_pred =  7/20\n",
      "step 3488| pos_acc/neg_acc = 0.91666667/1.0000000,                 pos_pred/all_pred = 12/20\n",
      "step 3489| pos_acc/neg_acc = 0.91666667/0.8571429,                 pos_pred/all_pred = 13/20\n"
     ]
    },
    {
     "name": "stderr",
     "output_type": "stream",
     "text": [
      "INFO:SubjObjTrainer:  3490: 8 [   90/  425], train_loss/accuracy = 0.09932029/0.8900000\n"
     ]
    },
    {
     "name": "stdout",
     "output_type": "stream",
     "text": [
      "  3490: 8 [   90/  425], train_loss/accuracy = 0.09932029/0.8900000\n",
      "step 3490| pos_acc/neg_acc = 1.00000000/0.9090909,                 pos_pred/all_pred = 10/20\n",
      "step 3491| pos_acc/neg_acc = 0.77777778/1.0000000,                 pos_pred/all_pred =  7/20\n",
      "step 3492| pos_acc/neg_acc = 0.90909091/1.0000000,                 pos_pred/all_pred = 11/20\n",
      "step 3493| pos_acc/neg_acc = 0.92307692/0.8571429,                 pos_pred/all_pred = 13/20\n",
      "step 3494| pos_acc/neg_acc = 1.00000000/1.0000000,                 pos_pred/all_pred = 11/20\n",
      "step 3495| pos_acc/neg_acc = 0.90909091/0.8750000,                 pos_pred/all_pred = 12/20\n",
      "step 3496| pos_acc/neg_acc = 0.91666667/0.8571429,                 pos_pred/all_pred = 13/20\n",
      "step 3497| pos_acc/neg_acc = 0.90000000/0.9000000,                 pos_pred/all_pred = 10/20\n",
      "step 3498| pos_acc/neg_acc = 0.83333333/1.0000000,                 pos_pred/all_pred = 10/20\n",
      "step 3499| pos_acc/neg_acc = 1.00000000/0.7500000,                 pos_pred/all_pred = 11/20\n"
     ]
    },
    {
     "name": "stderr",
     "output_type": "stream",
     "text": [
      "INFO:SubjObjTrainer:  3500: 8 [  100/  425], train_loss/accuracy = 0.08270097/0.9150000\n"
     ]
    },
    {
     "name": "stdout",
     "output_type": "stream",
     "text": [
      "  3500: 8 [  100/  425], train_loss/accuracy = 0.08270097/0.9150000\n",
      "step 3500| pos_acc/neg_acc = 0.33333333/1.0000000,                 pos_pred/all_pred =  3/20\n",
      "step 3501| pos_acc/neg_acc = 1.00000000/0.7142857,                 pos_pred/all_pred = 15/20\n",
      "step 3502| pos_acc/neg_acc = 1.00000000/0.8333333,                 pos_pred/all_pred = 10/20\n",
      "step 3503| pos_acc/neg_acc = 0.72727273/1.0000000,                 pos_pred/all_pred =  8/20\n",
      "step 3504| pos_acc/neg_acc = 1.00000000/1.0000000,                 pos_pred/all_pred = 13/20\n",
      "step 3505| pos_acc/neg_acc = 0.84615385/1.0000000,                 pos_pred/all_pred = 11/20\n",
      "step 3506| pos_acc/neg_acc = 1.00000000/0.6923077,                 pos_pred/all_pred = 11/20\n",
      "step 3507| pos_acc/neg_acc = 0.87500000/1.0000000,                 pos_pred/all_pred =  7/20\n",
      "step 3508| pos_acc/neg_acc = 1.00000000/1.0000000,                 pos_pred/all_pred =  8/20\n",
      "step 3509| pos_acc/neg_acc = 1.00000000/1.0000000,                 pos_pred/all_pred =  9/20\n"
     ]
    },
    {
     "name": "stderr",
     "output_type": "stream",
     "text": [
      "INFO:SubjObjTrainer:  3510: 8 [  110/  425], train_loss/accuracy = 0.08069947/0.9000000\n"
     ]
    },
    {
     "name": "stdout",
     "output_type": "stream",
     "text": [
      "  3510: 8 [  110/  425], train_loss/accuracy = 0.08069947/0.9000000\n",
      "step 3510| pos_acc/neg_acc = 1.00000000/1.0000000,                 pos_pred/all_pred =  7/20\n",
      "step 3511| pos_acc/neg_acc = 0.66666667/1.0000000,                 pos_pred/all_pred =  4/20\n",
      "step 3512| pos_acc/neg_acc = 0.90909091/1.0000000,                 pos_pred/all_pred = 10/20\n",
      "step 3513| pos_acc/neg_acc = 1.00000000/0.6363636,                 pos_pred/all_pred = 13/20\n",
      "step 3514| pos_acc/neg_acc = 0.57142857/1.0000000,                 pos_pred/all_pred =  5/20\n",
      "step 3515| pos_acc/neg_acc = 0.87500000/0.9090909,                 pos_pred/all_pred =  9/20\n",
      "step 3516| pos_acc/neg_acc = 0.90000000/1.0000000,                 pos_pred/all_pred = 10/20\n",
      "step 3517| pos_acc/neg_acc = 1.00000000/0.8571429,                 pos_pred/all_pred = 14/20\n",
      "step 3518| pos_acc/neg_acc = 0.75000000/1.0000000,                 pos_pred/all_pred = 10/20\n",
      "step 3519| pos_acc/neg_acc = 1.00000000/0.5555556,                 pos_pred/all_pred = 15/20\n"
     ]
    },
    {
     "name": "stderr",
     "output_type": "stream",
     "text": [
      "INFO:SubjObjTrainer:  3520: 8 [  120/  425], train_loss/accuracy = 0.08530977/0.8950000\n"
     ]
    },
    {
     "name": "stdout",
     "output_type": "stream",
     "text": [
      "  3520: 8 [  120/  425], train_loss/accuracy = 0.08530977/0.8950000\n",
      "step 3520| pos_acc/neg_acc = 0.75000000/0.9166667,                 pos_pred/all_pred =  7/20\n",
      "step 3521| pos_acc/neg_acc = 1.00000000/0.8461538,                 pos_pred/all_pred =  9/20\n",
      "step 3522| pos_acc/neg_acc = 0.63636364/1.0000000,                 pos_pred/all_pred =  8/20\n",
      "step 3523| pos_acc/neg_acc = 1.00000000/1.0000000,                 pos_pred/all_pred = 11/20\n",
      "step 3524| pos_acc/neg_acc = 1.00000000/0.7142857,                 pos_pred/all_pred = 15/20\n",
      "step 3525| pos_acc/neg_acc = 0.87500000/1.0000000,                 pos_pred/all_pred =  7/20\n",
      "step 3526| pos_acc/neg_acc = 0.88888889/1.0000000,                 pos_pred/all_pred =  8/20\n",
      "step 3527| pos_acc/neg_acc = 1.00000000/1.0000000,                 pos_pred/all_pred = 13/20\n",
      "step 3528| pos_acc/neg_acc = 1.00000000/0.8461538,                 pos_pred/all_pred =  9/20\n",
      "step 3529| pos_acc/neg_acc = 1.00000000/1.0000000,                 pos_pred/all_pred =  8/20\n"
     ]
    },
    {
     "name": "stderr",
     "output_type": "stream",
     "text": [
      "INFO:SubjObjTrainer:  3530: 8 [  130/  425], train_loss/accuracy = 0.07983115/0.9250000\n"
     ]
    },
    {
     "name": "stdout",
     "output_type": "stream",
     "text": [
      "  3530: 8 [  130/  425], train_loss/accuracy = 0.07983115/0.9250000\n",
      "step 3530| pos_acc/neg_acc = 1.00000000/1.0000000,                 pos_pred/all_pred =  7/20\n",
      "step 3531| pos_acc/neg_acc = 1.00000000/1.0000000,                 pos_pred/all_pred =  6/20\n",
      "step 3532| pos_acc/neg_acc = 1.00000000/1.0000000,                 pos_pred/all_pred =  9/20\n",
      "step 3533| pos_acc/neg_acc = 0.80000000/1.0000000,                 pos_pred/all_pred =  8/20\n",
      "step 3534| pos_acc/neg_acc = 1.00000000/0.7000000,                 pos_pred/all_pred = 13/20\n",
      "step 3535| pos_acc/neg_acc = 0.60000000/1.0000000,                 pos_pred/all_pred =  7/20\n",
      "step 3536| pos_acc/neg_acc = 1.00000000/0.8750000,                 pos_pred/all_pred = 13/20\n",
      "step 3537| pos_acc/neg_acc = 0.53846154/1.0000000,                 pos_pred/all_pred =  7/20\n",
      "step 3538| pos_acc/neg_acc = 1.00000000/0.0000000,                 pos_pred/all_pred = 20/20\n",
      "step 3539| pos_acc/neg_acc = 0.50000000/1.0000000,                 pos_pred/all_pred =  5/20\n"
     ]
    },
    {
     "name": "stderr",
     "output_type": "stream",
     "text": [
      "INFO:SubjObjTrainer:  3540: 8 [  140/  425], train_loss/accuracy = 0.13580194/0.8350000\n"
     ]
    },
    {
     "name": "stdout",
     "output_type": "stream",
     "text": [
      "  3540: 8 [  140/  425], train_loss/accuracy = 0.13580194/0.8350000\n",
      "step 3540| pos_acc/neg_acc = 0.87500000/0.7272727,                 pos_pred/all_pred = 11/20\n",
      "step 3541| pos_acc/neg_acc = 0.88888889/1.0000000,                 pos_pred/all_pred =  9/20\n",
      "step 3542| pos_acc/neg_acc = 1.00000000/1.0000000,                 pos_pred/all_pred =  8/20\n",
      "step 3543| pos_acc/neg_acc = 0.92307692/1.0000000,                 pos_pred/all_pred = 12/20\n",
      "step 3544| pos_acc/neg_acc = 1.00000000/0.7692308,                 pos_pred/all_pred = 10/20\n",
      "step 3545| pos_acc/neg_acc = 0.77777778/1.0000000,                 pos_pred/all_pred =  7/20\n",
      "step 3546| pos_acc/neg_acc = 0.90909091/1.0000000,                 pos_pred/all_pred = 11/20\n",
      "step 3547| pos_acc/neg_acc = 1.00000000/0.9230769,                 pos_pred/all_pred =  8/20\n",
      "step 3548| pos_acc/neg_acc = 0.53846154/1.0000000,                 pos_pred/all_pred =  7/20\n",
      "step 3549| pos_acc/neg_acc = 1.00000000/0.5000000,                 pos_pred/all_pred = 16/20\n"
     ]
    },
    {
     "name": "stderr",
     "output_type": "stream",
     "text": [
      "INFO:SubjObjTrainer:  3550: 8 [  150/  425], train_loss/accuracy = 0.10692257/0.8850000\n"
     ]
    },
    {
     "name": "stdout",
     "output_type": "stream",
     "text": [
      "  3550: 8 [  150/  425], train_loss/accuracy = 0.10692257/0.8850000\n",
      "step 3550| pos_acc/neg_acc = 0.84615385/1.0000000,                 pos_pred/all_pred = 11/20\n",
      "step 3551| pos_acc/neg_acc = 1.00000000/1.0000000,                 pos_pred/all_pred =  8/20\n",
      "step 3552| pos_acc/neg_acc = 0.90000000/1.0000000,                 pos_pred/all_pred =  9/20\n",
      "step 3553| pos_acc/neg_acc = 0.90909091/1.0000000,                 pos_pred/all_pred = 11/20\n",
      "step 3554| pos_acc/neg_acc = 1.00000000/1.0000000,                 pos_pred/all_pred =  8/20\n",
      "step 3555| pos_acc/neg_acc = 0.91666667/1.0000000,                 pos_pred/all_pred = 11/20\n",
      "step 3556| pos_acc/neg_acc = 1.00000000/1.0000000,                 pos_pred/all_pred = 10/20\n",
      "step 3557| pos_acc/neg_acc = 0.84615385/1.0000000,                 pos_pred/all_pred = 11/20\n",
      "step 3558| pos_acc/neg_acc = 1.00000000/1.0000000,                 pos_pred/all_pred = 10/20\n",
      "step 3559| pos_acc/neg_acc = 1.00000000/1.0000000,                 pos_pred/all_pred = 10/20\n"
     ]
    },
    {
     "name": "stderr",
     "output_type": "stream",
     "text": [
      "INFO:SubjObjTrainer:  3560: 8 [  160/  425], train_loss/accuracy = 0.07127421/0.9600000\n"
     ]
    },
    {
     "name": "stdout",
     "output_type": "stream",
     "text": [
      "  3560: 8 [  160/  425], train_loss/accuracy = 0.07127421/0.9600000\n",
      "step 3560| pos_acc/neg_acc = 1.00000000/0.7142857,                 pos_pred/all_pred = 10/20\n",
      "step 3561| pos_acc/neg_acc = 0.33333333/1.0000000,                 pos_pred/all_pred =  4/20\n",
      "step 3562| pos_acc/neg_acc = 1.00000000/0.2500000,                 pos_pred/all_pred = 18/20\n",
      "step 3563| pos_acc/neg_acc = 0.72727273/1.0000000,                 pos_pred/all_pred =  8/20\n",
      "step 3564| pos_acc/neg_acc = 1.00000000/0.5000000,                 pos_pred/all_pred = 16/20\n",
      "step 3565| pos_acc/neg_acc = 0.91666667/1.0000000,                 pos_pred/all_pred = 11/20\n",
      "step 3566| pos_acc/neg_acc = 1.00000000/1.0000000,                 pos_pred/all_pred =  8/20\n",
      "step 3567| pos_acc/neg_acc = 0.88888889/1.0000000,                 pos_pred/all_pred =  9/20\n",
      "step 3568| pos_acc/neg_acc = 1.00000000/1.0000000,                 pos_pred/all_pred = 14/20\n",
      "step 3569| pos_acc/neg_acc = 1.00000000/0.5714286,                 pos_pred/all_pred = 16/20\n"
     ]
    },
    {
     "name": "stderr",
     "output_type": "stream",
     "text": [
      "INFO:SubjObjTrainer:  3570: 8 [  170/  425], train_loss/accuracy = 0.10139281/0.8450000\n"
     ]
    },
    {
     "name": "stdout",
     "output_type": "stream",
     "text": [
      "  3570: 8 [  170/  425], train_loss/accuracy = 0.10139281/0.8450000\n",
      "step 3570| pos_acc/neg_acc = 1.00000000/0.9166667,                 pos_pred/all_pred =  9/20\n",
      "step 3571| pos_acc/neg_acc = 0.42857143/1.0000000,                 pos_pred/all_pred =  4/20\n",
      "step 3572| pos_acc/neg_acc = 1.00000000/0.8750000,                 pos_pred/all_pred = 13/20\n",
      "step 3573| pos_acc/neg_acc = 0.72727273/1.0000000,                 pos_pred/all_pred =  9/20\n",
      "step 3574| pos_acc/neg_acc = 1.00000000/0.8666667,                 pos_pred/all_pred =  7/20\n",
      "step 3575| pos_acc/neg_acc = 0.80000000/1.0000000,                 pos_pred/all_pred =  8/20\n",
      "step 3576| pos_acc/neg_acc = 1.00000000/1.0000000,                 pos_pred/all_pred = 11/20\n",
      "step 3577| pos_acc/neg_acc = 1.00000000/1.0000000,                 pos_pred/all_pred =  8/20\n",
      "step 3578| pos_acc/neg_acc = 1.00000000/1.0000000,                 pos_pred/all_pred = 11/20\n",
      "step 3579| pos_acc/neg_acc = 0.81818182/1.0000000,                 pos_pred/all_pred = 10/20\n"
     ]
    },
    {
     "name": "stderr",
     "output_type": "stream",
     "text": [
      "INFO:SubjObjTrainer:  3580: 8 [  180/  425], train_loss/accuracy = 0.06924972/0.9250000\n"
     ]
    },
    {
     "name": "stdout",
     "output_type": "stream",
     "text": [
      "  3580: 8 [  180/  425], train_loss/accuracy = 0.06924972/0.9250000\n",
      "step 3580| pos_acc/neg_acc = 1.00000000/0.5555556,                 pos_pred/all_pred = 15/20\n",
      "step 3581| pos_acc/neg_acc = 0.77777778/1.0000000,                 pos_pred/all_pred =  7/20\n",
      "step 3582| pos_acc/neg_acc = 0.90000000/0.7777778,                 pos_pred/all_pred = 12/20\n",
      "step 3583| pos_acc/neg_acc = 0.88888889/1.0000000,                 pos_pred/all_pred =  9/20\n",
      "step 3584| pos_acc/neg_acc = 1.00000000/1.0000000,                 pos_pred/all_pred =  8/20\n",
      "step 3585| pos_acc/neg_acc = 0.80000000/1.0000000,                 pos_pred/all_pred =  9/20\n",
      "step 3586| pos_acc/neg_acc = 1.00000000/0.8235294,                 pos_pred/all_pred =  6/20\n",
      "step 3587| pos_acc/neg_acc = 0.37500000/1.0000000,                 pos_pred/all_pred =  3/20\n",
      "step 3588| pos_acc/neg_acc = 1.00000000/0.8333333,                 pos_pred/all_pred = 10/20\n",
      "step 3589| pos_acc/neg_acc = 1.00000000/1.0000000,                 pos_pred/all_pred =  6/20\n"
     ]
    },
    {
     "name": "stderr",
     "output_type": "stream",
     "text": [
      "INFO:SubjObjTrainer:  3590: 8 [  190/  425], train_loss/accuracy = 0.07645326/0.8900000\n"
     ]
    },
    {
     "name": "stdout",
     "output_type": "stream",
     "text": [
      "  3590: 8 [  190/  425], train_loss/accuracy = 0.07645326/0.8900000\n",
      "step 3590| pos_acc/neg_acc = 0.60000000/1.0000000,                 pos_pred/all_pred =  6/20\n",
      "step 3591| pos_acc/neg_acc = 1.00000000/1.0000000,                 pos_pred/all_pred =  8/20\n",
      "step 3592| pos_acc/neg_acc = 0.83333333/1.0000000,                 pos_pred/all_pred = 10/20\n",
      "step 3593| pos_acc/neg_acc = 1.00000000/0.7142857,                 pos_pred/all_pred = 15/20\n",
      "step 3594| pos_acc/neg_acc = 0.86666667/1.0000000,                 pos_pred/all_pred = 14/20\n",
      "step 3595| pos_acc/neg_acc = 1.00000000/0.7272727,                 pos_pred/all_pred = 12/20\n",
      "step 3596| pos_acc/neg_acc = 0.44444444/1.0000000,                 pos_pred/all_pred =  5/20\n",
      "step 3597| pos_acc/neg_acc = 1.00000000/0.5833333,                 pos_pred/all_pred = 13/20\n",
      "step 3598| pos_acc/neg_acc = 0.62500000/1.0000000,                 pos_pred/all_pred =  6/20\n",
      "step 3599| pos_acc/neg_acc = 0.77777778/0.9090909,                 pos_pred/all_pred =  8/20\n"
     ]
    },
    {
     "name": "stderr",
     "output_type": "stream",
     "text": [
      "INFO:SubjObjTrainer:  3600: 8 [  200/  425], train_loss/accuracy = 0.11871301/0.8500000\n"
     ]
    },
    {
     "name": "stdout",
     "output_type": "stream",
     "text": [
      "  3600: 8 [  200/  425], train_loss/accuracy = 0.11871301/0.8500000\n",
      "step 3600| pos_acc/neg_acc = 0.90000000/1.0000000,                 pos_pred/all_pred =  9/20\n",
      "step 3601| pos_acc/neg_acc = 0.91666667/0.6250000,                 pos_pred/all_pred = 14/20\n",
      "step 3602| pos_acc/neg_acc = 0.70000000/1.0000000,                 pos_pred/all_pred =  7/20\n",
      "step 3603| pos_acc/neg_acc = 1.00000000/0.7000000,                 pos_pred/all_pred = 13/20\n",
      "step 3604| pos_acc/neg_acc = 0.81818182/1.0000000,                 pos_pred/all_pred = 10/20\n",
      "step 3605| pos_acc/neg_acc = 0.90000000/1.0000000,                 pos_pred/all_pred = 10/20\n",
      "step 3606| pos_acc/neg_acc = 1.00000000/0.9230769,                 pos_pred/all_pred =  8/20\n",
      "step 3607| pos_acc/neg_acc = 0.81818182/1.0000000,                 pos_pred/all_pred =  9/20\n",
      "step 3608| pos_acc/neg_acc = 1.00000000/0.6363636,                 pos_pred/all_pred = 13/20\n",
      "step 3609| pos_acc/neg_acc = 0.50000000/1.0000000,                 pos_pred/all_pred =  3/20\n"
     ]
    },
    {
     "name": "stderr",
     "output_type": "stream",
     "text": [
      "INFO:SubjObjTrainer:  3610: 8 [  210/  425], train_loss/accuracy = 0.09000962/0.8800000\n"
     ]
    },
    {
     "name": "stdout",
     "output_type": "stream",
     "text": [
      "  3610: 8 [  210/  425], train_loss/accuracy = 0.09000962/0.8800000\n",
      "step 3610| pos_acc/neg_acc = 0.91666667/1.0000000,                 pos_pred/all_pred = 12/20\n",
      "step 3611| pos_acc/neg_acc = 1.00000000/0.9166667,                 pos_pred/all_pred =  9/20\n",
      "step 3612| pos_acc/neg_acc = 0.62500000/1.0000000,                 pos_pred/all_pred =  6/20\n",
      "step 3613| pos_acc/neg_acc = 1.00000000/0.9230769,                 pos_pred/all_pred =  8/20\n",
      "step 3614| pos_acc/neg_acc = 0.66666667/1.0000000,                 pos_pred/all_pred =  7/20\n",
      "step 3615| pos_acc/neg_acc = 1.00000000/1.0000000,                 pos_pred/all_pred =  8/20\n",
      "step 3616| pos_acc/neg_acc = 0.72727273/1.0000000,                 pos_pred/all_pred =  9/20\n",
      "step 3617| pos_acc/neg_acc = 1.00000000/1.0000000,                 pos_pred/all_pred =  8/20\n",
      "step 3618| pos_acc/neg_acc = 0.81818182/1.0000000,                 pos_pred/all_pred =  9/20\n",
      "step 3619| pos_acc/neg_acc = 1.00000000/0.8571429,                 pos_pred/all_pred = 14/20\n"
     ]
    },
    {
     "name": "stderr",
     "output_type": "stream",
     "text": [
      "INFO:SubjObjTrainer:  3620: 8 [  220/  425], train_loss/accuracy = 0.07597298/0.9250000\n"
     ]
    },
    {
     "name": "stdout",
     "output_type": "stream",
     "text": [
      "  3620: 8 [  220/  425], train_loss/accuracy = 0.07597298/0.9250000\n",
      "step 3620| pos_acc/neg_acc = 1.00000000/1.0000000,                 pos_pred/all_pred =  8/20\n",
      "step 3621| pos_acc/neg_acc = 0.71428571/1.0000000,                 pos_pred/all_pred = 10/20\n",
      "step 3622| pos_acc/neg_acc = 1.00000000/0.5833333,                 pos_pred/all_pred = 13/20\n",
      "step 3623| pos_acc/neg_acc = 1.00000000/1.0000000,                 pos_pred/all_pred =  9/20\n",
      "step 3624| pos_acc/neg_acc = 0.90909091/1.0000000,                 pos_pred/all_pred = 11/20\n",
      "step 3625| pos_acc/neg_acc = 1.00000000/1.0000000,                 pos_pred/all_pred =  9/20\n",
      "step 3626| pos_acc/neg_acc = 0.66666667/0.8571429,                 pos_pred/all_pred = 10/20\n",
      "step 3627| pos_acc/neg_acc = 1.00000000/0.4545455,                 pos_pred/all_pred = 15/20\n",
      "step 3628| pos_acc/neg_acc = 0.57142857/1.0000000,                 pos_pred/all_pred =  4/20\n",
      "step 3629| pos_acc/neg_acc = 0.85714286/0.5384615,                 pos_pred/all_pred = 12/20\n"
     ]
    },
    {
     "name": "stderr",
     "output_type": "stream",
     "text": [
      "INFO:SubjObjTrainer:  3630: 8 [  230/  425], train_loss/accuracy = 0.10320562/0.8400000\n"
     ]
    },
    {
     "name": "stdout",
     "output_type": "stream",
     "text": [
      "  3630: 8 [  230/  425], train_loss/accuracy = 0.10320562/0.8400000\n",
      "step 3630| pos_acc/neg_acc = 0.33333333/1.0000000,                 pos_pred/all_pred =  3/20\n",
      "step 3631| pos_acc/neg_acc = 1.00000000/0.5000000,                 pos_pred/all_pred = 15/20\n",
      "step 3632| pos_acc/neg_acc = 0.44444444/0.9090909,                 pos_pred/all_pred =  5/20\n",
      "step 3633| pos_acc/neg_acc = 1.00000000/0.8333333,                 pos_pred/all_pred = 15/20\n",
      "step 3634| pos_acc/neg_acc = 0.87500000/1.0000000,                 pos_pred/all_pred =  7/20\n",
      "step 3635| pos_acc/neg_acc = 1.00000000/1.0000000,                 pos_pred/all_pred = 11/20\n",
      "step 3636| pos_acc/neg_acc = 1.00000000/1.0000000,                 pos_pred/all_pred = 10/20\n",
      "step 3637| pos_acc/neg_acc = 0.83333333/1.0000000,                 pos_pred/all_pred = 10/20\n",
      "step 3638| pos_acc/neg_acc = 1.00000000/0.9285714,                 pos_pred/all_pred =  7/20\n",
      "step 3639| pos_acc/neg_acc = 0.58333333/1.0000000,                 pos_pred/all_pred =  8/20\n"
     ]
    },
    {
     "name": "stderr",
     "output_type": "stream",
     "text": [
      "INFO:SubjObjTrainer:  3640: 8 [  240/  425], train_loss/accuracy = 0.11199828/0.8650000\n"
     ]
    },
    {
     "name": "stdout",
     "output_type": "stream",
     "text": [
      "  3640: 8 [  240/  425], train_loss/accuracy = 0.11199828/0.8650000\n",
      "step 3640| pos_acc/neg_acc = 1.00000000/0.6666667,                 pos_pred/all_pred = 12/20\n",
      "step 3641| pos_acc/neg_acc = 0.55555556/1.0000000,                 pos_pred/all_pred =  6/20\n",
      "step 3642| pos_acc/neg_acc = 0.80000000/0.7000000,                 pos_pred/all_pred = 11/20\n",
      "step 3643| pos_acc/neg_acc = 0.83333333/1.0000000,                 pos_pred/all_pred = 11/20\n",
      "step 3644| pos_acc/neg_acc = 1.00000000/0.8888889,                 pos_pred/all_pred = 12/20\n",
      "step 3645| pos_acc/neg_acc = 0.75000000/0.9090909,                 pos_pred/all_pred =  8/20\n",
      "step 3646| pos_acc/neg_acc = 1.00000000/1.0000000,                 pos_pred/all_pred =  4/20\n",
      "step 3647| pos_acc/neg_acc = 0.80000000/1.0000000,                 pos_pred/all_pred =  8/20\n",
      "step 3648| pos_acc/neg_acc = 0.91666667/0.8571429,                 pos_pred/all_pred = 13/20\n",
      "step 3649| pos_acc/neg_acc = 1.00000000/0.9090909,                 pos_pred/all_pred = 10/20\n"
     ]
    },
    {
     "name": "stderr",
     "output_type": "stream",
     "text": [
      "INFO:SubjObjTrainer:  3650: 8 [  250/  425], train_loss/accuracy = 0.09400224/0.8750000\n"
     ]
    },
    {
     "name": "stdout",
     "output_type": "stream",
     "text": [
      "  3650: 8 [  250/  425], train_loss/accuracy = 0.09400224/0.8750000\n",
      "step 3650| pos_acc/neg_acc = 0.75000000/1.0000000,                 pos_pred/all_pred =  6/20\n",
      "step 3651| pos_acc/neg_acc = 1.00000000/0.7777778,                 pos_pred/all_pred = 13/20\n",
      "step 3652| pos_acc/neg_acc = 0.81818182/0.8888889,                 pos_pred/all_pred = 10/20\n",
      "step 3653| pos_acc/neg_acc = 1.00000000/0.9000000,                 pos_pred/all_pred = 11/20\n",
      "step 3654| pos_acc/neg_acc = 0.87500000/1.0000000,                 pos_pred/all_pred =  8/20\n",
      "step 3655| pos_acc/neg_acc = 0.81818182/1.0000000,                 pos_pred/all_pred = 10/20\n",
      "step 3656| pos_acc/neg_acc = 0.85714286/0.9166667,                 pos_pred/all_pred =  8/20\n",
      "step 3657| pos_acc/neg_acc = 0.72727273/1.0000000,                 pos_pred/all_pred =  8/20\n",
      "step 3658| pos_acc/neg_acc = 1.00000000/0.9090909,                 pos_pred/all_pred = 10/20\n",
      "step 3659| pos_acc/neg_acc = 0.71428571/0.9166667,                 pos_pred/all_pred =  7/20\n"
     ]
    },
    {
     "name": "stderr",
     "output_type": "stream",
     "text": [
      "INFO:SubjObjTrainer:  3660: 8 [  260/  425], train_loss/accuracy = 0.09104973/0.9000000\n"
     ]
    },
    {
     "name": "stdout",
     "output_type": "stream",
     "text": [
      "  3660: 8 [  260/  425], train_loss/accuracy = 0.09104973/0.9000000\n",
      "step 3660| pos_acc/neg_acc = 1.00000000/1.0000000,                 pos_pred/all_pred = 10/20\n",
      "step 3661| pos_acc/neg_acc = 0.75000000/0.8181818,                 pos_pred/all_pred =  9/20\n",
      "step 3662| pos_acc/neg_acc = 1.00000000/1.0000000,                 pos_pred/all_pred = 11/20\n",
      "step 3663| pos_acc/neg_acc = 0.91666667/0.8750000,                 pos_pred/all_pred = 12/20\n",
      "step 3664| pos_acc/neg_acc = 1.00000000/1.0000000,                 pos_pred/all_pred =  6/20\n",
      "step 3665| pos_acc/neg_acc = 0.88888889/1.0000000,                 pos_pred/all_pred =  9/20\n",
      "step 3666| pos_acc/neg_acc = 1.00000000/0.8750000,                 pos_pred/all_pred = 13/20\n",
      "step 3667| pos_acc/neg_acc = 1.00000000/1.0000000,                 pos_pred/all_pred =  6/20\n",
      "step 3668| pos_acc/neg_acc = 0.80000000/0.8666667,                 pos_pred/all_pred =  6/20\n",
      "step 3669| pos_acc/neg_acc = 0.81818182/0.8888889,                 pos_pred/all_pred = 10/20\n"
     ]
    },
    {
     "name": "stderr",
     "output_type": "stream",
     "text": [
      "INFO:SubjObjTrainer:  3670: 8 [  270/  425], train_loss/accuracy = 0.07806769/0.9300000\n"
     ]
    },
    {
     "name": "stdout",
     "output_type": "stream",
     "text": [
      "  3670: 8 [  270/  425], train_loss/accuracy = 0.07806769/0.9300000\n",
      "step 3670| pos_acc/neg_acc = 1.00000000/0.8888889,                 pos_pred/all_pred = 12/20\n",
      "step 3671| pos_acc/neg_acc = 1.00000000/1.0000000,                 pos_pred/all_pred = 11/20\n",
      "step 3672| pos_acc/neg_acc = 0.66666667/1.0000000,                 pos_pred/all_pred =  8/20\n",
      "step 3673| pos_acc/neg_acc = 0.90909091/0.5000000,                 pos_pred/all_pred = 15/20\n",
      "step 3674| pos_acc/neg_acc = 0.91666667/0.7142857,                 pos_pred/all_pred = 14/20\n",
      "step 3675| pos_acc/neg_acc = 1.00000000/1.0000000,                 pos_pred/all_pred =  9/20\n",
      "step 3676| pos_acc/neg_acc = 1.00000000/0.7500000,                 pos_pred/all_pred = 14/20\n",
      "step 3677| pos_acc/neg_acc = 0.66666667/0.9090909,                 pos_pred/all_pred =  7/20\n",
      "step 3678| pos_acc/neg_acc = 1.00000000/1.0000000,                 pos_pred/all_pred =  9/20\n",
      "step 3679| pos_acc/neg_acc = 0.87500000/1.0000000,                 pos_pred/all_pred =  7/20\n"
     ]
    },
    {
     "name": "stderr",
     "output_type": "stream",
     "text": [
      "INFO:SubjObjTrainer:  3680: 8 [  280/  425], train_loss/accuracy = 0.07476612/0.8950000\n"
     ]
    },
    {
     "name": "stdout",
     "output_type": "stream",
     "text": [
      "  3680: 8 [  280/  425], train_loss/accuracy = 0.07476612/0.8950000\n",
      "step 3680| pos_acc/neg_acc = 0.88888889/1.0000000,                 pos_pred/all_pred =  8/20\n",
      "step 3681| pos_acc/neg_acc = 1.00000000/0.9090909,                 pos_pred/all_pred = 10/20\n",
      "step 3682| pos_acc/neg_acc = 0.50000000/1.0000000,                 pos_pred/all_pred =  2/20\n",
      "step 3683| pos_acc/neg_acc = 1.00000000/1.0000000,                 pos_pred/all_pred = 12/20\n",
      "step 3684| pos_acc/neg_acc = 0.81818182/1.0000000,                 pos_pred/all_pred =  9/20\n",
      "step 3685| pos_acc/neg_acc = 1.00000000/0.7500000,                 pos_pred/all_pred = 14/20\n",
      "step 3686| pos_acc/neg_acc = 0.80000000/1.0000000,                 pos_pred/all_pred =  9/20\n",
      "step 3687| pos_acc/neg_acc = 1.00000000/0.9000000,                 pos_pred/all_pred = 11/20\n",
      "step 3688| pos_acc/neg_acc = 1.00000000/1.0000000,                 pos_pred/all_pred = 12/20\n",
      "step 3689| pos_acc/neg_acc = 1.00000000/0.9000000,                 pos_pred/all_pred = 11/20\n"
     ]
    },
    {
     "name": "stderr",
     "output_type": "stream",
     "text": [
      "INFO:SubjObjTrainer:  3690: 8 [  290/  425], train_loss/accuracy = 0.07100230/0.9400000\n"
     ]
    },
    {
     "name": "stdout",
     "output_type": "stream",
     "text": [
      "  3690: 8 [  290/  425], train_loss/accuracy = 0.07100230/0.9400000\n",
      "step 3690| pos_acc/neg_acc = 0.91666667/1.0000000,                 pos_pred/all_pred = 12/20\n",
      "step 3691| pos_acc/neg_acc = 1.00000000/0.7777778,                 pos_pred/all_pred = 13/20\n",
      "step 3692| pos_acc/neg_acc = 0.45454545/1.0000000,                 pos_pred/all_pred =  5/20\n",
      "step 3693| pos_acc/neg_acc = 1.00000000/0.2222222,                 pos_pred/all_pred = 18/20\n",
      "step 3694| pos_acc/neg_acc = 0.90909091/1.0000000,                 pos_pred/all_pred = 10/20\n",
      "step 3695| pos_acc/neg_acc = 1.00000000/0.9000000,                 pos_pred/all_pred = 11/20\n",
      "step 3696| pos_acc/neg_acc = 0.71428571/0.8333333,                 pos_pred/all_pred =  8/20\n",
      "step 3697| pos_acc/neg_acc = 0.88888889/1.0000000,                 pos_pred/all_pred =  8/20\n",
      "step 3698| pos_acc/neg_acc = 0.91666667/1.0000000,                 pos_pred/all_pred = 11/20\n",
      "step 3699| pos_acc/neg_acc = 1.00000000/1.0000000,                 pos_pred/all_pred =  7/20\n"
     ]
    },
    {
     "name": "stderr",
     "output_type": "stream",
     "text": [
      "INFO:SubjObjTrainer:  3700: 8 [  300/  425], train_loss/accuracy = 0.10175551/0.8800000\n"
     ]
    },
    {
     "name": "stdout",
     "output_type": "stream",
     "text": [
      "  3700: 8 [  300/  425], train_loss/accuracy = 0.10175551/0.8800000\n",
      "step 3700| pos_acc/neg_acc = 0.88888889/1.0000000,                 pos_pred/all_pred =  8/20\n",
      "step 3701| pos_acc/neg_acc = 1.00000000/1.0000000,                 pos_pred/all_pred =  9/20\n",
      "step 3702| pos_acc/neg_acc = 0.91666667/1.0000000,                 pos_pred/all_pred = 12/20\n",
      "step 3703| pos_acc/neg_acc = 1.00000000/0.8333333,                 pos_pred/all_pred = 10/20\n",
      "step 3704| pos_acc/neg_acc = 0.75000000/1.0000000,                 pos_pred/all_pred =  6/20\n",
      "step 3705| pos_acc/neg_acc = 1.00000000/0.8333333,                 pos_pred/all_pred = 15/20\n",
      "step 3706| pos_acc/neg_acc = 1.00000000/1.0000000,                 pos_pred/all_pred = 10/20\n",
      "step 3707| pos_acc/neg_acc = 1.00000000/1.0000000,                 pos_pred/all_pred =  9/20\n",
      "step 3708| pos_acc/neg_acc = 1.00000000/1.0000000,                 pos_pred/all_pred = 15/20\n",
      "step 3709| pos_acc/neg_acc = 1.00000000/0.9000000,                 pos_pred/all_pred = 11/20\n"
     ]
    },
    {
     "name": "stderr",
     "output_type": "stream",
     "text": [
      "INFO:SubjObjTrainer:  3710: 8 [  310/  425], train_loss/accuracy = 0.06519563/0.9500000\n"
     ]
    },
    {
     "name": "stdout",
     "output_type": "stream",
     "text": [
      "  3710: 8 [  310/  425], train_loss/accuracy = 0.06519563/0.9500000\n",
      "step 3710| pos_acc/neg_acc = 0.72727273/1.0000000,                 pos_pred/all_pred =  9/20\n",
      "step 3711| pos_acc/neg_acc = 1.00000000/0.7500000,                 pos_pred/all_pred = 11/20\n",
      "step 3712| pos_acc/neg_acc = 0.80000000/1.0000000,                 pos_pred/all_pred =  8/20\n",
      "step 3713| pos_acc/neg_acc = 0.81818182/1.0000000,                 pos_pred/all_pred =  9/20\n",
      "step 3714| pos_acc/neg_acc = 0.88888889/1.0000000,                 pos_pred/all_pred =  8/20\n",
      "step 3715| pos_acc/neg_acc = 1.00000000/0.5454545,                 pos_pred/all_pred = 14/20\n",
      "step 3716| pos_acc/neg_acc = 0.55555556/1.0000000,                 pos_pred/all_pred =  5/20\n",
      "step 3717| pos_acc/neg_acc = 1.00000000/0.8181818,                 pos_pred/all_pred = 11/20\n",
      "step 3718| pos_acc/neg_acc = 0.50000000/1.0000000,                 pos_pred/all_pred =  3/20\n",
      "step 3719| pos_acc/neg_acc = 1.00000000/1.0000000,                 pos_pred/all_pred = 12/20\n"
     ]
    },
    {
     "name": "stderr",
     "output_type": "stream",
     "text": [
      "INFO:SubjObjTrainer:  3720: 8 [  320/  425], train_loss/accuracy = 0.11250504/0.8700000\n"
     ]
    },
    {
     "name": "stdout",
     "output_type": "stream",
     "text": [
      "  3720: 8 [  320/  425], train_loss/accuracy = 0.11250504/0.8700000\n",
      "step 3720| pos_acc/neg_acc = 0.88888889/1.0000000,                 pos_pred/all_pred =  9/20\n",
      "step 3721| pos_acc/neg_acc = 1.00000000/1.0000000,                 pos_pred/all_pred =  7/20\n",
      "step 3722| pos_acc/neg_acc = 0.72727273/1.0000000,                 pos_pred/all_pred =  9/20\n",
      "step 3723| pos_acc/neg_acc = 1.00000000/0.8461538,                 pos_pred/all_pred =  9/20\n",
      "step 3724| pos_acc/neg_acc = 0.55555556/1.0000000,                 pos_pred/all_pred =  6/20\n",
      "step 3725| pos_acc/neg_acc = 1.00000000/0.7777778,                 pos_pred/all_pred = 13/20\n",
      "step 3726| pos_acc/neg_acc = 0.77777778/1.0000000,                 pos_pred/all_pred =  7/20\n",
      "step 3727| pos_acc/neg_acc = 0.83333333/1.0000000,                 pos_pred/all_pred = 10/20\n",
      "step 3728| pos_acc/neg_acc = 1.00000000/0.8571429,                 pos_pred/all_pred = 14/20\n",
      "step 3729| pos_acc/neg_acc = 0.87500000/0.9090909,                 pos_pred/all_pred =  9/20\n"
     ]
    },
    {
     "name": "stderr",
     "output_type": "stream",
     "text": [
      "INFO:SubjObjTrainer:  3730: 8 [  330/  425], train_loss/accuracy = 0.08938988/0.9000000\n"
     ]
    },
    {
     "name": "stdout",
     "output_type": "stream",
     "text": [
      "  3730: 8 [  330/  425], train_loss/accuracy = 0.08938988/0.9000000\n",
      "step 3730| pos_acc/neg_acc = 0.91666667/0.8571429,                 pos_pred/all_pred = 13/20\n",
      "step 3731| pos_acc/neg_acc = 0.88888889/1.0000000,                 pos_pred/all_pred =  9/20\n",
      "step 3732| pos_acc/neg_acc = 0.72727273/1.0000000,                 pos_pred/all_pred =  9/20\n",
      "step 3733| pos_acc/neg_acc = 1.00000000/0.4444444,                 pos_pred/all_pred = 16/20\n",
      "step 3734| pos_acc/neg_acc = 0.72727273/1.0000000,                 pos_pred/all_pred =  8/20\n",
      "step 3735| pos_acc/neg_acc = 1.00000000/0.6363636,                 pos_pred/all_pred = 12/20\n",
      "step 3736| pos_acc/neg_acc = 0.90909091/1.0000000,                 pos_pred/all_pred = 11/20\n",
      "step 3737| pos_acc/neg_acc = 1.00000000/1.0000000,                 pos_pred/all_pred = 14/20\n",
      "step 3738| pos_acc/neg_acc = 1.00000000/1.0000000,                 pos_pred/all_pred = 10/20\n",
      "step 3739| pos_acc/neg_acc = 0.81818182/1.0000000,                 pos_pred/all_pred =  9/20\n"
     ]
    },
    {
     "name": "stderr",
     "output_type": "stream",
     "text": [
      "INFO:SubjObjTrainer:  3740: 8 [  340/  425], train_loss/accuracy = 0.08455668/0.8900000\n"
     ]
    },
    {
     "name": "stdout",
     "output_type": "stream",
     "text": [
      "  3740: 8 [  340/  425], train_loss/accuracy = 0.08455668/0.8900000\n",
      "step 3740| pos_acc/neg_acc = 0.91666667/1.0000000,                 pos_pred/all_pred = 11/20\n",
      "step 3741| pos_acc/neg_acc = 1.00000000/1.0000000,                 pos_pred/all_pred =  9/20\n",
      "step 3742| pos_acc/neg_acc = 0.90000000/0.9000000,                 pos_pred/all_pred = 10/20\n",
      "step 3743| pos_acc/neg_acc = 1.00000000/1.0000000,                 pos_pred/all_pred = 10/20\n",
      "step 3744| pos_acc/neg_acc = 1.00000000/1.0000000,                 pos_pred/all_pred =  8/20\n",
      "step 3745| pos_acc/neg_acc = 0.87500000/1.0000000,                 pos_pred/all_pred =  8/20\n",
      "step 3746| pos_acc/neg_acc = 0.92307692/0.8333333,                 pos_pred/all_pred = 14/20\n",
      "step 3747| pos_acc/neg_acc = 0.92307692/0.8333333,                 pos_pred/all_pred = 14/20\n",
      "step 3748| pos_acc/neg_acc = 1.00000000/1.0000000,                 pos_pred/all_pred = 10/20\n",
      "step 3749| pos_acc/neg_acc = 0.50000000/1.0000000,                 pos_pred/all_pred =  3/20\n"
     ]
    },
    {
     "name": "stderr",
     "output_type": "stream",
     "text": [
      "INFO:SubjObjTrainer:  3750: 8 [  350/  425], train_loss/accuracy = 0.06562199/0.9450000\n"
     ]
    },
    {
     "name": "stdout",
     "output_type": "stream",
     "text": [
      "  3750: 8 [  350/  425], train_loss/accuracy = 0.06562199/0.9450000\n",
      "step 3750| pos_acc/neg_acc = 1.00000000/1.0000000,                 pos_pred/all_pred =  9/20\n",
      "step 3751| pos_acc/neg_acc = 1.00000000/1.0000000,                 pos_pred/all_pred = 10/20\n",
      "step 3752| pos_acc/neg_acc = 1.00000000/0.9166667,                 pos_pred/all_pred =  9/20\n",
      "step 3753| pos_acc/neg_acc = 0.88888889/0.9000000,                 pos_pred/all_pred = 10/20\n",
      "step 3754| pos_acc/neg_acc = 0.87500000/1.0000000,                 pos_pred/all_pred =  8/20\n",
      "step 3755| pos_acc/neg_acc = 1.00000000/0.5555556,                 pos_pred/all_pred = 15/20\n",
      "step 3756| pos_acc/neg_acc = 0.33333333/1.0000000,                 pos_pred/all_pred =  3/20\n",
      "step 3757| pos_acc/neg_acc = 1.00000000/0.8461538,                 pos_pred/all_pred =  9/20\n",
      "step 3758| pos_acc/neg_acc = 0.44444444/1.0000000,                 pos_pred/all_pred =  5/20\n",
      "step 3759| pos_acc/neg_acc = 1.00000000/0.8750000,                 pos_pred/all_pred = 13/20\n"
     ]
    },
    {
     "name": "stderr",
     "output_type": "stream",
     "text": [
      "INFO:SubjObjTrainer:  3760: 8 [  360/  425], train_loss/accuracy = 0.08524524/0.9000000\n"
     ]
    },
    {
     "name": "stdout",
     "output_type": "stream",
     "text": [
      "  3760: 8 [  360/  425], train_loss/accuracy = 0.08524524/0.9000000\n",
      "step 3760| pos_acc/neg_acc = 0.80000000/1.0000000,                 pos_pred/all_pred =  4/20\n",
      "step 3761| pos_acc/neg_acc = 0.87500000/1.0000000,                 pos_pred/all_pred =  7/20\n",
      "step 3762| pos_acc/neg_acc = 0.91666667/1.0000000,                 pos_pred/all_pred = 11/20\n",
      "step 3763| pos_acc/neg_acc = 1.00000000/1.0000000,                 pos_pred/all_pred =  7/20\n",
      "step 3764| pos_acc/neg_acc = 0.87500000/1.0000000,                 pos_pred/all_pred =  7/20\n",
      "step 3765| pos_acc/neg_acc = 0.80000000/0.7777778,                 pos_pred/all_pred = 11/20\n",
      "step 3766| pos_acc/neg_acc = 0.83333333/1.0000000,                 pos_pred/all_pred = 10/20\n",
      "step 3767| pos_acc/neg_acc = 1.00000000/0.9166667,                 pos_pred/all_pred =  9/20\n",
      "step 3768| pos_acc/neg_acc = 0.88888889/1.0000000,                 pos_pred/all_pred =  8/20\n",
      "step 3769| pos_acc/neg_acc = 0.83333333/0.8750000,                 pos_pred/all_pred = 11/20\n"
     ]
    },
    {
     "name": "stderr",
     "output_type": "stream",
     "text": [
      "INFO:SubjObjTrainer:  3770: 8 [  370/  425], train_loss/accuracy = 0.06867763/0.9200000\n"
     ]
    },
    {
     "name": "stdout",
     "output_type": "stream",
     "text": [
      "  3770: 8 [  370/  425], train_loss/accuracy = 0.06867763/0.9200000\n",
      "step 3770| pos_acc/neg_acc = 1.00000000/0.8888889,                 pos_pred/all_pred = 12/20\n",
      "step 3771| pos_acc/neg_acc = 1.00000000/1.0000000,                 pos_pred/all_pred = 10/20\n",
      "step 3772| pos_acc/neg_acc = 1.00000000/0.9090909,                 pos_pred/all_pred = 10/20\n",
      "step 3773| pos_acc/neg_acc = 0.62500000/1.0000000,                 pos_pred/all_pred =  6/20\n",
      "step 3774| pos_acc/neg_acc = 1.00000000/0.7500000,                 pos_pred/all_pred = 14/20\n",
      "step 3775| pos_acc/neg_acc = 0.80000000/1.0000000,                 pos_pred/all_pred =  8/20\n",
      "step 3776| pos_acc/neg_acc = 0.91666667/0.8571429,                 pos_pred/all_pred = 13/20\n",
      "step 3777| pos_acc/neg_acc = 0.90000000/0.9000000,                 pos_pred/all_pred = 10/20\n",
      "step 3778| pos_acc/neg_acc = 1.00000000/0.9090909,                 pos_pred/all_pred = 10/20\n",
      "step 3779| pos_acc/neg_acc = 0.88888889/1.0000000,                 pos_pred/all_pred =  9/20\n"
     ]
    },
    {
     "name": "stderr",
     "output_type": "stream",
     "text": [
      "INFO:SubjObjTrainer:  3780: 8 [  380/  425], train_loss/accuracy = 0.07611479/0.9250000\n"
     ]
    },
    {
     "name": "stdout",
     "output_type": "stream",
     "text": [
      "  3780: 8 [  380/  425], train_loss/accuracy = 0.07611479/0.9250000\n",
      "step 3780| pos_acc/neg_acc = 0.91666667/1.0000000,                 pos_pred/all_pred = 11/20\n",
      "step 3781| pos_acc/neg_acc = 1.00000000/1.0000000,                 pos_pred/all_pred =  6/20\n",
      "step 3782| pos_acc/neg_acc = 1.00000000/1.0000000,                 pos_pred/all_pred =  8/20\n",
      "step 3783| pos_acc/neg_acc = 0.72727273/1.0000000,                 pos_pred/all_pred =  9/20\n",
      "step 3784| pos_acc/neg_acc = 0.87500000/0.7500000,                 pos_pred/all_pred = 10/20\n",
      "step 3785| pos_acc/neg_acc = 0.63636364/1.0000000,                 pos_pred/all_pred =  8/20\n",
      "step 3786| pos_acc/neg_acc = 1.00000000/0.5555556,                 pos_pred/all_pred = 15/20\n",
      "step 3787| pos_acc/neg_acc = 0.81818182/1.0000000,                 pos_pred/all_pred =  9/20\n",
      "step 3788| pos_acc/neg_acc = 1.00000000/0.8888889,                 pos_pred/all_pred = 12/20\n",
      "step 3789| pos_acc/neg_acc = 0.88888889/1.0000000,                 pos_pred/all_pred =  9/20\n"
     ]
    },
    {
     "name": "stderr",
     "output_type": "stream",
     "text": [
      "INFO:SubjObjTrainer:  3790: 8 [  390/  425], train_loss/accuracy = 0.08765741/0.9000000\n"
     ]
    },
    {
     "name": "stdout",
     "output_type": "stream",
     "text": [
      "  3790: 8 [  390/  425], train_loss/accuracy = 0.08765741/0.9000000\n",
      "step 3790| pos_acc/neg_acc = 0.90909091/1.0000000,                 pos_pred/all_pred = 11/20\n",
      "step 3791| pos_acc/neg_acc = 1.00000000/0.7000000,                 pos_pred/all_pred = 13/20\n",
      "step 3792| pos_acc/neg_acc = 0.83333333/1.0000000,                 pos_pred/all_pred = 10/20\n",
      "step 3793| pos_acc/neg_acc = 1.00000000/0.8888889,                 pos_pred/all_pred = 12/20\n",
      "step 3794| pos_acc/neg_acc = 0.90909091/1.0000000,                 pos_pred/all_pred = 10/20\n",
      "step 3795| pos_acc/neg_acc = 1.00000000/1.0000000,                 pos_pred/all_pred = 12/20\n",
      "step 3796| pos_acc/neg_acc = 1.00000000/0.8461538,                 pos_pred/all_pred =  9/20\n",
      "step 3797| pos_acc/neg_acc = 0.46153846/1.0000000,                 pos_pred/all_pred =  6/20\n",
      "step 3798| pos_acc/neg_acc = 1.00000000/0.1666667,                 pos_pred/all_pred = 18/20\n",
      "step 3799| pos_acc/neg_acc = 0.60000000/1.0000000,                 pos_pred/all_pred =  6/20\n"
     ]
    },
    {
     "name": "stderr",
     "output_type": "stream",
     "text": [
      "INFO:SubjObjTrainer:  3800: 8 [  400/  425], train_loss/accuracy = 0.12409299/0.8400000\n"
     ]
    },
    {
     "name": "stdout",
     "output_type": "stream",
     "text": [
      "  3800: 8 [  400/  425], train_loss/accuracy = 0.12409299/0.8400000\n",
      "step 3800| pos_acc/neg_acc = 1.00000000/0.7000000,                 pos_pred/all_pred = 13/20\n",
      "step 3801| pos_acc/neg_acc = 1.00000000/1.0000000,                 pos_pred/all_pred = 13/20\n",
      "step 3802| pos_acc/neg_acc = 1.00000000/1.0000000,                 pos_pred/all_pred = 11/20\n",
      "step 3803| pos_acc/neg_acc = 1.00000000/0.9000000,                 pos_pred/all_pred = 11/20\n",
      "step 3804| pos_acc/neg_acc = 1.00000000/1.0000000,                 pos_pred/all_pred =  7/20\n",
      "step 3805| pos_acc/neg_acc = 0.88888889/1.0000000,                 pos_pred/all_pred =  8/20\n",
      "step 3806| pos_acc/neg_acc = 0.88888889/0.9090909,                 pos_pred/all_pred =  9/20\n",
      "step 3807| pos_acc/neg_acc = 0.81818182/1.0000000,                 pos_pred/all_pred =  9/20\n",
      "step 3808| pos_acc/neg_acc = 1.00000000/0.6250000,                 pos_pred/all_pred = 15/20\n",
      "step 3809| pos_acc/neg_acc = 0.70000000/1.0000000,                 pos_pred/all_pred =  7/20\n"
     ]
    },
    {
     "name": "stderr",
     "output_type": "stream",
     "text": [
      "INFO:SubjObjTrainer:  3810: 8 [  410/  425], train_loss/accuracy = 0.07671985/0.9200000\n"
     ]
    },
    {
     "name": "stdout",
     "output_type": "stream",
     "text": [
      "  3810: 8 [  410/  425], train_loss/accuracy = 0.07671985/0.9200000\n",
      "step 3810| pos_acc/neg_acc = 0.91666667/0.8571429,                 pos_pred/all_pred = 13/20\n",
      "step 3811| pos_acc/neg_acc = 0.87500000/1.0000000,                 pos_pred/all_pred =  8/20\n",
      "step 3812| pos_acc/neg_acc = 1.00000000/0.8888889,                 pos_pred/all_pred = 12/20\n",
      "step 3813| pos_acc/neg_acc = 1.00000000/1.0000000,                 pos_pred/all_pred =  6/20\n",
      "step 3814| pos_acc/neg_acc = 0.75000000/1.0000000,                 pos_pred/all_pred = 10/20\n",
      "step 3815| pos_acc/neg_acc = 1.00000000/0.5000000,                 pos_pred/all_pred = 14/20\n",
      "step 3816| pos_acc/neg_acc = 0.50000000/1.0000000,                 pos_pred/all_pred =  5/20\n",
      "step 3817| pos_acc/neg_acc = 1.00000000/0.9090909,                 pos_pred/all_pred = 10/20\n",
      "step 3818| pos_acc/neg_acc = 0.90000000/1.0000000,                 pos_pred/all_pred =  9/20\n",
      "step 3819| pos_acc/neg_acc = 1.00000000/0.9090909,                 pos_pred/all_pred = 10/20\n"
     ]
    },
    {
     "name": "stderr",
     "output_type": "stream",
     "text": [
      "INFO:SubjObjTrainer:  3820: 8 [  420/  425], train_loss/accuracy = 0.09076494/0.9000000\n"
     ]
    },
    {
     "name": "stdout",
     "output_type": "stream",
     "text": [
      "  3820: 8 [  420/  425], train_loss/accuracy = 0.09076494/0.9000000\n",
      "step 3820| pos_acc/neg_acc = 1.00000000/0.8888889,                 pos_pred/all_pred = 12/20\n",
      "step 3821| pos_acc/neg_acc = 0.91666667/0.8750000,                 pos_pred/all_pred = 12/20\n",
      "step 3822| pos_acc/neg_acc = 1.00000000/1.0000000,                 pos_pred/all_pred = 12/20\n",
      "step 3823| pos_acc/neg_acc = 1.00000000/0.9000000,                 pos_pred/all_pred = 11/20\n",
      "step 3824| pos_acc/neg_acc = 1.00000000/1.0000000,                 pos_pred/all_pred =  8/20\n"
     ]
    },
    {
     "name": "stderr",
     "output_type": "stream",
     "text": [
      "INFO:SubjObjTrainer:[    8/   10], valid_loss/accuracy = 0.07224753/0.5280000\n"
     ]
    },
    {
     "name": "stdout",
     "output_type": "stream",
     "text": [
      "[    8/   10], valid_loss/accuracy = 0.07224753/0.5280000\n",
      "step 3825| pos_acc/neg_acc = 0.85714286/1.0000000,                 pos_pred/all_pred = 12/20\n",
      "step 3826| pos_acc/neg_acc = 1.00000000/0.8461538,                 pos_pred/all_pred =  9/20\n",
      "step 3827| pos_acc/neg_acc = 0.63636364/1.0000000,                 pos_pred/all_pred =  7/20\n",
      "step 3828| pos_acc/neg_acc = 1.00000000/0.7272727,                 pos_pred/all_pred = 12/20\n",
      "step 3829| pos_acc/neg_acc = 1.00000000/0.9166667,                 pos_pred/all_pred =  8/20\n"
     ]
    },
    {
     "name": "stderr",
     "output_type": "stream",
     "text": [
      "INFO:SubjObjTrainer:  3830: 9 [    5/  425], train_loss/accuracy = 0.04860144/0.4350000\n"
     ]
    },
    {
     "name": "stdout",
     "output_type": "stream",
     "text": [
      "  3830: 9 [    5/  425], train_loss/accuracy = 0.04860144/0.4350000\n",
      "step 3830| pos_acc/neg_acc = 0.88888889/0.9000000,                 pos_pred/all_pred = 10/20\n",
      "step 3831| pos_acc/neg_acc = 1.00000000/1.0000000,                 pos_pred/all_pred =  8/20\n",
      "step 3832| pos_acc/neg_acc = 0.83333333/1.0000000,                 pos_pred/all_pred = 10/20\n",
      "step 3833| pos_acc/neg_acc = 0.87500000/1.0000000,                 pos_pred/all_pred =  7/20\n",
      "step 3834| pos_acc/neg_acc = 1.00000000/1.0000000,                 pos_pred/all_pred =  9/20\n",
      "step 3835| pos_acc/neg_acc = 1.00000000/1.0000000,                 pos_pred/all_pred = 11/20\n",
      "step 3836| pos_acc/neg_acc = 1.00000000/1.0000000,                 pos_pred/all_pred = 11/20\n",
      "step 3837| pos_acc/neg_acc = 0.88888889/1.0000000,                 pos_pred/all_pred =  8/20\n",
      "step 3838| pos_acc/neg_acc = 1.00000000/1.0000000,                 pos_pred/all_pred =  6/20\n",
      "step 3839| pos_acc/neg_acc = 1.00000000/1.0000000,                 pos_pred/all_pred =  6/20\n"
     ]
    },
    {
     "name": "stderr",
     "output_type": "stream",
     "text": [
      "INFO:SubjObjTrainer:  3840: 9 [   15/  425], train_loss/accuracy = 0.05166434/0.9650000\n"
     ]
    },
    {
     "name": "stdout",
     "output_type": "stream",
     "text": [
      "  3840: 9 [   15/  425], train_loss/accuracy = 0.05166434/0.9650000\n",
      "step 3840| pos_acc/neg_acc = 1.00000000/1.0000000,                 pos_pred/all_pred = 10/20\n",
      "step 3841| pos_acc/neg_acc = 1.00000000/0.9333333,                 pos_pred/all_pred =  6/20\n",
      "step 3842| pos_acc/neg_acc = 1.00000000/1.0000000,                 pos_pred/all_pred =  9/20\n",
      "step 3843| pos_acc/neg_acc = 1.00000000/1.0000000,                 pos_pred/all_pred =  8/20\n",
      "step 3844| pos_acc/neg_acc = 0.70000000/1.0000000,                 pos_pred/all_pred =  7/20\n",
      "step 3845| pos_acc/neg_acc = 1.00000000/1.0000000,                 pos_pred/all_pred =  8/20\n",
      "step 3846| pos_acc/neg_acc = 0.83333333/1.0000000,                 pos_pred/all_pred = 11/20\n",
      "step 3847| pos_acc/neg_acc = 0.90909091/0.8750000,                 pos_pred/all_pred = 12/20\n",
      "step 3848| pos_acc/neg_acc = 0.83333333/1.0000000,                 pos_pred/all_pred =  5/20\n",
      "step 3849| pos_acc/neg_acc = 0.77777778/0.8000000,                 pos_pred/all_pred = 10/20\n"
     ]
    },
    {
     "name": "stderr",
     "output_type": "stream",
     "text": [
      "INFO:SubjObjTrainer:  3850: 9 [   25/  425], train_loss/accuracy = 0.06086433/0.9350000\n"
     ]
    },
    {
     "name": "stdout",
     "output_type": "stream",
     "text": [
      "  3850: 9 [   25/  425], train_loss/accuracy = 0.06086433/0.9350000\n",
      "step 3850| pos_acc/neg_acc = 1.00000000/1.0000000,                 pos_pred/all_pred =  6/20\n",
      "step 3851| pos_acc/neg_acc = 1.00000000/0.8888889,                 pos_pred/all_pred = 11/20\n",
      "step 3852| pos_acc/neg_acc = 1.00000000/0.9090909,                 pos_pred/all_pred = 10/20\n",
      "step 3853| pos_acc/neg_acc = 0.88888889/0.9000000,                 pos_pred/all_pred = 10/20\n",
      "step 3854| pos_acc/neg_acc = 1.00000000/1.0000000,                 pos_pred/all_pred = 13/20\n",
      "step 3855| pos_acc/neg_acc = 1.00000000/0.9230769,                 pos_pred/all_pred =  7/20\n",
      "step 3856| pos_acc/neg_acc = 0.92307692/1.0000000,                 pos_pred/all_pred = 13/20\n",
      "step 3857| pos_acc/neg_acc = 0.87500000/1.0000000,                 pos_pred/all_pred =  8/20\n",
      "step 3858| pos_acc/neg_acc = 0.55555556/1.0000000,                 pos_pred/all_pred =  6/20\n",
      "step 3859| pos_acc/neg_acc = 1.00000000/1.0000000,                 pos_pred/all_pred =  9/20\n"
     ]
    },
    {
     "name": "stderr",
     "output_type": "stream",
     "text": [
      "INFO:SubjObjTrainer:  3860: 9 [   35/  425], train_loss/accuracy = 0.06348321/0.9350000\n"
     ]
    },
    {
     "name": "stdout",
     "output_type": "stream",
     "text": [
      "  3860: 9 [   35/  425], train_loss/accuracy = 0.06348321/0.9350000\n",
      "step 3860| pos_acc/neg_acc = 1.00000000/0.9166667,                 pos_pred/all_pred =  9/20\n",
      "step 3861| pos_acc/neg_acc = 0.25000000/1.0000000,                 pos_pred/all_pred =  3/20\n",
      "step 3862| pos_acc/neg_acc = 1.00000000/0.1428571,                 pos_pred/all_pred = 18/20\n",
      "step 3863| pos_acc/neg_acc = 0.46153846/1.0000000,                 pos_pred/all_pred =  6/20\n",
      "step 3864| pos_acc/neg_acc = 1.00000000/0.6250000,                 pos_pred/all_pred = 15/20\n",
      "step 3865| pos_acc/neg_acc = 0.83333333/1.0000000,                 pos_pred/all_pred =  6/20\n",
      "step 3866| pos_acc/neg_acc = 1.00000000/1.0000000,                 pos_pred/all_pred = 13/20\n",
      "step 3867| pos_acc/neg_acc = 1.00000000/1.0000000,                 pos_pred/all_pred = 10/20\n",
      "step 3868| pos_acc/neg_acc = 1.00000000/0.8000000,                 pos_pred/all_pred = 12/20\n",
      "step 3869| pos_acc/neg_acc = 0.91666667/1.0000000,                 pos_pred/all_pred = 12/20\n"
     ]
    },
    {
     "name": "stderr",
     "output_type": "stream",
     "text": [
      "INFO:SubjObjTrainer:  3870: 9 [   45/  425], train_loss/accuracy = 0.15460424/0.8150000\n"
     ]
    },
    {
     "name": "stdout",
     "output_type": "stream",
     "text": [
      "  3870: 9 [   45/  425], train_loss/accuracy = 0.15460424/0.8150000\n",
      "step 3870| pos_acc/neg_acc = 0.90000000/1.0000000,                 pos_pred/all_pred =  9/20\n",
      "step 3871| pos_acc/neg_acc = 0.75000000/0.9166667,                 pos_pred/all_pred =  7/20\n",
      "step 3872| pos_acc/neg_acc = 0.90000000/1.0000000,                 pos_pred/all_pred =  9/20\n",
      "step 3873| pos_acc/neg_acc = 1.00000000/0.7857143,                 pos_pred/all_pred =  9/20\n",
      "step 3874| pos_acc/neg_acc = 0.85714286/1.0000000,                 pos_pred/all_pred =  7/20\n",
      "step 3875| pos_acc/neg_acc = 0.92857143/1.0000000,                 pos_pred/all_pred = 13/20\n",
      "step 3876| pos_acc/neg_acc = 1.00000000/0.9090909,                 pos_pred/all_pred = 10/20\n",
      "step 3877| pos_acc/neg_acc = 0.83333333/1.0000000,                 pos_pred/all_pred = 11/20\n",
      "step 3878| pos_acc/neg_acc = 1.00000000/1.0000000,                 pos_pred/all_pred = 10/20\n",
      "step 3879| pos_acc/neg_acc = 0.57142857/1.0000000,                 pos_pred/all_pred =  4/20\n"
     ]
    },
    {
     "name": "stderr",
     "output_type": "stream",
     "text": [
      "INFO:SubjObjTrainer:  3880: 9 [   55/  425], train_loss/accuracy = 0.07322437/0.9200000\n"
     ]
    },
    {
     "name": "stdout",
     "output_type": "stream",
     "text": [
      "  3880: 9 [   55/  425], train_loss/accuracy = 0.07322437/0.9200000\n",
      "step 3880| pos_acc/neg_acc = 0.90909091/0.7500000,                 pos_pred/all_pred = 13/20\n",
      "step 3881| pos_acc/neg_acc = 1.00000000/0.9090909,                 pos_pred/all_pred = 10/20\n",
      "step 3882| pos_acc/neg_acc = 1.00000000/1.0000000,                 pos_pred/all_pred =  9/20\n",
      "step 3883| pos_acc/neg_acc = 0.91666667/1.0000000,                 pos_pred/all_pred = 12/20\n",
      "step 3884| pos_acc/neg_acc = 1.00000000/0.9000000,                 pos_pred/all_pred = 11/20\n",
      "step 3885| pos_acc/neg_acc = 0.90000000/1.0000000,                 pos_pred/all_pred = 10/20\n",
      "step 3886| pos_acc/neg_acc = 0.91666667/0.8750000,                 pos_pred/all_pred = 12/20\n",
      "step 3887| pos_acc/neg_acc = 1.00000000/1.0000000,                 pos_pred/all_pred =  9/20\n",
      "step 3888| pos_acc/neg_acc = 0.75000000/0.9166667,                 pos_pred/all_pred =  7/20\n",
      "step 3889| pos_acc/neg_acc = 0.90909091/1.0000000,                 pos_pred/all_pred = 10/20\n"
     ]
    },
    {
     "name": "stderr",
     "output_type": "stream",
     "text": [
      "INFO:SubjObjTrainer:  3890: 9 [   65/  425], train_loss/accuracy = 0.06425445/0.9300000\n"
     ]
    },
    {
     "name": "stdout",
     "output_type": "stream",
     "text": [
      "  3890: 9 [   65/  425], train_loss/accuracy = 0.06425445/0.9300000\n",
      "step 3890| pos_acc/neg_acc = 1.00000000/0.8888889,                 pos_pred/all_pred = 12/20\n",
      "step 3891| pos_acc/neg_acc = 0.92307692/1.0000000,                 pos_pred/all_pred = 13/20\n",
      "step 3892| pos_acc/neg_acc = 0.90000000/0.8888889,                 pos_pred/all_pred = 11/20\n",
      "step 3893| pos_acc/neg_acc = 1.00000000/1.0000000,                 pos_pred/all_pred = 12/20\n",
      "step 3894| pos_acc/neg_acc = 0.92857143/1.0000000,                 pos_pred/all_pred = 13/20\n",
      "step 3895| pos_acc/neg_acc = 1.00000000/0.7000000,                 pos_pred/all_pred = 13/20\n",
      "step 3896| pos_acc/neg_acc = 0.90909091/1.0000000,                 pos_pred/all_pred = 11/20\n",
      "step 3897| pos_acc/neg_acc = 1.00000000/0.9000000,                 pos_pred/all_pred = 11/20\n",
      "step 3898| pos_acc/neg_acc = 0.88888889/1.0000000,                 pos_pred/all_pred =  8/20\n",
      "step 3899| pos_acc/neg_acc = 1.00000000/1.0000000,                 pos_pred/all_pred =  7/20\n"
     ]
    },
    {
     "name": "stderr",
     "output_type": "stream",
     "text": [
      "INFO:SubjObjTrainer:  3900: 9 [   75/  425], train_loss/accuracy = 0.06650119/0.9450000\n"
     ]
    },
    {
     "name": "stdout",
     "output_type": "stream",
     "text": [
      "  3900: 9 [   75/  425], train_loss/accuracy = 0.06650119/0.9450000\n",
      "step 3900| pos_acc/neg_acc = 0.71428571/1.0000000,                 pos_pred/all_pred =  5/20\n",
      "step 3901| pos_acc/neg_acc = 1.00000000/0.9090909,                 pos_pred/all_pred = 10/20\n",
      "step 3902| pos_acc/neg_acc = 0.77777778/1.0000000,                 pos_pred/all_pred =  7/20\n",
      "step 3903| pos_acc/neg_acc = 0.77777778/1.0000000,                 pos_pred/all_pred =  8/20\n",
      "step 3904| pos_acc/neg_acc = 1.00000000/0.9166667,                 pos_pred/all_pred =  9/20\n",
      "step 3905| pos_acc/neg_acc = 0.90000000/1.0000000,                 pos_pred/all_pred = 10/20\n",
      "step 3906| pos_acc/neg_acc = 0.55555556/1.0000000,                 pos_pred/all_pred =  5/20\n",
      "step 3907| pos_acc/neg_acc = 1.00000000/0.7000000,                 pos_pred/all_pred = 13/20\n",
      "step 3908| pos_acc/neg_acc = 0.44444444/1.0000000,                 pos_pred/all_pred =  5/20\n",
      "step 3909| pos_acc/neg_acc = 1.00000000/0.9000000,                 pos_pred/all_pred = 11/20\n"
     ]
    },
    {
     "name": "stderr",
     "output_type": "stream",
     "text": [
      "INFO:SubjObjTrainer:  3910: 9 [   85/  425], train_loss/accuracy = 0.10552000/0.8800000\n"
     ]
    },
    {
     "name": "stdout",
     "output_type": "stream",
     "text": [
      "  3910: 9 [   85/  425], train_loss/accuracy = 0.10552000/0.8800000\n",
      "step 3910| pos_acc/neg_acc = 0.88888889/1.0000000,                 pos_pred/all_pred =  8/20\n",
      "step 3911| pos_acc/neg_acc = 0.87500000/1.0000000,                 pos_pred/all_pred =  8/20\n",
      "step 3912| pos_acc/neg_acc = 0.77777778/1.0000000,                 pos_pred/all_pred =  7/20\n",
      "step 3913| pos_acc/neg_acc = 0.91666667/1.0000000,                 pos_pred/all_pred = 12/20\n",
      "step 3914| pos_acc/neg_acc = 0.91666667/0.8571429,                 pos_pred/all_pred = 13/20\n",
      "step 3915| pos_acc/neg_acc = 1.00000000/0.9090909,                 pos_pred/all_pred = 10/20\n",
      "step 3916| pos_acc/neg_acc = 0.77777778/1.0000000,                 pos_pred/all_pred =  7/20\n",
      "step 3917| pos_acc/neg_acc = 0.90909091/1.0000000,                 pos_pred/all_pred = 11/20\n",
      "step 3918| pos_acc/neg_acc = 0.92307692/0.8571429,                 pos_pred/all_pred = 13/20\n",
      "step 3919| pos_acc/neg_acc = 1.00000000/1.0000000,                 pos_pred/all_pred = 11/20\n"
     ]
    },
    {
     "name": "stderr",
     "output_type": "stream",
     "text": [
      "INFO:SubjObjTrainer:  3920: 9 [   95/  425], train_loss/accuracy = 0.07089718/0.9350000\n"
     ]
    },
    {
     "name": "stdout",
     "output_type": "stream",
     "text": [
      "  3920: 9 [   95/  425], train_loss/accuracy = 0.07089718/0.9350000\n",
      "step 3920| pos_acc/neg_acc = 0.90909091/0.8750000,                 pos_pred/all_pred = 12/20\n",
      "step 3921| pos_acc/neg_acc = 0.91666667/0.8571429,                 pos_pred/all_pred = 13/20\n",
      "step 3922| pos_acc/neg_acc = 0.90000000/0.9000000,                 pos_pred/all_pred = 10/20\n",
      "step 3923| pos_acc/neg_acc = 0.83333333/1.0000000,                 pos_pred/all_pred = 10/20\n",
      "step 3924| pos_acc/neg_acc = 1.00000000/0.8333333,                 pos_pred/all_pred = 10/20\n",
      "step 3925| pos_acc/neg_acc = 0.33333333/1.0000000,                 pos_pred/all_pred =  3/20\n",
      "step 3926| pos_acc/neg_acc = 1.00000000/0.7142857,                 pos_pred/all_pred = 15/20\n",
      "step 3927| pos_acc/neg_acc = 1.00000000/0.8333333,                 pos_pred/all_pred = 10/20\n",
      "step 3928| pos_acc/neg_acc = 0.72727273/1.0000000,                 pos_pred/all_pred =  8/20\n",
      "step 3929| pos_acc/neg_acc = 1.00000000/1.0000000,                 pos_pred/all_pred = 13/20\n"
     ]
    },
    {
     "name": "stderr",
     "output_type": "stream",
     "text": [
      "INFO:SubjObjTrainer:  3930: 9 [  105/  425], train_loss/accuracy = 0.08459907/0.8850000\n"
     ]
    },
    {
     "name": "stdout",
     "output_type": "stream",
     "text": [
      "  3930: 9 [  105/  425], train_loss/accuracy = 0.08459907/0.8850000\n",
      "step 3930| pos_acc/neg_acc = 0.84615385/1.0000000,                 pos_pred/all_pred = 11/20\n",
      "step 3931| pos_acc/neg_acc = 1.00000000/0.6153846,                 pos_pred/all_pred = 12/20\n",
      "step 3932| pos_acc/neg_acc = 0.87500000/1.0000000,                 pos_pred/all_pred =  7/20\n",
      "step 3933| pos_acc/neg_acc = 1.00000000/1.0000000,                 pos_pred/all_pred =  8/20\n",
      "step 3934| pos_acc/neg_acc = 1.00000000/1.0000000,                 pos_pred/all_pred =  9/20\n",
      "step 3935| pos_acc/neg_acc = 1.00000000/1.0000000,                 pos_pred/all_pred =  7/20\n",
      "step 3936| pos_acc/neg_acc = 0.66666667/1.0000000,                 pos_pred/all_pred =  4/20\n",
      "step 3937| pos_acc/neg_acc = 0.90909091/1.0000000,                 pos_pred/all_pred = 10/20\n",
      "step 3938| pos_acc/neg_acc = 1.00000000/0.6363636,                 pos_pred/all_pred = 13/20\n",
      "step 3939| pos_acc/neg_acc = 0.57142857/1.0000000,                 pos_pred/all_pred =  5/20\n"
     ]
    },
    {
     "name": "stderr",
     "output_type": "stream",
     "text": [
      "INFO:SubjObjTrainer:  3940: 9 [  115/  425], train_loss/accuracy = 0.07915712/0.9100000\n"
     ]
    },
    {
     "name": "stdout",
     "output_type": "stream",
     "text": [
      "  3940: 9 [  115/  425], train_loss/accuracy = 0.07915712/0.9100000\n",
      "step 3940| pos_acc/neg_acc = 0.87500000/0.9090909,                 pos_pred/all_pred =  9/20\n",
      "step 3941| pos_acc/neg_acc = 0.90000000/1.0000000,                 pos_pred/all_pred = 10/20\n",
      "step 3942| pos_acc/neg_acc = 1.00000000/0.8571429,                 pos_pred/all_pred = 14/20\n",
      "step 3943| pos_acc/neg_acc = 0.75000000/1.0000000,                 pos_pred/all_pred = 10/20\n",
      "step 3944| pos_acc/neg_acc = 1.00000000/0.5555556,                 pos_pred/all_pred = 15/20\n",
      "step 3945| pos_acc/neg_acc = 0.75000000/0.9166667,                 pos_pred/all_pred =  7/20\n",
      "step 3946| pos_acc/neg_acc = 1.00000000/0.8461538,                 pos_pred/all_pred =  9/20\n",
      "step 3947| pos_acc/neg_acc = 0.63636364/1.0000000,                 pos_pred/all_pred =  8/20\n",
      "step 3948| pos_acc/neg_acc = 1.00000000/1.0000000,                 pos_pred/all_pred = 11/20\n",
      "step 3949| pos_acc/neg_acc = 1.00000000/0.7142857,                 pos_pred/all_pred = 15/20\n"
     ]
    },
    {
     "name": "stderr",
     "output_type": "stream",
     "text": [
      "INFO:SubjObjTrainer:  3950: 9 [  125/  425], train_loss/accuracy = 0.09370851/0.8900000\n"
     ]
    },
    {
     "name": "stdout",
     "output_type": "stream",
     "text": [
      "  3950: 9 [  125/  425], train_loss/accuracy = 0.09370851/0.8900000\n",
      "step 3950| pos_acc/neg_acc = 0.87500000/1.0000000,                 pos_pred/all_pred =  7/20\n",
      "step 3951| pos_acc/neg_acc = 0.88888889/1.0000000,                 pos_pred/all_pred =  8/20\n",
      "step 3952| pos_acc/neg_acc = 1.00000000/1.0000000,                 pos_pred/all_pred = 13/20\n",
      "step 3953| pos_acc/neg_acc = 1.00000000/0.9230769,                 pos_pred/all_pred =  8/20\n",
      "step 3954| pos_acc/neg_acc = 1.00000000/1.0000000,                 pos_pred/all_pred =  8/20\n",
      "step 3955| pos_acc/neg_acc = 1.00000000/1.0000000,                 pos_pred/all_pred =  7/20\n",
      "step 3956| pos_acc/neg_acc = 1.00000000/1.0000000,                 pos_pred/all_pred =  6/20\n",
      "step 3957| pos_acc/neg_acc = 1.00000000/1.0000000,                 pos_pred/all_pred =  9/20\n",
      "step 3958| pos_acc/neg_acc = 0.80000000/1.0000000,                 pos_pred/all_pred =  8/20\n",
      "step 3959| pos_acc/neg_acc = 1.00000000/0.7000000,                 pos_pred/all_pred = 13/20\n"
     ]
    },
    {
     "name": "stderr",
     "output_type": "stream",
     "text": [
      "INFO:SubjObjTrainer:  3960: 9 [  135/  425], train_loss/accuracy = 0.06396367/0.9550000\n"
     ]
    },
    {
     "name": "stdout",
     "output_type": "stream",
     "text": [
      "  3960: 9 [  135/  425], train_loss/accuracy = 0.06396367/0.9550000\n",
      "step 3960| pos_acc/neg_acc = 0.60000000/1.0000000,                 pos_pred/all_pred =  7/20\n",
      "step 3961| pos_acc/neg_acc = 1.00000000/0.8750000,                 pos_pred/all_pred = 13/20\n",
      "step 3962| pos_acc/neg_acc = 0.53846154/1.0000000,                 pos_pred/all_pred =  7/20\n",
      "step 3963| pos_acc/neg_acc = 1.00000000/0.0909091,                 pos_pred/all_pred = 19/20\n",
      "step 3964| pos_acc/neg_acc = 0.62500000/1.0000000,                 pos_pred/all_pred =  6/20\n",
      "step 3965| pos_acc/neg_acc = 0.75000000/0.7272727,                 pos_pred/all_pred = 10/20\n",
      "step 3966| pos_acc/neg_acc = 1.00000000/1.0000000,                 pos_pred/all_pred = 10/20\n",
      "step 3967| pos_acc/neg_acc = 1.00000000/1.0000000,                 pos_pred/all_pred =  8/20\n",
      "step 3968| pos_acc/neg_acc = 0.92307692/1.0000000,                 pos_pred/all_pred = 12/20\n",
      "step 3969| pos_acc/neg_acc = 1.00000000/0.7692308,                 pos_pred/all_pred = 10/20\n"
     ]
    },
    {
     "name": "stderr",
     "output_type": "stream",
     "text": [
      "INFO:SubjObjTrainer:  3970: 9 [  145/  425], train_loss/accuracy = 0.13089229/0.8300000\n"
     ]
    },
    {
     "name": "stdout",
     "output_type": "stream",
     "text": [
      "  3970: 9 [  145/  425], train_loss/accuracy = 0.13089229/0.8300000\n",
      "step 3970| pos_acc/neg_acc = 0.77777778/1.0000000,                 pos_pred/all_pred =  7/20\n",
      "step 3971| pos_acc/neg_acc = 0.90909091/1.0000000,                 pos_pred/all_pred = 11/20\n",
      "step 3972| pos_acc/neg_acc = 1.00000000/0.9230769,                 pos_pred/all_pred =  8/20\n",
      "step 3973| pos_acc/neg_acc = 0.53846154/1.0000000,                 pos_pred/all_pred =  7/20\n",
      "step 3974| pos_acc/neg_acc = 1.00000000/0.5000000,                 pos_pred/all_pred = 16/20\n",
      "step 3975| pos_acc/neg_acc = 0.84615385/1.0000000,                 pos_pred/all_pred = 11/20\n",
      "step 3976| pos_acc/neg_acc = 1.00000000/1.0000000,                 pos_pred/all_pred =  8/20\n",
      "step 3977| pos_acc/neg_acc = 0.90000000/1.0000000,                 pos_pred/all_pred =  9/20\n",
      "step 3978| pos_acc/neg_acc = 0.90909091/1.0000000,                 pos_pred/all_pred = 11/20\n",
      "step 3979| pos_acc/neg_acc = 1.00000000/1.0000000,                 pos_pred/all_pred =  8/20\n"
     ]
    },
    {
     "name": "stderr",
     "output_type": "stream",
     "text": [
      "INFO:SubjObjTrainer:  3980: 9 [  155/  425], train_loss/accuracy = 0.09781373/0.9100000\n"
     ]
    },
    {
     "name": "stdout",
     "output_type": "stream",
     "text": [
      "  3980: 9 [  155/  425], train_loss/accuracy = 0.09781373/0.9100000\n",
      "step 3980| pos_acc/neg_acc = 0.91666667/1.0000000,                 pos_pred/all_pred = 11/20\n",
      "step 3981| pos_acc/neg_acc = 1.00000000/1.0000000,                 pos_pred/all_pred = 10/20\n",
      "step 3982| pos_acc/neg_acc = 0.84615385/1.0000000,                 pos_pred/all_pred = 11/20\n",
      "step 3983| pos_acc/neg_acc = 1.00000000/1.0000000,                 pos_pred/all_pred = 10/20\n",
      "step 3984| pos_acc/neg_acc = 1.00000000/1.0000000,                 pos_pred/all_pred = 10/20\n",
      "step 3985| pos_acc/neg_acc = 1.00000000/0.7857143,                 pos_pred/all_pred =  9/20\n",
      "step 3986| pos_acc/neg_acc = 0.41666667/1.0000000,                 pos_pred/all_pred =  5/20\n",
      "step 3987| pos_acc/neg_acc = 1.00000000/0.2500000,                 pos_pred/all_pred = 18/20\n",
      "step 3988| pos_acc/neg_acc = 0.72727273/1.0000000,                 pos_pred/all_pred =  8/20\n",
      "step 3989| pos_acc/neg_acc = 1.00000000/0.5000000,                 pos_pred/all_pred = 16/20\n"
     ]
    },
    {
     "name": "stderr",
     "output_type": "stream",
     "text": [
      "INFO:SubjObjTrainer:  3990: 9 [  165/  425], train_loss/accuracy = 0.10717275/0.8650000\n"
     ]
    },
    {
     "name": "stdout",
     "output_type": "stream",
     "text": [
      "  3990: 9 [  165/  425], train_loss/accuracy = 0.10717275/0.8650000\n",
      "step 3990| pos_acc/neg_acc = 0.91666667/1.0000000,                 pos_pred/all_pred = 11/20\n",
      "step 3991| pos_acc/neg_acc = 1.00000000/1.0000000,                 pos_pred/all_pred =  8/20\n",
      "step 3992| pos_acc/neg_acc = 0.88888889/1.0000000,                 pos_pred/all_pred =  9/20\n",
      "step 3993| pos_acc/neg_acc = 1.00000000/1.0000000,                 pos_pred/all_pred = 14/20\n",
      "step 3994| pos_acc/neg_acc = 1.00000000/0.5714286,                 pos_pred/all_pred = 16/20\n",
      "step 3995| pos_acc/neg_acc = 1.00000000/0.9166667,                 pos_pred/all_pred =  9/20\n",
      "step 3996| pos_acc/neg_acc = 0.42857143/1.0000000,                 pos_pred/all_pred =  4/20\n",
      "step 3997| pos_acc/neg_acc = 1.00000000/0.8750000,                 pos_pred/all_pred = 13/20\n",
      "step 3998| pos_acc/neg_acc = 0.72727273/1.0000000,                 pos_pred/all_pred =  9/20\n",
      "step 3999| pos_acc/neg_acc = 1.00000000/0.8666667,                 pos_pred/all_pred =  7/20\n"
     ]
    },
    {
     "name": "stderr",
     "output_type": "stream",
     "text": [
      "INFO:SubjObjTrainer:  4000: 9 [  175/  425], train_loss/accuracy = 0.06664660/0.9150000\n"
     ]
    },
    {
     "name": "stdout",
     "output_type": "stream",
     "text": [
      "  4000: 9 [  175/  425], train_loss/accuracy = 0.06664660/0.9150000\n",
      "step 4000| pos_acc/neg_acc = 0.80000000/1.0000000,                 pos_pred/all_pred =  8/20\n",
      "step 4001| pos_acc/neg_acc = 1.00000000/1.0000000,                 pos_pred/all_pred = 11/20\n",
      "step 4002| pos_acc/neg_acc = 1.00000000/1.0000000,                 pos_pred/all_pred =  8/20\n",
      "step 4003| pos_acc/neg_acc = 1.00000000/1.0000000,                 pos_pred/all_pred = 11/20\n",
      "step 4004| pos_acc/neg_acc = 0.81818182/1.0000000,                 pos_pred/all_pred = 10/20\n",
      "step 4005| pos_acc/neg_acc = 1.00000000/0.6666667,                 pos_pred/all_pred = 14/20\n",
      "step 4006| pos_acc/neg_acc = 0.77777778/1.0000000,                 pos_pred/all_pred =  7/20\n",
      "step 4007| pos_acc/neg_acc = 0.90000000/0.7777778,                 pos_pred/all_pred = 12/20\n",
      "step 4008| pos_acc/neg_acc = 0.88888889/1.0000000,                 pos_pred/all_pred =  9/20\n",
      "step 4009| pos_acc/neg_acc = 1.00000000/1.0000000,                 pos_pred/all_pred =  8/20\n"
     ]
    },
    {
     "name": "stderr",
     "output_type": "stream",
     "text": [
      "INFO:SubjObjTrainer:  4010: 9 [  185/  425], train_loss/accuracy = 0.06202600/0.9350000\n"
     ]
    },
    {
     "name": "stdout",
     "output_type": "stream",
     "text": [
      "  4010: 9 [  185/  425], train_loss/accuracy = 0.06202600/0.9350000\n",
      "step 4010| pos_acc/neg_acc = 0.80000000/1.0000000,                 pos_pred/all_pred =  9/20\n",
      "step 4011| pos_acc/neg_acc = 1.00000000/0.8235294,                 pos_pred/all_pred =  6/20\n",
      "step 4012| pos_acc/neg_acc = 0.37500000/1.0000000,                 pos_pred/all_pred =  3/20\n",
      "step 4013| pos_acc/neg_acc = 1.00000000/0.8333333,                 pos_pred/all_pred = 10/20\n",
      "step 4014| pos_acc/neg_acc = 1.00000000/1.0000000,                 pos_pred/all_pred =  6/20\n",
      "step 4015| pos_acc/neg_acc = 0.60000000/1.0000000,                 pos_pred/all_pred =  6/20\n",
      "step 4016| pos_acc/neg_acc = 1.00000000/1.0000000,                 pos_pred/all_pred =  8/20\n",
      "step 4017| pos_acc/neg_acc = 0.83333333/1.0000000,                 pos_pred/all_pred = 10/20\n",
      "step 4018| pos_acc/neg_acc = 1.00000000/0.7142857,                 pos_pred/all_pred = 15/20\n",
      "step 4019| pos_acc/neg_acc = 0.86666667/1.0000000,                 pos_pred/all_pred = 14/20\n"
     ]
    },
    {
     "name": "stderr",
     "output_type": "stream",
     "text": [
      "INFO:SubjObjTrainer:  4020: 9 [  195/  425], train_loss/accuracy = 0.08445702/0.8850000\n"
     ]
    },
    {
     "name": "stdout",
     "output_type": "stream",
     "text": [
      "  4020: 9 [  195/  425], train_loss/accuracy = 0.08445702/0.8850000\n",
      "step 4020| pos_acc/neg_acc = 1.00000000/0.7272727,                 pos_pred/all_pred = 12/20\n",
      "step 4021| pos_acc/neg_acc = 0.44444444/1.0000000,                 pos_pred/all_pred =  5/20\n",
      "step 4022| pos_acc/neg_acc = 1.00000000/0.5833333,                 pos_pred/all_pred = 13/20\n",
      "step 4023| pos_acc/neg_acc = 0.62500000/1.0000000,                 pos_pred/all_pred =  6/20\n",
      "step 4024| pos_acc/neg_acc = 0.77777778/0.9090909,                 pos_pred/all_pred =  8/20\n",
      "step 4025| pos_acc/neg_acc = 0.90000000/1.0000000,                 pos_pred/all_pred =  9/20\n",
      "step 4026| pos_acc/neg_acc = 0.91666667/0.7500000,                 pos_pred/all_pred = 13/20\n",
      "step 4027| pos_acc/neg_acc = 0.70000000/1.0000000,                 pos_pred/all_pred =  7/20\n",
      "step 4028| pos_acc/neg_acc = 1.00000000/0.9000000,                 pos_pred/all_pred = 11/20\n",
      "step 4029| pos_acc/neg_acc = 0.81818182/1.0000000,                 pos_pred/all_pred = 10/20\n"
     ]
    },
    {
     "name": "stderr",
     "output_type": "stream",
     "text": [
      "INFO:SubjObjTrainer:  4030: 9 [  205/  425], train_loss/accuracy = 0.11241432/0.8550000\n"
     ]
    },
    {
     "name": "stdout",
     "output_type": "stream",
     "text": [
      "  4030: 9 [  205/  425], train_loss/accuracy = 0.11241432/0.8550000\n",
      "step 4030| pos_acc/neg_acc = 0.90000000/1.0000000,                 pos_pred/all_pred = 10/20\n",
      "step 4031| pos_acc/neg_acc = 1.00000000/0.9230769,                 pos_pred/all_pred =  8/20\n",
      "step 4032| pos_acc/neg_acc = 0.81818182/1.0000000,                 pos_pred/all_pred =  9/20\n",
      "step 4033| pos_acc/neg_acc = 1.00000000/0.7272727,                 pos_pred/all_pred = 12/20\n",
      "step 4034| pos_acc/neg_acc = 0.50000000/1.0000000,                 pos_pred/all_pred =  3/20\n",
      "step 4035| pos_acc/neg_acc = 0.91666667/1.0000000,                 pos_pred/all_pred = 12/20\n",
      "step 4036| pos_acc/neg_acc = 1.00000000/0.9166667,                 pos_pred/all_pred =  9/20\n",
      "step 4037| pos_acc/neg_acc = 0.62500000/1.0000000,                 pos_pred/all_pred =  6/20\n",
      "step 4038| pos_acc/neg_acc = 1.00000000/0.9230769,                 pos_pred/all_pred =  8/20\n",
      "step 4039| pos_acc/neg_acc = 0.66666667/1.0000000,                 pos_pred/all_pred =  7/20\n"
     ]
    },
    {
     "name": "stderr",
     "output_type": "stream",
     "text": [
      "INFO:SubjObjTrainer:  4040: 9 [  215/  425], train_loss/accuracy = 0.07976197/0.9050000\n"
     ]
    },
    {
     "name": "stdout",
     "output_type": "stream",
     "text": [
      "  4040: 9 [  215/  425], train_loss/accuracy = 0.07976197/0.9050000\n",
      "step 4040| pos_acc/neg_acc = 1.00000000/1.0000000,                 pos_pred/all_pred =  8/20\n",
      "step 4041| pos_acc/neg_acc = 0.72727273/1.0000000,                 pos_pred/all_pred =  9/20\n",
      "step 4042| pos_acc/neg_acc = 0.87500000/1.0000000,                 pos_pred/all_pred =  7/20\n",
      "step 4043| pos_acc/neg_acc = 0.81818182/1.0000000,                 pos_pred/all_pred =  9/20\n",
      "step 4044| pos_acc/neg_acc = 1.00000000/0.8571429,                 pos_pred/all_pred = 14/20\n",
      "step 4045| pos_acc/neg_acc = 1.00000000/1.0000000,                 pos_pred/all_pred =  8/20\n",
      "step 4046| pos_acc/neg_acc = 0.71428571/1.0000000,                 pos_pred/all_pred = 10/20\n",
      "step 4047| pos_acc/neg_acc = 1.00000000/0.5833333,                 pos_pred/all_pred = 13/20\n",
      "step 4048| pos_acc/neg_acc = 1.00000000/1.0000000,                 pos_pred/all_pred =  9/20\n",
      "step 4049| pos_acc/neg_acc = 0.90909091/1.0000000,                 pos_pred/all_pred = 11/20\n"
     ]
    },
    {
     "name": "stderr",
     "output_type": "stream",
     "text": [
      "INFO:SubjObjTrainer:  4050: 9 [  225/  425], train_loss/accuracy = 0.07847293/0.9150000\n"
     ]
    },
    {
     "name": "stdout",
     "output_type": "stream",
     "text": [
      "  4050: 9 [  225/  425], train_loss/accuracy = 0.07847293/0.9150000\n",
      "step 4050| pos_acc/neg_acc = 1.00000000/1.0000000,                 pos_pred/all_pred =  9/20\n",
      "step 4051| pos_acc/neg_acc = 0.66666667/0.8571429,                 pos_pred/all_pred = 10/20\n",
      "step 4052| pos_acc/neg_acc = 1.00000000/0.4545455,                 pos_pred/all_pred = 15/20\n",
      "step 4053| pos_acc/neg_acc = 0.71428571/1.0000000,                 pos_pred/all_pred =  5/20\n",
      "step 4054| pos_acc/neg_acc = 0.85714286/0.6153846,                 pos_pred/all_pred = 11/20\n",
      "step 4055| pos_acc/neg_acc = 0.33333333/1.0000000,                 pos_pred/all_pred =  3/20\n",
      "step 4056| pos_acc/neg_acc = 1.00000000/0.5000000,                 pos_pred/all_pred = 15/20\n",
      "step 4057| pos_acc/neg_acc = 0.55555556/0.9090909,                 pos_pred/all_pred =  6/20\n",
      "step 4058| pos_acc/neg_acc = 1.00000000/0.8333333,                 pos_pred/all_pred = 15/20\n",
      "step 4059| pos_acc/neg_acc = 0.87500000/1.0000000,                 pos_pred/all_pred =  7/20\n"
     ]
    },
    {
     "name": "stderr",
     "output_type": "stream",
     "text": [
      "INFO:SubjObjTrainer:  4060: 9 [  235/  425], train_loss/accuracy = 0.12510526/0.8100000\n"
     ]
    },
    {
     "name": "stdout",
     "output_type": "stream",
     "text": [
      "  4060: 9 [  235/  425], train_loss/accuracy = 0.12510526/0.8100000\n",
      "step 4060| pos_acc/neg_acc = 1.00000000/1.0000000,                 pos_pred/all_pred = 11/20\n",
      "step 4061| pos_acc/neg_acc = 1.00000000/1.0000000,                 pos_pred/all_pred = 10/20\n",
      "step 4062| pos_acc/neg_acc = 0.83333333/1.0000000,                 pos_pred/all_pred = 10/20\n",
      "step 4063| pos_acc/neg_acc = 1.00000000/0.9285714,                 pos_pred/all_pred =  7/20\n",
      "step 4064| pos_acc/neg_acc = 0.58333333/1.0000000,                 pos_pred/all_pred =  8/20\n",
      "step 4065| pos_acc/neg_acc = 1.00000000/0.7500000,                 pos_pred/all_pred = 11/20\n",
      "step 4066| pos_acc/neg_acc = 0.55555556/1.0000000,                 pos_pred/all_pred =  6/20\n",
      "step 4067| pos_acc/neg_acc = 0.80000000/0.7000000,                 pos_pred/all_pred = 11/20\n",
      "step 4068| pos_acc/neg_acc = 0.83333333/1.0000000,                 pos_pred/all_pred = 11/20\n",
      "step 4069| pos_acc/neg_acc = 1.00000000/0.8888889,                 pos_pred/all_pred = 12/20\n"
     ]
    },
    {
     "name": "stderr",
     "output_type": "stream",
     "text": [
      "INFO:SubjObjTrainer:  4070: 9 [  245/  425], train_loss/accuracy = 0.09303539/0.8850000\n"
     ]
    },
    {
     "name": "stdout",
     "output_type": "stream",
     "text": [
      "  4070: 9 [  245/  425], train_loss/accuracy = 0.09303539/0.8850000\n",
      "step 4070| pos_acc/neg_acc = 0.75000000/0.9090909,                 pos_pred/all_pred =  8/20\n",
      "step 4071| pos_acc/neg_acc = 1.00000000/1.0000000,                 pos_pred/all_pred =  4/20\n",
      "step 4072| pos_acc/neg_acc = 0.80000000/1.0000000,                 pos_pred/all_pred =  8/20\n",
      "step 4073| pos_acc/neg_acc = 0.91666667/0.8571429,                 pos_pred/all_pred = 13/20\n",
      "step 4074| pos_acc/neg_acc = 1.00000000/0.9090909,                 pos_pred/all_pred = 10/20\n",
      "step 4075| pos_acc/neg_acc = 0.75000000/1.0000000,                 pos_pred/all_pred =  6/20\n",
      "step 4076| pos_acc/neg_acc = 1.00000000/0.7777778,                 pos_pred/all_pred = 13/20\n",
      "step 4077| pos_acc/neg_acc = 0.81818182/0.8888889,                 pos_pred/all_pred = 10/20\n",
      "step 4078| pos_acc/neg_acc = 1.00000000/0.9000000,                 pos_pred/all_pred = 11/20\n",
      "step 4079| pos_acc/neg_acc = 0.87500000/1.0000000,                 pos_pred/all_pred =  8/20\n"
     ]
    },
    {
     "name": "stderr",
     "output_type": "stream",
     "text": [
      "INFO:SubjObjTrainer:  4080: 9 [  255/  425], train_loss/accuracy = 0.08893237/0.9100000\n"
     ]
    },
    {
     "name": "stdout",
     "output_type": "stream",
     "text": [
      "  4080: 9 [  255/  425], train_loss/accuracy = 0.08893237/0.9100000\n",
      "step 4080| pos_acc/neg_acc = 0.81818182/1.0000000,                 pos_pred/all_pred = 10/20\n",
      "step 4081| pos_acc/neg_acc = 0.85714286/0.9166667,                 pos_pred/all_pred =  8/20\n",
      "step 4082| pos_acc/neg_acc = 0.72727273/1.0000000,                 pos_pred/all_pred =  8/20\n",
      "step 4083| pos_acc/neg_acc = 1.00000000/0.9090909,                 pos_pred/all_pred = 10/20\n",
      "step 4084| pos_acc/neg_acc = 0.71428571/0.9166667,                 pos_pred/all_pred =  7/20\n",
      "step 4085| pos_acc/neg_acc = 1.00000000/1.0000000,                 pos_pred/all_pred = 10/20\n",
      "step 4086| pos_acc/neg_acc = 0.75000000/0.9090909,                 pos_pred/all_pred =  8/20\n",
      "step 4087| pos_acc/neg_acc = 1.00000000/1.0000000,                 pos_pred/all_pred = 11/20\n",
      "step 4088| pos_acc/neg_acc = 0.91666667/0.8750000,                 pos_pred/all_pred = 12/20\n",
      "step 4089| pos_acc/neg_acc = 1.00000000/1.0000000,                 pos_pred/all_pred =  6/20\n"
     ]
    },
    {
     "name": "stderr",
     "output_type": "stream",
     "text": [
      "INFO:SubjObjTrainer:  4090: 9 [  265/  425], train_loss/accuracy = 0.07932907/0.9200000\n"
     ]
    },
    {
     "name": "stdout",
     "output_type": "stream",
     "text": [
      "  4090: 9 [  265/  425], train_loss/accuracy = 0.07932907/0.9200000\n",
      "step 4090| pos_acc/neg_acc = 0.88888889/1.0000000,                 pos_pred/all_pred =  9/20\n",
      "step 4091| pos_acc/neg_acc = 1.00000000/0.8750000,                 pos_pred/all_pred = 13/20\n",
      "step 4092| pos_acc/neg_acc = 1.00000000/1.0000000,                 pos_pred/all_pred =  6/20\n",
      "step 4093| pos_acc/neg_acc = 0.80000000/0.8666667,                 pos_pred/all_pred =  6/20\n",
      "step 4094| pos_acc/neg_acc = 0.81818182/1.0000000,                 pos_pred/all_pred =  9/20\n",
      "step 4095| pos_acc/neg_acc = 1.00000000/0.7777778,                 pos_pred/all_pred = 13/20\n",
      "step 4096| pos_acc/neg_acc = 1.00000000/1.0000000,                 pos_pred/all_pred = 11/20\n",
      "step 4097| pos_acc/neg_acc = 0.66666667/1.0000000,                 pos_pred/all_pred =  8/20\n",
      "step 4098| pos_acc/neg_acc = 0.90909091/0.5000000,                 pos_pred/all_pred = 15/20\n",
      "step 4099| pos_acc/neg_acc = 0.91666667/0.7142857,                 pos_pred/all_pred = 14/20\n"
     ]
    },
    {
     "name": "stderr",
     "output_type": "stream",
     "text": [
      "INFO:SubjObjTrainer:  4100: 9 [  275/  425], train_loss/accuracy = 0.08188695/0.8950000\n"
     ]
    },
    {
     "name": "stdout",
     "output_type": "stream",
     "text": [
      "  4100: 9 [  275/  425], train_loss/accuracy = 0.08188695/0.8950000\n",
      "step 4100| pos_acc/neg_acc = 1.00000000/1.0000000,                 pos_pred/all_pred =  9/20\n",
      "step 4101| pos_acc/neg_acc = 1.00000000/0.7500000,                 pos_pred/all_pred = 14/20\n",
      "step 4102| pos_acc/neg_acc = 0.66666667/0.9090909,                 pos_pred/all_pred =  7/20\n",
      "step 4103| pos_acc/neg_acc = 1.00000000/1.0000000,                 pos_pred/all_pred =  9/20\n",
      "step 4104| pos_acc/neg_acc = 0.87500000/1.0000000,                 pos_pred/all_pred =  7/20\n",
      "step 4105| pos_acc/neg_acc = 0.88888889/1.0000000,                 pos_pred/all_pred =  8/20\n",
      "step 4106| pos_acc/neg_acc = 1.00000000/0.9090909,                 pos_pred/all_pred = 10/20\n",
      "step 4107| pos_acc/neg_acc = 0.50000000/1.0000000,                 pos_pred/all_pred =  2/20\n",
      "step 4108| pos_acc/neg_acc = 1.00000000/1.0000000,                 pos_pred/all_pred = 12/20\n",
      "step 4109| pos_acc/neg_acc = 0.81818182/1.0000000,                 pos_pred/all_pred =  9/20\n"
     ]
    },
    {
     "name": "stderr",
     "output_type": "stream",
     "text": [
      "INFO:SubjObjTrainer:  4110: 9 [  285/  425], train_loss/accuracy = 0.06514649/0.9300000\n"
     ]
    },
    {
     "name": "stdout",
     "output_type": "stream",
     "text": [
      "  4110: 9 [  285/  425], train_loss/accuracy = 0.06514649/0.9300000\n",
      "step 4110| pos_acc/neg_acc = 1.00000000/0.7500000,                 pos_pred/all_pred = 14/20\n",
      "step 4111| pos_acc/neg_acc = 0.80000000/1.0000000,                 pos_pred/all_pred =  9/20\n",
      "step 4112| pos_acc/neg_acc = 1.00000000/0.9000000,                 pos_pred/all_pred = 11/20\n",
      "step 4113| pos_acc/neg_acc = 1.00000000/1.0000000,                 pos_pred/all_pred = 12/20\n",
      "step 4114| pos_acc/neg_acc = 1.00000000/0.9000000,                 pos_pred/all_pred = 11/20\n",
      "step 4115| pos_acc/neg_acc = 0.91666667/1.0000000,                 pos_pred/all_pred = 12/20\n",
      "step 4116| pos_acc/neg_acc = 1.00000000/0.7777778,                 pos_pred/all_pred = 13/20\n",
      "step 4117| pos_acc/neg_acc = 0.45454545/1.0000000,                 pos_pred/all_pred =  5/20\n",
      "step 4118| pos_acc/neg_acc = 1.00000000/0.2222222,                 pos_pred/all_pred = 18/20\n",
      "step 4119| pos_acc/neg_acc = 0.90909091/1.0000000,                 pos_pred/all_pred = 10/20\n"
     ]
    },
    {
     "name": "stderr",
     "output_type": "stream",
     "text": [
      "INFO:SubjObjTrainer:  4120: 9 [  295/  425], train_loss/accuracy = 0.10177090/0.8850000\n"
     ]
    },
    {
     "name": "stdout",
     "output_type": "stream",
     "text": [
      "  4120: 9 [  295/  425], train_loss/accuracy = 0.10177090/0.8850000\n",
      "step 4120| pos_acc/neg_acc = 1.00000000/0.9000000,                 pos_pred/all_pred = 11/20\n",
      "step 4121| pos_acc/neg_acc = 0.71428571/0.9166667,                 pos_pred/all_pred =  7/20\n",
      "step 4122| pos_acc/neg_acc = 0.88888889/1.0000000,                 pos_pred/all_pred =  8/20\n",
      "step 4123| pos_acc/neg_acc = 0.91666667/1.0000000,                 pos_pred/all_pred = 11/20\n",
      "step 4124| pos_acc/neg_acc = 1.00000000/1.0000000,                 pos_pred/all_pred =  7/20\n",
      "step 4125| pos_acc/neg_acc = 0.88888889/1.0000000,                 pos_pred/all_pred =  8/20\n",
      "step 4126| pos_acc/neg_acc = 1.00000000/1.0000000,                 pos_pred/all_pred =  9/20\n",
      "step 4127| pos_acc/neg_acc = 0.91666667/1.0000000,                 pos_pred/all_pred = 12/20\n",
      "step 4128| pos_acc/neg_acc = 1.00000000/0.8333333,                 pos_pred/all_pred = 10/20\n",
      "step 4129| pos_acc/neg_acc = 0.75000000/1.0000000,                 pos_pred/all_pred =  6/20\n"
     ]
    },
    {
     "name": "stderr",
     "output_type": "stream",
     "text": [
      "INFO:SubjObjTrainer:  4130: 9 [  305/  425], train_loss/accuracy = 0.06502625/0.9350000\n"
     ]
    },
    {
     "name": "stdout",
     "output_type": "stream",
     "text": [
      "  4130: 9 [  305/  425], train_loss/accuracy = 0.06502625/0.9350000\n",
      "step 4130| pos_acc/neg_acc = 1.00000000/0.8333333,                 pos_pred/all_pred = 15/20\n",
      "step 4131| pos_acc/neg_acc = 1.00000000/1.0000000,                 pos_pred/all_pred = 10/20\n",
      "step 4132| pos_acc/neg_acc = 1.00000000/1.0000000,                 pos_pred/all_pred =  9/20\n",
      "step 4133| pos_acc/neg_acc = 1.00000000/1.0000000,                 pos_pred/all_pred = 15/20\n",
      "step 4134| pos_acc/neg_acc = 1.00000000/0.9000000,                 pos_pred/all_pred = 11/20\n",
      "step 4135| pos_acc/neg_acc = 0.72727273/1.0000000,                 pos_pred/all_pred =  9/20\n",
      "step 4136| pos_acc/neg_acc = 1.00000000/0.7500000,                 pos_pred/all_pred = 11/20\n",
      "step 4137| pos_acc/neg_acc = 0.80000000/1.0000000,                 pos_pred/all_pred =  8/20\n",
      "step 4138| pos_acc/neg_acc = 0.81818182/1.0000000,                 pos_pred/all_pred =  9/20\n",
      "step 4139| pos_acc/neg_acc = 0.88888889/1.0000000,                 pos_pred/all_pred =  8/20\n"
     ]
    },
    {
     "name": "stderr",
     "output_type": "stream",
     "text": [
      "INFO:SubjObjTrainer:  4140: 9 [  315/  425], train_loss/accuracy = 0.08054715/0.9250000\n"
     ]
    },
    {
     "name": "stdout",
     "output_type": "stream",
     "text": [
      "  4140: 9 [  315/  425], train_loss/accuracy = 0.08054715/0.9250000\n",
      "step 4140| pos_acc/neg_acc = 1.00000000/0.4545455,                 pos_pred/all_pred = 15/20\n",
      "step 4141| pos_acc/neg_acc = 0.55555556/1.0000000,                 pos_pred/all_pred =  5/20\n",
      "step 4142| pos_acc/neg_acc = 1.00000000/0.8181818,                 pos_pred/all_pred = 11/20\n",
      "step 4143| pos_acc/neg_acc = 0.50000000/1.0000000,                 pos_pred/all_pred =  3/20\n",
      "step 4144| pos_acc/neg_acc = 1.00000000/1.0000000,                 pos_pred/all_pred = 12/20\n",
      "step 4145| pos_acc/neg_acc = 0.88888889/1.0000000,                 pos_pred/all_pred =  9/20\n",
      "step 4146| pos_acc/neg_acc = 1.00000000/1.0000000,                 pos_pred/all_pred =  7/20\n",
      "step 4147| pos_acc/neg_acc = 0.72727273/1.0000000,                 pos_pred/all_pred =  9/20\n",
      "step 4148| pos_acc/neg_acc = 1.00000000/0.8461538,                 pos_pred/all_pred =  9/20\n",
      "step 4149| pos_acc/neg_acc = 0.66666667/1.0000000,                 pos_pred/all_pred =  7/20\n"
     ]
    },
    {
     "name": "stderr",
     "output_type": "stream",
     "text": [
      "INFO:SubjObjTrainer:  4150: 9 [  325/  425], train_loss/accuracy = 0.10699338/0.8800000\n"
     ]
    },
    {
     "name": "stdout",
     "output_type": "stream",
     "text": [
      "  4150: 9 [  325/  425], train_loss/accuracy = 0.10699338/0.8800000\n",
      "step 4150| pos_acc/neg_acc = 1.00000000/0.8888889,                 pos_pred/all_pred = 12/20\n",
      "step 4151| pos_acc/neg_acc = 0.77777778/1.0000000,                 pos_pred/all_pred =  7/20\n",
      "step 4152| pos_acc/neg_acc = 0.83333333/1.0000000,                 pos_pred/all_pred = 10/20\n",
      "step 4153| pos_acc/neg_acc = 1.00000000/0.8571429,                 pos_pred/all_pred = 14/20\n",
      "step 4154| pos_acc/neg_acc = 0.87500000/0.9090909,                 pos_pred/all_pred =  9/20\n",
      "step 4155| pos_acc/neg_acc = 0.91666667/0.8571429,                 pos_pred/all_pred = 13/20\n",
      "step 4156| pos_acc/neg_acc = 0.88888889/1.0000000,                 pos_pred/all_pred =  9/20\n",
      "step 4157| pos_acc/neg_acc = 0.72727273/1.0000000,                 pos_pred/all_pred =  9/20\n",
      "step 4158| pos_acc/neg_acc = 1.00000000/0.4444444,                 pos_pred/all_pred = 16/20\n",
      "step 4159| pos_acc/neg_acc = 0.81818182/1.0000000,                 pos_pred/all_pred =  9/20\n"
     ]
    },
    {
     "name": "stderr",
     "output_type": "stream",
     "text": [
      "INFO:SubjObjTrainer:  4160: 9 [  335/  425], train_loss/accuracy = 0.08715166/0.8900000\n"
     ]
    },
    {
     "name": "stdout",
     "output_type": "stream",
     "text": [
      "  4160: 9 [  335/  425], train_loss/accuracy = 0.08715166/0.8900000\n",
      "step 4160| pos_acc/neg_acc = 1.00000000/0.6363636,                 pos_pred/all_pred = 12/20\n",
      "step 4161| pos_acc/neg_acc = 0.90909091/1.0000000,                 pos_pred/all_pred = 11/20\n",
      "step 4162| pos_acc/neg_acc = 1.00000000/1.0000000,                 pos_pred/all_pred = 14/20\n",
      "step 4163| pos_acc/neg_acc = 1.00000000/1.0000000,                 pos_pred/all_pred = 10/20\n",
      "step 4164| pos_acc/neg_acc = 0.81818182/1.0000000,                 pos_pred/all_pred =  9/20\n",
      "step 4165| pos_acc/neg_acc = 0.91666667/1.0000000,                 pos_pred/all_pred = 11/20\n",
      "step 4166| pos_acc/neg_acc = 1.00000000/1.0000000,                 pos_pred/all_pred =  9/20\n",
      "step 4167| pos_acc/neg_acc = 0.90000000/0.9000000,                 pos_pred/all_pred = 10/20\n",
      "step 4168| pos_acc/neg_acc = 1.00000000/1.0000000,                 pos_pred/all_pred = 10/20\n",
      "step 4169| pos_acc/neg_acc = 1.00000000/0.9166667,                 pos_pred/all_pred =  9/20\n"
     ]
    },
    {
     "name": "stderr",
     "output_type": "stream",
     "text": [
      "INFO:SubjObjTrainer:  4170: 9 [  345/  425], train_loss/accuracy = 0.06685652/0.9400000\n"
     ]
    },
    {
     "name": "stdout",
     "output_type": "stream",
     "text": [
      "  4170: 9 [  345/  425], train_loss/accuracy = 0.06685652/0.9400000\n",
      "step 4170| pos_acc/neg_acc = 0.87500000/1.0000000,                 pos_pred/all_pred =  8/20\n",
      "step 4171| pos_acc/neg_acc = 0.92307692/0.8333333,                 pos_pred/all_pred = 14/20\n",
      "step 4172| pos_acc/neg_acc = 0.92307692/0.8333333,                 pos_pred/all_pred = 14/20\n",
      "step 4173| pos_acc/neg_acc = 1.00000000/1.0000000,                 pos_pred/all_pred = 10/20\n",
      "step 4174| pos_acc/neg_acc = 0.50000000/1.0000000,                 pos_pred/all_pred =  3/20\n",
      "step 4175| pos_acc/neg_acc = 1.00000000/1.0000000,                 pos_pred/all_pred =  9/20\n",
      "step 4176| pos_acc/neg_acc = 1.00000000/1.0000000,                 pos_pred/all_pred = 10/20\n",
      "step 4177| pos_acc/neg_acc = 1.00000000/0.9166667,                 pos_pred/all_pred =  9/20\n",
      "step 4178| pos_acc/neg_acc = 0.88888889/0.9000000,                 pos_pred/all_pred = 10/20\n",
      "step 4179| pos_acc/neg_acc = 0.87500000/1.0000000,                 pos_pred/all_pred =  8/20\n"
     ]
    },
    {
     "name": "stderr",
     "output_type": "stream",
     "text": [
      "INFO:SubjObjTrainer:  4180: 9 [  355/  425], train_loss/accuracy = 0.06428497/0.9400000\n"
     ]
    },
    {
     "name": "stdout",
     "output_type": "stream",
     "text": [
      "  4180: 9 [  355/  425], train_loss/accuracy = 0.06428497/0.9400000\n",
      "step 4180| pos_acc/neg_acc = 1.00000000/0.5555556,                 pos_pred/all_pred = 15/20\n",
      "step 4181| pos_acc/neg_acc = 0.33333333/1.0000000,                 pos_pred/all_pred =  3/20\n",
      "step 4182| pos_acc/neg_acc = 1.00000000/0.8461538,                 pos_pred/all_pred =  9/20\n",
      "step 4183| pos_acc/neg_acc = 0.44444444/1.0000000,                 pos_pred/all_pred =  5/20\n",
      "step 4184| pos_acc/neg_acc = 1.00000000/0.8750000,                 pos_pred/all_pred = 13/20\n",
      "step 4185| pos_acc/neg_acc = 0.80000000/1.0000000,                 pos_pred/all_pred =  4/20\n",
      "step 4186| pos_acc/neg_acc = 0.87500000/1.0000000,                 pos_pred/all_pred =  7/20\n",
      "step 4187| pos_acc/neg_acc = 0.91666667/1.0000000,                 pos_pred/all_pred = 11/20\n",
      "step 4188| pos_acc/neg_acc = 1.00000000/1.0000000,                 pos_pred/all_pred =  7/20\n",
      "step 4189| pos_acc/neg_acc = 0.87500000/1.0000000,                 pos_pred/all_pred =  7/20\n"
     ]
    },
    {
     "name": "stderr",
     "output_type": "stream",
     "text": [
      "INFO:SubjObjTrainer:  4190: 9 [  365/  425], train_loss/accuracy = 0.08103782/0.8950000\n"
     ]
    },
    {
     "name": "stdout",
     "output_type": "stream",
     "text": [
      "  4190: 9 [  365/  425], train_loss/accuracy = 0.08103782/0.8950000\n",
      "step 4190| pos_acc/neg_acc = 0.80000000/0.8888889,                 pos_pred/all_pred = 10/20\n",
      "step 4191| pos_acc/neg_acc = 0.83333333/1.0000000,                 pos_pred/all_pred = 10/20\n",
      "step 4192| pos_acc/neg_acc = 1.00000000/0.9166667,                 pos_pred/all_pred =  9/20\n",
      "step 4193| pos_acc/neg_acc = 1.00000000/1.0000000,                 pos_pred/all_pred =  9/20\n",
      "step 4194| pos_acc/neg_acc = 0.75000000/0.8750000,                 pos_pred/all_pred = 10/20\n",
      "step 4195| pos_acc/neg_acc = 1.00000000/0.8888889,                 pos_pred/all_pred = 12/20\n",
      "step 4196| pos_acc/neg_acc = 1.00000000/1.0000000,                 pos_pred/all_pred = 10/20\n",
      "step 4197| pos_acc/neg_acc = 1.00000000/0.9090909,                 pos_pred/all_pred = 10/20\n",
      "step 4198| pos_acc/neg_acc = 0.62500000/1.0000000,                 pos_pred/all_pred =  6/20\n",
      "step 4199| pos_acc/neg_acc = 1.00000000/0.7500000,                 pos_pred/all_pred = 14/20\n"
     ]
    },
    {
     "name": "stderr",
     "output_type": "stream",
     "text": [
      "INFO:SubjObjTrainer:  4200: 9 [  375/  425], train_loss/accuracy = 0.07321307/0.9150000\n"
     ]
    },
    {
     "name": "stdout",
     "output_type": "stream",
     "text": [
      "  4200: 9 [  375/  425], train_loss/accuracy = 0.07321307/0.9150000\n",
      "step 4200| pos_acc/neg_acc = 0.90000000/1.0000000,                 pos_pred/all_pred =  9/20\n",
      "step 4201| pos_acc/neg_acc = 0.91666667/0.8571429,                 pos_pred/all_pred = 13/20\n",
      "step 4202| pos_acc/neg_acc = 0.90000000/0.9000000,                 pos_pred/all_pred = 10/20\n",
      "step 4203| pos_acc/neg_acc = 1.00000000/0.9090909,                 pos_pred/all_pred = 10/20\n",
      "step 4204| pos_acc/neg_acc = 1.00000000/1.0000000,                 pos_pred/all_pred = 10/20\n",
      "step 4205| pos_acc/neg_acc = 0.91666667/1.0000000,                 pos_pred/all_pred = 11/20\n",
      "step 4206| pos_acc/neg_acc = 1.00000000/1.0000000,                 pos_pred/all_pred =  6/20\n",
      "step 4207| pos_acc/neg_acc = 1.00000000/1.0000000,                 pos_pred/all_pred =  8/20\n",
      "step 4208| pos_acc/neg_acc = 0.72727273/1.0000000,                 pos_pred/all_pred =  9/20\n",
      "step 4209| pos_acc/neg_acc = 0.87500000/0.7500000,                 pos_pred/all_pred = 10/20\n"
     ]
    },
    {
     "name": "stderr",
     "output_type": "stream",
     "text": [
      "INFO:SubjObjTrainer:  4210: 9 [  385/  425], train_loss/accuracy = 0.07559381/0.9300000\n"
     ]
    },
    {
     "name": "stdout",
     "output_type": "stream",
     "text": [
      "  4210: 9 [  385/  425], train_loss/accuracy = 0.07559381/0.9300000\n",
      "step 4210| pos_acc/neg_acc = 0.63636364/1.0000000,                 pos_pred/all_pred =  8/20\n",
      "step 4211| pos_acc/neg_acc = 1.00000000/0.5555556,                 pos_pred/all_pred = 15/20\n",
      "step 4212| pos_acc/neg_acc = 0.81818182/1.0000000,                 pos_pred/all_pred =  9/20\n",
      "step 4213| pos_acc/neg_acc = 1.00000000/0.8888889,                 pos_pred/all_pred = 12/20\n",
      "step 4214| pos_acc/neg_acc = 0.88888889/1.0000000,                 pos_pred/all_pred =  9/20\n",
      "step 4215| pos_acc/neg_acc = 0.90909091/1.0000000,                 pos_pred/all_pred = 11/20\n",
      "step 4216| pos_acc/neg_acc = 1.00000000/0.7000000,                 pos_pred/all_pred = 13/20\n",
      "step 4217| pos_acc/neg_acc = 0.83333333/1.0000000,                 pos_pred/all_pred = 10/20\n",
      "step 4218| pos_acc/neg_acc = 1.00000000/0.8888889,                 pos_pred/all_pred = 12/20\n",
      "step 4219| pos_acc/neg_acc = 0.90909091/1.0000000,                 pos_pred/all_pred = 10/20\n"
     ]
    },
    {
     "name": "stderr",
     "output_type": "stream",
     "text": [
      "INFO:SubjObjTrainer:  4220: 9 [  395/  425], train_loss/accuracy = 0.09131725/0.9000000\n"
     ]
    },
    {
     "name": "stdout",
     "output_type": "stream",
     "text": [
      "  4220: 9 [  395/  425], train_loss/accuracy = 0.09131725/0.9000000\n",
      "step 4220| pos_acc/neg_acc = 1.00000000/1.0000000,                 pos_pred/all_pred = 12/20\n",
      "step 4221| pos_acc/neg_acc = 1.00000000/0.8461538,                 pos_pred/all_pred =  9/20\n",
      "step 4222| pos_acc/neg_acc = 0.38461538/1.0000000,                 pos_pred/all_pred =  5/20\n",
      "step 4223| pos_acc/neg_acc = 1.00000000/0.2500000,                 pos_pred/all_pred = 17/20\n",
      "step 4224| pos_acc/neg_acc = 0.60000000/1.0000000,                 pos_pred/all_pred =  6/20\n",
      "step 4225| pos_acc/neg_acc = 1.00000000/0.7000000,                 pos_pred/all_pred = 13/20\n",
      "step 4226| pos_acc/neg_acc = 1.00000000/1.0000000,                 pos_pred/all_pred = 13/20\n",
      "step 4227| pos_acc/neg_acc = 1.00000000/1.0000000,                 pos_pred/all_pred = 11/20\n",
      "step 4228| pos_acc/neg_acc = 1.00000000/0.9000000,                 pos_pred/all_pred = 11/20\n",
      "step 4229| pos_acc/neg_acc = 1.00000000/1.0000000,                 pos_pred/all_pred =  7/20\n"
     ]
    },
    {
     "name": "stderr",
     "output_type": "stream",
     "text": [
      "INFO:SubjObjTrainer:  4230: 9 [  405/  425], train_loss/accuracy = 0.11164278/0.8600000\n"
     ]
    },
    {
     "name": "stdout",
     "output_type": "stream",
     "text": [
      "  4230: 9 [  405/  425], train_loss/accuracy = 0.11164278/0.8600000\n",
      "step 4230| pos_acc/neg_acc = 0.88888889/1.0000000,                 pos_pred/all_pred =  8/20\n",
      "step 4231| pos_acc/neg_acc = 0.88888889/0.9090909,                 pos_pred/all_pred =  9/20\n",
      "step 4232| pos_acc/neg_acc = 0.81818182/1.0000000,                 pos_pred/all_pred =  9/20\n",
      "step 4233| pos_acc/neg_acc = 1.00000000/0.6250000,                 pos_pred/all_pred = 15/20\n",
      "step 4234| pos_acc/neg_acc = 0.70000000/1.0000000,                 pos_pred/all_pred =  7/20\n",
      "step 4235| pos_acc/neg_acc = 0.91666667/0.8571429,                 pos_pred/all_pred = 13/20\n",
      "step 4236| pos_acc/neg_acc = 0.87500000/1.0000000,                 pos_pred/all_pred =  8/20\n",
      "step 4237| pos_acc/neg_acc = 1.00000000/0.8888889,                 pos_pred/all_pred = 12/20\n",
      "step 4238| pos_acc/neg_acc = 1.00000000/1.0000000,                 pos_pred/all_pred =  6/20\n",
      "step 4239| pos_acc/neg_acc = 0.75000000/1.0000000,                 pos_pred/all_pred = 10/20\n"
     ]
    },
    {
     "name": "stderr",
     "output_type": "stream",
     "text": [
      "INFO:SubjObjTrainer:  4240: 9 [  415/  425], train_loss/accuracy = 0.08601632/0.9050000\n"
     ]
    },
    {
     "name": "stdout",
     "output_type": "stream",
     "text": [
      "  4240: 9 [  415/  425], train_loss/accuracy = 0.08601632/0.9050000\n",
      "step 4240| pos_acc/neg_acc = 1.00000000/0.5000000,                 pos_pred/all_pred = 14/20\n",
      "step 4241| pos_acc/neg_acc = 0.62500000/1.0000000,                 pos_pred/all_pred =  6/20\n",
      "step 4242| pos_acc/neg_acc = 1.00000000/0.9090909,                 pos_pred/all_pred = 10/20\n",
      "step 4243| pos_acc/neg_acc = 0.90000000/1.0000000,                 pos_pred/all_pred =  9/20\n",
      "step 4244| pos_acc/neg_acc = 1.00000000/0.9090909,                 pos_pred/all_pred = 10/20\n",
      "step 4245| pos_acc/neg_acc = 1.00000000/0.8888889,                 pos_pred/all_pred = 12/20\n",
      "step 4246| pos_acc/neg_acc = 0.91666667/0.8750000,                 pos_pred/all_pred = 12/20\n",
      "step 4247| pos_acc/neg_acc = 1.00000000/1.0000000,                 pos_pred/all_pred = 12/20\n",
      "step 4248| pos_acc/neg_acc = 1.00000000/0.9000000,                 pos_pred/all_pred = 11/20\n",
      "step 4249| pos_acc/neg_acc = 1.00000000/1.0000000,                 pos_pred/all_pred =  8/20\n"
     ]
    },
    {
     "name": "stderr",
     "output_type": "stream",
     "text": [
      "INFO:SubjObjTrainer:  4250: 9 [    0/  425], train_loss/accuracy = 0.07217979/0.9200000\n"
     ]
    },
    {
     "name": "stdout",
     "output_type": "stream",
     "text": [
      "  4250: 9 [    0/  425], train_loss/accuracy = 0.07217979/0.9200000\n"
     ]
    },
    {
     "name": "stderr",
     "output_type": "stream",
     "text": [
      "INFO:SubjObjTrainer:[    9/   10], valid_loss/accuracy = 0.07104027/0.5260000\n"
     ]
    },
    {
     "name": "stdout",
     "output_type": "stream",
     "text": [
      "[    9/   10], valid_loss/accuracy = 0.07104027/0.5260000\n"
     ]
    }
   ],
   "source": [
    "TrainSentiModel(bert, sentiModel, sentiClassifier, \n",
    "                train_reader, valid_reader, test_reader, \n",
    "                sentiLogger, \"BERTSubjObj/\")"
   ]
  },
  {
   "cell_type": "code",
   "execution_count": 11,
   "metadata": {},
   "outputs": [
    {
     "name": "stdout",
     "output_type": "stream",
     "text": [
      "max_sent: 187 ,  max_seq_len: 101\n",
      "5802 data loaded\n"
     ]
    }
   ],
   "source": [
    "CM_logger = MyLogger(\"CMTest\")\n",
    "load_data_fast()"
   ]
  },
  {
   "cell_type": "code",
   "execution_count": 11,
   "metadata": {},
   "outputs": [],
   "source": [
    "import tsentiLoader"
   ]
  },
  {
   "cell_type": "code",
   "execution_count": 12,
   "metadata": {},
   "outputs": [],
   "source": [
    "train_file = \"/home/hadoop/trainingandtestdata/training.1600000.processed.noemoticon.csv\"\n",
    "test_file = \"/home/hadoop/trainingandtestdata/testdata.manual.2009.06.14.csv\""
   ]
  },
  {
   "cell_type": "code",
   "execution_count": 13,
   "metadata": {},
   "outputs": [
    {
     "name": "stdout",
     "output_type": "stream",
     "text": [
      "/home/hadoop/trainingandtestdata/training.1600000.processed.noemoticon.csv\n",
      "/home/hadoop/trainingandtestdata/testdata.manual.2009.06.14.csv\n"
     ]
    }
   ],
   "source": [
    "train_set, test_set = tsentiLoader.load_data(train_file, test_file)"
   ]
  },
  {
   "cell_type": "code",
   "execution_count": null,
   "metadata": {},
   "outputs": [],
   "source": [
    "train_reader = tsentiLoader.tSentiReader(train_set, 20, tokenizer=tokenizer)"
   ]
  },
  {
   "cell_type": "code",
   "execution_count": null,
   "metadata": {},
   "outputs": [],
   "source": [
    "test_reader = tsentiLoader.tSentiReader(test_set, 20, tokenizer=tokenizer)"
   ]
  },
  {
   "cell_type": "code",
   "execution_count": 12,
   "metadata": {},
   "outputs": [],
   "source": [
    "def TwitterCls(bert, tokenizer, sent_cls, new_data_len=[]):\n",
    "    max_gpu_batch = 5\n",
    "    loss_MSE = nn.MSELoss().cuda()\n",
    "    loss_CE = nn.CrossEntropyLoss(weight=torch.tensor([3.0, 1.0], dtype=torch.float32).cuda())\n",
    "#     loss_fn = Loss_Fn\n",
    "    optim = torch.optim.Adam([\n",
    "                            {'params': bert.parameters(), 'lr':1e-3},\n",
    "    #                                 {'params': rdm_classifier.parameters(), 'lr': 5e-2},\n",
    "#                             {'params': rdm_model.parameters(), 'lr': 5e-2},\n",
    "                            {'params': sent_cls.parameters(), 'lr': 1e-2}\n",
    "                         ],\n",
    "#                             weight_decay = 0.2\n",
    "    )\n",
    "    acc_cnt = 0\n",
    "    try:\n",
    "        for step in range(10000):\n",
    "            if len(new_data_len) > 0:\n",
    "                x, x_len, y = get_df_batch(step, max_gpu_batch, new_data_len, tokenizer=tokenizer)\n",
    "            else:\n",
    "                x, x_len, y = get_df_batch(step, max_gpu_batch, tokenizer=tokenizer)\n",
    "            x_emb = Word_ids2SeqStates(x, bert, 3, cuda=True) \n",
    "            batchsize, max_seq, max_word_num, emb_dim = x_emb.shape\n",
    "            xE = x_emb.reshape(\n",
    "                            [-1, max_word_num, emb_dim]\n",
    "                        )[:, 0, :]\n",
    "            input_ = torch.cat([xE[i*max_seq:(i*max_seq+l)] for i, l in enumerate(x_len)], axis=0)\n",
    "            pred = sent_cls(input_)\n",
    "            yy = torch.cat([torch.tensor(y[i:i+1].repeat(x_len[i], axis=0), dtype=torch.float32) \n",
    "                            for i in range(len(y))], axis=0).to(torch.float32).cuda()\n",
    "            loss = loss_MSE(yy, pred)+ loss_CE(pred, yy.argmax(axis=1))\n",
    "            optim.zero_grad()\n",
    "            loss.backward()\n",
    "            optim.step()\n",
    "            acc, pos_acc, neg_acc, y_idxs, pos_idxs, \\\n",
    "            neg_idxs, correct_preds = Count_Accs(yy.argmax(axis=1), pred.argmax(axis=1))\n",
    "            print(\"step %d| pos_acc/pos_cnt = %3.3f/%3d,\\\n",
    "                    neg_acc/neg_cnt = %3.3f/%3d \\\n",
    "                    pos_pred/all_pred = %2d/%2d\"%(\n",
    "                    step, pos_acc, len(pos_idxs),\n",
    "                    neg_acc, len(neg_idxs), \n",
    "                    sum(pred.argmax(axis=1)),\n",
    "                    len(pred)\n",
    "                    )\n",
    "            )\n",
    "            print(\"%d | 10000   loss = %3.3f    acc = %3.3f\"%(step, loss, acc))\n",
    "            if (acc > 0.8 and acc_cnt > 10) or step == 9995:\n",
    "                bert_save_as = '/home/hadoop/ERD/RDMBertTrain/BERTPreTrain.pkl'\n",
    "                torch.save(\n",
    "                    {\n",
    "                        \"bert\":bert.state_dict()\n",
    "                    },\n",
    "                    bert_save_as\n",
    "                )\n",
    "                break\n",
    "            elif acc > 0.8:\n",
    "                acc_cnt += 1\n",
    "            else:\n",
    "                acc_cnt = 0\n",
    "    except:\n",
    "        bert_save_as = '/home/hadoop/ERD/RDMBertTrain/BERTPreTrain.pkl'\n",
    "        torch.save(\n",
    "            {\n",
    "                \"bert\" : bert.state_dict()\n",
    "            },\n",
    "            bert_save_as\n",
    "        )\n",
    "        raise"
   ]
  },
  {
   "cell_type": "code",
   "execution_count": 16,
   "metadata": {},
   "outputs": [],
   "source": [
    "for x, y, l in test_reader.iter():\n",
    "    break"
   ]
  },
  {
   "cell_type": "code",
   "execution_count": 28,
   "metadata": {},
   "outputs": [
    {
     "data": {
      "text/plain": [
       "(13,\n",
       " ('I have a google addiction. Thank you for pointing that out, @annamartin123. Hahaha.',\n",
       "  4))"
      ]
     },
     "execution_count": 28,
     "metadata": {},
     "output_type": "execute_result"
    }
   ],
   "source": [
    "len(test_set[0][0].split(\" \")), test_set[0]"
   ]
  },
  {
   "cell_type": "code",
   "execution_count": 30,
   "metadata": {},
   "outputs": [],
   "source": [
    "keys = list(tokenizer.vocab.keys())"
   ]
  },
  {
   "cell_type": "code",
   "execution_count": 32,
   "metadata": {},
   "outputs": [
    {
     "data": {
      "text/plain": [
       "'[CLS]'"
      ]
     },
     "execution_count": 32,
     "metadata": {},
     "output_type": "execute_result"
    }
   ],
   "source": [
    "keys[101]"
   ]
  },
  {
   "cell_type": "code",
   "execution_count": 31,
   "metadata": {},
   "outputs": [
    {
     "data": {
      "text/plain": [
       "'[PAD]'"
      ]
     },
     "execution_count": 31,
     "metadata": {},
     "output_type": "execute_result"
    }
   ],
   "source": [
    "keys[0]"
   ]
  },
  {
   "cell_type": "code",
   "execution_count": 33,
   "metadata": {},
   "outputs": [
    {
     "data": {
      "text/plain": [
       "'[CLS] i have a google addiction . thank you for pointing that out , @ anna ##mart ##in ##12 ##3 . ha ##ha ##ha . [SEP]'"
      ]
     },
     "execution_count": 33,
     "metadata": {},
     "output_type": "execute_result"
    }
   ],
   "source": [
    "\" \".join([keys[idx] for idx in x[0]])"
   ]
  },
  {
   "cell_type": "code",
   "execution_count": 36,
   "metadata": {},
   "outputs": [
    {
     "data": {
      "text/plain": [
       "\"[CLS] impatiently awaiting the arrival of the time warner guy . it ' s way too pretty to be inside all afternoon [SEP]\""
      ]
     },
     "execution_count": 36,
     "metadata": {},
     "output_type": "execute_result"
    }
   ],
   "source": [
    "\" \".join([keys[idx] for idx in x[2]])"
   ]
  },
  {
   "cell_type": "code",
   "execution_count": 35,
   "metadata": {
    "scrolled": true
   },
   "outputs": [
    {
     "data": {
      "text/plain": [
       "(\"Impatiently awaiting the arrival of the time warner guy. It's way too pretty to be inside all afternoon\",\n",
       " 0)"
      ]
     },
     "execution_count": 35,
     "metadata": {},
     "output_type": "execute_result"
    }
   ],
   "source": [
    "test_set[2]"
   ]
  },
  {
   "cell_type": "code",
   "execution_count": 27,
   "metadata": {},
   "outputs": [
    {
     "data": {
      "text/plain": [
       "(26,\n",
       " [101,\n",
       "  1045,\n",
       "  2031,\n",
       "  1037,\n",
       "  8224,\n",
       "  13449,\n",
       "  1012,\n",
       "  4067,\n",
       "  2017,\n",
       "  2005,\n",
       "  7302,\n",
       "  2008,\n",
       "  2041,\n",
       "  1010,\n",
       "  1030,\n",
       "  4698,\n",
       "  22345,\n",
       "  2378,\n",
       "  12521,\n",
       "  2509,\n",
       "  1012,\n",
       "  5292,\n",
       "  3270,\n",
       "  3270,\n",
       "  1012,\n",
       "  102])"
      ]
     },
     "execution_count": 27,
     "metadata": {},
     "output_type": "execute_result"
    }
   ],
   "source": [
    "len(x[0]), x[0]"
   ]
  },
  {
   "cell_type": "code",
   "execution_count": 13,
   "metadata": {},
   "outputs": [],
   "source": [
    "sent_cls = nn.Linear(768, 2).cuda()"
   ]
  },
  {
   "cell_type": "code",
   "execution_count": null,
   "metadata": {},
   "outputs": [
    {
     "name": "stdout",
     "output_type": "stream",
     "text": [
      "step 0| pos_acc/pos_cnt = 0.369/ 65,                    neg_acc/neg_cnt = 0.467/ 15                     pos_pred/all_pred = 32/80\n",
      "0 | 10000   loss = 1.299    acc = 0.388\n",
      "step 1| pos_acc/pos_cnt = 1.000/131,                    neg_acc/neg_cnt = 0.000/ 14                     pos_pred/all_pred = 145/145\n",
      "1 | 10000   loss = 4.291    acc = 0.903\n",
      "step 2| pos_acc/pos_cnt = 0.000/ 59,                    neg_acc/neg_cnt = 1.000/109                     pos_pred/all_pred =  0/168\n",
      "2 | 10000   loss = 1.145    acc = 0.649\n",
      "step 3| pos_acc/pos_cnt = 0.000/ 42,                    neg_acc/neg_cnt = 1.000/ 40                     pos_pred/all_pred =  0/82\n",
      "3 | 10000   loss = 3.256    acc = 0.488\n",
      "step 4| pos_acc/pos_cnt = 1.000/100,                    neg_acc/neg_cnt = 0.000/ 23                     pos_pred/all_pred = 123/123\n",
      "4 | 10000   loss = 1.737    acc = 0.813\n",
      "step 5| pos_acc/pos_cnt = 1.000/155,                    neg_acc/neg_cnt = 0.000/ 16                     pos_pred/all_pred = 171/171\n",
      "5 | 10000   loss = 1.447    acc = 0.906\n",
      "step 6| pos_acc/pos_cnt = 1.000/112,                    neg_acc/neg_cnt = 0.000/ 30                     pos_pred/all_pred = 142/142\n",
      "6 | 10000   loss = 1.455    acc = 0.789\n",
      "step 7| pos_acc/pos_cnt = 1.000/ 29,                    neg_acc/neg_cnt = 0.000/ 34                     pos_pred/all_pred = 63/63\n",
      "7 | 10000   loss = 1.410    acc = 0.460\n",
      "step 8| pos_acc/pos_cnt = 1.000/145,                    neg_acc/neg_cnt = 0.000/ 15                     pos_pred/all_pred = 160/160\n",
      "8 | 10000   loss = 0.926    acc = 0.906\n",
      "step 9| pos_acc/pos_cnt = 1.000/ 21,                    neg_acc/neg_cnt = 0.000/ 56                     pos_pred/all_pred = 77/77\n",
      "9 | 10000   loss = 1.335    acc = 0.273\n",
      "step 10| pos_acc/pos_cnt = 1.000/110,                    neg_acc/neg_cnt = 0.000/  9                     pos_pred/all_pred = 119/119\n",
      "10 | 10000   loss = 0.815    acc = 0.924\n",
      "step 11| pos_acc/pos_cnt = 1.000/ 56,                    neg_acc/neg_cnt = 0.000/ 25                     pos_pred/all_pred = 81/81\n",
      "11 | 10000   loss = 1.181    acc = 0.691\n",
      "step 12| pos_acc/pos_cnt = 1.000/ 26,                    neg_acc/neg_cnt = 0.000/ 45                     pos_pred/all_pred = 71/71\n",
      "12 | 10000   loss = 1.269    acc = 0.366\n",
      "step 13| pos_acc/pos_cnt = 1.000/ 74,                    neg_acc/neg_cnt = 0.000/ 28                     pos_pred/all_pred = 102/102\n",
      "13 | 10000   loss = 0.987    acc = 0.725\n",
      "step 14| pos_acc/pos_cnt = 0.000/ 46,                    neg_acc/neg_cnt = 1.000/ 57                     pos_pred/all_pred =  0/103\n",
      "14 | 10000   loss = 0.903    acc = 0.553\n",
      "step 15| pos_acc/pos_cnt = 0.000/112,                    neg_acc/neg_cnt = 1.000/ 40                     pos_pred/all_pred =  0/152\n",
      "15 | 10000   loss = 1.124    acc = 0.263\n",
      "step 16| pos_acc/pos_cnt = 0.000/ 63,                    neg_acc/neg_cnt = 1.000/ 34                     pos_pred/all_pred =  0/97\n",
      "16 | 10000   loss = 1.037    acc = 0.351\n",
      "step 17| pos_acc/pos_cnt = 0.000/ 38,                    neg_acc/neg_cnt = 1.000/ 52                     pos_pred/all_pred =  0/90\n",
      "17 | 10000   loss = 0.878    acc = 0.578\n",
      "step 18| pos_acc/pos_cnt = 0.000/ 73,                    neg_acc/neg_cnt = 1.000/ 40                     pos_pred/all_pred =  0/113\n",
      "18 | 10000   loss = 0.970    acc = 0.354\n",
      "step 19| pos_acc/pos_cnt = 0.000/ 70,                    neg_acc/neg_cnt = 1.000/ 16                     pos_pred/all_pred =  0/86\n",
      "19 | 10000   loss = 1.026    acc = 0.186\n",
      "step 20| pos_acc/pos_cnt = 1.000/ 17,                    neg_acc/neg_cnt = 0.000/ 60                     pos_pred/all_pred = 77/77\n",
      "20 | 10000   loss = 1.038    acc = 0.221\n",
      "step 21| pos_acc/pos_cnt = 1.000/ 42,                    neg_acc/neg_cnt = 0.000/ 25                     pos_pred/all_pred = 67/67\n",
      "21 | 10000   loss = 0.957    acc = 0.627\n",
      "step 22| pos_acc/pos_cnt = 0.000/ 90,                    neg_acc/neg_cnt = 1.000/ 45                     pos_pred/all_pred =  0/135\n",
      "22 | 10000   loss = 0.949    acc = 0.333\n",
      "step 23| pos_acc/pos_cnt = 0.000/ 60,                    neg_acc/neg_cnt = 1.000/ 20                     pos_pred/all_pred =  0/80\n",
      "23 | 10000   loss = 0.961    acc = 0.250\n",
      "step 24| pos_acc/pos_cnt = 1.000/ 27,                    neg_acc/neg_cnt = 0.000/ 75                     pos_pred/all_pred = 102/102\n",
      "24 | 10000   loss = 0.959    acc = 0.265\n",
      "step 25| pos_acc/pos_cnt = 0.000/ 98,                    neg_acc/neg_cnt = 1.000/ 16                     pos_pred/all_pred =  0/114\n",
      "25 | 10000   loss = 1.040    acc = 0.140\n",
      "step 26| pos_acc/pos_cnt = 0.000/ 55,                    neg_acc/neg_cnt = 1.000/ 25                     pos_pred/all_pred =  0/80\n",
      "26 | 10000   loss = 0.963    acc = 0.312\n",
      "step 27| pos_acc/pos_cnt = 1.000/137,                    neg_acc/neg_cnt = 0.000/ 13                     pos_pred/all_pred = 150/150\n",
      "27 | 10000   loss = 0.900    acc = 0.913\n",
      "step 28| pos_acc/pos_cnt = 1.000/ 98,                    neg_acc/neg_cnt = 0.000/ 21                     pos_pred/all_pred = 119/119\n",
      "28 | 10000   loss = 0.830    acc = 0.824\n",
      "step 29| pos_acc/pos_cnt = 1.000/ 93,                    neg_acc/neg_cnt = 0.000/ 10                     pos_pred/all_pred = 103/103\n",
      "29 | 10000   loss = 0.657    acc = 0.903\n",
      "step 30| pos_acc/pos_cnt = 1.000/ 57,                    neg_acc/neg_cnt = 0.000/ 30                     pos_pred/all_pred = 87/87\n",
      "30 | 10000   loss = 1.354    acc = 0.655\n",
      "step 31| pos_acc/pos_cnt = 1.000/ 76,                    neg_acc/neg_cnt = 0.000/  0                     pos_pred/all_pred = 76/76\n",
      "31 | 10000   loss = 0.287    acc = 1.000\n",
      "step 32| pos_acc/pos_cnt = 1.000/103,                    neg_acc/neg_cnt = 0.000/ 20                     pos_pred/all_pred = 123/123\n",
      "32 | 10000   loss = 0.928    acc = 0.837\n",
      "step 33| pos_acc/pos_cnt = 1.000/ 37,                    neg_acc/neg_cnt = 0.000/ 29                     pos_pred/all_pred = 66/66\n",
      "33 | 10000   loss = 1.606    acc = 0.561\n",
      "step 34| pos_acc/pos_cnt = 1.000/ 48,                    neg_acc/neg_cnt = 0.000/  9                     pos_pred/all_pred = 57/57\n",
      "34 | 10000   loss = 0.795    acc = 0.842\n",
      "step 35| pos_acc/pos_cnt = 1.000/120,                    neg_acc/neg_cnt = 0.000/ 39                     pos_pred/all_pred = 159/159\n",
      "35 | 10000   loss = 0.900    acc = 0.755\n",
      "step 36| pos_acc/pos_cnt = 1.000/ 47,                    neg_acc/neg_cnt = 0.000/ 30                     pos_pred/all_pred = 77/77\n",
      "36 | 10000   loss = 0.949    acc = 0.610\n",
      "step 37| pos_acc/pos_cnt = 0.000/ 64,                    neg_acc/neg_cnt = 1.000/ 21                     pos_pred/all_pred =  0/85\n",
      "37 | 10000   loss = 1.027    acc = 0.247\n",
      "step 38| pos_acc/pos_cnt = 0.000/ 76,                    neg_acc/neg_cnt = 1.000/ 11                     pos_pred/all_pred =  0/87\n",
      "38 | 10000   loss = 1.227    acc = 0.126\n",
      "step 39| pos_acc/pos_cnt = 0.000/ 45,                    neg_acc/neg_cnt = 1.000/ 12                     pos_pred/all_pred =  0/57\n",
      "39 | 10000   loss = 1.070    acc = 0.211\n",
      "step 40| pos_acc/pos_cnt = 0.000/133,                    neg_acc/neg_cnt = 1.000/ 35                     pos_pred/all_pred =  0/168\n",
      "40 | 10000   loss = 0.949    acc = 0.208\n",
      "step 41| pos_acc/pos_cnt = 1.000/130,                    neg_acc/neg_cnt = 0.000/  0                     pos_pred/all_pred = 130/130\n",
      "41 | 10000   loss = 0.650    acc = 1.000\n"
     ]
    }
   ],
   "source": [
    "TwitterCls(bert, tokenizer, sent_cls)"
   ]
  },
  {
   "cell_type": "code",
   "execution_count": 8,
   "metadata": {},
   "outputs": [
    {
     "name": "stderr",
     "output_type": "stream",
     "text": [
      "/home/hadoop/.conda/envs/py37_torch/lib/python3.6/site-packages/torch/nn/modules/rnn.py:51: UserWarning: dropout option adds dropout after all but last recurrent layer, so non-zero dropout expects num_layers greater than 1, but got dropout=0.2 and num_layers=1\n",
      "  \"num_layers={}\".format(dropout, num_layers))\n"
     ]
    }
   ],
   "source": [
    "rdm_model = RDM_Model(768, 300, 256, 0.2)\n",
    "cm_model = CM_Model(300, 256, 2)\n",
    "rdm_model = rdm_model.cuda()\n",
    "cm_model = cm_model.cuda()\n",
    "rdm_classifier = nn.Linear(256, 2).cuda()\n",
    "cm_log_dir=\"CMBertTrain\""
   ]
  },
  {
   "cell_type": "code",
   "execution_count": 9,
   "metadata": {},
   "outputs": [],
   "source": [
    "senti_save_as = '/home/hadoop/ERD/%s/sentiModel_epoch%03d.pkl' % (\"BERTSubjObj/\", 0)\n",
    "\n",
    "checkpoint = torch.load(senti_save_as)\n",
    "\n",
    "sentiModel.load_state_dict(checkpoint['sentiModel'])\n",
    "\n",
    "bert.load_state_dict(checkpoint['bert'])\n",
    "\n",
    "rdm_logger = MyLogger(\"RDMLogger\")"
   ]
  },
  {
   "cell_type": "code",
   "execution_count": null,
   "metadata": {
    "collapsed": true
   },
   "outputs": [
    {
     "name": "stdout",
     "output_type": "stream",
     "text": [
      "step 0| pos_acc/pos_cnt = 1.000/  4,                neg_acc/neg_cnt = 0.000/  1                 pos_pred/all_pred =  5/ 5\n",
      "step 1| pos_acc/pos_cnt = 1.000/  4,                neg_acc/neg_cnt = 0.000/  1                 pos_pred/all_pred =  5/ 5\n",
      "step 2| pos_acc/pos_cnt = 0.000/  3,                neg_acc/neg_cnt = 1.000/  2                 pos_pred/all_pred =  0/ 5\n",
      "step 3| pos_acc/pos_cnt = 1.000/  3,                neg_acc/neg_cnt = 0.000/  2                 pos_pred/all_pred =  5/ 5\n",
      "step 4| pos_acc/pos_cnt = 0.000/  4,                neg_acc/neg_cnt = 1.000/  1                 pos_pred/all_pred =  0/ 5\n",
      "step 5| pos_acc/pos_cnt = 1.000/  4,                neg_acc/neg_cnt = 0.000/  1                 pos_pred/all_pred =  5/ 5\n",
      "step 6| pos_acc/pos_cnt = 1.000/  4,                neg_acc/neg_cnt = 0.000/  1                 pos_pred/all_pred =  5/ 5\n",
      "step 7| pos_acc/pos_cnt = 1.000/  2,                neg_acc/neg_cnt = 0.000/  3                 pos_pred/all_pred =  5/ 5\n",
      "step 8| pos_acc/pos_cnt = 0.000/  3,                neg_acc/neg_cnt = 1.000/  2                 pos_pred/all_pred =  0/ 5\n"
     ]
    },
    {
     "name": "stderr",
     "output_type": "stream",
     "text": [
      "INFO:RDMLogger:  9 | 1000 , train_loss/accuracy = 16.43433571/0.5400000\n"
     ]
    },
    {
     "name": "stdout",
     "output_type": "stream",
     "text": [
      "step 9| pos_acc/pos_cnt = 1.000/  1,                neg_acc/neg_cnt = 0.000/  4                 pos_pred/all_pred =  5/ 5\n",
      "  9 | 1000 , train_loss/accuracy = 16.43433571/0.5400000\n",
      "step 10| pos_acc/pos_cnt = 0.000/  4,                neg_acc/neg_cnt = 1.000/  1                 pos_pred/all_pred =  0/ 5\n",
      "step 11| pos_acc/pos_cnt = 0.000/  3,                neg_acc/neg_cnt = 1.000/  2                 pos_pred/all_pred =  0/ 5\n",
      "step 12| pos_acc/pos_cnt = 1.000/  2,                neg_acc/neg_cnt = 0.000/  3                 pos_pred/all_pred =  5/ 5\n",
      "step 13| pos_acc/pos_cnt = 0.000/  4,                neg_acc/neg_cnt = 1.000/  1                 pos_pred/all_pred =  0/ 5\n",
      "step 14| pos_acc/pos_cnt = 1.000/  2,                neg_acc/neg_cnt = 0.000/  3                 pos_pred/all_pred =  5/ 5\n",
      "step 15| pos_acc/pos_cnt = 1.000/  4,                neg_acc/neg_cnt = 0.000/  1                 pos_pred/all_pred =  5/ 5\n",
      "step 16| pos_acc/pos_cnt = 0.000/  3,                neg_acc/neg_cnt = 1.000/  2                 pos_pred/all_pred =  0/ 5\n",
      "step 17| pos_acc/pos_cnt = 1.000/  2,                neg_acc/neg_cnt = 0.000/  3                 pos_pred/all_pred =  5/ 5\n",
      "step 18| pos_acc/pos_cnt = 0.000/  3,                neg_acc/neg_cnt = 1.000/  2                 pos_pred/all_pred =  0/ 5\n"
     ]
    },
    {
     "name": "stderr",
     "output_type": "stream",
     "text": [
      "INFO:RDMLogger: 19 | 1000 , train_loss/accuracy = 13.22050190/0.4400000\n"
     ]
    },
    {
     "name": "stdout",
     "output_type": "stream",
     "text": [
      "step 19| pos_acc/pos_cnt = 1.000/  4,                neg_acc/neg_cnt = 0.000/  1                 pos_pred/all_pred =  5/ 5\n",
      " 19 | 1000 , train_loss/accuracy = 13.22050190/0.4400000\n",
      "step 20| pos_acc/pos_cnt = 1.000/  2,                neg_acc/neg_cnt = 0.000/  3                 pos_pred/all_pred =  5/ 5\n",
      "step 21| pos_acc/pos_cnt = 0.000/  3,                neg_acc/neg_cnt = 1.000/  2                 pos_pred/all_pred =  0/ 5\n",
      "step 22| pos_acc/pos_cnt = 1.000/  4,                neg_acc/neg_cnt = 0.000/  1                 pos_pred/all_pred =  5/ 5\n",
      "step 23| pos_acc/pos_cnt = 1.000/  3,                neg_acc/neg_cnt = 0.000/  2                 pos_pred/all_pred =  5/ 5\n",
      "step 24| pos_acc/pos_cnt = 0.000/  2,                neg_acc/neg_cnt = 1.000/  3                 pos_pred/all_pred =  0/ 5\n",
      "step 25| pos_acc/pos_cnt = 1.000/  4,                neg_acc/neg_cnt = 0.000/  1                 pos_pred/all_pred =  5/ 5\n",
      "step 26| pos_acc/pos_cnt = 0.000/  3,                neg_acc/neg_cnt = 1.000/  2                 pos_pred/all_pred =  0/ 5\n",
      "step 27| pos_acc/pos_cnt = 1.000/  4,                neg_acc/neg_cnt = 0.000/  1                 pos_pred/all_pred =  5/ 5\n",
      "step 28| pos_acc/pos_cnt = 1.000/  4,                neg_acc/neg_cnt = 0.000/  1                 pos_pred/all_pred =  5/ 5\n"
     ]
    },
    {
     "name": "stderr",
     "output_type": "stream",
     "text": [
      "INFO:RDMLogger: 29 | 1000 , train_loss/accuracy = 4.22784281/0.6400000\n"
     ]
    },
    {
     "name": "stdout",
     "output_type": "stream",
     "text": [
      "step 29| pos_acc/pos_cnt = 1.000/  4,                neg_acc/neg_cnt = 0.000/  1                 pos_pred/all_pred =  5/ 5\n",
      " 29 | 1000 , train_loss/accuracy = 4.22784281/0.6400000\n",
      "step 30| pos_acc/pos_cnt = 0.000/  3,                neg_acc/neg_cnt = 1.000/  2                 pos_pred/all_pred =  0/ 5\n",
      "step 31| pos_acc/pos_cnt = 1.000/  5,                neg_acc/neg_cnt = 0.000/  0                 pos_pred/all_pred =  5/ 5\n",
      "step 32| pos_acc/pos_cnt = 1.000/  4,                neg_acc/neg_cnt = 0.000/  1                 pos_pred/all_pred =  5/ 5\n",
      "step 33| pos_acc/pos_cnt = 1.000/  3,                neg_acc/neg_cnt = 0.000/  2                 pos_pred/all_pred =  5/ 5\n",
      "step 34| pos_acc/pos_cnt = 0.000/  4,                neg_acc/neg_cnt = 1.000/  1                 pos_pred/all_pred =  0/ 5\n",
      "step 35| pos_acc/pos_cnt = 1.000/  3,                neg_acc/neg_cnt = 0.000/  2                 pos_pred/all_pred =  5/ 5\n",
      "step 36| pos_acc/pos_cnt = 1.000/  3,                neg_acc/neg_cnt = 0.000/  2                 pos_pred/all_pred =  5/ 5\n",
      "step 37| pos_acc/pos_cnt = 0.000/  4,                neg_acc/neg_cnt = 1.000/  1                 pos_pred/all_pred =  0/ 5\n",
      "step 38| pos_acc/pos_cnt = 1.000/  4,                neg_acc/neg_cnt = 0.000/  1                 pos_pred/all_pred =  5/ 5\n"
     ]
    },
    {
     "name": "stderr",
     "output_type": "stream",
     "text": [
      "INFO:RDMLogger: 39 | 1000 , train_loss/accuracy = 4.74746132/0.6000000\n"
     ]
    },
    {
     "name": "stdout",
     "output_type": "stream",
     "text": [
      "step 39| pos_acc/pos_cnt = 1.000/  4,                neg_acc/neg_cnt = 0.000/  1                 pos_pred/all_pred =  5/ 5\n",
      " 39 | 1000 , train_loss/accuracy = 4.74746132/0.6000000\n",
      "step 40| pos_acc/pos_cnt = 1.000/  3,                neg_acc/neg_cnt = 0.000/  2                 pos_pred/all_pred =  5/ 5\n",
      "step 41| pos_acc/pos_cnt = 0.000/  5,                neg_acc/neg_cnt = 0.000/  0                 pos_pred/all_pred =  0/ 5\n",
      "step 42| pos_acc/pos_cnt = 1.000/  4,                neg_acc/neg_cnt = 0.000/  1                 pos_pred/all_pred =  5/ 5\n",
      "step 43| pos_acc/pos_cnt = 1.000/  4,                neg_acc/neg_cnt = 0.000/  1                 pos_pred/all_pred =  5/ 5\n",
      "step 44| pos_acc/pos_cnt = 1.000/  2,                neg_acc/neg_cnt = 0.000/  3                 pos_pred/all_pred =  5/ 5\n",
      "step 45| pos_acc/pos_cnt = 0.000/  3,                neg_acc/neg_cnt = 1.000/  2                 pos_pred/all_pred =  0/ 5\n",
      "step 46| pos_acc/pos_cnt = 1.000/  2,                neg_acc/neg_cnt = 0.000/  3                 pos_pred/all_pred =  5/ 5\n",
      "step 47| pos_acc/pos_cnt = 0.000/  4,                neg_acc/neg_cnt = 1.000/  1                 pos_pred/all_pred =  0/ 5\n",
      "step 48| pos_acc/pos_cnt = 1.000/  3,                neg_acc/neg_cnt = 0.000/  2                 pos_pred/all_pred =  5/ 5\n"
     ]
    },
    {
     "name": "stderr",
     "output_type": "stream",
     "text": [
      "INFO:RDMLogger: 49 | 1000 , train_loss/accuracy = 6.42794800/0.4800000\n"
     ]
    },
    {
     "name": "stdout",
     "output_type": "stream",
     "text": [
      "step 49| pos_acc/pos_cnt = 1.000/  3,                neg_acc/neg_cnt = 0.000/  2                 pos_pred/all_pred =  5/ 5\n",
      " 49 | 1000 , train_loss/accuracy = 6.42794800/0.4800000\n",
      "step 50| pos_acc/pos_cnt = 0.000/  4,                neg_acc/neg_cnt = 1.000/  1                 pos_pred/all_pred =  0/ 5\n",
      "step 51| pos_acc/pos_cnt = 1.000/  4,                neg_acc/neg_cnt = 0.000/  1                 pos_pred/all_pred =  5/ 5\n",
      "step 52| pos_acc/pos_cnt = 1.000/  4,                neg_acc/neg_cnt = 0.000/  1                 pos_pred/all_pred =  5/ 5\n",
      "step 53| pos_acc/pos_cnt = 1.000/  3,                neg_acc/neg_cnt = 0.000/  2                 pos_pred/all_pred =  5/ 5\n",
      "step 54| pos_acc/pos_cnt = 0.000/  1,                neg_acc/neg_cnt = 1.000/  4                 pos_pred/all_pred =  0/ 5\n",
      "step 55| pos_acc/pos_cnt = 1.000/  3,                neg_acc/neg_cnt = 0.000/  2                 pos_pred/all_pred =  5/ 5\n",
      "step 56| pos_acc/pos_cnt = 0.000/  2,                neg_acc/neg_cnt = 1.000/  3                 pos_pred/all_pred =  0/ 5\n",
      "step 57| pos_acc/pos_cnt = 1.000/  4,                neg_acc/neg_cnt = 0.000/  1                 pos_pred/all_pred =  5/ 5\n",
      "step 58| pos_acc/pos_cnt = 0.000/  4,                neg_acc/neg_cnt = 1.000/  1                 pos_pred/all_pred =  0/ 5\n"
     ]
    },
    {
     "name": "stderr",
     "output_type": "stream",
     "text": [
      "INFO:RDMLogger: 59 | 1000 , train_loss/accuracy = 2.84790516/0.6000000\n"
     ]
    },
    {
     "name": "stdout",
     "output_type": "stream",
     "text": [
      "step 59| pos_acc/pos_cnt = 1.000/  3,                neg_acc/neg_cnt = 0.000/  2                 pos_pred/all_pred =  5/ 5\n",
      " 59 | 1000 , train_loss/accuracy = 2.84790516/0.6000000\n",
      "step 60| pos_acc/pos_cnt = 1.000/  1,                neg_acc/neg_cnt = 0.000/  4                 pos_pred/all_pred =  5/ 5\n",
      "step 61| pos_acc/pos_cnt = 0.000/  2,                neg_acc/neg_cnt = 1.000/  3                 pos_pred/all_pred =  0/ 5\n",
      "step 62| pos_acc/pos_cnt = 0.000/  4,                neg_acc/neg_cnt = 1.000/  1                 pos_pred/all_pred =  0/ 5\n",
      "step 63| pos_acc/pos_cnt = 1.000/  4,                neg_acc/neg_cnt = 0.000/  1                 pos_pred/all_pred =  5/ 5\n",
      "step 64| pos_acc/pos_cnt = 1.000/  5,                neg_acc/neg_cnt = 0.000/  0                 pos_pred/all_pred =  5/ 5\n",
      "step 65| pos_acc/pos_cnt = 1.000/  3,                neg_acc/neg_cnt = 0.000/  2                 pos_pred/all_pred =  5/ 5\n",
      "step 66| pos_acc/pos_cnt = 1.000/  3,                neg_acc/neg_cnt = 0.000/  2                 pos_pred/all_pred =  5/ 5\n",
      "step 67| pos_acc/pos_cnt = 0.000/  4,                neg_acc/neg_cnt = 1.000/  1                 pos_pred/all_pred =  0/ 5\n",
      "step 68| pos_acc/pos_cnt = 1.000/  2,                neg_acc/neg_cnt = 0.000/  3                 pos_pred/all_pred =  5/ 5\n"
     ]
    },
    {
     "name": "stderr",
     "output_type": "stream",
     "text": [
      "INFO:RDMLogger: 69 | 1000 , train_loss/accuracy = 4.03304338/0.5200000\n"
     ]
    },
    {
     "name": "stdout",
     "output_type": "stream",
     "text": [
      "step 69| pos_acc/pos_cnt = 0.000/  2,                neg_acc/neg_cnt = 1.000/  3                 pos_pred/all_pred =  0/ 5\n",
      " 69 | 1000 , train_loss/accuracy = 4.03304338/0.5200000\n",
      "step 70| pos_acc/pos_cnt = 1.000/  3,                neg_acc/neg_cnt = 0.000/  2                 pos_pred/all_pred =  5/ 5\n",
      "step 71| pos_acc/pos_cnt = 0.000/  2,                neg_acc/neg_cnt = 1.000/  3                 pos_pred/all_pred =  0/ 5\n",
      "step 72| pos_acc/pos_cnt = 1.000/  4,                neg_acc/neg_cnt = 0.000/  1                 pos_pred/all_pred =  5/ 5\n",
      "step 73| pos_acc/pos_cnt = 0.000/  4,                neg_acc/neg_cnt = 1.000/  1                 pos_pred/all_pred =  0/ 5\n",
      "step 74| pos_acc/pos_cnt = 1.000/  5,                neg_acc/neg_cnt = 0.000/  0                 pos_pred/all_pred =  5/ 5\n",
      "step 75| pos_acc/pos_cnt = 1.000/  4,                neg_acc/neg_cnt = 0.000/  1                 pos_pred/all_pred =  5/ 5\n",
      "step 76| pos_acc/pos_cnt = 1.000/  1,                neg_acc/neg_cnt = 0.000/  4                 pos_pred/all_pred =  5/ 5\n",
      "step 77| pos_acc/pos_cnt = 0.000/  4,                neg_acc/neg_cnt = 1.000/  1                 pos_pred/all_pred =  0/ 5\n",
      "step 78| pos_acc/pos_cnt = 1.000/  3,                neg_acc/neg_cnt = 0.000/  2                 pos_pred/all_pred =  5/ 5\n"
     ]
    },
    {
     "name": "stderr",
     "output_type": "stream",
     "text": [
      "INFO:RDMLogger: 79 | 1000 , train_loss/accuracy = 3.61062980/0.5000000\n"
     ]
    },
    {
     "name": "stdout",
     "output_type": "stream",
     "text": [
      "step 79| pos_acc/pos_cnt = 0.000/  5,                neg_acc/neg_cnt = 0.000/  0                 pos_pred/all_pred =  0/ 5\n",
      " 79 | 1000 , train_loss/accuracy = 3.61062980/0.5000000\n",
      "step 80| pos_acc/pos_cnt = 1.000/  3,                neg_acc/neg_cnt = 0.000/  2                 pos_pred/all_pred =  5/ 5\n",
      "step 81| pos_acc/pos_cnt = 1.000/  3,                neg_acc/neg_cnt = 0.000/  2                 pos_pred/all_pred =  5/ 5\n",
      "step 82| pos_acc/pos_cnt = 0.000/  3,                neg_acc/neg_cnt = 1.000/  2                 pos_pred/all_pred =  0/ 5\n",
      "step 83| pos_acc/pos_cnt = 1.000/  1,                neg_acc/neg_cnt = 0.000/  4                 pos_pred/all_pred =  5/ 5\n",
      "step 84| pos_acc/pos_cnt = 0.000/  3,                neg_acc/neg_cnt = 1.000/  2                 pos_pred/all_pred =  0/ 5\n",
      "step 85| pos_acc/pos_cnt = 1.000/  2,                neg_acc/neg_cnt = 0.000/  3                 pos_pred/all_pred =  5/ 5\n",
      "step 86| pos_acc/pos_cnt = 0.000/  5,                neg_acc/neg_cnt = 0.000/  0                 pos_pred/all_pred =  0/ 5\n",
      "step 87| pos_acc/pos_cnt = 1.000/  2,                neg_acc/neg_cnt = 0.000/  3                 pos_pred/all_pred =  5/ 5\n",
      "step 88| pos_acc/pos_cnt = 1.000/  3,                neg_acc/neg_cnt = 0.000/  2                 pos_pred/all_pred =  5/ 5\n"
     ]
    },
    {
     "name": "stderr",
     "output_type": "stream",
     "text": [
      "INFO:RDMLogger: 89 | 1000 , train_loss/accuracy = 5.80862665/0.4000000\n"
     ]
    },
    {
     "name": "stdout",
     "output_type": "stream",
     "text": [
      "step 89| pos_acc/pos_cnt = 0.000/  3,                neg_acc/neg_cnt = 1.000/  2                 pos_pred/all_pred =  0/ 5\n",
      " 89 | 1000 , train_loss/accuracy = 5.80862665/0.4000000\n",
      "step 90| pos_acc/pos_cnt = 1.000/  5,                neg_acc/neg_cnt = 0.000/  0                 pos_pred/all_pred =  5/ 5\n",
      "step 91| pos_acc/pos_cnt = 1.000/  3,                neg_acc/neg_cnt = 0.000/  2                 pos_pred/all_pred =  5/ 5\n",
      "step 92| pos_acc/pos_cnt = 1.000/  3,                neg_acc/neg_cnt = 0.000/  2                 pos_pred/all_pred =  5/ 5\n",
      "step 93| pos_acc/pos_cnt = 0.000/  1,                neg_acc/neg_cnt = 1.000/  4                 pos_pred/all_pred =  0/ 5\n",
      "step 94| pos_acc/pos_cnt = 1.000/  5,                neg_acc/neg_cnt = 0.000/  0                 pos_pred/all_pred =  5/ 5\n",
      "step 95| pos_acc/pos_cnt = 1.000/  3,                neg_acc/neg_cnt = 0.000/  2                 pos_pred/all_pred =  5/ 5\n",
      "step 96| pos_acc/pos_cnt = 1.000/  3,                neg_acc/neg_cnt = 0.000/  2                 pos_pred/all_pred =  5/ 5\n",
      "step 97| pos_acc/pos_cnt = 0.000/  2,                neg_acc/neg_cnt = 1.000/  3                 pos_pred/all_pred =  0/ 5\n",
      "step 98| pos_acc/pos_cnt = 1.000/  3,                neg_acc/neg_cnt = 0.000/  2                 pos_pred/all_pred =  5/ 5\n"
     ]
    },
    {
     "name": "stderr",
     "output_type": "stream",
     "text": [
      "INFO:RDMLogger: 99 | 1000 , train_loss/accuracy = 1.72097528/0.7000000\n"
     ]
    },
    {
     "name": "stdout",
     "output_type": "stream",
     "text": [
      "step 99| pos_acc/pos_cnt = 0.000/  2,                neg_acc/neg_cnt = 1.000/  3                 pos_pred/all_pred =  0/ 5\n",
      " 99 | 1000 , train_loss/accuracy = 1.72097528/0.7000000\n",
      "step 100| pos_acc/pos_cnt = 1.000/  2,                neg_acc/neg_cnt = 0.000/  3                 pos_pred/all_pred =  5/ 5\n",
      "step 101| pos_acc/pos_cnt = 0.000/  1,                neg_acc/neg_cnt = 1.000/  4                 pos_pred/all_pred =  0/ 5\n",
      "step 102| pos_acc/pos_cnt = 0.000/  3,                neg_acc/neg_cnt = 1.000/  2                 pos_pred/all_pred =  0/ 5\n",
      "step 103| pos_acc/pos_cnt = 1.000/  4,                neg_acc/neg_cnt = 0.000/  1                 pos_pred/all_pred =  5/ 5\n",
      "step 104| pos_acc/pos_cnt = 1.000/  2,                neg_acc/neg_cnt = 0.000/  3                 pos_pred/all_pred =  5/ 5\n",
      "step 105| pos_acc/pos_cnt = 0.000/  4,                neg_acc/neg_cnt = 1.000/  1                 pos_pred/all_pred =  0/ 5\n",
      "step 106| pos_acc/pos_cnt = 1.000/  2,                neg_acc/neg_cnt = 0.000/  3                 pos_pred/all_pred =  5/ 5\n",
      "step 107| pos_acc/pos_cnt = 0.000/  4,                neg_acc/neg_cnt = 1.000/  1                 pos_pred/all_pred =  0/ 5\n",
      "step 108| pos_acc/pos_cnt = 1.000/  3,                neg_acc/neg_cnt = 0.000/  2                 pos_pred/all_pred =  5/ 5\n"
     ]
    },
    {
     "name": "stderr",
     "output_type": "stream",
     "text": [
      "INFO:RDMLogger:109 | 1000 , train_loss/accuracy = 3.80147719/0.5200000\n"
     ]
    },
    {
     "name": "stdout",
     "output_type": "stream",
     "text": [
      "step 109| pos_acc/pos_cnt = 1.000/  5,                neg_acc/neg_cnt = 0.000/  0                 pos_pred/all_pred =  5/ 5\n",
      "109 | 1000 , train_loss/accuracy = 3.80147719/0.5200000\n",
      "step 110| pos_acc/pos_cnt = 1.000/  3,                neg_acc/neg_cnt = 0.000/  2                 pos_pred/all_pred =  5/ 5\n",
      "step 111| pos_acc/pos_cnt = 0.000/  4,                neg_acc/neg_cnt = 1.000/  1                 pos_pred/all_pred =  0/ 5\n",
      "step 112| pos_acc/pos_cnt = 1.000/  5,                neg_acc/neg_cnt = 0.000/  0                 pos_pred/all_pred =  5/ 5\n",
      "step 113| pos_acc/pos_cnt = 1.000/  4,                neg_acc/neg_cnt = 0.000/  1                 pos_pred/all_pred =  5/ 5\n",
      "step 114| pos_acc/pos_cnt = 1.000/  3,                neg_acc/neg_cnt = 0.000/  2                 pos_pred/all_pred =  5/ 5\n",
      "step 115| pos_acc/pos_cnt = 1.000/  2,                neg_acc/neg_cnt = 0.000/  3                 pos_pred/all_pred =  5/ 5\n",
      "step 116| pos_acc/pos_cnt = 0.000/  2,                neg_acc/neg_cnt = 1.000/  3                 pos_pred/all_pred =  0/ 5\n",
      "step 117| pos_acc/pos_cnt = 1.000/  4,                neg_acc/neg_cnt = 0.000/  1                 pos_pred/all_pred =  5/ 5\n",
      "step 118| pos_acc/pos_cnt = 1.000/  3,                neg_acc/neg_cnt = 0.000/  2                 pos_pred/all_pred =  5/ 5\n"
     ]
    },
    {
     "name": "stderr",
     "output_type": "stream",
     "text": [
      "INFO:RDMLogger:119 | 1000 , train_loss/accuracy = 1.78746665/0.6000000\n"
     ]
    },
    {
     "name": "stdout",
     "output_type": "stream",
     "text": [
      "step 119| pos_acc/pos_cnt = 0.000/  3,                neg_acc/neg_cnt = 1.000/  2                 pos_pred/all_pred =  0/ 5\n",
      "119 | 1000 , train_loss/accuracy = 1.78746665/0.6000000\n",
      "step 120| pos_acc/pos_cnt = 1.000/  4,                neg_acc/neg_cnt = 0.000/  1                 pos_pred/all_pred =  5/ 5\n",
      "step 121| pos_acc/pos_cnt = 1.000/  3,                neg_acc/neg_cnt = 0.000/  2                 pos_pred/all_pred =  5/ 5\n",
      "step 122| pos_acc/pos_cnt = 0.000/  1,                neg_acc/neg_cnt = 1.000/  4                 pos_pred/all_pred =  0/ 5\n",
      "step 123| pos_acc/pos_cnt = 0.000/  4,                neg_acc/neg_cnt = 1.000/  1                 pos_pred/all_pred =  0/ 5\n",
      "step 124| pos_acc/pos_cnt = 1.000/  3,                neg_acc/neg_cnt = 0.000/  2                 pos_pred/all_pred =  5/ 5\n",
      "step 125| pos_acc/pos_cnt = 1.000/  5,                neg_acc/neg_cnt = 0.000/  0                 pos_pred/all_pred =  5/ 5\n",
      "step 126| pos_acc/pos_cnt = 1.000/  4,                neg_acc/neg_cnt = 0.000/  1                 pos_pred/all_pred =  5/ 5\n"
     ]
    }
   ],
   "source": [
    "\n",
    "TrainRDMModel(rdm_model, bert, sentiModel, rdm_classifier, \n",
    "                    tokenizer, 1000, new_data_len=[], logger=rdm_logger, \n",
    "                        log_dir=\"RDMBertTrain\")"
   ]
  },
  {
   "cell_type": "code",
   "execution_count": null,
   "metadata": {},
   "outputs": [],
   "source": []
  }
 ],
 "metadata": {
  "kernelspec": {
   "display_name": "Python 3",
   "language": "python",
   "name": "python3"
  },
  "language_info": {
   "codemirror_mode": {
    "name": "ipython",
    "version": 3
   },
   "file_extension": ".py",
   "mimetype": "text/x-python",
   "name": "python",
   "nbconvert_exporter": "python",
   "pygments_lexer": "ipython3",
   "version": "3.6.2"
  }
 },
 "nbformat": 4,
 "nbformat_minor": 2
}
